{
 "cells": [
  {
   "cell_type": "markdown",
   "metadata": {},
   "source": [
    "# Successive Wins"
   ]
  },
  {
   "cell_type": "markdown",
   "metadata": {},
   "source": [
    "- To encourage Elmer's promising tennis career, his father offers him a prize if he wins (at least) two tennis sets in a row in a three set series to be played with his father and the club champion alternately\n",
    "    - father-champion-father\n",
    "    - champion-father-champion\n",
    "- The champion is a better player than Elmer's father\n",
    "\n",
    "- *Which series should Elmer choose?*"
   ]
  },
  {
   "cell_type": "markdown",
   "metadata": {},
   "source": [
    "___\n",
    "\n",
    "let's consider, the <b>first set</b> <br>\n",
    "- father-champion-father\n",
    "\n",
    "- Since he needs to win <b>at least two games in a row</b>, the possible ways he can win the prize are:\n",
    "    1. WWW\n",
    "    2. LWW\n",
    "    3. WWL\n",
    "    \n",
    "- If we denote the probability that he beats his father as $p_{f}$ and the probability he beats champion as $p_{c}$, then the probability of winning the prize in each scenario is:\n",
    "    1. $p_{f}\\cdot p_{c}\\cdot p_{f}$\n",
    "    2. $(1-p_{f})\\cdot p_{c}\\cdot p_{f}$\n",
    "    3. $p_{f}\\cdot p_{c}\\cdot(1- p_{f})$"
   ]
  },
  {
   "cell_type": "markdown",
   "metadata": {},
   "source": [
    "- To calculate the probability that he wins the prize, we take the sum of these three probabilities\n",
    "\n",
    "$$\n",
    "P(\\text{Win Prize}) = p_{f}\\cdot p_{c}\\cdot p_{f} + (1-p_{f})\\cdot p_{c}\\cdot p_{f} + p_{f}\\cdot p_{c}\\cdot(1- p_{f}) \\\\\n",
    "= p_{f}\\cdot p_{c} [2 - p_{f}]\n",
    "$$"
   ]
  },
  {
   "cell_type": "markdown",
   "metadata": {},
   "source": [
    "___\n",
    "\n",
    "let's consider, the <b>second set</b> <br>\n",
    "- champion-father-champion\n",
    "\n",
    "- Since he needs to win <b>at least two games in a row</b>, the possible ways he can win the prize are:\n",
    "    1. WWW\n",
    "    2. LWW\n",
    "    3. WWL\n",
    "    \n",
    "- If we denote the probability that he beats his father as $p_{f}$ and the probability he beats champion as $p_{c}$, then the probability of winning the prize in each scenario is:\n",
    "\n",
    "    1. $p_{c}\\cdot p_{f}\\cdot p_{c}$\n",
    "    2. $(1-p_{c})\\cdot p_{f}\\cdot p_{c}$\n",
    "    3. $p_{c}\\cdot p_{f}\\cdot(1- p_{c})$"
   ]
  },
  {
   "cell_type": "markdown",
   "metadata": {},
   "source": [
    "- To calculate the probability that he wins the prize, we take the sum of these three probabilities\n",
    "\n",
    "$$\n",
    "P(\\text{Win Prize}) = p_{c}\\cdot p_{f}\\cdot p_{c} + (1-p_{c})\\cdot p_{f}\\cdot p_{c} + p_{c}\\cdot p_{f}\\cdot(1- p_{c}) \\\\\n",
    "= p_{f}\\cdot p_{c} [2 - p_{c}]\n",
    "$$"
   ]
  },
  {
   "cell_type": "markdown",
   "metadata": {},
   "source": [
    "- If we consider the two probability equations\n",
    "$$\n",
    "P(\\text{Win Prize in first set}) = p_{f}\\cdot p_{c} [2 - p_{f}] \\\\\n",
    "P(\\text{Win Prize in second set}) = p_{f}\\cdot p_{c} [2 - p_{c}]\n",
    "$$\n",
    "\n",
    "$p_{f} > p_{c}$, so Elmer, will choose second set."
   ]
  },
  {
   "cell_type": "markdown",
   "metadata": {},
   "source": [
    "_____\n",
    "\n",
    "- We can confirm this solution by calculating the probability for some test cases"
   ]
  },
  {
   "cell_type": "code",
   "execution_count": 1,
   "metadata": {},
   "outputs": [],
   "source": [
    "import numpy as np"
   ]
  },
  {
   "cell_type": "code",
   "execution_count": 6,
   "metadata": {},
   "outputs": [
    {
     "data": {
      "text/plain": [
       "array([0.2, 0.4, 0.6, 0.8, 1. ])"
      ]
     },
     "metadata": {},
     "output_type": "display_data"
    },
    {
     "name": "stdout",
     "output_type": "stream",
     "text": [
      "0.2\n"
     ]
    },
    {
     "data": {
      "text/plain": [
       "array([], dtype=float64)"
      ]
     },
     "metadata": {},
     "output_type": "display_data"
    },
    {
     "name": "stdout",
     "output_type": "stream",
     "text": [
      "0.4\n"
     ]
    },
    {
     "data": {
      "text/plain": [
       "array([], dtype=float64)"
      ]
     },
     "metadata": {},
     "output_type": "display_data"
    },
    {
     "name": "stdout",
     "output_type": "stream",
     "text": [
      "0.6000000000000001\n"
     ]
    },
    {
     "data": {
      "text/plain": [
       "array([0.2, 0.4])"
      ]
     },
     "metadata": {},
     "output_type": "display_data"
    },
    {
     "name": "stdout",
     "output_type": "stream",
     "text": [
      "0.8\n"
     ]
    },
    {
     "data": {
      "text/plain": [
       "array([0.2, 0.4, 0.6])"
      ]
     },
     "metadata": {},
     "output_type": "display_data"
    },
    {
     "name": "stdout",
     "output_type": "stream",
     "text": [
      "1.0\n"
     ]
    },
    {
     "data": {
      "text/plain": [
       "array([0.2, 0.4, 0.6, 0.8])"
      ]
     },
     "metadata": {},
     "output_type": "display_data"
    }
   ],
   "source": [
    "# p_f, p_c ~ p_f > p_c\n",
    "prob_comb = [(1.0, 0.0), \n",
    "             (0.9, 0.1),\n",
    "             (0.8, 0.2),\n",
    "             (0.7, 0.3),\n",
    "             (0.6, 0.4)]\n",
    "\n",
    "step = 0.1"
   ]
  },
  {
   "cell_type": "code",
   "execution_count": 14,
   "metadata": {},
   "outputs": [
    {
     "name": "stdout",
     "output_type": "stream",
     "text": [
      "p_father = 0.6, p_champion = 0.2\n",
      "Our Solution: 0.22\n",
      "Other Solution: 0.17\n",
      "True\n",
      "\n",
      "\n",
      "p_father = 0.6, p_champion = 0.4\n",
      "Our Solution: 0.38\n",
      "Other Solution: 0.34\n",
      "True\n",
      "\n",
      "\n",
      "p_father = 0.8, p_champion = 0.2\n",
      "Our Solution: 0.29\n",
      "Other Solution: 0.19\n",
      "True\n",
      "\n",
      "\n",
      "p_father = 0.8, p_champion = 0.4\n",
      "Our Solution: 0.51\n",
      "Other Solution: 0.38\n",
      "True\n",
      "\n",
      "\n",
      "p_father = 0.8, p_champion = 0.6\n",
      "Our Solution: 0.67\n",
      "Other Solution: 0.58\n",
      "True\n",
      "\n",
      "\n",
      "p_father = 1.0, p_champion = 0.2\n",
      "Our Solution: 0.36\n",
      "Other Solution: 0.2\n",
      "True\n",
      "\n",
      "\n",
      "p_father = 1.0, p_champion = 0.4\n",
      "Our Solution: 0.64\n",
      "Other Solution: 0.4\n",
      "True\n",
      "\n",
      "\n",
      "p_father = 1.0, p_champion = 0.6\n",
      "Our Solution: 0.84\n",
      "Other Solution: 0.6\n",
      "True\n",
      "\n",
      "\n",
      "p_father = 1.0, p_champion = 0.8\n",
      "Our Solution: 0.96\n",
      "Other Solution: 0.8\n",
      "True\n",
      "\n",
      "\n"
     ]
    }
   ],
   "source": [
    "step = 0.2\n",
    "\n",
    "# p_father is our probability of defeating our father\n",
    "# p_champion is our probability of defeating the champion\n",
    "\n",
    "\n",
    "for p_father in np.arange(step, 1+step, step):  \n",
    "    for p_champion in np.arange(step, p_father-step, step):\n",
    "        P_1 = round(p_champion*p_father*(2-p_champion), 2)\n",
    "        P_2 = round(p_father*p_champion*(2-p_father), 2)\n",
    "        print(\"p_father = {}, p_champion = {}\".format(round(p_father, 2), \n",
    "                                                      round(p_champion, 2)))\n",
    "        print(\"Our Solution: {}\".format(P_1))\n",
    "        print(\"Other Solution: {}\".format(P_2))\n",
    "        print(P_1 >= P_2)\n",
    "        print(\"\\n\")"
   ]
  }
 ],
 "metadata": {
  "kernelspec": {
   "display_name": "Python 3 (ipykernel)",
   "language": "python",
   "name": "python3"
  },
  "language_info": {
   "codemirror_mode": {
    "name": "ipython",
    "version": 3
   },
   "file_extension": ".py",
   "mimetype": "text/x-python",
   "name": "python",
   "nbconvert_exporter": "python",
   "pygments_lexer": "ipython3",
   "version": "3.7.4"
  }
 },
 "nbformat": 4,
 "nbformat_minor": 4
}
