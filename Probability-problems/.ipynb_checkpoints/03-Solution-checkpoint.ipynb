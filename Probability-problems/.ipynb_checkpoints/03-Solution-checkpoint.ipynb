{
 "cells": [
  {
   "cell_type": "markdown",
   "metadata": {},
   "source": [
    "# The Flippant Juror"
   ]
  },
  {
   "cell_type": "markdown",
   "metadata": {},
   "source": [
    "- A 3 man jury has 2 members each of whom independently has probability $p$ of making the correct decision, and a 3rd member who flips a coin for each decision\n",
    "- A one man jury has probability $p$ of making the correct decision\n",
    "- *Which jury has the better probability of making the correct decision?*"
   ]
  },
  {
   "cell_type": "markdown",
   "metadata": {},
   "source": [
    "_____\n",
    "\n",
    "- There are 4 ways the jury can make the correct decision\n",
    "    1. All jurors make the **correct** decision *[C,C,C]*\n",
    "    2. The first juror makes the **correct** decision (with probability $p$), the second juror makes the **incorrect** decision (with probability $1-p$), and the third juror makes the **correct** decision (with probability 0.5) *[C,I,C]*\n",
    "    3. *[C,C,I]*\n",
    "    4. *[I,C,C]*"
   ]
  },
  {
   "cell_type": "markdown",
   "metadata": {},
   "source": [
    "- The probability of each is:\n",
    "    1. $(p)(p)(0.5)$    \n",
    "    2. $(p)(1-p)(0.5)$\n",
    "    \n",
    "    3. $(p)(p)(0.5)$\n",
    "    \n",
    "    4. $(1-p)(p)(0.5)$"
   ]
  },
  {
   "cell_type": "markdown",
   "metadata": {},
   "source": [
    "- So, the total probability that they make the correct decision is equal to"
   ]
  },
  {
   "cell_type": "markdown",
   "metadata": {},
   "source": [
    "$$\n",
    "P(\\text{Correct Decision}) = 0.5 \\left (2p^{2} + 2p(1-p) \\right) = p^{2} + p(1-p) = p(p + (1-p)) = p(1) = p\n",
    "$$"
   ]
  },
  {
   "cell_type": "markdown",
   "metadata": {},
   "source": [
    "- As we can see, the two probabilities are equal"
   ]
  },
  {
   "cell_type": "markdown",
   "metadata": {},
   "source": [
    "_____\n",
    "\n",
    "- We'll pick some random values for $p$ and confirm this result"
   ]
  },
  {
   "cell_type": "code",
   "execution_count": 1,
   "metadata": {},
   "outputs": [],
   "source": [
    "import numpy as np"
   ]
  },
  {
   "cell_type": "code",
   "execution_count": 7,
   "metadata": {},
   "outputs": [
    {
     "name": "stdout",
     "output_type": "stream",
     "text": [
      "p=0.9468, P(correct)=0.946976\n",
      "p=0.4697, P(correct)=0.470003\n",
      "p=0.7266, P(correct)=0.726303\n",
      "p=0.7479, P(correct)=0.748654\n",
      "p=0.9406, P(correct)=0.940416\n",
      "p=0.5003, P(correct)=0.500291\n",
      "p=0.3353, P(correct)=0.334823\n",
      "p=0.7297, P(correct)=0.729427\n",
      "p=0.3159, P(correct)=0.316845\n",
      "p=0.3548, P(correct)=0.35481\n"
     ]
    }
   ],
   "source": [
    "n_tests = 10\n",
    "\n",
    "n_trials = 1000000\n",
    "\n",
    "for test in range(n_tests):\n",
    "    p = np.random.random()\n",
    "    correct_1 = np.random.binomial(1, p, size = n_trials)\n",
    "    correct_2 = np.random.binomial(1, p, size = n_trials)\n",
    "    correct_3 = np.random.binomial(1, 0.5, size = n_trials)\n",
    "    \n",
    "    correct = ((correct_1 + correct_2 + correct_3)>=2).astype(int)\n",
    "    \n",
    "    print('p={}, P(correct)={}'.format(round(p, 4), np.mean(correct)))"
   ]
  },
  {
   "cell_type": "markdown",
   "metadata": {},
   "source": [
    "- Ties out!"
   ]
  }
 ],
 "metadata": {
  "kernelspec": {
   "display_name": "Python 3",
   "language": "python",
   "name": "python3"
  },
  "language_info": {
   "codemirror_mode": {
    "name": "ipython",
    "version": 3
   },
   "file_extension": ".py",
   "mimetype": "text/x-python",
   "name": "python",
   "nbconvert_exporter": "python",
   "pygments_lexer": "ipython3",
   "version": "3.6.5"
  }
 },
 "nbformat": 4,
 "nbformat_minor": 2
}
