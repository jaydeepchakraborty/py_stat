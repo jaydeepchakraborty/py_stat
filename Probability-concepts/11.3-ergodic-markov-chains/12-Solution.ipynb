{
 "cells": [
  {
   "cell_type": "markdown",
   "metadata": {},
   "source": [
    "# Consider Example 11.13 (Drunkard's Walk)\n",
    "\n",
    "# Assume that if the walker reaches state 0, he turns around and returns to state 1\n",
    "\n",
    "# If he reaches state 4, he returns to state 3\n",
    "\n",
    "## a) Is this new chain ergodic?\n",
    "\n",
    "## b) Is it regular?"
   ]
  },
  {
   "cell_type": "markdown",
   "metadata": {},
   "source": [
    "_____\n",
    "\n",
    "# The transition matrix for this process is defined by:\n",
    "\n",
    "# $P = \\begin{pmatrix}0 & 1 & 0 & 0 & 0\\\\ 0.5 & 0 & 0.5 & 0 & 0\\\\ 0 & 0.5 & 0 & 0.5 & 0\\\\ 0 & 0 & 0.5 & 0 & 0.5\\\\ 0 & 0 & 0 & 1 & 0\\end{pmatrix}$"
   ]
  },
  {
   "cell_type": "markdown",
   "metadata": {},
   "source": [
    "___\n",
    "\n",
    "# a) It's clear that we can access each state from each other state, so it IS ergodic"
   ]
  },
  {
   "cell_type": "markdown",
   "metadata": {},
   "source": [
    "____\n",
    "\n",
    "# b) Since the drunkard can only step forward or backwards, there is no number of steps $n$ after which he can access *every* state\n",
    "\n",
    "## We can confirm this by taking $P^{n}$ for very large $n$ values and showing that the matrix still has zero values"
   ]
  },
  {
   "cell_type": "code",
   "execution_count": 1,
   "metadata": {
    "collapsed": true
   },
   "outputs": [],
   "source": [
    "import numpy as np"
   ]
  },
  {
   "cell_type": "code",
   "execution_count": 2,
   "metadata": {
    "collapsed": true
   },
   "outputs": [],
   "source": [
    "P = np.array([[0,1,0,0,0],[0.5,0,0.5,0,0],[0,0.5,0,0.5,0],[0,0,0.5,0,0.5],[0,0,0,1,0]])"
   ]
  },
  {
   "cell_type": "code",
   "execution_count": 5,
   "metadata": {
    "collapsed": false
   },
   "outputs": [
    {
     "name": "stdout",
     "output_type": "stream",
     "text": [
      "False\n",
      "False\n",
      "False\n",
      "False\n"
     ]
    }
   ],
   "source": [
    "for n in [100,500,1000,10000]:\n",
    "    Pn = np.linalg.matrix_power(P,n)\n",
    "    print((Pn > 0).all())"
   ]
  },
  {
   "cell_type": "markdown",
   "metadata": {},
   "source": [
    "## As we can see, there are always zero values for these transition matrices"
   ]
  }
 ],
 "metadata": {
  "kernelspec": {
   "display_name": "Python 2",
   "language": "python",
   "name": "python2"
  },
  "language_info": {
   "codemirror_mode": {
    "name": "ipython",
    "version": 2
   },
   "file_extension": ".py",
   "mimetype": "text/x-python",
   "name": "python",
   "nbconvert_exporter": "python",
   "pygments_lexer": "ipython2",
   "version": "2.7.11"
  }
 },
 "nbformat": 4,
 "nbformat_minor": 0
}
