{
 "cells": [
  {
   "cell_type": "markdown",
   "metadata": {},
   "source": [
    "# Definition\n",
    "\n",
    "# *Ergodic Markov Chains (aka Irreducible Markov Chains)*\n",
    "\n",
    "### A Markov chain is ergodic when it is possible to go from each state to any other state (not necessarily in one step)"
   ]
  },
  {
   "cell_type": "markdown",
   "metadata": {},
   "source": [
    "____\n",
    "\n",
    "# Definition\n",
    "\n",
    "# *Regular Markov Chains*\n",
    "\n",
    "### A markov chain is regular when there is some value $n$ such that every element of $P^{n}$ is positive non-zero\n",
    "\n",
    "### *What does this mean?:* since every element is positive non-zero, it means you can transition from one state to any other in $n$ steps\n",
    "\n",
    "### Therefore regular chain $\\implies$ ergodic chain"
   ]
  },
  {
   "cell_type": "markdown",
   "metadata": {},
   "source": [
    "_____\n",
    "\n",
    "## Example\n",
    "\n",
    "### Let the transition matrix of a Markov chain be defined by:\n",
    "\n",
    "# $P = \\begin{pmatrix}0 & 1\\\\ 1 & 0\\end{pmatrix}$"
   ]
  },
  {
   "cell_type": "markdown",
   "metadata": {},
   "source": [
    "### We can see that if you're in state 1, you'll transition to state 2 after the first step, then back to state 1 in the second step $\\implies P$ is ergodic"
   ]
  },
  {
   "cell_type": "markdown",
   "metadata": {},
   "source": [
    "### We note, however, that $P^{2} = \\begin{pmatrix}1 & 0\\\\ 0 & 1\\end{pmatrix}$ (which is the identity matrix\n",
    "\n",
    "### $\\implies P^{n} = \\left\\{\\begin{matrix}P & n\\text{ is odd}\\\\ I & n\\text{ is even}\\end{matrix}\\right.$"
   ]
  },
  {
   "cell_type": "markdown",
   "metadata": {},
   "source": [
    "### *What does this mean?:* since this transition matrix oscillates between the two, it'll never get rid of the 0 values and therefore will never be a regular Markov chain\n",
    "\n",
    "### Another way to think about this is that no matter how big $n$ gets, you can never take $n$ steps to *any* state (just either itself or the other state)"
   ]
  },
  {
   "cell_type": "markdown",
   "metadata": {},
   "source": [
    "_____\n",
    "\n",
    "## Example\n",
    "\n",
    "## *Ehrenfest urn model*\n",
    "\n",
    "\n",
    "### In [Example 11.8](../11.1-intro-to-markov-chains/summary-of-chapter.ipynb#11.8---Ehrenfest-Model-for-diffusion-of-gases) we had the following transition matrix:\n",
    "\n",
    "# $P = \\begin{pmatrix}0 & 1 & 0 & 0 & 0\\\\ 1/4 & 0 & 3/4 & 0 & 0\\\\ 0 & 1/2 & 0 & 1/2 & 0\\\\ 0 & 0 & 3/4 & 0 & 1/4\\\\ 0 & 0 & 0 & 1 & 0\\end{pmatrix}$"
   ]
  },
  {
   "cell_type": "markdown",
   "metadata": {},
   "source": [
    "### Looking at the Markov chain, we can see that you can transition from:\n",
    "\n",
    "- 1 to 2\n",
    "- 2 to 1 or 3\n",
    "- 3 to 2 or 4\n",
    "- 4 to 3 or 5\n",
    "- 4 to 5 or 3\n",
    "- 5 to 4\n",
    "\n",
    "### Therefore, after enough steps, you can transition from each state to any other $\\implies P$ is ergodic"
   ]
  },
  {
   "cell_type": "markdown",
   "metadata": {},
   "source": [
    "### There are a few ways to show that this process is not regular, but one way to think about it is that each step is either forward or backwards, therefore you can't go two states forward in three steps"
   ]
  },
  {
   "cell_type": "markdown",
   "metadata": {},
   "source": [
    "_____\n",
    "\n",
    "# *Regular Markov Chains*\n",
    "\n",
    "### If a transition matrix $P$ has no zeros, we know right away that it's a regular Markov chain\n",
    "\n",
    "### But a transition matrix having zero values doesn't mean it is not regular\n",
    "\n",
    "### In the Land of Oz example, $P$ has zero values, but $P^{2}$ does not"
   ]
  },
  {
   "cell_type": "markdown",
   "metadata": {},
   "source": [
    "### Absorbing Markov chains cannot be regular, since you cannot transition from the absorbing state to any other"
   ]
  },
  {
   "cell_type": "markdown",
   "metadata": {},
   "source": [
    "_____\n",
    "\n",
    "# Theorem 11.7\n",
    "\n",
    "### Let $P$ be the transition matrix for a *regular* chain\n",
    "\n",
    "### Then, as $n\\rightarrow \\infty$, the powers $P^{n}$ approach a limiting matrix $W$ where every row is the same vector $w$\n",
    "\n",
    "### The vector $w$ is a strictly positive probability vector (i.e. all values are positive and sum to 1)"
   ]
  },
  {
   "cell_type": "markdown",
   "metadata": {},
   "source": [
    "_____\n",
    "\n",
    "# Theorem 11.8\n",
    "\n",
    "### Let $P$ be a regular transition matrix, and $W = \\lim_{n\\rightarrow \\infty}P^{n}$\n",
    "\n",
    "### Let $w$ be the common row of $W$, and let $c$ be the column vector $c=\\begin{pmatrix}1\\\\ 1\\\\ ...\\\\ 1\\end{pmatrix}$\n",
    "\n",
    "### Then\n",
    "\n",
    "### a) $wP = w$ and if $vP=v$, then $v = \\alpha w$ for some constant $\\alpha$\n",
    "\n",
    "### b) $Pc = c$ and if $Px = x$ then $x = \\beta c$ for some constant $\\beta$"
   ]
  },
  {
   "cell_type": "markdown",
   "metadata": {},
   "source": [
    "______\n",
    "\n",
    "# Definition\n",
    "\n",
    "# *Fixed Vectors*\n",
    "\n",
    "### A row vector $w = [w_{1},w_{2},...,w_{n}]$ is called a *fixed row vector* if $wP = P$"
   ]
  },
  {
   "cell_type": "markdown",
   "metadata": {},
   "source": [
    "### A column vector $x = \\begin{pmatrix}x_{1}\\\\ x_{2}\\\\ ...\\\\ x_{n}\\end{pmatrix}$ is called a *fixed column vector* if $Px = x$"
   ]
  },
  {
   "cell_type": "markdown",
   "metadata": {},
   "source": [
    "____\n",
    "\n",
    "## Example\n",
    "\n",
    "### From the Land of Oz example, our transition matrix $P$ was defined as:\n",
    "\n",
    "# $P = \\begin{pmatrix}1/2 & 1/4 & 1/4\\\\ 1/2 & 0 & 1/2\\\\ 1/4 & 1/4 & 1/2\\end{pmatrix}$"
   ]
  },
  {
   "cell_type": "markdown",
   "metadata": {},
   "source": [
    "### To solve for the fixed row vector of $P$, we need to solve for $[w_{1},w_{2},w_{3}]\\begin{pmatrix}1/2 & 1/4 & 1/4\\\\ 1/2 & 0 & 1/2\\\\ 1/4 & 1/4 & 1/2\\end{pmatrix} = [w_{1},w_{2},w_{3}]$"
   ]
  },
  {
   "cell_type": "markdown",
   "metadata": {},
   "source": [
    "## $\\implies(1/2)w_{1} + (1/2)w_{2} + (1/4)w_{3} = w_{1}$"
   ]
  },
  {
   "cell_type": "markdown",
   "metadata": {},
   "source": [
    "## $\\implies(1/4)w_{1} + (1/4)w_{3} = w_{2}$"
   ]
  },
  {
   "cell_type": "markdown",
   "metadata": {},
   "source": [
    "## $\\implies (1/4)w_{1}+(1/2)w_{2}+(1/4)w_{3} = w_{3}$"
   ]
  },
  {
   "cell_type": "markdown",
   "metadata": {},
   "source": [
    "### We know that the sum of the elements of $w$ is equal to 1\n",
    "\n",
    "### $\\implies 1 = w_{1}+w_{2}+w_{3} = (5/6)w_{3} + (1/4)w_{3} + w_{3} = (25/12)w_{3}$"
   ]
  },
  {
   "cell_type": "markdown",
   "metadata": {},
   "source": [
    "### Combining these equations, we get $w = [0.4, 0.2, 0.4]$"
   ]
  },
  {
   "cell_type": "markdown",
   "metadata": {},
   "source": [
    "_____\n",
    "\n",
    "## *Alternative solution to example*"
   ]
  },
  {
   "cell_type": "markdown",
   "metadata": {},
   "source": [
    "**Set $w_{1} = 1$** $ \\implies (1/2) + (1/4)w_{2} + (1/2)w_{3}  = 1$ and $(1/4) + (1/4)w_{3} = w_{2}$\n",
    "\n",
    "$\\implies [w_{1},w_{2},w_{3}] = [1, 1/2, 1]$\n",
    "\n",
    "**These values sum to 2.5** $\\implies$ normalize the values by diving by 2.5\n",
    "\n",
    "### $\\implies w = [1/2.5, 0.4/2.5, 1/2.5] = [0.4, 0.2, 0.4]$"
   ]
  },
  {
   "cell_type": "markdown",
   "metadata": {},
   "source": [
    "_____\n",
    "\n",
    "## *Another alternative solution to example*"
   ]
  },
  {
   "cell_type": "markdown",
   "metadata": {},
   "source": [
    "### Recall: For a matrix $A$, an *eigenvector* of $A$ is a non-zero vector $v$ such that $Av = \\lambda v$ where $\\lambda$ is called the *eigenvalue*\n",
    "\n",
    "### Therefore, the fixed row vector $w$ is a left eigenvector of $P$ with eigenvalue 1\n",
    "\n",
    "# $\\implies wP = w = wI \\implies w(P-I) = 0$\n",
    "\n",
    "### This means that $w$ is in the *left nullspace* of matrix $(P-I)$"
   ]
  },
  {
   "cell_type": "markdown",
   "metadata": {},
   "source": [
    "______\n",
    "\n",
    "# Theorem 11.9\n",
    "\n",
    "### Let $P$ be the transition matrix for a regular chain and $v$ and arbitrary probability vector\n",
    "\n",
    "### Then\n",
    "\n",
    "# $\\lim_{n\\rightarrow \\infty}vP^{n} = w$\n",
    "\n",
    "### where $w$ is the fixed probability vector of $P$"
   ]
  },
  {
   "cell_type": "markdown",
   "metadata": {
    "collapsed": true
   },
   "source": [
    "### *What does this mean?:* no matter where we start in the process, the probability that we'll end up in each state is governed by $w$"
   ]
  },
  {
   "cell_type": "markdown",
   "metadata": {},
   "source": [
    "_______\n",
    "\n",
    "# *Equilibrium*"
   ]
  },
  {
   "cell_type": "markdown",
   "metadata": {},
   "source": [
    "# Theorem 11.10\n",
    "\n",
    "### For an ergodic Markov chain, there is a unique probability vector $w$ such that $wP=w$ where $w$ is strictly positive\n",
    "\n",
    "### Any row vector such that $vP=v$ is a multiple of $w$\n",
    "\n",
    "### Any column vector $x$ such that $Px = x$ is a constant vector"
   ]
  },
  {
   "cell_type": "markdown",
   "metadata": {},
   "source": [
    "______\n",
    "\n",
    "# Theorem 11.11\n",
    "\n",
    "### Let $P$ be the transition matrix for an ergodic chain\n",
    "\n",
    "### Let $A_{n}$ be the matrix of the average of $P^{i}$ for $i$ in $[0,1,2,3,...,n]$\n",
    "\n",
    "### i.e. $A_{n} = \\frac{I + P + P^{2} + ... P^{n}}{n+1}$"
   ]
  },
  {
   "cell_type": "markdown",
   "metadata": {},
   "source": [
    "### Then $A_{n}\\rightarrow W$ where each row of $W$ is equal to the fixed probability vector $w$ of $P$"
   ]
  },
  {
   "cell_type": "markdown",
   "metadata": {},
   "source": [
    "**This theorem is analogous to the Law of Large Numbers**"
   ]
  },
  {
   "cell_type": "markdown",
   "metadata": {},
   "source": [
    "_____\n",
    "\n",
    "## Example\n",
    "\n",
    "### The transition matrix for the Land of Oz example was defined as\n",
    "\n",
    "# $P = \\begin{pmatrix}1/2 & 1/4 & 1/4\\\\ 1/2 & 0 & 1/2\\\\ 1/4 & 1/4 & 1/2\\end{pmatrix}$"
   ]
  },
  {
   "cell_type": "markdown",
   "metadata": {},
   "source": [
    "### If we simulate the weather for 10000 days then take the proportion of each type of day, Theorem 11.11 $A_{100}$ should have three rows that correspond to the proportions"
   ]
  },
  {
   "cell_type": "code",
   "execution_count": 1,
   "metadata": {
    "collapsed": true
   },
   "outputs": [],
   "source": [
    "import numpy as np"
   ]
  },
  {
   "cell_type": "code",
   "execution_count": 45,
   "metadata": {
    "collapsed": true
   },
   "outputs": [],
   "source": [
    "dict_weather_arrays = {'R':[0.5, 0.25, 0.25],\n",
    "                      'N':[0.5, 0, 0.5],\n",
    "                      'S':[0.25, 0.25, 0.5]}"
   ]
  },
  {
   "cell_type": "code",
   "execution_count": 3,
   "metadata": {
    "collapsed": true
   },
   "outputs": [],
   "source": [
    "list_weather = ['R','N','S']"
   ]
  },
  {
   "cell_type": "code",
   "execution_count": 55,
   "metadata": {
    "collapsed": true
   },
   "outputs": [],
   "source": [
    "def sim_single_day(previous_day):\n",
    "    rand = np.random.random()\n",
    "    array_weather = np.cumsum(dict_weather_arrays[previous_day])\n",
    "    weather = np.searchsorted(array_weather, rand)\n",
    "    return list_weather[weather]"
   ]
  },
  {
   "cell_type": "code",
   "execution_count": 56,
   "metadata": {
    "collapsed": false
   },
   "outputs": [],
   "source": [
    "results = []\n",
    "weather = list_weather[np.random.randint(3)]\n",
    "results.append(weather)\n",
    "for trial in range(10000):\n",
    "    weather = sim_single_day(weather)\n",
    "    results.append(weather)"
   ]
  },
  {
   "cell_type": "code",
   "execution_count": 57,
   "metadata": {
    "collapsed": false
   },
   "outputs": [
    {
     "name": "stdout",
     "output_type": "stream",
     "text": [
      "R:0.3979\n",
      "N:0.1999\n",
      "S:0.4023\n"
     ]
    }
   ],
   "source": [
    "for weather in list_weather:\n",
    "    n_count = np.sum(np.array(results)==weather)\n",
    "    print('{}:{}'.format(weather, n_count/10000.0))"
   ]
  },
  {
   "cell_type": "markdown",
   "metadata": {},
   "source": [
    "### Recall: we showed that $P^{6} = \\begin{pmatrix}0.4 & 0.2 & 0.4\\\\ 0.4 & 0.2 & 0.4\\\\ 0.4 & 0.2 & 0.4\\end{pmatrix}$"
   ]
  },
  {
   "cell_type": "markdown",
   "metadata": {},
   "source": [
    "### So, as we can see, the proportions convege to these values"
   ]
  }
 ],
 "metadata": {
  "kernelspec": {
   "display_name": "Python 2",
   "language": "python",
   "name": "python2"
  },
  "language_info": {
   "codemirror_mode": {
    "name": "ipython",
    "version": 2
   },
   "file_extension": ".py",
   "mimetype": "text/x-python",
   "name": "python",
   "nbconvert_exporter": "python",
   "pygments_lexer": "ipython2",
   "version": "2.7.11"
  }
 },
 "nbformat": 4,
 "nbformat_minor": 0
}
