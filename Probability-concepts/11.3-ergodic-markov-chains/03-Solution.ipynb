{
 "cells": [
  {
   "cell_type": "markdown",
   "metadata": {},
   "source": [
    "# Consider the Markov chain with general 2x2 transition matrix\n",
    "\n",
    "# $P = \\begin{pmatrix}1-a & a\\\\ b & 1-b\\end{pmatrix}$"
   ]
  },
  {
   "cell_type": "markdown",
   "metadata": {},
   "source": [
    "## a) Under what conditions is $P$ absorbing?"
   ]
  },
  {
   "cell_type": "markdown",
   "metadata": {},
   "source": [
    "## b) Under what conditions is $P$ ergodic but not regular?"
   ]
  },
  {
   "cell_type": "markdown",
   "metadata": {},
   "source": [
    "## c) Under what conditions is $P$ regular?"
   ]
  },
  {
   "cell_type": "markdown",
   "metadata": {},
   "source": [
    "_____\n",
    "\n",
    "# a)\n",
    "\n",
    "# $P$ becomes an absorbing matrix if $(1-a)=1$ and/or if $(1-b)=1 \\implies a=0$ or $b=0$"
   ]
  },
  {
   "cell_type": "markdown",
   "metadata": {},
   "source": [
    "____\n",
    "\n",
    "# b)\n",
    "\n",
    "# Recall: we know already that $\\begin{pmatrix}0 & 1\\\\ 1 & 0\\end{pmatrix}$ is ergodic but not regular"
   ]
  },
  {
   "cell_type": "markdown",
   "metadata": {},
   "source": [
    "_____\n",
    "\n",
    "# c)\n",
    "\n",
    "# For $P$ to be regular, the condition is $a>0$ and $b>0$"
   ]
  }
 ],
 "metadata": {
  "kernelspec": {
   "display_name": "Python 2",
   "language": "python",
   "name": "python2"
  },
  "language_info": {
   "codemirror_mode": {
    "name": "ipython",
    "version": 2
   },
   "file_extension": ".py",
   "mimetype": "text/x-python",
   "name": "python",
   "nbconvert_exporter": "python",
   "pygments_lexer": "ipython2",
   "version": "2.7.11"
  }
 },
 "nbformat": 4,
 "nbformat_minor": 0
}
