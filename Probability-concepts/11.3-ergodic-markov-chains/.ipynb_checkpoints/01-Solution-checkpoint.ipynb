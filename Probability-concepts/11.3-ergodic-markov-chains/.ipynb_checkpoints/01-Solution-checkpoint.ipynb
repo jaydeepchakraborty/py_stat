{
 "cells": [
  {
   "cell_type": "markdown",
   "metadata": {},
   "source": [
    "# Which of the following matrices are transition matrices for regular Markov chains?\n",
    "\n",
    "## a) $P = \\begin{pmatrix}0.5 & 0.5\\\\ 0.5 & 0.5\\end{pmatrix}$"
   ]
  },
  {
   "cell_type": "markdown",
   "metadata": {},
   "source": [
    "## b) $P = \\begin{pmatrix}0.5 & 0.5\\\\ 1 & 0\\end{pmatrix}$"
   ]
  },
  {
   "cell_type": "markdown",
   "metadata": {},
   "source": [
    "## c) $P = \\begin{pmatrix}1/3 & 0 & 2/3\\\\ 0 & 1/2 & 1/2\\\\ 1/3 & 1/3 & 1/3\\end{pmatrix}$"
   ]
  },
  {
   "cell_type": "markdown",
   "metadata": {},
   "source": [
    "## d) $P = \\begin{pmatrix}0 & 1\\\\ 1 & 0\\end{pmatrix}$"
   ]
  },
  {
   "cell_type": "markdown",
   "metadata": {},
   "source": [
    "## e) $P = \\begin{pmatrix}1/2 & 1/2 & 0\\\\ 0 & 1/2 & 1/2\\\\ 1/3 & 1/3 & 1/3\\end{pmatrix}$"
   ]
  },
  {
   "cell_type": "markdown",
   "metadata": {},
   "source": [
    "_____\n",
    "\n",
    "# a)\n",
    "\n",
    "### Since all values in the matrix $P$ are greater than zero, we already know it's regular"
   ]
  },
  {
   "cell_type": "markdown",
   "metadata": {},
   "source": [
    "_____\n",
    "\n",
    "# b)\n",
    "\n",
    "### Starting in state 1, if we go one step forward, we can end up in either state 1 or 2\n",
    "\n",
    "### Starting in state 2, if we go one step forward, we can ONLY end up in state 1\n",
    "\n",
    "### But if we start in state 2 and go two steps forward, we can end up in either state 1 or 2\n",
    "\n",
    "# Therefore, when $n\\geq 2$, all elements of $P^{n}$ are greater than zero $\\implies P$ is regular"
   ]
  },
  {
   "cell_type": "markdown",
   "metadata": {},
   "source": [
    "**We can confirm this by calculating $P^{2}$**"
   ]
  },
  {
   "cell_type": "code",
   "execution_count": 1,
   "metadata": {
    "collapsed": true
   },
   "outputs": [],
   "source": [
    "import numpy as np"
   ]
  },
  {
   "cell_type": "code",
   "execution_count": 2,
   "metadata": {
    "collapsed": true
   },
   "outputs": [],
   "source": [
    "P = np.array([[0.5,0.5],[1,0]])\n",
    "P2 = np.linalg.matrix_power(P,2)"
   ]
  },
  {
   "cell_type": "code",
   "execution_count": 3,
   "metadata": {
    "collapsed": false
   },
   "outputs": [
    {
     "data": {
      "text/plain": [
       "array([[ 0.75,  0.25],\n",
       "       [ 0.5 ,  0.5 ]])"
      ]
     },
     "execution_count": 3,
     "metadata": {},
     "output_type": "execute_result"
    }
   ],
   "source": [
    "P2"
   ]
  },
  {
   "cell_type": "markdown",
   "metadata": {},
   "source": [
    "### All values are greater than zero"
   ]
  },
  {
   "cell_type": "markdown",
   "metadata": {},
   "source": [
    "_____\n",
    "\n",
    "# c)\n",
    "\n",
    "### Just looking at the matrix, we can see that if we take three steps from any starting state, we can transition to any other state\n",
    "\n",
    "### We can confirm this by calculating $P^{3}$"
   ]
  },
  {
   "cell_type": "code",
   "execution_count": 4,
   "metadata": {
    "collapsed": true
   },
   "outputs": [],
   "source": [
    "P = np.array([[1/3.0,0,2/3.0],[0, 0.5, 0.5],[1/3.0,1/3.0,1/3.0]])\n",
    "P3 = np.linalg.matrix_power(P,3)"
   ]
  },
  {
   "cell_type": "code",
   "execution_count": 5,
   "metadata": {
    "collapsed": false
   },
   "outputs": [
    {
     "data": {
      "text/plain": [
       "array([[ 0.25925926,  0.25925926,  0.48148148],\n",
       "       [ 0.19444444,  0.34722222,  0.45833333],\n",
       "       [ 0.24074074,  0.30555556,  0.4537037 ]])"
      ]
     },
     "execution_count": 5,
     "metadata": {},
     "output_type": "execute_result"
    }
   ],
   "source": [
    "P3"
   ]
  },
  {
   "cell_type": "markdown",
   "metadata": {},
   "source": [
    "### All values are greater than 0 $\\implies P$ is regular"
   ]
  },
  {
   "cell_type": "markdown",
   "metadata": {},
   "source": [
    "____\n",
    "\n",
    "# d)\n",
    "\n",
    "### We already saw from the examples that this Markov chain is ergodic but not regular"
   ]
  },
  {
   "cell_type": "markdown",
   "metadata": {},
   "source": [
    "_____\n",
    "\n",
    "# e)\n",
    "\n",
    "### By observation, we can see that $P^{2}$ will have values all greater than 0"
   ]
  },
  {
   "cell_type": "code",
   "execution_count": 6,
   "metadata": {
    "collapsed": true
   },
   "outputs": [],
   "source": [
    "P = np.array([[0.5,0.5,0],[0, 0.5, 0.5],[1/3.0,1/3.0,1/3.0]])\n",
    "P2 = np.linalg.matrix_power(P,2)"
   ]
  },
  {
   "cell_type": "code",
   "execution_count": 7,
   "metadata": {
    "collapsed": false
   },
   "outputs": [
    {
     "data": {
      "text/plain": [
       "array([[ 0.25      ,  0.5       ,  0.25      ],\n",
       "       [ 0.16666667,  0.41666667,  0.41666667],\n",
       "       [ 0.27777778,  0.44444444,  0.27777778]])"
      ]
     },
     "execution_count": 7,
     "metadata": {},
     "output_type": "execute_result"
    }
   ],
   "source": [
    "P2"
   ]
  }
 ],
 "metadata": {
  "kernelspec": {
   "display_name": "Python 2",
   "language": "python",
   "name": "python2"
  },
  "language_info": {
   "codemirror_mode": {
    "name": "ipython",
    "version": 2
   },
   "file_extension": ".py",
   "mimetype": "text/x-python",
   "name": "python",
   "nbconvert_exporter": "python",
   "pygments_lexer": "ipython2",
   "version": "2.7.11"
  }
 },
 "nbformat": 4,
 "nbformat_minor": 0
}
