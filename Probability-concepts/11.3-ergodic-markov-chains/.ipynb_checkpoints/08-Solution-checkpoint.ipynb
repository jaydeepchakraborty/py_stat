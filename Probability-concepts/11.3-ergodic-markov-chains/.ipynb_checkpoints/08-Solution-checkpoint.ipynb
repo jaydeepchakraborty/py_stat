{
 "cells": [
  {
   "cell_type": "markdown",
   "metadata": {},
   "source": [
    "# Show that the matrix\n",
    "\n",
    "# $P = \\begin{pmatrix}1 & 0 & 0\\\\ 1/4 & 1/2 & 1/4\\\\ 0 & 0 & 1\\end{pmatrix}$"
   ]
  },
  {
   "cell_type": "markdown",
   "metadata": {},
   "source": [
    "# has more than one fixed probability vector"
   ]
  },
  {
   "cell_type": "markdown",
   "metadata": {},
   "source": [
    "# Find the matrix that $P^{n}$ approaches as $n\\rightarrow \\infty$ and verify that it is not a  matrix with identical columns"
   ]
  },
  {
   "cell_type": "markdown",
   "metadata": {},
   "source": [
    "______\n",
    "\n",
    "# $[w_{1},w_{2},w_{3}]\\begin{pmatrix}1 & 0 & 0\\\\ 1/4 & 1/2 & 1/4\\\\ 0 & 0 & 1\\end{pmatrix} = [w_{1},w_{2},w_{3}]$"
   ]
  },
  {
   "cell_type": "markdown",
   "metadata": {},
   "source": [
    "# This gives us the equations:\n",
    "\n",
    "# (1): $w_{1} + (1/4)w_{2} = w_{1}$\n",
    "\n",
    "# (2): $(1/2)w_{2} = w_{2} \\implies w_{2} = 0$\n",
    "\n",
    "# (3): $(1/4)w_{2} + w_{3} = w_{3}$"
   ]
  },
  {
   "cell_type": "markdown",
   "metadata": {},
   "source": [
    "# Combining these, we just get $w_{1}=w_{1}$ and $w_{3}=w_{3}$"
   ]
  },
  {
   "cell_type": "markdown",
   "metadata": {},
   "source": [
    "# Our other restriction is that $w_{1}+w_{2}+w_{3}=1\\implies w_{1}+w_{3}=1$"
   ]
  },
  {
   "cell_type": "markdown",
   "metadata": {},
   "source": [
    "# $\\implies$ we can pick some value $0\\leq w_{1} \\leq 1$ then set $w_{3}=1-w_{1}$ and this satisfies our condition"
   ]
  },
  {
   "cell_type": "markdown",
   "metadata": {},
   "source": [
    "### We can show this by programmatically defining $w$ then testing to show that $wP = w$"
   ]
  },
  {
   "cell_type": "code",
   "execution_count": 1,
   "metadata": {
    "collapsed": true
   },
   "outputs": [],
   "source": [
    "import numpy as np"
   ]
  },
  {
   "cell_type": "code",
   "execution_count": 7,
   "metadata": {
    "collapsed": false
   },
   "outputs": [],
   "source": [
    "P = np.array([[1,0,0],[0.25,0.5,0.25],[0,0,1]])"
   ]
  },
  {
   "cell_type": "code",
   "execution_count": 13,
   "metadata": {
    "collapsed": false
   },
   "outputs": [
    {
     "name": "stdout",
     "output_type": "stream",
     "text": [
      "('w = [ 0.  0.  1.], wP = [ 0.  0.  1.]', True)\n",
      "('w = [ 0.1  0.   0.9], wP = [ 0.1  0.   0.9]', True)\n",
      "('w = [ 0.2  0.   0.8], wP = [ 0.2  0.   0.8]', True)\n",
      "('w = [ 0.3  0.   0.7], wP = [ 0.3  0.   0.7]', True)\n",
      "('w = [ 0.4  0.   0.6], wP = [ 0.4  0.   0.6]', True)\n",
      "('w = [ 0.5  0.   0.5], wP = [ 0.5  0.   0.5]', True)\n",
      "('w = [ 0.6  0.   0.4], wP = [ 0.6  0.   0.4]', True)\n",
      "('w = [ 0.7  0.   0.3], wP = [ 0.7  0.   0.3]', True)\n",
      "('w = [ 0.8  0.   0.2], wP = [ 0.8  0.   0.2]', True)\n",
      "('w = [ 0.9  0.   0.1], wP = [ 0.9  0.   0.1]', True)\n"
     ]
    }
   ],
   "source": [
    "for w_1 in np.arange(0,1, 0.1):\n",
    "    w_3 = 1-w_1\n",
    "    w = np.array([w_1,0,w_3])\n",
    "    wP = np.matmul(w,P)\n",
    "    print('w = {}, wP = {}'.format(w,wP), (w==wP).all())"
   ]
  },
  {
   "cell_type": "markdown",
   "metadata": {},
   "source": [
    "**As we can see, they all hold**"
   ]
  },
  {
   "cell_type": "markdown",
   "metadata": {},
   "source": [
    "# Instead of calculating this by hand, we can just use numpy to calculate $P^{100}$"
   ]
  },
  {
   "cell_type": "code",
   "execution_count": 23,
   "metadata": {
    "collapsed": true
   },
   "outputs": [],
   "source": [
    "P100 = np.linalg.matrix_power(P, 100)"
   ]
  },
  {
   "cell_type": "code",
   "execution_count": 24,
   "metadata": {
    "collapsed": false
   },
   "outputs": [
    {
     "data": {
      "text/plain": [
       "array([[ 1. ,  0. ,  0. ],\n",
       "       [ 0.5,  0. ,  0.5],\n",
       "       [ 0. ,  0. ,  1. ]])"
      ]
     },
     "execution_count": 24,
     "metadata": {},
     "output_type": "execute_result"
    }
   ],
   "source": [
    "np.round(P100, 2)"
   ]
  },
  {
   "cell_type": "markdown",
   "metadata": {},
   "source": [
    "# As we can see $P^{n} \\rightarrow \\begin{pmatrix}1 & 0 & 0\\\\ 0.5 & 0 & 0.5\\\\ 0 & 0 & 1\\end{pmatrix}$ as $n\\rightarrow \\infty$"
   ]
  }
 ],
 "metadata": {
  "kernelspec": {
   "display_name": "Python 2",
   "language": "python",
   "name": "python2"
  },
  "language_info": {
   "codemirror_mode": {
    "name": "ipython",
    "version": 2
   },
   "file_extension": ".py",
   "mimetype": "text/x-python",
   "name": "python",
   "nbconvert_exporter": "python",
   "pygments_lexer": "ipython2",
   "version": "2.7.11"
  }
 },
 "nbformat": 4,
 "nbformat_minor": 0
}
