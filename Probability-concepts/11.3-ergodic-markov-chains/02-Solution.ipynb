{
 "cells": [
  {
   "cell_type": "markdown",
   "metadata": {},
   "source": [
    "# Consider the Markov chain with transition matrix\n",
    "\n",
    "# $P = \\begin{pmatrix}1/2 & 1/3 & 1/6\\\\ 3/4 & 0 & 1/4\\\\ 0 & 1 & 0\\end{pmatrix}$"
   ]
  },
  {
   "cell_type": "markdown",
   "metadata": {},
   "source": [
    "## a) Show that this is a regular Markov chain"
   ]
  },
  {
   "cell_type": "markdown",
   "metadata": {},
   "source": [
    "## b) The process is started in state 1; find the probability that it is in state 3 after two steps"
   ]
  },
  {
   "cell_type": "markdown",
   "metadata": {},
   "source": [
    "## c) Find the limiting probability vector $w$"
   ]
  },
  {
   "cell_type": "markdown",
   "metadata": {},
   "source": [
    "_____\n",
    "\n",
    "# a)\n",
    "\n",
    "## By observation, we can see that in 3 steps we can transition from each state to all others\n",
    "\n",
    "## We can confirm this by showing that every value in the matrix $P^{3}$ is greater than zero"
   ]
  },
  {
   "cell_type": "code",
   "execution_count": 1,
   "metadata": {
    "collapsed": true
   },
   "outputs": [],
   "source": [
    "import numpy as np"
   ]
  },
  {
   "cell_type": "code",
   "execution_count": 2,
   "metadata": {
    "collapsed": true
   },
   "outputs": [],
   "source": [
    "P = np.array([[1/2.0, 1/3.0, 1/6.0],[3/4.0, 0, 1/4.0], [0, 1, 0]])"
   ]
  },
  {
   "cell_type": "code",
   "execution_count": 12,
   "metadata": {
    "collapsed": true
   },
   "outputs": [],
   "source": [
    "P3 = np.linalg.matrix_power(P,3)"
   ]
  },
  {
   "cell_type": "code",
   "execution_count": 13,
   "metadata": {
    "collapsed": false
   },
   "outputs": [
    {
     "data": {
      "text/plain": [
       "array([[ 0.5       ,  0.33333333,  0.16666667],\n",
       "       [ 0.5625    ,  0.25      ,  0.1875    ],\n",
       "       [ 0.375     ,  0.5       ,  0.125     ]])"
      ]
     },
     "execution_count": 13,
     "metadata": {},
     "output_type": "execute_result"
    }
   ],
   "source": [
    "P3"
   ]
  },
  {
   "cell_type": "markdown",
   "metadata": {},
   "source": [
    "# $P^{3} = \\begin{pmatrix}0.5 & 0.33333333 & 0.16666667\\\\ 0.5625 & 0.25 & 0.1875\\\\ 0.375 & 0.5 & 0.125\\end{pmatrix}$"
   ]
  },
  {
   "cell_type": "markdown",
   "metadata": {},
   "source": [
    "# $\\implies P$ is regular"
   ]
  },
  {
   "cell_type": "markdown",
   "metadata": {},
   "source": [
    "____\n",
    "\n",
    "# b)\n",
    "\n",
    "## To solve for this probability, we just calculate $P^{2}$ and pick the value in the third column"
   ]
  },
  {
   "cell_type": "code",
   "execution_count": 14,
   "metadata": {
    "collapsed": true
   },
   "outputs": [],
   "source": [
    "P2 = np.linalg.matrix_power(P,2)"
   ]
  },
  {
   "cell_type": "code",
   "execution_count": 15,
   "metadata": {
    "collapsed": false
   },
   "outputs": [
    {
     "data": {
      "text/plain": [
       "array([[ 0.5       ,  0.33333333,  0.16666667],\n",
       "       [ 0.375     ,  0.5       ,  0.125     ],\n",
       "       [ 0.75      ,  0.        ,  0.25      ]])"
      ]
     },
     "execution_count": 15,
     "metadata": {},
     "output_type": "execute_result"
    }
   ],
   "source": [
    "P2"
   ]
  },
  {
   "cell_type": "markdown",
   "metadata": {},
   "source": [
    "# $P^{2} = \\begin{pmatrix}0.5 & 0.33333333 & 0.16666667\\\\ 0.0.375 & 0.5 & 0.125\\\\ 0.75 & 0 & 0.25\\end{pmatrix}$"
   ]
  },
  {
   "cell_type": "markdown",
   "metadata": {},
   "source": [
    "## Therefore, this probability is $\\frac{1}{6}$"
   ]
  },
  {
   "cell_type": "markdown",
   "metadata": {},
   "source": [
    "_____\n",
    "\n",
    "# c)\n",
    "\n",
    "# We need to find $w$ such that $wP = w$\n",
    "\n",
    "# $\\implies [w_{1}, w_{2}, w_{3}]\\begin{pmatrix}1/2 & 1/3 & 1/6\\\\ 3/4 & 0 & 1/4\\\\ 0 & 1 & 0\\end{pmatrix} = [w_{1}, w_{2}, w_{3}]$"
   ]
  },
  {
   "cell_type": "markdown",
   "metadata": {},
   "source": [
    "### We expand this matrix multiplication to get three equations"
   ]
  },
  {
   "cell_type": "markdown",
   "metadata": {},
   "source": [
    "### (1): $(1/2)w_{1}+(3/4)w_{2} = w_{1}$\n",
    "\n",
    "### (2): $(1/3)w_{1}+w_{3} = w_{2}$\n",
    "\n",
    "### (3): $(1/6)w_{1}+(1/4)w_{2} = w_{3}$"
   ]
  },
  {
   "cell_type": "markdown",
   "metadata": {},
   "source": [
    "## Now, set $w_{1}=1$, we get:\n",
    "\n",
    "### (1): $(1/2)+(3/4)w_{2} = 1 \\implies w_{2} = 2/3$\n",
    "\n",
    "### (2): $(1/3)+w_{3} = w_{2} \\implies w_{3} = 1/3$\n",
    "\n",
    "### (3): $(1/6)+(1/4)w_{2} = w_{3}$ (we don't need this one)"
   ]
  },
  {
   "cell_type": "markdown",
   "metadata": {},
   "source": [
    "### So $w^{*} = [1, 2/3, 1/3] \\implies sum(w^{*}) = 2$"
   ]
  },
  {
   "cell_type": "markdown",
   "metadata": {},
   "source": [
    "### Dividing $w^{*}$ by 2 gives $w = [1/2, 1/3, 1/6]$"
   ]
  },
  {
   "cell_type": "markdown",
   "metadata": {},
   "source": [
    "# Therefore $w = [1/2, 1/3, 1/6]$"
   ]
  }
 ],
 "metadata": {
  "kernelspec": {
   "display_name": "Python 2",
   "language": "python",
   "name": "python2"
  },
  "language_info": {
   "codemirror_mode": {
    "name": "ipython",
    "version": 2
   },
   "file_extension": ".py",
   "mimetype": "text/x-python",
   "name": "python",
   "nbconvert_exporter": "python",
   "pygments_lexer": "ipython2",
   "version": "2.7.11"
  }
 },
 "nbformat": 4,
 "nbformat_minor": 0
}
