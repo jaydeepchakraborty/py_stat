{
 "cells": [
  {
   "cell_type": "markdown",
   "metadata": {},
   "source": [
    "# Find the fixed probability vector $w$ for each of the following regular matrices"
   ]
  },
  {
   "cell_type": "markdown",
   "metadata": {},
   "source": [
    "## a) $P = \\begin{pmatrix}0.75 & 0.25\\\\ 0.5 & 0.5\\end{pmatrix}$"
   ]
  },
  {
   "cell_type": "markdown",
   "metadata": {},
   "source": [
    "## b) $P = \\begin{pmatrix}0.9 & 0.1\\\\ 0.1 & 0.9\\end{pmatrix}$"
   ]
  },
  {
   "cell_type": "markdown",
   "metadata": {},
   "source": [
    "# c) $P = \\begin{pmatrix}3/4 & 1/4 & 0\\\\ 0 & 2/3 & 1/3\\\\ 1/4 & 1/4 & 1/2\\end{pmatrix}$"
   ]
  },
  {
   "cell_type": "markdown",
   "metadata": {},
   "source": [
    "____\n",
    "\n",
    "# a)\n",
    "\n",
    "# $[w_{1}, w_{2}]\\begin{pmatrix}0.75 & 0.25\\\\ 0.5 & 0.5\\end{pmatrix} = [w_{1}, w_{2}]$"
   ]
  },
  {
   "cell_type": "markdown",
   "metadata": {},
   "source": [
    "# $\\implies 0.75w_{1}+0.5w_{2}=w_{1}$\n",
    "\n",
    "# $\\implies 0.25w_{1}+0.5w_{2}=w_{2}$"
   ]
  },
  {
   "cell_type": "markdown",
   "metadata": {},
   "source": [
    "**Set $w_{1}=1$**"
   ]
  },
  {
   "cell_type": "markdown",
   "metadata": {},
   "source": [
    "# $\\implies 0.75+0.5w_{2}=1 \\implies w_{2} = 0.5$\n",
    "\n",
    "# $\\implies w^{*} = [1, 0.5]$"
   ]
  },
  {
   "cell_type": "markdown",
   "metadata": {},
   "source": [
    "**Divide $w^{*}$ by 1.5**"
   ]
  },
  {
   "cell_type": "markdown",
   "metadata": {},
   "source": [
    "# $\\implies w = [2/3, 1/3]$"
   ]
  },
  {
   "cell_type": "markdown",
   "metadata": {},
   "source": [
    "_____\n",
    "\n",
    "# b)"
   ]
  },
  {
   "cell_type": "markdown",
   "metadata": {},
   "source": [
    "# $[w_{1}, w_{2}]\\begin{pmatrix}0.9 & 0.1\\\\ 0.1 & 0.9\\end{pmatrix} = [w_{1}, w_{2}]$"
   ]
  },
  {
   "cell_type": "markdown",
   "metadata": {},
   "source": [
    "# $\\implies 0.9w_{1}+0.1w_{2}=w_{1}$\n",
    "\n",
    "# $\\implies 0.1w_{1}+0.9w_{2}=w_{2}$"
   ]
  },
  {
   "cell_type": "markdown",
   "metadata": {},
   "source": [
    "**Set $w_{1}=1$**"
   ]
  },
  {
   "cell_type": "markdown",
   "metadata": {},
   "source": [
    "# $\\implies 0.9+0.1w_{2}=1 \\implies w_{2} = 1$"
   ]
  },
  {
   "cell_type": "markdown",
   "metadata": {},
   "source": [
    "# $\\implies w^{*} = [1,1]$"
   ]
  },
  {
   "cell_type": "markdown",
   "metadata": {},
   "source": [
    "**Divide $w^{*}$ by 2**"
   ]
  },
  {
   "cell_type": "markdown",
   "metadata": {},
   "source": [
    "# $\\implies w = [0.5, 0.5]$"
   ]
  },
  {
   "cell_type": "markdown",
   "metadata": {},
   "source": [
    "___\n",
    "\n",
    "# c)"
   ]
  },
  {
   "cell_type": "markdown",
   "metadata": {},
   "source": [
    "# $[w_{1}, w_{2}, w_{3}]\\begin{pmatrix}3/4 & 1/4 & 0\\\\ 0 & 2/3 & 1/3\\\\ 1/4 & 1/4 & 1/2\\end{pmatrix} = [w_{1}, w_{2}, w_{3}]$"
   ]
  },
  {
   "cell_type": "markdown",
   "metadata": {},
   "source": [
    "# $\\implies (3/4)w_{1}+(1/4)w_{3} = w_{1}$\n",
    "\n",
    "# $\\implies (1/4)w_{1}+(2/3)w_{2}+(1/4)w_{3} = w_{2}$\n",
    "\n",
    "# $\\implies (1/3)w_{2}+(1/2)w_{3} = w_{3}$"
   ]
  },
  {
   "cell_type": "markdown",
   "metadata": {},
   "source": [
    "**Set $w_{1}=1$**"
   ]
  },
  {
   "cell_type": "markdown",
   "metadata": {},
   "source": [
    "# $\\implies(3/4)+(1/4)w_{3}=1 \\implies w_{3} = 1$"
   ]
  },
  {
   "cell_type": "markdown",
   "metadata": {},
   "source": [
    "# $\\implies (1/4)+(2/3)w_{2}+(1/4) = w_{2} \\implies w_{2}=3/2$"
   ]
  },
  {
   "cell_type": "markdown",
   "metadata": {},
   "source": [
    "# $\\implies w^{*} = [1,3/2,1]$"
   ]
  },
  {
   "cell_type": "markdown",
   "metadata": {},
   "source": [
    "**Divide $w^{*}$ by 7/2**"
   ]
  },
  {
   "cell_type": "markdown",
   "metadata": {},
   "source": [
    "# $\\implies w = [2/7,3/7,2/7]$"
   ]
  }
 ],
 "metadata": {
  "kernelspec": {
   "display_name": "Python 2",
   "language": "python",
   "name": "python2"
  },
  "language_info": {
   "codemirror_mode": {
    "name": "ipython",
    "version": 2
   },
   "file_extension": ".py",
   "mimetype": "text/x-python",
   "name": "python",
   "nbconvert_exporter": "python",
   "pygments_lexer": "ipython2",
   "version": "2.7.11"
  }
 },
 "nbformat": 4,
 "nbformat_minor": 0
}
