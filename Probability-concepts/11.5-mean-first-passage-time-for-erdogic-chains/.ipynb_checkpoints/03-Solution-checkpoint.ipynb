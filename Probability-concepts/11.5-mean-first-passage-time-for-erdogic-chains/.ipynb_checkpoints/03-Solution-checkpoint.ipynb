{
 "cells": [
  {
   "cell_type": "markdown",
   "metadata": {},
   "source": [
    "# Consider [Example 11.4](../11.1-intro-to-markov-chains/summary-of-chapter.ipynb#Examples) with $a=0.5$ and $b=0.75$"
   ]
  },
  {
   "cell_type": "markdown",
   "metadata": {},
   "source": [
    "# Assume the President says that he or she will run\n",
    "\n",
    "# Find the expected length of time before the answer is passed on incorrectly"
   ]
  },
  {
   "cell_type": "markdown",
   "metadata": {},
   "source": [
    "_____\n",
    "\n",
    "# $P=\\begin{pmatrix}0.5 & 0.5\\\\ 0.75 & 0.25\\end{pmatrix}$"
   ]
  },
  {
   "cell_type": "markdown",
   "metadata": {},
   "source": [
    "# $wP = w \\implies 0.5w_{1}+0.75w_{2} = w_{1} \\implies w_{1} = (3/2)w_{2}$"
   ]
  },
  {
   "cell_type": "markdown",
   "metadata": {},
   "source": [
    "# $w_{1}+w_{2} = 1 \\implies (5/2)w_{2} = 1 \\implies w_{2} = (2/5) \\implies w_{1} = 3/5$"
   ]
  },
  {
   "cell_type": "markdown",
   "metadata": {},
   "source": [
    "# $\\implies w = [2/5,3/5] \\implies W = \\begin{pmatrix}3/5 & 2/5\\\\ 3/5 & 2/5\\end{pmatrix}$"
   ]
  },
  {
   "cell_type": "code",
   "execution_count": 1,
   "metadata": {
    "collapsed": true
   },
   "outputs": [],
   "source": [
    "import numpy as np"
   ]
  },
  {
   "cell_type": "code",
   "execution_count": 16,
   "metadata": {
    "collapsed": true
   },
   "outputs": [],
   "source": [
    "I = np.identity(2)\n",
    "P = np.array([[0.5, 0.5],[0.75, 0.25]])\n",
    "W = np.array([[3/5.0,2/5.0],[3/5.0,2/5.0]])"
   ]
  },
  {
   "cell_type": "code",
   "execution_count": 17,
   "metadata": {
    "collapsed": false
   },
   "outputs": [
    {
     "data": {
      "text/plain": [
       "array([[ 1.1 , -0.1 ],\n",
       "       [-0.15,  1.15]])"
      ]
     },
     "execution_count": 17,
     "metadata": {},
     "output_type": "execute_result"
    }
   ],
   "source": [
    "matrix = I - P + W\n",
    "matrix"
   ]
  },
  {
   "cell_type": "markdown",
   "metadata": {},
   "source": [
    "# $\\implies I - P + W = \\begin{pmatrix}1.1 & -0.1\\\\ -0.15 & 1.15\\end{pmatrix}$"
   ]
  },
  {
   "cell_type": "code",
   "execution_count": 18,
   "metadata": {
    "collapsed": false
   },
   "outputs": [
    {
     "data": {
      "text/plain": [
       "array([[ 0.92,  0.08],\n",
       "       [ 0.12,  0.88]])"
      ]
     },
     "execution_count": 18,
     "metadata": {},
     "output_type": "execute_result"
    }
   ],
   "source": [
    "Z = np.linalg.inv(matrix)\n",
    "Z"
   ]
  },
  {
   "cell_type": "markdown",
   "metadata": {},
   "source": [
    "# $\\implies Z = \\begin{pmatrix}0.92 & 0.08\\\\ 0.12 & 0.88\\end{pmatrix}$"
   ]
  },
  {
   "cell_type": "code",
   "execution_count": 19,
   "metadata": {
    "collapsed": true
   },
   "outputs": [],
   "source": [
    "def calc_M(Z, W):\n",
    "    Z_diagonals = np.repeat(np.diag(Z)[:,np.newaxis], len(Z), axis = 1).T\n",
    "    return (Z_diagonals-Z)/W"
   ]
  },
  {
   "cell_type": "code",
   "execution_count": 20,
   "metadata": {
    "collapsed": true
   },
   "outputs": [],
   "source": [
    "M = calc_M(Z, W)"
   ]
  },
  {
   "cell_type": "code",
   "execution_count": 21,
   "metadata": {
    "collapsed": false
   },
   "outputs": [
    {
     "data": {
      "text/plain": [
       "array([[ 0.        ,  2.        ],\n",
       "       [ 1.33333333,  0.        ]])"
      ]
     },
     "execution_count": 21,
     "metadata": {},
     "output_type": "execute_result"
    }
   ],
   "source": [
    "M"
   ]
  },
  {
   "cell_type": "markdown",
   "metadata": {},
   "source": [
    "# $\\implies M = \\begin{pmatrix}0 & 2\\\\ 4/3 & 0\\end{pmatrix}$"
   ]
  },
  {
   "cell_type": "markdown",
   "metadata": {},
   "source": [
    "# Therefore, we expect it will take 2 steps"
   ]
  },
  {
   "cell_type": "markdown",
   "metadata": {},
   "source": [
    "_____\n",
    "\n",
    "### Let's confirm this with a simulation"
   ]
  },
  {
   "cell_type": "code",
   "execution_count": 9,
   "metadata": {
    "collapsed": true
   },
   "outputs": [],
   "source": [
    "def step(x):\n",
    "    rand = np.random.random()\n",
    "    if x == 'Y':\n",
    "        if rand < 0.5:\n",
    "            return 'N'\n",
    "        else:\n",
    "            return 'Y'\n",
    "    else:\n",
    "        if rand < 0.25:\n",
    "            return 'N'\n",
    "        else:\n",
    "            return 'Y'"
   ]
  },
  {
   "cell_type": "code",
   "execution_count": 10,
   "metadata": {
    "collapsed": true
   },
   "outputs": [],
   "source": [
    "def count_steps():\n",
    "    x = 'Y'\n",
    "    i = 0\n",
    "    while x != 'N':\n",
    "        i += 1\n",
    "        x = step(x)\n",
    "    return i"
   ]
  },
  {
   "cell_type": "code",
   "execution_count": 14,
   "metadata": {
    "collapsed": true
   },
   "outputs": [],
   "source": [
    "list_results = []\n",
    "\n",
    "for i in range(100000):\n",
    "    list_results.append(count_steps())"
   ]
  },
  {
   "cell_type": "code",
   "execution_count": 15,
   "metadata": {
    "collapsed": false
   },
   "outputs": [
    {
     "data": {
      "text/plain": [
       "2.00136"
      ]
     },
     "execution_count": 15,
     "metadata": {},
     "output_type": "execute_result"
    }
   ],
   "source": [
    "np.mean(list_results)"
   ]
  },
  {
   "cell_type": "markdown",
   "metadata": {},
   "source": [
    "**Bang on**"
   ]
  }
 ],
 "metadata": {
  "kernelspec": {
   "display_name": "Python 2",
   "language": "python",
   "name": "python2"
  },
  "language_info": {
   "codemirror_mode": {
    "name": "ipython",
    "version": 2
   },
   "file_extension": ".py",
   "mimetype": "text/x-python",
   "name": "python",
   "nbconvert_exporter": "python",
   "pygments_lexer": "ipython2",
   "version": "2.7.11"
  }
 },
 "nbformat": 4,
 "nbformat_minor": 0
}
