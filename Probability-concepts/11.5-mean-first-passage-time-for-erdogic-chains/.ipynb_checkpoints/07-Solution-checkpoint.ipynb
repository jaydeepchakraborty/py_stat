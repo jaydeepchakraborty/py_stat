{
 "cells": [
  {
   "cell_type": "markdown",
   "metadata": {},
   "source": [
    "# A rat runs through the maze shown in Figure 11.7\n",
    "\n",
    "# At each step it leaves the room it is in by choosing at random one of the doors out of the room\n",
    "\n",
    "## a) Give the transition matrix $P$ for this Markov chain\n",
    "\n",
    "## b) Show that it is an ergodic chain but not regular\n",
    "\n",
    "## c) Find the fixed vector\n",
    "\n",
    "## d) Find the expected number of steps before reaching Room 5 for the first time, starting in Room 1"
   ]
  },
  {
   "cell_type": "markdown",
   "metadata": {},
   "source": [
    "![](images/fig11.7.PNG)"
   ]
  },
  {
   "cell_type": "markdown",
   "metadata": {},
   "source": [
    "____\n",
    "\n",
    "# a)"
   ]
  },
  {
   "cell_type": "markdown",
   "metadata": {},
   "source": [
    "# $ P = \\begin{pmatrix}0 & 0 & 1 & 0 & 0 & 0\\\\ 0 & 0 & 1 & 0 & 0 & 0\\\\ 1/4 & 1/4 & 0 & 1/4 & 1/4 & 0\\\\ 0 & 0 & 1/2 & 0 & 0 & 1/2\\\\ 0 & 0 & 1/2 & 0 & 0 & 1/2\\\\ 0 & 0 & 0 & 1/2 & 1/2 & 0\\end{pmatrix}$"
   ]
  },
  {
   "cell_type": "markdown",
   "metadata": {},
   "source": [
    "____\n",
    "\n",
    "# b)"
   ]
  },
  {
   "cell_type": "markdown",
   "metadata": {},
   "source": [
    "- From state 1, we can go to state 3\n",
    "- From state 2, we can go to state 3\n",
    "- From state 3, we can go to states 1, 2, 4, and 5\n",
    "- From state 4, we can go to states 3 and 6\n",
    "- From state 5, we can go to states 3 and 6\n",
    "- From state 6, we can go to states 4 and 5"
   ]
  },
  {
   "cell_type": "markdown",
   "metadata": {},
   "source": [
    "### By reviewing the connections, we can see that we can move from any state to each other $\\implies$ ergodic"
   ]
  },
  {
   "cell_type": "markdown",
   "metadata": {},
   "source": [
    "### To show that it's not regular, we can just take the 1000th power of the $P$ and show that there are still zero values"
   ]
  },
  {
   "cell_type": "code",
   "execution_count": 5,
   "metadata": {
    "collapsed": true
   },
   "outputs": [],
   "source": [
    "import numpy as np\n",
    "import pandas as pd"
   ]
  },
  {
   "cell_type": "code",
   "execution_count": 3,
   "metadata": {
    "collapsed": false
   },
   "outputs": [],
   "source": [
    "P = np.array([[0,0,1,0,0,0],[0,0,1,0,0,0],[0.25,0.25,0,0.25,0.25,0],[0,0,0.5,0,0,0.5],[0,0,0.5,0,0,0.5],[0,0,0,0.5,0.5,0]])"
   ]
  },
  {
   "cell_type": "code",
   "execution_count": 6,
   "metadata": {
    "collapsed": false
   },
   "outputs": [
    {
     "data": {
      "text/html": [
       "<div>\n",
       "<table border=\"1\" class=\"dataframe\">\n",
       "  <thead>\n",
       "    <tr style=\"text-align: right;\">\n",
       "      <th></th>\n",
       "      <th>0</th>\n",
       "      <th>1</th>\n",
       "      <th>2</th>\n",
       "      <th>3</th>\n",
       "      <th>4</th>\n",
       "      <th>5</th>\n",
       "    </tr>\n",
       "  </thead>\n",
       "  <tbody>\n",
       "    <tr>\n",
       "      <th>0</th>\n",
       "      <td>0.166667</td>\n",
       "      <td>0.166667</td>\n",
       "      <td>0.000000</td>\n",
       "      <td>0.333333</td>\n",
       "      <td>0.333333</td>\n",
       "      <td>0.000000</td>\n",
       "    </tr>\n",
       "    <tr>\n",
       "      <th>1</th>\n",
       "      <td>0.166667</td>\n",
       "      <td>0.166667</td>\n",
       "      <td>0.000000</td>\n",
       "      <td>0.333333</td>\n",
       "      <td>0.333333</td>\n",
       "      <td>0.000000</td>\n",
       "    </tr>\n",
       "    <tr>\n",
       "      <th>2</th>\n",
       "      <td>0.000000</td>\n",
       "      <td>0.000000</td>\n",
       "      <td>0.666667</td>\n",
       "      <td>0.000000</td>\n",
       "      <td>0.000000</td>\n",
       "      <td>0.333333</td>\n",
       "    </tr>\n",
       "    <tr>\n",
       "      <th>3</th>\n",
       "      <td>0.166667</td>\n",
       "      <td>0.166667</td>\n",
       "      <td>0.000000</td>\n",
       "      <td>0.333333</td>\n",
       "      <td>0.333333</td>\n",
       "      <td>0.000000</td>\n",
       "    </tr>\n",
       "    <tr>\n",
       "      <th>4</th>\n",
       "      <td>0.166667</td>\n",
       "      <td>0.166667</td>\n",
       "      <td>0.000000</td>\n",
       "      <td>0.333333</td>\n",
       "      <td>0.333333</td>\n",
       "      <td>0.000000</td>\n",
       "    </tr>\n",
       "    <tr>\n",
       "      <th>5</th>\n",
       "      <td>0.000000</td>\n",
       "      <td>0.000000</td>\n",
       "      <td>0.666667</td>\n",
       "      <td>0.000000</td>\n",
       "      <td>0.000000</td>\n",
       "      <td>0.333333</td>\n",
       "    </tr>\n",
       "  </tbody>\n",
       "</table>\n",
       "</div>"
      ],
      "text/plain": [
       "          0         1         2         3         4         5\n",
       "0  0.166667  0.166667  0.000000  0.333333  0.333333  0.000000\n",
       "1  0.166667  0.166667  0.000000  0.333333  0.333333  0.000000\n",
       "2  0.000000  0.000000  0.666667  0.000000  0.000000  0.333333\n",
       "3  0.166667  0.166667  0.000000  0.333333  0.333333  0.000000\n",
       "4  0.166667  0.166667  0.000000  0.333333  0.333333  0.000000\n",
       "5  0.000000  0.000000  0.666667  0.000000  0.000000  0.333333"
      ]
     },
     "execution_count": 6,
     "metadata": {},
     "output_type": "execute_result"
    }
   ],
   "source": [
    "P1000 = np.linalg.matrix_power(P, 1000)\n",
    "pd.DataFrame(P1000)"
   ]
  },
  {
   "cell_type": "markdown",
   "metadata": {},
   "source": [
    "### Even after 1000 steps, still have 0s in the matrix $\\implies$ not regular"
   ]
  },
  {
   "cell_type": "markdown",
   "metadata": {},
   "source": [
    "____\n",
    "\n",
    "# c)"
   ]
  },
  {
   "cell_type": "markdown",
   "metadata": {},
   "source": [
    "# $wP = w$\n",
    "\n",
    "## $w_{1} = (1/4)w_{3}$\n",
    "\n",
    "## $w_{2} = (1/4)w_{3}$\n",
    "\n",
    "## "
   ]
  },
  {
   "cell_type": "code",
   "execution_count": null,
   "metadata": {
    "collapsed": true
   },
   "outputs": [],
   "source": []
  }
 ],
 "metadata": {
  "kernelspec": {
   "display_name": "Python 2",
   "language": "python",
   "name": "python2"
  },
  "language_info": {
   "codemirror_mode": {
    "name": "ipython",
    "version": 2
   },
   "file_extension": ".py",
   "mimetype": "text/x-python",
   "name": "python",
   "nbconvert_exporter": "python",
   "pygments_lexer": "ipython2",
   "version": "2.7.11"
  }
 },
 "nbformat": 4,
 "nbformat_minor": 0
}
