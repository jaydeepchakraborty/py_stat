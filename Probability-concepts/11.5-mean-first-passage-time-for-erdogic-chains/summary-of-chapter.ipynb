{
 "cells": [
  {
   "cell_type": "markdown",
   "metadata": {},
   "source": [
    "# In this section, we consider two quantities for erdogic chains:\n",
    "\n",
    "## 1. Mean time to return to a state\n",
    "\n",
    "## 2. Mean time to go from state $s_{i}$ to $s_{j}$"
   ]
  },
  {
   "cell_type": "markdown",
   "metadata": {},
   "source": [
    "# If $w$ is the unique fixed probability vector for an erdogic chain $P$, we know by the Law of Large numbers that we can expect the process to spend a proportion $w_{i}$ of steps in state $s_{i}$"
   ]
  },
  {
   "cell_type": "markdown",
   "metadata": {},
   "source": [
    "# If $s_{i}$ is the only absorbing state in the chain, we know with probability 1 that the process will eventually end up in state $s_{i}$"
   ]
  },
  {
   "cell_type": "markdown",
   "metadata": {},
   "source": [
    "# Let $N$ be the fundamental matrix for $P$\n",
    "\n",
    "# We know that element $n_{ij}$ tells us the expected number of steps spent in state $s_{j}$ given that we start in state $s_{i}$"
   ]
  },
  {
   "cell_type": "markdown",
   "metadata": {},
   "source": [
    "# We also know that $Nc$ gives us the expected number of steps between starting in each state and being absorbed"
   ]
  },
  {
   "cell_type": "markdown",
   "metadata": {},
   "source": [
    "_____\n",
    "\n",
    "# Definition - *Mean First Passage Time*\n",
    "\n",
    "### If an ergogic Markov chain starts in state $s_{i}$, the expected number of steps to reach state $s_{j}$ for the first time is called the *mean passage time from $s_{i}$ to $s_{j}$\n",
    "\n",
    "### It is denoted $m_{ij}$\n",
    "\n",
    "### Note: by convention, $m_{ii} = 0$"
   ]
  },
  {
   "cell_type": "markdown",
   "metadata": {},
   "source": [
    "____\n",
    "\n",
    "## Example\n",
    "\n",
    "### Consider the transition matrix from the maze problem"
   ]
  },
  {
   "cell_type": "markdown",
   "metadata": {},
   "source": [
    "## $P = \\begin{pmatrix}0 & 0.5 & 0 & 0 & 0.5 & 0 & 0 & 0 & 0\\\\ 0.3333 & 0 & 0.3333 & 0 & 0 & 0 & 0 & 0 & 0.3333\\\\ \n",
    "0 & 0.5 & 0 & 0.5 & 0 & 0 & 0 & 0 & 0\\\\ 0 & 0 & 0.3333 & 0 & 0 & 0.3333 & 0 & 0.3333 & 0.3333\\\\ 0.3333 & 0 & 0 & 0 & 0 & 0 & 0 & 0 & 0.3333\\\\ 0 & 0 & 0 & 0 & 0.5 & 0 & 0.5 & 0 & 0\\\\ 0 & 0 & 0 & 0 & 0 & 0.3333 & 0 & 0.3333 & 0.3333\\\\ 0 & 0 & 0 & 0.5 & 0 & 0 & 0.5 & 0 & 0\\\\ 0 & 0 & 0 & 0 & 0 & 0 & 0 & 0 & 1\\end{pmatrix}$"
   ]
  },
  {
   "cell_type": "markdown",
   "metadata": {},
   "source": [
    "## $\\implies Q = \\begin{pmatrix}0 & 0.5 & 0 & 0 & 0.5 & 0 & 0 & 0\\\\ 0.3333 & 0 & 0.3333 & 0 & 0 & 0 & 0 & 0\\\\ \n",
    "0 & 0.5 & 0 & 0.5 & 0 & 0 & 0 & 0\\\\ 0 & 0 & 0.3333 & 0 & 0 & 0.3333 & 0 & 0.3333\\\\ 0.3333 & 0 & 0 & 0 & 0 & 0 & 0 & 0\\\\ 0 & 0 & 0 & 0 & 0.5 & 0 & 0.5 & 0\\\\ 0 & 0 & 0 & 0 & 0 & 0.3333 & 0 & 0.3333\\\\ 0 & 0 & 0 & 0.5 & 0 & 0 & 0.5 & 0\\end{pmatrix}$"
   ]
  },
  {
   "cell_type": "markdown",
   "metadata": {},
   "source": [
    "## $\\implies (I-Q) = \\begin{pmatrix}1 & -0.5 & 0 & 0 & -0.5 & 0 & 0 & 0\\\\ -0.3333 & 1 & -0.3333 & 0 & 0 & 0 & 0 & 0\\\\ \n",
    "0 & -0.5 & 1 & -0.5 & 0 & 0 & 0 & 0\\\\ 0 & 0 & -0.3333 & 1 & 0 & -0.3333 & 0 & -0.3333\\\\ -0.3333 & 0 & 0 & 0 & 1 & 0 & 0 & 0\\\\ 0 & 0 & 0 & 0 & -0.5 & 1 & -0.5 & 0\\\\ 0 & 0 & 0 & 0 & 0 & -0.3333 & 1 & -0.3333\\\\ 0 & 0 & 0 & -0.5 & 0 & 0 & -0.5 & 1\\end{pmatrix}$"
   ]
  },
  {
   "cell_type": "markdown",
   "metadata": {},
   "source": [
    "**Using numpy to calculate the inverse**"
   ]
  },
  {
   "cell_type": "code",
   "execution_count": 1,
   "metadata": {
    "collapsed": true
   },
   "outputs": [],
   "source": [
    "import numpy as np"
   ]
  },
  {
   "cell_type": "code",
   "execution_count": 4,
   "metadata": {
    "collapsed": true
   },
   "outputs": [],
   "source": [
    "matrix = np.array([[1 , -0.5 , 0 , 0 , -0.5 , 0 , 0 , 0],\n",
    "                   [ -1/3.0 , 1 , -1/3.0 , 0 , 0 , 0 , 0 , 0],\n",
    "                   [ 0 , -0.5 , 1 , -0.5 , 0 , 0 , 0 , 0],\n",
    "                   [ 0 , 0 , -1/3.0 , 1 , 0 , -1/3.0 , 0 , -1/3.0],\n",
    "                   [ -1/3.0 , 0 , 0 , 0 , 1 , 0 , 0 , 0],\n",
    "                   [ 0 , 0 , 0 , 0 , -0.5 , 1 , -0.5 , 0],\n",
    "                   [ 0 , 0 , 0 , 0 , 0 , -1/3.0 , 1 , -1/3.0],\n",
    "                   [ 0 , 0 , 0 , -0.5 , 0 , 0 , -0.5 , 1]])"
   ]
  },
  {
   "cell_type": "code",
   "execution_count": 6,
   "metadata": {
    "collapsed": true
   },
   "outputs": [],
   "source": [
    "N = np.linalg.inv(matrix)"
   ]
  },
  {
   "cell_type": "code",
   "execution_count": 19,
   "metadata": {
    "collapsed": false
   },
   "outputs": [],
   "source": [
    "c = np.array([[1],[1],[1],[1],[1],[1],[1],[1]])"
   ]
  },
  {
   "cell_type": "code",
   "execution_count": 20,
   "metadata": {
    "collapsed": true
   },
   "outputs": [],
   "source": [
    "Nc = np.matmul(N,c)"
   ]
  },
  {
   "cell_type": "code",
   "execution_count": 21,
   "metadata": {
    "collapsed": false
   },
   "outputs": [
    {
     "data": {
      "text/plain": [
       "array([[ 4.8],\n",
       "       [ 5. ],\n",
       "       [ 7.2],\n",
       "       [ 7.4],\n",
       "       [ 2.6],\n",
       "       [ 4.8],\n",
       "       [ 5. ],\n",
       "       [ 7.2]])"
      ]
     },
     "execution_count": 21,
     "metadata": {},
     "output_type": "execute_result"
    }
   ],
   "source": [
    "Nc"
   ]
  },
  {
   "cell_type": "markdown",
   "metadata": {},
   "source": [
    "______\n",
    "\n",
    "# Definition - *Mean Recurrence Time*\n",
    "\n",
    "### Recall: If a chain is erdogic, it cannot have any absorbing states\n",
    "\n",
    "## Then, we know that after enough steps, for any pair of states $s_{i}$ and $s_{j}$, there is a non-zero probability that the process will transition from state $s_{i}$ to $s_{j}$"
   ]
  },
  {
   "cell_type": "markdown",
   "metadata": {},
   "source": [
    "## From this, we can extrapolate the idea that there is a non-zero probability that $s_{i}$ will transition to state $s_{j}$, then back to state $s_{i}$\n",
    "\n",
    "## The *Mean Recurrence Time* for $s_{i}$ tells us the expected number of steps it'll take for the process to transition away from $s_{i}$, then back to $s_{i}$\n",
    "\n",
    "## The mean recurrence time for $s_{i}$ is denoted $r_{i}$"
   ]
  },
  {
   "cell_type": "markdown",
   "metadata": {},
   "source": [
    "## (1) $m_{ij} = 1 + \\sum_{k\\neq j} p_{ik}m_{kj}$"
   ]
  },
  {
   "cell_type": "markdown",
   "metadata": {},
   "source": [
    "## (2) $r_{i} = 1 + \\sum_{k}p_{ik}m_{ki}$"
   ]
  },
  {
   "cell_type": "markdown",
   "metadata": {},
   "source": [
    "_____\n",
    "\n",
    "# Mean First Passage Matrix & Mean Recurrence Matrix"
   ]
  },
  {
   "cell_type": "markdown",
   "metadata": {},
   "source": [
    "## Let $M$ be the *mean first passage matrix*\n",
    "\n",
    "## The element $m_{ij}$ represents the mean passage time from $s_{i}$ to $s_{j}$\n",
    "\n",
    "### Recall: $m_{ii}=0$  by definition $\\implies$ the diagonals of $M$ are all zero"
   ]
  },
  {
   "cell_type": "markdown",
   "metadata": {},
   "source": [
    "## Let $D$ be the *mean recurrence matrix*\n",
    "\n",
    "## $D$ has all zero values, except on the diagonal where $d_{ii} = r_{i}$ i.e. the mean recurrence time for state $s_{i}$"
   ]
  },
  {
   "cell_type": "markdown",
   "metadata": {},
   "source": [
    "## Let $C$ be the matrix of all 1s"
   ]
  },
  {
   "cell_type": "markdown",
   "metadata": {},
   "source": [
    "# $M = PM + C - D \\implies (I-P)M = C-D$"
   ]
  },
  {
   "cell_type": "markdown",
   "metadata": {},
   "source": [
    "____\n",
    "\n",
    "# Theorem 11.15\n",
    "\n",
    "### For an erdogic Markov chain, the mean recurrence time for state $s_{i}$ is $r_{i} = \\frac{1}{w_{i}}$"
   ]
  },
  {
   "cell_type": "markdown",
   "metadata": {},
   "source": [
    "_____\n",
    "\n",
    "## Example\n",
    "\n",
    "### For a fixed probability vector $w = [1/12, 1/8, 1/12, 1/8, 1/6, 1/8, 1/12, 1/8, 1/12]$ "
   ]
  },
  {
   "cell_type": "markdown",
   "metadata": {},
   "source": [
    "### We calculate the mean recurrence times as $r = [12, 8, 12, 8, 6, 8, 12, 8, 12]$"
   ]
  },
  {
   "cell_type": "markdown",
   "metadata": {},
   "source": [
    "### This implies that to when the process leaves $s_{1}$, it will take around 12 steps before the process returns"
   ]
  },
  {
   "cell_type": "markdown",
   "metadata": {},
   "source": [
    "_____\n",
    "\n",
    "## Example\n",
    "\n",
    "### In the Land of Oz example, we found that $w = [2/5, 1/5, 2/5]$"
   ]
  },
  {
   "cell_type": "markdown",
   "metadata": {},
   "source": [
    "### This means that we expect there to be 2.5 days between rainy days, 2.5 days between snowy days, and 5 days between nice days"
   ]
  },
  {
   "cell_type": "markdown",
   "metadata": {},
   "source": [
    "____\n",
    "\n",
    "# *Fundamental Matrix*\n",
    "\n",
    "### For *absorbing* chains, we calculate the fundamental matrix $N = (I-Q)^{-1}$\n",
    "\n",
    "### We want to find an equivalent matrix for *erdogic* chains"
   ]
  },
  {
   "cell_type": "markdown",
   "metadata": {},
   "source": [
    "___\n",
    "\n",
    "# Proposition 11.1\n",
    "\n",
    "### Let $P$ be the transition matrix of an erdogic chain, and let $W$ be the matrix of fixed probability vectors i.e. $W = \\begin{bmatrix}w\\\\ w\\\\ w\\\\ w\\end{bmatrix} = \\begin{bmatrix}w_{1} & w_{2} & ... & w_{n}\\\\ w_{1} & w_{2} & ... & w_{n}\\\\  &  & ... & \\\\ w_{1} & w_{2} & ... & w_{n}\\end{bmatrix}$ where $wP = w$"
   ]
  },
  {
   "cell_type": "markdown",
   "metadata": {},
   "source": [
    "## Then, the matrix $I-P+W$ has an inverse $Z$"
   ]
  },
  {
   "cell_type": "markdown",
   "metadata": {},
   "source": [
    " _____\n",
    " \n",
    " # *Using $Z$ to Calculate the Mean First Passage Matrix $M$*\n",
    " \n",
    " # Lemma 11.2\n",
    " \n",
    " ### Let $Z=(I-P+W)^{-1}$ and let $z$ be the column vector of 1s\n",
    " \n",
    " ### Then\n",
    " \n",
    " # (1) $Zc = c$\n",
    " \n",
    " # (2) $wZ = w$\n",
    " \n",
    " # (3) $Z(I-P) = I-W$"
   ]
  },
  {
   "cell_type": "markdown",
   "metadata": {},
   "source": [
    "# Theorem 11.16\n",
    "\n",
    "### The mean first passage matrix $M$ for an erdogic chain is determined from the fundamental matrix $Z$ and the fixed row probability vector $w$ by\n",
    "\n",
    "# $m_{ij} = \\frac{z_{jj}-z_{ij}}{w_{j}}$"
   ]
  },
  {
   "cell_type": "markdown",
   "metadata": {},
   "source": [
    "______\n",
    "\n",
    "## Example\n",
    "\n",
    "### The matrix $P$ from the Land of Oz example was:\n",
    "\n",
    "# $P = \\begin{pmatrix}0.5 & 0.25 & 0.25\\\\ 0.5 & 0 & 0.5\\\\ 0.25 & 0.25 & 0.5\\end{pmatrix}$"
   ]
  },
  {
   "cell_type": "markdown",
   "metadata": {},
   "source": [
    "# We also found that $w = [2/5, 1/5, 2/5]$"
   ]
  },
  {
   "cell_type": "markdown",
   "metadata": {},
   "source": [
    "# $\\implies W = \\begin{pmatrix}0.4 & 0.2 & 0.4\\\\0.4 & 0.2 & 0.4\\\\0.4 & 0.2 & 0.4\\end{pmatrix}$"
   ]
  },
  {
   "cell_type": "markdown",
   "metadata": {},
   "source": [
    "### $\\implies (I - P + W) = \\begin{pmatrix}1 & 0 & 0\\\\ 0 & 1 & 0\\\\ 0 & 0 & 1\\end{pmatrix} - \\begin{pmatrix}0.5 & 0.25 & 0.25\\\\ 0.5 & 0 & 0.5\\\\ 0.25 & 0.5 & 0.25\\end{pmatrix} + \\begin{pmatrix}0.4 & 0.2 & 0.4\\\\0.4 & 0.2 & 0.4\\\\0.4 & 0.2 & 0.4\\end{pmatrix}$"
   ]
  },
  {
   "cell_type": "markdown",
   "metadata": {},
   "source": [
    "### $ = \\begin{pmatrix}0.9 & -0.05 & 0.15\\\\ -0.1 & 1.2 & -0.1\\\\ 0.15 & -0.05 & 0.9\\end{pmatrix}$"
   ]
  },
  {
   "cell_type": "markdown",
   "metadata": {},
   "source": [
    "**Using numpy to solve for the inverse**"
   ]
  },
  {
   "cell_type": "code",
   "execution_count": 22,
   "metadata": {
    "collapsed": true
   },
   "outputs": [],
   "source": [
    "import numpy as np"
   ]
  },
  {
   "cell_type": "code",
   "execution_count": 59,
   "metadata": {
    "collapsed": true
   },
   "outputs": [],
   "source": [
    "I = np.identity(3)\n",
    "P = np.array([[0.5, 0.25, 0.25],[0.5,0,0.5],[0.25,0.25,0.5]])\n",
    "W = np.repeat([[0.4],[0.2],[0.4]],3, axis = 1).T"
   ]
  },
  {
   "cell_type": "code",
   "execution_count": 60,
   "metadata": {
    "collapsed": false
   },
   "outputs": [
    {
     "data": {
      "text/plain": [
       "array([[ 0.4,  0.2,  0.4],\n",
       "       [ 0.4,  0.2,  0.4],\n",
       "       [ 0.4,  0.2,  0.4]])"
      ]
     },
     "execution_count": 60,
     "metadata": {},
     "output_type": "execute_result"
    }
   ],
   "source": [
    "W"
   ]
  },
  {
   "cell_type": "code",
   "execution_count": 61,
   "metadata": {
    "collapsed": false
   },
   "outputs": [
    {
     "data": {
      "text/plain": [
       "array([[ 0.9 , -0.05,  0.15],\n",
       "       [-0.1 ,  1.2 , -0.1 ],\n",
       "       [ 0.15, -0.05,  0.9 ]])"
      ]
     },
     "execution_count": 61,
     "metadata": {},
     "output_type": "execute_result"
    }
   ],
   "source": [
    "I - P + W"
   ]
  },
  {
   "cell_type": "code",
   "execution_count": 62,
   "metadata": {
    "collapsed": false
   },
   "outputs": [
    {
     "data": {
      "text/plain": [
       "array([[ 1.14666667,  0.04      , -0.18666667],\n",
       "       [ 0.08      ,  0.84      ,  0.08      ],\n",
       "       [-0.18666667,  0.04      ,  1.14666667]])"
      ]
     },
     "execution_count": 62,
     "metadata": {},
     "output_type": "execute_result"
    }
   ],
   "source": [
    "Z = np.linalg.inv(I - P + W)\n",
    "Z"
   ]
  },
  {
   "cell_type": "markdown",
   "metadata": {},
   "source": [
    "# $\\implies Z = \\begin{pmatrix}1.13684211 & 0.01052632 & 0.14736842\\\\0.08421053 & 0.85263158 & 0.06315789\\\\-0.12631579 & 0.22105263 & 0.90526316\\end{pmatrix}$"
   ]
  },
  {
   "cell_type": "code",
   "execution_count": 63,
   "metadata": {
    "collapsed": true
   },
   "outputs": [],
   "source": [
    "def calc_val(Z, W):\n",
    "    Z_diagonals = np.repeat(np.diag(Z)[:,np.newaxis], len(Z), axis = 1).T\n",
    "    return (Z_diagonals-Z)/W"
   ]
  },
  {
   "cell_type": "code",
   "execution_count": 66,
   "metadata": {
    "collapsed": false
   },
   "outputs": [
    {
     "data": {
      "text/plain": [
       "array([[ 0.        ,  4.        ,  3.33333333],\n",
       "       [ 2.66666667,  0.        ,  2.66666667],\n",
       "       [ 3.33333333,  4.        ,  0.        ]])"
      ]
     },
     "execution_count": 66,
     "metadata": {},
     "output_type": "execute_result"
    }
   ],
   "source": [
    "M = calc_val(Z, W)\n",
    "M"
   ]
  },
  {
   "cell_type": "markdown",
   "metadata": {},
   "source": [
    "# $\\implies M = \\begin{pmatrix}0 & 4 & 3.33333333\\\\2.66666667 & 0 & 2.66666667\\\\3.33333333 & 4 & 0\\end{pmatrix}$"
   ]
  }
 ],
 "metadata": {
  "kernelspec": {
   "display_name": "Python 2",
   "language": "python",
   "name": "python2"
  },
  "language_info": {
   "codemirror_mode": {
    "name": "ipython",
    "version": 2
   },
   "file_extension": ".py",
   "mimetype": "text/x-python",
   "name": "python",
   "nbconvert_exporter": "python",
   "pygments_lexer": "ipython2",
   "version": "2.7.11"
  }
 },
 "nbformat": 4,
 "nbformat_minor": 0
}
