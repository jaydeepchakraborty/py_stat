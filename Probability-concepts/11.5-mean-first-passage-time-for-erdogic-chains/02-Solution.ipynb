{
 "cells": [
  {
   "cell_type": "markdown",
   "metadata": {},
   "source": [
    "# A study of the strengths of Ivy League football teams shows that if a school has a strong team one year it is equally likely to have a strong team or average team next year; if it has an average team, half the time it is average next year, and if it changes it is just as likely to become strong as weak; if it is weak it has 2/3 probability of remaining so and 1/3 of becoming average."
   ]
  },
  {
   "cell_type": "markdown",
   "metadata": {},
   "source": [
    "## a) A school has a strong team. On the average, how long will it be before it has another strong team?"
   ]
  },
  {
   "cell_type": "markdown",
   "metadata": {},
   "source": [
    "## b) A school has a weak team; how long (on the average) must the alumni wait for a strong team?"
   ]
  },
  {
   "cell_type": "markdown",
   "metadata": {},
   "source": [
    "_______\n",
    "\n",
    "# a)"
   ]
  },
  {
   "cell_type": "markdown",
   "metadata": {},
   "source": [
    "## Recall: $r = \\frac{1}{w}$\n",
    "\n",
    "# $\\implies$ first, we solve for $w$"
   ]
  },
  {
   "cell_type": "markdown",
   "metadata": {},
   "source": [
    "# $P = \\begin{pmatrix}1/2 & 1/2 & 0\\\\ 1/4 & 1/2 & 1/4\\\\ 0 & 1/3 & 2/3\\end{pmatrix}$"
   ]
  },
  {
   "cell_type": "markdown",
   "metadata": {},
   "source": [
    "# $w = Pw$\n"
   ]
  },
  {
   "cell_type": "markdown",
   "metadata": {},
   "source": [
    "### $w_{1} = (1/2)w_{1} + (1/4)w_{2} \\implies w_{1} = \\frac{w_{2}}{2}$\n",
    "\n",
    "### $w_{2} = (1/2)w_{1}+(1/2)w_{2}+(1/3)w_{3} \\implies w_{3} = (3/4)w_{2}$"
   ]
  },
  {
   "cell_type": "markdown",
   "metadata": {},
   "source": [
    "### $w_{1}+w_{2}+w_{3} = 1 \\implies (1/2)w_{2}+w_{2}+(3/4)w_{2} = 1 \\implies w_{2} = 4/9$"
   ]
  },
  {
   "cell_type": "markdown",
   "metadata": {},
   "source": [
    "### $\\implies w_{1} = 2/9$ and $w_{3} = 3/9$"
   ]
  },
  {
   "cell_type": "markdown",
   "metadata": {},
   "source": [
    "# $\\implies w = [2/9, 4/9, 3/9] \\implies r = [9/2, 9/4, 3]$"
   ]
  },
  {
   "cell_type": "markdown",
   "metadata": {},
   "source": [
    "____\n",
    "\n",
    "# b) \n",
    "\n",
    "## The question is asking us to solve for $M$"
   ]
  },
  {
   "cell_type": "markdown",
   "metadata": {},
   "source": [
    "# $W = \\begin{pmatrix}2/9 & 4/9 & 1/3\\\\ 2/9 & 4/9 & 1/3\\\\ 2/9 & 4/9 & 1/3\\end{pmatrix}$"
   ]
  },
  {
   "cell_type": "code",
   "execution_count": 1,
   "metadata": {
    "collapsed": true
   },
   "outputs": [],
   "source": [
    "import numpy as np"
   ]
  },
  {
   "cell_type": "code",
   "execution_count": 6,
   "metadata": {
    "collapsed": false
   },
   "outputs": [],
   "source": [
    "I = np.identity(3)\n",
    "P = np.array([[1/2.0,1/2.0,0],[1/4.0,1/2.0,1/4.0],[0,1/3.0,2/3.0]])\n",
    "W = np.tile([[2/9.0],[4/9.0],[1/3.0]],3).T"
   ]
  },
  {
   "cell_type": "code",
   "execution_count": 9,
   "metadata": {
    "collapsed": false
   },
   "outputs": [
    {
     "data": {
      "text/plain": [
       "array([[ 0.72222222, -0.05555556,  0.33333333],\n",
       "       [-0.02777778,  0.94444444,  0.08333333],\n",
       "       [ 0.22222222,  0.11111111,  0.66666667]])"
      ]
     },
     "execution_count": 9,
     "metadata": {},
     "output_type": "execute_result"
    }
   ],
   "source": [
    "matrix = I - P + W\n",
    "matrix"
   ]
  },
  {
   "cell_type": "markdown",
   "metadata": {},
   "source": [
    "# $(I - P + W) = \\begin{pmatrix}1 & 0 & 0\\\\ 0 & 1 & 0\\\\ 0 & 0 & 1\\end{pmatrix} - \\begin{pmatrix}1/2 & 1/2 & 0\\\\ 1/4 & 1/2 & 1/4\\\\ 0 & 1/3 & 2/3\\end{pmatrix} + \\begin{pmatrix}2/9 & 4/9 & 1/3\\\\ 2/9 & 4/9 & 1/3\\\\ 2/9 & 4/9 & 1/3\\end{pmatrix}$"
   ]
  },
  {
   "cell_type": "markdown",
   "metadata": {},
   "source": [
    "# $= \\begin{pmatrix}13/18 & -1/18 & 1/3\\\\ -1/36 & 17/18 & 1/12\\\\ 2/9 & 1/9 & 2/3\\end{pmatrix}$"
   ]
  },
  {
   "cell_type": "markdown",
   "metadata": {},
   "source": [
    "# $Z = (I - P + W)^{-1}$"
   ]
  },
  {
   "cell_type": "code",
   "execution_count": 28,
   "metadata": {
    "collapsed": false
   },
   "outputs": [
    {
     "data": {
      "text/plain": [
       "array([[ 1.65432099,  0.19753086, -0.85185185],\n",
       "       [ 0.09876543,  1.08641975, -0.18518519],\n",
       "       [-0.56790123, -0.24691358,  1.81481481]])"
      ]
     },
     "execution_count": 28,
     "metadata": {},
     "output_type": "execute_result"
    }
   ],
   "source": [
    "Z = np.linalg.inv(matrix)\n",
    "Z"
   ]
  },
  {
   "cell_type": "markdown",
   "metadata": {},
   "source": [
    "# $\\implies Z = \\begin{pmatrix}1.65432099 & 0.19753086 & -0.85185185\\\\ 0.09876543 & 1.08641975 & -0.18518519\\\\-0.56790123 & -0.24691358 & 1.81481481\\end{pmatrix}$"
   ]
  },
  {
   "cell_type": "markdown",
   "metadata": {},
   "source": [
    "## To calculate $M$, we'll use the function we wrote"
   ]
  },
  {
   "cell_type": "code",
   "execution_count": 29,
   "metadata": {
    "collapsed": true
   },
   "outputs": [],
   "source": [
    "def calc_val(Z, W):\n",
    "    Z_diagonals = np.repeat(np.diag(Z)[:,np.newaxis], len(Z), axis = 1).T\n",
    "    return (Z_diagonals-Z)/W"
   ]
  },
  {
   "cell_type": "code",
   "execution_count": 30,
   "metadata": {
    "collapsed": true
   },
   "outputs": [],
   "source": [
    "M = calc_val(Z, W)"
   ]
  },
  {
   "cell_type": "code",
   "execution_count": 31,
   "metadata": {
    "collapsed": false
   },
   "outputs": [
    {
     "data": {
      "text/plain": [
       "array([[  0.,   2.,   8.],\n",
       "       [  7.,   0.,   6.],\n",
       "       [ 10.,   3.,   0.]])"
      ]
     },
     "execution_count": 31,
     "metadata": {},
     "output_type": "execute_result"
    }
   ],
   "source": [
    "M"
   ]
  },
  {
   "cell_type": "markdown",
   "metadata": {},
   "source": [
    "# $\\implies M = \\begin{pmatrix}0 & 2 & 8\\\\ 7 & 0 & 6\\\\ 10 & 3 & 0\\end{pmatrix}$"
   ]
  },
  {
   "cell_type": "markdown",
   "metadata": {},
   "source": [
    "# Therefore, if a school has a weak team, they should expect to wait 10 seasons before they're strong"
   ]
  },
  {
   "cell_type": "markdown",
   "metadata": {},
   "source": [
    "_____\n",
    "\n",
    "### Let's test this with a simulation"
   ]
  },
  {
   "cell_type": "markdown",
   "metadata": {},
   "source": [
    "# $P = \\begin{pmatrix}1/2 & 1/2 & 0\\\\ 1/4 & 1/2 & 1/4\\\\ 0 & 1/3 & 2/3\\end{pmatrix}$"
   ]
  },
  {
   "cell_type": "code",
   "execution_count": 39,
   "metadata": {
    "collapsed": true
   },
   "outputs": [],
   "source": [
    "def one_season(quality):\n",
    "    rand = np.random.rand()\n",
    "    \n",
    "    if quality == 'S':\n",
    "        if rand <= 0.5:\n",
    "            return 'S'\n",
    "        else:\n",
    "            return 'A'\n",
    "    if quality == 'A':\n",
    "        if rand <= 0.25:\n",
    "            return 'S'\n",
    "        elif rand <= (0.25 + 0.5):\n",
    "            return 'A'\n",
    "        else:\n",
    "            return 'W'\n",
    "    if quality == 'W':\n",
    "        if rand <= (1/3.0):\n",
    "            return 'A'\n",
    "        else:\n",
    "            return 'W'"
   ]
  },
  {
   "cell_type": "code",
   "execution_count": 40,
   "metadata": {
    "collapsed": true
   },
   "outputs": [],
   "source": [
    "def sim_until_strong():\n",
    "    quality = 'W'\n",
    "    \n",
    "    i = 0\n",
    "    \n",
    "    while quality != 'S':\n",
    "        i += 1\n",
    "        quality = one_season(quality)\n",
    "    \n",
    "    return i"
   ]
  },
  {
   "cell_type": "code",
   "execution_count": 41,
   "metadata": {
    "collapsed": true
   },
   "outputs": [],
   "source": [
    "results = []\n",
    "\n",
    "for sim in range(100000):\n",
    "    count = sim_until_strong()\n",
    "    results.append(count)"
   ]
  },
  {
   "cell_type": "code",
   "execution_count": 42,
   "metadata": {
    "collapsed": false
   },
   "outputs": [
    {
     "data": {
      "text/plain": [
       "9.9662900000000008"
      ]
     },
     "execution_count": 42,
     "metadata": {},
     "output_type": "execute_result"
    }
   ],
   "source": [
    "np.mean(results)"
   ]
  },
  {
   "cell_type": "markdown",
   "metadata": {},
   "source": [
    "**Pretty much bang on**"
   ]
  }
 ],
 "metadata": {
  "kernelspec": {
   "display_name": "Python 2",
   "language": "python",
   "name": "python2"
  },
  "language_info": {
   "codemirror_mode": {
    "name": "ipython",
    "version": 2
   },
   "file_extension": ".py",
   "mimetype": "text/x-python",
   "name": "python",
   "nbconvert_exporter": "python",
   "pygments_lexer": "ipython2",
   "version": "2.7.11"
  }
 },
 "nbformat": 4,
 "nbformat_minor": 2
}
