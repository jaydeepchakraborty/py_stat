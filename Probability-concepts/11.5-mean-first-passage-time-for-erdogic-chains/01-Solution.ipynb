{
 "cells": [
  {
   "cell_type": "markdown",
   "metadata": {},
   "source": [
    "# Consider the Markov chain with transition matrix \n",
    "\n",
    "# $P = \\begin{pmatrix}0.5 & 0.5\\\\ 0.25 & 0.75\\end{pmatrix}$"
   ]
  },
  {
   "cell_type": "markdown",
   "metadata": {},
   "source": [
    "## a) Find the fundamental matrix $Z$ for this chain\n",
    "\n",
    "## b) Compute the mean first passage time using $Z$"
   ]
  },
  {
   "cell_type": "markdown",
   "metadata": {},
   "source": [
    "_____\n",
    "\n",
    "# a)\n",
    "\n",
    "# $Z = (I - P + W)^{-1}$"
   ]
  },
  {
   "cell_type": "markdown",
   "metadata": {},
   "source": [
    "# First we calculate $w$"
   ]
  },
  {
   "cell_type": "markdown",
   "metadata": {},
   "source": [
    "## $0.5w_{1}+0.25w_{2} = w_{1}$\n",
    "\n",
    "## $0.5_{w1}+0.75w_{2} = w_{2}$\n",
    "\n",
    "\n",
    "**Set $w_{1}=1$**"
   ]
  },
  {
   "cell_type": "markdown",
   "metadata": {},
   "source": [
    "## $\\implies 0.25w_{2} = 1 \\implies w_{2} = 4 \\implies w^{*} = [1, 4] \\implies w = [0.2, 0.8]$"
   ]
  },
  {
   "cell_type": "markdown",
   "metadata": {},
   "source": [
    "# $\\implies W = \\begin{pmatrix}0.2 & 0.8\\\\ 0.2 & 0.8\\end{pmatrix}$"
   ]
  },
  {
   "cell_type": "markdown",
   "metadata": {},
   "source": [
    "# $\\implies \\begin{pmatrix}1 & 0\\\\ 0 & 1\\end{pmatrix} - \\begin{pmatrix}0.5 & 0.5\\\\ 0.25 & 0.75\\end{pmatrix} + \\begin{pmatrix}0.2 & 0.8\\\\ 0.2 & 0.8\\end{pmatrix} = \\begin{pmatrix}0.7 & 0.3\\\\ -0.05& 1.05\\end{pmatrix}$"
   ]
  },
  {
   "cell_type": "code",
   "execution_count": 1,
   "metadata": {
    "collapsed": true
   },
   "outputs": [],
   "source": [
    "import numpy as np"
   ]
  },
  {
   "cell_type": "code",
   "execution_count": 5,
   "metadata": {
    "collapsed": false
   },
   "outputs": [],
   "source": [
    "matrix = np.array([[ 0.7 ,  0.3 ],[-0.05,  1.05]])"
   ]
  },
  {
   "cell_type": "code",
   "execution_count": 7,
   "metadata": {
    "collapsed": false
   },
   "outputs": [
    {
     "data": {
      "text/plain": [
       "array([[ 1.4       , -0.4       ],\n",
       "       [ 0.06666667,  0.93333333]])"
      ]
     },
     "execution_count": 7,
     "metadata": {},
     "output_type": "execute_result"
    }
   ],
   "source": [
    "Z = np.linalg.inv(matrix)\n",
    "Z"
   ]
  },
  {
   "cell_type": "markdown",
   "metadata": {},
   "source": [
    "# $\\implies Z = \\begin{pmatrix}1.4 & -0.4\\\\ 0.067 & 0.933\\end{pmatrix}$"
   ]
  },
  {
   "cell_type": "markdown",
   "metadata": {},
   "source": [
    "____\n",
    "\n",
    "# b)"
   ]
  },
  {
   "cell_type": "markdown",
   "metadata": {},
   "source": [
    "**We'll use the function we created to solve for $M$**"
   ]
  },
  {
   "cell_type": "code",
   "execution_count": 8,
   "metadata": {
    "collapsed": true
   },
   "outputs": [],
   "source": [
    "def calc_val(Z, W):\n",
    "    Z_diagonals = np.repeat(np.diag(Z)[:,np.newaxis], len(Z), axis = 1).T\n",
    "    return (Z_diagonals-Z)/W"
   ]
  },
  {
   "cell_type": "code",
   "execution_count": 9,
   "metadata": {
    "collapsed": true
   },
   "outputs": [],
   "source": [
    "W = np.array([[0.2,0.8],[0.2,0.8]])"
   ]
  },
  {
   "cell_type": "code",
   "execution_count": 11,
   "metadata": {
    "collapsed": false
   },
   "outputs": [
    {
     "data": {
      "text/plain": [
       "array([[ 0.2,  0.8],\n",
       "       [ 0.2,  0.8]])"
      ]
     },
     "execution_count": 11,
     "metadata": {},
     "output_type": "execute_result"
    }
   ],
   "source": [
    "W"
   ]
  },
  {
   "cell_type": "code",
   "execution_count": 10,
   "metadata": {
    "collapsed": false
   },
   "outputs": [
    {
     "data": {
      "text/plain": [
       "array([[ 0.        ,  1.66666667],\n",
       "       [ 6.66666667,  0.        ]])"
      ]
     },
     "execution_count": 10,
     "metadata": {},
     "output_type": "execute_result"
    }
   ],
   "source": [
    "calc_val(Z, W)"
   ]
  },
  {
   "cell_type": "markdown",
   "metadata": {},
   "source": [
    "# $\\implies M = \\begin{pmatrix}0 & 5/3\\\\ 20/3 & 0\\end{pmatrix}$"
   ]
  }
 ],
 "metadata": {
  "kernelspec": {
   "display_name": "Python 2",
   "language": "python",
   "name": "python2"
  },
  "language_info": {
   "codemirror_mode": {
    "name": "ipython",
    "version": 2
   },
   "file_extension": ".py",
   "mimetype": "text/x-python",
   "name": "python",
   "nbconvert_exporter": "python",
   "pygments_lexer": "ipython2",
   "version": "2.7.11"
  }
 },
 "nbformat": 4,
 "nbformat_minor": 0
}
