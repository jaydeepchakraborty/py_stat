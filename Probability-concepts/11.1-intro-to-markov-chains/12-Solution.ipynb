{
 "cells": [
  {
   "cell_type": "markdown",
   "metadata": {},
   "source": [
    "# In [Exercise 11](11-Solution.ipynb), we assumed that every man has a son\n",
    "\n",
    "# Assume instead that the probability that a man has a son is 0.8\n",
    "\n",
    "# Form a Markov chain with four states\n",
    "\n",
    "# If a man has a son, the probability that this son is in a particular profession is the same as in Exercise 11\n",
    "\n",
    "# If there is no son, the process moves to state four which represents families whose male line has died out\n",
    "\n",
    "# Find the matrix of transition probabilities and find the probability that a randomly chosen grandson of an unskilled laborer is a professional man"
   ]
  },
  {
   "cell_type": "markdown",
   "metadata": {},
   "source": [
    "___\n",
    "\n",
    "# To adjust the matrix from 11 to include the possibility of not having a son, we simply multiply the matrix by 0.8 and add a column with all values of 0.2 (except for the last value)"
   ]
  },
  {
   "cell_type": "markdown",
   "metadata": {},
   "source": [
    "# $P = \\begin{pmatrix}0.64 & 0.08 & 0.08 & 0.2\\\\0.16 & 0.48 & 0.16 & 0.2\\\\0.2 & 0.2 & 0.4 & 0.2\\\\0 & 0 & 0 & 1\\end{pmatrix}$"
   ]
  },
  {
   "cell_type": "code",
   "execution_count": 1,
   "metadata": {
    "collapsed": true
   },
   "outputs": [],
   "source": [
    "import pandas as pd\n",
    "import numpy as np"
   ]
  },
  {
   "cell_type": "code",
   "execution_count": 2,
   "metadata": {
    "collapsed": false
   },
   "outputs": [
    {
     "data": {
      "text/html": [
       "<div>\n",
       "<table border=\"1\" class=\"dataframe\">\n",
       "  <thead>\n",
       "    <tr style=\"text-align: right;\">\n",
       "      <th></th>\n",
       "      <th>Professional</th>\n",
       "      <th>Skilled</th>\n",
       "      <th>Unskilled</th>\n",
       "      <th>Dead</th>\n",
       "    </tr>\n",
       "  </thead>\n",
       "  <tbody>\n",
       "    <tr>\n",
       "      <th>Professional</th>\n",
       "      <td>0.64</td>\n",
       "      <td>0.08</td>\n",
       "      <td>0.08</td>\n",
       "      <td>0.2</td>\n",
       "    </tr>\n",
       "    <tr>\n",
       "      <th>Skilled</th>\n",
       "      <td>0.16</td>\n",
       "      <td>0.48</td>\n",
       "      <td>0.16</td>\n",
       "      <td>0.2</td>\n",
       "    </tr>\n",
       "    <tr>\n",
       "      <th>Unskilled</th>\n",
       "      <td>0.2</td>\n",
       "      <td>0.2</td>\n",
       "      <td>0.4</td>\n",
       "      <td>0.2</td>\n",
       "    </tr>\n",
       "    <tr>\n",
       "      <th>Dead</th>\n",
       "      <td>0</td>\n",
       "      <td>0</td>\n",
       "      <td>0</td>\n",
       "      <td>1</td>\n",
       "    </tr>\n",
       "  </tbody>\n",
       "</table>\n",
       "</div>"
      ],
      "text/plain": [
       "             Professional Skilled Unskilled Dead\n",
       "Professional         0.64    0.08      0.08  0.2\n",
       "Skilled              0.16    0.48      0.16  0.2\n",
       "Unskilled             0.2     0.2       0.4  0.2\n",
       "Dead                    0       0         0    1"
      ]
     },
     "execution_count": 2,
     "metadata": {},
     "output_type": "execute_result"
    }
   ],
   "source": [
    "list_states = ['Professional', 'Skilled', 'Unskilled', 'Dead']\n",
    "df_P = pd.DataFrame(index = list_states, columns = list_states)\n",
    "df_P.loc['Professional'] = [0.64,0.08,0.08,0.2]\n",
    "df_P.loc['Skilled'] = [0.16,0.48,0.16,0.2]\n",
    "df_P.loc['Unskilled'] = [0.2,0.2,0.4,0.2]\n",
    "df_P.loc['Dead'] = [0,0,0,1]\n",
    "df_P"
   ]
  },
  {
   "cell_type": "code",
   "execution_count": 3,
   "metadata": {
    "collapsed": false
   },
   "outputs": [
    {
     "data": {
      "text/html": [
       "<div>\n",
       "<table border=\"1\" class=\"dataframe\">\n",
       "  <thead>\n",
       "    <tr style=\"text-align: right;\">\n",
       "      <th></th>\n",
       "      <th>Professional</th>\n",
       "      <th>Skilled</th>\n",
       "      <th>Unskilled</th>\n",
       "      <th>Dead</th>\n",
       "    </tr>\n",
       "  </thead>\n",
       "  <tbody>\n",
       "    <tr>\n",
       "      <th>Professional</th>\n",
       "      <td>0.4384</td>\n",
       "      <td>0.1056</td>\n",
       "      <td>0.096</td>\n",
       "      <td>0.36</td>\n",
       "    </tr>\n",
       "    <tr>\n",
       "      <th>Skilled</th>\n",
       "      <td>0.2112</td>\n",
       "      <td>0.2752</td>\n",
       "      <td>0.1536</td>\n",
       "      <td>0.36</td>\n",
       "    </tr>\n",
       "    <tr>\n",
       "      <th>Unskilled</th>\n",
       "      <td>0.24</td>\n",
       "      <td>0.192</td>\n",
       "      <td>0.208</td>\n",
       "      <td>0.36</td>\n",
       "    </tr>\n",
       "    <tr>\n",
       "      <th>Dead</th>\n",
       "      <td>0</td>\n",
       "      <td>0</td>\n",
       "      <td>0</td>\n",
       "      <td>1</td>\n",
       "    </tr>\n",
       "  </tbody>\n",
       "</table>\n",
       "</div>"
      ],
      "text/plain": [
       "             Professional Skilled Unskilled  Dead\n",
       "Professional       0.4384  0.1056     0.096  0.36\n",
       "Skilled            0.2112  0.2752    0.1536  0.36\n",
       "Unskilled            0.24   0.192     0.208  0.36\n",
       "Dead                    0       0         0     1"
      ]
     },
     "execution_count": 3,
     "metadata": {},
     "output_type": "execute_result"
    }
   ],
   "source": [
    "P = df_P.as_matrix()\n",
    "P2 = np.linalg.matrix_power(P, 2)\n",
    "df_P2 = pd.DataFrame(P2, index = list_states, columns = list_states)\n",
    "df_P2"
   ]
  },
  {
   "cell_type": "markdown",
   "metadata": {},
   "source": [
    "# Therefore our probability is 0.24"
   ]
  }
 ],
 "metadata": {
  "kernelspec": {
   "display_name": "Python 2",
   "language": "python",
   "name": "python2"
  },
  "language_info": {
   "codemirror_mode": {
    "name": "ipython",
    "version": 2
   },
   "file_extension": ".py",
   "mimetype": "text/x-python",
   "name": "python",
   "nbconvert_exporter": "python",
   "pygments_lexer": "ipython2",
   "version": "2.7.11"
  }
 },
 "nbformat": 4,
 "nbformat_minor": 0
}
