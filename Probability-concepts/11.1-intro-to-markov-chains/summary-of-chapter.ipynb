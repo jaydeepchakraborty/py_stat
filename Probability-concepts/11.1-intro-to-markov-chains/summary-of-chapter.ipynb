{
 "cells": [
  {
   "cell_type": "markdown",
   "metadata": {},
   "source": [
    "- So far, we've been thinking about independent trials\n",
    "    - Since the trials all have identical densities, we can use a single experiment to extrapolate all possible outcomes of the series of experiments\n",
    "    \n",
    "- In a Markov chain process, the outcome of each experiment affects the outcome of future experiments (essentially a *dependent* trials process)"
   ]
  },
  {
   "cell_type": "markdown",
   "metadata": {},
   "source": [
    "# Definition of Markov Chain"
   ]
  },
  {
   "cell_type": "markdown",
   "metadata": {},
   "source": [
    "### We have a set of states $S = \\left \\{ s_{1}, s_{2}, ..., s_{r} \\right \\}$"
   ]
  },
  {
   "cell_type": "markdown",
   "metadata": {},
   "source": [
    "### The process starts in some state $s_{i}$ (not necessarily $s_{1}$)"
   ]
  },
  {
   "cell_type": "markdown",
   "metadata": {},
   "source": [
    "### The process then takes a \"step\" and moves to another state (note: can stay in current state)"
   ]
  },
  {
   "cell_type": "markdown",
   "metadata": {},
   "source": [
    "### If the process moves from state $i$ to state $j$, the probability of such a move is denoted $p_{ij}$ (therefore, the probability that it stays in state $i$ is denoted $p_{ii}$\n",
    "\n",
    "### These probabilities are called *transition probabilities*"
   ]
  },
  {
   "cell_type": "markdown",
   "metadata": {},
   "source": [
    "_____\n",
    "\n",
    "## Example\n",
    "\n",
    "- The Land of Oz is blessed by many things, but not by good weather\n",
    "- They never have two nice days in a row\n",
    "- If they have a nice day, they are just as likely to have snow or rain the next day\n",
    "- If they have snow or rain, they have a 50% chance of having it the next day\n",
    "    - They have a 25% chance of having a nice day the following day\n",
    "    \n",
    "- **We use this info to build our *transition matrix* **\n",
    "\n",
    "![](images/Oz_matrix.PNG)"
   ]
  },
  {
   "cell_type": "markdown",
   "metadata": {},
   "source": [
    "- As we can see from the matrix above, if we start in the first row (i.e. our current state is that it rained today), then the probability of rain tomorrow is 1/2, the probability of it being a nice day tomorrow is 1/4, and the probability of it snowing tomorrow is 1/4"
   ]
  },
  {
   "cell_type": "markdown",
   "metadata": {},
   "source": [
    "### How can we answer the following question: *what is the probability that it snows two days from now given that it's raining today?*\n",
    "\n",
    "- To calculate this, we need to take the sum of three probabilities:\n",
    "\n",
    "1. It rains tomorrow, and it snows the following day\n",
    "2. It is nice tomorrow, and it snows the following day\n",
    "3. It snows tomorrow, and it snows the following day as well\n",
    "\n",
    "- The probability of event 1 is (1/2)(1/4) = 1/8\n",
    "- The probability of event 2 is (1/4)(1/2) = 1/8\n",
    "- The probability of event 3 is (1/4)(1/2) = 1/8\n",
    "\n",
    "### Therefore, the answer is 3/8"
   ]
  },
  {
   "cell_type": "markdown",
   "metadata": {},
   "source": [
    "### More generally, if we want represent rain as state 1, nice day as state 2, and snow as state three, then:\n",
    "\n",
    "# $p_{13}^{(2)} = p_{11}p_{13} + p_{12}p_{23} + p_{13}p_{33}$"
   ]
  },
  {
   "cell_type": "markdown",
   "metadata": {},
   "source": [
    "# Recall: if we matrix multiply a 3x3 matrix with itself:\n",
    "\n",
    "# $\\begin{pmatrix} p_{11} & p_{12} & p_{13}\\\\ p_{21} & p_{22} & p_{23}\\\\ p_{31} & p_{32} & p_{33} \\end{pmatrix} \\cdot \\begin{pmatrix} p_{11} & p_{12} & p_{13}\\\\ p_{21} & p_{22} & p_{23}\\\\ p_{31} & p_{32} & p_{33} \\end{pmatrix}$\n",
    "\n",
    "$=\\begin{pmatrix} \\left ( p_{11}^{2}+p_{12}p_{21}+p_{13}p_{31}\\right ) & \\left ( p_{11}p_{12} + p_{12}p_{22}+p_{13}p_{32} \\right ) & \\left ( p_{11}p_{13}+p_{12}p_{23}+p_{13}p_{33} \\right )\\\\  \\left (p_{21}p_{11}+p_{22}p_{21}+p_{23}p_{31} \\right ) & \\left (p_{21}p_{12} + p_{22}^{2}+p_{23}p_{32} \\right ) & \\left(  (p_{21}p_{13}+p_{22}p_{23}+p_{23}p_{33}\\right)\\\\  \\left (p_{31}p_{11}+p_{32}p_{21}+p_{33}p_{31} \\right ) & \\left (p_{31}p_{12}+p_{32}p_{22}+p_{33}p_{32} \\right ) & \\left (p_{31}p_{13}+p_{32}p_{23}+p_{33}^{2} \\right ) \\end{pmatrix}$"
   ]
  },
  {
   "cell_type": "markdown",
   "metadata": {},
   "source": [
    "### If we look at the top right corner of the matrix, we see $p_{13}^{(2)}$\n",
    "\n",
    "### This leads to the following theorem..."
   ]
  },
  {
   "cell_type": "markdown",
   "metadata": {},
   "source": [
    "_____\n",
    "\n",
    "# Theorem 11.1\n",
    "\n",
    "# Let $P$ be the transition matrix of a Markov chain\n",
    "\n",
    "# Then $p_{ij}^{(n)}$ is equal to the $ij^{th}$ element of $P^{n}$ (i.e. the value in the $i^{th}$ row and $j^{th}$ column)"
   ]
  },
  {
   "cell_type": "markdown",
   "metadata": {},
   "source": [
    "_____\n",
    "\n",
    "### We'll calculate the matrix $P^{n}$ in our previous example for $n$ in $[1,2,...,6]$"
   ]
  },
  {
   "cell_type": "code",
   "execution_count": 1,
   "metadata": {
    "collapsed": true
   },
   "outputs": [],
   "source": [
    "import numpy as np\n",
    "import pandas as pd"
   ]
  },
  {
   "cell_type": "code",
   "execution_count": 2,
   "metadata": {
    "collapsed": false
   },
   "outputs": [
    {
     "data": {
      "text/html": [
       "<div>\n",
       "<table border=\"1\" class=\"dataframe\">\n",
       "  <thead>\n",
       "    <tr style=\"text-align: right;\">\n",
       "      <th></th>\n",
       "      <th>Rain</th>\n",
       "      <th>Nice</th>\n",
       "      <th>Snow</th>\n",
       "    </tr>\n",
       "  </thead>\n",
       "  <tbody>\n",
       "    <tr>\n",
       "      <th>Rain</th>\n",
       "      <td>0.5</td>\n",
       "      <td>0.25</td>\n",
       "      <td>0.25</td>\n",
       "    </tr>\n",
       "    <tr>\n",
       "      <th>Nice</th>\n",
       "      <td>0.5</td>\n",
       "      <td>0</td>\n",
       "      <td>0.5</td>\n",
       "    </tr>\n",
       "    <tr>\n",
       "      <th>Snow</th>\n",
       "      <td>0.25</td>\n",
       "      <td>0.25</td>\n",
       "      <td>0.5</td>\n",
       "    </tr>\n",
       "  </tbody>\n",
       "</table>\n",
       "</div>"
      ],
      "text/plain": [
       "      Rain  Nice  Snow\n",
       "Rain   0.5  0.25  0.25\n",
       "Nice   0.5     0   0.5\n",
       "Snow  0.25  0.25   0.5"
      ]
     },
     "execution_count": 2,
     "metadata": {},
     "output_type": "execute_result"
    }
   ],
   "source": [
    "list_states = ['Rain', 'Nice', 'Snow']\n",
    "df_P = pd.DataFrame(columns = list_states, index = list_states)\n",
    "df_P.loc['Rain'] = [0.5,0.25,0.25]\n",
    "df_P.loc['Nice'] = [0.5,0,0.5]\n",
    "df_P.loc['Snow'] = [0.25,0.25,0.5]\n",
    "df_P"
   ]
  },
  {
   "cell_type": "code",
   "execution_count": 3,
   "metadata": {
    "collapsed": false
   },
   "outputs": [
    {
     "name": "stdout",
     "output_type": "stream",
     "text": [
      "\n",
      " n=1\n",
      "      Rain  Nice  Snow\n",
      "Rain   0.5  0.25  0.25\n",
      "Nice   0.5     0   0.5\n",
      "Snow  0.25  0.25   0.5\n",
      "\n",
      " n=2\n",
      "        Rain    Nice    Snow\n",
      "Rain  0.4375  0.1875   0.375\n",
      "Nice   0.375    0.25   0.375\n",
      "Snow   0.375  0.1875  0.4375\n",
      "\n",
      " n=3\n",
      "          Rain      Nice      Snow\n",
      "Rain   0.40625  0.203125  0.390625\n",
      "Nice   0.40625    0.1875   0.40625\n",
      "Snow  0.390625  0.203125   0.40625\n",
      "\n",
      " n=4\n",
      "           Rain       Nice       Snow\n",
      "Rain  0.4023438  0.1992188  0.3984375\n",
      "Nice  0.3984375   0.203125  0.3984375\n",
      "Snow  0.3984375  0.1992188  0.4023438\n",
      "\n",
      " n=5\n",
      "           Rain       Nice       Snow\n",
      "Rain  0.4003906  0.2001953  0.3994141\n",
      "Nice  0.4003906  0.1992188  0.4003906\n",
      "Snow  0.3994141  0.2001953  0.4003906\n",
      "\n",
      " n=6\n",
      "           Rain       Nice       Snow\n",
      "Rain  0.4001465  0.1999512  0.3999023\n",
      "Nice  0.3999023  0.2001953  0.3999023\n",
      "Snow  0.3999023  0.1999512  0.4001465\n"
     ]
    }
   ],
   "source": [
    "matrix = df_P.as_matrix()\n",
    "\n",
    "for n in [1,2,3,4,5,6]:\n",
    "    P_n = np.linalg.matrix_power(matrix, n)\n",
    "    df_n = pd.DataFrame(P_n, columns = list_states, index = list_states)\n",
    "    print('\\n n={}'.format(n))\n",
    "    print(df_n)"
   ]
  },
  {
   "cell_type": "markdown",
   "metadata": {},
   "source": [
    "### As we can see, the value in the top right corner is equal to our calculated probability of 3/8"
   ]
  },
  {
   "cell_type": "markdown",
   "metadata": {},
   "source": [
    "## We also note that by $n=6$, the probability of rain in 6 days is about 0.4 regardless of today's state\n",
    "\n",
    "## Similarly, the proability of it being nice in 6 days is 0.2 no matter what\n",
    "\n",
    "## This is an example of a *regular* Markov chain"
   ]
  },
  {
   "cell_type": "markdown",
   "metadata": {},
   "source": [
    "______\n",
    "\n",
    "# *Probability Vectors*\n",
    "\n",
    "### Now, let's assume that the starting state for a process follows a distribution\n",
    "\n",
    "### This distribution is called a *probability vector*\n",
    "\n",
    "- E.g. imagine if the probability vector for our previous example is $\\vec{u} = [1/2, 1/3, 1/6]$\n",
    "    - Then, the probability that our first state is Rain is 1/2, etc."
   ]
  },
  {
   "cell_type": "markdown",
   "metadata": {},
   "source": [
    "____\n",
    "\n",
    "# Theorem 11.2\n",
    "\n",
    "## Let $P$ be the transition matrix of a Markov chain and $\\vec{u}$ then probability vector\n",
    "\n",
    "## Then $\\vec{u}^{n} = \\vec{u}P^{n}$"
   ]
  },
  {
   "cell_type": "markdown",
   "metadata": {},
   "source": [
    "_____\n",
    "\n",
    "### Coming back to our previous example, let's assume $\\vec{u} = [1/3, 1/3, 1/3]$ (i.e. every starting state is equally likely)\n",
    "\n",
    "### Then, we want to know the probability of having a nice day in three days for each starting state. This is given by:\n",
    "\n",
    "# $\\vec{u}^{(3)} = \\vec{u}P^{3}= [1/3, 1/3, 1/3]\\begin{pmatrix}0.40625 & 0.203125 & 0.390625\\\\ 0.40625 & 0.1875 & 0.40625\\\\ 0.39025 & 0.203125 & 0.40625\\end{pmatrix}$\n",
    "\n",
    "# $= [0.401, 0.198, 0.401]$"
   ]
  },
  {
   "cell_type": "markdown",
   "metadata": {},
   "source": [
    "### Therefore, the probability of it being a nice day in 3 days (without knowing today's weather) is about 0.198"
   ]
  },
  {
   "cell_type": "markdown",
   "metadata": {},
   "source": [
    "______\n",
    "\n",
    "# Examples\n",
    "\n",
    "## 11.4\n",
    "\n",
    "### The president of the United States tells person A his or her intention to run or not run in the next election\n",
    "\n",
    "### Then person A spreads the news to person B, person B spreads the news to person C, and so on and so forth\n",
    "\n",
    "### We assume that the probability of error (i.e. broken telephone where the wrong message is transmitted) is equal to $a$ if they're switching it from YES to NO, and equal to $b$ if they're switching it from NO to YES\n",
    "\n",
    "### Then we can represent this Markov process as:\n",
    "\n",
    "# $P=\\begin{pmatrix}(1-a) & a\\\\ b & (1-b)\\end{pmatrix}$\n",
    "\n",
    "### We can represent the president's probability vector as $\\bar{u} = [p, 1-p]$ where $p$ is the probability that he/she will run again"
   ]
  },
  {
   "cell_type": "markdown",
   "metadata": {},
   "source": [
    "_____\n",
    "\n",
    "## 11.5\n",
    "\n",
    "### Each time a certain horse runs in a three-horse race, he has a 1/2 probability of winning, a 1/4 probability of coming in second, and a 1/4 probability of coming in third. These probabilities are independent of the placement in the previous race\n",
    "\n",
    "### Then, we can represent this Markov process as:\n",
    "\n",
    "# $P= \\begin{pmatrix}0.5 & 0.25 & 0.25\\\\0.5 & 0.25 & 0.25\\\\0.5 & 0.25 & 0.25\\end{pmatrix}$"
   ]
  },
  {
   "cell_type": "markdown",
   "metadata": {},
   "source": [
    "______\n",
    "\n",
    "## 11.6\n",
    "\n",
    "### Back in the day, Harvard, Dartmouth, and Yale only admitted male students\n",
    "\n",
    "### Assume that if a father went to Harvard, there was an 80% chance that his son would go to Harvard, and the remaining 20% went to Yale\n",
    "\n",
    "### If a father went to Yale, there was a 40% chance his son would go to Yale, a 30% chance his son would go to Harvard, and a 30% chance his son would go to Dartmouth\n",
    "\n",
    "### If a father went to Dartmouth, there was a 70% chance his son would go to Dartmouth, a 20% chance his son would go to Harvard, and a 10% chance he would go to Yale\n",
    "\n",
    "### Then, we build the Markov process representation as:\n",
    "\n",
    "# $P = \\begin{pmatrix}0.8 & 0.2 & 0\\\\ 0.3 & 0.4 & 0.3\\\\ 0.2 & 0.1 & 0.7\\end{pmatrix}$"
   ]
  },
  {
   "cell_type": "markdown",
   "metadata": {},
   "source": [
    "____\n",
    "\n",
    "## 11.7\n",
    "\n",
    "### If we modify Example 11.6 so that all sons of Harvard grads go to Harvard, $P$ becomes:\n",
    "\n",
    "# $P = \\begin{pmatrix}1 & 0 & 0\\\\ 0.3 & 0.4 & 0.3\\\\ 0.2 & 0.1 & 0.7\\end{pmatrix}$"
   ]
  },
  {
   "cell_type": "markdown",
   "metadata": {},
   "source": [
    "_____\n",
    "\n",
    "## 11.8 - Ehrenfest Model for diffusion of gases\n",
    "\n",
    "### We have two urns that combined contain four balls\n",
    "\n",
    "### At each step, we choose a ball and move it to the other urn\n",
    "\n",
    "### We can represent this process using the number of balls in the first urn (either 0, 1, 2, 3, or 4)\n",
    "\n",
    "### Then, our matrix $P$ will look like:\n",
    "\n",
    "# $P = \\begin{pmatrix}0 & 1 & 0 & 0 & 0\\\\ 1/4 & 0 & 3/4 & 0 & 0\\\\ 0 & 1/2 & 0 & 1/2 & 0\\\\ 0 & 0 & 3/4 & 0 & 1/4\\\\ 0 & 0 & 0 & 1 & 0\\end{pmatrix}$"
   ]
  },
  {
   "cell_type": "markdown",
   "metadata": {},
   "source": [
    "____\n",
    "\n",
    "## 11.9 - Gene Model\n",
    "\n",
    "### The simplest model for inheritance occurs when a trait is governed by a pair of genes\n",
    "\n",
    "### There are two types of genes: G and g\n",
    "\n",
    "### And individual can have GG, gG, Gg (which is indistinguishable and thus equivalent to gG), or gg\n",
    "\n",
    "### It is common for Gg to be identical to GG, in which case we say G dominates g\n",
    "\n",
    "### An individual is *dominant* if they have GG, *recessive* if they have gg, and hybid if they have Gg/gG\n",
    "\n",
    "### When two animals mate, the offspring inherits one gene from each parent (chosen randomly)\n",
    "\n",
    "### The offspring of two dominant parents must also be dominant (since they only have Gs to assign)\n",
    "\n",
    "### Similarly, the offspring of two recessive parents must also be recessive, while the offspring of one recessive parent and one dominant parent must be hybrid\n",
    "\n",
    "### If a dominant parent and a hybrid parent mate, the offspring is guaranteed to receive a G from the dominant parent, but receives a G or a g from the hybrid parent with equal probability. Therefore the probability of the offspring being dominant is 1/2, and the probability of it being hybrid is 1/2\n",
    "\n",
    "### The same is true if a recessive parent mates with a hybrid parent\n",
    "\n",
    "### If two hybrid parents mate, there's a 1/2 chance of the offspring being hybrid, a 1/4 chance of it being recessive and a 1/4 chance of it being dominant\n",
    "\n",
    "### We think of our starting state as parent 1 being either GG, Gg, or gg. They are assigned a hybrid mate, and we can represent the mating process as follows:\n",
    "\n",
    "# $P = \\begin{pmatrix}1/2 & 1/2 & 0\\\\ 1/4 & 1/2 & 1/4\\\\ 0 & 1/2 & 1/2\\end{pmatrix}$"
   ]
  },
  {
   "cell_type": "markdown",
   "metadata": {},
   "source": [
    "____\n",
    "\n",
    "## 11.10\n",
    "\n",
    "### If we chance the process to parent 1 being mated with a dominant partner, the process is represented by:\n",
    "\n",
    "# $P = \\begin{pmatrix}1 & 0 & 0\\\\ 1/2 & 1/2 & 0\\\\ 0 & 1 & 0\\end{pmatrix}$"
   ]
  },
  {
   "cell_type": "markdown",
   "metadata": {},
   "source": [
    "_____\n",
    "\n",
    "## 11.11\n",
    "\n",
    "### We start with two animals of opposite sex, mate them, select two of their offspring (of opposite sex), and mate those...\n",
    "\n",
    "### We assume that the trait we're evaluating is independent of sex\n",
    "\n",
    "### The states are determined by a pair of animals: $s_{1} = (GG,GG)$, $s_{2} = (GG,Gg)$, $s_{3} = (GG,gg)$, $s_{4} = (Gg,Gg)$, $s_{5} = (Gg,gg)$, $s_{6} = (gg,gg)$"
   ]
  },
  {
   "cell_type": "markdown",
   "metadata": {},
   "source": [
    "### We know that two dominant parents can only have dominant offspring, therefore $s_{1}$ stays in $s_{1}$ with probability 1"
   ]
  },
  {
   "cell_type": "markdown",
   "metadata": {},
   "source": [
    "### We can say the same for $s_{6}$"
   ]
  },
  {
   "cell_type": "markdown",
   "metadata": {},
   "source": [
    "### If we start in $s_{2}$, we have a dominant parent and a hybrid parent. This means that for every offspring they produce, the probability that it'll be dominant is 1/2, and the probability that it'll be hybrid is 1/2\n",
    "\n",
    "### This means that, since our parents are producing two offspring, the probability that they're both dominant is (1/2)(1/2) = 1/4, the probability that they're both hybrid is 1/4, and the probability that one is dominant and the other is hybrid is 1-1/4-1/4 = 1/2\n",
    "\n",
    "### Therefore, $s_{2}$ has a probability of 1/4 of transitioning to $s_{1}$, 1/4 of transitioning to $s_{4}$, and 1/2 of transitioning to $s_{2}$ (and 0 for all others)"
   ]
  },
  {
   "cell_type": "markdown",
   "metadata": {},
   "source": [
    "### We continue this analysis to produce the following representation of the process:\n",
    "\n",
    "![](images/11.11-matrix.PNG)"
   ]
  }
 ],
 "metadata": {
  "kernelspec": {
   "display_name": "Python 2",
   "language": "python",
   "name": "python2"
  },
  "language_info": {
   "codemirror_mode": {
    "name": "ipython",
    "version": 2
   },
   "file_extension": ".py",
   "mimetype": "text/x-python",
   "name": "python",
   "nbconvert_exporter": "python",
   "pygments_lexer": "ipython2",
   "version": "2.7.11"
  }
 },
 "nbformat": 4,
 "nbformat_minor": 1
}
