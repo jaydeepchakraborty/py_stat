{
 "cells": [
  {
   "cell_type": "markdown",
   "metadata": {},
   "source": [
    "# Modify the program `MatrixPowers` so that it prints out the average $A_{n}$ of the powers $P^{n}$ for $n$ in $[1, ..., N]$\n",
    "\n",
    "# Look at $A_{n}$ for out Land of Oz example"
   ]
  },
  {
   "cell_type": "markdown",
   "metadata": {},
   "source": [
    "_____\n"
   ]
  },
  {
   "cell_type": "code",
   "execution_count": 1,
   "metadata": {
    "collapsed": true
   },
   "outputs": [],
   "source": [
    "import numpy as np\n",
    "import pandas as pd"
   ]
  },
  {
   "cell_type": "code",
   "execution_count": 2,
   "metadata": {
    "collapsed": false
   },
   "outputs": [
    {
     "data": {
      "text/html": [
       "<div>\n",
       "<table border=\"1\" class=\"dataframe\">\n",
       "  <thead>\n",
       "    <tr style=\"text-align: right;\">\n",
       "      <th></th>\n",
       "      <th>Rain</th>\n",
       "      <th>Nice</th>\n",
       "      <th>Snow</th>\n",
       "    </tr>\n",
       "  </thead>\n",
       "  <tbody>\n",
       "    <tr>\n",
       "      <th>Rain</th>\n",
       "      <td>0.5</td>\n",
       "      <td>0.25</td>\n",
       "      <td>0.25</td>\n",
       "    </tr>\n",
       "    <tr>\n",
       "      <th>Nice</th>\n",
       "      <td>0.5</td>\n",
       "      <td>0</td>\n",
       "      <td>0.5</td>\n",
       "    </tr>\n",
       "    <tr>\n",
       "      <th>Snow</th>\n",
       "      <td>0.25</td>\n",
       "      <td>0.25</td>\n",
       "      <td>0.5</td>\n",
       "    </tr>\n",
       "  </tbody>\n",
       "</table>\n",
       "</div>"
      ],
      "text/plain": [
       "      Rain  Nice  Snow\n",
       "Rain   0.5  0.25  0.25\n",
       "Nice   0.5     0   0.5\n",
       "Snow  0.25  0.25   0.5"
      ]
     },
     "execution_count": 2,
     "metadata": {},
     "output_type": "execute_result"
    }
   ],
   "source": [
    "list_states = ['Rain', 'Nice', 'Snow']\n",
    "df_P = pd.DataFrame(columns = list_states, index = list_states)\n",
    "df_P.loc['Rain'] = [0.5,0.25,0.25]\n",
    "df_P.loc['Nice'] = [0.5,0,0.5]\n",
    "df_P.loc['Snow'] = [0.25,0.25,0.5]\n",
    "df_P"
   ]
  },
  {
   "cell_type": "code",
   "execution_count": 10,
   "metadata": {
    "collapsed": false
   },
   "outputs": [
    {
     "name": "stdout",
     "output_type": "stream",
     "text": [
      "\n",
      " n=1\n",
      "      Rain  Nice  Snow\n",
      "Rain   0.5  0.25  0.25\n",
      "Nice   0.5     0   0.5\n",
      "Snow  0.25  0.25   0.5\n",
      "\n",
      "An = 0.333333333333\n",
      "\n",
      " n=2\n",
      "        Rain    Nice    Snow\n",
      "Rain  0.4375  0.1875   0.375\n",
      "Nice   0.375    0.25   0.375\n",
      "Snow   0.375  0.1875  0.4375\n",
      "\n",
      "An = 0.333333333333\n",
      "\n",
      " n=3\n",
      "          Rain      Nice      Snow\n",
      "Rain   0.40625  0.203125  0.390625\n",
      "Nice   0.40625    0.1875   0.40625\n",
      "Snow  0.390625  0.203125   0.40625\n",
      "\n",
      "An = 0.333333333333\n",
      "\n",
      " n=4\n",
      "           Rain       Nice       Snow\n",
      "Rain  0.4023438  0.1992188  0.3984375\n",
      "Nice  0.3984375   0.203125  0.3984375\n",
      "Snow  0.3984375  0.1992188  0.4023438\n",
      "\n",
      "An = 0.333333333333\n",
      "\n",
      " n=5\n",
      "           Rain       Nice       Snow\n",
      "Rain  0.4003906  0.2001953  0.3994141\n",
      "Nice  0.4003906  0.1992188  0.4003906\n",
      "Snow  0.3994141  0.2001953  0.4003906\n",
      "\n",
      "An = 0.333333333333\n",
      "\n",
      " n=6\n",
      "           Rain       Nice       Snow\n",
      "Rain  0.4001465  0.1999512  0.3999023\n",
      "Nice  0.3999023  0.2001953  0.3999023\n",
      "Snow  0.3999023  0.1999512  0.4001465\n",
      "\n",
      "An = 0.333333333333\n"
     ]
    }
   ],
   "source": [
    "matrix = df_P.as_matrix()\n",
    "\n",
    "for n in [1,2,3,4,5,6]:\n",
    "    P_n = np.linalg.matrix_power(matrix, n)\n",
    "    A_n = np.mean(P_n)\n",
    "    df_n = pd.DataFrame(P_n, columns = list_states, index = list_states)\n",
    "    print('\\n n={}'.format(n))\n",
    "    print(df_n)\n",
    "    print('\\nAn = {}'.format(A_n))"
   ]
  },
  {
   "cell_type": "markdown",
   "metadata": {},
   "source": [
    "# Denote $m$ as the number of states in the process\n",
    "\n",
    "# Then, it makes sense that the $A_{n}$ value is equal to 1/m since we know each row adds up to one, and there are $m$ rows\n",
    "\n",
    "# That means the sum of all elements in the matrix is equal to $m\\cdot1 = m$, and since this is a square matrix there are $mxm = m^{2}$ elements\n",
    "\n",
    "# Therefore $A_{n} = \\frac{\\left ( \\text{Sum of all elements of matrix} \\right )}{\\left ( \\text{Number of elements in the matrix} \\right )} = \\frac{m}{m^{2}} = 1/m$"
   ]
  }
 ],
 "metadata": {
  "kernelspec": {
   "display_name": "Python 2",
   "language": "python",
   "name": "python2"
  },
  "language_info": {
   "codemirror_mode": {
    "name": "ipython",
    "version": 2
   },
   "file_extension": ".py",
   "mimetype": "text/x-python",
   "name": "python",
   "nbconvert_exporter": "python",
   "pygments_lexer": "ipython2",
   "version": "2.7.11"
  }
 },
 "nbformat": 4,
 "nbformat_minor": 0
}
