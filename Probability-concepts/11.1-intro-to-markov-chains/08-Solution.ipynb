{
 "cells": [
  {
   "cell_type": "markdown",
   "metadata": {},
   "source": [
    "# A certain calculating machine uses only digits 0 and 1\n",
    "\n",
    "# It is supposed to transmit one of these digits through several stages\n",
    "\n",
    "# However, at every stage, there is a probability $p$ that the digit that enters the stage will be incorrectly transmitted\n",
    "\n",
    "# Form a Markov chain to represent the transmission\n",
    "\n",
    "# What is the matrix of transmission probabilities?"
   ]
  },
  {
   "cell_type": "markdown",
   "metadata": {},
   "source": [
    "_____\n",
    "\n",
    "# $P = \\begin{pmatrix}1-p & p\\\\ p & 1-p\\end{pmatrix}$"
   ]
  }
 ],
 "metadata": {
  "kernelspec": {
   "display_name": "Python 2",
   "language": "python",
   "name": "python2"
  },
  "language_info": {
   "codemirror_mode": {
    "name": "ipython",
    "version": 2
   },
   "file_extension": ".py",
   "mimetype": "text/x-python",
   "name": "python",
   "nbconvert_exporter": "python",
   "pygments_lexer": "ipython2",
   "version": "2.7.11"
  }
 },
 "nbformat": 4,
 "nbformat_minor": 0
}
