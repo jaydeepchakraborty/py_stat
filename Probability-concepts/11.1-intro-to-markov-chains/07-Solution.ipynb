{
 "cells": [
  {
   "cell_type": "markdown",
   "metadata": {},
   "source": [
    "# Find the matrices $P^{2}$, $P^{3}$, $P^{4}$, and $P^{n}$ for the Markov chain determined by:\n",
    "\n",
    "## a) $P = \\begin{pmatrix}1 & 0\\\\ 0 & 1\\end{pmatrix}$\n",
    "\n",
    "## b) $P = \\begin{pmatrix}0 & 1\\\\ 1 & 0\\end{pmatrix}$\n",
    "\n",
    "# What is the interpretation of these processes?"
   ]
  },
  {
   "cell_type": "markdown",
   "metadata": {},
   "source": [
    "____\n",
    "\n",
    "# a)\n",
    "\n",
    "### We know from linear algebra that $P$ is the identity matrix $I$ and therefore $P = P^{2} =P^{3} =P^{4} = P^{n}$\n",
    "\n",
    "# This process means whatever the starting state, the process will stay in that state forever"
   ]
  },
  {
   "cell_type": "markdown",
   "metadata": {},
   "source": [
    "____\n",
    "\n",
    "# b)\n",
    "\n",
    "# $P^{2} = \\begin{pmatrix}0 & 1\\\\ 1 & 0\\end{pmatrix}\\begin{pmatrix}0 & 1\\\\ 1 & 0\\end{pmatrix} = \\begin{pmatrix}1 & 0\\\\ 0 & 1\\end{pmatrix}$\n",
    "\n",
    "# So $P^{2}$ is the identity matrix\n",
    "\n",
    "# $\\implies P^{3} = P^{2}P = IP = P$\n",
    "\n",
    "# $\\implies P^{4} = P^{2}P^{2} = II = I$\n",
    "\n",
    "# Therefore, $P^{n} = P$ if $n$ is odd, and $P^{n} = I$ if $n$ is even"
   ]
  },
  {
   "cell_type": "markdown",
   "metadata": {},
   "source": [
    "# We can interpret $P$ as representing a process where no state is stable i.e. if we're in one state at step $n$, we'll be in the other state at step $n+1$"
   ]
  }
 ],
 "metadata": {
  "kernelspec": {
   "display_name": "Python 2",
   "language": "python",
   "name": "python2"
  },
  "language_info": {
   "codemirror_mode": {
    "name": "ipython",
    "version": 2
   },
   "file_extension": ".py",
   "mimetype": "text/x-python",
   "name": "python",
   "nbconvert_exporter": "python",
   "pygments_lexer": "ipython2",
   "version": "2.7.11"
  }
 },
 "nbformat": 4,
 "nbformat_minor": 0
}
