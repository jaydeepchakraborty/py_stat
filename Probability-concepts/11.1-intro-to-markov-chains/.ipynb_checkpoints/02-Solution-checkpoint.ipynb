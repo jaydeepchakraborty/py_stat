{
 "cells": [
  {
   "cell_type": "markdown",
   "metadata": {},
   "source": [
    "# In Example 11.4, let $a=0$ and $b=1/2$\n",
    "\n",
    "# Find $P$, $P^{2}$, and $P^{3}$\n",
    "\n",
    "# What would $P^{n}$ be? What happens as $n\\rightarrow \\infty$?"
   ]
  },
  {
   "cell_type": "markdown",
   "metadata": {},
   "source": [
    "______\n",
    "\n",
    "# $P=\\begin{pmatrix}(1-a) & a\\\\ b & (1-b)\\end{pmatrix} = \\begin{pmatrix}1 & 0\\\\ 1/2 & 1/2\\end{pmatrix}$"
   ]
  },
  {
   "cell_type": "markdown",
   "metadata": {},
   "source": [
    "# $\\implies P^{2} = \\begin{pmatrix}1 & 0\\\\ 1/2 & 1/2\\end{pmatrix}\\begin{pmatrix}1 & 0\\\\ 1/2 & 1/2\\end{pmatrix} = \\begin{pmatrix}1 & 0\\\\ 3/4 & 1/4\\end{pmatrix}$"
   ]
  },
  {
   "cell_type": "markdown",
   "metadata": {},
   "source": [
    "# $\\implies P^{3} = \\begin{pmatrix}1 & 0\\\\ 3/4 & 1/4\\end{pmatrix}\\begin{pmatrix}1 & 0\\\\ 1/2 & 1/2\\end{pmatrix} = \\begin{pmatrix}1 & 0\\\\ 7/8 & 1/8\\end{pmatrix}$"
   ]
  },
  {
   "cell_type": "markdown",
   "metadata": {},
   "source": [
    "# We already notice the pattern...\n",
    "\n",
    "# $P^{n} = \\begin{pmatrix}1 & 0\\\\ 1-(1/2)^{n} & (1/2)^{n}\\end{pmatrix}$"
   ]
  },
  {
   "cell_type": "markdown",
   "metadata": {},
   "source": [
    "# Then...\n",
    "\n",
    "# $\\lim_{n\\rightarrow \\infty}P^{n} = \\begin{pmatrix}1 & 0\\\\ 1 & 0\\end{pmatrix}$"
   ]
  },
  {
   "cell_type": "markdown",
   "metadata": {},
   "source": [
    "# This means that no matter the starting state, the final state will always be $s_{1}$"
   ]
  }
 ],
 "metadata": {
  "kernelspec": {
   "display_name": "Python 2",
   "language": "python",
   "name": "python2"
  },
  "language_info": {
   "codemirror_mode": {
    "name": "ipython",
    "version": 2
   },
   "file_extension": ".py",
   "mimetype": "text/x-python",
   "name": "python",
   "nbconvert_exporter": "python",
   "pygments_lexer": "ipython2",
   "version": "2.7.11"
  }
 },
 "nbformat": 4,
 "nbformat_minor": 0
}
