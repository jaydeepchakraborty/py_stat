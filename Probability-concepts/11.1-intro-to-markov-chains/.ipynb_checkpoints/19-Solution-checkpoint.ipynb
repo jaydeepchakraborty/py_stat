{
 "cells": [
  {
   "cell_type": "markdown",
   "metadata": {},
   "source": [
    "# Consider the following process. We have two coins, one of which is fair, and the other of which has heads on both sides\n",
    "\n",
    "# We give these two coins to our friend, who chooses one of them at random (each w probability 1/2)\n",
    "\n",
    "# During the rest of the process, she uses only the coin that she chose\n",
    "\n",
    "# She now proceeds to toss the coin many times, reporting the results\n",
    "\n",
    "# We consider this process to consist solely of what she reports to us\n",
    "\n",
    "## a) Given that she reports a head on the nth toss, what is the probability that a head is thrown on the (n+1)th toss?\n",
    "\n",
    "## b) Consider this process as having two states, heads and tails. By computing the other three transition probabilities analogous to the one in part a), write down the transition matrix for this process\n",
    "\n",
    "## c) Now assume that the process is in state \"heads\" on both the (n-1)th and nth toss. Find the probability that a head comes up on the (n+1)th toss\n",
    "\n",
    "## d) Is this process a Markov chain?"
   ]
  },
  {
   "cell_type": "markdown",
   "metadata": {},
   "source": [
    "___\n",
    "\n",
    "# a)\n",
    "\n",
    "# $P(X_{n+1}=1|X_{n}=1) = \\frac{P(X_{n+1}=1\\cap X_{n}=1)}{P(X_{n}=1)}$\n",
    "\n",
    "# $P(X_{n}=1) = (1/2)(1/2) + (1/2)(1) = 3/4$\n",
    "\n",
    "# $P(X_{n+1}=1\\cap X_{n}=1) = (1/2)(1/2)^{2} + (1/2)(1)^{2} = 5/8$\n",
    "\n",
    "# $\\implies P(X_{n+1}=1|X_{n}=1) = \\frac{5/8}{3/4} = 5/6$"
   ]
  },
  {
   "cell_type": "markdown",
   "metadata": {},
   "source": [
    "____\n",
    "\n",
    "# b)\n",
    "\n",
    "# $P(X_{n+1}=0|X_{n}=1) = \\frac{P(X_{n+1}=0\\cap X_{n}=1)}{P(X_{n}=1)} = \\frac{1/8}{3/4} = 1/6$"
   ]
  },
  {
   "cell_type": "markdown",
   "metadata": {},
   "source": [
    "# $P(X_{n+1}=1|X_{n}=0) = \\frac{P(X_{n+1}=1\\cap X_{n}=0)}{P(X_{n}=0)} = \\frac{1/8}{1/4} = 1/2$"
   ]
  },
  {
   "cell_type": "markdown",
   "metadata": {},
   "source": [
    "# $P(X_{n+1}=0|X_{n}=0) = \\frac{P(X_{n+1}=0\\cap X_{n}=0)}{P(X_{n}=0)} = \\frac{1/8}{1/4} = 1/2$"
   ]
  },
  {
   "cell_type": "markdown",
   "metadata": {},
   "source": [
    "# $\\implies P = \\begin{pmatrix}5/6 & 1/6\\\\ 1/2 & 1/2\\end{pmatrix}$"
   ]
  },
  {
   "cell_type": "markdown",
   "metadata": {},
   "source": [
    "_____\n",
    "\n",
    "# c)\n",
    "\n",
    "# $P\\left ( (X_{n+1} = 1) | \\left ((X_{n}=1)\\cap(X_{n-1}=1) \\right ) \\right ) = \\frac{P\\left ( (X_{n+1} = 1)\\cap(X_{n}=1)\\cap(X_{n-1}=1) \\right )}{P\\left ( (X_{n}=1)\\cap(X_{n-1}=1) \\right )}$"
   ]
  },
  {
   "cell_type": "markdown",
   "metadata": {},
   "source": [
    "# $P\\left ( (X_{n}=1)\\cap(X_{n-1}=1) \\right ) = (1/2)(1/2)^{2} + (1/2)(1)^{2} = 5/8$"
   ]
  },
  {
   "cell_type": "markdown",
   "metadata": {},
   "source": [
    "# $P\\left ( (X_{n+1} = 1)\\cap(X_{n}=1)\\cap(X_{n-1}=1) \\right ) = (1/2)(1/2)^{3} + (1/2)(1)^{3} = 9/16$"
   ]
  },
  {
   "cell_type": "markdown",
   "metadata": {},
   "source": [
    "# $\\implies P\\left ( (X_{n+1} = 1) | \\left ((X_{n}=1)\\cap(X_{n-1}=1) \\right ) \\right ) = \\frac{9/16}{5/8} = 9/10$"
   ]
  },
  {
   "cell_type": "markdown",
   "metadata": {},
   "source": [
    "____\n",
    "\n",
    "# d)\n",
    "\n",
    "# No. The question isn't asking what's the probability of getting three heads in a row, it's asking what's the probability of being in state H when the state of the previous step is H\n",
    "\n",
    "# Therefore, if this were a Markov chain, the answer would be 5/6"
   ]
  }
 ],
 "metadata": {
  "kernelspec": {
   "display_name": "Python 2",
   "language": "python",
   "name": "python2"
  },
  "language_info": {
   "codemirror_mode": {
    "name": "ipython",
    "version": 2
   },
   "file_extension": ".py",
   "mimetype": "text/x-python",
   "name": "python",
   "nbconvert_exporter": "python",
   "pygments_lexer": "ipython2",
   "version": "2.7.11"
  }
 },
 "nbformat": 4,
 "nbformat_minor": 0
}
