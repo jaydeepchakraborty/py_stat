{
 "cells": [
  {
   "cell_type": "markdown",
   "metadata": {},
   "source": [
    "# In Example 11.5, find $P$, $P^{2}$, and $P^{3}$. What is $P^{n}$?"
   ]
  },
  {
   "cell_type": "markdown",
   "metadata": {},
   "source": [
    "____\n",
    "\n",
    "\n",
    "# $P= \\begin{pmatrix}0.5 & 0.25 & 0.25\\\\0.5 & 0.25 & 0.25\\\\0.5 & 0.25 & 0.25\\end{pmatrix}$"
   ]
  },
  {
   "cell_type": "markdown",
   "metadata": {},
   "source": [
    "# $\\implies P^{2} = \\begin{pmatrix}0.5 & 0.25 & 0.25\\\\0.5 & 0.25 & 0.25\\\\0.5 & 0.25 & 0.25\\end{pmatrix}\\begin{pmatrix}0.5 & 0.25 & 0.25\\\\0.5 & 0.25 & 0.25\\\\0.5 & 0.25 & 0.25\\end{pmatrix}$"
   ]
  },
  {
   "cell_type": "markdown",
   "metadata": {},
   "source": [
    "$= \\begin{pmatrix}0.5(0.5+0.25+0.25) & 0.25(0.5+0.25+0.25) & 0.25(0.5+0.25+0.25)\\\\0.5(0.5+0.25+0.25) & 0.25(0.5+0.25+0.25) & 0.25(0.5+0.25+0.25)\\\\0.5(0.5+0.25+0.25) & 0.25(0.5+0.25+0.25) & 0.25(0.5+0.25+0.25)\\end{pmatrix}$"
   ]
  },
  {
   "cell_type": "markdown",
   "metadata": {},
   "source": [
    "# $= \\begin{pmatrix}0.5(1) & 0.25(1) & 0.25(1)\\\\0.5(1) & 0.25(1) & 0.25(1)\\\\0.5(1) & 0.25(1) & 0.25(1)\\end{pmatrix} = P$"
   ]
  },
  {
   "cell_type": "markdown",
   "metadata": {},
   "source": [
    "# $\\implies P^{3} = P^{2}P = PP = P^{2} = P$"
   ]
  },
  {
   "cell_type": "markdown",
   "metadata": {},
   "source": [
    "# $\\implies P^{n} = P$"
   ]
  }
 ],
 "metadata": {
  "kernelspec": {
   "display_name": "Python 2",
   "language": "python",
   "name": "python2"
  },
  "language_info": {
   "codemirror_mode": {
    "name": "ipython",
    "version": 2
   },
   "file_extension": ".py",
   "mimetype": "text/x-python",
   "name": "python",
   "nbconvert_exporter": "python",
   "pygments_lexer": "ipython2",
   "version": "2.7.11"
  }
 },
 "nbformat": 4,
 "nbformat_minor": 0
}
