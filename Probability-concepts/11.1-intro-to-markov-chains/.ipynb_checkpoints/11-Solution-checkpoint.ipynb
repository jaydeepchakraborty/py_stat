{
 "cells": [
  {
   "cell_type": "markdown",
   "metadata": {},
   "source": [
    "# Assume that a man's profession can be classified as either i) professional, ii) skilled laborer, or iii) unskilled laborer\n",
    "\n",
    "# Assume that, of the sons of professional men, 80% become professionals themselves, 10% become skilled laborers, and 10% become unskilled laborers\n",
    "\n",
    "# For skilled laborers, 60% become skilled laborers, 20% become professionals, and 20% become unskilled laborers\n",
    "\n",
    "# For unskilled laborers, 50% become unskilled laborers, 25% become skilled laborers, and 25% become professionals\n",
    "\n",
    "# Assume that each man has at least one son\n",
    "\n",
    "# For a Markov chain by following the profession of a randomly chosen son of a given family through several generations\n",
    "\n",
    "# Set up the matrix of transition probabilities\n",
    "\n",
    "# Find the probability that a randomly chosen grandson of an unskilled laborer becomes a professional"
   ]
  },
  {
   "cell_type": "markdown",
   "metadata": {},
   "source": [
    "_____\n",
    "\n",
    "# $P = \\begin{pmatrix}0.8 & 0.1 & 0.1\\\\0.2 & 0.6 & 0.2\\\\0.25 & 0.25 & 0.5\\end{pmatrix}$"
   ]
  },
  {
   "cell_type": "code",
   "execution_count": 1,
   "metadata": {
    "collapsed": true
   },
   "outputs": [],
   "source": [
    "import pandas as pd\n",
    "import numpy as np"
   ]
  },
  {
   "cell_type": "code",
   "execution_count": 4,
   "metadata": {
    "collapsed": false
   },
   "outputs": [
    {
     "data": {
      "text/html": [
       "<div>\n",
       "<table border=\"1\" class=\"dataframe\">\n",
       "  <thead>\n",
       "    <tr style=\"text-align: right;\">\n",
       "      <th></th>\n",
       "      <th>Professional</th>\n",
       "      <th>Skilled</th>\n",
       "      <th>Unskilled</th>\n",
       "    </tr>\n",
       "  </thead>\n",
       "  <tbody>\n",
       "    <tr>\n",
       "      <th>Professional</th>\n",
       "      <td>0.8</td>\n",
       "      <td>0.1</td>\n",
       "      <td>0.1</td>\n",
       "    </tr>\n",
       "    <tr>\n",
       "      <th>Skilled</th>\n",
       "      <td>0.2</td>\n",
       "      <td>0.6</td>\n",
       "      <td>0.2</td>\n",
       "    </tr>\n",
       "    <tr>\n",
       "      <th>Unskilled</th>\n",
       "      <td>0.25</td>\n",
       "      <td>0.25</td>\n",
       "      <td>0.5</td>\n",
       "    </tr>\n",
       "  </tbody>\n",
       "</table>\n",
       "</div>"
      ],
      "text/plain": [
       "             Professional Skilled Unskilled\n",
       "Professional          0.8     0.1       0.1\n",
       "Skilled               0.2     0.6       0.2\n",
       "Unskilled            0.25    0.25       0.5"
      ]
     },
     "execution_count": 4,
     "metadata": {},
     "output_type": "execute_result"
    }
   ],
   "source": [
    "list_states = ['Professional', 'Skilled', 'Unskilled']\n",
    "df_P = pd.DataFrame(index = list_states, columns = list_states)\n",
    "df_P.loc['Professional'] = [0.8, 0.1, 0.1]\n",
    "df_P.loc['Skilled'] = [0.2, 0.6, 0.2]\n",
    "df_P.loc['Unskilled'] = [0.25, 0.25, 0.5]\n",
    "df_P"
   ]
  },
  {
   "cell_type": "code",
   "execution_count": 5,
   "metadata": {
    "collapsed": false
   },
   "outputs": [
    {
     "data": {
      "text/html": [
       "<div>\n",
       "<table border=\"1\" class=\"dataframe\">\n",
       "  <thead>\n",
       "    <tr style=\"text-align: right;\">\n",
       "      <th></th>\n",
       "      <th>Professional</th>\n",
       "      <th>Skilled</th>\n",
       "      <th>Unskilled</th>\n",
       "    </tr>\n",
       "  </thead>\n",
       "  <tbody>\n",
       "    <tr>\n",
       "      <th>Professional</th>\n",
       "      <td>0.685</td>\n",
       "      <td>0.165</td>\n",
       "      <td>0.15</td>\n",
       "    </tr>\n",
       "    <tr>\n",
       "      <th>Skilled</th>\n",
       "      <td>0.33</td>\n",
       "      <td>0.43</td>\n",
       "      <td>0.24</td>\n",
       "    </tr>\n",
       "    <tr>\n",
       "      <th>Unskilled</th>\n",
       "      <td>0.375</td>\n",
       "      <td>0.3</td>\n",
       "      <td>0.325</td>\n",
       "    </tr>\n",
       "  </tbody>\n",
       "</table>\n",
       "</div>"
      ],
      "text/plain": [
       "             Professional Skilled Unskilled\n",
       "Professional        0.685   0.165      0.15\n",
       "Skilled              0.33    0.43      0.24\n",
       "Unskilled           0.375     0.3     0.325"
      ]
     },
     "execution_count": 5,
     "metadata": {},
     "output_type": "execute_result"
    }
   ],
   "source": [
    "P = df_P.as_matrix()\n",
    "P2 = np.linalg.matrix_power(P, 2)\n",
    "df_P2 = pd.DataFrame(P2, index = list_states, columns = list_states)\n",
    "df_P2"
   ]
  },
  {
   "cell_type": "markdown",
   "metadata": {},
   "source": [
    "# Therefore the probability that the grandson of an unskilled laborer will become a professional is equal to 0.375"
   ]
  }
 ],
 "metadata": {
  "kernelspec": {
   "display_name": "Python 2",
   "language": "python",
   "name": "python2"
  },
  "language_info": {
   "codemirror_mode": {
    "name": "ipython",
    "version": 2
   },
   "file_extension": ".py",
   "mimetype": "text/x-python",
   "name": "python",
   "nbconvert_exporter": "python",
   "pygments_lexer": "ipython2",
   "version": "2.7.11"
  }
 },
 "nbformat": 4,
 "nbformat_minor": 0
}
