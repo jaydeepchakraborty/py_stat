{
 "cells": [
  {
   "cell_type": "markdown",
   "metadata": {},
   "source": [
    "# It is raining in the Land of Oz\n",
    "\n",
    "# Determine a tree and tree measure for the next three days\n",
    "\n",
    "# Find $\\vec{w}^{(1)}$, $\\vec{w}^{(2)}$, and $\\vec{w}^{(3)}$ and compare with the results obtained from $P$, $P^{2}$ and $P^{3}$"
   ]
  },
  {
   "cell_type": "markdown",
   "metadata": {},
   "source": [
    "_____\n",
    "\n",
    "## Recall: the process for the weather in the Land of Oz is described by:\n",
    "\n",
    "![](images/Oz_matrix.PNG)"
   ]
  },
  {
   "cell_type": "markdown",
   "metadata": {},
   "source": [
    "## So our tree for our first day is easy:\n",
    "\n",
    "![](images/1-tree-diagram-1.png)"
   ]
  },
  {
   "cell_type": "markdown",
   "metadata": {},
   "source": [
    "## From here, we need to expand the tree for a second day\n",
    "\n",
    "![](images/1-tree-diagram-2.png)"
   ]
  },
  {
   "cell_type": "markdown",
   "metadata": {},
   "source": [
    "## Now, adding in the third day:\n",
    "\n",
    "![](images/1-tree-diagram-3.png)"
   ]
  },
  {
   "cell_type": "markdown",
   "metadata": {},
   "source": [
    "# $\\vec{w}^{(1)} = [1/2,1/4,1/4]$\n",
    "\n",
    "# $\\vec{w}^{(2)} = [1/4+1/8+1/16,1/8+1/16,1/8+1/8+1/8] = [7/16, 3/16, 3/8]$"
   ]
  },
  {
   "cell_type": "markdown",
   "metadata": {},
   "source": [
    "- We haven't calculated the probabilities for $\\vec{w}^{(3)}$ yet\n",
    "\n",
    "$P(R_{3}|R_{1}) = (1/2)\\left [(1/2)(1/2)+(1/4)(1/2)+(1/4)(1/4) \\right ]+(1/4)\\left [(1/2)(1/2)+(1/2)(1/4) \\right ]+(1/4)\\left [(1/4)(1/2)+(1/4)(1/2)+(1/2)(1/4) \\right ] = 13/32$"
   ]
  },
  {
   "cell_type": "markdown",
   "metadata": {},
   "source": [
    "$P(S_{3}|R_{1}) = (1/2)\\left [(1/2)(1/4)+(1/4)(1/2)+(1/4)(1/2) \\right ]+(1/4)\\left [(1/2)(1/4)+(1/2)(1/2) \\right ]+(1/4)\\left [(1/4)(1/4)+(1/4)(1/2)+(1/2)(1/2) \\right ] = 25/64$"
   ]
  },
  {
   "cell_type": "markdown",
   "metadata": {},
   "source": [
    "$\\implies P(N_{3}|R_{1}) = 1 - (13/32) - (25/64) = 13/64$"
   ]
  },
  {
   "cell_type": "markdown",
   "metadata": {},
   "source": [
    "## Therefore $\\vec{w}^{(3)} = [13/32, 25/64, 13/64]$"
   ]
  },
  {
   "cell_type": "markdown",
   "metadata": {},
   "source": [
    "# The output of our script in the chapter summary gave:\n",
    "`\n",
    " n=3\n",
    "          Rain      Nice      Snow\n",
    "Rain   0.40625  0.203125  0.390625\n",
    "Nice   0.40625    0.1875   0.40625\n",
    "Snow  0.390625  0.203125   0.40625`"
   ]
  },
  {
   "cell_type": "markdown",
   "metadata": {},
   "source": [
    "### Since $\\vec{w}^{(3)}$ is equal to our first row, we can see that our results tie out"
   ]
  }
 ],
 "metadata": {
  "kernelspec": {
   "display_name": "Python 2",
   "language": "python",
   "name": "python2"
  },
  "language_info": {
   "codemirror_mode": {
    "name": "ipython",
    "version": 2
   },
   "file_extension": ".py",
   "mimetype": "text/x-python",
   "name": "python",
   "nbconvert_exporter": "python",
   "pygments_lexer": "ipython2",
   "version": "2.7.11"
  }
 },
 "nbformat": 4,
 "nbformat_minor": 0
}
