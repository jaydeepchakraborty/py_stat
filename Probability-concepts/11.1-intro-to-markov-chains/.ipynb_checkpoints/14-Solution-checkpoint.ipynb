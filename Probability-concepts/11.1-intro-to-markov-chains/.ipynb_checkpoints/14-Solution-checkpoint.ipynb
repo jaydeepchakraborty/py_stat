{
 "cells": [
  {
   "cell_type": "markdown",
   "metadata": {},
   "source": [
    "# Find $P^{1}$ through $P^{6}$ for Examples 11.9 and 11.10\n",
    "\n",
    "# See if you can predict the long-range probability"
   ]
  },
  {
   "cell_type": "markdown",
   "metadata": {},
   "source": [
    "_____\n",
    "\n",
    "# a) Example 11.9\n",
    "\n",
    "# $P = \\begin{pmatrix}1/2 & 1/2 & 0\\\\ 1/4 & 1/2 & 1/4\\\\ 0 & 1/2 & 1/2\\end{pmatrix}$"
   ]
  },
  {
   "cell_type": "code",
   "execution_count": 1,
   "metadata": {
    "collapsed": true
   },
   "outputs": [],
   "source": [
    "import numpy as np\n",
    "import pandas as pd"
   ]
  },
  {
   "cell_type": "code",
   "execution_count": 2,
   "metadata": {
    "collapsed": false
   },
   "outputs": [
    {
     "data": {
      "text/html": [
       "<div>\n",
       "<table border=\"1\" class=\"dataframe\">\n",
       "  <thead>\n",
       "    <tr style=\"text-align: right;\">\n",
       "      <th></th>\n",
       "      <th>GG</th>\n",
       "      <th>Gg</th>\n",
       "      <th>gg</th>\n",
       "    </tr>\n",
       "  </thead>\n",
       "  <tbody>\n",
       "    <tr>\n",
       "      <th>GG</th>\n",
       "      <td>0.5</td>\n",
       "      <td>0.5</td>\n",
       "      <td>0</td>\n",
       "    </tr>\n",
       "    <tr>\n",
       "      <th>Gg</th>\n",
       "      <td>0.25</td>\n",
       "      <td>0.5</td>\n",
       "      <td>0.25</td>\n",
       "    </tr>\n",
       "    <tr>\n",
       "      <th>gg</th>\n",
       "      <td>0</td>\n",
       "      <td>0.5</td>\n",
       "      <td>0.5</td>\n",
       "    </tr>\n",
       "  </tbody>\n",
       "</table>\n",
       "</div>"
      ],
      "text/plain": [
       "      GG   Gg    gg\n",
       "GG   0.5  0.5     0\n",
       "Gg  0.25  0.5  0.25\n",
       "gg     0  0.5   0.5"
      ]
     },
     "execution_count": 2,
     "metadata": {},
     "output_type": "execute_result"
    }
   ],
   "source": [
    "list_states = ['GG', 'Gg', 'gg']\n",
    "df_P = pd.DataFrame(columns = list_states, index = list_states)\n",
    "df_P.loc['GG'] = [0.5,0.5,0]\n",
    "df_P.loc['Gg'] = [0.25,0.5,0.25]\n",
    "df_P.loc['gg'] = [0,0.5,0.5]\n",
    "df_P"
   ]
  },
  {
   "cell_type": "code",
   "execution_count": 3,
   "metadata": {
    "collapsed": false
   },
   "outputs": [
    {
     "name": "stdout",
     "output_type": "stream",
     "text": [
      "\n",
      " n=1\n",
      "      GG   Gg    gg\n",
      "GG   0.5  0.5     0\n",
      "Gg  0.25  0.5  0.25\n",
      "gg     0  0.5   0.5\n",
      "\n",
      " n=2\n",
      "       GG   Gg     gg\n",
      "GG  0.375  0.5  0.125\n",
      "Gg   0.25  0.5   0.25\n",
      "gg  0.125  0.5  0.375\n",
      "\n",
      " n=3\n",
      "        GG   Gg      gg\n",
      "GG  0.3125  0.5  0.1875\n",
      "Gg    0.25  0.5    0.25\n",
      "gg  0.1875  0.5  0.3125\n",
      "\n",
      " n=4\n",
      "         GG   Gg       gg\n",
      "GG  0.28125  0.5  0.21875\n",
      "Gg     0.25  0.5     0.25\n",
      "gg  0.21875  0.5  0.28125\n",
      "\n",
      " n=5\n",
      "          GG   Gg        gg\n",
      "GG  0.265625  0.5  0.234375\n",
      "Gg      0.25  0.5      0.25\n",
      "gg  0.234375  0.5  0.265625\n",
      "\n",
      " n=6\n",
      "           GG   Gg         gg\n",
      "GG  0.2578125  0.5  0.2421875\n",
      "Gg       0.25  0.5       0.25\n",
      "gg  0.2421875  0.5  0.2578125\n"
     ]
    }
   ],
   "source": [
    "P = df_P.as_matrix()\n",
    "\n",
    "for n in [1,2,3,4,5,6]:\n",
    "    P_n = np.linalg.matrix_power(P, n)\n",
    "    df_n = pd.DataFrame(P_n, columns = list_states, index = list_states)\n",
    "    print('\\n n={}'.format(n))\n",
    "    print(df_n)"
   ]
  },
  {
   "cell_type": "markdown",
   "metadata": {},
   "source": [
    "# Looks like $P^{n}\\rightarrow \\begin{pmatrix}0.25 & 0.5 & 0.25\\\\ 0.25 & 0.5 & 0.25\\\\ 0.25 & 0.5 & 0.25\\end{pmatrix}$ as $n\\rightarrow \\infty$"
   ]
  },
  {
   "cell_type": "markdown",
   "metadata": {},
   "source": [
    "____\n",
    "\n",
    "# Example 11.10\n",
    "\n",
    "# $P = \\begin{pmatrix}1 & 0 & 0\\\\ 1/2 & 1/2 & 0\\\\ 0 & 1 & 0\\end{pmatrix}$"
   ]
  },
  {
   "cell_type": "code",
   "execution_count": 4,
   "metadata": {
    "collapsed": false
   },
   "outputs": [
    {
     "data": {
      "text/html": [
       "<div>\n",
       "<table border=\"1\" class=\"dataframe\">\n",
       "  <thead>\n",
       "    <tr style=\"text-align: right;\">\n",
       "      <th></th>\n",
       "      <th>GG</th>\n",
       "      <th>Gg</th>\n",
       "      <th>gg</th>\n",
       "    </tr>\n",
       "  </thead>\n",
       "  <tbody>\n",
       "    <tr>\n",
       "      <th>GG</th>\n",
       "      <td>1</td>\n",
       "      <td>0</td>\n",
       "      <td>0</td>\n",
       "    </tr>\n",
       "    <tr>\n",
       "      <th>Gg</th>\n",
       "      <td>0.5</td>\n",
       "      <td>0.5</td>\n",
       "      <td>0</td>\n",
       "    </tr>\n",
       "    <tr>\n",
       "      <th>gg</th>\n",
       "      <td>0</td>\n",
       "      <td>1</td>\n",
       "      <td>0</td>\n",
       "    </tr>\n",
       "  </tbody>\n",
       "</table>\n",
       "</div>"
      ],
      "text/plain": [
       "     GG   Gg gg\n",
       "GG    1    0  0\n",
       "Gg  0.5  0.5  0\n",
       "gg    0    1  0"
      ]
     },
     "execution_count": 4,
     "metadata": {},
     "output_type": "execute_result"
    }
   ],
   "source": [
    "df_P = pd.DataFrame(columns = list_states, index = list_states)\n",
    "df_P.loc['GG'] = [1,0,0]\n",
    "df_P.loc['Gg'] = [0.5,0.5,0]\n",
    "df_P.loc['gg'] = [0,1,0]\n",
    "df_P"
   ]
  },
  {
   "cell_type": "code",
   "execution_count": 5,
   "metadata": {
    "collapsed": false
   },
   "outputs": [
    {
     "name": "stdout",
     "output_type": "stream",
     "text": [
      "\n",
      " n=1\n",
      "     GG   Gg gg\n",
      "GG    1    0  0\n",
      "Gg  0.5  0.5  0\n",
      "gg    0    1  0\n",
      "\n",
      " n=2\n",
      "      GG    Gg gg\n",
      "GG     1     0  0\n",
      "Gg  0.75  0.25  0\n",
      "gg   0.5   0.5  0\n",
      "\n",
      " n=3\n",
      "       GG     Gg gg\n",
      "GG      1      0  0\n",
      "Gg  0.875  0.125  0\n",
      "gg   0.75   0.25  0\n",
      "\n",
      " n=4\n",
      "        GG      Gg gg\n",
      "GG       1       0  0\n",
      "Gg  0.9375  0.0625  0\n",
      "gg   0.875   0.125  0\n",
      "\n",
      " n=5\n",
      "         GG       Gg gg\n",
      "GG        1        0  0\n",
      "Gg  0.96875  0.03125  0\n",
      "gg   0.9375   0.0625  0\n",
      "\n",
      " n=6\n",
      "          GG        Gg gg\n",
      "GG         1         0  0\n",
      "Gg  0.984375  0.015625  0\n",
      "gg   0.96875   0.03125  0\n"
     ]
    }
   ],
   "source": [
    "P = df_P.as_matrix()\n",
    "\n",
    "for n in [1,2,3,4,5,6]:\n",
    "    P_n = np.linalg.matrix_power(P, n)\n",
    "    df_n = pd.DataFrame(P_n, columns = list_states, index = list_states)\n",
    "    print('\\n n={}'.format(n))\n",
    "    print(df_n)"
   ]
  },
  {
   "cell_type": "markdown",
   "metadata": {},
   "source": [
    "# Looks like $P^{n}\\rightarrow \\begin{pmatrix}1 & 0 & 0\\\\ 1 & 0 & 0\\\\ 1 & 0 & 0\\end{pmatrix}$ as $n\\rightarrow \\infty$"
   ]
  }
 ],
 "metadata": {
  "kernelspec": {
   "display_name": "Python 2",
   "language": "python",
   "name": "python2"
  },
  "language_info": {
   "codemirror_mode": {
    "name": "ipython",
    "version": 2
   },
   "file_extension": ".py",
   "mimetype": "text/x-python",
   "name": "python",
   "nbconvert_exporter": "python",
   "pygments_lexer": "ipython2",
   "version": "2.7.11"
  }
 },
 "nbformat": 4,
 "nbformat_minor": 0
}
