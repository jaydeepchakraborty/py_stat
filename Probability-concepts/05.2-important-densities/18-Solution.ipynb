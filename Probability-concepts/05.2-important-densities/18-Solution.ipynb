{
 "cells": [
  {
   "cell_type": "markdown",
   "metadata": {},
   "source": [
    "# Let $X$ be a random variable with cdf $F_{X}$ and let $Y=X+b$, $Z=aX$ and $W=aX+b$ where $a$ and $b$ are any constants\n",
    "\n",
    "# Find the cdfs $F_{Y}$, $F_{Z}$ and $F_{W}$"
   ]
  },
  {
   "cell_type": "markdown",
   "metadata": {},
   "source": [
    "___\n",
    "\n",
    "# We must evaluate 3 cases:\n",
    "\n",
    "## i) $a>0$\n",
    "\n",
    "## ii) $a=0$\n",
    "\n",
    "## iii) $a<0$"
   ]
  },
  {
   "cell_type": "markdown",
   "metadata": {},
   "source": [
    "___\n",
    "\n",
    "# i)\n",
    "\n",
    "### $F_{X}(x) = P(X>x) \\implies F_{Y}(y) = P(Y>y) = P(X+b>y) = P(X>y-b) \\implies F_{Y}(y) = F_{X}(y-b)$\n",
    "\n",
    "### Similarly $F_{Z}(z) = F_{X}(\\frac{z}{b})$ and $F_{W}(w) = F_{X}(\\frac{w-b}{a})$"
   ]
  },
  {
   "cell_type": "markdown",
   "metadata": {},
   "source": [
    "___\n",
    "\n",
    "# ii)\n",
    "\n",
    "# $a=0 \\implies b=1$"
   ]
  },
  {
   "cell_type": "markdown",
   "metadata": {},
   "source": [
    "___\n",
    "\n",
    "# iii) \n",
    "\n",
    "### $a<0 \\implies F_{Z}(z) = P(Z<z) = P(X>\\frac{z}{a}) = 1 - P(X<\\frac{z}{a})$ and $F_{W}(w) = P(X>\\frac{w-b}{a}) = 1-F_{X}(\\frac{w-b}{a})$"
   ]
  }
 ],
 "metadata": {
  "kernelspec": {
   "display_name": "Python 3",
   "language": "python",
   "name": "python3"
  },
  "language_info": {
   "codemirror_mode": {
    "name": "ipython",
    "version": 3
   },
   "file_extension": ".py",
   "mimetype": "text/x-python",
   "name": "python",
   "nbconvert_exporter": "python",
   "pygments_lexer": "ipython3",
   "version": "3.6.4"
  }
 },
 "nbformat": 4,
 "nbformat_minor": 2
}
