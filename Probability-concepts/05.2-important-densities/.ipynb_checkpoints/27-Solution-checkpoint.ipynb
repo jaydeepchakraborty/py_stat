{
 "cells": [
  {
   "cell_type": "markdown",
   "metadata": {},
   "source": [
    "# A final examination at Podnuk University is constructed so that the test scores are approximately normally distributed\n",
    "\n",
    "# The instructor assigns letter grades to the test scores as shown in the table below\n",
    "\n",
    "![](images/table5-10.PNG)"
   ]
  },
  {
   "cell_type": "markdown",
   "metadata": {},
   "source": [
    " # What fraction of the class gets A, B, C, D, and F?"
   ]
  },
  {
   "cell_type": "markdown",
   "metadata": {},
   "source": [
    "___\n",
    "\n",
    "# A\n",
    "\n",
    "# $P(X>x+\\sigma) = P(Z>1) = 1-P(Z<1) = 1-.8413 = 0.1587$"
   ]
  },
  {
   "cell_type": "markdown",
   "metadata": {},
   "source": [
    "___\n",
    "\n",
    "# B\n",
    "\n",
    "## $P(\\mu<X<\\mu+\\sigma) = P(0<Z<1) = P(Z<1) - P(Z<0) = 0.8413 - 0.5 = 0.3413$"
   ]
  },
  {
   "cell_type": "markdown",
   "metadata": {},
   "source": [
    "___\n",
    "\n",
    "# C\n",
    "\n",
    "## $P(\\mu - \\sigma < X < \\mu) = P(-1<Z<0) = P(Z<0) - P(Z<-1) = 0.5-0.1887 = 0.3413$"
   ]
  },
  {
   "cell_type": "markdown",
   "metadata": {},
   "source": [
    "___\n",
    "\n",
    "# D\n",
    "\n",
    "### $P(\\mu-2\\sigma<X<\\mu-\\sigma) = P(-2<X<-1) = P(X<-1) - P(X<-2) = 0.1587 - 0.0228 = 0.1359$"
   ]
  },
  {
   "cell_type": "markdown",
   "metadata": {},
   "source": [
    "___\n",
    "\n",
    "# F\n",
    "\n",
    "# $P(X<\\mu-2\\sigma) = P(Z<-2) = 0.0228$"
   ]
  }
 ],
 "metadata": {
  "kernelspec": {
   "display_name": "Python 2",
   "language": "python",
   "name": "python2"
  },
  "language_info": {
   "codemirror_mode": {
    "name": "ipython",
    "version": 2
   },
   "file_extension": ".py",
   "mimetype": "text/x-python",
   "name": "python",
   "nbconvert_exporter": "python",
   "pygments_lexer": "ipython2",
   "version": "2.7.11"
  }
 },
 "nbformat": 4,
 "nbformat_minor": 0
}
