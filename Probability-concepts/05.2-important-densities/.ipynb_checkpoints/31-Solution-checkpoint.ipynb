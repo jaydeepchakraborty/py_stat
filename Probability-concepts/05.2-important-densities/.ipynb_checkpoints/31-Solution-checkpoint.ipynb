{
 "cells": [
  {
   "cell_type": "markdown",
   "metadata": {},
   "source": [
    "# Let $U$ be uniformly distributed on $[0,1]$\n",
    "\n",
    "# What is the probability that the equation $x^{2}+4Ux+1=0$ has two distinct real roots?"
   ]
  },
  {
   "cell_type": "markdown",
   "metadata": {},
   "source": [
    "___\n",
    "\n",
    "# We know the roots of the equation are given by:\n",
    "\n",
    "# $\\frac{-4U \\pm \\sqrt{16U^{2}-4(1)(1)}}{2}$\n",
    "\n",
    "# The roots are real if $16U^{2}-4>0 \\implies U^{2} > \\frac{1}{4} \\implies U > \\frac{1}{2}$\n",
    "\n",
    "# Therefore $P(2\\text{ real roots}) = \\frac{1}{2}$"
   ]
  }
 ],
 "metadata": {
  "kernelspec": {
   "display_name": "Python 3",
   "language": "python",
   "name": "python3"
  },
  "language_info": {
   "codemirror_mode": {
    "name": "ipython",
    "version": 3
   },
   "file_extension": ".py",
   "mimetype": "text/x-python",
   "name": "python",
   "nbconvert_exporter": "python",
   "pygments_lexer": "ipython3",
   "version": "3.6.4"
  }
 },
 "nbformat": 4,
 "nbformat_minor": 2
}
