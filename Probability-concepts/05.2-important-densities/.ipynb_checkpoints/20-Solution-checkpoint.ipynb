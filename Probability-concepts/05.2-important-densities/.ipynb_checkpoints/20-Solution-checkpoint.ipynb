{
 "cells": [
  {
   "cell_type": "markdown",
   "metadata": {},
   "source": [
    "# Let $X$ be a random variable uniformly distributed over $[c,d]$\n",
    "\n",
    "# Let $Y=aX+b$\n",
    "\n",
    "# For what choice of $a$ and $b$ is $Y$ uniformly distributed over $[0,1]$?"
   ]
  },
  {
   "cell_type": "markdown",
   "metadata": {},
   "source": [
    "____\n",
    "\n",
    "### We know that for a continuous uniform distribution $X$ over $[x,d]$, $F_{X}(x) = \\frac{x-c}{d-c}$\n",
    "\n",
    "### So for $Y$, $F_{Y}(y) = P(Y<y) = P(aX+b<y) = P(X<\\frac{y-b}{a}) = F_{X}(\\frac{y-b}{a}) = \\frac{\\frac{y-b}{a}-c}{d-c}$"
   ]
  },
  {
   "cell_type": "markdown",
   "metadata": {},
   "source": [
    "### At $y=0$ we want $F_{Y}(0)=0 \\implies \\frac{\\frac{-b}{a}-c}{d-c}=0 \\implies \\frac{-b}{a}-c = 0 \\implies a = \\frac{-b}{c}$"
   ]
  },
  {
   "cell_type": "markdown",
   "metadata": {},
   "source": [
    "### At $y=1$ we want $F_{Y}(1) = 1 \\implies \\frac{y-b}{a} - c = d-c \\implies \\frac{1-b}{a}+\\frac{b}{a} = d + \\frac{b}{a} \\implies a = \\frac{1-b}{d}$"
   ]
  },
  {
   "cell_type": "markdown",
   "metadata": {},
   "source": [
    "### Therefore $\\frac{-b}{c} = \\frac{1-b}{d} \\implies b = \\frac{c}{c-d} \\implies a = \\frac{1-\\frac{c}{c-d}}{d} = \\frac{-d}{c-d}\\frac{1}{d} = \\frac{1}{d-c}$"
   ]
  },
  {
   "cell_type": "markdown",
   "metadata": {},
   "source": [
    "# So we set $a = \\frac{1}{d-c}$ and $b = \\frac{c}{c-d}$"
   ]
  }
 ],
 "metadata": {
  "kernelspec": {
   "display_name": "Python 3",
   "language": "python",
   "name": "python3"
  },
  "language_info": {
   "codemirror_mode": {
    "name": "ipython",
    "version": 3
   },
   "file_extension": ".py",
   "mimetype": "text/x-python",
   "name": "python",
   "nbconvert_exporter": "python",
   "pygments_lexer": "ipython3",
   "version": "3.6.4"
  }
 },
 "nbformat": 4,
 "nbformat_minor": 2
}
