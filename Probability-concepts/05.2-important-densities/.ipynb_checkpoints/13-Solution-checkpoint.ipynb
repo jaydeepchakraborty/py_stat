{
 "cells": [
  {
   "cell_type": "markdown",
   "metadata": {},
   "source": [
    "# Find the cdf and pdf for each of the random variables in Exercise 12"
   ]
  },
  {
   "cell_type": "markdown",
   "metadata": {},
   "source": [
    "## a) $R=U^{2}<\\frac{1}{4}$\n",
    "\n",
    "## b) $S = U(1-U) < \\frac{1}{4}$\n",
    "\n",
    "## c) $T = \\frac{U}{1-U} < \\frac{1}{4}$"
   ]
  },
  {
   "cell_type": "markdown",
   "metadata": {},
   "source": [
    "____\n",
    "\n",
    "# a)\n",
    "\n",
    "# We saw in exercise 9 that $P(R<\\frac{1}{4}) = P(U<\\frac{1}{2})$\n",
    "\n",
    "# We can generalize this to be $P(R<r) = P(U<\\sqrt{r}) =\\sqrt{r}$\n",
    "\n",
    "# Therefore $F(r) = \\sqrt{r}\\implies f(r) = \\frac{1}{2\\sqrt{r}}$"
   ]
  },
  {
   "cell_type": "markdown",
   "metadata": {},
   "source": [
    "___\n",
    "\n",
    "# b)\n",
    "\n",
    "# We saw in exercise 9 that $P(S<s) = 1$ for all $s\\geq \\frac{1}{4}$\n",
    "\n",
    "# $S = U - U^{2}$, and since $U$ is in $[0,1]$, $S$ has range $[0, \\frac{1}{4}]$\n",
    "\n",
    "# Let's look at the plot of $S$"
   ]
  },
  {
   "cell_type": "code",
   "execution_count": 1,
   "metadata": {
    "collapsed": true
   },
   "outputs": [],
   "source": [
    "import numpy as np\n",
    "import matplotlib.pyplot as plt\n",
    "%matplotlib inline\n",
    "plt.rcParams['figure.figsize'] = 10, 10"
   ]
  },
  {
   "cell_type": "code",
   "execution_count": 2,
   "metadata": {
    "collapsed": false
   },
   "outputs": [
    {
     "data": {
      "image/png": "[encoded data removed]",
      "text/plain": [
       "<matplotlib.figure.Figure at 0xa612208>"
      ]
     },
     "metadata": {},
     "output_type": "display_data"
    }
   ],
   "source": [
    "U = np.arange(0,1.01,0.01)\n",
    "S = U*(1-U)\n",
    "\n",
    "plt.plot(U,S)\n",
    "plt.show()"
   ]
  },
  {
   "cell_type": "markdown",
   "metadata": {},
   "source": [
    "## $S<s \\implies U(1-U)<s$\n",
    "\n",
    "## We know that $U(1-U)=s \\implies U = \\frac{1 \\pm \\sqrt{1-4s}}{2}$\n",
    "\n",
    "### Combining these, we get $P(U(1-U)<s) = P(U<\\frac{1 - \\sqrt{1-4s}}{2}) + P(U>\\frac{1 + \\sqrt{1-4s}}{2})$\n",
    "\n",
    "## Since the plot is symmetrical, we can simplify this as:\n",
    "\n",
    "## $P(U(1-U)<s) = 2P(U<\\frac{1 - \\sqrt{1-4s}}{2}) = 2(\\frac{1 - \\sqrt{1-4s}}{2}) = 1 - \\sqrt{1-4s}$\n",
    "\n",
    "# Therefore\n",
    "\n",
    "# $F(s) = 1 - \\sqrt{1-4s} \\implies f(s) = \\frac{2}{\\sqrt{1-4s}}$"
   ]
  },
  {
   "cell_type": "markdown",
   "metadata": {},
   "source": [
    "____\n",
    "\n",
    "# c)\n",
    "\n",
    "# $T = \\frac{U}{1-U}$\n",
    "\n",
    "# $P(T<t) = P(\\frac{U}{1-U} < t) = P(U < \\frac{t}{1+t}) = \\frac{t}{1+t}$\n",
    "\n",
    "# Therefore\n",
    "\n",
    "# $F(t) = \\frac{t}{1+t} \\implies f(t) = \\frac{1}{1+t} - \\frac{t}{(1+t)^{2}} = \\frac{1}{(1+t)^{2}}$"
   ]
  }
 ],
 "metadata": {
  "kernelspec": {
   "display_name": "Python 2",
   "language": "python",
   "name": "python2"
  },
  "language_info": {
   "codemirror_mode": {
    "name": "ipython",
    "version": 2
   },
   "file_extension": ".py",
   "mimetype": "text/x-python",
   "name": "python",
   "nbconvert_exporter": "python",
   "pygments_lexer": "ipython2",
   "version": "2.7.11"
  }
 },
 "nbformat": 4,
 "nbformat_minor": 0
}
