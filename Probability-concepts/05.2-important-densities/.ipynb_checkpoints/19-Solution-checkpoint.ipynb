{
 "cells": [
  {
   "cell_type": "markdown",
   "metadata": {},
   "source": [
    "# Let $X$ be a random variable with pdf $f_{X}(x)$\n",
    "\n",
    "# Let $Y=X+b$, $Z=aX$, and $W=aX+b$ where $a\\neq0$\n",
    "\n",
    "# Find the pdf for $Y$, $Z$, and $W$"
   ]
  },
  {
   "cell_type": "markdown",
   "metadata": {},
   "source": [
    "____\n",
    "\n",
    "# i) $Y$\n",
    "\n",
    "\n",
    "## $F_{X}(x) = P(X<x) \\implies F_{Y}(y) = P(Y<y) = P(X+b<y) = P(X<y-b) = F_{X}(y-b)$\n",
    "\n",
    "## $f_{X}(x) = \\frac{d}{dx}F_{X}(x) \\implies f_{Y}(y) = \\frac{d}{dy}F_{X}(y-b) = f_{X}(y)$"
   ]
  },
  {
   "cell_type": "markdown",
   "metadata": {},
   "source": [
    "___\n",
    "\n",
    "# ii) $Z$\n",
    "\n",
    "# Using the same steps as above: $f_{Z} = \\frac{d}{dz}F_{X}(\\frac{z}{a}) = \\frac{1}{a}f_{X}(\\frac{z}{a})$"
   ]
  },
  {
   "cell_type": "markdown",
   "metadata": {},
   "source": [
    "___\n",
    "\n",
    "# iii) $W$\n",
    "\n",
    "# $f_{W}(w) = \\frac{d}{dz}F_{X}(\\frac{z-b}{a}) = \\frac{1}{a}f_{X}(\\frac{z-b}{a})$"
   ]
  }
 ],
 "metadata": {
  "kernelspec": {
   "display_name": "Python 3",
   "language": "python",
   "name": "python3"
  },
  "language_info": {
   "codemirror_mode": {
    "name": "ipython",
    "version": 3
   },
   "file_extension": ".py",
   "mimetype": "text/x-python",
   "name": "python",
   "nbconvert_exporter": "python",
   "pygments_lexer": "ipython3",
   "version": "3.6.4"
  }
 },
 "nbformat": 4,
 "nbformat_minor": 2
}
