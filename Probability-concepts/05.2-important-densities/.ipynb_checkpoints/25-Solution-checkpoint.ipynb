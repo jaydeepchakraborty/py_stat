{
 "cells": [
  {
   "cell_type": "markdown",
   "metadata": {},
   "source": [
    "# Let $X$ be a random variable normally distributed with parameters $\\mu = 70$ and $\\sigma = 10$\n",
    "\n",
    "# Estimate\n",
    "\n",
    "## a) $P(X>50)$\n",
    "\n",
    "## b) $P(X<60)$\n",
    "\n",
    "## c) $P(X>90)$\n",
    "\n",
    "## d) $P(60<X<80)$"
   ]
  },
  {
   "cell_type": "markdown",
   "metadata": {},
   "source": [
    "___\n",
    "\n",
    "# a)\n",
    "\n",
    "### $P(X>50) = P(Z>\\frac{50-\\mu}{10}) = P(Z>-2) = 1-P(Z<-2) = 1-0.0228 = 0.9772$"
   ]
  },
  {
   "cell_type": "markdown",
   "metadata": {},
   "source": [
    "___\n",
    "\n",
    "# b)\n",
    "\n",
    "## $P(X<60) = P(Z<-1) = 0.1587$"
   ]
  },
  {
   "cell_type": "markdown",
   "metadata": {},
   "source": [
    "___\n",
    "\n",
    "# c)\n",
    "\n",
    "# $P(X>90) = P(Z>2) = 1-P(Z<2) = 1-0.9772 = 0.0228$"
   ]
  },
  {
   "cell_type": "markdown",
   "metadata": {},
   "source": [
    "___\n",
    "\n",
    "# d)\n",
    "\n",
    "### $P(60<X<80) = P(-1<Z<1) = P(Z<1) - P(Z<-1) = 0.8413-0.1587 = 0.6826$"
   ]
  }
 ],
 "metadata": {
  "kernelspec": {
   "display_name": "Python 2",
   "language": "python",
   "name": "python2"
  },
  "language_info": {
   "codemirror_mode": {
    "name": "ipython",
    "version": 2
   },
   "file_extension": ".py",
   "mimetype": "text/x-python",
   "name": "python",
   "nbconvert_exporter": "python",
   "pygments_lexer": "ipython2",
   "version": "2.7.11"
  }
 },
 "nbformat": 4,
 "nbformat_minor": 0
}
