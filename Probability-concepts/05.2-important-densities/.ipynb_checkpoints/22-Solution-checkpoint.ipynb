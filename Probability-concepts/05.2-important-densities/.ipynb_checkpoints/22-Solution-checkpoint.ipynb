{
 "cells": [
  {
   "cell_type": "markdown",
   "metadata": {},
   "source": [
    "# Let $X$ be a random variable with cdf $F_{X}$\n",
    "\n",
    "# The *median* of $X$ is the value $m$ for which $F_{X}(m) = \\frac{1}{2}$\n",
    "\n",
    "# Find $m$ if $X$ is:\n",
    "\n",
    "## a) Uniformly distributed over the interval $[a,b]$\n",
    "\n",
    "## b) Normally distributed with parameters $\\mu$ and $\\sigma$\n",
    "\n",
    "## c) Exponentially distributed with parameter $\\lambda$"
   ]
  },
  {
   "cell_type": "markdown",
   "metadata": {},
   "source": [
    "___\n",
    "\n",
    "# a)\n",
    "\n",
    "# We know that $F_{X}(x) = \\frac{x-a}{b-a}$ for the uniform distribution over $[a,b]$\n",
    "\n",
    "# So $\\frac{1}{2} = \\frac{m-a}{b-a} \\implies 2(m-a) = b-a \\implies m = \\frac{b+a}{2}$"
   ]
  },
  {
   "cell_type": "markdown",
   "metadata": {},
   "source": [
    "___\n",
    "\n",
    "# b)\n",
    "\n",
    "# By definition, $\\mu$ is the middle of the distribution $\\implies m = \\mu$"
   ]
  },
  {
   "cell_type": "markdown",
   "metadata": {},
   "source": [
    "____\n",
    "\n",
    "# c)\n",
    "\n",
    "# For an exponential distribution, $F_{X}(x) = 1 - e^{-\\lambda x} \\implies \\frac{1}{2} = 1 - e^{-\\lambda x}$\n",
    "\n",
    "### $\\implies e^{-\\lambda x} = \\frac{1}{2} \\implies -\\lambda x = ln(\\frac{1}{2}) = ln(1) - ln(2) = -ln(2) \\implies x = \\frac{ln(2)}{\\lambda}$"
   ]
  }
 ],
 "metadata": {
  "kernelspec": {
   "display_name": "Python 2",
   "language": "python",
   "name": "python2"
  },
  "language_info": {
   "codemirror_mode": {
    "name": "ipython",
    "version": 2
   },
   "file_extension": ".py",
   "mimetype": "text/x-python",
   "name": "python",
   "nbconvert_exporter": "python",
   "pygments_lexer": "ipython2",
   "version": "2.7.11"
  }
 },
 "nbformat": 4,
 "nbformat_minor": 0
}
