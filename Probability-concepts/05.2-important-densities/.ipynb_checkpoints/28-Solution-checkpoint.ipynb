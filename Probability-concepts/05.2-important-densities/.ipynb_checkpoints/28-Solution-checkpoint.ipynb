{
 "cells": [
  {
   "cell_type": "markdown",
   "metadata": {},
   "source": [
    "# An expert witness in a paternity suit testifies that the length (in days) of a pregnancy, from conception to delivery, is approximately normally distributed with $\\mu=270$ and $\\sigma=10$\n",
    "\n",
    "# The defendant in the suit is able to prove that he was out of the country during the period from 290 to 240 days before the birth of the child\n",
    "\n",
    "# What is the probability that the defendant WAS in the country when the child was conceived?"
   ]
  },
  {
   "cell_type": "markdown",
   "metadata": {},
   "source": [
    "___\n",
    "\n",
    "# This question is really asking: what is the probability that either:\n",
    "\n",
    "## i) The pregnancy was 290 days or longer\n",
    "\n",
    "## ii) The pregnancy was 240 days or shorter"
   ]
  },
  {
   "cell_type": "markdown",
   "metadata": {},
   "source": [
    "## i) $P(X>290) = P(Z>2) = 1 - P(Z<2) = 1 - 0.9772 = 0.0228$\n",
    "\n",
    "## ii) $P(X<240) = P(Z<-3) = 0.0013$\n",
    "\n",
    "# Therefore $P(\\text{was in the country}) = 0.0228+0.0013 = 0.0241$"
   ]
  }
 ],
 "metadata": {
  "kernelspec": {
   "display_name": "Python 3",
   "language": "python",
   "name": "python3"
  },
  "language_info": {
   "codemirror_mode": {
    "name": "ipython",
    "version": 3
   },
   "file_extension": ".py",
   "mimetype": "text/x-python",
   "name": "python",
   "nbconvert_exporter": "python",
   "pygments_lexer": "ipython3",
   "version": "3.6.4"
  }
 },
 "nbformat": 4,
 "nbformat_minor": 2
}
