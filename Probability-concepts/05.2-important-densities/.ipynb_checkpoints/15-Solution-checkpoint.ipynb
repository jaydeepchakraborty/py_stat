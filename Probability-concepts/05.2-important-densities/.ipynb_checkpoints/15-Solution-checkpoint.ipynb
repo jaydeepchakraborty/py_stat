{
 "cells": [
  {
   "cell_type": "markdown",
   "metadata": {},
   "source": [
    "# In Exercise 14 find the cdf and pdf for the random variable $D$"
   ]
  },
  {
   "cell_type": "markdown",
   "metadata": {},
   "source": [
    "___\n",
    "\n",
    "### $P(D<d) = 1-P(D>d) = 1-\\left ( P(d<x<1-d)\\cdot P(d<y<1-d) \\right ) = 1- \\left ( 1-2d \\right )^{2}$\n",
    "\n",
    "# Therefore $F(d) = 1- \\left ( 1-2d \\right )^{2} \\implies f(d) = 4-8d = 4(1-2d)$"
   ]
  }
 ],
 "metadata": {
  "kernelspec": {
   "display_name": "Python 3",
   "language": "python",
   "name": "python3"
  },
  "language_info": {
   "codemirror_mode": {
    "name": "ipython",
    "version": 3
   },
   "file_extension": ".py",
   "mimetype": "text/x-python",
   "name": "python",
   "nbconvert_exporter": "python",
   "pygments_lexer": "ipython3",
   "version": "3.6.4"
  }
 },
 "nbformat": 4,
 "nbformat_minor": 2
}
