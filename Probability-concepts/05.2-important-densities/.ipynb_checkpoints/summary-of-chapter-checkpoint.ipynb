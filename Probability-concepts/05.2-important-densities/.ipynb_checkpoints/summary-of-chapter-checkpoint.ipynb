{
 "cells": [
  {
   "cell_type": "markdown",
   "metadata": {},
   "source": [
    "# 1. Continuous Uniform Density\n",
    "\n",
    "- **Simplest** density function\n",
    "- Corresponds to a random variable $U$ whose value can be some real number in the interval $[a,b]$\n",
    "\n",
    "- The density function is given by:\n",
    "\n",
    "# $f(x) = \\left\\{\\begin{matrix}\\frac{1}{b-a} & \\text{if }a\\leq x \\leq b\\\\ 0 & otherwise\\end{matrix}\\right.$"
   ]
  },
  {
   "cell_type": "code",
   "execution_count": 1,
   "metadata": {
    "collapsed": true
   },
   "outputs": [],
   "source": [
    "import numpy as np\n",
    "import pandas as pd\n",
    "import matplotlib.pyplot as plt\n",
    "%matplotlib inline\n",
    "plt.rcParams['figure.figsize'] = 10, 10"
   ]
  },
  {
   "cell_type": "code",
   "execution_count": 2,
   "metadata": {
    "collapsed": false
   },
   "outputs": [
    {
     "data": {
      "text/plain": [
       "[<matplotlib.lines.Line2D at 0xc08dd68>]"
      ]
     },
     "execution_count": 2,
     "metadata": {},
     "output_type": "execute_result"
    },
    {
     "data": {
      "image/png": "[encoded data removed]",
      "text/plain": [
       "<matplotlib.figure.Figure at 0xbe5cac8>"
      ]
     },
     "metadata": {},
     "output_type": "display_data"
    }
   ],
   "source": [
    "x = np.arange(1,11)\n",
    "y = 0.1*np.ones(len(x))\n",
    "plt.plot(x,y)"
   ]
  },
  {
   "cell_type": "markdown",
   "metadata": {},
   "source": [
    "# 2. Exponential and Gamma Densities"
   ]
  },
  {
   "cell_type": "markdown",
   "metadata": {},
   "source": [
    "- The **exponential density** function is defined by:\n",
    "\n",
    "# $f(x) = \\left\\{\\begin{matrix}\\lambda e^{-\\lambda x} & \\text{if }0\\leq x \\leq \\infty \\\\ 0 & otherwise\\end{matrix}\\right.$\n",
    "\n",
    "\n",
    "- We can see right away that if we integrate to get the cumulative distribution function $F(X)$:\n",
    "\n",
    "# $F(x) = \\left\\{\\begin{matrix}-e^{-\\lambda x} & \\text{if }0\\leq x \\leq \\infty \\\\ 0 & otherwise\\end{matrix}\\right.$\n",
    "\n",
    "- Which means that if we're integrating from 0 to some a:\n",
    "\n",
    "# $P(0\\leq X \\leq a) = 1 - e^{-\\lambda a}$\n",
    "\n",
    "- $\\lambda$ can be any positive constant\n",
    "    - Otherwise, the $e^{-\\lambda a}$ value in $P(0\\leq X \\leq a)$ would be greater than one leading to a negative probability\n",
    "        - *This doesn't make sense*"
   ]
  },
  {
   "cell_type": "markdown",
   "metadata": {},
   "source": [
    "![](images/summary1.PNG)"
   ]
  },
  {
   "cell_type": "markdown",
   "metadata": {},
   "source": [
    "- We use the exponential density to answer the question: **how long until the special event happens?**\n",
    "\n",
    "### Recall: the geometric distribution is *memoryless*\n",
    "\n",
    "- **The same is true of the exponential density**\n",
    "    - i.e. $P(X>r+s|X>r) = P(X>s)$\n",
    "    \n",
    "- We can show this pretty easily:\n",
    "\n",
    "### $P(X>r+s|X>r) = \\frac{P(X>r+s \\cap X>r) }{P(x>r)} = \\frac{P(X>r+s)}{P(X>r)} = \\frac{1 - P(X\\leq r+s)}{1 - P(X\\leq r)} = \\frac{1 - (1- e^{-\\lambda (r+s)})}{1 - (1- e^{-\\lambda r})} = \\frac{e^{-\\lambda (r+s)}}{e^{-\\lambda r}} = e^{-\\lambda s} = P(X>s)$"
   ]
  },
  {
   "cell_type": "markdown",
   "metadata": {},
   "source": [
    "### Exponential vs. Poisson\n",
    "\n",
    "- Let $X_{1}$, $X_{2}$, ..., $X_{n}$ be a set of independent exponentially distributed random variables with parameter $\\lambda$\n",
    "    - One way this could be applied is to let $X_{i}$ represent the amount of time between the $i^{th}$ and $(i+1)^{th}$ particle being emitted\n",
    "    \n",
    "- Now, we consider some time interval $t$, and let $Y$ be a random variable representing the number of emmissions that occur during the time interval\n",
    "\n",
    "- Let $S_{i} = X_{1} + X_{2} + ... + X_{i}$\n",
    "    - This means $S_{i}$ is equal to the amount of time required for particles 1 through $i$ to be emmitted\n",
    "    \n",
    "- Therefore, if we want to know the probability that there are $n$ emmissions that occur in time $t$:\n",
    "\n",
    "# $P(Y=n) = P(S_{n} \\leq t \\cap S_{n+1} > t)$\n",
    "\n",
    "- This means that the amount of time for $n$ particles to be emmitted must be less than $t$, but also that is requres more than $t$ to emit more than $n$ particles\n",
    "    - Otherwise, there would be $n+1$ emmissions in time $t$, and that's not what we're looking for\n",
    "    \n",
    "- This means that \n",
    "\n",
    "# $P(S_{n} \\leq t \\cap S_{n+1} > t) = P(S_{n} \\leq t) - P(S_{n+1} \\leq t)$"
   ]
  },
  {
   "cell_type": "markdown",
   "metadata": {},
   "source": [
    "### In chapter 7, the density of $S_{n}$ is derived as:\n",
    "\n",
    "# $g_{n}(x) = \\left\\{\\begin{matrix}\\lambda\\frac{(\\lambda x)^{n-1}}{(n-1)!} e^{-\\lambda x}&\\text{if }0\\leq x \\leq \\infty \\\\ 0 &otherwise\\end{matrix}\\right.$"
   ]
  },
  {
   "cell_type": "markdown",
   "metadata": {},
   "source": [
    "- The function above describes the **gamma function** with parameters $n$ and $\\lambda$"
   ]
  },
  {
   "cell_type": "markdown",
   "metadata": {},
   "source": [
    "- By induction, the cumulative distribution function for $g_{n}(x)$ aka $S_{n}$ is derived as:\n",
    "\n",
    "# $G_{n}(x) = \\left\\{\\begin{matrix}1- e^{-\\lambda x}(1+\\frac{\\lambda x}{1!}+...+\\frac{(\\lambda x)^{n-1}}{(n-1)!})&\\text{if }0\\leq x \\leq \\infty \\\\ 0 &otherwise\\end{matrix}\\right.$"
   ]
  },
  {
   "cell_type": "markdown",
   "metadata": {},
   "source": [
    "### Using $G_{n}$ to solve for $P(S_{n} \\leq t \\cap S_{n+1} > t)$:\n",
    "\n",
    "### $P(S_{n} \\leq t \\cap S_{n+1} > t) = G_{n}(t) - G_{n+1}(t) = e^{-\\lambda t}(1+\\frac{\\lambda t}{1!}+...+\\frac{(\\lambda t)^{n}}{n!}) - e^{-\\lambda t}(1+\\frac{\\lambda t}{1!}+...+\\frac{(\\lambda t)^{n-1}}{(n-1)!}) = e^{-\\lambda t}(\\frac{(\\lambda t)^{n}}{n!})$"
   ]
  },
  {
   "cell_type": "markdown",
   "metadata": {},
   "source": [
    "### But what is this expression? It's the poisson distribution (with parameters $n$ and $\\lambda t$)!"
   ]
  },
  {
   "cell_type": "markdown",
   "metadata": {},
   "source": [
    "## Example\n",
    "\n",
    "- Suppose that customers arrive at random times at a service station that has only one server\n",
    "\n",
    "- **How long should a customer expect to wait?**\n",
    "    - **Recall:** we said the exponential density deals with questions of *how long until a special event?*\n",
    "        - Here, the special event is being called to the service station\n",
    "        \n",
    "- The wait time is dependent on two factors:\n",
    "    1. The arrival time\n",
    "    2. The time it takes to service the customers ahead\n",
    "        \n",
    "- We assume that the arrival time of customer $i$ is given by the random variable $X_{i}$ with the density function $f(t) = \\lambda e^{-\\lambda t}$ therefore the cumulative distribution is given by $F(t) = 1 - e^{-\\lambda t}$\n",
    "\n",
    "- We also assume that the time is takes to service customer $i$ is given by the random variable $Y_{i}$ with the density function $f^{*}(t) = \\lambda^{*} e^{-\\lambda^{*} t}$ with $F(t) = 1 - e^{-\\lambda^{*} t}$\n",
    "\n",
    "- From here, we can simulate wait times based on these functions\n",
    "    - **Not gonna do it here**"
   ]
  },
  {
   "cell_type": "markdown",
   "metadata": {},
   "source": [
    "___\n",
    "# Aside: Functions of a random variable\n",
    "\n",
    "- We need to think about random variables that are a function of other random variables\n",
    "\n",
    "### Theorem\n",
    "\n",
    "- Let $X$ be a continuous random variable\n",
    "- Suppose that $\\phi(x)$ is a strictly (i.e monotonically) increasing function over the possible values of $X$\n",
    "\n",
    "- We define $Y = \\phi(X)$\n",
    "\n",
    "- Let $F_{X}$ and $F_{Y}$ denote the cumulative distribution functions of $X$ and $Y$ respectively\n",
    "\n",
    "**Then, these two functions are related by:**\n",
    "\n",
    "## $F_{Y}(y) = F_{X}(\\phi^{-1}(y))$\n",
    "\n",
    "#### Proof\n",
    "\n",
    "$F_{Y}(y) = P(Y\\leq y) = P(\\phi(X) \\leq y) = P(X \\leq \\phi^{-1}(y)) = F_{X}(\\phi^{-1}(y))$"
   ]
  },
  {
   "cell_type": "markdown",
   "metadata": {},
   "source": [
    "### Corollary\n",
    "\n",
    "- Let $X$ be a continuous random variable\n",
    "- Suppose that $\\phi(x)$ is a monotonically increasing function over the possible values of $X$\n",
    "\n",
    "- Define $Y=\\phi(X)$\n",
    "\n",
    "- Let $f_{Y}$ and $f_{X}$ denote the density functions of $X$ and $Y$ respectively\n",
    "\n",
    "**Then, these two functions are related by:**\n",
    "\n",
    "## $f_{Y}(y) = f_{X}(\\phi^{-1}(y))\\cdot\\frac{d}{dy}\\phi^{-1}(y)$"
   ]
  },
  {
   "cell_type": "markdown",
   "metadata": {},
   "source": [
    "____\n",
    "\n",
    "# 3. Normal Density\n",
    "\n",
    "- **The most important density function**\n",
    "\n",
    "- The normal density has parameters $\\mu$ (the average value) and $\\sigma$ (the standard deviation)\n",
    "\n",
    "- The normal density is defined as:\n",
    "\n",
    "# $f_{X}(x) = \\frac{1}{\\sqrt{2\\pi\\sigma}}e^{\\frac{-(x-\\mu)^{2}}{2\\sigma^{2}}}$\n",
    "\n",
    "- This function is hard to integrate, hence the cdf of the normal density is:\n",
    "\n",
    "# $F_{X}(x) = \\int_{-\\infty}^{x}\\frac{1}{\\sqrt{2\\pi\\sigma}}e^{\\frac{-(u-\\mu)^{2}}{2\\sigma^{2}}}du$\n",
    "\n",
    "- Instead of trying to solve this, we usually just use lookup tables"
   ]
  },
  {
   "cell_type": "markdown",
   "metadata": {},
   "source": [
    "### The *standard normal* density is a normal density with $\\mu = 0$ and $\\sigma = 1$\n",
    "\n",
    "- We can use the standard normal density to calculate the cumulative probability of a normally distributed random variable $X$\n",
    "\n",
    "# $ F_{X}(x) = P(X<x) = P(Z<\\frac{x-\\mu}{\\sigma})$\n",
    "\n",
    "- i.e. we just calculate how many standard deviations away from $\\mu$ that $x$ is, then use the Z-table (standard normal density lookup table)\n",
    "\n",
    "### The process of converting $X\\rightarrow Z$ is called *standardization* and we describe the relationship as $Z = \\frac{X-\\mu}{\\sigma}$"
   ]
  },
  {
   "cell_type": "markdown",
   "metadata": {},
   "source": [
    "### Example\n",
    "\n",
    "- Suppose that $X$ is a normally distributed random variable with parameters $\\mu = 10$ and $\\sigma = 3$\n",
    "- What is the probability that $X$ is between $4$ and $16$?\n",
    "\n",
    "### $P(4<X<16) = P(X<16) - P(X<4)$\n",
    "\n",
    "### $\\frac{16-10}{3} = 2 \\implies 16$ is 2 standard deviations above $\\mu$\n",
    "\n",
    "### $\\frac{4-10}{3} = -2 \\implies 16$ is 2 standard deviations below from $\\mu$\n",
    "\n",
    "### So $P(X<16) = P(Z<2) = 0.9772$ and $P(X<4) = P(Z<-2) = 0.0228$\n",
    "\n",
    "### Therefore $P(4<X<16) = 0.9772 - 0.0228 = 0.9544$"
   ]
  },
  {
   "cell_type": "markdown",
   "metadata": {},
   "source": [
    "____\n",
    "\n",
    "# 4. Maxwell and Rayleigh Densities\n",
    "\n",
    "### Motivating example\n",
    "\n",
    "- Suppose you drop a dart on a large table top (evaluated as an $xy$ plane)\n",
    "\n",
    "- We assume that the $x$ and $y$ values follow the standard normal distribution (i.e. $\\mu = 0$ and $\\sigma = 1$)\n",
    "\n",
    "- **How is the distance from the point of origin (0,0) distributed?**"
   ]
  },
  {
   "cell_type": "markdown",
   "metadata": {},
   "source": [
    "### Example from Physics\n",
    "\n",
    "- This problem arrives in physics when a particle is moving through an $R^{n}$ dimensional space\n",
    "    - The particle's direction vector can be broken down into its components, and **each component is independently distributed**\n",
    "        - **What does this mean?**: if a particle is moving through 3-dimensional space on a diagonal, the speed at which it is moving up is not affected by the speed at which it is moving forward or to the side\n",
    "\n",
    "\n",
    "- **We want to derive the density for the speed of the particle**\n",
    "    - In 3-dimensional space (i.e. $R^{3}$), this density is called the **Maxwell Density**\n",
    "    - In 2-dimensional space (like the dartboard example), this density is called the **Rayleigh Density**"
   ]
  },
  {
   "cell_type": "markdown",
   "metadata": {},
   "source": [
    "- We can simulate $x$ and $y$ to derive the distribution of $r = \\sqrt{x^{2}+y^{2}}$\n",
    "\n",
    "- We will see in chapter 7 that the density is given by:\n",
    "\n",
    "# $f(r) = re^{\\frac{-r^{2}}{2}}$"
   ]
  },
  {
   "cell_type": "code",
   "execution_count": 9,
   "metadata": {
    "collapsed": false
   },
   "outputs": [
    {
     "data": {
      "image/png": "[encoded data removed]",
      "text/plain": [
       "<matplotlib.figure.Figure at 0xdddc668>"
      ]
     },
     "metadata": {},
     "output_type": "display_data"
    }
   ],
   "source": [
    "n = 10000\n",
    "\n",
    "x = np.random.normal(size=n)\n",
    "y = np.random.normal(size=n)\n",
    "\n",
    "r = np.sqrt(x**2 + y**2)\n",
    "\n",
    "x = np.arange(0,4.51,0.01)\n",
    "fr = x*np.exp(-x**2/2)\n",
    "\n",
    "plt.hist(r, bins = 100, normed = True)\n",
    "plt.plot(x,fr, color = 'r', lw = 4)\n",
    "plt.show()"
   ]
  },
  {
   "cell_type": "markdown",
   "metadata": {},
   "source": [
    "___\n",
    "\n",
    "# 5. Chi-squared Density\n",
    "\n",
    "### Recall from [the 5.1 discussion of the Hypergeometric Distribution](../5.1-important-distributions/summary-of-chapter.ipynb#6.-Hypergeometric-distribution) we looked at the dependence of traits\n",
    "\n",
    "### Using the Chi-squared density, we can solve similar problems with way less calculation"
   ]
  },
  {
   "cell_type": "markdown",
   "metadata": {},
   "source": [
    "### Motivating Example\n",
    "\n",
    "- Suppose that we have the following data\n",
    "\n",
    "![](images/table5-8.PNG)"
   ]
  },
  {
   "cell_type": "markdown",
   "metadata": {},
   "source": [
    "- We set up this problem the same way as we did before: imagine we have a basket with 319 balls\n",
    "    - 152 of the balls are blue (to represent the male students)\n",
    "    - The remaining 167 balls are red (to represent the female students)\n",
    "    \n",
    "- Step 1: Select 93 balls from the basket\n",
    "    - These represent the 93 students that got an A\n",
    "    \n",
    "- Step 2: Select 123 balls from the basket\n",
    "    - These represent the 123 students that got a B\n",
    "    \n",
    "- Step 3: Select 90 balls from the basket\n",
    "    - These represent the 90 students that got a C\n",
    "    \n",
    "- Step 4: Look at the 13 balls remaining in the basket\n",
    "    - These represent the 13 students that got below a C"
   ]
  },
  {
   "cell_type": "markdown",
   "metadata": {},
   "source": [
    "- If we continue following the procedure as before, we'd derive the table of expected results shown below:\n",
    "\n",
    "![](images/table5-9.PNG)"
   ]
  },
  {
   "cell_type": "markdown",
   "metadata": {},
   "source": [
    "- **To continue from here and check to see how improbable Table 5.8 is vs. Table 5.9, we'd need to do A TON OF CALCULATIONS**\n",
    "\n",
    "### Instead, we can define a single number that can measure how probable/improbable it is"
   ]
  },
  {
   "cell_type": "markdown",
   "metadata": {},
   "source": [
    "### We calculate the residual for each observed value (i.e. the difference between the observed value and the expected value) \n",
    "\n",
    "# $\\chi^{2} = \\sum^{n}_{i=0}\\frac{(O_{i}-E_{i})^{2}}{E_{i}}$\n",
    "\n",
    "\n",
    "### So, for the tables above, $\\chi^{2} = \\frac{(37-44.3)^2}{44.3}+\\frac{(56-48.73)^2}{48.7}+\\frac{(63-58.6)^2}{58.6}+\\frac{(60-64.4)^2}{64.4}+\\frac{(47-42.9)^2}{42.9}+\\frac{(43-47.1)^2}{47.1}+\\frac{(5-6.2)^2}{6.2}+\\frac{(8-6.8)^2}{6.8}$"
   ]
  },
  {
   "cell_type": "code",
   "execution_count": 11,
   "metadata": {
    "collapsed": false
   },
   "outputs": [],
   "source": [
    "df_O = pd.DataFrame({'Female':[37,63,47,5]})\n",
    "df_O['Male'] = [56,60,43,8]\n",
    "\n",
    "df_E = pd.DataFrame({'Female':[44.3,58.6,42.9,6.2]})\n",
    "df_E['Male'] = [48.7,64.4,47.1,6.8]"
   ]
  },
  {
   "cell_type": "code",
   "execution_count": 14,
   "metadata": {
    "collapsed": false
   },
   "outputs": [
    {
     "data": {
      "text/html": [
       "<div>\n",
       "<table border=\"1\" class=\"dataframe\">\n",
       "  <thead>\n",
       "    <tr style=\"text-align: right;\">\n",
       "      <th></th>\n",
       "      <th>Female</th>\n",
       "      <th>Male</th>\n",
       "    </tr>\n",
       "  </thead>\n",
       "  <tbody>\n",
       "    <tr>\n",
       "      <th>0</th>\n",
       "      <td>37</td>\n",
       "      <td>56</td>\n",
       "    </tr>\n",
       "    <tr>\n",
       "      <th>1</th>\n",
       "      <td>63</td>\n",
       "      <td>60</td>\n",
       "    </tr>\n",
       "    <tr>\n",
       "      <th>2</th>\n",
       "      <td>47</td>\n",
       "      <td>43</td>\n",
       "    </tr>\n",
       "    <tr>\n",
       "      <th>3</th>\n",
       "      <td>5</td>\n",
       "      <td>8</td>\n",
       "    </tr>\n",
       "  </tbody>\n",
       "</table>\n",
       "</div>"
      ],
      "text/plain": [
       "   Female  Male\n",
       "0      37    56\n",
       "1      63    60\n",
       "2      47    43\n",
       "3       5     8"
      ]
     },
     "execution_count": 14,
     "metadata": {},
     "output_type": "execute_result"
    }
   ],
   "source": [
    "df_O"
   ]
  },
  {
   "cell_type": "code",
   "execution_count": 15,
   "metadata": {
    "collapsed": false
   },
   "outputs": [
    {
     "data": {
      "text/html": [
       "<div>\n",
       "<table border=\"1\" class=\"dataframe\">\n",
       "  <thead>\n",
       "    <tr style=\"text-align: right;\">\n",
       "      <th></th>\n",
       "      <th>Female</th>\n",
       "      <th>Male</th>\n",
       "    </tr>\n",
       "  </thead>\n",
       "  <tbody>\n",
       "    <tr>\n",
       "      <th>0</th>\n",
       "      <td>44.3</td>\n",
       "      <td>48.7</td>\n",
       "    </tr>\n",
       "    <tr>\n",
       "      <th>1</th>\n",
       "      <td>58.6</td>\n",
       "      <td>64.4</td>\n",
       "    </tr>\n",
       "    <tr>\n",
       "      <th>2</th>\n",
       "      <td>42.9</td>\n",
       "      <td>47.1</td>\n",
       "    </tr>\n",
       "    <tr>\n",
       "      <th>3</th>\n",
       "      <td>6.2</td>\n",
       "      <td>6.8</td>\n",
       "    </tr>\n",
       "  </tbody>\n",
       "</table>\n",
       "</div>"
      ],
      "text/plain": [
       "   Female  Male\n",
       "0    44.3  48.7\n",
       "1    58.6  64.4\n",
       "2    42.9  47.1\n",
       "3     6.2   6.8"
      ]
     },
     "execution_count": 15,
     "metadata": {},
     "output_type": "execute_result"
    }
   ],
   "source": [
    "df_E"
   ]
  },
  {
   "cell_type": "code",
   "execution_count": 21,
   "metadata": {
    "collapsed": true
   },
   "outputs": [],
   "source": [
    "chi_2 = ((df_O - df_E)**2/df_E).sum().sum()"
   ]
  },
  {
   "cell_type": "code",
   "execution_count": 22,
   "metadata": {
    "collapsed": false
   },
   "outputs": [
    {
     "data": {
      "text/plain": [
       "4.120946069780853"
      ]
     },
     "execution_count": 22,
     "metadata": {},
     "output_type": "execute_result"
    }
   ],
   "source": [
    "chi_2"
   ]
  },
  {
   "cell_type": "markdown",
   "metadata": {},
   "source": [
    "### So we got a $\\chi^{2}$ value of 4.12, but what does it mean?"
   ]
  },
  {
   "cell_type": "markdown",
   "metadata": {},
   "source": [
    "- Like the normal density, we use lookup tables to evaluate our chi-squared values\n",
    "\n",
    "- The chi-squared density is **defined by one parameter: $n$ (degrees of freedom)**\n",
    "    - The degrees of freedom is calculated as $n = (a-1)(b-1)$ where $a$ and $b$ are the number of possible values for the traits we're comparing\n",
    "        - So for the example above, there are 4 categories (A, B, C, and below C)\n",
    "            - If we look at the female row, and we know the number of As, Bs, and Cs, then we automatically know below Cs (since it's just 152-#As-#Bs-#Cs)\n",
    "                - But we'd also know the number of Males that got As, Bs, Cs, and below Cs since they're implied by the female numbers\n",
    "                    - **SO REALLY, THERE ARE ONLY 3 VALUES THAT CAN VARY, AND THE REST ARE ALL IMPLIED**\n",
    "                    \n",
    "- So for the example above: $n=3$\n",
    "\n",
    "### If we look up the value 4.12 in the chi-square table with $n=3$, we see that this value is pretty unlikely, but not so unlikely that we reject the possibility that they're independent"
   ]
  },
  {
   "cell_type": "markdown",
   "metadata": {},
   "source": [
    "___\n",
    "\n",
    "# 6. Cauchy Density\n",
    "\n",
    "### Motivating Example\n",
    "\n",
    "- Suppose that a mirror is mounted on a vertical axis, but can rotate around the axis\n",
    "\n",
    "- The axis is one foot from a straight wall of infinite length\n",
    "\n",
    "- A pulse of light is shown onto the mirror, and the reflected ray hits the wall\n",
    "\n",
    "- Let $\\phi$ be the angle between the reflected ray and the line that is perpendicular to the wall\n",
    "    - We assume that $\\phi$ is uniformly distributed between $[-\\frac{\\pi}{2},\\frac{\\pi}{2}]$\n",
    "    \n",
    "- Let $X$ represent the distance between the point on the wall that is hit by the reflected ray and the point on the wall that is closest to the axis of the mirror\n",
    "\n",
    "![](images/cauchy1.png)"
   ]
  },
  {
   "cell_type": "markdown",
   "metadata": {},
   "source": [
    "- Let $B$ be some fixed constant value\n",
    "\n",
    "### What is $P(X\\geq B)$?\n",
    "\n",
    "- We know that $tan(\\phi) = \\frac{X}{1} = X \\implies X\\geq B$ when $tan(\\phi)\\geq B \\implies X\\geq B$ when $\\phi \\geq arctan(B)$\n",
    "\n",
    "- Since $\\phi$ is uniformly distributed over $[-\\frac{\\pi}{2},\\frac{\\pi}{2}]$, its cdf is given by:\n",
    "\n",
    "# $P(\\phi < x) = \\frac{x + \\frac{\\pi}{2}}{\\pi} \\implies P(\\phi < arctan(B)) = \\frac{arctan(B) + \\frac{\\pi}{2}}{\\pi}$"
   ]
  }
 ],
 "metadata": {
  "kernelspec": {
   "display_name": "Python 2",
   "language": "python",
   "name": "python2"
  },
  "language_info": {
   "codemirror_mode": {
    "name": "ipython",
    "version": 2
   },
   "file_extension": ".py",
   "mimetype": "text/x-python",
   "name": "python",
   "nbconvert_exporter": "python",
   "pygments_lexer": "ipython2",
   "version": "2.7.11"
  }
 },
 "nbformat": 4,
 "nbformat_minor": 2
}
