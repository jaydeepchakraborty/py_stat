{
 "cells": [
  {
   "cell_type": "markdown",
   "metadata": {},
   "source": [
    "# Let $X$ be a random variable with density function $f_{X}$\n",
    "\n",
    "# The *mean* of $X$ is the value $\\mu = \\int xf_{X}(x)dx$\n",
    "\n",
    "# Then $\\mu$ gives an average value for $X$\n",
    "\n",
    "# Find $\\mu$ if $X$ is distributed:\n",
    "\n",
    "## i) Uniformly\n",
    "\n",
    "## ii) Normally\n",
    "\n",
    "## iii) Exponentially"
   ]
  },
  {
   "cell_type": "markdown",
   "metadata": {},
   "source": [
    "___\n",
    "\n",
    "# i)\n",
    "\n",
    "# We know the pdf for the a uniform distribution is defined as:\n",
    "\n",
    "# $f_{X}(x) = \\frac{1}{b-a} \\implies \\int xf_{X}(x)dx = \\int x\\frac{1}{b-a}dx = \\frac{1}{b-a}\\frac{x^{2}}{2}$\n",
    "\n",
    "# If we plug $a$ and $b$ into this antiderivative to get the integral, it becomes:\n",
    "\n",
    "# $\\mu = \\frac{1}{b-a}\\frac{b^{2}-a^{2}}{2} = \\frac{1}{b-a}\\frac{(b-a)(b+a)}{2} = \\frac{b+a}{2}$"
   ]
  },
  {
   "cell_type": "markdown",
   "metadata": {},
   "source": [
    "___\n",
    "\n",
    "# ii)\n",
    "\n",
    "I don't want to integrate it since we know it's $\\mu$"
   ]
  },
  {
   "cell_type": "markdown",
   "metadata": {},
   "source": [
    "___\n",
    "\n",
    "# iii)\n",
    "\n",
    "# $f_{x}(x) = \\lambda e^{-\\lambda x} \\implies \\mu = \\int_{0}^{\\infty}x\\lambda e^{-\\lambda x}dx = -\\frac{e^{-\\lambda x}(\\lambda x+1)}{a}|_{0}^{\\infty} = 0 - (-\\frac{1}{\\lambda}) = \\frac{1}{\\lambda}$"
   ]
  }
 ],
 "metadata": {
  "kernelspec": {
   "display_name": "Python 2",
   "language": "python",
   "name": "python2"
  },
  "language_info": {
   "codemirror_mode": {
    "name": "ipython",
    "version": 2
   },
   "file_extension": ".py",
   "mimetype": "text/x-python",
   "name": "python",
   "nbconvert_exporter": "python",
   "pygments_lexer": "ipython2",
   "version": "2.7.11"
  }
 },
 "nbformat": 4,
 "nbformat_minor": 0
}
