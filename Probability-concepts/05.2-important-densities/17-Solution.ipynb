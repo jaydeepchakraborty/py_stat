{
 "cells": [
  {
   "cell_type": "markdown",
   "metadata": {},
   "source": [
    "# Let $X$ be a random variable with cdf:\n",
    "\n",
    "# $F(x) = \\left\\{\\begin{matrix}0 & x<0\\\\sin^{2}(\\frac{\\pi x}{2}) & 0\\leq x \\leq 1\\\\1 & x>1\\end{matrix}\\right.$\n",
    "\n",
    "## a) What is the $pdf$ for $X$?\n",
    "\n",
    "## b) What is the probability that $X<\\frac{1}{4}$"
   ]
  },
  {
   "cell_type": "markdown",
   "metadata": {},
   "source": [
    "____\n",
    "\n",
    "# a)\n",
    "\n",
    "# $f(x) = \\frac{d}{dx}F(x) = \\frac{d}{dx}sin^{2}(\\frac{\\pi x}{2}) = \\pi cos(\\frac{\\pi x}{2})sin(\\frac{\\pi x}{2})$"
   ]
  },
  {
   "cell_type": "markdown",
   "metadata": {},
   "source": [
    "___\n",
    "\n",
    "# b)\n",
    "\n",
    "# $P(X<\\frac{1}{4}) = F(\\frac{1}{4}) = sin^{2}(\\frac{\\pi}{8}) = 0.146$"
   ]
  }
 ],
 "metadata": {
  "kernelspec": {
   "display_name": "Python 3",
   "language": "python",
   "name": "python3"
  },
  "language_info": {
   "codemirror_mode": {
    "name": "ipython",
    "version": 3
   },
   "file_extension": ".py",
   "mimetype": "text/x-python",
   "name": "python",
   "nbconvert_exporter": "python",
   "pygments_lexer": "ipython3",
   "version": "3.6.4"
  }
 },
 "nbformat": 4,
 "nbformat_minor": 2
}
