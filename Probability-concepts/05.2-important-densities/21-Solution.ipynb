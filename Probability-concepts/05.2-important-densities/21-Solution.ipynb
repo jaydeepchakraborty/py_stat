{
 "cells": [
  {
   "cell_type": "markdown",
   "metadata": {},
   "source": [
    "# Let $X$ be a random variable with cdf $F_{X}$ that is strictly increasing over $X$\n",
    "\n",
    "# Let $Y = F_{X}(X)$\n",
    "\n",
    "# Show that $Y$ is uniformly distributed in the interval $[0,1]$"
   ]
  },
  {
   "cell_type": "markdown",
   "metadata": {},
   "source": [
    "____\n",
    "\n",
    "\n",
    "\n",
    "# Recall: Theorem 5.1\n",
    "\n",
    "### Let $X$ be a continuous random variable, and suppose that $\\phi(x)$ is a strictly increasing function on the range of $X$\n",
    "\n",
    "### Define $Y=\\phi(X)$\n",
    "\n",
    "### Suppose that $X$ and $Y$ have cdfs $F_{X}$ and $F_{Y}$\n",
    "\n",
    "### Then these functions are related by $F_{Y}(y) = F_{X}(\\phi^{-1}(y))$"
   ]
  },
  {
   "cell_type": "markdown",
   "metadata": {},
   "source": [
    "___\n",
    "\n",
    "# $Y = F_{X}(X)$ so our function $\\phi(x) = F_{X}(x) \\implies F_{Y}(y) = F_{X}(F_{X}^{-1}(y)) = y$\n",
    "\n",
    "# We know that the range of possible values for any cdf is $[0,1]$ therefore the range of values for $Y$ is $[0,1] \\implies Y$ is uniformly distributed in $[0,1]$"
   ]
  }
 ],
 "metadata": {
  "kernelspec": {
   "display_name": "Python 2",
   "language": "python",
   "name": "python2"
  },
  "language_info": {
   "codemirror_mode": {
    "name": "ipython",
    "version": 2
   },
   "file_extension": ".py",
   "mimetype": "text/x-python",
   "name": "python",
   "nbconvert_exporter": "python",
   "pygments_lexer": "ipython2",
   "version": "2.7.11"
  }
 },
 "nbformat": 4,
 "nbformat_minor": 0
}
