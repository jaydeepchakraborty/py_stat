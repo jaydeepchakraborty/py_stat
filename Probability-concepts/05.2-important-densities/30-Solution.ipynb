{
 "cells": [
  {
   "cell_type": "markdown",
   "metadata": {},
   "source": [
    "# Suppose that the number of years a car will run is exponentially distributed with parameter $\\mu = \\frac{1}{4}$\n",
    "\n",
    "# If Prosser buys a car today, what is the probability that it will still run after 4 years?"
   ]
  },
  {
   "cell_type": "markdown",
   "metadata": {},
   "source": [
    "___\n",
    "\n",
    "# $P(X>4) = 1 - P(X<4) = 1 - (1 - e^{\\frac{1}{4}4}) = e^{-1} = 0.368$"
   ]
  }
 ],
 "metadata": {
  "kernelspec": {
   "display_name": "Python 3",
   "language": "python",
   "name": "python3"
  },
  "language_info": {
   "codemirror_mode": {
    "name": "ipython",
    "version": 3
   },
   "file_extension": ".py",
   "mimetype": "text/x-python",
   "name": "python",
   "nbconvert_exporter": "python",
   "pygments_lexer": "ipython3",
   "version": "3.6.4"
  }
 },
 "nbformat": 4,
 "nbformat_minor": 2
}
