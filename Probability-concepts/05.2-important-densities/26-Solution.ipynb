{
 "cells": [
  {
   "cell_type": "markdown",
   "metadata": {},
   "source": [
    "# Bridies' Bearing Works manufactures bearing shafts whose diameters are nomally distributed with $\\mu = 1$, $\\sigma = 0.002$\n",
    "\n",
    "# The buyer's specifications require these diameters to be $1.0\\pm 0.003$\n",
    "\n",
    "# a) What fraction of shafts will be rejected?\n",
    "\n",
    "# b) What value of $\\sigma$ will reduce the number of rejected shafts to 1%?"
   ]
  },
  {
   "cell_type": "markdown",
   "metadata": {},
   "source": [
    "____\n",
    "\n",
    "# a)\n",
    "\n",
    "### $P(X<1-0.003) = P(Z<-1.5) = 0.0668$; $P(X>1+0.003) = P(Z>1.5) = 1-P(Z<1.5) = 0.0668$\n",
    "\n",
    "# Therefore $0.0668+0.0668 = 0.1336$ of the shafts will be rejected"
   ]
  },
  {
   "cell_type": "markdown",
   "metadata": {},
   "source": [
    "___\n",
    "\n",
    "# b)\n",
    "\n",
    "# We want to solve for the z-score such that $P(Z<z) = \\frac{0.01}{2}$\n",
    "\n",
    "### This corresponds to $z = -2.57583 \\implies -2.57583 = \\frac{0.003}{\\sigma} \\implies \\sigma = 0.001165$ "
   ]
  }
 ],
 "metadata": {
  "kernelspec": {
   "display_name": "Python 2",
   "language": "python",
   "name": "python2"
  },
  "language_info": {
   "codemirror_mode": {
    "name": "ipython",
    "version": 2
   },
   "file_extension": ".py",
   "mimetype": "text/x-python",
   "name": "python",
   "nbconvert_exporter": "python",
   "pygments_lexer": "ipython2",
   "version": "2.7.11"
  }
 },
 "nbformat": 4,
 "nbformat_minor": 0
}
