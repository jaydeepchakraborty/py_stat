{
 "cells": [
  {
   "cell_type": "markdown",
   "metadata": {},
   "source": [
    "# Let $X$ be a random variable with density function:\n",
    "\n",
    "# $f_{X}(x) = \\left\\{\\begin{matrix} cx(1-x) & 0<x<1\\\\ 0 & otherwise\\end{matrix}\\right.$\n",
    "\n",
    "## a) What is the value of $c$?\n",
    "\n",
    "## b) What is the cdf $F_{X}(x)$ for $X$?\n",
    "\n",
    "## c) What is the probability that $X<\\frac{1}{4}$?"
   ]
  },
  {
   "cell_type": "markdown",
   "metadata": {},
   "source": [
    "____\n",
    "\n",
    "# a)\n",
    "\n",
    "# We know that for $f_{X}(x)$ to be a valid pdf, then $\\int^{1}_{0}f_{X}(x)dx = 1$\n",
    "\n",
    "## $\\int^{1}_{0}f_{X}(x)dx = \\int^{1}_{0}cx(1-x)dx \\int^{1}_{0}cxdx - \\int^{1}_{0}cx^{2}dx = \\frac{c}{2}x^{2} - \\frac{c}{3}x^{3} |^{1}_{0} = \\tfrac{c}{2} - \\tfrac{c}{3} = \\frac{c}{6}$\n",
    "\n",
    "## Therefore $\\frac{c}{6} = 1 \\implies c=6$"
   ]
  },
  {
   "cell_type": "markdown",
   "metadata": {},
   "source": [
    "___\n",
    "\n",
    "# b) \n",
    "\n",
    "# $F_{X}(x) = \\int^{x}_{0}f_{X}(x)dx = 3x^{2} - 2x^{3}$"
   ]
  },
  {
   "cell_type": "markdown",
   "metadata": {},
   "source": [
    "___\n",
    "\n",
    "# c)\n",
    "\n",
    "# $P(X<\\frac{1}{4}) = F_{X}(\\frac{1}{4}) = 3(\\frac{1}{4})^{2}-2(\\frac{1}{4})^{3} = \\frac{3}{16} - \\frac{2}{48} = \\frac{5}{32}$"
   ]
  }
 ],
 "metadata": {
  "kernelspec": {
   "display_name": "Python 3",
   "language": "python",
   "name": "python3"
  },
  "language_info": {
   "codemirror_mode": {
    "name": "ipython",
    "version": 3
   },
   "file_extension": ".py",
   "mimetype": "text/x-python",
   "name": "python",
   "nbconvert_exporter": "python",
   "pygments_lexer": "ipython3",
   "version": "3.6.4"
  }
 },
 "nbformat": 4,
 "nbformat_minor": 2
}
