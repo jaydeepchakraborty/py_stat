{
 "cells": [
  {
   "cell_type": "markdown",
   "metadata": {},
   "source": [
    "# Explain how you can generate a random variable whose cdf is\n",
    "\n",
    "# $F(x) = \\left\\{\\begin{matrix}0 & \\text{if }x<0\\\\ x^{2} &\\text{if }0\\leq x \\leq 1 \\\\ 0 & \\text{if }x>1\\end{matrix}\\right.$"
   ]
  },
  {
   "cell_type": "markdown",
   "metadata": {},
   "source": [
    "___\n",
    "\n",
    "## Recall: Corollary 5.2\n",
    "\n",
    "### If $F(y)$ is a given cdf that is strictly increasing over $[0,1]$ and if $U$ is a random variable with uniform distribution on $[0,1]$ then\n",
    "\n",
    "## $Y=F^{-1}(U)$\n",
    "\n",
    "### has the cumulative distribution $F(y)$\n",
    "\n",
    "### *Thus, to simulate a random variable with a given cumulative distribution $F$ we need only set $Y=F^{-1}(rnd)$*"
   ]
  },
  {
   "cell_type": "markdown",
   "metadata": {},
   "source": [
    "___\n",
    "\n",
    "## For this problem, $F^{-1}(x) = \\sqrt{x} \\implies \\sqrt{rnd}$ simulates the random variable"
   ]
  }
 ],
 "metadata": {
  "kernelspec": {
   "display_name": "Python 2",
   "language": "python",
   "name": "python2"
  },
  "language_info": {
   "codemirror_mode": {
    "name": "ipython",
    "version": 2
   },
   "file_extension": ".py",
   "mimetype": "text/x-python",
   "name": "python",
   "nbconvert_exporter": "python",
   "pygments_lexer": "ipython2",
   "version": "2.7.11"
  }
 },
 "nbformat": 4,
 "nbformat_minor": 0
}
