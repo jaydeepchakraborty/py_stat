{
 "cells": [
  {
   "cell_type": "markdown",
   "metadata": {},
   "source": [
    "# Suppose that the time (in hours) required to repair a car is exponentially distributed with $\\lambda = \\frac{1}{2}$\n",
    "\n",
    "# a) What is the probability that the repair time exceeds 4 hours?\n",
    "\n",
    "# b) If the repair time exceeds 4 hours, what is the probability that it exceeds 8 hours?"
   ]
  },
  {
   "cell_type": "markdown",
   "metadata": {},
   "source": [
    "___\n",
    "\n",
    "# a)\n",
    "\n",
    "# $P(X>4) = 1 - P(X<4) = 1 - (1 - e^{-4\\cdot\\frac{1}{2}}) = e^{-2} = 0.13534$"
   ]
  },
  {
   "cell_type": "markdown",
   "metadata": {},
   "source": [
    "___\n",
    "\n",
    "# b)\n",
    "\n",
    "### We know that the exponential distribution is memoryless, but we can demonstrate it\n",
    "\n",
    "$ P(X>8|X>4) = \\frac{P(X>8 \\cap X>4)}{P(X>4)} = \\frac{P(X>8)}{P(X>4)} = \\frac{e^{-4}}{e^{-2}} = e^{-2} = P(X>8-4) = P(X>4)$"
   ]
  }
 ],
 "metadata": {
  "kernelspec": {
   "display_name": "Python 3",
   "language": "python",
   "name": "python3"
  },
  "language_info": {
   "codemirror_mode": {
    "name": "ipython",
    "version": 3
   },
   "file_extension": ".py",
   "mimetype": "text/x-python",
   "name": "python",
   "nbconvert_exporter": "python",
   "pygments_lexer": "ipython3",
   "version": "3.6.4"
  }
 },
 "nbformat": 4,
 "nbformat_minor": 2
}
