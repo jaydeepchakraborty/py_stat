{
 "cells": [
  {
   "cell_type": "markdown",
   "metadata": {},
   "source": [
    "# A multiple choice exam is given\n",
    "\n",
    "# A problem has 4 possible answers, and exactly one is correct\n",
    "\n",
    "# The student is allowed to choose a subset of the four possible answers as his answer\n",
    "\n",
    "# If his chosen subset contains the correct answer, the student receives three points\n",
    "\n",
    "# But he loses one point for each wrong answer in his chosen subset\n",
    "\n",
    "# Show that if he just guesses a subset uniformly and randomly his expected score is zero"
   ]
  },
  {
   "cell_type": "markdown",
   "metadata": {},
   "source": [
    "______\n",
    "\n",
    "# We only need to consider the first question, then we can generalize our findings for a whole exam\n",
    "\n",
    "# First, he chooses how many answers to include in his subset\n",
    "\n",
    "# The probability that the subset contains 1, 2, 3, or 4 answers is each $\\frac{1}{4}$\n",
    "\n",
    "____\n",
    "\n",
    "## Case 1: 1 answer in subset\n",
    "\n",
    "- We have a probability of $\\frac{1}{4}$ of getting it right, and so our expected score is $3\\cdot\\frac{1}{4} + (-1)\\frac{3}{3} = 0$\n",
    "\n",
    "____\n",
    "\n",
    "## Case 2: 2 answers in subset\n",
    "\n",
    "- There are two possibilities here:\n",
    "\n",
    "1. Our two picks are **both wrong**\n",
    "    - This has probability $\\frac{\\binom{3}{2}}{\\binom{4}{2}} = \\frac{1}{2}$\n",
    "    - The score for this scenario is -2\n",
    "    \n",
    "2. One of our picks **is correct**\n",
    "    - This has probability $1 - \\frac{3}{4}\\frac{2}{3} = \\frac{1}{2}$\n",
    "        - We could have also just subtracted the probability above from 1\n",
    "        - The score for this scenario is +2\n",
    "\n",
    "- So for this case, our expected score is $-2\\frac{1}{2} + 2\\frac{1}{2} = 0$\n",
    "\n",
    "___\n",
    "\n",
    "## Case 3: 3 answers in subset\n",
    "\n",
    "- There are two possibilities here:\n",
    "\n",
    "1. **All three picks are wrong**\n",
    "    - This has probability $\\frac{3}{4}\\frac{2}{3}\\frac{1}{2} = \\frac{1}{4}$\n",
    "    - The score for this scenario is -3\n",
    "    \n",
    "2. One of our picks is correct\n",
    "    - This has probability $1-\\frac{1}{4} = \\frac{3}{4}$\n",
    "    - The score for this scenario is (-2)+3 = 1\n",
    "    \n",
    "- So for this case, our expected score is $-3\\frac{1}{4} + 1\\frac{3}{4} = 0$\n",
    "\n",
    "____\n",
    "\n",
    "# Case 4: 4 answers in subset\n",
    "\n",
    "- We know that our subset contains the correct answer\n",
    "\n",
    "- Our expected score is $3\\cdot(-1) + 1(3) = 0$"
   ]
  },
  {
   "cell_type": "markdown",
   "metadata": {},
   "source": [
    "# The expected score in all these cases is 0 $\\rightarrow$ our expected score is 0"
   ]
  }
 ],
 "metadata": {
  "kernelspec": {
   "display_name": "Python 2",
   "language": "python",
   "name": "python2"
  },
  "language_info": {
   "codemirror_mode": {
    "name": "ipython",
    "version": 2
   },
   "file_extension": ".py",
   "mimetype": "text/x-python",
   "name": "python",
   "nbconvert_exporter": "python",
   "pygments_lexer": "ipython2",
   "version": "2.7.11"
  }
 },
 "nbformat": 4,
 "nbformat_minor": 0
}
