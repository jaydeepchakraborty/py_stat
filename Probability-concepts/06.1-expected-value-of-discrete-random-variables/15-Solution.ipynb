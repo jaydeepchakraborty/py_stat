{
 "cells": [
  {
   "cell_type": "markdown",
   "metadata": {},
   "source": [
    "# A box contains two gold balls and three silver balls\n",
    "\n",
    "# You are allowed to choose successively balls from the box at random\n",
    "\n",
    "# You win 1 dollar each time you draw a gold ball\n",
    "\n",
    "# You lose 1 dollar each time you draw a silver ball\n",
    "\n",
    "# After a draw, the ball is not replaced\n",
    "\n",
    "# Show that if you draw until you are ahead by 1 dollar or until there are no more gold balls, this is a winning stategy"
   ]
  },
  {
   "cell_type": "markdown",
   "metadata": {},
   "source": [
    "____\n",
    "\n",
    "# There are 6 distinct orders\n",
    "\n",
    "1. GGSS\n",
    "2. GSGS\n",
    "3. GSSG\n",
    "4. SGGS\n",
    "5. SGSG\n",
    "6. SSGG"
   ]
  },
  {
   "cell_type": "markdown",
   "metadata": {},
   "source": [
    "____\n",
    "\n",
    "### 1. GGSS\n",
    "\n",
    "- In this case, you win 1 dollar on the first ball and stop $\\rightarrow$ Winnings = 1"
   ]
  },
  {
   "cell_type": "markdown",
   "metadata": {},
   "source": [
    "____\n",
    "\n",
    "### 2. GSGS\n",
    "\n",
    "- In this case, you win 1 dollar on the first ball and stop $\\rightarrow$ Winnings = 1"
   ]
  },
  {
   "cell_type": "markdown",
   "metadata": {},
   "source": [
    "____\n",
    "\n",
    "### 3. GSSG\n",
    "\n",
    "- In this case, you win 1 dollar on the first ball and stop $\\rightarrow$ Winnings = 1"
   ]
  },
  {
   "cell_type": "markdown",
   "metadata": {},
   "source": [
    "____\n",
    "\n",
    "### 4. SGGS\n",
    "\n",
    "- In this case, you lose 1 dollar on the first ball $\\rightarrow$ Winnings = -1\n",
    "    - You win 1 dollar back on the second $\\rightarrow$ Winnings = 0\n",
    "        - You win 1 dollar on the third and stop  $\\rightarrow$ Winnings = 1"
   ]
  },
  {
   "cell_type": "markdown",
   "metadata": {},
   "source": [
    "____\n",
    "\n",
    "### 5. SGSG\n",
    "\n",
    "- In this case, you lose 1 dollar on the first ball $\\rightarrow$ Winnings = -1\n",
    "    - You win 1 dollar back on the second $\\rightarrow$ Winnings = 0\n",
    "        - You lose 1 dollar again on the third $\\rightarrow$ Winnings = -1\n",
    "            - You win 1 dollar on the final $\\rightarrow$ Winnings = 0"
   ]
  },
  {
   "cell_type": "markdown",
   "metadata": {},
   "source": [
    "____\n",
    "\n",
    "### 6. SSGG\n",
    "\n",
    "- In this case, you lose 1 dollar on the first ball $\\rightarrow$ Winnings = -1\n",
    "    - You lose 1 dollar on the second $\\rightarrow$ Winnings = -2\n",
    "        - You win 1 dollar back on the third $\\rightarrow$ Winnings = -1\n",
    "            - You win 1 dollar back on the final $\\rightarrow$ Winnings = 0"
   ]
  },
  {
   "cell_type": "markdown",
   "metadata": {},
   "source": [
    "____\n",
    "\n",
    "# In summary, you win 1 dollar in 4/6 of the games, and break even on the remaining 2/6\n",
    "\n",
    "# Therefore $(\\text{Expected Winnings}) = (1)\\frac{4}{6} + (0)\\frac{2}{6} = \\frac{2}{3}$"
   ]
  }
 ],
 "metadata": {
  "kernelspec": {
   "display_name": "Python 2",
   "language": "python",
   "name": "python2"
  },
  "language_info": {
   "codemirror_mode": {
    "name": "ipython",
    "version": 2
   },
   "file_extension": ".py",
   "mimetype": "text/x-python",
   "name": "python",
   "nbconvert_exporter": "python",
   "pygments_lexer": "ipython2",
   "version": "2.7.11"
  }
 },
 "nbformat": 4,
 "nbformat_minor": 0
}
