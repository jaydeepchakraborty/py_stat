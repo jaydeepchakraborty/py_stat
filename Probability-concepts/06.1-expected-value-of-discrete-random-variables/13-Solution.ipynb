{
 "cells": [
  {
   "cell_type": "markdown",
   "metadata": {},
   "source": [
    "# You have 80 dollars and play the following game: an urn contains two white balls and two black balls\n",
    "\n",
    "# You draw the balls out one at a time without replacement until all the balls are gone\n",
    "\n",
    "# On each draw, you bet half of your present fortune that you will draw a white ball\n",
    "\n",
    "# What is your expected final fortune?"
   ]
  },
  {
   "cell_type": "markdown",
   "metadata": {},
   "source": [
    "____\n",
    "\n",
    "# There are 6 possible orders (all equally likely)\n",
    "\n",
    "1. WWBB\n",
    "2. WBWB\n",
    "3. WBBW\n",
    "4. BWWB\n",
    "5. BWBW\n",
    "6. BBWW"
   ]
  },
  {
   "cell_type": "markdown",
   "metadata": {},
   "source": [
    "_____\n",
    "\n",
    "## 1. WWBB\n",
    "\n",
    "**First ball**: Bet 40, win 40 $\\rightarrow$ Total = 120\n",
    "\n",
    "**Second ball**: Bet 60, win 60 $\\rightarrow$ Total = 180\n",
    "\n",
    "**Third ball**: Bet 90, lose 90 $\\rightarrow$ Total = 90\n",
    "\n",
    "**Fourth ball**: Bet 45, lose 45 $\\rightarrow$ Total = 45"
   ]
  },
  {
   "cell_type": "markdown",
   "metadata": {},
   "source": [
    "_____\n",
    "\n",
    "## 2. WBWB\n",
    "\n",
    "**First ball**: Bet 40, win 40 $\\rightarrow$ Total = 120\n",
    "\n",
    "**Second ball**: Bet 60, lose 60 $\\rightarrow$ Total = 60\n",
    "\n",
    "**Third ball**: Bet 30, win 30 $\\rightarrow$ Total = 90\n",
    "\n",
    "**Fourth ball**: Bet 45, lose 45 $\\rightarrow$ Total = 45"
   ]
  },
  {
   "cell_type": "markdown",
   "metadata": {},
   "source": [
    "_____\n",
    "\n",
    "## 3. WBBW\n",
    "\n",
    "**First ball**: Bet 40, win 40 $\\rightarrow$ Total = 120\n",
    "\n",
    "**Second ball**: Bet 60, lose 60 $\\rightarrow$ Total = 60\n",
    "\n",
    "**Third ball**: Bet 30, lose 30 $\\rightarrow$ Total = 30\n",
    "\n",
    "**Fourth ball**: Bet 15, win 15 $\\rightarrow$ Total = 45"
   ]
  },
  {
   "cell_type": "markdown",
   "metadata": {},
   "source": [
    "_____\n",
    "\n",
    "## 4. BWWB\n",
    "\n",
    "**First ball**: Bet 40, lose 40 $\\rightarrow$ Total = 40\n",
    "\n",
    "**Second ball**: Bet 20, win 20 $\\rightarrow$ Total = 60\n",
    "\n",
    "**Third ball**: Bet 30, win 30 $\\rightarrow$ Total = 90\n",
    "\n",
    "**Fourth ball**: Bet 45, lose 45 $\\rightarrow$ Total = 45"
   ]
  },
  {
   "cell_type": "markdown",
   "metadata": {},
   "source": [
    "_____\n",
    "\n",
    "## 5. BWBW\n",
    "\n",
    "**First ball**: Bet 40, lose 40 $\\rightarrow$ Total = 40\n",
    "\n",
    "**Second ball**: Bet 20, win 20 $\\rightarrow$ Total = 60\n",
    "\n",
    "**Third ball**: Bet 30, lose 30 $\\rightarrow$ Total = 30\n",
    "\n",
    "**Fourth ball**: Bet 15, win 15 $\\rightarrow$ Total = 45"
   ]
  },
  {
   "cell_type": "markdown",
   "metadata": {},
   "source": [
    "_____\n",
    "\n",
    "## 6. BBWW\n",
    "\n",
    "**First ball**: Bet 40, lose 40 $\\rightarrow$ Total = 40\n",
    "\n",
    "**Second ball**: Bet 20, lose 20 $\\rightarrow$ Total = 20\n",
    "\n",
    "**Third ball**: Bet 10, win 10 $\\rightarrow$ Total = 30\n",
    "\n",
    "**Fourth ball**: Bet 15, win 15 $\\rightarrow$ Total = 45"
   ]
  },
  {
   "cell_type": "markdown",
   "metadata": {},
   "source": [
    "___\n",
    "\n",
    "# In all possible combinations, we end up with 45\n",
    "\n",
    "# Therefore, our expected final fortune is 45\n",
    "\n",
    "### This makes sense since multiplication is commutative so $80\\cdot\\frac{3}{2}\\frac{3}{2}\\frac{1}{2}\\frac{1}{2} = 80\\cdot\\frac{9}{16} = 45$"
   ]
  },
  {
   "cell_type": "markdown",
   "metadata": {},
   "source": [
    "### We can show this by simulation too (although every result will be 45)"
   ]
  },
  {
   "cell_type": "code",
   "execution_count": 3,
   "metadata": {
    "collapsed": true
   },
   "outputs": [],
   "source": [
    "import numpy as np"
   ]
  },
  {
   "cell_type": "code",
   "execution_count": 7,
   "metadata": {
    "collapsed": true
   },
   "outputs": [],
   "source": [
    "def game():\n",
    "    total = 80\n",
    "    balls = ['B','B','W','W']\n",
    "    \n",
    "    combination = np.random.choice(['B','B','W','W'], size = 4, replace = False)\n",
    "    \n",
    "    for i in range(4):\n",
    "        ball = combination[i]\n",
    "        if ball == 'W':\n",
    "            total = total*1.5\n",
    "        else:\n",
    "            total = total*0.5\n",
    "    \n",
    "    return total"
   ]
  },
  {
   "cell_type": "code",
   "execution_count": 8,
   "metadata": {
    "collapsed": false
   },
   "outputs": [
    {
     "name": "stdout",
     "output_type": "stream",
     "text": [
      "45.0\n",
      "45.0\n",
      "45.0\n",
      "45.0\n",
      "45.0\n",
      "45.0\n",
      "45.0\n",
      "45.0\n",
      "45.0\n",
      "45.0\n"
     ]
    }
   ],
   "source": [
    "for i in range(10):\n",
    "    print(game())"
   ]
  }
 ],
 "metadata": {
  "kernelspec": {
   "display_name": "Python 2",
   "language": "python",
   "name": "python2"
  },
  "language_info": {
   "codemirror_mode": {
    "name": "ipython",
    "version": 2
   },
   "file_extension": ".py",
   "mimetype": "text/x-python",
   "name": "python",
   "nbconvert_exporter": "python",
   "pygments_lexer": "ipython2",
   "version": "2.7.11"
  }
 },
 "nbformat": 4,
 "nbformat_minor": 0
}
