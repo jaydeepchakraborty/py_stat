{
 "cells": [
  {
   "cell_type": "markdown",
   "metadata": {},
   "source": [
    "# A card is drawn at random from a deck of playing cards\n",
    "\n",
    "# If it is black, the player loses 2 dollars\n",
    "\n",
    "# If it is red, the player wins 1 dollar\n",
    "\n",
    "# Find the expected value for the game"
   ]
  },
  {
   "cell_type": "markdown",
   "metadata": {},
   "source": [
    "_____\n",
    "\n",
    "# Let $X$ be the payoff\n",
    "\n",
    "# $m(-2) = \\frac{1}{2}$ ; $m(1) = \\frac{1}{2}$\n",
    "\n",
    "# Then $E(X) = \\frac{1}{2}\\cdot-2 + \\frac{1}{2}\\cdot 1 = -\\frac{1}{2}$"
   ]
  }
 ],
 "metadata": {
  "kernelspec": {
   "display_name": "Python 2",
   "language": "python",
   "name": "python2"
  },
  "language_info": {
   "codemirror_mode": {
    "name": "ipython",
    "version": 2
   },
   "file_extension": ".py",
   "mimetype": "text/x-python",
   "name": "python",
   "nbconvert_exporter": "python",
   "pygments_lexer": "ipython2",
   "version": "2.7.11"
  }
 },
 "nbformat": 4,
 "nbformat_minor": 0
}
