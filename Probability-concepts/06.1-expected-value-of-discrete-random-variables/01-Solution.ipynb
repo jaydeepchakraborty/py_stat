{
 "cells": [
  {
   "cell_type": "markdown",
   "metadata": {},
   "source": [
    "# A card is drawn at random from a deck consisting of cards numbered 2-10\n",
    "\n",
    "# A player wins 1 dollar if the number of the card is odd, and loses one dollar if the number is even\n",
    "\n",
    "# What is the expected value of his winnings?"
   ]
  },
  {
   "cell_type": "markdown",
   "metadata": {},
   "source": [
    "_____\n",
    "\n",
    "# Let $X$ be the random variable representing the winnings\n",
    "\n",
    "## Then $m(x)$ is defined by: $m(-1) = \\frac{4}{9}$ and $m(1) = \\frac{5}{9}$\n",
    "\n",
    "### We know that $E(X) = \\sum_{x \\in \\Omega}xm(x) \\implies E(X) = (-1)(\\frac{4}{9}) + (1)(\\frac{5}{9}) = \\frac{-4}{9} + \\frac{5}{9} = -\\frac{1}{9}$"
   ]
  }
 ],
 "metadata": {
  "kernelspec": {
   "display_name": "Python 2",
   "language": "python",
   "name": "python2"
  },
  "language_info": {
   "codemirror_mode": {
    "name": "ipython",
    "version": 2
   },
   "file_extension": ".py",
   "mimetype": "text/x-python",
   "name": "python",
   "nbconvert_exporter": "python",
   "pygments_lexer": "ipython2",
   "version": "2.7.11"
  }
 },
 "nbformat": 4,
 "nbformat_minor": 0
}
