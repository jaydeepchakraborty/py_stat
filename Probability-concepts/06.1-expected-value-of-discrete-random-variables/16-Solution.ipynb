{
 "cells": [
  {
   "cell_type": "markdown",
   "metadata": {},
   "source": [
    "# Gerolamo Cardano in his book *The Gambling Scholar* considers the following game: \n",
    "\n",
    "# There are 6 dice\n",
    "\n",
    "# Each of the dice has 5 blank sides\n",
    "\n",
    "# The sixth side has a number between 1-6 (each die has a different number)\n",
    "\n",
    "# The six dice are rolled and the player wins a prize depending on the total of the numbers\n",
    "\n",
    "## a) Find the expected total\n",
    "\n",
    "## b) Large prizes are given for large totals with a modest fee to play the game. Explain why this is is possible"
   ]
  },
  {
   "cell_type": "markdown",
   "metadata": {},
   "source": [
    "____\n",
    "\n",
    "# a)\n",
    "\n",
    "# Let $X_{i}$ be a random variable representing the score on die $i$ for $i$ in $[1,2,...,6]$\n",
    "\n",
    "# Then, the expected total is equal to $E(X_{1}+X_{2}+...+X_{6})$\n",
    "\n",
    "## Recall: $E(X+Y) = E(X) + (EY)$\n",
    "\n",
    "# This means $E(X_{1}+X_{2}+...+X_{6}) = E(X_{1})+E(X_{2})+...+E(X_{6})$\n",
    "\n",
    "# $E(X_{1}) = (1)\\frac{1}{6}$, $E(X_{2}) = (2)\\frac{1}{6}$, ...\n",
    "\n",
    "# Therefore $E(X_{1}+X_{2}+...+X_{6}) = \\frac{1}{6}(1+2+...+6) = \\frac{21}{6} = 3.5$"
   ]
  },
  {
   "cell_type": "markdown",
   "metadata": {},
   "source": [
    "___\n",
    "\n",
    "# b)\n",
    "\n",
    "# The probability of getting a score of at least 15 is $\\frac{1}{6^{3}} = \\frac{1}{216}$\n",
    "\n",
    "### So by charging a fee of at least 3.5 to play, the game could afford to pay the total of the roll"
   ]
  }
 ],
 "metadata": {
  "kernelspec": {
   "display_name": "Python 2",
   "language": "python",
   "name": "python2"
  },
  "language_info": {
   "codemirror_mode": {
    "name": "ipython",
    "version": 2
   },
   "file_extension": ".py",
   "mimetype": "text/x-python",
   "name": "python",
   "nbconvert_exporter": "python",
   "pygments_lexer": "ipython2",
   "version": "2.7.11"
  }
 },
 "nbformat": 4,
 "nbformat_minor": 0
}
