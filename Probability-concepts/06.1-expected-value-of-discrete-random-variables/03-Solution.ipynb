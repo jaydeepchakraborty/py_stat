{
 "cells": [
  {
   "cell_type": "markdown",
   "metadata": {},
   "source": [
    "# In a class there are 20 students\n",
    "\n",
    "# 3 of the students are 5' 6\"\n",
    "\n",
    "# 5 are 5' 8\"\n",
    "\n",
    "# 4 are 5' 10\"\n",
    "\n",
    "# 4 are 6'\n",
    "\n",
    "# 4 are 6' 2\"\n",
    "\n",
    "# What is a randomly selected student's expected height?"
   ]
  },
  {
   "cell_type": "markdown",
   "metadata": {},
   "source": [
    "____\n",
    "\n",
    "## First, we convert these to cm\n",
    "\n",
    "1. 5' 6\" $\\rightarrow 167.64 cm$\n",
    "2. 5' 8\" $\\rightarrow 172.72 cm$\n",
    "3. 5' 10\" $\\rightarrow 177.8 cm$\n",
    "4. 6' $\\rightarrow 182.88 cm$\n",
    "5. 6' 2\" $\\rightarrow 187.96 cm$"
   ]
  },
  {
   "cell_type": "markdown",
   "metadata": {},
   "source": [
    "## Now, if we let $X$ represent the height of a randomly selected student:\n",
    "\n",
    "1. $m(167.64) = \\frac{3}{20}$\n",
    "2. $m(172.72) = \\frac{5}{20}$\n",
    "3. $m(177.8) = \\frac{4}{20}$\n",
    "4. $m(182.88) = \\frac{4}{20}$\n",
    "5. $m(187.96) = \\frac{4}{20}$"
   ]
  },
  {
   "cell_type": "markdown",
   "metadata": {},
   "source": [
    "# Then\n",
    "\n",
    "### $E(X) = 167.64\\cdot \\frac{3}{20} + 172.72\\cdot\\frac{5}{20} + 177.8\\cdot\\frac{4}{20}+182.88\\cdot\\frac{4}{20}+187.96\\cdot\\frac{4}{20} = 178.054$"
   ]
  },
  {
   "cell_type": "markdown",
   "metadata": {},
   "source": [
    "# $178.1 cm \\rightarrow 5.8432 ft \\approx$ 5' 10\""
   ]
  }
 ],
 "metadata": {
  "kernelspec": {
   "display_name": "Python 2",
   "language": "python",
   "name": "python2"
  },
  "language_info": {
   "codemirror_mode": {
    "name": "ipython",
    "version": 2
   },
   "file_extension": ".py",
   "mimetype": "text/x-python",
   "name": "python",
   "nbconvert_exporter": "python",
   "pygments_lexer": "ipython2",
   "version": "2.7.11"
  }
 },
 "nbformat": 4,
 "nbformat_minor": 0
}
