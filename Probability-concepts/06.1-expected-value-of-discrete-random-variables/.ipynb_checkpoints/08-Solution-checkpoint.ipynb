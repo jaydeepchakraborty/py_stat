{
 "cells": [
  {
   "cell_type": "markdown",
   "metadata": {},
   "source": [
    "# A royal family has children until it has a boy or until it has three children (whichever comes first)\n",
    "\n",
    "# Assume that the probability of having a boy/girl is $\\frac{1}{2}$\n",
    "\n",
    "# Find:\n",
    "\n",
    "## i) the expected number of boys in the family, and \n",
    "\n",
    "## ii) the expected number of girls"
   ]
  },
  {
   "cell_type": "markdown",
   "metadata": {},
   "source": [
    "_____\n",
    "\n",
    "# There are 4 possible configurations of the children:\n",
    "\n",
    "## 1. $[B] \\rightarrow P([B]) = \\frac{1}{2}$\n",
    "\n",
    "## 2. $[G, B] \\rightarrow P([G, B]) = \\frac{1}{4}$\n",
    "\n",
    "## 3. $[G, G, B] \\rightarrow P([G, G, B]) = \\frac{1}{8}$\n",
    "\n",
    "## 4. $[G, G, G] \\rightarrow P([G, G, G]) = \\frac{1}{8}$"
   ]
  },
  {
   "cell_type": "markdown",
   "metadata": {},
   "source": [
    "___\n",
    "\n",
    "# i)\n",
    "\n",
    "## Therefore, the expected number of boys is equal to $(1)\\frac{1}{2} + (1)\\frac{1}{4} + (1)\\frac{1}{8}  + (0)\\frac{1}{8} = \\frac{7}{8}$"
   ]
  },
  {
   "cell_type": "markdown",
   "metadata": {},
   "source": [
    "___\n",
    "\n",
    "# ii)\n",
    "\n",
    "## The expected number of girls is equal to $(0)\\frac{1}{2} + (1)\\frac{1}{4} + (2)\\frac{1}{8} + (3)\\frac{1}{8} = \\frac{7}{8}$"
   ]
  }
 ],
 "metadata": {
  "kernelspec": {
   "display_name": "Python 2",
   "language": "python",
   "name": "python2"
  },
  "language_info": {
   "codemirror_mode": {
    "name": "ipython",
    "version": 2
   },
   "file_extension": ".py",
   "mimetype": "text/x-python",
   "name": "python",
   "nbconvert_exporter": "python",
   "pygments_lexer": "ipython2",
   "version": "2.7.11"
  }
 },
 "nbformat": 4,
 "nbformat_minor": 0
}
