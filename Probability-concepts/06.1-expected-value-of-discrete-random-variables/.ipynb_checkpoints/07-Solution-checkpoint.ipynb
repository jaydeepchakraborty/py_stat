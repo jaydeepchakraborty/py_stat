{
 "cells": [
  {
   "cell_type": "markdown",
   "metadata": {},
   "source": [
    "# Show that if $X$ and $Y$ are random variables taking on only two values each, and if $E(XY) = E(X)E(Y)$ then $X$ and $Y$ are independent"
   ]
  },
  {
   "cell_type": "markdown",
   "metadata": {},
   "source": [
    "____\n",
    "\n",
    "## First, we know that $X$ and $Y$ each only take on two values, therefore:\n",
    "\n",
    "\n",
    "# $m(x) = \\left\\{\\begin{matrix}p_{1} & \\text{; if }x = a\\\\ (1-p_{1}) & \\text{; if }x=b\\end{matrix}\\right.$\n",
    "\n",
    "# $m(y) = \\left\\{\\begin{matrix}p_{2} & \\text{; if }y = c\\\\ (1-p_{2}) & \\text{; if }y=d\\end{matrix}\\right.$"
   ]
  },
  {
   "cell_type": "markdown",
   "metadata": {},
   "source": [
    "## From this, we know:\n",
    "\n",
    "# $E(X) = ap_{1} + b(1-p_{1})$\n",
    "\n",
    "# $E(Y) = cp_{2} + d(1-p_{2})$\n",
    "\n",
    "\n",
    "## Combining these, we get:\n",
    "\n",
    "# $E(X)E(Y) = \\left ( ap_{1} + b(1-p_{1})\\right ) \\left ( cp_{2} + d(1-p_{2})\\right )$"
   ]
  },
  {
   "cell_type": "markdown",
   "metadata": {},
   "source": [
    "- Will finish this one later"
   ]
  }
 ],
 "metadata": {
  "kernelspec": {
   "display_name": "Python 2",
   "language": "python",
   "name": "python2"
  },
  "language_info": {
   "codemirror_mode": {
    "name": "ipython",
    "version": 2
   },
   "file_extension": ".py",
   "mimetype": "text/x-python",
   "name": "python",
   "nbconvert_exporter": "python",
   "pygments_lexer": "ipython2",
   "version": "2.7.11"
  }
 },
 "nbformat": 4,
 "nbformat_minor": 0
}
