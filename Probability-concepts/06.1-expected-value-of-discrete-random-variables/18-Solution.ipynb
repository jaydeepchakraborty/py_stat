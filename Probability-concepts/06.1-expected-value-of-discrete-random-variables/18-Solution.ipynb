{
 "cells": [
  {
   "cell_type": "markdown",
   "metadata": {},
   "source": [
    "# Exactly one of six similar keys opens a certain door\n",
    "\n",
    "# If you try the keys, one after another, what is the expected number of keys you'll need to try until success?"
   ]
  },
  {
   "cell_type": "markdown",
   "metadata": {},
   "source": [
    "_____\n",
    "\n",
    "# $P(X=1) = \\frac{1}{6}$\n",
    "\n",
    "# $P(X=2) = \\frac{5}{6}\\frac{1}{5} = \\frac{1}{6}$\n",
    "\n",
    "# $P(X=3) = \\frac{5}{6}\\frac{4}{5}\\frac{1}{4} = \\frac{1}{6}$\n",
    "\n",
    "# $P(X=4) = \\frac{5}{6}\\frac{4}{5}\\frac{3}{4}\\frac{1}{3} = \\frac{1}{6}$\n",
    "\n",
    "# $P(X=5) = \\frac{5}{6}\\frac{4}{5}\\frac{3}{4}\\frac{2}{3}\\frac{1}{2} = \\frac{1}{6}$\n",
    "\n",
    "# $P(X=6) = \\frac{5}{6}\\frac{4}{5}\\frac{3}{4}\\frac{2}{3}\\frac{1}{2}\\frac{1}{1} = \\frac{1}{6}$\n",
    "\n",
    "# Then $E(X) = \\frac{1}{6}(1+2+3+4+5+6) = 3.5$"
   ]
  },
  {
   "cell_type": "markdown",
   "metadata": {},
   "source": [
    "### We can show this by simulation too"
   ]
  },
  {
   "cell_type": "code",
   "execution_count": 1,
   "metadata": {
    "collapsed": true
   },
   "outputs": [],
   "source": [
    "import numpy as np"
   ]
  },
  {
   "cell_type": "code",
   "execution_count": 22,
   "metadata": {
    "collapsed": true
   },
   "outputs": [],
   "source": [
    "def sim():\n",
    "    key_index = np.random.randint(1,7)\n",
    "    ordering = np.random.choice(range(1,7), size = 6, replace = False)\n",
    "    return list(ordering).index(key_index)+1"
   ]
  },
  {
   "cell_type": "code",
   "execution_count": 5,
   "metadata": {
    "collapsed": false
   },
   "outputs": [
    {
     "data": {
      "text/plain": [
       "3.4843000000000002"
      ]
     },
     "execution_count": 5,
     "metadata": {},
     "output_type": "execute_result"
    }
   ],
   "source": [
    "results = []\n",
    "\n",
    "for i in range(10000):\n",
    "    results.append(sim())\n",
    "    \n",
    "np.mean(results)"
   ]
  },
  {
   "cell_type": "markdown",
   "metadata": {},
   "source": [
    "**Pretty close**"
   ]
  }
 ],
 "metadata": {
  "kernelspec": {
   "display_name": "Python 2",
   "language": "python",
   "name": "python2"
  },
  "language_info": {
   "codemirror_mode": {
    "name": "ipython",
    "version": 2
   },
   "file_extension": ".py",
   "mimetype": "text/x-python",
   "name": "python",
   "nbconvert_exporter": "python",
   "pygments_lexer": "ipython2",
   "version": "2.7.11"
  }
 },
 "nbformat": 4,
 "nbformat_minor": 0
}
