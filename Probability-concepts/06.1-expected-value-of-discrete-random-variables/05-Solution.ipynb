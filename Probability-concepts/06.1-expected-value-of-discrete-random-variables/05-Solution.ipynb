{
 "cells": [
  {
   "cell_type": "markdown",
   "metadata": {},
   "source": [
    "# In a second version of roulette, a player bets on black or red\n",
    "\n",
    "# If he bets right, he wins 1 dollar\n",
    "\n",
    "# If he bets wrong, he loses the dollar\n",
    "\n",
    "# Half of the numbers from 1-36 are black, the other half are red, and the 0 and 00 are neither\n",
    "\n",
    "# Find the expected value of the winnings"
   ]
  },
  {
   "cell_type": "markdown",
   "metadata": {},
   "source": [
    "______\n",
    "\n",
    "# Let $X$ be a random variable representing the winnings\n",
    "\n",
    "# Then $m(1) = \\frac{18}{38}$, $m(-1) = \\frac{20}{38} \\implies E(X) = \\frac{18}{38} - \\frac{20}{38} = -\\frac{1}{19}$"
   ]
  }
 ],
 "metadata": {
  "kernelspec": {
   "display_name": "Python 2",
   "language": "python",
   "name": "python2"
  },
  "language_info": {
   "codemirror_mode": {
    "name": "ipython",
    "version": 2
   },
   "file_extension": ".py",
   "mimetype": "text/x-python",
   "name": "python",
   "nbconvert_exporter": "python",
   "pygments_lexer": "ipython2",
   "version": "2.7.11"
  }
 },
 "nbformat": 4,
 "nbformat_minor": 0
}
