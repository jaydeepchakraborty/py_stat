{
 "cells": [
  {
   "cell_type": "markdown",
   "metadata": {},
   "source": [
    "# In Las Vegas the roulette wheel has a 0 and a 00, then numbers 1-36\n",
    "\n",
    "# When a player bets one dollar on a number, he receives 36 dollars if the ball stops on their numbers (net gain of 35), and loses the dollar if not\n",
    "\n",
    "# Find the expected winnings"
   ]
  },
  {
   "cell_type": "markdown",
   "metadata": {},
   "source": [
    "____\n",
    "\n",
    "# Let $X$ be a random variable representing the winnings on a single spin\n",
    "\n",
    "## This means $m(35) = \\frac{1}{38}$ and $m(-1) = \\frac{37}{38}$\n",
    "\n",
    "## Then $E(X) = 35\\cdot\\frac{1}{38} + (-1)\\cdot\\frac{37}{38} = -\\frac{2}{38} = -\\frac{1}{19}$"
   ]
  }
 ],
 "metadata": {
  "kernelspec": {
   "display_name": "Python 2",
   "language": "python",
   "name": "python2"
  },
  "language_info": {
   "codemirror_mode": {
    "name": "ipython",
    "version": 2
   },
   "file_extension": ".py",
   "mimetype": "text/x-python",
   "name": "python",
   "nbconvert_exporter": "python",
   "pygments_lexer": "ipython2",
   "version": "2.7.11"
  }
 },
 "nbformat": 4,
 "nbformat_minor": 0
}
