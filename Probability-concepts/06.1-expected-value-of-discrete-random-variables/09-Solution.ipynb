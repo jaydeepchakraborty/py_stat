{
 "cells": [
  {
   "cell_type": "markdown",
   "metadata": {},
   "source": [
    "# If the first roll in a game of craps is neither a natural nor craps, the player can make an additional bet equal to the original bet\n",
    "\n",
    "# If his point is a 4 or a 10, he is paid off at 2:1\n",
    "\n",
    "# If his point is a 5 or a 9, he is paid off at 3:2\n",
    "\n",
    "# If his point is a 6 or an 8, he is paid off at 6:5\n",
    "\n",
    "# What is the expected payoff if he makes the additional bet (when given the opportunity)?"
   ]
  },
  {
   "cell_type": "markdown",
   "metadata": {},
   "source": [
    "____\n",
    "\n",
    "# We copy the tree diagram from Figure 6.1\n",
    "\n",
    "![](images/figure6-1.PNG)"
   ]
  },
  {
   "cell_type": "markdown",
   "metadata": {},
   "source": [
    "## Case 1: point is a 4 or 10\n",
    "\n",
    "# $P(W|(r=4)\\cup(r=10)) = 1/3$\n",
    "\n",
    "# $P(L|(r=4)\\cup(r=10)) = 2/3$\n",
    "\n",
    "## Case 2: point is a 5 or 9\n",
    "\n",
    "# $P(W|(r=5)\\cup(r=9)) = 2/5$\n",
    "\n",
    "# $P(L|(r=5)\\cup(r=9)) = 3/5$\n",
    "\n",
    "## Case 3: point is a 6 or 8\n",
    "\n",
    "# $P(W|(r=6)\\cup(r=8)) = 5/11$\n",
    "\n",
    "# $P(L|(r=6)\\cup(r=8)) = 6/11$"
   ]
  },
  {
   "cell_type": "markdown",
   "metadata": {},
   "source": [
    "# $P((r=4) \\cup (r=10)) = \\frac{\\frac{2}{12}}{1 - \\frac{3}{9}} = \\frac{1}{4}$\n",
    "\n",
    "# $P((r=5) \\cup (r=9)) = \\frac{\\frac{2}{9}}{1 - \\frac{3}{9}} = \\frac{1}{3}$\n",
    "\n",
    "# $P((r=6) \\cup (r=8)) = \\frac{\\frac{10}{36}}{1 - \\frac{3}{9}} = \\frac{5}{12}$"
   ]
  },
  {
   "cell_type": "markdown",
   "metadata": {},
   "source": [
    "# Putting it all together:\n",
    "\n",
    "$E(\\text{Payoff | Additional Bet}) = \\frac{1}{4}((2)\\frac{1}{3} - (1)\\frac{2}{3}) + \\frac{1}{3}((1.5)\\frac{2}{5} - (1)\\frac{3}{5}) + \\frac{5}{12}((1.2)\\frac{5}{11} - (1)\\frac{6}{11}) = \\frac{1}{4}(0) + \\frac{1}{3}(0) + \\frac{5}{12}(0) = 0$"
   ]
  }
 ],
 "metadata": {
  "kernelspec": {
   "display_name": "Python 2",
   "language": "python",
   "name": "python2"
  },
  "language_info": {
   "codemirror_mode": {
    "name": "ipython",
    "version": 2
   },
   "file_extension": ".py",
   "mimetype": "text/x-python",
   "name": "python",
   "nbconvert_exporter": "python",
   "pygments_lexer": "ipython2",
   "version": "2.7.11"
  }
 },
 "nbformat": 4,
 "nbformat_minor": 0
}
