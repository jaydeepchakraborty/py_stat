{
 "cells": [
  {
   "cell_type": "markdown",
   "metadata": {},
   "source": [
    "# A more refined inequality for approximating $n!$ is given by\n",
    "\n",
    "# $\\sqrt{2\\pi n} \\cdot (\\frac{n}{e})^{n} \\cdot e^{\\frac{1}{12n+1}} < n! < \\sqrt{2\\pi n} \\cdot (\\frac{n}{e})^{n} \\cdot e^{\\frac{1}{12n}}$\n",
    "\n",
    "# Write a computer program to illustrate this inequality for $n=1$ to $n=9$"
   ]
  },
  {
   "cell_type": "code",
   "execution_count": 23,
   "metadata": {
    "collapsed": true
   },
   "outputs": [],
   "source": [
    "import numpy as np\n",
    "import matplotlib.pyplot as plt\n",
    "%matplotlib inline\n",
    "plt.rcParams['figure.figsize'] = 10, 10\n",
    "import pandas as pd"
   ]
  },
  {
   "cell_type": "code",
   "execution_count": 30,
   "metadata": {
    "collapsed": true
   },
   "outputs": [],
   "source": [
    "def f1(n):\n",
    "    v1 = np.sqrt(2*np.pi*n)\n",
    "    v2 = (n/np.exp(1))**n\n",
    "    v3 = np.exp((12*n+1)**(-1))\n",
    "    return(v1*v2*v3)"
   ]
  },
  {
   "cell_type": "code",
   "execution_count": 31,
   "metadata": {
    "collapsed": false
   },
   "outputs": [],
   "source": [
    "def f2(n):\n",
    "    v1 = np.sqrt(2*np.pi*n)\n",
    "    v2 = (n/np.exp(1))**n\n",
    "    v3 = np.exp((12*n)**(-1))\n",
    "    return(v1*v2*v3)"
   ]
  },
  {
   "cell_type": "code",
   "execution_count": 32,
   "metadata": {
    "collapsed": true
   },
   "outputs": [],
   "source": [
    "def factorial(n):\n",
    "    if (n==1)|(n==0):\n",
    "        return 1\n",
    "    else:\n",
    "        return(n*factorial(n-1))"
   ]
  },
  {
   "cell_type": "code",
   "execution_count": 33,
   "metadata": {
    "collapsed": true
   },
   "outputs": [],
   "source": [
    "df = pd.DataFrame(index = range(1,9))\n",
    "df['lower'] = df.index.map(f1)\n",
    "df['factorial'] = df.index.map(factorial)\n",
    "df['upper'] = df.index.map(f2)"
   ]
  },
  {
   "cell_type": "code",
   "execution_count": 34,
   "metadata": {
    "collapsed": false
   },
   "outputs": [
    {
     "data": {
      "text/html": [
       "<div>\n",
       "<table border=\"1\" class=\"dataframe\">\n",
       "  <thead>\n",
       "    <tr style=\"text-align: right;\">\n",
       "      <th></th>\n",
       "      <th>lower</th>\n",
       "      <th>factorial</th>\n",
       "      <th>upper</th>\n",
       "    </tr>\n",
       "  </thead>\n",
       "  <tbody>\n",
       "    <tr>\n",
       "      <th>1</th>\n",
       "      <td>0.995870</td>\n",
       "      <td>1</td>\n",
       "      <td>1.002274</td>\n",
       "    </tr>\n",
       "    <tr>\n",
       "      <th>2</th>\n",
       "      <td>1.997320</td>\n",
       "      <td>2</td>\n",
       "      <td>2.000652</td>\n",
       "    </tr>\n",
       "    <tr>\n",
       "      <th>3</th>\n",
       "      <td>5.996096</td>\n",
       "      <td>6</td>\n",
       "      <td>6.000599</td>\n",
       "    </tr>\n",
       "    <tr>\n",
       "      <th>4</th>\n",
       "      <td>23.990822</td>\n",
       "      <td>24</td>\n",
       "      <td>24.001024</td>\n",
       "    </tr>\n",
       "    <tr>\n",
       "      <th>5</th>\n",
       "      <td>119.969854</td>\n",
       "      <td>120</td>\n",
       "      <td>120.002637</td>\n",
       "    </tr>\n",
       "    <tr>\n",
       "      <th>6</th>\n",
       "      <td>719.872212</td>\n",
       "      <td>720</td>\n",
       "      <td>720.009187</td>\n",
       "    </tr>\n",
       "    <tr>\n",
       "      <th>7</th>\n",
       "      <td>5039.334743</td>\n",
       "      <td>5040</td>\n",
       "      <td>5040.040582</td>\n",
       "    </tr>\n",
       "    <tr>\n",
       "      <th>8</th>\n",
       "      <td>40315.888097</td>\n",
       "      <td>40320</td>\n",
       "      <td>40320.217785</td>\n",
       "    </tr>\n",
       "  </tbody>\n",
       "</table>\n",
       "</div>"
      ],
      "text/plain": [
       "          lower  factorial         upper\n",
       "1      0.995870          1      1.002274\n",
       "2      1.997320          2      2.000652\n",
       "3      5.996096          6      6.000599\n",
       "4     23.990822         24     24.001024\n",
       "5    119.969854        120    120.002637\n",
       "6    719.872212        720    720.009187\n",
       "7   5039.334743       5040   5040.040582\n",
       "8  40315.888097      40320  40320.217785"
      ]
     },
     "execution_count": 34,
     "metadata": {},
     "output_type": "execute_result"
    }
   ],
   "source": [
    "df"
   ]
  },
  {
   "cell_type": "markdown",
   "metadata": {},
   "source": [
    "# Seems pretty accurate"
   ]
  }
 ],
 "metadata": {
  "kernelspec": {
   "display_name": "Python 2",
   "language": "python",
   "name": "python2"
  },
  "language_info": {
   "codemirror_mode": {
    "name": "ipython",
    "version": 2
   },
   "file_extension": ".py",
   "mimetype": "text/x-python",
   "name": "python",
   "nbconvert_exporter": "python",
   "pygments_lexer": "ipython2",
   "version": "2.7.11"
  }
 },
 "nbformat": 4,
 "nbformat_minor": 0
}
