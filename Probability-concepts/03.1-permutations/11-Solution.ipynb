{
 "cells": [
  {
   "cell_type": "markdown",
   "metadata": {},
   "source": [
    "# There are n applicants for the director of computing. \n",
    "\n",
    "# The applicants are interviewed independently by each member of the three-person search committee and ranked from 1 to n. A candidate will be hired if he or she is ranked first by at least two of the three interviewers\n",
    "\n",
    "# Find the probability that a candidate will be accepted if the members of the committee really have no ability at all to judge the candidates and just rank the candidates randomly. \n",
    "\n",
    "# In particular, compare this probability for the case of three candidates and the case of ten candidates."
   ]
  },
  {
   "cell_type": "markdown",
   "metadata": {},
   "source": [
    "___\n",
    "\n",
    "# If all three judges rank the candidate as 1st, there is 1 way it can happen\n",
    "\n",
    "# If only two of the judges rank the candidate 1st, then the possibilities are:\n",
    "\n",
    "## 1. [1, 1, x]\n",
    "## 2. [1, x, 1]\n",
    "## 3. [x, 1, 1]\n",
    "\n",
    "# Where x represents the ranking of the candidate, with (n-1) possible values\n",
    "\n",
    "# Therefore there are 3(n-1) ways that two of the judges can rank the candidate in 1st\n",
    "\n",
    "### So: $(\\text{Number of ways the candidate will be accepted}) = 1 + 3(n-1) = 3n-2$"
   ]
  },
  {
   "cell_type": "markdown",
   "metadata": {},
   "source": [
    "# The total number of ways the candidate can be ranked is $n^{3}$\n",
    "\n",
    "# Therefore the probability is $\\frac{3n-2}{n^{3}}$"
   ]
  },
  {
   "cell_type": "markdown",
   "metadata": {},
   "source": [
    "# If $n=3$: $P(\\text{Accepted}) = \\frac{3\\cdot3 - 2}{3^{3}} = \\frac{7}{27} = 0.25925925925925924$"
   ]
  },
  {
   "cell_type": "markdown",
   "metadata": {},
   "source": [
    "# If $n=10$: $P(\\text{Accepted}) = \\frac{3\\cdot10 - 2}{10^{3}} = \\frac{28}{1000} = 0.028$"
   ]
  }
 ],
 "metadata": {
  "kernelspec": {
   "display_name": "Python 2",
   "language": "python",
   "name": "python2"
  },
  "language_info": {
   "codemirror_mode": {
    "name": "ipython",
    "version": 2
   },
   "file_extension": ".py",
   "mimetype": "text/x-python",
   "name": "python",
   "nbconvert_exporter": "python",
   "pygments_lexer": "ipython2",
   "version": "2.7.11"
  }
 },
 "nbformat": 4,
 "nbformat_minor": 0
}
