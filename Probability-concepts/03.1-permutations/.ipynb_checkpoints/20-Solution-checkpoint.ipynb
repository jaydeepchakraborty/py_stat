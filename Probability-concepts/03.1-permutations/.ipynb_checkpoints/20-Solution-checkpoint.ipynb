{
 "cells": [
  {
   "cell_type": "markdown",
   "metadata": {},
   "source": [
    "# At a mathematical conference, ten participants are randomly seated around a circular table for meals. \n",
    "\n",
    "# Using simulation, estimate the probability that no two people sit next to each other at both lunch and dinner. \n",
    "\n",
    "# Can you make an intelligent conjecture for the case of n participants when n is large?"
   ]
  },
  {
   "cell_type": "markdown",
   "metadata": {},
   "source": [
    "___\n",
    "\n",
    "### First, we note that the arrangement [1,2,3,4,5] is the same as [5,1,2,3,4]\n",
    "\n",
    "### Therefore, for every array, let's roll it so that the 1 is always in the starting position e.g. [5,4,3,2,1] would become [1,5,4,3,2]\n",
    "\n",
    "### Furthermore, if we add a 1 to the end of every array, then instead of looking left and right, we only need to look to the right\n",
    "\n",
    "### Example: Original Seating Arrangement = [1,2,3,4,5,6]\n",
    "\n",
    "#### If we look to the left and right of each element, we get the following mappings:\n",
    "\n",
    "- 1: (5,1)\n",
    "- 2: (1, 3)\n",
    "- 3: (2, 4)\n",
    "- 4: (3, 5)\n",
    "- 5: (4, 1)\n",
    "\n",
    "### If our second arrangement is [1,2,5,3,6,4], then we go through those mappings to check if anyone is touching one of the values in the tuple\n",
    "\n",
    "- 1: YES\n",
    "- 2: YES\n",
    "- 3: NO\n",
    "- 4: NO\n",
    "- 5: NO\n",
    "- 6: NO\n",
    "\n",
    "### So 1 and 2 are still touching, but the others aren't\n",
    "\n",
    "### Since we're checking both neighbors, we're kinda double counting\n",
    "\n",
    "## But now let's do the same thing, but appending a 1 to the end and only looking to the right i.e. [1,2,3,4,5,6,1]\n",
    "\n",
    "### First, the mapping:\n",
    "\n",
    "- 1: 2\n",
    "- 2: 3\n",
    "- 3: 4\n",
    "- 4: 5\n",
    "- 5: 6\n",
    "- 6: 1\n",
    "\n",
    "### So now, let's test them again with [1,2,5,3,6,4,1]:\n",
    "\n",
    "- 1: YES\n",
    "- 2: NO\n",
    "- 3: NO\n",
    "- 4: NO\n",
    "- 5: NO\n",
    "- 6: NO\n",
    "\n",
    "### So only looking to the right, we can see that 1 fails and 2 doesn't, but this is good enough because we don't need to double count"
   ]
  },
  {
   "cell_type": "code",
   "execution_count": 117,
   "metadata": {
    "collapsed": true
   },
   "outputs": [],
   "source": [
    "import numpy as np\n",
    "import pandas as pd"
   ]
  },
  {
   "cell_type": "markdown",
   "metadata": {},
   "source": [
    "**Building random seating arrangement**"
   ]
  },
  {
   "cell_type": "code",
   "execution_count": 118,
   "metadata": {
    "collapsed": true
   },
   "outputs": [],
   "source": [
    "array_seating_arrangement = np.arange(1,11)\n",
    "np.random.shuffle(array_seating_arrangement)"
   ]
  },
  {
   "cell_type": "markdown",
   "metadata": {},
   "source": [
    "**Shifting the array so 1 is at the first position**"
   ]
  },
  {
   "cell_type": "code",
   "execution_count": 119,
   "metadata": {
    "collapsed": false
   },
   "outputs": [],
   "source": [
    "index = np.where(array_seating_arrangement==1)[0][0]\n",
    "array_seating_arrangement = np.roll(array_seating_arrangement, -index)"
   ]
  },
  {
   "cell_type": "markdown",
   "metadata": {},
   "source": [
    "**Appending a 1 to the end**"
   ]
  },
  {
   "cell_type": "code",
   "execution_count": 120,
   "metadata": {
    "collapsed": false
   },
   "outputs": [],
   "source": [
    "array_seating_arrangement = np.append(array_seating_arrangement,1)"
   ]
  },
  {
   "cell_type": "markdown",
   "metadata": {},
   "source": [
    "**Creating dictionary**"
   ]
  },
  {
   "cell_type": "code",
   "execution_count": 121,
   "metadata": {
    "collapsed": true
   },
   "outputs": [],
   "source": [
    "dict_neighbors = {}\n",
    "\n",
    "for i in range(10):\n",
    "    val = array_seating_arrangement[i]\n",
    "    neighbor = array_seating_arrangement[i+1]\n",
    "    dict_neighbors[val] = neighbor"
   ]
  },
  {
   "cell_type": "code",
   "execution_count": 122,
   "metadata": {
    "collapsed": true
   },
   "outputs": [],
   "source": [
    "def checker(array):\n",
    "    index = np.where(array==1)[0][0]\n",
    "    array = np.roll(array, -index)\n",
    "    array = np.append(array,1)\n",
    "    for i in range(10):\n",
    "        val = array[i]\n",
    "        neighbor_lookup = dict_neighbors[val]\n",
    "        if array[i+1]==neighbor_lookup:\n",
    "            return 1\n",
    "    \n",
    "    return 0"
   ]
  },
  {
   "cell_type": "code",
   "execution_count": 125,
   "metadata": {
    "collapsed": false
   },
   "outputs": [
    {
     "name": "stdout",
     "output_type": "stream",
     "text": [
      "0.32991\n"
     ]
    }
   ],
   "source": [
    "counter = 0\n",
    "\n",
    "for n in range(100000):\n",
    "    random_array = np.arange(1,11)\n",
    "    np.random.shuffle(random_array)\n",
    "    counter += checker(random_array)\n",
    "print(1-float(counter)/100000)"
   ]
  },
  {
   "cell_type": "markdown",
   "metadata": {},
   "source": [
    "# Will look into this later\n",
    "\n",
    "# LOOK INTO FIXED POINTS FOR RANDOM PERMUTATIONS"
   ]
  }
 ],
 "metadata": {
  "kernelspec": {
   "display_name": "Python 2",
   "language": "python",
   "name": "python2"
  }
 },
 "nbformat": 4,
 "nbformat_minor": 0
}
