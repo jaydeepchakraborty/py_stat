{
 "cells": [
  {
   "cell_type": "markdown",
   "metadata": {},
   "source": [
    "# Find a formula for the probability that among a set of n people, at least two have their birthdays in the same month of the year (assuming the months are equally likely for birthdays)."
   ]
  },
  {
   "cell_type": "markdown",
   "metadata": {},
   "source": [
    "___\n",
    "\n",
    "### $P(\\text{At least two people have the same birthday month}) = 1 - P(\\text{All unique birthday months})$"
   ]
  },
  {
   "cell_type": "markdown",
   "metadata": {},
   "source": [
    "### If $n=1$, $P(\\text{All unique birthday months}) = 1$\n",
    "\n",
    "### If $n=2$, $P(\\text{All unique birthday months}) = \\frac{12\\cdot11}{12\\cdot12}$\n",
    "\n",
    "### If $n=3$, $P(\\text{All unique birthday months}) = \\frac{12\\cdot11\\cdot10}{12^{3}}$\n",
    "\n",
    "### ...\n",
    "\n",
    "### If $n=11$, $P(\\text{All unique birthday months}) = \\frac{12\\cdot11\\cdot...\\cdot2}{12^{11}}$\n",
    "\n",
    "### If $n=12$, $P(\\text{All unique birthday months}) = \\frac{12!}{12^{12}}$\n",
    "\n",
    "### If $n=13$, $P(\\text{All unique birthday months}) = 0$"
   ]
  },
  {
   "cell_type": "markdown",
   "metadata": {},
   "source": [
    "# So, our formula can be expressed as:\n",
    "\n",
    "# $f(n) = \\begin{cases}\n",
    " &1- \\frac{12!}{(12^{n})(12-n)!}\\text{  if } 0 < n < 12 \\\\ \n",
    " & 1 \\text{ if } n \\geq 12 \n",
    "\\end{cases}$"
   ]
  }
 ],
 "metadata": {
  "kernelspec": {
   "display_name": "Python 2",
   "language": "python",
   "name": "python2"
  },
  "language_info": {
   "codemirror_mode": {
    "name": "ipython",
    "version": 2
   },
   "file_extension": ".py",
   "mimetype": "text/x-python",
   "name": "python",
   "nbconvert_exporter": "python",
   "pygments_lexer": "ipython2",
   "version": "2.7.11"
  }
 },
 "nbformat": 4,
 "nbformat_minor": 0
}
