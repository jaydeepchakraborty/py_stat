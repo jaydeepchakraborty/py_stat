{
 "cells": [
  {
   "cell_type": "markdown",
   "metadata": {},
   "source": [
    "## A finite $\\Omega$ set  has $n$ elements\n",
    "\n",
    "## Show that if we count the empty set and $\\Omega$ as subsets, there are $2^{n}$ subsets of $\\Omega$"
   ]
  },
  {
   "cell_type": "markdown",
   "metadata": {},
   "source": [
    "___\n",
    "\n",
    "## For each element, we there are 2 possibilities:\n",
    "\n",
    "## 1. It is in the subset\n",
    "## 2. Is is NOT in the subset\n",
    "\n",
    "## So each subset can be represented as a series of 0s and 1s where 1 means the element is contained in the subset, and 0 means it isn't\n",
    "\n",
    "## Therefore, the total number of possible subsets of $n$ elements is $2\\cdot2\\cdot...\\cdot2 = 2^{n}$\n",
    "\n",
    "### Note: this includes the empty set since we can express it as a series of $n$ 0s, and the full set $\\Omega$ since we can express it as a series of $n$ 1s"
   ]
  }
 ],
 "metadata": {
  "kernelspec": {
   "display_name": "Python 2",
   "language": "python",
   "name": "python2"
  },
  "language_info": {
   "codemirror_mode": {
    "name": "ipython",
    "version": 2
   },
   "file_extension": ".py",
   "mimetype": "text/x-python",
   "name": "python",
   "nbconvert_exporter": "python",
   "pygments_lexer": "ipython2",
   "version": "2.7.11"
  }
 },
 "nbformat": 4,
 "nbformat_minor": 0
}
