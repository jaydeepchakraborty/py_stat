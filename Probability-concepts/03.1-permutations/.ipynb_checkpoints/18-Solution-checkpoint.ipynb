{
 "cells": [
  {
   "cell_type": "markdown",
   "metadata": {},
   "source": [
    "# Consider the problem of finding the probability of more than one coincidence of birthdays in a group of $n$ people. \n",
    "\n",
    "# These include, for example, three people with the same birthday, or two pairs of people with the same birthday, or larger coincidences. \n",
    "\n",
    "# Show how you could compute this probability, and write a computer program to carry out this computation. \n",
    "\n",
    "# Use your program to find the smallest number of people for which it would be a favorable bet that there would be more than one coincidence of birthdays."
   ]
  },
  {
   "cell_type": "markdown",
   "metadata": {},
   "source": [
    "___\n",
    "\n",
    "# For a list of $n$ dates, we know that if only two of the dates are the same, the list of unique dates (i.e. the list left after removing duplicate dates) will have length $n-1$\n",
    "\n",
    "# If we have a list of $n$ dates and remove the duplicates and are left with a list of length LESS THAN $n-1$, we know that either i) at least one date had 3+ occurrences in the list or ii) at least two dates are listed more than once\n",
    "\n",
    "### Therefore, we can calculate this probability by creating $n$ random values between 1 and 365, then removing duplicated values and checking whether the length of the list is less than $n-1$"
   ]
  },
  {
   "cell_type": "code",
   "execution_count": 4,
   "metadata": {
    "collapsed": true
   },
   "outputs": [],
   "source": [
    "import numpy as np\n",
    "import pandas as pd"
   ]
  },
  {
   "cell_type": "code",
   "execution_count": 44,
   "metadata": {
    "collapsed": true
   },
   "outputs": [],
   "source": [
    "def scanner(array):\n",
    "    if len(array.drop_duplicates())<len(array)-1:\n",
    "        return 1\n",
    "    else:\n",
    "        return 0"
   ]
  },
  {
   "cell_type": "code",
   "execution_count": 50,
   "metadata": {
    "collapsed": true
   },
   "outputs": [],
   "source": [
    "def sim(n, n_trials):\n",
    "    birthdays = np.random.randint(1,366, size = [n, n_trials])\n",
    "    df = pd.DataFrame(birthdays)\n",
    "    return df.apply(scanner).mean()"
   ]
  },
  {
   "cell_type": "code",
   "execution_count": 54,
   "metadata": {
    "collapsed": false
   },
   "outputs": [
    {
     "name": "stdout",
     "output_type": "stream",
     "text": [
      "n = 1; P = 0.0\n",
      "n = 2; P = 0.0\n",
      "n = 3; P = 0.0\n",
      "n = 4; P = 0.0\n",
      "n = 5; P = 0.0\n",
      "n = 6; P = 0.0\n",
      "n = 7; P = 0.001\n",
      "n = 8; P = 0.001\n",
      "n = 9; P = 0.001\n",
      "n = 10; P = 0.004\n",
      "n = 11; P = 0.007\n",
      "n = 12; P = 0.012\n",
      "n = 13; P = 0.016\n",
      "n = 14; P = 0.01\n",
      "n = 15; P = 0.022\n",
      "n = 16; P = 0.029\n",
      "n = 17; P = 0.058\n",
      "n = 18; P = 0.054\n",
      "n = 19; P = 0.078\n",
      "n = 20; P = 0.088\n",
      "n = 21; P = 0.102\n",
      "n = 22; P = 0.125\n",
      "n = 23; P = 0.147\n",
      "n = 24; P = 0.159\n",
      "n = 25; P = 0.217\n",
      "n = 26; P = 0.211\n",
      "n = 27; P = 0.255\n",
      "n = 28; P = 0.251\n",
      "n = 29; P = 0.308\n",
      "n = 30; P = 0.343\n",
      "n = 31; P = 0.356\n",
      "n = 32; P = 0.402\n",
      "n = 33; P = 0.406\n",
      "n = 34; P = 0.479\n",
      "n = 35; P = 0.492\n",
      "n = 36; P = 0.532\n",
      "n = 37; P = 0.547\n",
      "n = 38; P = 0.58\n",
      "n = 39; P = 0.594\n",
      "n = 40; P = 0.633\n",
      "n = 41; P = 0.666\n",
      "n = 42; P = 0.713\n",
      "n = 43; P = 0.733\n",
      "n = 44; P = 0.722\n",
      "n = 45; P = 0.76\n",
      "n = 46; P = 0.778\n",
      "n = 47; P = 0.821\n",
      "n = 48; P = 0.834\n",
      "n = 49; P = 0.835\n",
      "n = 50; P = 0.855\n"
     ]
    }
   ],
   "source": [
    "for n in range(1,51):\n",
    "    val = sim(n, 1000)\n",
    "    print('n = '+str(n)+'; P = '+str(val))"
   ]
  },
  {
   "cell_type": "markdown",
   "metadata": {},
   "source": [
    "# Seems to cross the threshold at $n=36$"
   ]
  }
 ],
 "metadata": {
  "kernelspec": {
   "display_name": "Python 2",
   "language": "python",
   "name": "python2"
  },
  "language_info": {
   "codemirror_mode": {
    "name": "ipython",
    "version": 2
   },
   "file_extension": ".py",
   "mimetype": "text/x-python",
   "name": "python",
   "nbconvert_exporter": "python",
   "pygments_lexer": "ipython2",
   "version": "2.7.11"
  }
 },
 "nbformat": 4,
 "nbformat_minor": 0
}
