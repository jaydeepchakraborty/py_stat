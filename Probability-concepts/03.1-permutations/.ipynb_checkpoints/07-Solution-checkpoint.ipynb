{
 "cells": [
  {
   "cell_type": "markdown",
   "metadata": {},
   "source": [
    "# Five people get on an elevator that stops at five floors. \n",
    "\n",
    "# Assuming that each has an equal probability of going to any one floor, and the probability that they all get out at different floors."
   ]
  },
  {
   "cell_type": "markdown",
   "metadata": {},
   "source": [
    "___\n",
    "\n",
    "## $(\\text{Total number of possible combinations}) = 5^{5}$\n",
    "\n",
    "## $(\\text{Number of combinations with one person per floor}) = 5\\cdot4\\cdot3\\cdot2\\cdot1 = 5!$\n",
    "\n",
    "## So $P(\\text{All distinct floors}) = \\frac{5!}{5^{5}} = 0.0384$"
   ]
  }
 ],
 "metadata": {
  "kernelspec": {
   "display_name": "Python 2",
   "language": "python",
   "name": "python2"
  },
  "language_info": {
   "codemirror_mode": {
    "name": "ipython",
    "version": 2
   },
   "file_extension": ".py",
   "mimetype": "text/x-python",
   "name": "python",
   "nbconvert_exporter": "python",
   "pygments_lexer": "ipython2",
   "version": "2.7.11"
  }
 },
 "nbformat": 4,
 "nbformat_minor": 0
}
