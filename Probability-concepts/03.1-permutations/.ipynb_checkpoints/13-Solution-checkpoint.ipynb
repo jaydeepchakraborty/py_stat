{
 "cells": [
  {
   "cell_type": "markdown",
   "metadata": {},
   "source": [
    "# A certain state has license plates showing three numbers and three letters.\n",
    "\n",
    "\n",
    "# How many different license plates are possible\n",
    "\n",
    "## a) If the numbers must come before the letters?\n",
    "\n",
    "## b) If there is no restriction on where the letters and numbers appear?"
   ]
  },
  {
   "cell_type": "markdown",
   "metadata": {},
   "source": [
    "___\n",
    "# a)\n",
    "\n",
    "### We assume that letters and numbers can be repeated, so\n",
    "\n",
    "## Number of different plates = (10x10x10)x(26x26x26) = 17,576,000"
   ]
  },
  {
   "cell_type": "markdown",
   "metadata": {},
   "source": [
    "___\n",
    "# b)\n",
    "\n",
    "# For each plate we counted before, if we remove the restriction for where the 3 letters can be placed, we can map the plate to 6C3 = 20 different configurations of the same plate. Therefore:\n",
    "\n",
    "## Number of different plates = 20x(10x10x10)x(26x26x26) = 20x17,576,000 = 351,520,000"
   ]
  }
 ],
 "metadata": {
  "kernelspec": {
   "display_name": "Python 2",
   "language": "python",
   "name": "python2"
  },
  "language_info": {
   "codemirror_mode": {
    "name": "ipython",
    "version": 2
   },
   "file_extension": ".py",
   "mimetype": "text/x-python",
   "name": "python",
   "nbconvert_exporter": "python",
   "pygments_lexer": "ipython2",
   "version": "2.7.11"
  }
 },
 "nbformat": 4,
 "nbformat_minor": 0
}
