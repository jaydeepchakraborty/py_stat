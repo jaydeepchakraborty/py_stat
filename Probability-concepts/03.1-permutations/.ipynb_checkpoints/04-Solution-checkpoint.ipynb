{
 "cells": [
  {
   "cell_type": "markdown",
   "metadata": {},
   "source": [
    "# What is the probability that at least 2 of the presidents of the United States have died on the same day of the year? If you bet this has happened, would you win your bet?"
   ]
  },
  {
   "cell_type": "markdown",
   "metadata": {},
   "source": [
    "___\n",
    "# $P(\\text{At least 2 died on the same day}) = 1 - P(\\text{All died on unique days})$\n",
    "\n",
    "# Note: there have been a total of 43 presidents\n",
    "\n",
    "\n",
    "# $P(\\text{All die on unique days}) = \\frac{\\text{Number of combinations where no date is repeated}}{\\text{Total number of combinations}}$\n",
    "\n",
    "### $ = \\frac{365\\cdot364\\cdot...\\cdot323}{365^{43}} $\n",
    "\n",
    "### $= \\frac{11477501918892508200741692778746536007868425524755352097933958989654361242525125669819403063210803200000000000}{365^{43}}$\n",
    "\n",
    "### = 0.0760771443\n",
    "\n",
    "## Therefore $P(\\text{At least 2 die on the same day}) = 1 - 0.0760771443 = 0.923923$"
   ]
  }
 ],
 "metadata": {
  "kernelspec": {
   "display_name": "Python 2",
   "language": "python",
   "name": "python2"
  },
  "language_info": {
   "codemirror_mode": {
    "name": "ipython",
    "version": 2
   },
   "file_extension": ".py",
   "mimetype": "text/x-python",
   "name": "python",
   "nbconvert_exporter": "python",
   "pygments_lexer": "ipython2",
   "version": "2.7.11"
  }
 },
 "nbformat": 4,
 "nbformat_minor": 0
}
