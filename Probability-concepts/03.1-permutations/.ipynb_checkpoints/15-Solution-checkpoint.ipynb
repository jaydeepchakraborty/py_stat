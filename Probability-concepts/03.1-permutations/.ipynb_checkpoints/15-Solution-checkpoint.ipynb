{
 "cells": [
  {
   "cell_type": "markdown",
   "metadata": {},
   "source": [
    "# A computing center has 3 processors that receive $n$ jobs, with the jobs assigned to the processors purely at random so that all of the $3^{n}$ possible assignments are equally likely. \n",
    "\n",
    "# Find the probability that exactly one processor has no jobs"
   ]
  },
  {
   "cell_type": "markdown",
   "metadata": {},
   "source": [
    "____\n",
    "\n",
    "# Our first instinct is to say:\n",
    "\n",
    "### For a given processor, the probability of being assigned a job is $\\frac{1}{3}$ so the probability of not being assigned a job is $\\frac{2}{3}$\n",
    "\n",
    "### Therefore, the probability of a given processor being assigned none out of $n$ jobs is $(\\frac{2}{3})^{n}$, and since there are 3 different processors, this can happen in $3\\cdot(\\frac{2}{3})^{n}$ ways\n",
    "\n",
    "\n",
    "# BUT THIS DOESN'T ANSWER THE QUESTION BEING ASKED\n",
    "\n",
    "### This answers the question \"What is the probability of at least one processor being assigned no jobs?\""
   ]
  },
  {
   "cell_type": "markdown",
   "metadata": {},
   "source": [
    "# We need to consider the cases where all jobs are being assigned to a single processor"
   ]
  },
  {
   "cell_type": "markdown",
   "metadata": {},
   "source": [
    "### Let's let $n=2$ and assume no jobs are assigned to the third processor\n",
    "\n",
    "### How many different assignments are possible?\n",
    "\n",
    "![](images/15-1.png)"
   ]
  },
  {
   "cell_type": "markdown",
   "metadata": {},
   "source": [
    "### The possibilities are [1,1], [1,2], [2,1], or [2,2]\n",
    "\n",
    "## But the problem says that *\"exactly one processor has no jobs\"*\n",
    "\n",
    "### For [1,1] and [2,2], there are TWO processors with no jobs\n",
    "\n",
    "# Therefore, for any value of $n$, we can't count the 2 possible assignments where all jobs are assigned to a single processor"
   ]
  },
  {
   "cell_type": "markdown",
   "metadata": {},
   "source": [
    "# So, for any $n$, there are $2^{n}$ ways the jobs can be assigned while excluding processor 3, and we need to exclude 2 of the possible ways to answer the question\n",
    "\n",
    "### So $P(\\text{No jobs assigned to processor 3 AND at least one each for processor 1 and 2}) = \\frac{2^{n}-2}{3^{n}}$\n",
    "\n",
    "# And since there are 3 processors, this means\n",
    "\n",
    "# $P(\\text{Exactly one processor has no jobs})= 3\\cdot \\frac{2^{n}-2}{3^{n}}$"
   ]
  }
 ],
 "metadata": {
  "kernelspec": {
   "display_name": "Python 2",
   "language": "python",
   "name": "python2"
  },
  "language_info": {
   "codemirror_mode": {
    "name": "ipython",
    "version": 2
   },
   "file_extension": ".py",
   "mimetype": "text/x-python",
   "name": "python",
   "nbconvert_exporter": "python",
   "pygments_lexer": "ipython2",
   "version": "2.7.11"
  }
 },
 "nbformat": 4,
 "nbformat_minor": 0
}
