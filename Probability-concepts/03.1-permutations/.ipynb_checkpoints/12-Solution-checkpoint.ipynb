{
 "cells": [
  {
   "cell_type": "markdown",
   "metadata": {},
   "source": [
    "# A symphony orchestra has in its repertoire 30 Haydn symphonies, 15 modern works, and 9 Beethoven symphonies. \n",
    "\n",
    "# Its program always consists of a Haydn symphony followed by a modern work, and then a Beethoven symphony.\n",
    "\n",
    "## a) How many different programs can it play?\n",
    "\n",
    "## b) How many different programs are there if the three pieces can be played in any order?\n",
    "\n",
    "## c) How many different three-piece programs are there if more than one piece from the same category can be played and they can be played in any order?"
   ]
  },
  {
   "cell_type": "markdown",
   "metadata": {},
   "source": [
    "___\n",
    "# a)\n",
    "\n",
    "### Number of different programs = 30x15x9 = 4,050"
   ]
  },
  {
   "cell_type": "markdown",
   "metadata": {},
   "source": [
    "___\n",
    "\n",
    "# b)\n",
    "\n",
    "### Number of different programs if they can be played in any order = (3x2)x4050 = 24,300\n",
    "\n",
    "#### Note: this is because there are 3 choices for the first piece (Haydn, modern, Beethoven), 2 for the second piece, and 1 for the final piece\n",
    "\n",
    "#### Therefore, every program can be shuffled in 6 distinct ways"
   ]
  },
  {
   "cell_type": "markdown",
   "metadata": {},
   "source": [
    "___\n",
    "\n",
    "# c)\n",
    "\n",
    "### There are 30+15+9 = 54 total pieces, and since this question treats them all the same:\n",
    "\n",
    "### Number of different programs = 54x53x52 = 148,824"
   ]
  }
 ],
 "metadata": {
  "kernelspec": {
   "display_name": "Python 2",
   "language": "python",
   "name": "python2"
  },
  "language_info": {
   "codemirror_mode": {
    "name": "ipython",
    "version": 2
   },
   "file_extension": ".py",
   "mimetype": "text/x-python",
   "name": "python",
   "nbconvert_exporter": "python",
   "pygments_lexer": "ipython2",
   "version": "2.7.11"
  }
 },
 "nbformat": 4,
 "nbformat_minor": 0
}
