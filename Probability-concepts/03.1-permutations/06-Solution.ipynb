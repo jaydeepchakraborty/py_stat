{
 "cells": [
  {
   "cell_type": "markdown",
   "metadata": {},
   "source": [
    "## In arranging people around a circular table, we take into account their seats relative to each other, not the actual position of any one person. \n",
    "\n",
    "## Show that $n$ people can be arranged around a circular table in $(n - 1)!$ ways"
   ]
  },
  {
   "cell_type": "markdown",
   "metadata": {},
   "source": [
    "___\n",
    "\n",
    "### If we let $n=4$ for now, then if we consider A BENCH instead of a round table, the following combinations would all be distinct"
   ]
  },
  {
   "cell_type": "markdown",
   "metadata": {},
   "source": [
    "![](images/6-1.png)"
   ]
  },
  {
   "cell_type": "markdown",
   "metadata": {
    "collapsed": true
   },
   "source": [
    "### But for a circular table, they're all the same"
   ]
  },
  {
   "cell_type": "markdown",
   "metadata": {},
   "source": [
    "![](images/6-2.png)"
   ]
  },
  {
   "cell_type": "markdown",
   "metadata": {},
   "source": [
    "### So a single arrangement for the round table with 4 people can be shown in 4 ways on the bench\n",
    "\n",
    "### Therefore, for $n$ people: $ (\\text{Number of arrangements at the round table}) = \\frac{\\text{Number of arrangements on the bench}}{n}$\n",
    "\n",
    "### For $n$ people, $(\\text{Number of arrangements on the bench}) = n!$ so:\n",
    "\n",
    "## $ (\\text{Number of arrangements at the round table}) = \\frac{n!}{n} = \\frac{n\\cdot(n-1)\\cdot...\\cdot2\\cdot1}{n} = (n-1)!$"
   ]
  }
 ],
 "metadata": {
  "kernelspec": {
   "display_name": "Python 2",
   "language": "python",
   "name": "python2"
  },
  "language_info": {
   "codemirror_mode": {
    "name": "ipython",
    "version": 2
   },
   "file_extension": ".py",
   "mimetype": "text/x-python",
   "name": "python",
   "nbconvert_exporter": "python",
   "pygments_lexer": "ipython2",
   "version": "2.7.11"
  }
 },
 "nbformat": 4,
 "nbformat_minor": 0
}
