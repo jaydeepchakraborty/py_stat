{
 "cells": [
  {
   "cell_type": "markdown",
   "metadata": {},
   "source": [
    "# Prove that at least two people in Atlanta, Georgia, have the same initials, assuming no one has more than four initials."
   ]
  },
  {
   "cell_type": "markdown",
   "metadata": {},
   "source": [
    "___\n",
    "\n",
    "# Population of Atlanta = 537,958"
   ]
  },
  {
   "cell_type": "markdown",
   "metadata": {},
   "source": [
    "### The total number of possible 4-letter inital combinations is equal to $26^{4} = 456,976$\n",
    "\n",
    "### The total number of possible 3-letter inital combinations is equal to $26^{3} = 17,576$\n",
    "\n",
    "### The total number of possible 2-letter inital combinations is equal to $26^{2} = 676$\n",
    "\n",
    "### The total number of possible 1-letter inital combinations is equal to $26^{1} = 27$\n",
    "\n",
    "### So, the total number of possible combinations of initials = 456,976 + 17,576 + 676 + 27 = 475, 254"
   ]
  },
  {
   "cell_type": "markdown",
   "metadata": {},
   "source": [
    "# Therefore, there are more people than possible combinations so we know at least two people have the same combo"
   ]
  }
 ],
 "metadata": {
  "kernelspec": {
   "display_name": "Python 2",
   "language": "python",
   "name": "python2"
  },
  "language_info": {
   "codemirror_mode": {
    "name": "ipython",
    "version": 2
   },
   "file_extension": ".py",
   "mimetype": "text/x-python",
   "name": "python",
   "nbconvert_exporter": "python",
   "pygments_lexer": "ipython2",
   "version": "2.7.11"
  }
 },
 "nbformat": 4,
 "nbformat_minor": 0
}
