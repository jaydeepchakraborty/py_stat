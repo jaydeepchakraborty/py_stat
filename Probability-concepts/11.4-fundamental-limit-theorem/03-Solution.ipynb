{
 "cells": [
  {
   "cell_type": "markdown",
   "metadata": {},
   "source": [
    "# Let \n",
    "\n",
    "# $P = \\begin{pmatrix}1 & 0 & 0\\\\ 0.25 & 0 & 0.75\\\\ 0 & 0 & 1\\end{pmatrix}$\n",
    "\n",
    "# be a transition matrix of a Markov chain\n",
    "\n",
    "# Find two fixed vectors of $P$ that are linearly independent\n",
    "\n",
    "# Does this mean that the Markov chain is not regular?"
   ]
  },
  {
   "cell_type": "markdown",
   "metadata": {},
   "source": [
    "_____\n",
    "\n",
    "\n",
    "# $[w_{1},w_{2},w_{3}]\\begin{pmatrix}1 & 0 & 0\\\\ 0.25 & 0 & 0.75\\\\ 0 & 0 & 1\\end{pmatrix} = [w_{1},w_{2},w_{3}]$"
   ]
  },
  {
   "cell_type": "markdown",
   "metadata": {},
   "source": [
    "# $\\implies w_{1}+0.25w_{2} = w_{1} \\implies w_{2} = 0$\n",
    "\n",
    "# Furthermore, we can see that there are no restrictions on $w_{1}$ and $w_{3}$"
   ]
  },
  {
   "cell_type": "markdown",
   "metadata": {},
   "source": [
    "# $\\implies$ our two linearly independent fixed vectors are $[1,0,0]$ and $[0,0,1]$"
   ]
  },
  {
   "cell_type": "markdown",
   "metadata": {},
   "source": [
    "# The Markov chain is not regular since there is no way of transitioning to the second state after $n$ steps as $n\\rightarrow \\infty$"
   ]
  }
 ],
 "metadata": {
  "kernelspec": {
   "display_name": "Python 2",
   "language": "python",
   "name": "python2"
  },
  "language_info": {
   "codemirror_mode": {
    "name": "ipython",
    "version": 2
   },
   "file_extension": ".py",
   "mimetype": "text/x-python",
   "name": "python",
   "nbconvert_exporter": "python",
   "pygments_lexer": "ipython2",
   "version": "2.7.11"
  }
 },
 "nbformat": 4,
 "nbformat_minor": 0
}
