{
 "cells": [
  {
   "cell_type": "markdown",
   "metadata": {},
   "source": [
    "# Let $A$ and $B$ be events such that $P(A\\cap B) = 1/4$, $P(\\tilde A) = 1/3$, $P(B) = 1/2$\n",
    "\n",
    "# What is $P(A\\cup B)$?"
   ]
  },
  {
   "cell_type": "markdown",
   "metadata": {},
   "source": [
    "![](images/7-1.png)\n",
    "\n",
    "![](images/7-2.png)\n",
    "\n",
    "![](images/7-3.png)"
   ]
  },
  {
   "cell_type": "markdown",
   "metadata": {},
   "source": [
    "### $P(\\tilde A) = 1/3 \\implies P(A) = 2/3$\n",
    "\n",
    "### $P(A\\cup B) = P(A) + P(B) + P(A \\cap B) = 2/3 + 1/2 - 1/4 = 11/12$"
   ]
  }
 ],
 "metadata": {
  "kernelspec": {
   "display_name": "Python 2",
   "language": "python",
   "name": "python2"
  },
  "language_info": {
   "codemirror_mode": {
    "name": "ipython",
    "version": 2
   },
   "file_extension": ".py",
   "mimetype": "text/x-python",
   "name": "python",
   "nbconvert_exporter": "python",
   "pygments_lexer": "ipython2",
   "version": "2.7.11"
  }
 },
 "nbformat": 4,
 "nbformat_minor": 0
}
