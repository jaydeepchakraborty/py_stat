{
 "cells": [
  {
   "cell_type": "markdown",
   "metadata": {},
   "source": [
    "# In a fierce battle, not less than 70% of the soldiers lost one eye, not less than 75% lost one ear, not less than 80% lost one hand, and not less than 85% lost one leg\n",
    "\n",
    "# What is the minimal percentage of those who simultaneously lost one ear, one eye, one hand, and one leg?"
   ]
  },
  {
   "cell_type": "markdown",
   "metadata": {},
   "source": [
    "___\n",
    "# Let's start with the soldiers that lost an eye\n",
    "\n",
    "## We know that if at least 70% lost an eye, then at most 30% didn't"
   ]
  },
  {
   "cell_type": "markdown",
   "metadata": {},
   "source": [
    "![](images/16-1.png)"
   ]
  },
  {
   "cell_type": "markdown",
   "metadata": {},
   "source": [
    "## So, this means that when we add in the soldiers that lost one ear, the maximum percentage that is did not also lose an eye is the 30%\n",
    "\n",
    "![](images/16-2.png)"
   ]
  },
  {
   "cell_type": "markdown",
   "metadata": {},
   "source": [
    "# Since the question only cares about the intersection, we can consider the intersection of size 0.45 as a new subset\n",
    "\n",
    "![](images/16-3.png)"
   ]
  },
  {
   "cell_type": "markdown",
   "metadata": {},
   "source": [
    "# Now, we consider the 80% that lost one hand\n",
    "\n",
    "## We assign the whole 0.55 to the non-intersection:\n",
    "\n",
    "![](images/16-4.png)"
   ]
  },
  {
   "cell_type": "markdown",
   "metadata": {},
   "source": [
    "# Again, we can ignore everything except the new intersection\n",
    "\n",
    "![](images/16-5.png)"
   ]
  },
  {
   "cell_type": "markdown",
   "metadata": {},
   "source": [
    "# Finally, we consider the 85% that lost one leg\n",
    "\n",
    "![](images/16-6.png)"
   ]
  },
  {
   "cell_type": "markdown",
   "metadata": {},
   "source": [
    "# Therefore, the minimum intersection is 10%"
   ]
  }
 ],
 "metadata": {
  "kernelspec": {
   "display_name": "Python [default]",
   "language": "python",
   "name": "python3"
  },
  "language_info": {
   "codemirror_mode": {
    "name": "ipython",
    "version": 3
   },
   "file_extension": ".py",
   "mimetype": "text/x-python",
   "name": "python",
   "nbconvert_exporter": "python",
   "pygments_lexer": "ipython3",
   "version": "3.5.3"
  }
 },
 "nbformat": 4,
 "nbformat_minor": 2
}
