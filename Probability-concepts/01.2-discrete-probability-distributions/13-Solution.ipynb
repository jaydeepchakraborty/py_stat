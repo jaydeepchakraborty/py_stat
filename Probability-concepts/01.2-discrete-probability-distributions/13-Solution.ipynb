{
 "cells": [
  {
   "cell_type": "markdown",
   "metadata": {},
   "source": [
    "# In a horse race, the odds that Romance will win are listed as 2:3 and that Downhill will win are 1:3\n",
    "\n",
    "# What odd should be given for the event that either Romance or Downhill win?"
   ]
  },
  {
   "cell_type": "markdown",
   "metadata": {},
   "source": [
    "___\n",
    "### The events are mutually exclusive (assuming no ties) so:\n",
    "\n",
    "#### $P(\\text{Romance} \\cup \\text{Downhill}) = P(\\text{Romance}) + P(\\text{Downhill}) = 2/(2+3) + 1/(1+3) = 2/5 + 1/4 = 8/20 + 5/20 = 13/20$"
   ]
  }
 ],
 "metadata": {
  "kernelspec": {
   "display_name": "Python 2",
   "language": "python",
   "name": "python2"
  },
  "language_info": {
   "codemirror_mode": {
    "name": "ipython",
    "version": 2
   },
   "file_extension": ".py",
   "mimetype": "text/x-python",
   "name": "python",
   "nbconvert_exporter": "python",
   "pygments_lexer": "ipython2",
   "version": "2.7.11"
  }
 },
 "nbformat": 4,
 "nbformat_minor": 0
}
