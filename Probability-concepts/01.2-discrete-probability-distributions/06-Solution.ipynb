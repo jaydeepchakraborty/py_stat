{
 "cells": [
  {
   "cell_type": "markdown",
   "metadata": {},
   "source": [
    "# A die is loaded in such a way that the probability of each face turning up is proportional to the number of dots on that face.\n",
    "\n",
    "# What is the probability of getting an even number in one throw?"
   ]
  },
  {
   "cell_type": "markdown",
   "metadata": {},
   "source": [
    "___\n",
    "# $P(1) = p$\n",
    "# $P(2) = 2p$\n",
    "# $P(3) = 3p$\n",
    "# $P(4) = 4p$\n",
    "# $P(5) = 5p$\n",
    "# $P(6) = 6p$\n",
    "\n",
    "### $1 = P(1) + P(2) + ... + P(6) = p+2p+...+6p = p(1+2+3+4+5+6) = 21p \\implies p = 1/21$ \n",
    "\n",
    "## $P(Even) = P(2) + P(4) + P(6) = 2\\cdot(1/21) + 4\\cdot(1/21) + 6\\cdot(1/21) =12/21$"
   ]
  }
 ],
 "metadata": {
  "kernelspec": {
   "display_name": "Python 2",
   "language": "python",
   "name": "python2"
  },
  "language_info": {
   "codemirror_mode": {
    "name": "ipython",
    "version": 2
   },
   "file_extension": ".py",
   "mimetype": "text/x-python",
   "name": "python",
   "nbconvert_exporter": "python",
   "pygments_lexer": "ipython2",
   "version": "2.7.11"
  }
 },
 "nbformat": 4,
 "nbformat_minor": 0
}
