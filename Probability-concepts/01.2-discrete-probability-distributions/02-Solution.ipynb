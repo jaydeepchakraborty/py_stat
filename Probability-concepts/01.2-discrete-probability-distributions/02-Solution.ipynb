{
 "cells": [
  {
   "cell_type": "markdown",
   "metadata": {},
   "source": [
    "# Give a possible sample space $\\Omega$ for each of the following experiments:\n",
    "\n",
    "## a) An election decides between two candidates\n",
    "## b) A two sided coin is tossed\n",
    "## c) A student is asked for the month of the year and the day of the week on which her birthday falls\n",
    "## d) A student is chosen at random from a class of ten students\n",
    "## e) You receive a grade in this course"
   ]
  },
  {
   "cell_type": "markdown",
   "metadata": {},
   "source": [
    "____\n",
    "# Solution\n",
    "\n",
    "## a) $\\Omega = \\left \\{ Candidate 1, Candidate 2 \\right \\}$\n",
    "## b) $\\Omega = \\left \\{ Side 1, Side 2 \\right \\}$\n",
    "## c) $\\Omega = \\left \\{ (m, d)\\text{ for } m \\in  [1,2,...,12  ],d \\in [1,2,...,7]  \\right \\}$\n",
    "## d) $\\Omega = \\left \\{ 1,2,3,...,10  \\right \\}$\n",
    "## e) $\\Omega = \\left \\{ A, B, C, D, F  \\right \\}$"
   ]
  }
 ],
 "metadata": {
  "kernelspec": {
   "display_name": "Python 2",
   "language": "python",
   "name": "python2"
  },
  "language_info": {
   "codemirror_mode": {
    "name": "ipython",
    "version": 2
   },
   "file_extension": ".py",
   "mimetype": "text/x-python",
   "name": "python",
   "nbconvert_exporter": "python",
   "pygments_lexer": "ipython2",
   "version": "2.7.11"
  }
 },
 "nbformat": 4,
 "nbformat_minor": 0
}
