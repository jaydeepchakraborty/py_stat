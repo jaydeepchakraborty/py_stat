{
 "cells": [
  {
   "cell_type": "markdown",
   "metadata": {},
   "source": [
    "# What odds should a person give in favor of the following events?\n",
    "\n",
    "## a. A card chosen at random from a 52-card deck is an ace\n",
    "## b. Two heads will turn up when a coin is tossed twice\n",
    "## c. Boxcars (2 sixes) will turn up when two dice are rolled"
   ]
  },
  {
   "cell_type": "markdown",
   "metadata": {},
   "source": [
    "___\n",
    "\n",
    "# Recall: 2 to 1 odds means one event is twice as likely as the other i.e. $P(\\text{Event 1}) = 2/3, P(\\text{Event 2}) = 1/3$\n",
    "\n",
    "\n",
    "### a. $P(Ace) = 4/52 = 1/13 \\implies$ 1:12 odds"
   ]
  },
  {
   "cell_type": "markdown",
   "metadata": {},
   "source": [
    "### b. $P(HH) = 1/4 \\implies$ 1 to 3 odds"
   ]
  },
  {
   "cell_type": "markdown",
   "metadata": {},
   "source": [
    "### c. $P(6, 6) = 1/36 \\implies$ 1 to 35 odds"
   ]
  }
 ],
 "metadata": {
  "kernelspec": {
   "display_name": "Python 2",
   "language": "python",
   "name": "python2"
  },
  "language_info": {
   "codemirror_mode": {
    "name": "ipython",
    "version": 2
   },
   "file_extension": ".py",
   "mimetype": "text/x-python",
   "name": "python",
   "nbconvert_exporter": "python",
   "pygments_lexer": "ipython2",
   "version": "2.7.11"
  }
 },
 "nbformat": 4,
 "nbformat_minor": 0
}
