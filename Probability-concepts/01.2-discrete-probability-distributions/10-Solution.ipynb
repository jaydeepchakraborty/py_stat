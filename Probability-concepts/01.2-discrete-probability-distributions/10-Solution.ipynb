{
 "cells": [
  {
   "cell_type": "markdown",
   "metadata": {},
   "source": [
    "# For a bill to come before the president of the US, if must be passed by both the House and the Senate\n",
    "\n",
    "# Assume that, of the bills presented to these two bodies, 60% pass the house and 80% pass the senate, and 90% pass at least one of the two.\n",
    "\n",
    "# Calculate the probability that the next bill presented to the two groups will come before the president"
   ]
  },
  {
   "cell_type": "markdown",
   "metadata": {},
   "source": [
    "___\n",
    "# $P(\\text{Pass House}) = 0.6$\n",
    "# $P(\\text{Pass Senate}) = 0.8$\n",
    "# $P(\\text{Pass House} \\cup \\text{Pass Senate}) = 0.9$\n",
    "\n",
    "### $P(\\text{Pass House} \\cup \\text{Pass Senate}) = P(\\text{Pass House}) + P(\\text{Pass Senate}) - P(\\text{Pass House} \\cap \\text{Pass Senate})$\n",
    "\n",
    "### $\\implies P(\\text{Pass House} \\cap \\text{Pass Senate}) = P(\\text{Pass House}) + P(\\text{Pass Senate}) - P(\\text{Pass House} \\cup \\text{Pass Senate})$\n",
    "\n",
    "### $ = 0.6 + 0.8 - 0.9 = 0.5$"
   ]
  },
  {
   "cell_type": "markdown",
   "metadata": {},
   "source": [
    "# Therefore 50% chance it'll come before the president"
   ]
  }
 ],
 "metadata": {
  "kernelspec": {
   "display_name": "Python 2",
   "language": "python",
   "name": "python2"
  },
  "language_info": {
   "codemirror_mode": {
    "name": "ipython",
    "version": 2
   },
   "file_extension": ".py",
   "mimetype": "text/x-python",
   "name": "python",
   "nbconvert_exporter": "python",
   "pygments_lexer": "ipython2",
   "version": "2.7.11"
  }
 },
 "nbformat": 4,
 "nbformat_minor": 0
}
