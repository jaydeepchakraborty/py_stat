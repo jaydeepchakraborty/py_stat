{
 "cells": [
  {
   "cell_type": "markdown",
   "metadata": {},
   "source": [
    "## a. For events $A_{1},A_{2},A_{3},...,A_{n}$ prove that \n",
    "\n",
    "## $P(A_{1}\\cup A_{2} \\cup ...\\cup A_{n}) \\leq P(A_{1}) + P(A_{2}) + ... + P(A_{n})$\n",
    "\n",
    "## b. For events $A$ and $B$, prove that\n",
    "\n",
    "## $P(A\\cap B) \\geq P(A)+P(B)-1$"
   ]
  },
  {
   "cell_type": "markdown",
   "metadata": {},
   "source": [
    "___\n",
    "# a. \n",
    "\n",
    "### We know $P(A \\cup B) = P(A) + P(B) - P(A\\cap B)$\n",
    "\n",
    "### So $P(A_{1}) + P(A_{2}) = P(A_{1} \\cup A_{2}) + P(A_{1} \\cap A_{2})$\n",
    "\n",
    "### Let $A^{*}$ represent the event that at least one of $A_{1}$ or $A_{2}$ occurs\n",
    "\n",
    "### Then $P(A_{1}) + P(A_{2}) + P(A_{3}) = P(A_{1} \\cup A_{2}) + P(A_{1} \\cap A_{2}) + P(A_{3})$\n",
    "\n",
    "### $= (P(A^{*}) + P(A_{3})) + P(A_{1} \\cap A_{2})$\n",
    "\n",
    "### We now use the same logic from $A_{1}$ and $A_{2}$ for $A^{*}$ and $A_{3}$\n",
    "\n",
    "### $(P(A^{*}) + P(A_{3})) + P(A_{1} \\cap A_{2}) = (P(A^{*} \\cup A_{3}) + P(A^{*} \\cap A_{3})) + P(A_{1} \\cap A_{2})$\n",
    "\n",
    "### $=(P(A_{1} \\cup A_{2} \\cup A_{3})) + P(A^{*} \\cap A_{3}) + P(A_{1} \\cap A_{2})$\n",
    "\n",
    "\n",
    "## We can repeat this step for all $A_{i}$ until we get:\n",
    "\n",
    "### $P(A_{1}) + P(A_{2}) + ... + P(A_{n}) = P(A_{1}\\cup A_{2} \\cup ...\\cup A_{n}) + \\left [ P(A^{*} \\cap A_{3}) + P(A_{1} \\cap A_{2}) + ... \\right ]$\n",
    "\n",
    "### And we know $\\left [ P(A^{*} \\cap A_{3}) + P(A_{1} \\cap A_{2}) + ... \\right ]$ is non-negative\n",
    "\n",
    "\n",
    "## Therefore $P(A_{1}\\cup A_{2} \\cup ...\\cup A_{n}) \\leq P(A_{1}) + P(A_{2}) + ... + P(A_{n})$"
   ]
  },
  {
   "cell_type": "markdown",
   "metadata": {},
   "source": [
    "___\n",
    "# b. \n",
    "\n",
    "### We know that $P(A\\cap B) = P(A) + P(B) - P(A\\cup B)$\n",
    "\n",
    "### The maximum for $P(A\\cup B)$ is 1 since it means that $A$ or $B$ cover all possible events\n",
    "\n",
    "## Therefore $P(A\\cap B) \\geq P(A)+P(B)-1$"
   ]
  }
 ],
 "metadata": {
  "kernelspec": {
   "display_name": "Python [default]",
   "language": "python",
   "name": "python3"
  },
  "language_info": {
   "codemirror_mode": {
    "name": "ipython",
    "version": 3
   },
   "file_extension": ".py",
   "mimetype": "text/x-python",
   "name": "python",
   "nbconvert_exporter": "python",
   "pygments_lexer": "ipython3",
   "version": "3.5.3"
  }
 },
 "nbformat": 4,
 "nbformat_minor": 2
}
