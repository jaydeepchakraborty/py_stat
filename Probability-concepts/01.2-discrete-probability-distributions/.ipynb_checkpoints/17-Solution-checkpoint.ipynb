{
 "cells": [
  {
   "cell_type": "markdown",
   "metadata": {},
   "source": [
    "# Assume that the probability of a \"success\" on a single experiment with $n$ outcomes is $\\frac{1}{n}$\n",
    "\n",
    "# Let $m$ be the number of experiments necessary to make a favorable bet that at least one success will occur\n",
    "\n",
    "## a. Show that the probability that, in $m$ trials, there are no successes is $(1-\\frac{1}{n})^{m}$\n",
    "\n",
    "## b. Show that if $m=nlog2$ then $lim_{n\\rightarrow \\infty}\\left ( 1 - \\frac{1}{n}\\right )^{m} = \\frac{1}{2}$"
   ]
  },
  {
   "cell_type": "markdown",
   "metadata": {},
   "source": [
    "___\n",
    "# a. \n",
    "\n",
    "### If the probability of success on a single experiment is $\\frac{1}{n}$ then the probability of failure is $1-\\frac{1}{n}$\n",
    "\n",
    "### Then, the probability of $m$ repeated failures is simply $(1-\\frac{1}{n})^{m}$\n",
    "\n",
    "\n",
    "# b. \n",
    "\n",
    "### We know that $lim_{n\\rightarrow \\infty}\\left ( 1 - \\frac{1}{n}\\right )^{n} = \\frac{1}{e}$\n",
    "\n",
    "### Then $lim_{n\\rightarrow \\infty}\\left ( 1 - \\frac{1}{n}\\right )^{nlog2} =  lim_{n\\rightarrow \\infty}\\left ( \\left (1 - \\frac{1}{n}\\right )^{n}\\right )^{log2} = \\left ( lim_{n\\rightarrow \\infty}\\left (1 - \\frac{1}{n}\\right )^{n}\\right )^{log2} = \\left ( \\frac{1}{e} \\right )^{log2} = e^{-log2} = (e^{log2})^{-1}$\n",
    "\n",
    "### Recall: $e^{logx} = x$\n",
    "\n",
    "### So $(e^{log2})^{-1} = 2^{-1} = \\frac{1}{2}$"
   ]
  }
 ],
 "metadata": {
  "kernelspec": {
   "display_name": "Python [default]",
   "language": "python",
   "name": "python3"
  },
  "language_info": {
   "codemirror_mode": {
    "name": "ipython",
    "version": 3
   },
   "file_extension": ".py",
   "mimetype": "text/x-python",
   "name": "python",
   "nbconvert_exporter": "python",
   "pygments_lexer": "ipython3",
   "version": "3.5.3"
  }
 },
 "nbformat": 4,
 "nbformat_minor": 2
}
