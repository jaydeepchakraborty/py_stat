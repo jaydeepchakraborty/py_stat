{
 "cells": [
  {
   "cell_type": "markdown",
   "metadata": {},
   "source": [
    "# Our calendar has a 400-year cycle. BH Brown noticed that the number of times the thirteeth of the month falls on each of the days in the week in the 4800 months of a cycle is as follows:\n",
    "\n",
    "- Sunday 687\n",
    "- Monday 685\n",
    "- Tuesday 685\n",
    "- Wednesday 687\n",
    "- Thursday 684\n",
    "- Friday 688\n",
    "- Saturday 684\n",
    "\n",
    "# From this he deduced that the thirteenth was more likely to fall on a Friday than any other day. Explain what he meant by this"
   ]
  },
  {
   "cell_type": "markdown",
   "metadata": {},
   "source": [
    "___\n",
    "- Friday has the highest number of observed 13ths\n",
    "- Therefore, he deduced that it's the most likely day"
   ]
  }
 ],
 "metadata": {
  "kernelspec": {
   "display_name": "Python 2",
   "language": "python",
   "name": "python2"
  },
  "language_info": {
   "codemirror_mode": {
    "name": "ipython",
    "version": 2
   },
   "file_extension": ".py",
   "mimetype": "text/x-python",
   "name": "python",
   "nbconvert_exporter": "python",
   "pygments_lexer": "ipython2",
   "version": "2.7.11"
  }
 },
 "nbformat": 4,
 "nbformat_minor": 0
}
