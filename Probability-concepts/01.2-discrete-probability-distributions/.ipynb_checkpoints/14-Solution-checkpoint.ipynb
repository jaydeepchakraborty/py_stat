{
 "cells": [
  {
   "cell_type": "markdown",
   "metadata": {},
   "source": [
    "# Let $X$ be a random variable with distribution function $m_{X}(x)$ defined by:\n",
    "\n",
    "### $m_{X}(-1) = 1/5$\n",
    "### $m_{X}(0) = 1/5$\n",
    "### $m_{X}(1) = 2/5$\n",
    "### $m_{X}(2) = 1/5$\n",
    "\n",
    "## a. Let $Y$ be the random variable defined by the equation $Y = X + 3$. Find the distribution function $m_{Y}(y)$\n",
    "\n",
    "## b. Let $Z$ be the random variable defined by the equation $Z = X^{2}$. Find the distribution function $m_{Z}(z)$"
   ]
  },
  {
   "cell_type": "markdown",
   "metadata": {},
   "source": [
    "___\n",
    "# a. \n",
    "\n",
    "# $\\Omega_{X} = \\left \\{ -1, 0, 1, 2 \\right \\} \\implies \\Omega_{Y} = \\left \\{ 2, 3, 4, 5 \\right \\}$\n",
    "\n",
    "# $\\implies m_{Y}(2) = 1/5$, $m_{Y}(3) = 1/5$, $m_{Y}(4) = 2/5$, $m_{Y}(5) = 1/5$"
   ]
  },
  {
   "cell_type": "markdown",
   "metadata": {},
   "source": [
    "___\n",
    "# b.\n",
    "\n",
    "# $\\Omega_{A} = \\left \\{ -1, 0, 1, 2 \\right \\} \\implies \\Omega_{Z} = \\left \\{ 1, 0, 1, 4 \\right \\}$\n",
    "\n",
    "## Note: we map $m_{X}(-1)$ and $m_{X}(1)$ to the same value\n",
    "\n",
    "# $\\implies m_{Z}(0) = 1/5$, $m_{Z}(1) = 3/5$, $m_{Z}(4) = 1/5$"
   ]
  }
 ],
 "metadata": {
  "kernelspec": {
   "display_name": "Python 2",
   "language": "python",
   "name": "python2"
  },
  "language_info": {
   "codemirror_mode": {
    "name": "ipython",
    "version": 2
   },
   "file_extension": ".py",
   "mimetype": "text/x-python",
   "name": "python",
   "nbconvert_exporter": "python",
   "pygments_lexer": "ipython2",
   "version": "2.7.11"
  }
 },
 "nbformat": 4,
 "nbformat_minor": 0
}
