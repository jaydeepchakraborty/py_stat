{
 "cells": [
  {
   "cell_type": "markdown",
   "metadata": {},
   "source": [
    "# Explain why it is not possible to define a uniform distribution function on a countably infinite sample space?"
   ]
  },
  {
   "cell_type": "markdown",
   "metadata": {},
   "source": [
    "___\n",
    "# For a sample space to have a uniform distribution function, it means each outcome is equally likely\n",
    "\n",
    "### Therefore for a sample space of $n$ possible events, its uniform distribution function would be defined as $f(x = A) = \\frac{1}{n}$\n",
    "\n",
    "### Now let's look at the first $m$ events in the sample space\n",
    "\n",
    "### Let's say each event has some non-zero probability of occuring given by $p^{*}$\n",
    "\n",
    "### Then, since each event is equally likely, the next $m$ events in the sample space also each have the non-zero probability of occuring given by $p^{*}$\n",
    "\n",
    "### Continuing by this logic, we would repeat this for the first $\\frac{m}{p^{*}}$ elements in the list\n",
    "\n",
    "## But this is a finite number, meaning elements $\\frac{m}{p^{*}}$ and later have a probability of 0\n",
    "\n",
    "## This violates the rule that each event is equally likely"
   ]
  }
 ],
 "metadata": {
  "kernelspec": {
   "display_name": "Python [default]",
   "language": "python",
   "name": "python3"
  },
  "language_info": {
   "codemirror_mode": {
    "name": "ipython",
    "version": 3
   },
   "file_extension": ".py",
   "mimetype": "text/x-python",
   "name": "python",
   "nbconvert_exporter": "python",
   "pygments_lexer": "ipython3",
   "version": "3.5.3"
  }
 },
 "nbformat": 4,
 "nbformat_minor": 2
}
