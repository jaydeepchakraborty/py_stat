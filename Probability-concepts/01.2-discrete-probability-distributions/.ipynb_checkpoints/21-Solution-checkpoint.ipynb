{
 "cells": [
  {
   "cell_type": "markdown",
   "metadata": {},
   "source": [
    "# In example 1.13 find the probability that the coin turns up heads for the first time on the tenth, eleventh, or twelfth toss\n",
    "\n",
    "## Example 1.13:\n",
    "\n",
    "### A coin is tossed until the first time that a head turns up. Let the outcome of the experiment, $\\alpha$ ,be the first time that a head turns up. Then the possible outcomes of our experiment are $\\Omega = \\left \\{ 1, 2, 3, ...\\right \\}$"
   ]
  },
  {
   "cell_type": "markdown",
   "metadata": {},
   "source": [
    "___\n",
    "### Since these are all mutually exclusive events, we can just solve for the probability of each event, then take the sum\n",
    "\n",
    "## $P(\\alpha = 10) = \\left ( \\frac{1}{2} \\right )^{9} \\cdot \\left ( \\frac{1}{2} \\right ) = \\left ( \\frac{1}{2} \\right )^{10} = 0.0009765625$\n",
    "\n",
    "## $P(\\alpha = 11) = \\left ( \\frac{1}{2} \\right )^{11} = 0.00048828125$\n",
    "\n",
    "## $P(\\alpha = 12) = \\left ( \\frac{1}{2} \\right )^{12} = 0.00024414062$\n",
    "\n",
    "### $P((\\alpha = 10)|(\\alpha = 11)|(\\alpha = 12)) = 0.0009765625 + 0.00048828125 + 0.00024414062 = 0.00170898437$"
   ]
  }
 ],
 "metadata": {
  "kernelspec": {
   "display_name": "Python 2",
   "language": "python",
   "name": "python2"
  },
  "language_info": {
   "codemirror_mode": {
    "name": "ipython",
    "version": 2
   },
   "file_extension": ".py",
   "mimetype": "text/x-python",
   "name": "python",
   "nbconvert_exporter": "python",
   "pygments_lexer": "ipython2",
   "version": "2.7.11"
  }
 },
 "nbformat": 4,
 "nbformat_minor": 0
}
