{
 "cells": [
  {
   "cell_type": "markdown",
   "metadata": {},
   "source": [
    "# A student must choose exactly two out of three electives: Art, French, and Mathematics\n",
    "\n",
    "# He chooses Art with a probability of 5/8, French with a probability of 5/8, and both Art and French together with a probability of 1/4\n",
    "\n",
    "## What is the probability that he chooses Mathematics? What is the probability that he chooses either French of Art?"
   ]
  },
  {
   "cell_type": "markdown",
   "metadata": {},
   "source": [
    "# $P(Art) = 5/8$; $P(French) = 5/8$; $P(Art \\cap French) = 1/4$\n",
    "\n",
    "### $P(Art \\cup French) = P(Art) + P(French) - P(Art \\cap French) = 5/8 + 5/8 - 1/4 = 10/8 - 5/8 = 6/8 = 3/4$\n",
    "\n",
    "### $P(Math) = 1 - P(Art \\cap French) = 1 - 1/4 = 3/4$"
   ]
  }
 ],
 "metadata": {
  "kernelspec": {
   "display_name": "Python 2",
   "language": "python",
   "name": "python2"
  },
  "language_info": {
   "codemirror_mode": {
    "name": "ipython",
    "version": 2
   },
   "file_extension": ".py",
   "mimetype": "text/x-python",
   "name": "python",
   "nbconvert_exporter": "python",
   "pygments_lexer": "ipython2",
   "version": "2.7.11"
  }
 },
 "nbformat": 4,
 "nbformat_minor": 0
}
