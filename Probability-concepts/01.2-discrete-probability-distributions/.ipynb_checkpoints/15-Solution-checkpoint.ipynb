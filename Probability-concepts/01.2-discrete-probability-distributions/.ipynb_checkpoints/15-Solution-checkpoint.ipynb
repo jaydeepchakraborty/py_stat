{
 "cells": [
  {
   "cell_type": "markdown",
   "metadata": {},
   "source": [
    "# John and Mary are taking a math course. The course has only 3 grades: A, B, and C\n",
    "\n",
    "# The probability that John gets a B is 0.3\n",
    "\n",
    "# The probability that Mary gets a B is 0.4\n",
    "\n",
    "# The probability that neither gets an A but at least one gets a B is 0.1\n",
    "\n",
    "# What is the probability that at least one gets a B but neither gets a C?"
   ]
  },
  {
   "cell_type": "markdown",
   "metadata": {},
   "source": [
    "___\n",
    "\n",
    "# $P(J_{B}) = P(J_{B}M_{A} + J_{B}M_{B} + J_{B}M_{C}) = 0.3$\n",
    "\n",
    "# $P(M_{B}) = P(J_{A}M_{B} + J_{B}M_{B} + J_{C}M_{B}) = 0.4$\n",
    "\n",
    "# $P(\\text{No A, at least one B}) = P(J_{B}M_{B} + J_{B}M_{C} + J_{C}M_{B}) = 0.1$"
   ]
  },
  {
   "cell_type": "markdown",
   "metadata": {},
   "source": [
    "# $P(\\text{At least one B, no C}) = P(J_{A}M_{B} + J_{B}M_{A} + J_{B}M_{B})$"
   ]
  },
  {
   "cell_type": "markdown",
   "metadata": {},
   "source": [
    "### If we add $P(J_{B})$ and $P(M_{B})$:\n",
    "\n",
    "## $P(J_{B}) + P(M_{B}) = P(J_{B}M_{A} + J_{B}M_{B} + J_{B}M_{C}) + P(J_{A}M_{B} + J_{B}M_{B} + J_{C}M_{B})$\n",
    "\n",
    "## $0.7 = P(J_{B}M_{A} + 2\\cdot J_{B}M_{B} + J_{B}M_{C} + J_{A}M_{B} + J_{C}M_{B})$\n",
    "\n",
    "### Now, if we subtract $P(\\text{No A, at least one B})$:\n",
    "\n",
    "$0.7 - 0.1 = P(J_{B}M_{A} + 2\\cdot J_{B}M_{B} + J_{B}M_{C} + J_{A}M_{B} + J_{C}M_{B}) - P(J_{B}M_{B} + J_{B}M_{C} + J_{C}M_{B})$\n",
    "\n",
    "$ 0.6 = P(J_{A}M_{B} + J_{B}M_{A} + J_{B}M_{B}) = P(\\text{At least one B, no C})$"
   ]
  }
 ],
 "metadata": {
  "kernelspec": {
   "display_name": "Python [default]",
   "language": "python",
   "name": "python3"
  },
  "language_info": {
   "codemirror_mode": {
    "name": "ipython",
    "version": 3
   },
   "file_extension": ".py",
   "mimetype": "text/x-python",
   "name": "python",
   "nbconvert_exporter": "python",
   "pygments_lexer": "ipython3",
   "version": "3.5.3"
  }
 },
 "nbformat": 4,
 "nbformat_minor": 2
}
