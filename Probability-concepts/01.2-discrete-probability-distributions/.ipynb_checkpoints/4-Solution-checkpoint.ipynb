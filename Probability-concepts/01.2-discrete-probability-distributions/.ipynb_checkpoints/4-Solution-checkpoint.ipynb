{
 "cells": [
  {
   "cell_type": "markdown",
   "metadata": {},
   "source": [
    "# Describe in words the events specified by the following subsets of:\n",
    "\n",
    "# $\\Omega = \\left \\{ HHH, HHT, HTH, HTT, THH, THT, TTH, TTT \\right \\}$\n",
    "\n",
    "## a) $E = \\left \\{ HHH, HHT, HTH, HTT\\right \\}$\n",
    "## b) $E = \\left \\{ HHH, TTT\\right \\}$\n",
    "## c) $E = \\left \\{ HHT, HTH, THH\\right \\}$\n",
    "## d) $E = \\left \\{ HHT, HTH, HTT, THH, THT, TTH, TTT\\right \\}$"
   ]
  },
  {
   "cell_type": "markdown",
   "metadata": {},
   "source": [
    "___\n",
    "a) Heads on first flip\n",
    "\n",
    "b) Same side three times in a row\n",
    "\n",
    "c) One tails in three flips\n",
    "\n",
    "d) All except triple heads"
   ]
  }
 ],
 "metadata": {
  "kernelspec": {
   "display_name": "Python 2",
   "language": "python",
   "name": "python2"
  },
  "language_info": {
   "codemirror_mode": {
    "name": "ipython",
    "version": 2
   },
   "file_extension": ".py",
   "mimetype": "text/x-python",
   "name": "python",
   "nbconvert_exporter": "python",
   "pygments_lexer": "ipython2",
   "version": "2.7.11"
  }
 },
 "nbformat": 4,
 "nbformat_minor": 0
}
