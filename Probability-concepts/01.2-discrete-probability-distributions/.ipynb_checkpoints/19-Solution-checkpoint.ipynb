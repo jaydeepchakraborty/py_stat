{
 "cells": [
  {
   "cell_type": "markdown",
   "metadata": {},
   "source": [
    "# If $A$, $B$, and $C$ are any three events, show that:\n",
    "\n",
    "### $P(A\\cup B\\cup C) = P(A) + P(B) + P(C) - P(A\\cap B) - P(B\\cap C) - P(A\\cap C) + P(A\\cap B \\cap C)$"
   ]
  },
  {
   "cell_type": "markdown",
   "metadata": {},
   "source": [
    "___\n",
    "### Let $D$ represent $A\\cup B$\n",
    "\n",
    "### Then $P(A\\cup B \\cup C) = P(D \\cup C)$\n",
    "\n",
    "### $P(D \\cup C) = P(D) + P(C) - P(D\\cap C)$\n",
    "\n",
    "### Then $P(D\\cap C) = P(A \\cap C) + P (B \\cap C) - P(A \\cap B \\cap C)$\n",
    "\n",
    "### So $P(D \\cup C) = P(D) + P(C) - (P(A \\cap C) + P (B \\cap C) - P(A \\cap B \\cap C))$\n",
    "\n",
    "### $= P(A\\cup B) + P(C) - P(A \\cap C) - P (B \\cap C) + P(A \\cap B \\cap C)$\n",
    "### $= P(A) + P(B) - P(A\\cap B) + P(C) - P(A \\cap C) - P (B \\cap C) + P(A \\cap B \\cap C)$"
   ]
  }
 ],
 "metadata": {
  "kernelspec": {
   "display_name": "Python [default]",
   "language": "python",
   "name": "python3"
  },
  "language_info": {
   "codemirror_mode": {
    "name": "ipython",
    "version": 3
   },
   "file_extension": ".py",
   "mimetype": "text/x-python",
   "name": "python",
   "nbconvert_exporter": "python",
   "pygments_lexer": "ipython3",
   "version": "3.5.3"
  }
 },
 "nbformat": 4,
 "nbformat_minor": 2
}
