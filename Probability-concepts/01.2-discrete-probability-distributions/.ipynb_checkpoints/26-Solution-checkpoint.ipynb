{
 "cells": [
  {
   "cell_type": "markdown",
   "metadata": {},
   "source": [
    "# Two cards are drawn successively from a deck of 52 cards. Find the probability that the second card is higher in rank than the first card."
   ]
  },
  {
   "cell_type": "markdown",
   "metadata": {},
   "source": [
    "___\n",
    "\n",
    "### After drawing the first card from the deck, there are 51 cards remaining in the deck\n",
    "\n",
    "### Then $P(same) = \\frac{3}{51}$"
   ]
  },
  {
   "cell_type": "markdown",
   "metadata": {},
   "source": [
    "### Next, we know that there are two other possible outcomes:\n",
    "\n",
    "### 1. The first card drawn is higher\n",
    "\n",
    "### 2. The second card drawn is higher\n",
    "\n",
    "### Since we're calculating the probability before we draw the first card and look at its value (i.e. this isn't a conditional probability), we know events 1 and 2 are equally likely\n",
    "\n",
    "### So $P(higher)$ and $P(lower)$ split the remaining probability\n",
    "\n",
    "### $P(higher) = (1-\\frac{3}{51})\\cdot \\frac{1}{2} = \\frac{24}{51}$"
   ]
  }
 ],
 "metadata": {
  "kernelspec": {
   "display_name": "Python 2",
   "language": "python",
   "name": "python2"
  },
  "language_info": {
   "codemirror_mode": {
    "name": "ipython",
    "version": 2
   },
   "file_extension": ".py",
   "mimetype": "text/x-python",
   "name": "python",
   "nbconvert_exporter": "python",
   "pygments_lexer": "ipython2",
   "version": "2.7.11"
  }
 },
 "nbformat": 4,
 "nbformat_minor": 0
}
