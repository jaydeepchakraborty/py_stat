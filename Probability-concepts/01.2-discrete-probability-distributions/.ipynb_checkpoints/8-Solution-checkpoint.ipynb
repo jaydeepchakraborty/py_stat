{
 "cells": [
  {
   "cell_type": "markdown",
   "metadata": {},
   "source": [
    "# A student must choose one of the following subjects as an elective: Art, Geology, or Psychology\n",
    "\n",
    "## She is equally as likely to choose art or psychology, and twice as likely to choose geology\n",
    "\n",
    "## What are the respective probabilitities:"
   ]
  },
  {
   "cell_type": "markdown",
   "metadata": {},
   "source": [
    "___\n",
    "\n",
    "# $P(Art) = P(Psychology) = p$\n",
    "\n",
    "# $P(Geology) = 2p$\n",
    "\n",
    "## $1 = P(Art) + P(Psychology) + P(Geology) = p + p + 2p = 4p \\implies p = 1/4$\n",
    "\n",
    "# Therefore:\n",
    "\n",
    "## $P(Art) = P(Psychology) = 1/4$\n",
    "## $P(Geology) = 1/2$"
   ]
  }
 ],
 "metadata": {
  "kernelspec": {
   "display_name": "Python 2",
   "language": "python",
   "name": "python2"
  },
  "language_info": {
   "codemirror_mode": {
    "name": "ipython",
    "version": 2
   },
   "file_extension": ".py",
   "mimetype": "text/x-python",
   "name": "python",
   "nbconvert_exporter": "python",
   "pygments_lexer": "ipython2",
   "version": "2.7.11"
  }
 },
 "nbformat": 4,
 "nbformat_minor": 0
}
