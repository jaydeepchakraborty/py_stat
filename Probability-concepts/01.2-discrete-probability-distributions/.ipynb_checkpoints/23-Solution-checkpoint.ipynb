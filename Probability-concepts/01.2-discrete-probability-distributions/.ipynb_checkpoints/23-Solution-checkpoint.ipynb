{
 "cells": [
  {
   "cell_type": "markdown",
   "metadata": {},
   "source": [
    "# Let $\\Omega = \\left \\{ 0,1,2,3,4,... \\right \\}$ and define a distribution by $m(j) = (1-r)^{j}r$ for some fixed $r$, $0<r<1$ and for $j = 0, 1, 2, ...$\n",
    "\n",
    "# Show that this is a distribution function for $\\Omega$"
   ]
  },
  {
   "cell_type": "markdown",
   "metadata": {},
   "source": [
    "___\n",
    "# Recall: for $m(j)$ to be a distribution function, we need:\n",
    "\n",
    "# 1. $P(E)\\geq 0$ for every $E$ in $\\Omega$\n",
    "# 2. $P(\\Omega) = 1$\n",
    "\n",
    "# The other properties we don't need to worry about"
   ]
  },
  {
   "cell_type": "markdown",
   "metadata": {},
   "source": [
    "# 1. \n",
    "\n",
    "We can see that since $0<r<1$ the function will never be negative"
   ]
  },
  {
   "cell_type": "markdown",
   "metadata": {},
   "source": [
    "# 2. \n",
    "\n",
    "$P(\\Omega) = \\sum m(j) = r \\cdot \\sum (1-r)^j = r\\cdot\\frac{1}{1-(1-r)} = \\frac{r}{r} = 1$"
   ]
  },
  {
   "cell_type": "markdown",
   "metadata": {},
   "source": [
    "# Done"
   ]
  }
 ],
 "metadata": {
  "kernelspec": {
   "display_name": "Python 2",
   "language": "python",
   "name": "python2"
  },
  "language_info": {
   "codemirror_mode": {
    "name": "ipython",
    "version": 2
   },
   "file_extension": ".py",
   "mimetype": "text/x-python",
   "name": "python",
   "nbconvert_exporter": "python",
   "pygments_lexer": "ipython2",
   "version": "2.7.11"
  }
 },
 "nbformat": 4,
 "nbformat_minor": 0
}
