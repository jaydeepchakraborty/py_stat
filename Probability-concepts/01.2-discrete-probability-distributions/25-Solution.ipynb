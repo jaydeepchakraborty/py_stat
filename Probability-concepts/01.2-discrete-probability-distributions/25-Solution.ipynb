{
 "cells": [
  {
   "cell_type": "markdown",
   "metadata": {},
   "source": [
    "# Tversky and Kahneman asked a group of subjects to carry out the following task. They are told that:\n",
    "\n",
    "## Linda is 31, single, outspoken, and very bright. She majored in philosophy in college. As a student, she was deeply concerned with racial discrimination and other social issues, and participated in anti-nuclear demonstrations.\n",
    "\n",
    "# The subjects are then asked to rank the likelihood of various alternatives, such as:\n",
    "\n",
    "(1) Linda is active in the feminist movement.\n",
    "\n",
    "(2) Linda is a bank teller.\n",
    "\n",
    "(3) Linda is a bank teller and active in the feminist movement.\n",
    "\n",
    "# Tversky and Kahneman found that between 85 and 90 percent of the subjects rated alternative (1) most likely, but alternative (3) more likely than alternative (2). Is it? They call this phenomenon the conjunction fallacy, and note that it appears to be unaffected by prior training in probability or statistics.\n",
    "\n",
    "# Is this phenomenon a fallacy? If so, why? Can you give a possible explanation for the subjects' choices?"
   ]
  },
  {
   "cell_type": "markdown",
   "metadata": {},
   "source": [
    "___\n",
    "### It is a fallacy because (3) is contained in option (2) therefore it cannot be more likely\n",
    "\n",
    "![](images/25.png)"
   ]
  },
  {
   "cell_type": "markdown",
   "metadata": {},
   "source": [
    "- One possible explanation is that the subjects figure if she's either a bank teller OR a bank teller who is active in the feminist movement, she's the latter (which is possible)\n",
    "    - But this isn't the quesiton"
   ]
  }
 ],
 "metadata": {
  "kernelspec": {
   "display_name": "Python 2",
   "language": "python",
   "name": "python2"
  },
  "language_info": {
   "codemirror_mode": {
    "name": "ipython",
    "version": 2
   },
   "file_extension": ".py",
   "mimetype": "text/x-python",
   "name": "python",
   "nbconvert_exporter": "python",
   "pygments_lexer": "ipython2",
   "version": "2.7.11"
  }
 },
 "nbformat": 4,
 "nbformat_minor": 0
}
