{
 "cells": [
  {
   "cell_type": "markdown",
   "metadata": {},
   "source": [
    "# A die is rolled until the first time a six turns up. We shall see that the probability that this occurs on the $n^{th}$ roll is $\\left ( \\frac{5}{6} \\right )^{n-1}\\cdot\\frac{1}{6}$\n",
    "\n",
    "# Using this fact, describe the appropriate infinite sample space and distribution function for the experiment\n",
    "\n",
    "# Verify that for your distribution function $\\sum m(w) = 1$"
   ]
  },
  {
   "cell_type": "markdown",
   "metadata": {},
   "source": [
    "___\n",
    "## An appropriate sample space is the set of positive non-zero integers i.e. $\\Omega = \\left \\{ 1,2,3,4,5,...\\right \\}$\n",
    "\n",
    "## An appropriate distribution function is $m(w) = \\left ( \\frac{5}{6} \\right )^{n-1}\\cdot\\frac{1}{6}$\n",
    "\n",
    "## Verifying $\\sum m(w) = 1$\n",
    "\n",
    "### We know for $r<1$ that $\\sum r^{i} = \\frac{r}{1-r}$\n",
    "\n",
    "### Therefore $\\sum m(w) = \\frac{1}{6}\\sum(\\frac{5}{6})^{i-1} = \\frac{\\frac{1}{6}}{\\frac{5}{6}}\\sum(\\frac{5}{6})^{i} = \\frac{1}{5}\\frac{5/6}{1-5/6} = \\frac{1}{5}\\frac{5/6}{1/6} = \\frac{1}{5}\\cdot 5 = 1$"
   ]
  }
 ],
 "metadata": {
  "kernelspec": {
   "display_name": "Python 2",
   "language": "python",
   "name": "python2"
  },
  "language_info": {
   "codemirror_mode": {
    "name": "ipython",
    "version": 2
   },
   "file_extension": ".py",
   "mimetype": "text/x-python",
   "name": "python",
   "nbconvert_exporter": "python",
   "pygments_lexer": "ipython2",
   "version": "2.7.11"
  }
 },
 "nbformat": 4,
 "nbformat_minor": 0
}
