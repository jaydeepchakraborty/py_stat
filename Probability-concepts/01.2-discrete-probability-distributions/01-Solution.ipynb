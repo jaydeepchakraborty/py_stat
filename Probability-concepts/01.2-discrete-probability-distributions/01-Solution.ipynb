{
 "cells": [
  {
   "cell_type": "markdown",
   "metadata": {},
   "source": [
    "# Let $\\Omega = \\left \\{ a, b, c \\right \\}$ be a sample space. Let $m(a) = 1/2$, $m(b) = 1/3$, and $m(c) = 1/6$. Find the probabilities for all eight subsets of $\\Omega$"
   ]
  },
  {
   "cell_type": "markdown",
   "metadata": {},
   "source": [
    "___\n",
    "$ E_{0} = \\left \\{ \\varnothing \\right \\}; P(E_{0}) = 1 - 1/2 - 1/3 - 1//6 = 0$\n",
    "\n",
    "$ E_{1} = \\left \\{ a \\right \\}; P(E_{1}) = 1/2 $\n",
    "\n",
    "$ E_{2} = \\left \\{ b \\right \\}; P(E_{2}) = 1/3 $\n",
    "\n",
    "$ E_{3} = \\left \\{ c \\right \\}; P(E_{3}) = 1/6 $\n",
    "\n",
    "$ E_{4} = \\left \\{ a,b \\right \\}; P(E_{4}) = 1/2 + 1/3  = 5/6$\n",
    "\n",
    "$ E_{5} = \\left \\{ a,c \\right \\}; P(E_{5}) = 1/2 + 1/6  = 2/3$\n",
    "\n",
    "$ E_{6} = \\left \\{ b,c \\right \\}; P(E_{6}) = 1/3 + 1/6  = 1/2$\n",
    "\n",
    "$ E_{7} = \\left \\{ a,b,c \\right \\}; P(E_{7}) = 1/2 + 1/3 + 1/6  = 1/2$"
   ]
  }
 ],
 "metadata": {
  "kernelspec": {
   "display_name": "Python 2",
   "language": "python",
   "name": "python2"
  },
  "language_info": {
   "codemirror_mode": {
    "name": "ipython",
    "version": 2
   },
   "file_extension": ".py",
   "mimetype": "text/x-python",
   "name": "python",
   "nbconvert_exporter": "python",
   "pygments_lexer": "ipython2",
   "version": "2.7.11"
  }
 },
 "nbformat": 4,
 "nbformat_minor": 0
}
