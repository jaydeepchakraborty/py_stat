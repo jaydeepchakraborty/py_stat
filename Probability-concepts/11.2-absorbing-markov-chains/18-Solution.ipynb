{
 "cells": [
  {
   "cell_type": "markdown",
   "metadata": {},
   "source": [
    "# Assume that a student going to a certain four-year medical school has, each year, a probability $q$ of flunking out, $r$ of needing to repeat the year, and $p$ of moving onto the next year\n",
    "\n",
    "## a) Form a transition matrix for this process\n",
    "\n",
    "## b) For the case where $q=0.1$, $r=0.2$ and $q=0.7$, find the time a beginning student can expect to be in second year. How long will this student be in medical school overall?\n",
    "\n",
    "## c) Find the probability that a student will graduate"
   ]
  },
  {
   "cell_type": "markdown",
   "metadata": {},
   "source": [
    "______\n",
    "\n",
    "# a)\n",
    "\n",
    "# $P = \\begin{pmatrix}r & p &  0& 0 & q & 0\\\\ 0 & r & p & 0 & q & 0\\\\ 0 & 0 & r & p & q & 0\\\\ 0 & 0 & 0 & r & q & p\\\\ 0 & 0 & 0 & 0 & 1 & 0\\\\ 0 & 0 & 0 & 0 & 0 & 1\\end{pmatrix}$"
   ]
  },
  {
   "cell_type": "markdown",
   "metadata": {},
   "source": [
    "______\n",
    "\n",
    "# b)\n",
    "\n",
    "# In this case, $P$ is equal to:\n",
    "\n",
    "# $ P = \\begin{pmatrix}0.2 & 0.7 &  0& 0 & 0.1 & 0\\\\ 0 & 0.2 & 0.7 & 0 & 0.1 & 0\\\\ 0 & 0 & 0.2 & 0.7 & 0.1 & 0\\\\ 0 & 0 & 0 & 0.2 & 0.1 & 0.7\\\\ 0 & 0 & 0 & 0 & 1 & 0\\\\ 0 & 0 & 0 & 0 & 0 & 1\\end{pmatrix}$"
   ]
  },
  {
   "cell_type": "markdown",
   "metadata": {},
   "source": [
    "# $\\implies Q = \\begin{pmatrix}0.2 & 0.7 & 0 & 0\\\\ 0 & 0.2 & 0.7 & 0\\\\ 0 & 0 & 0.2 & 0.7\\\\ 0 & 0 & 0 & 0.2\\end{pmatrix}$"
   ]
  },
  {
   "cell_type": "markdown",
   "metadata": {},
   "source": [
    "# $\\implies (I-Q) = \\begin{pmatrix}0.8 & -0.7 & 0 & 0\\\\ 0 & 0.8 & -0.7 & 0\\\\ 0 & 0 & 0.8 & -0.7\\\\ 0 & 0 & 0 & 0.8\\end{pmatrix}$"
   ]
  },
  {
   "cell_type": "markdown",
   "metadata": {},
   "source": [
    "**Using numpy to solve for the inverse**"
   ]
  },
  {
   "cell_type": "code",
   "execution_count": 1,
   "metadata": {
    "collapsed": true
   },
   "outputs": [],
   "source": [
    "import numpy as np"
   ]
  },
  {
   "cell_type": "code",
   "execution_count": 2,
   "metadata": {
    "collapsed": true
   },
   "outputs": [],
   "source": [
    "matrix = np.array([[0.8, -0.7, 0, 0],[0,0.8,-0.7,0],[0,0,0.8,-0.7],[0,0,0,0.8]])"
   ]
  },
  {
   "cell_type": "code",
   "execution_count": 3,
   "metadata": {
    "collapsed": true
   },
   "outputs": [],
   "source": [
    "N = np.linalg.inv(matrix)"
   ]
  },
  {
   "cell_type": "code",
   "execution_count": 4,
   "metadata": {
    "collapsed": false
   },
   "outputs": [
    {
     "data": {
      "text/plain": [
       "array([[ 1.25      ,  1.09375   ,  0.95703125,  0.83740234],\n",
       "       [ 0.        ,  1.25      ,  1.09375   ,  0.95703125],\n",
       "       [ 0.        ,  0.        ,  1.25      ,  1.09375   ],\n",
       "       [ 0.        ,  0.        ,  0.        ,  1.25      ]])"
      ]
     },
     "execution_count": 4,
     "metadata": {},
     "output_type": "execute_result"
    }
   ],
   "source": [
    "N"
   ]
  },
  {
   "cell_type": "markdown",
   "metadata": {},
   "source": [
    "# $N = \\begin{pmatrix}1.25 & 1.09375 & 0.95703125 & 0.83740234\\\\ 0 & 1.25 & 1.09375 & 0.95703125\\\\ 0 & 0 & 1.25 & 1.09375\\\\ 0 & 0 & 0 & 1.25\\end{pmatrix}$"
   ]
  },
  {
   "cell_type": "markdown",
   "metadata": {},
   "source": [
    "# To figure out the time spent in second year, we first solve for $t = Nc$"
   ]
  },
  {
   "cell_type": "code",
   "execution_count": 5,
   "metadata": {
    "collapsed": true
   },
   "outputs": [],
   "source": [
    "c = np.array([[1],[1],[1],[1]])\n",
    "Nc = np.matmul(N, c)"
   ]
  },
  {
   "cell_type": "code",
   "execution_count": 6,
   "metadata": {
    "collapsed": false
   },
   "outputs": [
    {
     "data": {
      "text/plain": [
       "array([[ 4.13818359],\n",
       "       [ 3.30078125],\n",
       "       [ 2.34375   ],\n",
       "       [ 1.25      ]])"
      ]
     },
     "execution_count": 6,
     "metadata": {},
     "output_type": "execute_result"
    }
   ],
   "source": [
    "Nc"
   ]
  },
  {
   "cell_type": "markdown",
   "metadata": {},
   "source": [
    "# So our time to absorption from state 2 is 3.301\n",
    "\n",
    "# To solve for the time spent in state 2, we can subtract from this the time to absorption for state 3 (2.344)\n",
    "\n",
    "# $\\implies (\\text{Time spent in state 2}) = 3.301-2.344 = 0.957$"
   ]
  },
  {
   "cell_type": "markdown",
   "metadata": {},
   "source": [
    "# The total time spent in med school is the time to absorption in the first row i.e. 4.14 years"
   ]
  },
  {
   "cell_type": "markdown",
   "metadata": {},
   "source": [
    "_____\n",
    "\n",
    "# c)\n",
    "\n",
    "# To calculate the probability of graduating, we solve for $B = NR$"
   ]
  },
  {
   "cell_type": "markdown",
   "metadata": {},
   "source": [
    "# $R = \\begin{pmatrix}0.1 & 0\\\\ 0.1 & 0\\\\ 0.1 & 0\\\\ 0.1 & 0.7\\end{pmatrix}$"
   ]
  },
  {
   "cell_type": "code",
   "execution_count": 8,
   "metadata": {
    "collapsed": true
   },
   "outputs": [],
   "source": [
    "R = np.array([[0.1,0],[0.1,0],[0.1,0],[0.1,0.7]])"
   ]
  },
  {
   "cell_type": "code",
   "execution_count": 9,
   "metadata": {
    "collapsed": true
   },
   "outputs": [],
   "source": [
    "NR = np.matmul(N, R)"
   ]
  },
  {
   "cell_type": "code",
   "execution_count": 10,
   "metadata": {
    "collapsed": false
   },
   "outputs": [
    {
     "data": {
      "text/plain": [
       "array([[ 0.41381836,  0.58618164],\n",
       "       [ 0.33007812,  0.66992188],\n",
       "       [ 0.234375  ,  0.765625  ],\n",
       "       [ 0.125     ,  0.875     ]])"
      ]
     },
     "execution_count": 10,
     "metadata": {},
     "output_type": "execute_result"
    }
   ],
   "source": [
    "NR"
   ]
  },
  {
   "cell_type": "markdown",
   "metadata": {},
   "source": [
    "# We get the probability of graduating medical school by taking the top right value in our matrix above i.e. 0.586"
   ]
  },
  {
   "cell_type": "markdown",
   "metadata": {},
   "source": [
    "_____\n",
    "\n",
    "### We can confirm this result by simulation"
   ]
  },
  {
   "cell_type": "code",
   "execution_count": 25,
   "metadata": {
    "collapsed": false
   },
   "outputs": [],
   "source": [
    "def sim_med_school():\n",
    "    year = 1\n",
    "    i = 0\n",
    "    while year <= 4:\n",
    "        i += 1\n",
    "        rand = np.random.random()\n",
    "        if rand < 0.1:\n",
    "            return 0, i\n",
    "        elif rand < 0.1 + 0.2:\n",
    "            pass\n",
    "        else:\n",
    "            year += 1\n",
    "    return 1, i"
   ]
  },
  {
   "cell_type": "code",
   "execution_count": 31,
   "metadata": {
    "collapsed": false
   },
   "outputs": [],
   "source": [
    "list_graduated = []\n",
    "list_n_years = []\n",
    "\n",
    "for i in range(100000):\n",
    "    grad, n_years = sim_med_school()\n",
    "    list_graduated.append(grad)\n",
    "    list_n_years.append(n_years)"
   ]
  },
  {
   "cell_type": "code",
   "execution_count": 32,
   "metadata": {
    "collapsed": false
   },
   "outputs": [
    {
     "data": {
      "text/plain": [
       "0.58662000000000003"
      ]
     },
     "execution_count": 32,
     "metadata": {},
     "output_type": "execute_result"
    }
   ],
   "source": [
    "np.mean(list_graduated)"
   ]
  },
  {
   "cell_type": "code",
   "execution_count": 33,
   "metadata": {
    "collapsed": false
   },
   "outputs": [
    {
     "data": {
      "text/plain": [
       "4.1456400000000002"
      ]
     },
     "execution_count": 33,
     "metadata": {},
     "output_type": "execute_result"
    }
   ],
   "source": [
    "np.mean(list_n_years)"
   ]
  },
  {
   "cell_type": "markdown",
   "metadata": {},
   "source": [
    "### Both are bang on"
   ]
  }
 ],
 "metadata": {
  "kernelspec": {
   "display_name": "Python 2",
   "language": "python",
   "name": "python2"
  },
  "language_info": {
   "codemirror_mode": {
    "name": "ipython",
    "version": 2
   },
   "file_extension": ".py",
   "mimetype": "text/x-python",
   "name": "python",
   "nbconvert_exporter": "python",
   "pygments_lexer": "ipython2",
   "version": "2.7.11"
  }
 },
 "nbformat": 4,
 "nbformat_minor": 0
}
