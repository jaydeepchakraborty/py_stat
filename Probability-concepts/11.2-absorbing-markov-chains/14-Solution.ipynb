{
 "cells": [
  {
   "cell_type": "markdown",
   "metadata": {},
   "source": [
    "# With the situation in Exercise 13, consider the strategy such that for $i<4$, Smith bets $min(i, 4-i)$ and for $i\\geq 4$, he uses the bold strategy where $i$ is his current fortune\n",
    "\n",
    "# Find the probability that he gets out of jail using this strategy\n",
    "\n",
    "# How does the probability compare to that of the bold strategy?"
   ]
  },
  {
   "cell_type": "markdown",
   "metadata": {},
   "source": [
    "____\n",
    "\n",
    "- He starts at state 3, and according to the rule he bets $min(3, 4-3) = 1$\n",
    "    - Therefore, he has probability 0.4 of ending up in state 4 and probability 0.6 of ending up in state 2\n",
    "- If he ends up in state 2, he'll bet $min(2, 4-2) = 2$\n",
    "    - Ends up in state 0 with probability 0.6\n",
    "    - Ends up in state 4 with probability 0.4\n",
    "- If he ends up in state 4, he'll bet 4\n",
    "    - Ends up in state 0 with probability 0.6\n",
    "    - Ends up in state 8 with probability 0.4\n",
    "    \n",
    "### Therefore, this process has 3 transient states (3, 2, and 4) and 2 absorbing states (0 and 8)\n",
    "\n",
    "### We define $P$ as:"
   ]
  },
  {
   "cell_type": "markdown",
   "metadata": {},
   "source": [
    "# $P = \\begin{pmatrix}0 & 0.6 & 0.4 & 0 & 0\\\\ 0 & 0 & 0.4 & 0 & 0.6\\\\ 0 & 0 & 0 & 0.4 & 0.6\\\\ 0 & 0 & 0 & 1 & 0\\\\ 0 & 0 & 0 & 0 & 1\\end{pmatrix}$"
   ]
  },
  {
   "cell_type": "markdown",
   "metadata": {},
   "source": [
    "# $\\implies Q = \\begin{pmatrix}0 & 0.6 & 0.4\\\\ 0 & 0 & 0.4\\\\ 0 & 0 & 0\\end{pmatrix}$"
   ]
  },
  {
   "cell_type": "markdown",
   "metadata": {},
   "source": [
    "# $\\implies (I-Q) = \\begin{pmatrix}1 & -0.6 & -0.4\\\\ 0 & 1 & -0.4\\\\ 0 & 0 & 1\\end{pmatrix}$"
   ]
  },
  {
   "cell_type": "markdown",
   "metadata": {},
   "source": [
    "**Using numpy to calculate the inverse**"
   ]
  },
  {
   "cell_type": "code",
   "execution_count": 2,
   "metadata": {
    "collapsed": true
   },
   "outputs": [],
   "source": [
    "import numpy as np"
   ]
  },
  {
   "cell_type": "code",
   "execution_count": 3,
   "metadata": {
    "collapsed": false
   },
   "outputs": [],
   "source": [
    "matrix = np.array([[1,-0.6,-0.4],[0,1,-0.4],[0,0,1]])"
   ]
  },
  {
   "cell_type": "code",
   "execution_count": 4,
   "metadata": {
    "collapsed": true
   },
   "outputs": [],
   "source": [
    "N = np.linalg.inv(matrix)"
   ]
  },
  {
   "cell_type": "code",
   "execution_count": 5,
   "metadata": {
    "collapsed": false
   },
   "outputs": [
    {
     "data": {
      "text/plain": [
       "array([[ 1.  ,  0.6 ,  0.64],\n",
       "       [ 0.  ,  1.  ,  0.4 ],\n",
       "       [ 0.  ,  0.  ,  1.  ]])"
      ]
     },
     "execution_count": 5,
     "metadata": {},
     "output_type": "execute_result"
    }
   ],
   "source": [
    "N"
   ]
  },
  {
   "cell_type": "markdown",
   "metadata": {},
   "source": [
    "# $\\implies N = \\begin{pmatrix}1 & 0.6 & 0.64\\\\ 0 & 1 & 0.4\\\\ 0 & 0 & 1\\end{pmatrix}$"
   ]
  },
  {
   "cell_type": "markdown",
   "metadata": {},
   "source": [
    "# $R = \\begin{pmatrix}0 & 0\\\\ 0 & 0.6\\\\0.4 & 0.6\\end{pmatrix}$"
   ]
  },
  {
   "cell_type": "code",
   "execution_count": 6,
   "metadata": {
    "collapsed": true
   },
   "outputs": [],
   "source": [
    "R = np.array([[0,0],[0,0.6],[0.4,0.6]])\n",
    "NR = np.matmul(N,R)"
   ]
  },
  {
   "cell_type": "code",
   "execution_count": 7,
   "metadata": {
    "collapsed": false
   },
   "outputs": [
    {
     "data": {
      "text/plain": [
       "array([[ 0.256,  0.744],\n",
       "       [ 0.16 ,  0.84 ],\n",
       "       [ 0.4  ,  0.6  ]])"
      ]
     },
     "execution_count": 7,
     "metadata": {},
     "output_type": "execute_result"
    }
   ],
   "source": [
    "NR"
   ]
  },
  {
   "cell_type": "markdown",
   "metadata": {},
   "source": [
    "## We start in state 3 so we only care about the first row"
   ]
  },
  {
   "cell_type": "markdown",
   "metadata": {},
   "source": [
    "# $[0.256,  0.744]$"
   ]
  },
  {
   "cell_type": "markdown",
   "metadata": {},
   "source": [
    "# Using this strategy, he has around a 26% chance of winning\n",
    "\n",
    "# That's higher than the bold strategy on its own"
   ]
  }
 ],
 "metadata": {
  "kernelspec": {
   "display_name": "Python 2",
   "language": "python",
   "name": "python2"
  },
  "language_info": {
   "codemirror_mode": {
    "name": "ipython",
    "version": 2
   },
   "file_extension": ".py",
   "mimetype": "text/x-python",
   "name": "python",
   "nbconvert_exporter": "python",
   "pygments_lexer": "ipython2",
   "version": "2.7.11"
  }
 },
 "nbformat": 4,
 "nbformat_minor": 0
}
