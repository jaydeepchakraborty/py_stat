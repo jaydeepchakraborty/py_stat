{
 "cells": [
  {
   "cell_type": "markdown",
   "metadata": {},
   "source": [
    "# We convert the Land of Oz transition matrix to have an absorbing state\n",
    "\n",
    "![](images/6-1.PNG)"
   ]
  },
  {
   "cell_type": "markdown",
   "metadata": {},
   "source": [
    "## a) Solve for $N$\n",
    "\n",
    "## b) Solve for $Nc$\n",
    "\n",
    "## c) Solve fore $NR$"
   ]
  },
  {
   "cell_type": "markdown",
   "metadata": {},
   "source": [
    "_____\n",
    "\n",
    "# a)\n",
    "\n",
    "### First, we convert it to its canonical form\n",
    "\n",
    "# $\\begin{pmatrix}0 & 1/2 & 1/2\\\\ 1/4 & 1/2 & 1/4\\\\0 & 0 & 1\\end{pmatrix}$"
   ]
  },
  {
   "cell_type": "markdown",
   "metadata": {},
   "source": [
    "# $\\implies Q= \\begin{pmatrix}0 & 1/2\\\\1/4 & 1/2\\end{pmatrix}$"
   ]
  },
  {
   "cell_type": "markdown",
   "metadata": {},
   "source": [
    "# $ \\implies (I-Q) = \\begin{pmatrix}1 & -1/2\\\\-1/4 & 1/2\\end{pmatrix}$"
   ]
  },
  {
   "cell_type": "code",
   "execution_count": 1,
   "metadata": {
    "collapsed": true
   },
   "outputs": [],
   "source": [
    "import numpy as np"
   ]
  },
  {
   "cell_type": "code",
   "execution_count": 2,
   "metadata": {
    "collapsed": false
   },
   "outputs": [
    {
     "data": {
      "text/plain": [
       "array([[ 1.33333333,  1.33333333],\n",
       "       [ 0.66666667,  2.66666667]])"
      ]
     },
     "execution_count": 2,
     "metadata": {},
     "output_type": "execute_result"
    }
   ],
   "source": [
    "matrix = np.array([[1,-0.5],[-0.25,0.5]])\n",
    "N = np.linalg.inv(matrix)\n",
    "N"
   ]
  },
  {
   "cell_type": "markdown",
   "metadata": {},
   "source": [
    "# $\\implies N = \\begin{pmatrix}4/3 & 4/3\\\\2/3 & 8/3\\end{pmatrix}$"
   ]
  },
  {
   "cell_type": "markdown",
   "metadata": {},
   "source": [
    "_______\n",
    "\n",
    "# b)\n",
    "\n",
    "# $Nc = \\begin{pmatrix}4/3 & 4/3\\\\2/3 & 8/3\\end{pmatrix} \\begin{pmatrix}1\\\\1\\end{pmatrix} = \\begin{pmatrix}8/3\\\\10/3\\end{pmatrix}$"
   ]
  },
  {
   "cell_type": "markdown",
   "metadata": {},
   "source": [
    "### This means that the expected number of nice days is just under 3, and the expected number of snowy days is 3"
   ]
  },
  {
   "cell_type": "markdown",
   "metadata": {},
   "source": [
    "_____\n",
    "\n",
    "# c)\n",
    "\n",
    "# $R = \\begin{pmatrix}1/2\\\\1/4\\end{pmatrix}$"
   ]
  },
  {
   "cell_type": "markdown",
   "metadata": {},
   "source": [
    "# $\\implies NR =  \\begin{pmatrix}4/3 & 4/3\\\\2/3 & 8/3\\end{pmatrix}\\begin{pmatrix}1/2\\\\1/4\\end{pmatrix}$"
   ]
  },
  {
   "cell_type": "markdown",
   "metadata": {},
   "source": [
    "# $= \\begin{pmatrix}(4/3)(1/2)+(4/3)(1/4)\\\\(2/3)(1/2)+(8/3)(1/4)\\end{pmatrix}$"
   ]
  },
  {
   "cell_type": "markdown",
   "metadata": {},
   "source": [
    "# $= \\begin{pmatrix}1\\\\1\\end{pmatrix}$"
   ]
  }
 ],
 "metadata": {
  "kernelspec": {
   "display_name": "Python 2",
   "language": "python",
   "name": "python2"
  },
  "language_info": {
   "codemirror_mode": {
    "name": "ipython",
    "version": 2
   },
   "file_extension": ".py",
   "mimetype": "text/x-python",
   "name": "python",
   "nbconvert_exporter": "python",
   "pygments_lexer": "ipython2",
   "version": "2.7.11"
  }
 },
 "nbformat": 4,
 "nbformat_minor": 0
}
