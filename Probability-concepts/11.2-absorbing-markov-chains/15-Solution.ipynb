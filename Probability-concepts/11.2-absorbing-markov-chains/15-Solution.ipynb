{
 "cells": [
  {
   "cell_type": "markdown",
   "metadata": {},
   "source": [
    "# Consider the game of tennis when *deuce* is reached\n",
    "\n",
    "# If a player wins the next point, he has *advantage*\n",
    "\n",
    "# On the following point, he either wins the game or the game returns to *deuce*\n",
    "\n",
    "# Assume that for any point, player A has probability 0.6 of winning the point and player B has probability 0.4 of winning the point\n",
    "\n",
    "## a) Set this up as a Markov chain with states: A wins, B wins, advantage A, deuce, advantage B\n",
    "\n",
    "## b) Find the absorption probabilities\n",
    "\n",
    "## c) At deuce, find the expected duration of the game and the probability that B will win"
   ]
  },
  {
   "cell_type": "markdown",
   "metadata": {},
   "source": [
    "_________\n",
    "\n",
    "# a)\n",
    "\n",
    "## We know that A wins and B wins are absorbing states, so we $P$'s canonical form is given by:"
   ]
  },
  {
   "cell_type": "markdown",
   "metadata": {},
   "source": [
    "# $P = \\begin{pmatrix}0 & 0.6 & 0.4 & 0 & 0\\\\ 0.4 & 0 & 0 & 0.6 & 0\\\\ 0.6 & 0 & 0 & 0 & 0.4\\\\ 0 & 0 & 0 & 1 & 0\\\\ 0 & 0 & 0 & 0 & 1\\end{pmatrix}$"
   ]
  },
  {
   "cell_type": "markdown",
   "metadata": {},
   "source": [
    "# where the rows/columns states are deuce, Adv. A, Adv. B, Win A, and Win B respectively"
   ]
  },
  {
   "cell_type": "markdown",
   "metadata": {},
   "source": [
    "____\n",
    "\n",
    "# b)"
   ]
  },
  {
   "cell_type": "markdown",
   "metadata": {},
   "source": [
    "# $\\implies Q = \\begin{pmatrix}0 & 0.6 & 0.4\\\\ 0.4 & 0 & 0\\\\ 0.6 & 0 & 0\\end{pmatrix}$"
   ]
  },
  {
   "cell_type": "markdown",
   "metadata": {},
   "source": [
    "# $\\implies (I-Q) = \\begin{pmatrix}1 & -0.6 & -0.4\\\\ -0.4 & 1 & 0\\\\ -0.6 & 0 & 1\\end{pmatrix}$"
   ]
  },
  {
   "cell_type": "markdown",
   "metadata": {},
   "source": [
    "**Using numpy to calculate inverse**"
   ]
  },
  {
   "cell_type": "code",
   "execution_count": 1,
   "metadata": {
    "collapsed": true
   },
   "outputs": [],
   "source": [
    "import numpy as np"
   ]
  },
  {
   "cell_type": "code",
   "execution_count": 2,
   "metadata": {
    "collapsed": true
   },
   "outputs": [],
   "source": [
    "matrix = np.array([[1, -0.6, -0.4],[-0.4, 1, 0], [-0.6, 0, 1]])"
   ]
  },
  {
   "cell_type": "code",
   "execution_count": 3,
   "metadata": {
    "collapsed": true
   },
   "outputs": [],
   "source": [
    "N = np.linalg.inv(matrix)"
   ]
  },
  {
   "cell_type": "code",
   "execution_count": 4,
   "metadata": {
    "collapsed": false
   },
   "outputs": [
    {
     "data": {
      "text/plain": [
       "array([[ 1.92307692,  1.15384615,  0.76923077],\n",
       "       [ 0.76923077,  1.46153846,  0.30769231],\n",
       "       [ 1.15384615,  0.69230769,  1.46153846]])"
      ]
     },
     "execution_count": 4,
     "metadata": {},
     "output_type": "execute_result"
    }
   ],
   "source": [
    "N"
   ]
  },
  {
   "cell_type": "markdown",
   "metadata": {},
   "source": [
    "# $\\implies N = \\begin{pmatrix}1.92307692 & 1.15384615 & 0.76923077\\\\ 0.76923077 & 1.46153846 & 0.30769231\\\\ 1.15384615 & 0.69230769 & 1.46153846\\end{pmatrix}$"
   ]
  },
  {
   "cell_type": "markdown",
   "metadata": {},
   "source": [
    "# $R = \\begin{pmatrix}0 & 0\\\\ 0.6 & 0\\\\ 0 & 0.4\\end{pmatrix}$"
   ]
  },
  {
   "cell_type": "code",
   "execution_count": 5,
   "metadata": {
    "collapsed": true
   },
   "outputs": [],
   "source": [
    "R = np.array([[0,0],[0.6,0],[0,0.4]])"
   ]
  },
  {
   "cell_type": "code",
   "execution_count": 6,
   "metadata": {
    "collapsed": true
   },
   "outputs": [],
   "source": [
    "NR = np.matmul(N,R)"
   ]
  },
  {
   "cell_type": "code",
   "execution_count": 7,
   "metadata": {
    "collapsed": false
   },
   "outputs": [
    {
     "data": {
      "text/plain": [
       "array([[ 0.69230769,  0.30769231],\n",
       "       [ 0.87692308,  0.12307692],\n",
       "       [ 0.41538462,  0.58461538]])"
      ]
     },
     "execution_count": 7,
     "metadata": {},
     "output_type": "execute_result"
    }
   ],
   "source": [
    "NR"
   ]
  },
  {
   "cell_type": "markdown",
   "metadata": {},
   "source": [
    "# $\\implies NR = B = \\begin{pmatrix}0.69230769 & 0.30769231\\\\ 0.87692308 & 0.12307692\\\\ 0.41538462 & 0.58461538\\end{pmatrix}$"
   ]
  },
  {
   "cell_type": "markdown",
   "metadata": {},
   "source": [
    "_____\n",
    "\n",
    "# c)\n",
    "\n",
    "# Since we already calculated $B$, we look at top right value in the matrix to see the probability that $B$ wins given a deuce\n",
    "\n",
    "# $P(\\text{B wins}|\\text{Deuce}) = 0.307$"
   ]
  },
  {
   "cell_type": "markdown",
   "metadata": {},
   "source": [
    "# We find the time to absorption by calculating $Nc$ and taking the value in the top row"
   ]
  },
  {
   "cell_type": "code",
   "execution_count": 8,
   "metadata": {
    "collapsed": true
   },
   "outputs": [],
   "source": [
    "c = np.array([[1],[1],[1]])\n",
    "Nc = np.matmul(N,c)"
   ]
  },
  {
   "cell_type": "code",
   "execution_count": 9,
   "metadata": {
    "collapsed": false
   },
   "outputs": [
    {
     "data": {
      "text/plain": [
       "array([[ 3.84615385],\n",
       "       [ 2.53846154],\n",
       "       [ 3.30769231]])"
      ]
     },
     "execution_count": 9,
     "metadata": {},
     "output_type": "execute_result"
    }
   ],
   "source": [
    "Nc"
   ]
  },
  {
   "cell_type": "markdown",
   "metadata": {},
   "source": [
    "# $\\implies t = Nc = \\begin{pmatrix}3.84615385\\\\ 2.53846154\\\\ 3.30769231\\end{pmatrix}$"
   ]
  },
  {
   "cell_type": "markdown",
   "metadata": {},
   "source": [
    "# Therefore, if the game has reached a deuce, we expect it to end in 3.85 rallies"
   ]
  },
  {
   "cell_type": "markdown",
   "metadata": {},
   "source": [
    "______\n",
    "\n",
    "### Let's confirm this result by simulation"
   ]
  },
  {
   "cell_type": "code",
   "execution_count": 25,
   "metadata": {
    "collapsed": true
   },
   "outputs": [],
   "source": [
    "def game_sim():\n",
    "    A_score = 0\n",
    "    B_score = 0\n",
    "    \n",
    "    i = 0\n",
    "    while (A_score<2)&(B_score<2):\n",
    "        i += 1\n",
    "        rally = np.random.random()\n",
    "        if rally > 0.4:\n",
    "            if B_score == 1:\n",
    "                B_score = 0\n",
    "            else:\n",
    "                A_score += 1\n",
    "        else:\n",
    "            if A_score == 1:\n",
    "                A_score = 0\n",
    "            else:\n",
    "                B_score += 1\n",
    "                \n",
    "    return 1*(A_score<B_score), i"
   ]
  },
  {
   "cell_type": "code",
   "execution_count": 26,
   "metadata": {
    "collapsed": false
   },
   "outputs": [],
   "source": [
    "list_wins = []\n",
    "list_rallies = []\n",
    "\n",
    "for j in range(10000):\n",
    "    win, rallies = game_sim()\n",
    "    list_wins.append(win)\n",
    "    list_rallies.append(rallies)"
   ]
  },
  {
   "cell_type": "code",
   "execution_count": 27,
   "metadata": {
    "collapsed": false
   },
   "outputs": [
    {
     "data": {
      "text/plain": [
       "0.30769999999999997"
      ]
     },
     "execution_count": 27,
     "metadata": {},
     "output_type": "execute_result"
    }
   ],
   "source": [
    "np.mean(list_wins)"
   ]
  },
  {
   "cell_type": "code",
   "execution_count": 28,
   "metadata": {
    "collapsed": false
   },
   "outputs": [
    {
     "data": {
      "text/plain": [
       "3.8490000000000002"
      ]
     },
     "execution_count": 28,
     "metadata": {},
     "output_type": "execute_result"
    }
   ],
   "source": [
    "np.mean(list_rallies)"
   ]
  },
  {
   "cell_type": "markdown",
   "metadata": {},
   "source": [
    "### Both are bang on"
   ]
  }
 ],
 "metadata": {
  "kernelspec": {
   "display_name": "Python 2",
   "language": "python",
   "name": "python2"
  },
  "language_info": {
   "codemirror_mode": {
    "name": "ipython",
    "version": 2
   },
   "file_extension": ".py",
   "mimetype": "text/x-python",
   "name": "python",
   "nbconvert_exporter": "python",
   "pygments_lexer": "ipython2",
   "version": "2.7.11"
  }
 },
 "nbformat": 4,
 "nbformat_minor": 0
}
