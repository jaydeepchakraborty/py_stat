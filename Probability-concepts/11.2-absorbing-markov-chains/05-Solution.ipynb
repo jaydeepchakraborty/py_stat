{
 "cells": [
  {
   "cell_type": "markdown",
   "metadata": {},
   "source": [
    "# For Example 11.11, verify that the fundamental matrix is equal to\n",
    "\n",
    "![](images/5.PNG)\n",
    "\n",
    "# Find $Nc$ and $NR$"
   ]
  },
  {
   "cell_type": "markdown",
   "metadata": {},
   "source": [
    "_____\n",
    "\n",
    "![](../11.1-intro-to-markov-chains/images/11.11-matrix.PNG)"
   ]
  },
  {
   "cell_type": "markdown",
   "metadata": {},
   "source": [
    "### We convert this to its canonical form"
   ]
  },
  {
   "cell_type": "markdown",
   "metadata": {},
   "source": [
    "# $P = \\begin{pmatrix}1/2 & 0 & 1/4 & 0 & 1/4 & 0\\\\ 0 & 0 & 1 & 0 & 0 & 0\\\\ 1/4 & 1/8 & 1/4 & 1/4 & 1/16 & 1/16\\\\ 0 & 0 & 1/4 & 1/2 & 0 & 1/4\\\\ 0 & 0 & 0 & 0 & 1 & 0\\\\ 0 & 0 & 0 & 0 & 0 & 1\\end{pmatrix}$"
   ]
  },
  {
   "cell_type": "markdown",
   "metadata": {},
   "source": [
    "# $Q = \\begin{pmatrix}1/2 & 0 & 1/4 & 0\\\\ 0 & 0 & 1 & 0\\\\ 1/4 & 1/8 & 1/4 & 1/4\\\\ 0 &  0&  1/4& 1/2\\end{pmatrix}$"
   ]
  },
  {
   "cell_type": "markdown",
   "metadata": {},
   "source": [
    "# $\\implies (I-Q) = \\begin{pmatrix}1/2 & 0 & -1/4 & 0\\\\ 0 & 1 & -1 & 0\\\\ -1/4 & -1/8 & 3/4 & -1/4\\\\ 0 & 0 & -1/4 & 1/2\\end{pmatrix}$"
   ]
  },
  {
   "cell_type": "code",
   "execution_count": 1,
   "metadata": {
    "collapsed": true
   },
   "outputs": [],
   "source": [
    "import numpy as np"
   ]
  },
  {
   "cell_type": "code",
   "execution_count": 7,
   "metadata": {
    "collapsed": false
   },
   "outputs": [],
   "source": [
    "matrix = np.array([[0.5,0,-0.25,0],\n",
    "                  [0,1,-1,0],\n",
    "                  [-0.25,-0.125,0.75,-0.25],\n",
    "                  [0,0,-0.25,0.5]])"
   ]
  },
  {
   "cell_type": "code",
   "execution_count": 8,
   "metadata": {
    "collapsed": false
   },
   "outputs": [
    {
     "data": {
      "text/plain": [
       "array([[ 2.66666667,  0.16666667,  1.33333333,  0.66666667],\n",
       "       [ 1.33333333,  1.33333333,  2.66666667,  1.33333333],\n",
       "       [ 1.33333333,  0.33333333,  2.66666667,  1.33333333],\n",
       "       [ 0.66666667,  0.16666667,  1.33333333,  2.66666667]])"
      ]
     },
     "execution_count": 8,
     "metadata": {},
     "output_type": "execute_result"
    }
   ],
   "source": [
    "N = np.linalg.inv(matrix)\n",
    "N"
   ]
  },
  {
   "cell_type": "markdown",
   "metadata": {},
   "source": [
    "# We derived the same fundamental matrix"
   ]
  },
  {
   "cell_type": "markdown",
   "metadata": {},
   "source": [
    "# $c = \\begin{bmatrix}1\\\\ 1\\\\ 1\\\\ 1\\end{bmatrix} \\implies Nc = \\begin{bmatrix}8/3+1/6+4/3+2/3\\\\ 4/3+4/3+8/3+4/3\\\\ 4/3+1/3+8/3+4/3\\\\ 2/3+1/6+4/3+8/3\\end{bmatrix} =  \\begin{bmatrix}29/6\\\\ 20/3\\\\ 17/3\\\\ 29/6\\end{bmatrix}$"
   ]
  },
  {
   "cell_type": "markdown",
   "metadata": {},
   "source": [
    "# $R = \\begin{pmatrix}1/4 & 0\\\\ 0 & 0\\\\ 1/16 & 1/16\\\\ 0 & 1/4\\end{pmatrix}$"
   ]
  },
  {
   "cell_type": "markdown",
   "metadata": {},
   "source": [
    "**Don't feel like calculating everything by hand, will use numpy**"
   ]
  },
  {
   "cell_type": "code",
   "execution_count": 10,
   "metadata": {
    "collapsed": true
   },
   "outputs": [],
   "source": [
    "R = np.array([[0.25,0],\n",
    "             [0,0],\n",
    "             [0.0625,0.0625],\n",
    "             [0, 0.25]])"
   ]
  },
  {
   "cell_type": "code",
   "execution_count": 11,
   "metadata": {
    "collapsed": false
   },
   "outputs": [
    {
     "data": {
      "text/plain": [
       "array([[ 0.75,  0.25],\n",
       "       [ 0.5 ,  0.5 ],\n",
       "       [ 0.5 ,  0.5 ],\n",
       "       [ 0.25,  0.75]])"
      ]
     },
     "execution_count": 11,
     "metadata": {},
     "output_type": "execute_result"
    }
   ],
   "source": [
    "np.matmul(N,R)"
   ]
  },
  {
   "cell_type": "markdown",
   "metadata": {},
   "source": [
    "# $\\implies NR = \\begin{pmatrix}3/4 & 1/4\\\\ 1/2 & 1/2\\\\ 1/2 & 1/2\\\\ 1/4 & 3/4\\end{pmatrix}$"
   ]
  }
 ],
 "metadata": {
  "kernelspec": {
   "display_name": "Python 2",
   "language": "python",
   "name": "python2"
  },
  "language_info": {
   "codemirror_mode": {
    "name": "ipython",
    "version": 2
   },
   "file_extension": ".py",
   "mimetype": "text/x-python",
   "name": "python",
   "nbconvert_exporter": "python",
   "pygments_lexer": "ipython2",
   "version": "2.7.11"
  }
 },
 "nbformat": 4,
 "nbformat_minor": 0
}
