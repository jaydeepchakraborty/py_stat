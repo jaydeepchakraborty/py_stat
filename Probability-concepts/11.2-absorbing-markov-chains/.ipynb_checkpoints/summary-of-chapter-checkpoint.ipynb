{
 "cells": [
  {
   "cell_type": "markdown",
   "metadata": {},
   "source": [
    "# *Absorbing Markov Chain*\n",
    "\n",
    "### A state $s_{i}$ is an *absorbing state* if $p_{ii}=1$ i.e. it is impossible to go from $s_{i}$ to any other state\n",
    "\n",
    "### A Markov chain is absorbing if:\n",
    "\n",
    "#### 1. It has some state $s_{i}$ that is an absorbing state\n",
    "\n",
    "#### 2. It is possible to transition to the absorbing state from every other state in the process"
   ]
  },
  {
   "cell_type": "markdown",
   "metadata": {},
   "source": [
    "_____\n",
    "\n",
    "# *Transient State*\n",
    "\n",
    "### A transient state in a absorbing Markov chain is any state that isn't absorbing"
   ]
  },
  {
   "cell_type": "markdown",
   "metadata": {},
   "source": [
    "____\n",
    "\n",
    "\n",
    "# *Drunkard's Walk*\n",
    "\n",
    "### A man walks along a four block stretch of Park Avenue\n",
    "\n",
    "### If he is at corner 1, 2, or 3, he walks to the left or right with equal probability\n",
    "\n",
    "### He continues until he reaches corner 4, which is a bar, or corner 0, which is his home. If he reaches either, he stays there\n",
    "\n",
    "### We can create the following Markov chain representation of his walk\n",
    "\n",
    "![](images/ex-11-13.PNG)"
   ]
  },
  {
   "cell_type": "markdown",
   "metadata": {},
   "source": [
    "### So, from our definitions, states 0 and 4 are absorbing states and states 1, 2, and 3 are transient\n",
    "\n",
    "### This is an absorbing Markov chain\n",
    "\n",
    "### When we reach an absorbing state, we say that the process is absorbed"
   ]
  },
  {
   "cell_type": "markdown",
   "metadata": {},
   "source": [
    "## Questions we can ask\n",
    "\n",
    "### 1. What is the probability that a process will end up being absorbed?\n",
    "\n",
    "### 2. What is the probability that the process will end up being absorbed by a given absorbing state?\n",
    "\n",
    "### 3. How long can we expect it to take for a process to be absorbed?\n",
    "\n",
    "### 4. How much time can we expect a process to spend in a given transient state?\n",
    "\n",
    "\n",
    "### The answers to these questions depend on a) what state we start, and b) the transition probabilities"
   ]
  },
  {
   "cell_type": "markdown",
   "metadata": {},
   "source": [
    "### Let's calculate the probabilities"
   ]
  },
  {
   "cell_type": "code",
   "execution_count": 3,
   "metadata": {
    "collapsed": true
   },
   "outputs": [],
   "source": [
    "import numpy as np\n",
    "import matplotlib.pyplot as plt\n",
    "import pandas as pd\n",
    "%matplotlib inline\n",
    "plt.rcParams['figure.figsize'] = 10, 10"
   ]
  },
  {
   "cell_type": "code",
   "execution_count": 5,
   "metadata": {
    "collapsed": false
   },
   "outputs": [
    {
     "data": {
      "text/html": [
       "<div>\n",
       "<table border=\"1\" class=\"dataframe\">\n",
       "  <thead>\n",
       "    <tr style=\"text-align: right;\">\n",
       "      <th></th>\n",
       "      <th>0</th>\n",
       "      <th>1</th>\n",
       "      <th>2</th>\n",
       "      <th>3</th>\n",
       "      <th>4</th>\n",
       "    </tr>\n",
       "  </thead>\n",
       "  <tbody>\n",
       "    <tr>\n",
       "      <th>0</th>\n",
       "      <td>1</td>\n",
       "      <td>0</td>\n",
       "      <td>0</td>\n",
       "      <td>0</td>\n",
       "      <td>0</td>\n",
       "    </tr>\n",
       "    <tr>\n",
       "      <th>1</th>\n",
       "      <td>0.5</td>\n",
       "      <td>0</td>\n",
       "      <td>0.5</td>\n",
       "      <td>0</td>\n",
       "      <td>0</td>\n",
       "    </tr>\n",
       "    <tr>\n",
       "      <th>2</th>\n",
       "      <td>0</td>\n",
       "      <td>0.5</td>\n",
       "      <td>0</td>\n",
       "      <td>0.5</td>\n",
       "      <td>0</td>\n",
       "    </tr>\n",
       "    <tr>\n",
       "      <th>3</th>\n",
       "      <td>0</td>\n",
       "      <td>0</td>\n",
       "      <td>0.5</td>\n",
       "      <td>0</td>\n",
       "      <td>0.5</td>\n",
       "    </tr>\n",
       "    <tr>\n",
       "      <th>4</th>\n",
       "      <td>0</td>\n",
       "      <td>0</td>\n",
       "      <td>0</td>\n",
       "      <td>0</td>\n",
       "      <td>1</td>\n",
       "    </tr>\n",
       "  </tbody>\n",
       "</table>\n",
       "</div>"
      ],
      "text/plain": [
       "     0    1    2    3    4\n",
       "0    1    0    0    0    0\n",
       "1  0.5    0  0.5    0    0\n",
       "2    0  0.5    0  0.5    0\n",
       "3    0    0  0.5    0  0.5\n",
       "4    0    0    0    0    1"
      ]
     },
     "execution_count": 5,
     "metadata": {},
     "output_type": "execute_result"
    }
   ],
   "source": [
    "df = pd.DataFrame(index = range(5), columns = range(5))\n",
    "df.loc[0] = [1, 0, 0, 0, 0]\n",
    "df.loc[1] = [0.5,0,0.5,0,0]\n",
    "df.loc[2] = [0, 0.5, 0, 0.5, 0]\n",
    "df.loc[3] = [0, 0, 0.5, 0, 0.5]\n",
    "df.loc[4] = [0, 0, 0, 0, 1]\n",
    "df"
   ]
  },
  {
   "cell_type": "code",
   "execution_count": 13,
   "metadata": {
    "collapsed": false
   },
   "outputs": [
    {
     "name": "stdout",
     "output_type": "stream",
     "text": [
      "\n",
      "n = 10\n",
      "          0         1        2         3         4\n",
      "0         1         0        0         0         0\n",
      "1  0.734375  0.015625        0  0.015625  0.234375\n",
      "2  0.484375         0  0.03125         0  0.484375\n",
      "3  0.234375  0.015625        0  0.015625  0.734375\n",
      "4         0         0        0         0         1\n",
      "\n",
      "n = 20\n",
      "           0             1             2             3          4\n",
      "0          1             0             0             0          0\n",
      "1  0.7495117  0.0004882812             0  0.0004882812  0.2495117\n",
      "2  0.4995117             0  0.0009765625             0  0.4995117\n",
      "3  0.2495117  0.0004882812             0  0.0004882812  0.7495117\n",
      "4          0             0             0             0          1\n",
      "\n",
      "n = 30\n",
      "           0             1             2             3          4\n",
      "0          1             0             0             0          0\n",
      "1  0.7499847  1.525879e-05             0  1.525879e-05  0.2499847\n",
      "2  0.4999847             0  3.051758e-05             0  0.4999847\n",
      "3  0.2499847  1.525879e-05             0  1.525879e-05  0.7499847\n",
      "4          0             0             0             0          1\n",
      "\n",
      "n = 40\n",
      "           0             1             2             3          4\n",
      "0          1             0             0             0          0\n",
      "1  0.7499995  4.768372e-07             0  4.768372e-07  0.2499995\n",
      "2  0.4999995             0  9.536743e-07             0  0.4999995\n",
      "3  0.2499995  4.768372e-07             0  4.768372e-07  0.7499995\n",
      "4          0             0             0             0          1\n",
      "\n",
      "n = 50\n",
      "      0             1             2             3     4\n",
      "0     1             0             0             0     0\n",
      "1  0.75  1.490116e-08             0  1.490116e-08  0.25\n",
      "2   0.5             0  2.980232e-08             0   0.5\n",
      "3  0.25  1.490116e-08             0  1.490116e-08  0.75\n",
      "4     0             0             0             0     1\n"
     ]
    }
   ],
   "source": [
    "P = df.as_matrix()\n",
    "\n",
    "for n in range(1,6):\n",
    "    n = n*10\n",
    "    Pn = np.linalg.matrix_power(P, n)\n",
    "    df_P = pd.DataFrame(Pn)\n",
    "    print('\\nn = {}'.format(n))\n",
    "    print(df_P)"
   ]
  },
  {
   "cell_type": "markdown",
   "metadata": {},
   "source": [
    "### It looks like as we increase the number of steps, the probabilities converge to an interpolated value between the absorbing states\n",
    "\n",
    "### i.e. $P(\\text{Finish at 4} | \\text{Started at 1}) = 0.25$"
   ]
  },
  {
   "cell_type": "markdown",
   "metadata": {},
   "source": [
    "### Let's simulate a bunch of walks"
   ]
  },
  {
   "cell_type": "code",
   "execution_count": 43,
   "metadata": {
    "collapsed": false
   },
   "outputs": [],
   "source": [
    "df = pd.DataFrame()\n",
    "for i in range(100):\n",
    "    x = []\n",
    "    state = np.random.choice([0,1,2,3,4])\n",
    "    x.append(state)\n",
    "    while 0 < state < 4:\n",
    "        state += np.random.choice([-1, 1])\n",
    "        x.append(state)\n",
    "    df = pd.concat([df, pd.DataFrame(x)], axis = 1, ignore_index = True)"
   ]
  },
  {
   "cell_type": "code",
   "execution_count": 51,
   "metadata": {
    "collapsed": false
   },
   "outputs": [
    {
     "data": {
      "text/plain": [
       "<matplotlib.axes._subplots.AxesSubplot at 0xd357320>"
      ]
     },
     "execution_count": 51,
     "metadata": {},
     "output_type": "execute_result"
    },
    {
     "data": {
      "image/png": "[encoded data removed]",
      "text/plain": [
       "<matplotlib.figure.Figure at 0xd36f940>"
      ]
     },
     "metadata": {},
     "output_type": "display_data"
    }
   ],
   "source": [
    "df.plot(legend = False)"
   ]
  },
  {
   "cell_type": "code",
   "execution_count": 54,
   "metadata": {
    "collapsed": false
   },
   "outputs": [
    {
     "data": {
      "text/plain": [
       "count    100.000000\n",
       "mean       3.000000\n",
       "std        2.510584\n",
       "min        1.000000\n",
       "25%        1.000000\n",
       "50%        2.000000\n",
       "75%        4.000000\n",
       "max       12.000000\n",
       "dtype: float64"
      ]
     },
     "execution_count": 54,
     "metadata": {},
     "output_type": "execute_result"
    }
   ],
   "source": [
    "df.count().describe()"
   ]
  },
  {
   "cell_type": "markdown",
   "metadata": {},
   "source": [
    "_____\n",
    "\n",
    "# *Canonical Form*"
   ]
  },
  {
   "cell_type": "markdown",
   "metadata": {},
   "source": [
    "### Take an arbitrary Markov chain\n",
    "\n",
    "### Reindex the states so we have all transient states first, then all absorbing states after\n",
    "\n",
    "### If we have $r$ absorbing states and $t$ transient states, then the transition matrix has the following canonical form"
   ]
  },
  {
   "cell_type": "markdown",
   "metadata": {},
   "source": [
    "![](images/canonical-form-1.PNG)"
   ]
  },
  {
   "cell_type": "markdown",
   "metadata": {},
   "source": [
    "### $Q$ is a $t$x$t$ matrix\n",
    "\n",
    "### $R$ is a $t$x$r$ matrix\n",
    "\n",
    "### $I$ is an $r$x$r$ identity matrix\n",
    "\n",
    "### $0$ is an $r$x$t$ matrix of 0s"
   ]
  },
  {
   "cell_type": "markdown",
   "metadata": {},
   "source": [
    "### Now, we express $P^{n}$ as:\n",
    "\n",
    "![](images/canonical-form-2.PNG)"
   ]
  },
  {
   "cell_type": "markdown",
   "metadata": {},
   "source": [
    "### $*$ is a $t$x$r$ matrix derived from $Q$ and $R$\n",
    "\n",
    "### We can see that the probailities for being in each transient state after $n$ steps are defined by $Q^{n}$"
   ]
  },
  {
   "cell_type": "markdown",
   "metadata": {},
   "source": [
    "______\n",
    "\n",
    "# *Probability of Absorption*\n",
    "\n",
    "# Theorem 11.3\n",
    "\n",
    "### In an absorbing Markov chain, the proability that the process will be absorbed is 1\n",
    "\n",
    "### i.e. $Q^{n}\\rightarrow 0$ as $n\\rightarrow \\infty$"
   ]
  },
  {
   "cell_type": "markdown",
   "metadata": {},
   "source": [
    "____\n",
    "\n",
    "# *The Fundamental Matrix*\n",
    "\n",
    "# Theorem 11.4\n",
    "\n",
    "### For an absorbing Markov chain the matrix $I-Q$ has an inverse matrix $N$ and $N = I + Q + Q^{2} + ...$\n",
    "\n",
    "### The $ij$th entry $n_{ij}$ for the matrix $N$ is the expected number of times the chain is in state $s_{j}$ given that it starts in state $s_{i}$\n",
    "\n",
    "#### Note: we count it if the process starts in state $s_{i}$"
   ]
  },
  {
   "cell_type": "markdown",
   "metadata": {},
   "source": [
    "## This matrix $N$ is called the *fundamental matrix* of $P$"
   ]
  },
  {
   "cell_type": "markdown",
   "metadata": {},
   "source": [
    "____\n",
    "\n",
    "## Example\n",
    "\n",
    "### We can reshape the matrix for the drunkard's walk to be the following:\n",
    "\n",
    "![](images/canonical-form-3.PNG)"
   ]
  },
  {
   "cell_type": "markdown",
   "metadata": {},
   "source": [
    "### This means the matrix $Q$ is:\n",
    "\n",
    "# $Q = \\begin{pmatrix}0 & 1/2 & 0\\\\ 1/2 & 0 & 1/2\\\\ 0 & 1/2 & 0\\end{pmatrix} \\implies I - Q = \\begin{pmatrix}1 & -1/2 & 0\\\\ -1/2 & 1 & -1/2\\\\ 0 & -1/2 & 1\\end{pmatrix}$\n",
    "\n",
    "# $\\implies N = (I-Q)^{-1} = \\begin{pmatrix}3/2 & 1 & 1/2\\\\ 1 & 2 & 1\\\\ 1/2 & 1 & 3/2\\end{pmatrix}$"
   ]
  },
  {
   "cell_type": "markdown",
   "metadata": {},
   "source": [
    "_____\n",
    "\n",
    "# *Time to Absorption*\n",
    "\n",
    "### Now, we ask how long it'll take before the process is absorbed\n",
    "\n",
    "# Theorem 11.5\n",
    "\n",
    "### Let $t_{i}$ be the expected number of steps until a process is absorved given that it starts in state $s_{i}$\n",
    "\n",
    "### From this, we form a vector $t$ such that $t = \\begin{bmatrix}t_{1}\\\\ t_{2}\\\\ ...\\\\ t_{t}\\end{bmatrix}$"
   ]
  },
  {
   "cell_type": "markdown",
   "metadata": {},
   "source": [
    "## Then $t = Nc$ where $c=\\begin{bmatrix}1\\\\ 1\\\\ ...\\\\ 1\\end{bmatrix}$"
   ]
  },
  {
   "cell_type": "markdown",
   "metadata": {},
   "source": [
    "____\n",
    "\n",
    "# *Absorption Probabilities*\n",
    "\n",
    "# Theorem 11.6\n",
    "\n",
    "### Let $b_{ij}$ be the probability that an absorbing chain gets absorbed by state $s_{j}$ given that it started in state $s_{i}$\n",
    "\n",
    "### Let $B$ be the matrix $B = \\begin{pmatrix}b_{11} & b_{12} & ... & b_{1r}\\\\ b_{21} & b_{21} & ... & b_{2r}\\\\  & ... &  & \\\\ b_{t1} & b_{t1} & ... & b_{tr}\\end{pmatrix}$"
   ]
  },
  {
   "cell_type": "markdown",
   "metadata": {},
   "source": [
    "## Then $B = NR$ where $N$ is the fundamental matrix and $R$ is the top right of the canonical form matrix"
   ]
  },
  {
   "cell_type": "markdown",
   "metadata": {},
   "source": [
    "____\n",
    "\n",
    "## Example\n",
    "\n",
    "### In the drunkard's walk, we found that:\n",
    "\n",
    "# $N = \\begin{pmatrix}3/2 & 1 & 1/2\\\\ 1 & 2 & 1\\\\ 1/2 & 1 & 3/2\\end{pmatrix}$\n",
    "\n",
    "# $R = \\begin{pmatrix}1/2 & 0\\\\ 0 & 0\\\\0 & 1/2\\end{pmatrix}$"
   ]
  },
  {
   "cell_type": "markdown",
   "metadata": {},
   "source": [
    "# $\\implies t = Nc = \\begin{pmatrix}3/2 & 1 & 1/2\\\\ 1 & 2 & 1\\\\ 1/2 & 1 & 3/2\\end{pmatrix}\\begin{bmatrix}1\\\\ 1\\\\ 1\\end{bmatrix} = \\begin{bmatrix}3\\\\ 4\\\\ 3\\end{bmatrix}$"
   ]
  },
  {
   "cell_type": "markdown",
   "metadata": {},
   "source": [
    "# $\\implies B = NR = \\begin{pmatrix}3/2 & 1 & 1/2\\\\ 1 & 2 & 1\\\\ 1/2 & 1 & 3/2\\end{pmatrix}\\begin{pmatrix}1/2 & 0\\\\ 0 & 0\\\\0 & 1/2\\end{pmatrix} = \\begin{pmatrix}3/4 & 1/4\\\\ 1/2 & 1/2\\\\1/4 & 3/4\\end{pmatrix}$"
   ]
  }
 ],
 "metadata": {
  "kernelspec": {
   "display_name": "Python 2",
   "language": "python",
   "name": "python2"
  },
  "language_info": {
   "codemirror_mode": {
    "name": "ipython",
    "version": 2
   },
   "file_extension": ".py",
   "mimetype": "text/x-python",
   "name": "python",
   "nbconvert_exporter": "python",
   "pygments_lexer": "ipython2",
   "version": "2.7.11"
  }
 },
 "nbformat": 4,
 "nbformat_minor": 0
}
