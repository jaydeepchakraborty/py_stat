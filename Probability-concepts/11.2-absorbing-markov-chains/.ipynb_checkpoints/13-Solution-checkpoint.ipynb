{
 "cells": [
  {
   "cell_type": "markdown",
   "metadata": {},
   "source": [
    "# Smith is in jail and has 3 dollars; he can get out on bail if he has 8 dollars\n",
    "\n",
    "# A guard agrees to make a series of bets with him\n",
    "\n",
    "# If Smith bets $A$ dollars, he wins $A$ dollars with probability 0.4 and wins $A$ dollars with probability 0.6\n",
    "\n",
    "# Find the probability that he wins 8 dollars before losing all his money if:\n",
    "\n",
    "## a) he bets 1 dollar each time (timid strategy)\n",
    "\n",
    "## b) he bets, each time, as much as possible but not more than necessary to bring his fortune up to 8 dollars (bold strategy)\n",
    "\n",
    "## c) Which strategy gives Smith the better chance of getting out of jail?"
   ]
  },
  {
   "cell_type": "markdown",
   "metadata": {},
   "source": [
    "____\n",
    "\n",
    "# a) Timid Strategy\n",
    "\n",
    "## There are 9 states each representing the number of dollars Smith has won: [1,2,3,4,5,6,7,8,0]\n",
    "\n",
    "## When he loses all his money, he cannot play anymore\n",
    "\n",
    "## When he has won 8 dollars, he stops playing\n",
    "\n",
    "## That means that both 0 and 8 are absorbing states\n",
    "\n",
    "## We can represent the process with the following transition matrix"
   ]
  },
  {
   "cell_type": "markdown",
   "metadata": {},
   "source": [
    "![](images/13.PNG)"
   ]
  },
  {
   "cell_type": "markdown",
   "metadata": {},
   "source": [
    "# $\\implies Q = \\begin{pmatrix}0 & 0.4 & 0 & 0 & 0 & 0 & 0\\\\ 0.6 & 0 & 0.4 & 0 & 0 & 0 & 0\\\\ 0 & 0.6 & 0 & 0.4 & 0 & 0 & 0\\\\ 0 & 0 & 0.6 & 0 & 0.4 & 0 & 0\\\\ 0 & 0 & 0 & 0.6 & 0 & 0.4 & 0\\\\ 0 & 0 & 0 & 0 & 0.6 & 0 & 0.4\\\\ 0 & 0 & 0 & 0 & 0 & 0.6 & 0\\end{pmatrix}$"
   ]
  },
  {
   "cell_type": "markdown",
   "metadata": {},
   "source": [
    "# $\\implies (I-Q) = \\begin{pmatrix}1 & -0.4 & 0 & 0 & 0 & 0 & 0\\\\ -0.6 & 1 & -0.4 & 0 & 0 & 0 & 0\\\\ 0 & -0.6 & 1 & -0.4 & 0 & 0 & 0\\\\ 0 & 0 & -0.6 & 1 & -0.4 & 0 & 0\\\\ 0 & 0 & 0 & -0.6 & 1 & -0.4 & 0\\\\ 0 & 0 & 0 & 0 & -0.6 & 1 & -0.4\\\\ 0 & 0 & 0 & 0 & 0 & -0.6 & 1\\end{pmatrix}$"
   ]
  },
  {
   "cell_type": "markdown",
   "metadata": {},
   "source": [
    "**Using numpy to solve for the inverse**"
   ]
  },
  {
   "cell_type": "code",
   "execution_count": 2,
   "metadata": {
    "collapsed": true
   },
   "outputs": [],
   "source": [
    "import numpy as np\n",
    "import pandas as pd"
   ]
  },
  {
   "cell_type": "code",
   "execution_count": 3,
   "metadata": {
    "collapsed": true
   },
   "outputs": [],
   "source": [
    "matrix = np.array([[1, -0.4, 0, 0, 0, 0, 0],\n",
    "                  [-0.6, 1, -0.4, 0, 0, 0, 0],\n",
    "                  [0, -0.6, 1, -0.4, 0, 0, 0],\n",
    "                  [0, 0, -0.6, 1, -0.4, 0, 0],\n",
    "                  [0, 0, 0, -0.6, 1, -0.4, 0],\n",
    "                   [0, 0, 0, 0, -0.6, 1, -0.4],\n",
    "                  [0, 0, 0, 0, 0, -0.6, 1]])"
   ]
  },
  {
   "cell_type": "code",
   "execution_count": 4,
   "metadata": {
    "collapsed": true
   },
   "outputs": [],
   "source": [
    "N = np.linalg.inv(matrix)"
   ]
  },
  {
   "cell_type": "markdown",
   "metadata": {},
   "source": [
    "# We know that to solve for the absorption probabilities, we must calculate $NR$"
   ]
  },
  {
   "cell_type": "markdown",
   "metadata": {},
   "source": [
    "# $R = \\begin{pmatrix}0 & 0.6\\\\ 0 & 0\\\\0 & 0\\\\0 & 0\\\\0 & 0\\\\0 & 0\\\\0.4 & 0\\end{pmatrix}$"
   ]
  },
  {
   "cell_type": "code",
   "execution_count": 5,
   "metadata": {
    "collapsed": true
   },
   "outputs": [],
   "source": [
    "R = np.array([[0, 0.6],\n",
    "             [0,0],\n",
    "             [0,0],\n",
    "             [0,0],\n",
    "             [0,0],\n",
    "             [0,0],\n",
    "             [0.4,0]])"
   ]
  },
  {
   "cell_type": "code",
   "execution_count": 6,
   "metadata": {
    "collapsed": true
   },
   "outputs": [],
   "source": [
    "NR = np.matmul(N, R)"
   ]
  },
  {
   "cell_type": "code",
   "execution_count": 7,
   "metadata": {
    "collapsed": false
   },
   "outputs": [
    {
     "data": {
      "text/plain": [
       "array([[ 0.02030135,  0.97969865],\n",
       "       [ 0.05075337,  0.94924663],\n",
       "       [ 0.0964314 ,  0.9035686 ],\n",
       "       [ 0.16494845,  0.83505155],\n",
       "       [ 0.26772403,  0.73227597],\n",
       "       [ 0.42188739,  0.57811261],\n",
       "       [ 0.65313243,  0.34686757]])"
      ]
     },
     "execution_count": 7,
     "metadata": {},
     "output_type": "execute_result"
    }
   ],
   "source": [
    "NR"
   ]
  },
  {
   "cell_type": "markdown",
   "metadata": {},
   "source": [
    "# Since we know we start with 3 dollars, we only care about the third row\n",
    "\n",
    "# $[0.0964314, 0.9035686]$\n",
    "\n",
    "# This means that the probability that Smith gets to 8 dollars is only 0.0964"
   ]
  },
  {
   "cell_type": "markdown",
   "metadata": {},
   "source": [
    "______\n",
    "\n",
    "# b)\n",
    "\n",
    "# We repeat the same analysis for the bold strategy"
   ]
  },
  {
   "cell_type": "markdown",
   "metadata": {},
   "source": [
    "- Starting in state 3, we can go to state 6 (with probability 0.4) or state 0 (with probability 0.6)\n",
    "- From state 6, we can go to state 8 (with probability 0.4) or state 4 (with probability 0.4)\n",
    "- From state 4, we can go to state 8 (with probability 0.4) or state 0 (with probability 0.4)\n",
    "\n",
    "- That means it's impossible to go to any other states\n",
    "\n",
    "**This means we have a matrix $P$ given by:**"
   ]
  },
  {
   "cell_type": "markdown",
   "metadata": {},
   "source": [
    "# $P =\\begin{pmatrix}0 & 0.4 & 0 & 0 & 0.6\\\\ 0.6 & 0 & 0 & 0.4 & 0\\\\ 0 & 0 & 0 & 0.4 & 0.6\\\\ 0 & 0 & 0 & 1 & 0\\\\ 0 & 0 & 0 & 0 & 1\\end{pmatrix}$"
   ]
  },
  {
   "cell_type": "markdown",
   "metadata": {},
   "source": [
    "**Where the rows/columns represent states 3, 6, 5, 8, and 0 respectively**"
   ]
  },
  {
   "cell_type": "markdown",
   "metadata": {},
   "source": [
    "# $\\implies Q = \\begin{pmatrix}0 & 0.4 & 0\\\\ 0.6 & 0 & 0\\\\ 0 & 0 & 0\\end{pmatrix}$"
   ]
  },
  {
   "cell_type": "markdown",
   "metadata": {},
   "source": [
    "# $\\implies (I-Q) = \\begin{pmatrix}1 & -0.4 & 0\\\\ -0.6 & 1 & 0\\\\ 0 & 0 & 1\\end{pmatrix}$"
   ]
  },
  {
   "cell_type": "code",
   "execution_count": 8,
   "metadata": {
    "collapsed": false
   },
   "outputs": [],
   "source": [
    "matrix = np.array([[1, -0.4, 0], [-0.6, 1, 0], [0, 0, 1]])"
   ]
  },
  {
   "cell_type": "code",
   "execution_count": 9,
   "metadata": {
    "collapsed": true
   },
   "outputs": [],
   "source": [
    "N = np.linalg.inv(matrix)"
   ]
  },
  {
   "cell_type": "code",
   "execution_count": 10,
   "metadata": {
    "collapsed": false
   },
   "outputs": [
    {
     "data": {
      "text/plain": [
       "array([[ 1.31578947,  0.52631579,  0.        ],\n",
       "       [ 0.78947368,  1.31578947,  0.        ],\n",
       "       [ 0.        ,  0.        ,  1.        ]])"
      ]
     },
     "execution_count": 10,
     "metadata": {},
     "output_type": "execute_result"
    }
   ],
   "source": [
    "N"
   ]
  },
  {
   "cell_type": "markdown",
   "metadata": {},
   "source": [
    "# $\\implies N = \\begin{pmatrix}1.31578947 & 0.52631579 & 0\\\\ 0.78947368 & 1.31578947 & 0\\\\ 0 & 0 & 1\\end{pmatrix}$"
   ]
  },
  {
   "cell_type": "markdown",
   "metadata": {},
   "source": [
    "# $R = \\begin{pmatrix}0 & 0.6\\\\0.4 & 0\\\\0.4 & 0.6\\end{pmatrix}$"
   ]
  },
  {
   "cell_type": "code",
   "execution_count": 11,
   "metadata": {
    "collapsed": true
   },
   "outputs": [],
   "source": [
    "R = np.array([[0,0.6],[0.4,0],[0.4,0.6]])\n",
    "NR = np.matmul(N, R)"
   ]
  },
  {
   "cell_type": "code",
   "execution_count": 12,
   "metadata": {
    "collapsed": false
   },
   "outputs": [
    {
     "data": {
      "text/plain": [
       "array([[ 0.21052632,  0.78947368],\n",
       "       [ 0.52631579,  0.47368421],\n",
       "       [ 0.4       ,  0.6       ]])"
      ]
     },
     "execution_count": 12,
     "metadata": {},
     "output_type": "execute_result"
    }
   ],
   "source": [
    "NR"
   ]
  },
  {
   "cell_type": "markdown",
   "metadata": {},
   "source": [
    "# Since we only care about the probabilities for starting in state 3, we only consider the first row"
   ]
  },
  {
   "cell_type": "markdown",
   "metadata": {},
   "source": [
    "# $[0.21052632,  0.78947368]$\n",
    "\n",
    "## This means that the probability of winning is 0.21 $\\implies$ this is much better than in the timid strategy"
   ]
  }
 ],
 "metadata": {
  "kernelspec": {
   "display_name": "Python 2",
   "language": "python",
   "name": "python2"
  },
  "language_info": {
   "codemirror_mode": {
    "name": "ipython",
    "version": 2
   },
   "file_extension": ".py",
   "mimetype": "text/x-python",
   "name": "python",
   "nbconvert_exporter": "python",
   "pygments_lexer": "ipython2",
   "version": "2.7.11"
  }
 },
 "nbformat": 4,
 "nbformat_minor": 2
}
