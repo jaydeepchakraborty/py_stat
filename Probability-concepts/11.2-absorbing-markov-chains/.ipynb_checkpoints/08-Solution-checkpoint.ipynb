{
 "cells": [
  {
   "cell_type": "markdown",
   "metadata": {},
   "source": [
    "# In Example 11.13 (Drunkard's Walk), assume that the probability of a step to the right is 2/3, and a step to the left is 1/3\n",
    "\n",
    "## a) Find $N$\n",
    "\n",
    "## b) Find $Nc$\n",
    "\n",
    "## c) Find $NR$\n",
    "\n",
    "# What do these results mean?"
   ]
  },
  {
   "cell_type": "markdown",
   "metadata": {},
   "source": [
    "_____\n",
    "\n",
    "# Originally, our transition matrix was given by:\n",
    "\n",
    "![](images/ex-11-13.PNG)"
   ]
  },
  {
   "cell_type": "markdown",
   "metadata": {},
   "source": [
    "# After adjusting the probabilities, our matrix becomes:\n",
    "\n",
    "# $P = \\begin{pmatrix}1 & 0 & 0 & 0 & 0\\\\ 1/3 & 0 & 2/3 & 0 & 0\\\\ 0 & 1/3 & 0 & 2/3 & 0\\\\ 0 & 0 & 1/3 & 0 & 2/3\\\\ 0 & 0 & 0 & 0 & 1\\end{pmatrix}$"
   ]
  },
  {
   "cell_type": "markdown",
   "metadata": {},
   "source": [
    "# Now, transforming $P$ to its canonical form:\n",
    "\n",
    "# $P = \\begin{pmatrix}0 & 2/3 & 0 & 1/3 & 0\\\\ 1/3 & 0 & 2/3 & 0 & 0\\\\ 0 & 1/3 & 0 & 0 & 2/3\\\\ 0 & 0 & 0 & 1 & 0\\\\ 0 & 0 & 0 & 0 & 1\\end{pmatrix}$"
   ]
  },
  {
   "cell_type": "markdown",
   "metadata": {},
   "source": [
    "# $\\implies Q = \\begin{pmatrix}0 & 2/3 & 0\\\\ 1/3 & 0 & 2/3\\\\ 0 & 1/3 & 0\\end{pmatrix}$"
   ]
  },
  {
   "cell_type": "markdown",
   "metadata": {},
   "source": [
    "# $\\implies (I-Q) = \\begin{pmatrix}1 & -2/3 & 0\\\\ -1/3 & 1 & -2/3\\\\ 0 & -1/3 & 1\\end{pmatrix}$"
   ]
  },
  {
   "cell_type": "markdown",
   "metadata": {},
   "source": [
    "### Using numpy to find $N$"
   ]
  },
  {
   "cell_type": "code",
   "execution_count": 2,
   "metadata": {
    "collapsed": true
   },
   "outputs": [],
   "source": [
    "import numpy as np"
   ]
  },
  {
   "cell_type": "code",
   "execution_count": 6,
   "metadata": {
    "collapsed": false
   },
   "outputs": [],
   "source": [
    "matrix = np.array([[1, -0.6666666666, 0],[-0.3333333333, 1, -0.6666666666],[0, -0.3333333333, 1]])"
   ]
  },
  {
   "cell_type": "code",
   "execution_count": 7,
   "metadata": {
    "collapsed": false
   },
   "outputs": [
    {
     "data": {
      "text/plain": [
       "array([[ 1.4,  1.2,  0.8],\n",
       "       [ 0.6,  1.8,  1.2],\n",
       "       [ 0.2,  0.6,  1.4]])"
      ]
     },
     "execution_count": 7,
     "metadata": {},
     "output_type": "execute_result"
    }
   ],
   "source": [
    "N = np.linalg.inv(matrix)\n",
    "N"
   ]
  },
  {
   "cell_type": "markdown",
   "metadata": {},
   "source": [
    "# $\\implies N = \\begin{pmatrix}1.4 & 1.2 & 0.8\\\\ 0.6 & 1.8 & 1.2\\\\ 0.2 & 0.6 & 1.4\\end{pmatrix}$"
   ]
  },
  {
   "cell_type": "markdown",
   "metadata": {},
   "source": [
    "## Recall: each element $n_{ij}$ of the fundamental matrix $N$ tells us the expected number of steps a process described by $P$ will spend in state $j$ given it starts in state $i$\n",
    "\n",
    "### Therefore, this matrix $N$ tells us that we expect to spend the highest number of steps in the state we start in\n",
    "\n",
    "## Our matrix $N$ from Example 11.13 was equal to:\n",
    "\n",
    "# $N = \\begin{pmatrix}3/2 & 1 & 1/2\\\\ 1 & 2 & 1\\\\ 1/2 & 1 & 3/2\\end{pmatrix}$\n",
    "\n",
    "## So, by adjusting the probabilities, we decrease the number of steps spent in states to the left of the starting state, and more steps spent in states to the right"
   ]
  },
  {
   "cell_type": "markdown",
   "metadata": {},
   "source": [
    "_____\n",
    "\n",
    "# $\\implies Nc = \\begin{pmatrix}1.4+1.2+0.8 \\\\ 0.6+1.8+1.2\\\\ 0.2+0.6+1.4\\end{pmatrix} = \\begin{pmatrix}3.4 \\\\ 3.6\\\\ 2.2\\end{pmatrix}$"
   ]
  },
  {
   "cell_type": "markdown",
   "metadata": {},
   "source": [
    "## Recall: $Nc$ tells us the expected value for the \"time to absorption\" if we start in each state\n",
    "\n",
    "### Our caluclated vector tells us that our states closest to absorbing states have the least time to absorption, which makes sense\n",
    "\n",
    "### Our previously calculated $Nc$ vector was:\n",
    "\n",
    "# $Nc = \\begin{bmatrix}3\\\\ 4\\\\ 3\\end{bmatrix}$\n",
    "\n",
    "### This tells us that since we adjusted the probabilities, the values closer to the left absorbing state have longer time to absorption, while states closer to the right have shorter time"
   ]
  },
  {
   "cell_type": "markdown",
   "metadata": {},
   "source": [
    "___\n",
    "\n",
    "# $R = \\begin{pmatrix}1/3 & 0\\\\ 0 & 0\\\\0 & 2/3\\end{pmatrix}$"
   ]
  },
  {
   "cell_type": "markdown",
   "metadata": {},
   "source": [
    "# $ \\implies NR = \\begin{pmatrix}1.4 & 1.2 & 0.8\\\\ 0.6 & 1.8 & 1.2\\\\ 0.2 & 0.6 & 1.4\\end{pmatrix}\\begin{pmatrix}1/3 & 0\\\\ 0 & 0\\\\0 & 2/3\\end{pmatrix} = \\begin{pmatrix}(1.4)(1/3) & (0.8)(2/3)\\\\ (0.6)(1/3) & (1.2)(2/3)\\\\(0.2)(1/3) & (1.4)(2/3)\\end{pmatrix}$"
   ]
  },
  {
   "cell_type": "markdown",
   "metadata": {},
   "source": [
    "# $ = \\begin{pmatrix}0.467 & 0.533\\\\ 0.2 & 0.8\\\\0.067 & 0.933\\end{pmatrix}$"
   ]
  },
  {
   "cell_type": "markdown",
   "metadata": {},
   "source": [
    "## Recall: $NR$ tells us the probability of getting absorbed by each absorbing state given that we started in each transient state"
   ]
  },
  {
   "cell_type": "markdown",
   "metadata": {},
   "source": [
    "### Therefore, our calculated $NR$ values tell us that we're always more likely to be absorbed by the right absorbing state than the left"
   ]
  },
  {
   "cell_type": "markdown",
   "metadata": {},
   "source": [
    "### Our previously derived $NR$ matrix was:\n",
    "\n",
    "# $\\begin{pmatrix}3/4 & 1/4\\\\ 1/2 & 1/2\\\\1/4 & 3/4\\end{pmatrix}$"
   ]
  },
  {
   "cell_type": "markdown",
   "metadata": {},
   "source": [
    "### So, our previous probabilities were symmetric, while our new probabilities are skewed to the right. This makes sense"
   ]
  }
 ],
 "metadata": {
  "kernelspec": {
   "display_name": "Python 2",
   "language": "python",
   "name": "python2"
  },
  "language_info": {
   "codemirror_mode": {
    "name": "ipython",
    "version": 2
   },
   "file_extension": ".py",
   "mimetype": "text/x-python",
   "name": "python",
   "nbconvert_exporter": "python",
   "pygments_lexer": "ipython2",
   "version": "2.7.11"
  }
 },
 "nbformat": 4,
 "nbformat_minor": 0
}
