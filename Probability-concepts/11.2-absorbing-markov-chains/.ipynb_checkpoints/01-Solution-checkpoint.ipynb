{
 "cells": [
  {
   "cell_type": "markdown",
   "metadata": {},
   "source": [
    "# In Example 11.4, for what values of $a$ and $b$ do we obtain an absorbing Markov chain?"
   ]
  },
  {
   "cell_type": "markdown",
   "metadata": {},
   "source": [
    "_____\n",
    "\n",
    "# $P=\\begin{pmatrix}(1-a) & a\\\\ b & (1-b)\\end{pmatrix}$"
   ]
  },
  {
   "cell_type": "markdown",
   "metadata": {},
   "source": [
    "# This means that we need one of the following conditions to be true:\n",
    "\n",
    "## 1. $(1-a) = 1 \\implies a = 0$\n",
    "\n",
    "## 2. $(1-b) = 0 \\implies b = 0$\n"
   ]
  }
 ],
 "metadata": {
  "kernelspec": {
   "display_name": "Python 2",
   "language": "python",
   "name": "python2"
  },
  "language_info": {
   "codemirror_mode": {
    "name": "ipython",
    "version": 2
   },
   "file_extension": ".py",
   "mimetype": "text/x-python",
   "name": "python",
   "nbconvert_exporter": "python",
   "pygments_lexer": "ipython2",
   "version": "2.7.11"
  }
 },
 "nbformat": 4,
 "nbformat_minor": 0
}
