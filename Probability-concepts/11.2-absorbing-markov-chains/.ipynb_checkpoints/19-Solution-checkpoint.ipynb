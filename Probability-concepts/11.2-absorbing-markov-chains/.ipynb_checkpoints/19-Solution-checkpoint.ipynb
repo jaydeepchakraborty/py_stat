{
 "cells": [
  {
   "cell_type": "markdown",
   "metadata": {},
   "source": [
    "# Mary and John are playing the following game: they have a three-card deck marked with the numbers 1, 2, and 3 and a spinner with the numbers 1, 2, and 3 on it\n",
    "\n",
    "# The game begins by dealing the cards out so that the dealer gets one card and the other person gets two\n",
    "\n",
    "# A move in the game consists of a spin of the spinner\n",
    "\n",
    "# The person having the card with the number that comes up on the spinner hands that card to the other person\n",
    "\n",
    "# The game ends when someone has all the cards\n",
    "\n",
    "## a) Set up the transition matrix for this absorbing Markov chain where the states correspond to the number of cards Mary has\n",
    "\n",
    "## b) Find the fundamental matrix $N$\n",
    "\n",
    "## c) On average, how many moves will the game last?\n",
    "\n",
    "## d) If Mary deals, what is the probability that John wins the game?"
   ]
  },
  {
   "cell_type": "markdown",
   "metadata": {},
   "source": [
    "____\n",
    "\n",
    "# a)\n",
    "\n",
    "# If Mary has 0 cards, she's won\n",
    "\n",
    "# If Mary has 3 cards, she's lost\n",
    "\n",
    "# Therefore 0 and 3 are both absorbing states\n",
    "\n",
    "# 1 and 2 are both transient states\n",
    "\n",
    "# If Mary has 1 card, then John has 2\n",
    "\n",
    "### This means that 1 of the possible values for the spinner corresponds to Mary's card, and 2 correspond to John's cards\n",
    "\n",
    "### Therefore, the probability of Mary transitioning from state 1 to state 2 is 2/3, and her probability of transitioning to state 0 is 1/3\n",
    "\n",
    "# We use the same logic to see that when Mary has 2 cards, she transitions to state 1 with probability 2/3 and state 3 with probability 1/3"
   ]
  },
  {
   "cell_type": "markdown",
   "metadata": {},
   "source": [
    "# Therefore, the transition matrix is equal to:\n",
    "\n",
    "# $P = \\begin{pmatrix}0 & 2/3 & 1/3 & 0\\\\ 2/3 & 0 & 0 & 1/3\\\\ 0 & 0 & 0 & 1\\\\ 0 & 0 & 0 & 1\\end{pmatrix}$\n",
    "\n",
    "# where the rows/columns correspond to states 1, 2, 0, and 3 respectively"
   ]
  },
  {
   "cell_type": "markdown",
   "metadata": {},
   "source": [
    "_____\n",
    "\n",
    "# b)"
   ]
  },
  {
   "cell_type": "markdown",
   "metadata": {},
   "source": [
    "# $\\implies Q = \\begin{pmatrix}0 & 2/3\\\\ 2/3 & 0\\end{pmatrix}$"
   ]
  },
  {
   "cell_type": "markdown",
   "metadata": {},
   "source": [
    "# $\\implies (I-Q) = \\begin{pmatrix}1 & -2/3\\\\ -2/3 & 1\\end{pmatrix}$"
   ]
  },
  {
   "cell_type": "markdown",
   "metadata": {},
   "source": [
    "**Using numpy to calculate the inverse**"
   ]
  },
  {
   "cell_type": "code",
   "execution_count": 1,
   "metadata": {},
   "outputs": [],
   "source": [
    "import numpy as np"
   ]
  },
  {
   "cell_type": "code",
   "execution_count": 2,
   "metadata": {},
   "outputs": [],
   "source": [
    "matrix = np.array([[1, -2/3.0],[-2/3.0,1]])"
   ]
  },
  {
   "cell_type": "code",
   "execution_count": 3,
   "metadata": {},
   "outputs": [],
   "source": [
    "N = np.linalg.inv(matrix)"
   ]
  },
  {
   "cell_type": "code",
   "execution_count": 4,
   "metadata": {},
   "outputs": [
    {
     "data": {
      "text/plain": [
       "array([[1.8, 1.2],\n",
       "       [1.2, 1.8]])"
      ]
     },
     "execution_count": 4,
     "metadata": {},
     "output_type": "execute_result"
    }
   ],
   "source": [
    "N"
   ]
  },
  {
   "cell_type": "markdown",
   "metadata": {},
   "source": [
    "# $\\implies N = \\begin{pmatrix}1.8 & 1.2\\\\ 1.2 & 1.8\\end{pmatrix}$"
   ]
  },
  {
   "cell_type": "markdown",
   "metadata": {},
   "source": [
    "____\n",
    "\n",
    "# c)\n",
    "\n",
    "# To solve for expected number of rounds, we solve for the time to absorption i.e. $t = Nc$"
   ]
  },
  {
   "cell_type": "code",
   "execution_count": 5,
   "metadata": {},
   "outputs": [],
   "source": [
    "c = np.array([[1],[1]])\n",
    "Nc = np.matmul(N,c)"
   ]
  },
  {
   "cell_type": "code",
   "execution_count": 6,
   "metadata": {},
   "outputs": [
    {
     "data": {
      "text/plain": [
       "array([[3.],\n",
       "       [3.]])"
      ]
     },
     "execution_count": 6,
     "metadata": {},
     "output_type": "execute_result"
    }
   ],
   "source": [
    "Nc"
   ]
  },
  {
   "cell_type": "markdown",
   "metadata": {},
   "source": [
    "# No matter who deals first, the expected number of rounds is equal to 3"
   ]
  },
  {
   "cell_type": "markdown",
   "metadata": {},
   "source": [
    "_____\n",
    "\n",
    "# d)"
   ]
  },
  {
   "cell_type": "markdown",
   "metadata": {},
   "source": [
    "# We need to solve for the absorption probabilities i.e. $B = NR$"
   ]
  },
  {
   "cell_type": "markdown",
   "metadata": {},
   "source": [
    "# $R = \\begin{pmatrix}1/3 & 0\\\\ 0 & 1/3\\end{pmatrix}$"
   ]
  },
  {
   "cell_type": "code",
   "execution_count": 7,
   "metadata": {},
   "outputs": [],
   "source": [
    "R = np.array([[1/3.0,0],[0,1/3.0]])"
   ]
  },
  {
   "cell_type": "code",
   "execution_count": 8,
   "metadata": {},
   "outputs": [],
   "source": [
    "NR = np.matmul(N,R)"
   ]
  },
  {
   "cell_type": "code",
   "execution_count": 9,
   "metadata": {},
   "outputs": [
    {
     "data": {
      "text/plain": [
       "array([[0.6, 0.4],\n",
       "       [0.4, 0.6]])"
      ]
     },
     "execution_count": 9,
     "metadata": {},
     "output_type": "execute_result"
    }
   ],
   "source": [
    "NR"
   ]
  },
  {
   "cell_type": "markdown",
   "metadata": {},
   "source": [
    "# If Mary deals, that means she starts with one card\n",
    "\n",
    "# This corresponds to the first row of the matrix above\n",
    "\n",
    "# $\\implies P(\\text{John Wins}|\\text{Mary Deals}) = 0.4$"
   ]
  }
 ],
 "metadata": {
  "kernelspec": {
   "display_name": "Python 3",
   "language": "python",
   "name": "python3"
  },
  "language_info": {
   "codemirror_mode": {
    "name": "ipython",
    "version": 3
   },
   "file_extension": ".py",
   "mimetype": "text/x-python",
   "name": "python",
   "nbconvert_exporter": "python",
   "pygments_lexer": "ipython3",
   "version": "3.6.4"
  }
 },
 "nbformat": 4,
 "nbformat_minor": 2
}
