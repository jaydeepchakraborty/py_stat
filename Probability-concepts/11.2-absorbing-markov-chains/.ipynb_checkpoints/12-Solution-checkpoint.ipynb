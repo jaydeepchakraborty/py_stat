{
 "cells": [
  {
   "cell_type": "markdown",
   "metadata": {},
   "source": [
    "# Three tanks fight a three way duel\n",
    "\n",
    "# Tank A has probability 1/2 of destroying the tank it fires at\n",
    "\n",
    "# Tank B has probability 1/3 of destroying the tank it fires at\n",
    "\n",
    "# Tank C has probability 1/6 of destroying the tank it fires at\n",
    "\n",
    "# The tanks fire all at once, and each tank fires at the strongest opponent\n",
    "\n",
    "#  Form a Markov chain by taking as states the subsets of the set of tanks\n",
    "\n",
    "## a) Find $N$\n",
    "\n",
    "## b) Find $Nc$\n",
    "\n",
    "## c) Find $NR$\n",
    "\n",
    "# What do the results mean?\n",
    "\n",
    "### Hint: Take as states ABC, AC, BC, A, B, C, and none, indicating the tanks that could survive starting in state ABC. You can omit AB because this state cannot be reached from ABC"
   ]
  },
  {
   "cell_type": "markdown",
   "metadata": {},
   "source": [
    "_____\n",
    "\n",
    "## First of all, we know that states $A$, $B$, $C$, and $\\emptyset$ are all absorbing states"
   ]
  },
  {
   "cell_type": "markdown",
   "metadata": {},
   "source": [
    "## Next, for state $BC$, we can either transition to state $BC$, $B$, $C$, or state $\\emptyset$\n",
    "\n",
    "### 1. $P(BC \\rightarrow BC) = (1-1/3)(1-1/6) = 5/9$\n",
    "\n",
    "### 2. $P(BC \\rightarrow B) = (1/3)(1-1/6) = 5/18$\n",
    "\n",
    "### 3. $P(BC \\rightarrow C) = (1-1/3)(1/6) = 1/9$\n",
    "\n",
    "### 4. $P(BC \\rightarrow \\emptyset) = (1/3)(1/6) = 1/18$"
   ]
  },
  {
   "cell_type": "markdown",
   "metadata": {},
   "source": [
    "## For state $AC$, we can either transition to state $AC$, $A$, $C$, or $\\emptyset$\n",
    "\n",
    "### 1. $P(AC \\rightarrow AC) = (1-1/2)(1-1/6) = 5/12$\n",
    "\n",
    "### 2. $P(AC \\rightarrow A) = (1/2)(1-1/6) = 5/12$\n",
    "\n",
    "### 3. $P(AC \\rightarrow C) = (1-1/2)(1/6) = 1/12$\n",
    "\n",
    "### 4. $P(AC \\rightarrow \\emptyset) = (1/2)(1/6) = 1/12$"
   ]
  },
  {
   "cell_type": "markdown",
   "metadata": {},
   "source": [
    "## Finally, for state $ABC$, we can go to any state\n",
    "\n",
    "### 1. $P(ABC \\rightarrow ABC) = (1-1/2)(1-1/3)(1-1/6) = (1/2)(2/3)(5/6) = 5/18$\n",
    "\n",
    "### 2. $P(ABC \\rightarrow \\emptyset)$\n",
    "\n",
    "#### We have to think about this one - tank A will fire at tank B, tank B will fire at tank A, and tank C will fire at tank A\n",
    "\n",
    "#### Therefore, it's impossible that tank C is destroyed (since no one is firing at it)\n",
    "\n",
    "#### $\\implies P(ABC \\rightarrow \\emptyset) = 0$\n",
    "\n",
    "### 3. $P(ABC \\rightarrow AC)$\n",
    "\n",
    "#### Tank A will fire at tank B, tank B will fire at tank A, and tank C will fire at tank A\n",
    "\n",
    "### $\\implies  P(ABC \\rightarrow AC) = (1/2)(1-1/3)(5/6) = 5/18$\n",
    "\n",
    "### 4. $P(ABC \\rightarrow BC)$\n",
    "\n",
    "#### Tank A will fire at tank B, tank B will fire at tank A, and tank C will fire at tank A\n",
    "\n",
    "- B could kill A, and C could miss [(1-1/2)(1/3)(5/6) = 5/36]\n",
    "- C could kill A, and B could miss [(1-1/2)(2/3)(1/6) = 2/36]\n",
    "- They could both kill A [(1-1/2)(1/3)(1/6) = 1/36]\n",
    "\n",
    "### $\\implies  P(ABC \\rightarrow AC) = 5/36+2/36+1/36 = 2/9$"
   ]
  },
  {
   "cell_type": "markdown",
   "metadata": {},
   "source": [
    "### 5. $P(ABC \\rightarrow A)$\n",
    "\n",
    "#### This cannot happen since no one is firing at tank C\n",
    "\n",
    "### $\\implies  P(ABC \\rightarrow A) = 0$\n",
    "\n",
    "### 6. $P(ABC \\rightarrow B) = 0$\n",
    "\n",
    "#### Like in case 5, this cannot happen since no one is firing at tank C"
   ]
  },
  {
   "cell_type": "markdown",
   "metadata": {},
   "source": [
    "### 7. $P(ABC \\rightarrow C)$\n",
    "\n",
    "#### This can happen in three ways\n",
    "\n",
    "1. A fires at B and hits it, B fires at A and hits it, and C fires at A and misses\n",
    "    - (1/2)(1/3)(5/6) = 5/36\n",
    "2. A fires at B and hits it, B fires at A and misses, and C fires at A and hits it\n",
    "    - (1/2)(2/3)(1/6) = 2/36\n",
    "3. A fires at B and hits it, B fires at A and hits it, and C fires at A and also hits it\n",
    "    - (1/2)(1/3)(1/6) = 1/36\n",
    "    \n",
    "### $\\implies  P(ABC \\rightarrow C) = 5/36+2/36+1/36 = 8/36 = 2/9$"
   ]
  },
  {
   "cell_type": "markdown",
   "metadata": {},
   "source": [
    "# We've finally calculated all the probabilities, which gives us the following transition matrix (in canonical form)"
   ]
  },
  {
   "cell_type": "markdown",
   "metadata": {},
   "source": [
    "![](images/12.PNG)"
   ]
  },
  {
   "cell_type": "markdown",
   "metadata": {},
   "source": [
    "______\n",
    "\n",
    "# a)\n",
    "\n",
    "### From the matrix $P$ above, we get the following matrix $Q$"
   ]
  },
  {
   "cell_type": "markdown",
   "metadata": {},
   "source": [
    "# $Q = \\begin{pmatrix}5/18 & 5/18 & 4/18\\\\ 0 & 5/12 & 0\\\\ 0 & 0 & 10/18\\end{pmatrix}$"
   ]
  },
  {
   "cell_type": "markdown",
   "metadata": {},
   "source": [
    "# $ \\implies (I-Q) = \\begin{pmatrix}13/18 & -5/18 & -4/18\\\\ 0 & 7/12 & 0\\\\ 0 & 0 & 8/18\\end{pmatrix}$"
   ]
  },
  {
   "cell_type": "markdown",
   "metadata": {},
   "source": [
    "**Using numpy to calculate the inverse**"
   ]
  },
  {
   "cell_type": "code",
   "execution_count": 2,
   "metadata": {
    "collapsed": true
   },
   "outputs": [],
   "source": [
    "import numpy as np"
   ]
  },
  {
   "cell_type": "code",
   "execution_count": 3,
   "metadata": {
    "collapsed": false
   },
   "outputs": [
    {
     "data": {
      "text/plain": [
       "array([[ 0.72222222, -0.27777778, -0.22222222],\n",
       "       [ 0.        ,  0.58333333,  0.        ],\n",
       "       [ 0.        ,  0.        ,  0.44444444]])"
      ]
     },
     "execution_count": 3,
     "metadata": {},
     "output_type": "execute_result"
    }
   ],
   "source": [
    "matrix = np.array([[13.0/18, -5.0/18, -4.0/18],[0, 7.0/12, 0],[0, 0, 8.0/18]])\n",
    "matrix"
   ]
  },
  {
   "cell_type": "code",
   "execution_count": 4,
   "metadata": {
    "collapsed": false
   },
   "outputs": [
    {
     "data": {
      "text/plain": [
       "array([[ 1.38461538,  0.65934066,  0.69230769],\n",
       "       [ 0.        ,  1.71428571,  0.        ],\n",
       "       [ 0.        ,  0.        ,  2.25      ]])"
      ]
     },
     "execution_count": 4,
     "metadata": {},
     "output_type": "execute_result"
    }
   ],
   "source": [
    "N = np.linalg.inv(matrix)\n",
    "N"
   ]
  },
  {
   "cell_type": "markdown",
   "metadata": {},
   "source": [
    "# $\\implies N = \\begin{pmatrix}1.38461538 & 0.65934066 & 0.69230769\\\\ 0 & 1.71428571 & 0\\\\ 0 & 0 & 2.25\\end{pmatrix}$"
   ]
  },
  {
   "cell_type": "markdown",
   "metadata": {},
   "source": [
    "______\n",
    "\n",
    "# b)\n",
    "\n",
    "**Don't wanna bother calculating $Nc$ by hand**"
   ]
  },
  {
   "cell_type": "code",
   "execution_count": 5,
   "metadata": {
    "collapsed": true
   },
   "outputs": [],
   "source": [
    "c = np.array([[1],[1],[1]])\n",
    "Nc = np.matmul(N, c)"
   ]
  },
  {
   "cell_type": "code",
   "execution_count": 6,
   "metadata": {
    "collapsed": false
   },
   "outputs": [
    {
     "data": {
      "text/plain": [
       "array([[ 2.73626374],\n",
       "       [ 1.71428571],\n",
       "       [ 2.25      ]])"
      ]
     },
     "execution_count": 6,
     "metadata": {},
     "output_type": "execute_result"
    }
   ],
   "source": [
    "Nc"
   ]
  },
  {
   "cell_type": "markdown",
   "metadata": {},
   "source": [
    "# $\\implies Nc = \\begin{pmatrix}2.73626374\\\\ 1.71428571\\\\ 2.25\\end{pmatrix}$"
   ]
  },
  {
   "cell_type": "markdown",
   "metadata": {},
   "source": [
    "______\n",
    "\n",
    "# c)\n",
    "\n",
    "# $R = \\begin{pmatrix}0 & 0 & 4/18 & 0\\\\ 5/12 & 0 & 1/12 & 1/12\\\\ 0 & 5/18 & 2/18 & 1/18\\end{pmatrix}$"
   ]
  },
  {
   "cell_type": "markdown",
   "metadata": {
    "collapsed": true
   },
   "source": [
    "**Again, don't wanna bother doing it by hand**"
   ]
  },
  {
   "cell_type": "code",
   "execution_count": 7,
   "metadata": {
    "collapsed": false
   },
   "outputs": [],
   "source": [
    "R = np.array([[0,0,4.0/18,0],[5.0/12,0,1.0/12,1.0/12],[0,5.0/18,2.0/18,1.0/18]])\n",
    "NR = np.matmul(N,R)"
   ]
  },
  {
   "cell_type": "code",
   "execution_count": 8,
   "metadata": {
    "collapsed": false
   },
   "outputs": [
    {
     "data": {
      "text/plain": [
       "array([[ 0.27472527,  0.19230769,  0.43956044,  0.09340659],\n",
       "       [ 0.71428571,  0.        ,  0.14285714,  0.14285714],\n",
       "       [ 0.        ,  0.625     ,  0.25      ,  0.125     ]])"
      ]
     },
     "execution_count": 8,
     "metadata": {},
     "output_type": "execute_result"
    }
   ],
   "source": [
    "NR"
   ]
  },
  {
   "cell_type": "markdown",
   "metadata": {},
   "source": [
    "# $\\implies NR = \\begin{pmatrix}0.27472527 & 0.19230769 & 0.43956044 & 0.09340659\\\\ 0.71428571 & 0 & 0.14285714 & 0.14285714\\\\ 0 & 0.625 & 0.25 & 0.125\\end{pmatrix}$"
   ]
  },
  {
   "cell_type": "markdown",
   "metadata": {},
   "source": [
    "______\n",
    "\n",
    "\n",
    "# Recall:\n",
    "\n",
    "### $N$ tells us the expected number of steps spent in each transient state, given we start in a specified state\n",
    "\n",
    "### $Nc$ tells us the time to absorption for the process if we start in each state\n",
    "\n",
    "### $NR$ tells us the probability of being absorbed by each absorbing state given that we start in each transient state"
   ]
  },
  {
   "cell_type": "markdown",
   "metadata": {},
   "source": [
    "- This means that $N$ tells us that we expect to spend the most steps in the transient state we start in\n",
    "- $Nc$ tells us that we expect to be absorbed in fewer than 3 steps\n",
    "- $NR$ tells us that all three being destroyed is usially the least likely outcome no matter where we start"
   ]
  }
 ],
 "metadata": {
  "kernelspec": {
   "display_name": "Python 2",
   "language": "python",
   "name": "python2"
  },
  "language_info": {
   "codemirror_mode": {
    "name": "ipython",
    "version": 2
   },
   "file_extension": ".py",
   "mimetype": "text/x-python",
   "name": "python",
   "nbconvert_exporter": "python",
   "pygments_lexer": "ipython2",
   "version": "2.7.11"
  }
 },
 "nbformat": 4,
 "nbformat_minor": 0
}
