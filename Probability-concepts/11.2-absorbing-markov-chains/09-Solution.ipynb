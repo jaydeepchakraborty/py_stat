{
 "cells": [
  {
   "cell_type": "markdown",
   "metadata": {},
   "source": [
    "# A process moves on the integers 1, 2, 3, 4, and 5\n",
    "\n",
    "# It starts at 1 and, on each successive step, moves to an integer greater than its present position, moving with equal probability to each of the remaining larger integers\n",
    "\n",
    "# State 5 is an absorbing state\n",
    "\n",
    "# Find the expected number of steps to reach state 5"
   ]
  },
  {
   "cell_type": "markdown",
   "metadata": {},
   "source": [
    "_____\n",
    "\n",
    "# The transition matrix for this process is:\n",
    "\n",
    "# $P = \\begin{pmatrix}0 & 1/4 & 1/4 & 1/4 & 1/4\\\\ 0 & 0 & 1/3 & 1/3 & 1/3\\\\ 0 & 0 & 0 & 1/2 & 1/2\\\\ 0 & 0 & 0 & 0 & 1\\\\ 0 & 0 & 0 & 0 & 1\\end{pmatrix}$"
   ]
  },
  {
   "cell_type": "markdown",
   "metadata": {},
   "source": [
    "### Lucky for us, this is already in its canonical form"
   ]
  },
  {
   "cell_type": "markdown",
   "metadata": {},
   "source": [
    "# $\\implies Q = \\begin{pmatrix}0 & 1/4 & 1/4 & 1/4\\\\ 0 & 0 & 1/3 & 1/3\\\\ 0 & 0 & 0 & 1/2\\\\ 0 & 0 & 0 & 0\\end{pmatrix}$"
   ]
  },
  {
   "cell_type": "markdown",
   "metadata": {},
   "source": [
    "# $\\implies (I-Q) = \\begin{pmatrix}1 & -1/4 & -1/4 & -1/4\\\\ 0 & 1 & -1/3 & -1/3\\\\ 0 & 0 & 1 & -1/2\\\\ 0 & 0 & 0 & 1\\end{pmatrix}$"
   ]
  },
  {
   "cell_type": "markdown",
   "metadata": {},
   "source": [
    "### Using numpy to calculate the inverse"
   ]
  },
  {
   "cell_type": "code",
   "execution_count": 1,
   "metadata": {
    "collapsed": true
   },
   "outputs": [],
   "source": [
    "import numpy as np"
   ]
  },
  {
   "cell_type": "code",
   "execution_count": 2,
   "metadata": {
    "collapsed": true
   },
   "outputs": [],
   "source": [
    "matrix = np.array([[1, -0.25, -0.25, -0.25],\n",
    "                  [0, 1, -1/3.0, -1/3.0],\n",
    "                  [0, 0, 1, -0.5],\n",
    "                  [0, 0, 0, 1]])"
   ]
  },
  {
   "cell_type": "code",
   "execution_count": 4,
   "metadata": {
    "collapsed": false
   },
   "outputs": [
    {
     "data": {
      "text/plain": [
       "array([[ 1.        ,  0.25      ,  0.33333333,  0.5       ],\n",
       "       [ 0.        ,  1.        ,  0.33333333,  0.5       ],\n",
       "       [ 0.        ,  0.        ,  1.        ,  0.5       ],\n",
       "       [ 0.        ,  0.        ,  0.        ,  1.        ]])"
      ]
     },
     "execution_count": 4,
     "metadata": {},
     "output_type": "execute_result"
    }
   ],
   "source": [
    "N = np.linalg.inv(matrix)\n",
    "N"
   ]
  },
  {
   "cell_type": "markdown",
   "metadata": {},
   "source": [
    "# $\\implies N = \\begin{pmatrix}1 & 1/4 & 1/3 & 1/2\\\\ 0 & 1 & 1/3 & 1/2\\\\ 0 & 0 & 1 & 1/2\\\\ 0 & 0 & 0 & 1\\end{pmatrix}$"
   ]
  },
  {
   "cell_type": "markdown",
   "metadata": {},
   "source": [
    "# $c = \\begin{pmatrix}1\\\\ 1\\\\ 1\\\\ 1\\end{pmatrix}$"
   ]
  },
  {
   "cell_type": "markdown",
   "metadata": {},
   "source": [
    "### Using numpy to do this matrix math"
   ]
  },
  {
   "cell_type": "code",
   "execution_count": 10,
   "metadata": {
    "collapsed": true
   },
   "outputs": [],
   "source": [
    "c = np.ones(4)[:, np.newaxis]"
   ]
  },
  {
   "cell_type": "code",
   "execution_count": 13,
   "metadata": {
    "collapsed": false
   },
   "outputs": [
    {
     "data": {
      "text/plain": [
       "array([[ 2.08333333],\n",
       "       [ 1.83333333],\n",
       "       [ 1.5       ],\n",
       "       [ 1.        ]])"
      ]
     },
     "execution_count": 13,
     "metadata": {},
     "output_type": "execute_result"
    }
   ],
   "source": [
    "Nc = np.matmul(N, c)\n",
    "Nc"
   ]
  },
  {
   "cell_type": "markdown",
   "metadata": {},
   "source": [
    "# $\\implies Nc = \\begin{pmatrix}2.08333\\\\ 1.83333\\\\ 1.5\\\\ 1\\end{pmatrix}$"
   ]
  },
  {
   "cell_type": "markdown",
   "metadata": {},
   "source": [
    "# Recall: $Nc$ tells us the time to absorption if we start in each state\n",
    "\n",
    "### Since we can only start in start 1, we only care about the top value"
   ]
  },
  {
   "cell_type": "markdown",
   "metadata": {},
   "source": [
    "# Therefore, the expected number of steps to reach stage 5 is 2.083"
   ]
  },
  {
   "cell_type": "markdown",
   "metadata": {},
   "source": [
    "_____\n",
    "\n",
    "## We can confirm this by simulation"
   ]
  },
  {
   "cell_type": "code",
   "execution_count": 29,
   "metadata": {
    "collapsed": true
   },
   "outputs": [],
   "source": [
    "def sim():\n",
    "    list_states = [1,2,3,4,5]\n",
    "    \n",
    "    state = 1\n",
    "    \n",
    "    n_steps = 0\n",
    "    \n",
    "    while state < 5:\n",
    "        n_steps += 1\n",
    "        index = list_states.index(state)\n",
    "        list_states = list_states[index+1:]\n",
    "        state = np.random.choice(list_states)\n",
    "    return n_steps"
   ]
  },
  {
   "cell_type": "code",
   "execution_count": 32,
   "metadata": {
    "collapsed": false
   },
   "outputs": [],
   "source": [
    "results = []\n",
    "for i in range(100000):\n",
    "    results.append(sim())"
   ]
  },
  {
   "cell_type": "code",
   "execution_count": 33,
   "metadata": {
    "collapsed": false
   },
   "outputs": [
    {
     "data": {
      "text/plain": [
       "2.0833699999999999"
      ]
     },
     "execution_count": 33,
     "metadata": {},
     "output_type": "execute_result"
    }
   ],
   "source": [
    "np.mean(results)"
   ]
  },
  {
   "cell_type": "markdown",
   "metadata": {},
   "source": [
    "### Bang on"
   ]
  }
 ],
 "metadata": {
  "kernelspec": {
   "display_name": "Python 2",
   "language": "python",
   "name": "python2"
  },
  "language_info": {
   "codemirror_mode": {
    "name": "ipython",
    "version": 2
   },
   "file_extension": ".py",
   "mimetype": "text/x-python",
   "name": "python",
   "nbconvert_exporter": "python",
   "pygments_lexer": "ipython2",
   "version": "2.7.11"
  }
 },
 "nbformat": 4,
 "nbformat_minor": 0
}
