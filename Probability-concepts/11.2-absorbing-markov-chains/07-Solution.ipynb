{
 "cells": [
  {
   "cell_type": "markdown",
   "metadata": {},
   "source": [
    "# In Example 11.8, make states 0 and 4 into absorbing states. Find the fundamental matrix $N$, and also $Nc$ and $NR$, for the resulting absorbing chain. Interpret the results"
   ]
  },
  {
   "cell_type": "markdown",
   "metadata": {},
   "source": [
    "_____\n",
    "\n",
    "# The original transition matrix is:\n",
    "\n",
    "# $P = \\begin{pmatrix}0 & 1 & 0 & 0 & 0\\\\ 1/4 & 0 & 3/4 & 0 & 0\\\\ 0 & 1/2 & 0 & 1/2 & 0\\\\ 0 & 0 & 3/4 & 0 & 1/4\\\\ 0 & 0 & 0 & 1 & 0\\end{pmatrix}$"
   ]
  },
  {
   "cell_type": "markdown",
   "metadata": {},
   "source": [
    "# Converting it to have 0 and 4 as absorbing states, it becomes:\n",
    "\n",
    "# $P = \\begin{pmatrix}1 & 0 & 0 & 0 & 0\\\\ 1/4 & 0 & 3/4 & 0 & 0\\\\ 0 & 1/2 & 0 & 1/2 & 0\\\\ 0 & 0 & 3/4 & 0 & 1/4\\\\ 0 & 0 & 0 & 0 & 1\\end{pmatrix}$"
   ]
  },
  {
   "cell_type": "markdown",
   "metadata": {},
   "source": [
    "# Then, converting $P$ to its canonical form, it becomes:"
   ]
  },
  {
   "cell_type": "markdown",
   "metadata": {},
   "source": [
    "# $P = \\begin{pmatrix}0 & 3/4 & 0 & 1/4 & 0\\\\ 1/2 & 0 & 1/2 & 0 & 0\\\\ 0 & 3/4 & 0 & 0 & 1/4\\\\ 0 & 0 & 0 & 1 & 0\\\\ 0 & 0 & 0 & 0 & 1\\end{pmatrix}$"
   ]
  },
  {
   "cell_type": "markdown",
   "metadata": {},
   "source": [
    "# $\\implies Q = \\begin{pmatrix}0 & 3/4 & 0\\\\ 1/2 & 0 & 1/2\\\\ 0 & 3/4 & 0\\end{pmatrix}$"
   ]
  },
  {
   "cell_type": "markdown",
   "metadata": {},
   "source": [
    "# $\\implies (I-Q) = \\begin{pmatrix}1 & -3/4 & 0\\\\ -1/2 & 1 & -1/2\\\\ 0 & -3/4 & 1\\end{pmatrix}$"
   ]
  },
  {
   "cell_type": "markdown",
   "metadata": {},
   "source": [
    "### We'll use numpy to calculate the inverse"
   ]
  },
  {
   "cell_type": "code",
   "execution_count": 1,
   "metadata": {
    "collapsed": true
   },
   "outputs": [],
   "source": [
    "import numpy as np"
   ]
  },
  {
   "cell_type": "code",
   "execution_count": 2,
   "metadata": {
    "collapsed": true
   },
   "outputs": [],
   "source": [
    "matrix = np.array([[1,-0.75,0],[-0.5,1,-0.5],[0,-0.75,1]])"
   ]
  },
  {
   "cell_type": "code",
   "execution_count": 3,
   "metadata": {
    "collapsed": false
   },
   "outputs": [
    {
     "data": {
      "text/plain": [
       "array([[ 2.5,  3. ,  1.5],\n",
       "       [ 2. ,  4. ,  2. ],\n",
       "       [ 1.5,  3. ,  2.5]])"
      ]
     },
     "execution_count": 3,
     "metadata": {},
     "output_type": "execute_result"
    }
   ],
   "source": [
    "N = np.linalg.inv(matrix)\n",
    "N"
   ]
  },
  {
   "cell_type": "markdown",
   "metadata": {},
   "source": [
    "# $\\implies N = \\begin{pmatrix}5/2 & 3 & 3/2\\\\ 2 & 4 & 2\\\\ 3/2 & 3 & 5/2\\end{pmatrix}$"
   ]
  },
  {
   "cell_type": "markdown",
   "metadata": {},
   "source": [
    "# $\\implies Nc = \\begin{pmatrix}(5/2)+3+(3/2)\\\\ 2+4+2\\\\ (3/2)+3+(5/2)\\end{pmatrix} = \\begin{pmatrix}7\\\\ 8 \\\\ 7\\end{pmatrix}$"
   ]
  },
  {
   "cell_type": "markdown",
   "metadata": {},
   "source": [
    "# $R = \\begin{pmatrix}1/4 & 0\\\\ 0 & 0\\\\ 0 & 1/4\\end{pmatrix}$"
   ]
  },
  {
   "cell_type": "markdown",
   "metadata": {},
   "source": [
    "# $\\implies NR = \\begin{pmatrix}5/2 & 3 & 3/2\\\\ 2 & 4 & 2\\\\ 3/2 & 3 & 5/2\\end{pmatrix}\\begin{pmatrix}1/4 & 0\\\\ 0 & 0\\\\ 0 & 1/4\\end{pmatrix} = \\begin{pmatrix}5/8 & 3/8\\\\ 1/2 & 1/2\\\\ 3/8 & 5/8\\end{pmatrix}$"
   ]
  }
 ],
 "metadata": {
  "kernelspec": {
   "display_name": "Python 2",
   "language": "python",
   "name": "python2"
  },
  "language_info": {
   "codemirror_mode": {
    "name": "ipython",
    "version": 2
   },
   "file_extension": ".py",
   "mimetype": "text/x-python",
   "name": "python",
   "nbconvert_exporter": "python",
   "pygments_lexer": "ipython2",
   "version": "2.7.11"
  }
 },
 "nbformat": 4,
 "nbformat_minor": 0
}
