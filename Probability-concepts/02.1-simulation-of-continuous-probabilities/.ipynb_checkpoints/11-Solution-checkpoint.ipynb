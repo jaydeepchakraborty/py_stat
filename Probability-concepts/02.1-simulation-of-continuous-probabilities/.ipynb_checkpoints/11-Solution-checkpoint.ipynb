{
 "cells": [
  {
   "cell_type": "markdown",
   "metadata": {},
   "source": [
    "# Here is another way to pick a chord *at random* on the circle of unit radius: imagine that we have a card table whose sides are of length 100.\n",
    "\n",
    "# We place coordinate axes on the table in such a way that each side of the table is parallel to one of the axes with the center at the origin\n",
    "\n",
    "# We now place a circle of unit radius on the table to that the center of the circle is the origin\n",
    "\n",
    "# Now, pick a point $(x_{0},y_{0})$ at random in the square, and an angle $\\theta$ in the interval $[\\frac{-\\pi}{2}, \\frac{\\pi}{2}]$\n",
    "\n",
    "# Let $m = tan\\theta$. Then, the equation of the line passing through $(x_{0},y_{0})$ with slope $m$ is:\n",
    "\n",
    "# $y = y_{0} +m(x-x_{0})$\n",
    "\n",
    "# and the distance of this line from the origin is:\n",
    "\n",
    "# $d = \\left | \\frac{y_{0} - mx_{0}}{\\sqrt{m^{2}+1}} \\right |$\n",
    "\n",
    "# We can use this distance formula to check if the line intersects the circle (i.e. whether $d<1$)\n",
    "\n",
    "# If so, we consider the resulting chord a *random chord*\n",
    "\n",
    "# Write a program to simulate this experiment 10,000 times and estimate the probability that the lenth of the chord is greater than $\\sqrt{3}$"
   ]
  },
  {
   "cell_type": "markdown",
   "metadata": {},
   "source": [
    "___\n",
    "# First, let's think about this:\n",
    "\n",
    "## For illustrative purposes, let's switch the length of the table from 100 to 10"
   ]
  },
  {
   "cell_type": "code",
   "execution_count": 16,
   "metadata": {
    "collapsed": true
   },
   "outputs": [],
   "source": [
    "import numpy as np\n",
    "import matplotlib.pyplot as plt\n",
    "%matplotlib inline\n",
    "plt.rcParams['figure.figsize'] = 10, 10"
   ]
  },
  {
   "cell_type": "code",
   "execution_count": 45,
   "metadata": {
    "collapsed": true
   },
   "outputs": [],
   "source": [
    "x1 = np.arange(-5, 5, 0.1)\n",
    "x2 = np.arange(-1, 1, 0.01)\n",
    "\n",
    "circle1 = np.sqrt(1-x2**2)\n",
    "circle2 = -np.sqrt(1-x2**2)"
   ]
  },
  {
   "cell_type": "code",
   "execution_count": 46,
   "metadata": {
    "collapsed": false
   },
   "outputs": [
    {
     "data": {
      "text/plain": [
       "<matplotlib.collections.PolyCollection at 0xd5cd080>"
      ]
     },
     "execution_count": 46,
     "metadata": {},
     "output_type": "execute_result"
    },
    {
     "data": {
      "image/png": "[encoded data removed]",
      "text/plain": [
       "<matplotlib.figure.Figure at 0xd5cda58>"
      ]
     },
     "metadata": {},
     "output_type": "display_data"
    }
   ],
   "source": [
    "plt.fill_between(x1, 5*np.ones(len(x1)), -5*np.ones(len(x1)))\n",
    "plt.fill_between(x2, circle1, circle2, color = 'r')"
   ]
  },
  {
   "cell_type": "markdown",
   "metadata": {},
   "source": [
    "# Now, we pick random points $(x_{0},y_{0})$ and random angle $\\theta$"
   ]
  },
  {
   "cell_type": "code",
   "execution_count": 27,
   "metadata": {
    "collapsed": false
   },
   "outputs": [
    {
     "data": {
      "text/plain": [
       "0.5631283602950141"
      ]
     },
     "execution_count": 27,
     "metadata": {},
     "output_type": "execute_result"
    }
   ],
   "source": [
    "pi_over_2 = np.pi/2\n",
    "theta = np.random.uniform(-pi_over_2, pi_over_2)\n",
    "theta"
   ]
  },
  {
   "cell_type": "code",
   "execution_count": 28,
   "metadata": {
    "collapsed": false
   },
   "outputs": [
    {
     "data": {
      "text/plain": [
       "(2.0248284618653276, 0.40526289480169631)"
      ]
     },
     "execution_count": 28,
     "metadata": {},
     "output_type": "execute_result"
    }
   ],
   "source": [
    "(x0,y0) = np.random.uniform(-5, 5, size = 2)\n",
    "(x0,y0)"
   ]
  },
  {
   "cell_type": "markdown",
   "metadata": {},
   "source": [
    "# Then, we calculate $m$"
   ]
  },
  {
   "cell_type": "code",
   "execution_count": 29,
   "metadata": {
    "collapsed": true
   },
   "outputs": [],
   "source": [
    "m = np.tan(theta)"
   ]
  },
  {
   "cell_type": "markdown",
   "metadata": {},
   "source": [
    "# Now we can plot the function"
   ]
  },
  {
   "cell_type": "code",
   "execution_count": 33,
   "metadata": {
    "collapsed": false
   },
   "outputs": [
    {
     "data": {
      "text/plain": [
       "[<matplotlib.lines.Line2D at 0xd22e1d0>]"
      ]
     },
     "execution_count": 33,
     "metadata": {},
     "output_type": "execute_result"
    },
    {
     "data": {
      "image/png": "[encoded data removed]",
      "text/plain": [
       "<matplotlib.figure.Figure at 0xcf3cef0>"
      ]
     },
     "metadata": {},
     "output_type": "display_data"
    }
   ],
   "source": [
    "plt.fill_between(x1, 5*np.ones(len(x1)), -5*np.ones(len(x1)))\n",
    "plt.fill_between(x2, circle1, circle2, color = 'r')\n",
    "plt.plot(x1, y0+m*(x1-x0), color = 'y', linewidth = 3)"
   ]
  },
  {
   "cell_type": "markdown",
   "metadata": {},
   "source": [
    "# Now onto the simulation"
   ]
  },
  {
   "cell_type": "code",
   "execution_count": 35,
   "metadata": {
    "collapsed": true
   },
   "outputs": [],
   "source": [
    "def sim(n):\n",
    "    theta_array = np.random.uniform(-pi_over_2, pi_over_2, size = n)\n",
    "    x_array = np.random.uniform(-5, 5, size = n)\n",
    "    y_array = np.random.uniform(-5, 5, size = n)\n",
    "    \n",
    "    m_array = np.tan(theta_array)\n",
    "    \n",
    "    d_array = np.abs((y_array - m_array*x_array)/(np.sqrt(m_array**2 + 1)))\n",
    "    \n",
    "    return d_array"
   ]
  },
  {
   "cell_type": "code",
   "execution_count": 37,
   "metadata": {
    "collapsed": false
   },
   "outputs": [],
   "source": [
    "results = sim(10000)"
   ]
  },
  {
   "cell_type": "code",
   "execution_count": 39,
   "metadata": {
    "collapsed": false
   },
   "outputs": [
    {
     "data": {
      "text/plain": [
       "0.62170000000000003"
      ]
     },
     "execution_count": 39,
     "metadata": {},
     "output_type": "execute_result"
    }
   ],
   "source": [
    "np.mean((results>np.sqrt(3))*1)"
   ]
  }
 ],
 "metadata": {
  "kernelspec": {
   "display_name": "Python 2",
   "language": "python",
   "name": "python2"
  },
  "language_info": {
   "codemirror_mode": {
    "name": "ipython",
    "version": 2
   },
   "file_extension": ".py",
   "mimetype": "text/x-python",
   "name": "python",
   "nbconvert_exporter": "python",
   "pygments_lexer": "ipython2",
   "version": "2.7.11"
  }
 },
 "nbformat": 4,
 "nbformat_minor": 0
}
