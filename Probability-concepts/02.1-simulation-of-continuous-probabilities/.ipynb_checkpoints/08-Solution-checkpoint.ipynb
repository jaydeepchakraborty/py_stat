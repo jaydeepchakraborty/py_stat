{
 "cells": [
  {
   "cell_type": "markdown",
   "metadata": {},
   "source": [
    "# A long needle of length $L$ much bigger than 1 is dropped on the unit square grid\n",
    "\n",
    "# The average number $a$ of lines crossed is approximately:\n",
    "\n",
    "# $ a = \\frac{4L}{\\pi}$\n",
    "\n",
    "# To estimate $\\pi$ by simulation, pick an angle $\\theta$ at random between 0 and $\\frac{\\pi}{2}$ and compute $L sin \\theta + L cos \\theta$. This may be used as for the number of lines crossed. Repeat this many times to estimate $\\pi$ as:\n",
    "\n",
    "# $\\pi = \\frac{4L}{a}$\n",
    "\n",
    "# where $a$ is the average number of lines crossed per experiment\n",
    "\n",
    "# Write a program to simulate this experiment and run your program for the number of experiments equal to 100, 1000, and 10000. Compare your results with the methods of Laplace or Buffon for the same number of experiments (use $L=100$)"
   ]
  },
  {
   "cell_type": "code",
   "execution_count": 3,
   "metadata": {
    "collapsed": true
   },
   "outputs": [],
   "source": [
    "import numpy as np"
   ]
  },
  {
   "cell_type": "code",
   "execution_count": 1,
   "metadata": {
    "collapsed": true
   },
   "outputs": [],
   "source": [
    "def counter(theta):\n",
    "    L_sin = 100*np.sin(theta)\n",
    "    L_cos = 100*np.cos(theta)\n",
    "    return(L_sin+L_cos)"
   ]
  },
  {
   "cell_type": "code",
   "execution_count": 4,
   "metadata": {
    "collapsed": false
   },
   "outputs": [],
   "source": [
    "counter = np.vectorize(counter)"
   ]
  },
  {
   "cell_type": "code",
   "execution_count": 5,
   "metadata": {
    "collapsed": true
   },
   "outputs": [],
   "source": [
    "def sim(n):\n",
    "    theta_array = 0.5*np.pi*np.random.random(size=n)\n",
    "    return(counter(theta_array))"
   ]
  },
  {
   "cell_type": "code",
   "execution_count": 6,
   "metadata": {
    "collapsed": false
   },
   "outputs": [
    {
     "data": {
      "text/plain": [
       "array([ 122.97263075,  133.73021268,  122.95105128,  111.4046013 ,\n",
       "        129.93805106,  141.17063222,  141.00437607,  137.17317665,\n",
       "        141.08289435,  129.47624328])"
      ]
     },
     "execution_count": 6,
     "metadata": {},
     "output_type": "execute_result"
    }
   ],
   "source": [
    "sim(10)"
   ]
  },
  {
   "cell_type": "code",
   "execution_count": 8,
   "metadata": {
    "collapsed": false
   },
   "outputs": [
    {
     "name": "stdout",
     "output_type": "stream",
     "text": [
      "n = 100\n",
      "pi estimate = 3.158971937\n",
      "\n",
      "\n",
      "n = 1000\n",
      "pi estimate = 3.14376366331\n",
      "\n",
      "\n",
      "n = 10000\n",
      "pi estimate = 3.1439568233\n",
      "\n",
      "\n",
      "n = 100000\n",
      "pi estimate = 3.14025303485\n",
      "\n",
      "\n",
      "n = 1000000\n",
      "pi estimate = 3.14178518998\n",
      "\n",
      "\n"
     ]
    }
   ],
   "source": [
    "for n in [100, 1000, 10000, 100000, 1000000]:\n",
    "    print('n = '+str(n))\n",
    "    print('pi estimate = '+str(400/np.mean(sim(n))))\n",
    "    print('\\n')"
   ]
  },
  {
   "cell_type": "markdown",
   "metadata": {},
   "source": [
    "# Seems to be the best estimate"
   ]
  }
 ],
 "metadata": {
  "kernelspec": {
   "display_name": "Python 2",
   "language": "python",
   "name": "python2"
  },
  "language_info": {
   "codemirror_mode": {
    "name": "ipython",
    "version": 2
   },
   "file_extension": ".py",
   "mimetype": "text/x-python",
   "name": "python",
   "nbconvert_exporter": "python",
   "pygments_lexer": "ipython2",
   "version": "2.7.11"
  }
 },
 "nbformat": 4,
 "nbformat_minor": 0
}
