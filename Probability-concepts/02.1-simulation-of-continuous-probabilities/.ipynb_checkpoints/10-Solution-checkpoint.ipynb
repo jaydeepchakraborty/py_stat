{
 "cells": [
  {
   "cell_type": "markdown",
   "metadata": {},
   "source": [
    "# In Exercise 9, the distribution came \"out of a hat\". In this problem, we will again consider an experiment whose outcomes are not equally likely.\n",
    "\n",
    "# We will determine a function $f(x)$ which can be used to determine the probability of certain events\n",
    "\n",
    "# Let $T$ be the right triangle in the plane with vertices at the points (0,0), (1,0), and (0,1)\n",
    "\n",
    "# The experiment consists of picking a point at random in the interior of $T$, and recording only the $x$-coordinate of the point. Thus, the sample space is the set [0,1], but the outcomes are not equally likely\n",
    "\n",
    "# We can simulate this experiment b asking a computer to return two random real numbers in [0,1], and recording the first value when the sum of the two is less than one\n",
    "\n",
    "# Write this program and run it for 10,000 trials\n",
    "\n",
    "# Then make a bar graph of the results, breaking the interval [0,1] into 10 intervals\n",
    "\n",
    "# Compare the bar graph to the function $f(x) = 2-2x$\n",
    "\n",
    "# Now, show that there is some constant $c$ such that the height of T at the $x$-coordinate is $c$ times f(x) for every $x$ in [0,1]\n",
    "\n",
    "# Finally, show that:\n",
    "\n",
    "# $\\int^{1}_{0}f(x)dx = 1$\n",
    "\n",
    "# How can we use $f(x)$ to solve for the probability that the outcome is between 0.2 and 0.5?"
   ]
  },
  {
   "cell_type": "markdown",
   "metadata": {},
   "source": [
    "___\n",
    "\n",
    "# First, let's think about this:"
   ]
  },
  {
   "cell_type": "code",
   "execution_count": 1,
   "metadata": {
    "collapsed": true
   },
   "outputs": [],
   "source": [
    "import numpy as np\n",
    "import matplotlib.pyplot as plt\n",
    "%matplotlib inline\n",
    "plt.rcParams['figure.figsize'] = 10, 7.5"
   ]
  },
  {
   "cell_type": "code",
   "execution_count": 5,
   "metadata": {
    "collapsed": false
   },
   "outputs": [
    {
     "data": {
      "text/plain": [
       "<matplotlib.collections.PolyCollection at 0xa77c0f0>"
      ]
     },
     "execution_count": 5,
     "metadata": {},
     "output_type": "execute_result"
    },
    {
     "name": "stderr",
     "output_type": "stream",
     "text": [
      "Z:\\Users\\sinclam2\\AppData\\Local\\Continuum\\Anaconda\\lib\\site-packages\\matplotlib\\collections.py:590: FutureWarning: elementwise comparison failed; returning scalar instead, but in the future will perform elementwise comparison\n",
      "  if self._edgecolors == str('face'):\n"
     ]
    },
    {
     "data": {
      "image/png": "[encoded data removed]",
      "text/plain": [
       "<matplotlib.figure.Figure at 0xa77c2b0>"
      ]
     },
     "metadata": {},
     "output_type": "display_data"
    }
   ],
   "source": [
    "x = np.arange(0,1,0.01)\n",
    "y = 1 - x\n",
    "\n",
    "plt.plot(x,y)\n",
    "plt.fill_between(x, y, 0)"
   ]
  },
  {
   "cell_type": "markdown",
   "metadata": {},
   "source": [
    "# The $y$-value is equal to $1-x$ so if we sum $x$ and $y$ we get:\n",
    "\n",
    "# $x+y = x + (1-x) = 1$\n",
    "\n",
    "## That's why if we generate two random values whose sum is less than one, it lies inside the blue triangle"
   ]
  },
  {
   "cell_type": "code",
   "execution_count": 35,
   "metadata": {
    "collapsed": true
   },
   "outputs": [],
   "source": [
    "def sim(n):\n",
    "    rand_array = np.random.random(size = (n, 2))\n",
    "    values = rand_array[(np.sum(rand_array, axis = 1)<=1),0]\n",
    "    return(values)"
   ]
  },
  {
   "cell_type": "code",
   "execution_count": 37,
   "metadata": {
    "collapsed": false
   },
   "outputs": [],
   "source": [
    "results = sim(10000)"
   ]
  },
  {
   "cell_type": "code",
   "execution_count": 45,
   "metadata": {
    "collapsed": false
   },
   "outputs": [],
   "source": [
    "counts, bins = np.histogram(results, bins = 11, range=(0,1.1), normed = True)"
   ]
  },
  {
   "cell_type": "code",
   "execution_count": 49,
   "metadata": {
    "collapsed": false
   },
   "outputs": [
    {
     "data": {
      "text/plain": [
       "0.10000000000000001"
      ]
     },
     "execution_count": 49,
     "metadata": {},
     "output_type": "execute_result"
    }
   ],
   "source": [
    "bins[1]"
   ]
  },
  {
   "cell_type": "code",
   "execution_count": 55,
   "metadata": {
    "collapsed": false
   },
   "outputs": [
    {
     "data": {
      "text/plain": [
       "[<matplotlib.lines.Line2D at 0xb8b6908>]"
      ]
     },
     "execution_count": 55,
     "metadata": {},
     "output_type": "execute_result"
    },
    {
     "data": {
      "image/png": "[encoded data removed]",
      "text/plain": [
       "<matplotlib.figure.Figure at 0xb8b68d0>"
      ]
     },
     "metadata": {},
     "output_type": "display_data"
    }
   ],
   "source": [
    "x_vals = [(bins[i]+bins[i+1])/2 for i in range(len(bins)-1)]\n",
    "plt.plot(x_vals,counts)\n",
    "plt.plot(x, 2 - 2*x, ls = 'dashed', color = 'r')"
   ]
  },
  {
   "cell_type": "markdown",
   "metadata": {},
   "source": [
    "# We can clearly see that the constant $c=0.5$"
   ]
  },
  {
   "cell_type": "markdown",
   "metadata": {},
   "source": [
    "# To show that the integral is equal to 1, we can simply calculate the area of the triangle as:\n",
    "\n",
    "# $\\int^{1}_{0}f(x)dx = \\frac{b\\cdot h}{2} =  \\frac{1\\cdot2}{2} = 1$"
   ]
  },
  {
   "cell_type": "markdown",
   "metadata": {},
   "source": [
    "# To solve for the probability that the height is between 0.2 and 0.5 we can calculate the area under the line, or we can integrate, or we can do a simulation"
   ]
  },
  {
   "cell_type": "code",
   "execution_count": 70,
   "metadata": {
    "collapsed": false
   },
   "outputs": [],
   "source": [
    "results = sim(100000)"
   ]
  },
  {
   "cell_type": "code",
   "execution_count": 71,
   "metadata": {
    "collapsed": true
   },
   "outputs": [],
   "source": [
    "a = results[(results<0.5)&(results>0.2)]"
   ]
  },
  {
   "cell_type": "code",
   "execution_count": 72,
   "metadata": {
    "collapsed": false
   },
   "outputs": [
    {
     "data": {
      "text/plain": [
       "0.3884186725893911"
      ]
     },
     "execution_count": 72,
     "metadata": {},
     "output_type": "execute_result"
    }
   ],
   "source": [
    "len(a)/float(len(results))"
   ]
  },
  {
   "cell_type": "markdown",
   "metadata": {},
   "source": [
    "# About 39% chance\n",
    "\n",
    "## We can double check our answer"
   ]
  },
  {
   "cell_type": "markdown",
   "metadata": {},
   "source": [
    "# $\\int^{0.5}_{0.2}f(x)dx = 2x - x^{2}|^{0.5}_{0.2} = 2(0.5-0.2) - 0.5^{2} + 0.2^{2} = 0.39$\n",
    "\n",
    "# Same answer!"
   ]
  }
 ],
 "metadata": {
  "kernelspec": {
   "display_name": "Python 2",
   "language": "python",
   "name": "python2"
  },
  "language_info": {
   "codemirror_mode": {
    "name": "ipython",
    "version": 2
   },
   "file_extension": ".py",
   "mimetype": "text/x-python",
   "name": "python",
   "nbconvert_exporter": "python",
   "pygments_lexer": "ipython2",
   "version": "2.7.11"
  }
 },
 "nbformat": 4,
 "nbformat_minor": 0
}
