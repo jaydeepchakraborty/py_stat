{
 "cells": [
  {
   "cell_type": "markdown",
   "metadata": {},
   "source": [
    "# In the spinner problem (see Example 2.1) divide the unit circumference into three arcs of length 1/2, 1/3, and 1/6\n",
    "\n",
    "# Write out a program to simulate the spinner experiment 1000 times and print out what fraction of the outcomes fall into each of the 3 arcs\n",
    "\n",
    "# Now plot a bar graph whose bars have width 1/2, 1/3, 1/6 and areas equal to the corresponding fractions as determined by your simulation. Show that the heights of the bars are all nearly the same"
   ]
  },
  {
   "cell_type": "code",
   "execution_count": 2,
   "metadata": {
    "collapsed": true
   },
   "outputs": [],
   "source": [
    "import numpy as np\n",
    "import matplotlib.pyplot as plt\n",
    "%matplotlib inline\n",
    "plt.rcParams['figure.figsize'] = 10, 7.5"
   ]
  },
  {
   "cell_type": "code",
   "execution_count": 6,
   "metadata": {
    "collapsed": true
   },
   "outputs": [],
   "source": [
    "def spinner():\n",
    "    spin =  np.random.random()\n",
    "    if spin<0.5:\n",
    "        return (1,0,0)\n",
    "    elif spin< (0.5+0.3333):\n",
    "        return (0,1,0)\n",
    "    else:\n",
    "        return (0,0,1)"
   ]
  },
  {
   "cell_type": "code",
   "execution_count": 8,
   "metadata": {
    "collapsed": false
   },
   "outputs": [],
   "source": [
    "X = 0\n",
    "Y = 0\n",
    "Z = 0\n",
    "\n",
    "for i in range(1000):\n",
    "    (x,y,z) = spinner()\n",
    "    X += x\n",
    "    Y += y\n",
    "    Z += z"
   ]
  },
  {
   "cell_type": "code",
   "execution_count": 18,
   "metadata": {
    "collapsed": false
   },
   "outputs": [
    {
     "data": {
      "text/plain": [
       "<Container object of 1 artists>"
      ]
     },
     "execution_count": 18,
     "metadata": {},
     "output_type": "execute_result"
    },
    {
     "data": {
      "image/png": "[encoded data removed]",
      "text/plain": [
       "<matplotlib.figure.Figure at 0xb6e3d30>"
      ]
     },
     "metadata": {},
     "output_type": "display_data"
    }
   ],
   "source": [
    "plt.bar(1, float(X)/0.5, width = 0.5, align = 'center')\n",
    "plt.bar(2, float(Y)/(0.333), width = 0.333, align = 'center')\n",
    "plt.bar(3, float(Z)/(0.3333/2), width = 0.3333/float(2), align = 'center')"
   ]
  },
  {
   "cell_type": "markdown",
   "metadata": {},
   "source": [
    "## All about the same\n",
    "\n",
    "## Will converge even further if we crank 1000 up to 10000"
   ]
  },
  {
   "cell_type": "code",
   "execution_count": 19,
   "metadata": {
    "collapsed": false
   },
   "outputs": [
    {
     "data": {
      "text/plain": [
       "<Container object of 1 artists>"
      ]
     },
     "execution_count": 19,
     "metadata": {},
     "output_type": "execute_result"
    },
    {
     "data": {
      "image/png": "[encoded data removed]",
      "text/plain": [
       "<matplotlib.figure.Figure at 0xb65b2b0>"
      ]
     },
     "metadata": {},
     "output_type": "display_data"
    }
   ],
   "source": [
    "X = 0\n",
    "Y = 0\n",
    "Z = 0\n",
    "\n",
    "for i in range(10000):\n",
    "    (x,y,z) = spinner()\n",
    "    X += x\n",
    "    Y += y\n",
    "    Z += z\n",
    "    \n",
    "plt.bar(1, float(X)/0.5, width = 0.5, align = 'center')\n",
    "plt.bar(2, float(Y)/(0.333), width = 0.333, align = 'center')\n",
    "plt.bar(3, float(Z)/(0.3333/2), width = 0.3333/float(2), align = 'center')"
   ]
  }
 ],
 "metadata": {
  "kernelspec": {
   "display_name": "Python 2",
   "language": "python",
   "name": "python2"
  },
  "language_info": {
   "codemirror_mode": {
    "name": "ipython",
    "version": 2
   },
   "file_extension": ".py",
   "mimetype": "text/x-python",
   "name": "python",
   "nbconvert_exporter": "python",
   "pygments_lexer": "ipython2",
   "version": "2.7.11"
  }
 },
 "nbformat": 4,
 "nbformat_minor": 0
}
