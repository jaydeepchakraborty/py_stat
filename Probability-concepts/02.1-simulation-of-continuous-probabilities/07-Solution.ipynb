{
 "cells": [
  {
   "cell_type": "markdown",
   "metadata": {},
   "source": [
    "# For Buffon's needle problem, Laplace considered a grid with both horizontal and vertical lines one unit apart. He showed that the probability that a needle of length $L \\leq 1$ crosses *at least* one line is:\n",
    "\n",
    "# $p = \\frac{4L - L^{2}}{\\pi}$\n",
    "\n",
    "# To simulate this experiment, we choose a random angle $\\theta$ between $0$ and $\\frac{\\pi}{2}$ and independently two numbers $d_{1}$ and $d_{2}$ (the distance to the closest horizontal and vertical line) such that $d_{1}, d_{2} \\leq \\frac{L}{2}$\n",
    "\n",
    "# The needle crosses the line if $d_{1} \\leq \\frac{L}{2}sin\\theta$ or $d_{2} \\leq \\frac{L}{2}cos\\theta$\n",
    "\n",
    "# We do this a large number of times and estimate $\\pi$ as:\n",
    "\n",
    "# $\\pi = \\frac{4L - L^{2}}{a}$ where $a$ is the proportion of times the needle crosses a line\n",
    "\n",
    "# Write a program to estimate $\\pi$ by this method, and run 100, 1000, and 10000 experiments (assume $L=1$)\n",
    "\n",
    "# Compare the results to those from exercise 6"
   ]
  },
  {
   "cell_type": "code",
   "execution_count": 1,
   "metadata": {
    "collapsed": true
   },
   "outputs": [],
   "source": [
    "import numpy as np\n",
    "import matplotlib.pyplot as plt\n",
    "%matplotlib inline\n",
    "plt.rcParams['figure.figsize'] = 10, 7.5"
   ]
  },
  {
   "cell_type": "code",
   "execution_count": 5,
   "metadata": {
    "collapsed": true
   },
   "outputs": [],
   "source": [
    "def checker(d1, d2, theta):\n",
    "    if (d1<=0.5*np.sin(theta))|(d2<=0.5*np.cos(theta)):\n",
    "        return(1)\n",
    "    else:\n",
    "        return(0)"
   ]
  },
  {
   "cell_type": "code",
   "execution_count": 6,
   "metadata": {
    "collapsed": true
   },
   "outputs": [],
   "source": [
    "checker = np.vectorize(checker)"
   ]
  },
  {
   "cell_type": "code",
   "execution_count": 9,
   "metadata": {
    "collapsed": true
   },
   "outputs": [],
   "source": [
    "def Buffon_sim_2D(n):\n",
    "    d1_array = 0.5*np.random.random(size = n)\n",
    "    d2_array = 0.5*np.random.random(size = n)\n",
    "    theta_array = np.pi*0.5*np.random.random(size = n)\n",
    "    return(np.sum(checker(d1_array, d2_array, theta_array))/float(n))"
   ]
  },
  {
   "cell_type": "code",
   "execution_count": 11,
   "metadata": {
    "collapsed": false
   },
   "outputs": [
    {
     "name": "stdout",
     "output_type": "stream",
     "text": [
      "n = 100\n",
      "pi estimate = 3.125\n",
      "\n",
      "\n",
      "n = 1000\n",
      "pi estimate = 3.15457413249\n",
      "\n",
      "\n",
      "n = 10000\n",
      "pi estimate = 3.14762354422\n",
      "\n",
      "\n",
      "n = 100000\n",
      "pi estimate = 3.13466521775\n",
      "\n",
      "\n",
      "n = 1000000\n",
      "pi estimate = 3.14077585539\n",
      "\n",
      "\n"
     ]
    }
   ],
   "source": [
    "for n in [100, 1000, 10000, 100000, 1000000]:\n",
    "    print('n = '+str(n))\n",
    "    print('pi estimate = '+str(3/Buffon_sim_2D(n)))\n",
    "    print('\\n')"
   ]
  },
  {
   "cell_type": "markdown",
   "metadata": {},
   "source": [
    "# Also a good estimate"
   ]
  }
 ],
 "metadata": {
  "kernelspec": {
   "display_name": "Python 2",
   "language": "python",
   "name": "python2"
  },
  "language_info": {
   "codemirror_mode": {
    "name": "ipython",
    "version": 2
   },
   "file_extension": ".py",
   "mimetype": "text/x-python",
   "name": "python",
   "nbconvert_exporter": "python",
   "pygments_lexer": "ipython2",
   "version": "2.7.11"
  }
 },
 "nbformat": 4,
 "nbformat_minor": 0
}
