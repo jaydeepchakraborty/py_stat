{
 "cells": [
  {
   "cell_type": "markdown",
   "metadata": {},
   "source": [
    "# Do the same as in Exercise 1, but divide the unit circumference into five arcs of length 1/3, 1/4, 1/5, 1/6, and 1/20"
   ]
  },
  {
   "cell_type": "code",
   "execution_count": 1,
   "metadata": {
    "collapsed": true
   },
   "outputs": [],
   "source": [
    "import numpy as np\n",
    "import matplotlib.pyplot as plt\n",
    "%matplotlib inline\n",
    "plt.rcParams['figure.figsize'] = 10, 7.5"
   ]
  },
  {
   "cell_type": "code",
   "execution_count": 9,
   "metadata": {
    "collapsed": true
   },
   "outputs": [],
   "source": [
    "a = float(1)/3\n",
    "b = float(1)/4\n",
    "c = float(1)/5\n",
    "d = float(1)/6\n",
    "e = float(1)/20"
   ]
  },
  {
   "cell_type": "code",
   "execution_count": 10,
   "metadata": {
    "collapsed": true
   },
   "outputs": [],
   "source": [
    "def spinner():\n",
    "    spin =  np.random.random()\n",
    "    if spin<a:\n",
    "        return (1,0,0,0,0)\n",
    "    elif spin< (a+b):\n",
    "        return (0,1,0,0,0)\n",
    "    elif spin< (a+b+c):\n",
    "        return (0,0,1,0,0)\n",
    "    elif spin< (a+b+c+d):\n",
    "        return (0,0,0,1,0)\n",
    "    else:\n",
    "        return (0,0,0,0,1)"
   ]
  },
  {
   "cell_type": "code",
   "execution_count": 11,
   "metadata": {
    "collapsed": false
   },
   "outputs": [],
   "source": [
    "A = 0\n",
    "B = 0\n",
    "C = 0\n",
    "D = 0\n",
    "E = 0\n",
    "\n",
    "for i in range(1000):\n",
    "    (v, w, x, y, z) = spinner()\n",
    "    A += v\n",
    "    B += w\n",
    "    C += x\n",
    "    D += y\n",
    "    E += z"
   ]
  },
  {
   "cell_type": "code",
   "execution_count": 12,
   "metadata": {
    "collapsed": false
   },
   "outputs": [
    {
     "data": {
      "text/plain": [
       "<Container object of 1 artists>"
      ]
     },
     "execution_count": 12,
     "metadata": {},
     "output_type": "execute_result"
    },
    {
     "data": {
      "image/png": "[encoded data removed]",
      "text/plain": [
       "<matplotlib.figure.Figure at 0xb41b128>"
      ]
     },
     "metadata": {},
     "output_type": "display_data"
    }
   ],
   "source": [
    "plt.bar(1, float(A)/a, width = a, align = 'center')\n",
    "plt.bar(2, float(B)/b, width = b, align = 'center')\n",
    "plt.bar(3, float(C)/c, width = c, align = 'center')\n",
    "plt.bar(4, float(D)/d, width = d, align = 'center')\n",
    "plt.bar(5, float(E)/e, width = e, align = 'center')"
   ]
  },
  {
   "cell_type": "markdown",
   "metadata": {},
   "source": [
    "# Repeating for 10,000 spins"
   ]
  },
  {
   "cell_type": "code",
   "execution_count": 14,
   "metadata": {
    "collapsed": false
   },
   "outputs": [
    {
     "data": {
      "text/plain": [
       "<Container object of 1 artists>"
      ]
     },
     "execution_count": 14,
     "metadata": {},
     "output_type": "execute_result"
    },
    {
     "data": {
      "image/png": "[encoded data removed]",
      "text/plain": [
       "<matplotlib.figure.Figure at 0xb5e4908>"
      ]
     },
     "metadata": {},
     "output_type": "display_data"
    }
   ],
   "source": [
    "A = 0\n",
    "B = 0\n",
    "C = 0\n",
    "D = 0\n",
    "E = 0\n",
    "\n",
    "for i in range(10000):\n",
    "    (v, w, x, y, z) = spinner()\n",
    "    A += v\n",
    "    B += w\n",
    "    C += x\n",
    "    D += y\n",
    "    E += z\n",
    "    \n",
    "plt.bar(1, float(A)/a, width = a, align = 'center')\n",
    "plt.bar(2, float(B)/b, width = b, align = 'center')\n",
    "plt.bar(3, float(C)/c, width = c, align = 'center')\n",
    "plt.bar(4, float(D)/d, width = d, align = 'center')\n",
    "plt.bar(5, float(E)/e, width = e, align = 'center')"
   ]
  }
 ],
 "metadata": {
  "kernelspec": {
   "display_name": "Python 2",
   "language": "python",
   "name": "python2"
  },
  "language_info": {
   "codemirror_mode": {
    "name": "ipython",
    "version": 2
   },
   "file_extension": ".py",
   "mimetype": "text/x-python",
   "name": "python",
   "nbconvert_exporter": "python",
   "pygments_lexer": "ipython2",
   "version": "2.7.11"
  }
 },
 "nbformat": 4,
 "nbformat_minor": 0
}
