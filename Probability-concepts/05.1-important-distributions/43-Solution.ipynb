{
 "cells": [
  {
   "cell_type": "markdown",
   "metadata": {},
   "source": [
    "# The students in a certain class were classified by hair color and eye color\n",
    "\n",
    "# The conventions used were:\n",
    "\n",
    "## Brown and black hair were considered dark\n",
    "\n",
    "## Red and blonde hair were considered light\n",
    "\n",
    "## Black and brown eyes were considered dark\n",
    "\n",
    "## Blue and green eyes were considered light\n",
    "\n",
    "# The collected data is shown below\n",
    "\n",
    "![](images/46-1.PNG)"
   ]
  },
  {
   "cell_type": "markdown",
   "metadata": {},
   "source": [
    "# Are these traits independent?"
   ]
  },
  {
   "cell_type": "markdown",
   "metadata": {},
   "source": [
    "___\n",
    "\n",
    "# Recall: [Example](summary-of-chapter.ipynb#Suppose-we-have-the-following-data-for-these-traits)"
   ]
  },
  {
   "cell_type": "markdown",
   "metadata": {},
   "source": [
    "### First, we assume these traits are independent\n",
    "\n",
    "- **Recall**: the entire configuration of the table is dependent on the top left value ($s_{11}$)\n",
    "\n",
    "### We can test for independence by solving for $P(s_{11} = x)$ for $x$ in $[28,29,...,37]$\n",
    "\n",
    "### This is because we want to know what the probability of getting a configuration AT LEAST AS EXTREME as the one we got\n",
    "\n",
    "## So we think of the process as follows:\n",
    "\n",
    "- There are 37 dark balls and 38 light balls in a basket\n",
    "- To represent the assignment of eyes for the 43 dark haired students, we choose 43 balls from the basket\n",
    "\n",
    "### For the configuration in the table, the probability of this configuration is equal to:\n",
    "\n",
    "# $\\frac{\\binom{37}{28}\\binom{38}{15}}{\\binom{75}{43}}$\n",
    "\n",
    "# So $P(s_{11} = x) = \\frac{\\binom{37}{x}\\binom{38}{43-x}}{\\binom{75}{43}}$"
   ]
  },
  {
   "cell_type": "code",
   "execution_count": 1,
   "metadata": {
    "collapsed": true
   },
   "outputs": [],
   "source": [
    "from scipy.misc import comb"
   ]
  },
  {
   "cell_type": "code",
   "execution_count": 5,
   "metadata": {
    "collapsed": true
   },
   "outputs": [],
   "source": [
    "def P(x):\n",
    "    choice1 = comb(37,x)\n",
    "    choice2 = comb(38, (43-x))\n",
    "    choice3 = comb(75,43)\n",
    "    return float(choice1)*choice2/choice3"
   ]
  },
  {
   "cell_type": "code",
   "execution_count": 8,
   "metadata": {
    "collapsed": true
   },
   "outputs": [],
   "source": [
    "total = 0\n",
    "\n",
    "for x in range(28, 38):\n",
    "    total += P(x)"
   ]
  },
  {
   "cell_type": "code",
   "execution_count": 9,
   "metadata": {
    "collapsed": false
   },
   "outputs": [
    {
     "data": {
      "text/plain": [
       "0.0015126220315866599"
      ]
     },
     "execution_count": 9,
     "metadata": {},
     "output_type": "execute_result"
    }
   ],
   "source": [
    "total"
   ]
  },
  {
   "cell_type": "markdown",
   "metadata": {},
   "source": [
    "# Since this probability is so low, we can reject the idea that the traits are independent"
   ]
  }
 ],
 "metadata": {
  "kernelspec": {
   "display_name": "Python 2",
   "language": "python",
   "name": "python2"
  },
  "language_info": {
   "codemirror_mode": {
    "name": "ipython",
    "version": 2
   },
   "file_extension": ".py",
   "mimetype": "text/x-python",
   "name": "python",
   "nbconvert_exporter": "python",
   "pygments_lexer": "ipython2",
   "version": "2.7.11"
  }
 },
 "nbformat": 4,
 "nbformat_minor": 0
}
