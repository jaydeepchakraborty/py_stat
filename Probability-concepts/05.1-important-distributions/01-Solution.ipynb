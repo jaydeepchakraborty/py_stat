{
 "cells": [
  {
   "cell_type": "markdown",
   "metadata": {},
   "source": [
    "# For which of the following random variables would it be appropriate to assign a uniform distribution?\n",
    "\n",
    "### a) Let $X$ represent the roll of one die\n",
    "\n",
    "### b) Let $X$ represent the number of heads obtained in three tosses of a coin\n",
    "\n",
    "### c) A roulette wheel has 38 possible outcomes: 0, 00, and 1 through 36. Let $X$ represent the outcome when the wheel is spun\n",
    "\n",
    "### d) Let $X$ represent the birthday of a randomly chosen person\n",
    "\n",
    "### e) Let $X$ represent the number of tosses of a coin necessary to acheive the first H"
   ]
  },
  {
   "cell_type": "markdown",
   "metadata": {},
   "source": [
    "___\n",
    "\n",
    "# a)\n",
    "\n",
    "### Each outcome of the roll is equally likely $\\implies$ uniform distribution IS appropriate"
   ]
  },
  {
   "cell_type": "markdown",
   "metadata": {},
   "source": [
    "___\n",
    "\n",
    "# b)\n",
    "\n",
    "### $P(\\text{Zero Heads}) = \\frac{1}{8}$\n",
    "\n",
    "### $P(\\text{Three Heads}) = \\frac{1}{8}$\n",
    "\n",
    "### $P(\\text{One Head}) = \\binom{3}{1}\\cdot\\frac{1}{8} = \\frac{3}{8}$\n",
    "\n",
    "### $P(\\text{Two Heads}) = \\binom{3}{2}\\cdot\\frac{1}{8} = \\frac{3}{8}$\n",
    "\n",
    "### Each outcome is NOT equally likely $\\implies$ uniform distribution is NOT appropriate"
   ]
  },
  {
   "cell_type": "markdown",
   "metadata": {},
   "source": [
    "___\n",
    "\n",
    "# c)\n",
    "\n",
    "### No outcome of the spin is more likely than any other $\\implies$ uniform distributoin IS appropriate"
   ]
  },
  {
   "cell_type": "markdown",
   "metadata": {},
   "source": [
    "___\n",
    "\n",
    "# d)\n",
    "\n",
    "### Assuming no birthday is any more likely than another, the uniform distribution IS appropriate"
   ]
  },
  {
   "cell_type": "markdown",
   "metadata": {},
   "source": [
    "___\n",
    "\n",
    "# e)\n",
    "\n",
    "### $P(\\text{First H on first toss}) = \\frac{1}{2}$\n",
    "\n",
    "### $P(\\text{First H on second toss}) = \\frac{1}{4}$\n",
    "\n",
    "### $P(\\text{First H on third toss}) = \\frac{1}{8}$\n",
    "\n",
    "### ...\n",
    "\n",
    "### Each outcome is NOT equally likely $\\implies$ uniform distribution is NOT appropriate"
   ]
  }
 ],
 "metadata": {
  "kernelspec": {
   "display_name": "Python 2",
   "language": "python",
   "name": "python2"
  },
  "language_info": {
   "codemirror_mode": {
    "name": "ipython",
    "version": 2
   },
   "file_extension": ".py",
   "mimetype": "text/x-python",
   "name": "python",
   "nbconvert_exporter": "python",
   "pygments_lexer": "ipython2",
   "version": "2.7.11"
  }
 },
 "nbformat": 4,
 "nbformat_minor": 0
}
