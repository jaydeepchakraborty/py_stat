{
 "cells": [
  {
   "cell_type": "markdown",
   "metadata": {},
   "source": [
    "# A die is rolled until the first time $T$ that a six turns up\n",
    "\n",
    "## a) What is the distribution of $T$?\n",
    "\n",
    "## b) Find $P(T>3)$\n",
    "\n",
    "## c) Find $P(T>6|T>3)$"
   ]
  },
  {
   "cell_type": "markdown",
   "metadata": {},
   "source": [
    "____\n",
    "\n",
    "# a)\n",
    "\n",
    "## First, let's think about each possible value of $T$ in isolation\n",
    "\n",
    "### $T=1\\implies$ got a 6 on the first roll $\\implies P(T=1) = \\frac{1}{6}$\n",
    "\n",
    "### $T=2 \\implies$ got anything other than a 6 on the first roll, and a 6 on the second roll $\\implies P(T=2) = (1-\\frac{1}{6})(\\frac{1}{6}) = \\frac{5}{36}$\n",
    "\n",
    "### $T=3 \\implies$ got anything other than a 6 on the first two rolls, and a 6 on the third roll $\\implies P(T=3) = (1-\\frac{1}{6})^{2}(\\frac{1}{6}) = \\frac{25}{216}$\n",
    "\n",
    "## The pattern is pretty clear by now\n",
    "\n",
    "### $P(T=t) = \\frac{1}{6}(1-\\frac{1}{6})^{t-1}$\n",
    "\n",
    "# This is simply the geometric distribution with $p=\\frac{1}{6}$"
   ]
  },
  {
   "cell_type": "markdown",
   "metadata": {},
   "source": [
    "___\n",
    "\n",
    "# b)\n",
    "\n",
    "# To calculate $P(T>3)$, we need to know $P(T=1)$, $P(T=2)$, and $P(T=3)$\n",
    "\n",
    "### We calculated these above\n",
    "\n",
    "### $P(T=1) = \\frac{1}{6}$,  $P(T=2) = \\frac{5}{36}$,  $P(T=3) = \\frac{25}{216}$\n",
    "\n",
    "### $P(T>3) = 1 - P(T=1) - P(T=2) - P(T=3) = 1 - \\frac{1}{6} - \\frac{5}{36} - \\frac{25}{216} = 0.5787037037$"
   ]
  },
  {
   "cell_type": "markdown",
   "metadata": {},
   "source": [
    "___\n",
    "\n",
    "# c)\n",
    "\n",
    "### We first need to calculate $P(T=4)$, $P(T=5)$ and $P(T=6)$\n",
    "\n",
    "### $P(T=4) = (\\frac{5}{6})^{3}\\frac{1}{6} = 0.0965$\n",
    "\n",
    "### $P(T=5) = (\\frac{5}{6})^{4}\\frac{1}{6} = 0.0804$\n",
    "\n",
    "### $P(T=6) = (\\frac{5}{6})^{5}\\frac{1}{6} = 0.0670$\n",
    "\n",
    "#### So $P(T>6) = P(T>3) - P(T=4) - P(T=5) - P(T=6) = 0.5787 - 0.0965 - 0.0804 - 0.0670 = 0.3348$\n",
    "\n",
    "#### We know $P(T>6|T>3) = \\frac{P(T>6 \\cap T>3)}{P(T=3)}$, but $T>6 \\implies T>3$ thus $P(T>6 \\cap T>3) = P(T>6) = 0.3348$\n",
    "\n",
    "# Putting it all together\n",
    "\n",
    "# $P(T>6|T>3) = \\frac{0.3348}{0.5787} = 0.5787$"
   ]
  },
  {
   "cell_type": "markdown",
   "metadata": {},
   "source": [
    "# Note: this shows how the geometric distribution is *memoryless*"
   ]
  }
 ],
 "metadata": {
  "kernelspec": {
   "display_name": "Python 2",
   "language": "python",
   "name": "python2"
  },
  "language_info": {
   "codemirror_mode": {
    "name": "ipython",
    "version": 2
   },
   "file_extension": ".py",
   "mimetype": "text/x-python",
   "name": "python",
   "nbconvert_exporter": "python",
   "pygments_lexer": "ipython2",
   "version": "2.7.11"
  }
 },
 "nbformat": 4,
 "nbformat_minor": 0
}
