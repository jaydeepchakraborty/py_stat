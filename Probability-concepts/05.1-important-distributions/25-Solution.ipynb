{
 "cells": [
  {
   "cell_type": "markdown",
   "metadata": {},
   "source": [
    "# Reese Prosser never puts money in a 10-cent parking meter in Hanover\n",
    "\n",
    "# He assumes that there is a probability of 0.05 that he will be caught\n",
    "\n",
    "# The first offense costs him nothing\n",
    "\n",
    "# The second offense costs \\$2\n",
    "\n",
    "# Further offenses cost \\$5 each\n",
    "\n",
    "# Under his assumptions, how does the expected cost of parking 100 times without paying the meter compare with the cost of paying the meter each time?"
   ]
  },
  {
   "cell_type": "markdown",
   "metadata": {},
   "source": [
    "___\n",
    "\n",
    "## We'll start with the easy part: $(\\text{Cost of paying each time}) = 100\\cdot 0.10 = 10$\n",
    "\n",
    "## So if he gets caught more than three times, he'll pay more\n",
    "\n",
    "## $p = 0.05$; $n=100 \\implies \\lambda = 5$\n",
    "\n",
    "# $P(X=0) = e^{-5} = 0.00674$\n",
    "\n",
    "# $P(X=1) = 5e^{-5} = 0.0337$\n",
    "\n",
    "# $P(X=2) = \\frac{25}{2}e^{-5} = 0.0842$\n",
    "\n",
    "# $P(X=3) = \\frac{125}{6}e^{-5} = 0.1404$\n",
    "\n",
    "# $P(X>2) = 1 - 0.00674 - 0.0337 - 0.0842 - 0.1404 = 0.73496$\n",
    "\n",
    "# So there's a 73% chance that he'll end up paying more by skipping out on paying the meter"
   ]
  }
 ],
 "metadata": {
  "kernelspec": {
   "display_name": "Python 2",
   "language": "python",
   "name": "python2"
  },
  "language_info": {
   "codemirror_mode": {
    "name": "ipython",
    "version": 2
   },
   "file_extension": ".py",
   "mimetype": "text/x-python",
   "name": "python",
   "nbconvert_exporter": "python",
   "pygments_lexer": "ipython2",
   "version": "2.7.11"
  }
 },
 "nbformat": 4,
 "nbformat_minor": 0
}
