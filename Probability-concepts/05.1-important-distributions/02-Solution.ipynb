{
 "cells": [
  {
   "cell_type": "markdown",
   "metadata": {},
   "source": [
    "# Let $n$ be a positive integer\n",
    "\n",
    "# Let $S$ be the set of integers in $[1,2,...,n]$\n",
    "\n",
    "# Consider the following process:\n",
    "\n",
    "### 1. Remove a random value from $S$ and write it down\n",
    "\n",
    "### 2. As long as there are still elements in $S$, repeat step 1\n",
    "\n",
    "# The result is a permutation of the integers from 1 to $n$\n",
    "\n",
    "# Let $X$ be the set of possible permutations\n",
    "\n",
    "# Is $X$ uniformly distributed?"
   ]
  },
  {
   "cell_type": "markdown",
   "metadata": {},
   "source": [
    "___\n",
    "# YES\n",
    "\n",
    "- Each value in $S$ is equally likely to be selected in Step 1\n",
    "    - Therefore the uniform distribution is appropriate"
   ]
  }
 ],
 "metadata": {
  "kernelspec": {
   "display_name": "Python 2",
   "language": "python",
   "name": "python2"
  },
  "language_info": {
   "codemirror_mode": {
    "name": "ipython",
    "version": 2
   },
   "file_extension": ".py",
   "mimetype": "text/x-python",
   "name": "python",
   "nbconvert_exporter": "python",
   "pygments_lexer": "ipython2",
   "version": "2.7.11"
  }
 },
 "nbformat": 4,
 "nbformat_minor": 0
}
