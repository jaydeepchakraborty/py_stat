{
 "cells": [
  {
   "cell_type": "markdown",
   "metadata": {},
   "source": [
    "# Suppose that $X$ is a random variable which represents the number of calls coming in to a police station in a one-minute interval\n",
    "\n",
    "# We can model $X$ using the poisson distribution with parameter $\\lambda$ which represents the average number of calls per minute\n",
    "\n",
    "# Now suppose that $Y$ is a random variable that represents the number of incoming calls in an interval of length $t$\n",
    "\n",
    "# Show that the distribution of $Y$ is given by\n",
    "\n",
    "# $P(Y=k) = e^{-\\lambda t} \\frac{(\\lambda t)^{k}}{k!}$"
   ]
  },
  {
   "cell_type": "markdown",
   "metadata": {},
   "source": [
    "___\n",
    "\n",
    "### Let $\\lambda^{*} = \\lambda t$\n",
    "\n",
    "### Then $P(Y=0) = (1-\\frac{\\lambda^{*}}{n})^{n} \\rightarrow e^{-\\lambda^{*}}$ as $n\\rightarrow \\infty$\n",
    "\n",
    "### $P(Y=k) \\approx \\frac{(\\lambda^{*})^k}{k!}e^{-\\lambda^{*}} = \\frac{(\\lambda t)^k}{k!}e^{-\\lambda t}$"
   ]
  }
 ],
 "metadata": {
  "kernelspec": {
   "display_name": "Python 2",
   "language": "python",
   "name": "python2"
  },
  "language_info": {
   "codemirror_mode": {
    "name": "ipython",
    "version": 2
   },
   "file_extension": ".py",
   "mimetype": "text/x-python",
   "name": "python",
   "nbconvert_exporter": "python",
   "pygments_lexer": "ipython2",
   "version": "2.7.11"
  }
 },
 "nbformat": 4,
 "nbformat_minor": 2
}
