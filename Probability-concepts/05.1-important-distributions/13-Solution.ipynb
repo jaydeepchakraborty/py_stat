{
 "cells": [
  {
   "cell_type": "markdown",
   "metadata": {},
   "source": [
    "# The Poisson distribution with parameter $\\lambda = 0.3$ has been assigned for an experiment\n",
    "\n",
    "# Let $X$ be the random variable representing the outcome of the experiment\n",
    "\n",
    "# Calculate\n",
    "\n",
    "### i) $P(X=0)$\n",
    "\n",
    "### ii) $P(X=1)$\n",
    "\n",
    "### iii) $P(X>1)$"
   ]
  },
  {
   "cell_type": "markdown",
   "metadata": {},
   "source": [
    "___\n",
    "\n",
    "# i)\n",
    "\n",
    "# $P(X=0) = \\frac{\\lambda^{0}}{0!}e^{-\\lambda} = e^{-0.3} = 0.741$"
   ]
  },
  {
   "cell_type": "markdown",
   "metadata": {},
   "source": [
    "___\n",
    "\n",
    "# ii)\n",
    "\n",
    "# $P(X=1) = \\frac{\\lambda^{1}}{1!}e^{-\\lambda} = 0.3e^{-0.3} = 0.222$"
   ]
  },
  {
   "cell_type": "markdown",
   "metadata": {},
   "source": [
    "___\n",
    "\n",
    "# iii)\n",
    "\n",
    "# $P(X>1) = 1 - P(X=0) - P(X=1) = 1 - 0.741 - 0.222 = 0.037$"
   ]
  }
 ],
 "metadata": {
  "kernelspec": {
   "display_name": "Python 2",
   "language": "python",
   "name": "python2"
  },
  "language_info": {
   "codemirror_mode": {
    "name": "ipython",
    "version": 2
   },
   "file_extension": ".py",
   "mimetype": "text/x-python",
   "name": "python",
   "nbconvert_exporter": "python",
   "pygments_lexer": "ipython2",
   "version": "2.7.11"
  }
 },
 "nbformat": 4,
 "nbformat_minor": 0
}
