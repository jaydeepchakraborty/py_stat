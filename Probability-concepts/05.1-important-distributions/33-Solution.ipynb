{
 "cells": [
  {
   "cell_type": "markdown",
   "metadata": {},
   "source": [
    "# Cars coming along Magnolia Street come to a fork in the road and have to choose either Willow Street or Main Street to continue\n",
    "\n",
    "# Assume that the number of cars that arrive at the fork in unite time has a Poisson distribution with $\\lambda = 4$\n",
    "\n",
    "# A car arriving at the fork chooses Main Street with probability $\\frac{3}{4}$ and Willow Street with probability $\\frac{1}{4}$\n",
    "\n",
    "# Let $X$ be the random variable which counts the number of cars that, in a given unit of time, pass by Joe's Barber Shop on Main Street\n",
    "\n",
    "# What is the distribution of $X$?"
   ]
  },
  {
   "cell_type": "markdown",
   "metadata": {},
   "source": [
    "____\n",
    "\n",
    "# We first calculate the expected number of cars that arrive at the fork\n",
    "\n",
    "### We'll do this using a loop"
   ]
  },
  {
   "cell_type": "code",
   "execution_count": 1,
   "metadata": {
    "collapsed": true
   },
   "outputs": [],
   "source": [
    "import numpy as np\n",
    "from math import factorial"
   ]
  },
  {
   "cell_type": "code",
   "execution_count": 6,
   "metadata": {
    "collapsed": false
   },
   "outputs": [],
   "source": [
    "results = 0\n",
    "\n",
    "for k in range(500):\n",
    "    try:\n",
    "        fact = factorial(k)\n",
    "        flip = (float(1)/fact)\n",
    "        val = (4**k)*flip*np.exp(-4)\n",
    "        results += k*val\n",
    "    except OverflowError:\n",
    "        break"
   ]
  },
  {
   "cell_type": "code",
   "execution_count": 8,
   "metadata": {
    "collapsed": false
   },
   "outputs": [
    {
     "data": {
      "text/plain": [
       "2.9999999999999991"
      ]
     },
     "execution_count": 8,
     "metadata": {},
     "output_type": "execute_result"
    }
   ],
   "source": [
    "results*0.75"
   ]
  },
  {
   "cell_type": "markdown",
   "metadata": {},
   "source": [
    "# So since the number of cars is a Poisson distribution with a mean of 4, and 0.75 of them go to Main St, the distribution of $X$ is a Poisson with a mean of 3"
   ]
  }
 ],
 "metadata": {
  "kernelspec": {
   "display_name": "Python 2",
   "language": "python",
   "name": "python2"
  },
  "language_info": {
   "codemirror_mode": {
    "name": "ipython",
    "version": 2
   },
   "file_extension": ".py",
   "mimetype": "text/x-python",
   "name": "python",
   "nbconvert_exporter": "python",
   "pygments_lexer": "ipython2",
   "version": "2.7.11"
  }
 },
 "nbformat": 4,
 "nbformat_minor": 0
}
