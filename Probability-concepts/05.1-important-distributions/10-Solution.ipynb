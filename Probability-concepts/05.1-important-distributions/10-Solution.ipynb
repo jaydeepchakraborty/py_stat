{
 "cells": [
  {
   "cell_type": "markdown",
   "metadata": {},
   "source": [
    "# A census in the US is an attempt to count everyone in the country\n",
    "\n",
    "# It is inevitable that many people are not counted\n",
    "\n",
    "# The US Census Bureau proposed a way to estimate the number of people NOT counted in the latest census. The proposal is as follows:\n",
    "\n",
    "## In a given locality, let $N$ denote the actual number of people who live there\n",
    "\n",
    "## Assume that the census counted $n_{1}$ people living in the area\n",
    "\n",
    "## Now, another census is taken in the area and $n_{2}$ people are counted\n",
    "\n",
    "### a) Given $N$, $n_{1}$, and $n_{2}$, let $X$ denote the number of people counted both times. Find the probability that $X=x$ for $x$ in $[0,1,...,n_{2}]$\n",
    "\n",
    "### b) Now assume that $X=n_{12}$. Find the value of $N$ which maximizes the expression in a)"
   ]
  },
  {
   "cell_type": "markdown",
   "metadata": {},
   "source": [
    "___\n",
    "\n",
    "# a)\n",
    "\n",
    "### First, let's think about the three sets on a Venn diagram\n",
    "\n",
    "![](images/10-1.png)"
   ]
  },
  {
   "cell_type": "markdown",
   "metadata": {},
   "source": [
    "## So first we ask: how many different ways can the $x$ people in the intersection be selected?\n",
    "\n",
    "### Since the total population is $N$, it's $\\binom{N}{x}$\n",
    "\n",
    "### For the remainder of the first $n_{1}$ count, there are $\\binom{N-x}{n_{1}-x}$ ways they could be selected\n",
    "\n",
    "### Then, for the $n_{2}$ count, there are $\\binom{N-x-(n_{1}-x)}{n_{2} - x} = \\binom{N-n_{1}}{n_{2}-x}$ ways they could be selected\n",
    "\n",
    "### Therefore, the number of ways an intersection of size $x$ could be selected is equal to $\\binom{N}{x}\\binom{N-x}{n_{1}-x}\\binom{N-n_{1}}{n_{2}-x}$\n",
    "\n",
    "\n",
    "## The total number of ways $n_{1}$ and $n{2}$ can be selected from a population of size $N$ (without paying any attention to the intersection) is equal to $\\binom{N}{n_{1}}\\binom{N}{n_{2}}$"
   ]
  },
  {
   "cell_type": "markdown",
   "metadata": {},
   "source": [
    "# Therefore $P(X=x) = \\frac{\\binom{N}{x}\\binom{N-x}{n_{1}-x}\\binom{N-n_{1}}{n_{2}-x}}{\\binom{N}{n_{1}}\\binom{N}{n_{2}}}$"
   ]
  },
  {
   "cell_type": "markdown",
   "metadata": {},
   "source": [
    "____\n",
    "# b)\n",
    "\n",
    "### If we set $X=n_{12}$, then $P(X=n_{12}) = \\frac{\\binom{N}{n_{12}}\\binom{N-x}{n_{1}-n_{12}}\\binom{N-n_{1}}{n_{2}-n_{12}}}{\\binom{N}{n_{1}}\\binom{N}{n_{2}}}$\n",
    "\n",
    "### Let's define this as a function of $N$\n",
    "\n",
    "# $f(N) = \\frac{\\binom{N}{n_{12}}\\binom{N-x}{n_{1}-n_{12}}\\binom{N-n_{1}}{n_{2}-n_{12}}}{\\binom{N}{n_{1}}\\binom{N}{n_{2}}}$\n",
    "\n",
    "## Now we can examine $\\frac{f(N+1)}{f(N)} = \\frac{\\binom{N+1}{n_{12}}\\binom{N+1-x}{n_{1}-n_{12}}\\binom{N+1-n_{1}}{n_{2}-n_{12}}}{\\binom{N+1}{n_{1}}\\binom{N+1}{n_{2}}}\\cdot\\frac{\\binom{N}{n_{1}}\\binom{N}{n_{2}}}{\\binom{N}{n_{12}}\\binom{N-x}{n_{1}-n_{12}}\\binom{N-n_{1}}{n_{2}-n_{12}}}$"
   ]
  },
  {
   "cell_type": "markdown",
   "metadata": {},
   "source": [
    "### We now break this down into parts\n",
    "\n",
    "### $\\frac{\\binom{N}{n_{1}}}{\\binom{N+1}{n_{1}}} = \\frac{\\frac{N!}{n_{1}!(N-n_{1})!}}{\\frac{(N+1)!}{n_{1}!(N+1-n_{1})!}} = \\frac{N!n_{1}!(N+1-n_{1})!}{n_{1}!(N-n_{1})!(N+1)!} = \\frac{N+1-n_{1}}{N+1} = 1 - \\frac{n_{1}}{N+1}$\n",
    "\n",
    "### Similarly $\\frac{\\binom{N}{n_{2}}}{\\binom{N+1}{n_{2}}} = 1 - \\frac{n_{2}}{N+1}$\n",
    "\n",
    "### $\\frac{\\binom{N+1}{n_{12}}}{\\binom{N}{n_{12}}} = \\frac{N+1}{N+1-n_{12}}$\n",
    "\n",
    "### Now, let $(N-x) = N^{*}$, and $(n_{1}-n_{12}) = n^{*} \\implies \\frac{\\binom{N+1-x}{n_{1}-n_{12}}}{\\binom{N-x}{n_{1}-n_{12}}} = \\frac{\\binom{N^{*}+1}{n^{*}}}{\\binom{N^{*}}{n^{*}}} = \\frac{N^{*} + 1}{N^{*}+1-n^{*}} =\\frac{N-x + 1}{N-x+1-n_{1}+n_{12}}$"
   ]
  },
  {
   "cell_type": "markdown",
   "metadata": {},
   "source": [
    "# I'm bored of this shit"
   ]
  }
 ],
 "metadata": {
  "kernelspec": {
   "display_name": "Python 3",
   "language": "python",
   "name": "python3"
  },
  "language_info": {
   "codemirror_mode": {
    "name": "ipython",
    "version": 3
   },
   "file_extension": ".py",
   "mimetype": "text/x-python",
   "name": "python",
   "nbconvert_exporter": "python",
   "pygments_lexer": "ipython3",
   "version": "3.6.4"
  }
 },
 "nbformat": 4,
 "nbformat_minor": 2
}
