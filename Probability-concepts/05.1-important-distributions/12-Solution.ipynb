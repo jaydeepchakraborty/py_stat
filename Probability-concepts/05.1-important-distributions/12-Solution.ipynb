{
 "cells": [
  {
   "cell_type": "markdown",
   "metadata": {},
   "source": [
    "# Show that the values of the poisson distribution given in Equation 5.2 sum to 1"
   ]
  },
  {
   "cell_type": "markdown",
   "metadata": {},
   "source": [
    "___\n",
    "\n",
    "# Recall\n",
    "\n",
    "## Equation 5.2: $P(X=k) \\approx e^{-\\lambda}\\frac{\\lambda^{k}}{k!}$\n",
    "\n",
    "## $\\implies \\sum^{\\infty}_{k=0}e^{-\\lambda}\\frac{\\lambda^{k}}{k!} = e^{-\\lambda}\\sum^{\\infty}_{k=0}\\frac{\\lambda^{k}}{k!}$\n",
    "\n",
    "# Recall: the exponential power series is given by:\n",
    "\n",
    "## $e^{x} = \\sum^{\\infty}_{n=0}\\frac{x^{n}}{n!}$\n",
    "\n",
    "## $\\implies \\sum^{\\infty}_{k=0}\\frac{\\lambda^{k}}{k!} = e^{\\lambda} \\implies e^{-\\lambda}\\sum^{\\infty}_{k=0}\\frac{\\lambda^{k}}{k!} = e^{-\\lambda}e^{\\lambda} = e^{0} = 1$"
   ]
  }
 ],
 "metadata": {
  "kernelspec": {
   "display_name": "Python 2",
   "language": "python",
   "name": "python2"
  },
  "language_info": {
   "codemirror_mode": {
    "name": "ipython",
    "version": 2
   },
   "file_extension": ".py",
   "mimetype": "text/x-python",
   "name": "python",
   "nbconvert_exporter": "python",
   "pygments_lexer": "ipython2",
   "version": "2.7.11"
  }
 },
 "nbformat": 4,
 "nbformat_minor": 0
}
