{
 "cells": [
  {
   "cell_type": "markdown",
   "metadata": {},
   "source": [
    "# A worker for the Dept of Fish and Game is assigned the job of estimating the number of trout in a certain lake of modest size\n",
    "\n",
    "# She proceeds as follows: she catches 100 trout, tags each of them, and puts them back in the lake\n",
    "\n",
    "# One month later, she catches 100 more trout, and notes that 10 of them have tags\n",
    "\n",
    "### a) Without doing any fancy calculations, give a rough estimate of the number of fish in the lake\n",
    "\n",
    "### b) Let $N$ be the number of trout in the lake. Find an expression, in terms of $N$, for the probability that the worker would catch 10 tagged trout out of 100 that she caught the last time\n",
    "\n",
    "### c) Find the value of $N$ that maximizes the expression in part b). This value is called the *maximum likelihood estimate* for the unknown quantity $N$"
   ]
  },
  {
   "cell_type": "markdown",
   "metadata": {},
   "source": [
    "___\n",
    "\n",
    "# a)\n",
    "\n",
    "### Assuming that in the 1 month period the tagged fish diffused randomly throughout the lake, the probability of a given fish being tagged is $\\frac{100}{\\text{Total Number of Fish}}$\n",
    "\n",
    "### Since she caught 10, this means $10 = 100 \\cdot \\frac{100}{\\text{Total Number of Fish}} \\implies \\text{Total Number of Fish} = 1000$"
   ]
  },
  {
   "cell_type": "markdown",
   "metadata": {},
   "source": [
    "___\n",
    "\n",
    "# b)\n",
    "\n",
    "# There are 100 tagged fish in the lake, and she catches 10\n",
    "\n",
    "### There are $\\binom{100}{10}$ ways this can happen\n",
    "\n",
    "# Of the $N-100$ untagged fish in the water, she catches 90\n",
    "\n",
    "### There are $\\binom{N-100}{90}$\n",
    "\n",
    "# The total number of possible combinations of fish is equal to $\\binom{N}{100}$\n",
    "\n",
    "# Therefore $P(\\text{Caught 10 tagged fish}) = \\frac{\\binom{100}{10}\\binom{N-100}{90}}{\\binom{N}{100}}$"
   ]
  },
  {
   "cell_type": "markdown",
   "metadata": {},
   "source": [
    "___\n",
    "\n",
    "# c)\n",
    "\n",
    "## We can treat $\\binom{100}{10}$ as a constant and hence can ignore it\n",
    "\n",
    "## Let's plot $f(N) = \\frac{\\binom{N-100}{90}}{\\binom{N}{100}}$ so we can see what it looks like"
   ]
  },
  {
   "cell_type": "code",
   "execution_count": 24,
   "metadata": {
    "collapsed": true
   },
   "outputs": [],
   "source": [
    "import numpy as np\n",
    "import matplotlib.pyplot as plt\n",
    "import pandas as pd\n",
    "from math import factorial\n",
    "%matplotlib inline\n",
    "plt.rcParams['figure.figsize'] = 10, 10"
   ]
  },
  {
   "cell_type": "markdown",
   "metadata": {},
   "source": [
    "### We need $N\\geq 190$, or else the numerator is not logical"
   ]
  },
  {
   "cell_type": "code",
   "execution_count": 4,
   "metadata": {
    "collapsed": true
   },
   "outputs": [],
   "source": [
    "def choose(n,k):\n",
    "    numerator = factorial(n)\n",
    "    denominator = factorial(k)*factorial(n-k)\n",
    "    return numerator/denominator"
   ]
  },
  {
   "cell_type": "code",
   "execution_count": 5,
   "metadata": {
    "collapsed": true
   },
   "outputs": [],
   "source": [
    "def func(N):\n",
    "    numerator = choose(N-100, 90)\n",
    "    denominator = choose(N, 100)\n",
    "    return float(numerator)/denominator"
   ]
  },
  {
   "cell_type": "code",
   "execution_count": 6,
   "metadata": {
    "collapsed": true
   },
   "outputs": [],
   "source": [
    "func = np.vectorize(func)"
   ]
  },
  {
   "cell_type": "code",
   "execution_count": 10,
   "metadata": {
    "collapsed": false
   },
   "outputs": [],
   "source": [
    "x = np.arange(190, 2000)\n",
    "y = func(x)"
   ]
  },
  {
   "cell_type": "code",
   "execution_count": 11,
   "metadata": {
    "collapsed": false
   },
   "outputs": [
    {
     "data": {
      "text/plain": [
       "[<matplotlib.lines.Line2D at 0xb18d940>]"
      ]
     },
     "execution_count": 11,
     "metadata": {},
     "output_type": "execute_result"
    },
    {
     "data": {
      "image/png": "[encoded data removed]",
      "text/plain": [
       "<matplotlib.figure.Figure at 0xb14bb70>"
      ]
     },
     "metadata": {},
     "output_type": "display_data"
    }
   ],
   "source": [
    "plt.plot(x,y)"
   ]
  },
  {
   "cell_type": "markdown",
   "metadata": {},
   "source": [
    "# It looks like the plot peaks somewhere between 900 and 1200\n",
    "\n",
    "## Let's loop through and see where is is"
   ]
  },
  {
   "cell_type": "code",
   "execution_count": 16,
   "metadata": {
    "collapsed": false
   },
   "outputs": [
    {
     "name": "stdout",
     "output_type": "stream",
     "text": [
      "(999, array(8.029045813813432e-15))\n"
     ]
    }
   ],
   "source": [
    "max_val = 0\n",
    "\n",
    "for N in range(900,1200):\n",
    "    val = func(N)\n",
    "    if max_val<val:\n",
    "        max_val = val\n",
    "    else:\n",
    "        print(N-1, max_val)\n",
    "        break"
   ]
  },
  {
   "cell_type": "markdown",
   "metadata": {},
   "source": [
    "## Looks like the actual peak is right at 999"
   ]
  },
  {
   "cell_type": "markdown",
   "metadata": {},
   "source": [
    "# Let's derive this value\n",
    "\n",
    "### The hint in the book says to look at the ratio of successive values"
   ]
  },
  {
   "cell_type": "markdown",
   "metadata": {},
   "source": [
    "# $\\frac{f(N+1)}{f(N)} = \\frac{\\frac{\\binom{N+1-100}{90}}{\\binom{N+1}{100}}}{\\frac{\\binom{N-100}{90}}{\\binom{N}{100}}} = \\frac{\\binom{N+1-100}{90}\\binom{N}{100}}{\\binom{N+1}{100}\\binom{N-100}{90}} = \\frac{\\binom{N}{100}}{\\binom{N+1}{100}}\\frac{\\binom{N+1-100}{90}}{\\binom{N-100}{90}}$\n",
    "\n",
    "# $\\frac{\\binom{N}{100}}{\\binom{N+1}{100}} = \\frac{N!}{100!(N-100)!}\\frac{100!(N+1-100)!}{(N+1)!} = \\frac{N-99}{N+1}$\n",
    "\n",
    "# $\\frac{\\binom{N+1-100}{90}}{\\binom{N-100}{90}} = \\frac{(N+1-100)!}{90!(N+1-190)!}\\frac{90!(N-190)!}{(N-100)!} = \\frac{N-99}{N-189}$\n",
    "\n",
    "# So $\\frac{f(N+1)}{f(N)} = \\frac{N-99}{N+1}\\frac{N-99}{N-189}$"
   ]
  },
  {
   "cell_type": "code",
   "execution_count": 30,
   "metadata": {
    "collapsed": true
   },
   "outputs": [],
   "source": [
    "df = pd.DataFrame({'N':range(995, 1005)})\n",
    "df['f(N)'] = func(df['N'].values)\n",
    "df['f(N+1)/f(N)'] = df['f(N)'].shift(-1)/df['f(N)']"
   ]
  },
  {
   "cell_type": "code",
   "execution_count": 31,
   "metadata": {
    "collapsed": false
   },
   "outputs": [
    {
     "data": {
      "text/html": [
       "<div>\n",
       "<table border=\"1\" class=\"dataframe\">\n",
       "  <thead>\n",
       "    <tr style=\"text-align: right;\">\n",
       "      <th></th>\n",
       "      <th>N</th>\n",
       "      <th>f(N)</th>\n",
       "      <th>f(N+1)/f(N)</th>\n",
       "    </tr>\n",
       "  </thead>\n",
       "  <tbody>\n",
       "    <tr>\n",
       "      <th>0</th>\n",
       "      <td>995</td>\n",
       "      <td>8.028048e-15</td>\n",
       "      <td>1.000050</td>\n",
       "    </tr>\n",
       "    <tr>\n",
       "      <th>1</th>\n",
       "      <td>996</td>\n",
       "      <td>8.028448e-15</td>\n",
       "      <td>1.000037</td>\n",
       "    </tr>\n",
       "    <tr>\n",
       "      <th>2</th>\n",
       "      <td>997</td>\n",
       "      <td>8.028747e-15</td>\n",
       "      <td>1.000025</td>\n",
       "    </tr>\n",
       "    <tr>\n",
       "      <th>3</th>\n",
       "      <td>998</td>\n",
       "      <td>8.028946e-15</td>\n",
       "      <td>1.000012</td>\n",
       "    </tr>\n",
       "    <tr>\n",
       "      <th>4</th>\n",
       "      <td>999</td>\n",
       "      <td>8.029046e-15</td>\n",
       "      <td>1.000000</td>\n",
       "    </tr>\n",
       "    <tr>\n",
       "      <th>5</th>\n",
       "      <td>1000</td>\n",
       "      <td>8.029046e-15</td>\n",
       "      <td>0.999988</td>\n",
       "    </tr>\n",
       "    <tr>\n",
       "      <th>6</th>\n",
       "      <td>1001</td>\n",
       "      <td>8.028947e-15</td>\n",
       "      <td>0.999975</td>\n",
       "    </tr>\n",
       "    <tr>\n",
       "      <th>7</th>\n",
       "      <td>1002</td>\n",
       "      <td>8.028750e-15</td>\n",
       "      <td>0.999963</td>\n",
       "    </tr>\n",
       "    <tr>\n",
       "      <th>8</th>\n",
       "      <td>1003</td>\n",
       "      <td>8.028454e-15</td>\n",
       "      <td>0.999951</td>\n",
       "    </tr>\n",
       "    <tr>\n",
       "      <th>9</th>\n",
       "      <td>1004</td>\n",
       "      <td>8.028061e-15</td>\n",
       "      <td>NaN</td>\n",
       "    </tr>\n",
       "  </tbody>\n",
       "</table>\n",
       "</div>"
      ],
      "text/plain": [
       "      N          f(N)  f(N+1)/f(N)\n",
       "0   995  8.028048e-15     1.000050\n",
       "1   996  8.028448e-15     1.000037\n",
       "2   997  8.028747e-15     1.000025\n",
       "3   998  8.028946e-15     1.000012\n",
       "4   999  8.029046e-15     1.000000\n",
       "5  1000  8.029046e-15     0.999988\n",
       "6  1001  8.028947e-15     0.999975\n",
       "7  1002  8.028750e-15     0.999963\n",
       "8  1003  8.028454e-15     0.999951\n",
       "9  1004  8.028061e-15          NaN"
      ]
     },
     "execution_count": 31,
     "metadata": {},
     "output_type": "execute_result"
    }
   ],
   "source": [
    "df"
   ]
  },
  {
   "cell_type": "markdown",
   "metadata": {},
   "source": [
    "# As we can see from the table above, the crossover from increasing to decreasing is at $N=999$\n",
    "\n",
    "## To derive this value for N, we can solve for where $f(N+1)/f(N) = 1$"
   ]
  },
  {
   "cell_type": "markdown",
   "metadata": {},
   "source": [
    "# $\\frac{f(N+1)}{f(N)} = 1 \\implies N^{2} - 2(99)N + 99^{2} = N^{2} - 188N - 189$\n",
    "\n",
    "# $\\implies 99^{2} + 189 = 10N \\implies 9990 = 10N \\implies N = 999$"
   ]
  }
 ],
 "metadata": {
  "kernelspec": {
   "display_name": "Python 2",
   "language": "python",
   "name": "python2"
  },
  "language_info": {
   "codemirror_mode": {
    "name": "ipython",
    "version": 2
   },
   "file_extension": ".py",
   "mimetype": "text/x-python",
   "name": "python",
   "nbconvert_exporter": "python",
   "pygments_lexer": "ipython2",
   "version": "2.7.11"
  }
 },
 "nbformat": 4,
 "nbformat_minor": 0
}
