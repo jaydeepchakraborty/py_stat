{
 "cells": [
  {
   "cell_type": "markdown",
   "metadata": {},
   "source": [
    "# Suppose we are attending a college which has 3000 students\n",
    "\n",
    "# We wish to choose a subset of size 100 from the student body\n",
    "\n",
    "# Let $X$ represent the subset chosen by one of the strategies described below\n",
    "\n",
    "# For which of the strategies would it be approbriate to assign the uniform distribution to $X$? If appropriate, what is the probability of each outcome?\n",
    "\n",
    "### a) Take the first 100 students who enter the cafeteria at lunch\n",
    "\n",
    "### b) Ask the Registrar to sort the students by their SSN, and then take the first 100 in the resulting list\n",
    "\n",
    "### c) Create a card for each student, and randomly select 100 cards from the shuffled deck"
   ]
  },
  {
   "cell_type": "markdown",
   "metadata": {},
   "source": [
    "___\n",
    "\n",
    "# a)\n",
    "\n",
    "- Assuming the students enter the cafeteria in random order, it IS appropriate\n",
    "    - But **this is not realistic**"
   ]
  },
  {
   "cell_type": "markdown",
   "metadata": {},
   "source": [
    "___\n",
    "\n",
    "# b)\n",
    "\n",
    "- This experiment repeated several times will always return the same result\n",
    "    - NOT appropriate"
   ]
  },
  {
   "cell_type": "markdown",
   "metadata": {},
   "source": [
    "___\n",
    "\n",
    "# c)\n",
    "\n",
    "- This is totally random and returns a different result every time\n",
    "    - uniform IS appropriate"
   ]
  }
 ],
 "metadata": {
  "kernelspec": {
   "display_name": "Python 2",
   "language": "python",
   "name": "python2"
  },
  "language_info": {
   "codemirror_mode": {
    "name": "ipython",
    "version": 2
   },
   "file_extension": ".py",
   "mimetype": "text/x-python",
   "name": "python",
   "nbconvert_exporter": "python",
   "pygments_lexer": "ipython2",
   "version": "2.7.11"
  }
 },
 "nbformat": 4,
 "nbformat_minor": 0
}
