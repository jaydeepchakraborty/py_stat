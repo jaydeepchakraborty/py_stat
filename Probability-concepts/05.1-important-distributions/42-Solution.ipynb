{
 "cells": [
  {
   "cell_type": "markdown",
   "metadata": {},
   "source": [
    "# You are presented with four different dice\n",
    "\n",
    "# The first one has two sides marked 0 and four sides marked 4\n",
    "\n",
    "# The second one has a 3 on every side\n",
    "\n",
    "# The third one has a 2 on four sides and a 6 on two sides\n",
    "\n",
    "# The fourth one has a 1 on three sides and a 5 on three sides\n",
    "\n",
    "# You allow your friend to pick any of the four dice he wishes. Then you pick one of the remaining three and you each roll your die\n",
    "\n",
    "# The person with the largest number showing wins a dollar\n",
    "\n",
    "# Show that you can choose your die such that you have probability $\\frac{2}{3}$ of winning no matter which die your friend picks"
   ]
  },
  {
   "cell_type": "markdown",
   "metadata": {},
   "source": [
    "___\n",
    "\n",
    "# First, we consider the expected roll of each die\n",
    "\n",
    "## Die 1: $E(Roll) = 0\\frac{2}{6} + 4\\frac{4}{6} = 2.67$\n",
    "\n",
    "## Die 2: $E(Roll) = 3\\frac{6}{6} = 3$\n",
    "\n",
    "## Die 3: $E(Roll) = 2\\frac{4}{6} + 6\\frac{2}{6} = 3.33$\n",
    "\n",
    "## Die 4: $E(Roll) = 1\\frac{3}{6} + 5\\frac{3}{6} = 3$"
   ]
  },
  {
   "cell_type": "markdown",
   "metadata": {},
   "source": [
    "___\n",
    "\n",
    "# Let's suppose our friend chooses Die 1\n",
    "\n",
    "## Die 2\n",
    "\n",
    "- If we choose Die 2, we'll get 3 every time\n",
    "- He'll get a 4 2/3 of the time\n",
    "\n",
    "**Therefore we'll lose 2/3 of the time**\n",
    "\n",
    "## Die 3\n",
    "\n",
    "- (0,2) will occur $\\frac{2}{6}\\frac{4}{6} = 0.2222$ of the time\n",
    "- (0,6) will occur $\\frac{2}{6}\\frac{2}{6} = 0.1111$ of the time\n",
    "- (4,2) will occur $\\frac{4}{6}\\frac{4}{6} = 0.4444$ of the time\n",
    "- (4,6) will occur $\\frac{4}{6}\\frac{2}{6} = 0.2222$ of the time\n",
    "\n",
    "**Therefore we'll WIN 0.555556 of the time**\n",
    "\n",
    "## Die 4\n",
    "\n",
    "- (0,1) will occur $\\frac{2}{6}\\frac{3}{6} = 0.1667$ of the time\n",
    "- (0,5) will occur $\\frac{2}{6}\\frac{3}{6} = 0.1667$ of the time\n",
    "- (4,1) will occur $\\frac{4}{6}\\frac{3}{6} = 0.3333$ of the time\n",
    "- (4,5) will occur $\\frac{4}{6}\\frac{3}{6} = 0.3333$ of the time\n",
    "\n",
    "\n",
    "**Therefore we'll WIN 2/3 of the time**\n",
    "\n",
    "## So if he chooses Die 1, we can choose Die 4 and win 2/3 of the time"
   ]
  },
  {
   "cell_type": "markdown",
   "metadata": {},
   "source": [
    "___\n",
    "\n",
    "# Let's suppose our friend chooses Die 2\n",
    "\n",
    "## Die 1\n",
    "\n",
    "- From the section above, we know to choose Die 1\n",
    "\n",
    "## So if he chooses Die 2, we can choose Die 1 and win 2/3 of the time"
   ]
  },
  {
   "cell_type": "markdown",
   "metadata": {},
   "source": [
    "___\n",
    "\n",
    "# Let's suppose our friend chooses Die 3\n",
    "\n",
    "## Die 2\n",
    "\n",
    "- If we choose Die 2, we'll get 3 every time\n",
    "- He'll get a 2 2/3 of the time, and a 6 1/3 of the time\n",
    "\n",
    "**Therefore we'll WIN 2/3 of the time**\n",
    "\n",
    "## So if he chooses Die 3, we can choose Die 2 and win 2/3 of the time"
   ]
  },
  {
   "cell_type": "markdown",
   "metadata": {},
   "source": [
    "___\n",
    "\n",
    "# Let's suppose our friend chooses Die 4\n",
    "\n",
    "## Die 1\n",
    "\n",
    "- (1,0) will occur $\\frac{3}{6}\\frac{2}{6} = 0.1667$ of the time\n",
    "- (5,0) will occur $\\frac{3}{6}\\frac{2}{6} = 0.1667$ of the time\n",
    "- (1,4) will occur $\\frac{3}{6}\\frac{4}{6} = 0.3333$ of the time\n",
    "- (5,4) will occur $\\frac{3}{6}\\frac{4}{6} = 0.3333$ of the time\n",
    "\n",
    "**Therefore we'll lose 2/3 of the time**\n",
    "\n",
    "## Die 2\n",
    "\n",
    "- If we choose Die 2, we'll get 3 every time\n",
    "- He'll get a 5 1/2 of the time\n",
    "\n",
    "**Therefore we'll lose 1/2 of the time**\n",
    "\n",
    "## Die 3\n",
    "\n",
    "- (1,2) will occur $\\frac{3}{6}\\frac{4}{6} = 0.3333$ of the time\n",
    "- (5,2) will occur $\\frac{3}{6}\\frac{4}{6} = 0.3333$ of the time\n",
    "- (1,6) will occur $\\frac{3}{6}\\frac{2}{6} = 0.1667$ of the time\n",
    "- (5,6) will occur $\\frac{3}{6}\\frac{2}{6} = 0.1667$ of the time\n",
    "\n",
    "**Therefore we'll WIN 2/3 of the time**\n",
    "\n",
    "## So if he chooses Die 4, we can choose Die 3 and win 2/3 of the time"
   ]
  }
 ],
 "metadata": {
  "kernelspec": {
   "display_name": "Python 2",
   "language": "python",
   "name": "python2"
  },
  "language_info": {
   "codemirror_mode": {
    "name": "ipython",
    "version": 2
   },
   "file_extension": ".py",
   "mimetype": "text/x-python",
   "name": "python",
   "nbconvert_exporter": "python",
   "pygments_lexer": "ipython2",
   "version": "2.7.11"
  }
 },
 "nbformat": 4,
 "nbformat_minor": 0
}
