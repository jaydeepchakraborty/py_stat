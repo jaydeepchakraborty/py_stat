{
 "cells": [
  {
   "cell_type": "markdown",
   "metadata": {},
   "source": [
    "# Assume that, during each second, a Dartmouth switchboard receives one call with probability 0.01\n",
    "\n",
    "# Use the Poisson approximation to estimate the probability that the operator will miss at most one call if she takes a 5-minute coffee break"
   ]
  },
  {
   "cell_type": "markdown",
   "metadata": {},
   "source": [
    "___\n",
    "\n",
    "## $n = 60\\cdot5 = 300$; $p=0.01 \\implies \\lambda = 3$\n",
    "\n",
    "## $P(X=0) = e^{-3} = 0.0498$\n",
    "\n",
    "## $P(X=1) = 3e^{-3} = 0.1494$\n",
    "\n",
    "## $P(\\text{Miss at most one call}) = P(X=0)+P(X=0) = 0.0498+0.1494 = 0.1992$"
   ]
  }
 ],
 "metadata": {
  "kernelspec": {
   "display_name": "Python 2",
   "language": "python",
   "name": "python2"
  },
  "language_info": {
   "codemirror_mode": {
    "name": "ipython",
    "version": 2
   },
   "file_extension": ".py",
   "mimetype": "text/x-python",
   "name": "python",
   "nbconvert_exporter": "python",
   "pygments_lexer": "ipython2",
   "version": "2.7.11"
  }
 },
 "nbformat": 4,
 "nbformat_minor": 0
}
