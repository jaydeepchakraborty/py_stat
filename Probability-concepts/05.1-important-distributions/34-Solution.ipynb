{
 "cells": [
  {
   "cell_type": "markdown",
   "metadata": {},
   "source": [
    "# In the appeal of the *People vs. Collins* case, the counsel for the sefense argued as follows: \n",
    "\n",
    "## Suppose, for example, there are 5,000,000 couples in the Los Angeles area\n",
    "\n",
    "## The probability that a randomly chosen couple fits the witnesses' description is $\\frac{1}{12,000,000}$\n",
    "\n",
    "## Then, the probability that there are two such couples given that there is at least one is not at all small\n",
    "\n",
    "# Find this probability"
   ]
  },
  {
   "cell_type": "markdown",
   "metadata": {},
   "source": [
    "___\n",
    "\n",
    "# The probability we want to solve for is $P(X=2|X\\geq 1) = \\frac{P(X=2 \\cap X\\geq 1)}{P(X\\geq1)}$"
   ]
  },
  {
   "cell_type": "markdown",
   "metadata": {},
   "source": [
    "## It is obvious that $P(X=2 \\cap X\\geq 1) = P(X=2)$\n",
    "\n",
    "## So, to solve for the probability, we need to solve for $P(X\\geq1)$ and $P(X=2)$"
   ]
  },
  {
   "cell_type": "markdown",
   "metadata": {},
   "source": [
    "# Here, $X$ represents the number of couples that match the description\n",
    "\n",
    "# $p = \\frac{1}{12,000,000}$ and $n=5,000,000 \\implies \\lambda = 0.4167$\n",
    "\n",
    "# So $P(X=0) = e^{-0.4167} = 0.6592 \\implies P(X\\geq 1) = 1 - 0.6592 = 0.3408$"
   ]
  },
  {
   "cell_type": "markdown",
   "metadata": {},
   "source": [
    "# $P(X=2) = \\frac{0.4167^{2}}{2}e^{-0.4167} = 0.0572$"
   ]
  },
  {
   "cell_type": "markdown",
   "metadata": {},
   "source": [
    "# So $P(X=2|X\\geq 1) = \\frac{0.0572}{0.3408} = 0.16784$"
   ]
  }
 ],
 "metadata": {
  "kernelspec": {
   "display_name": "Python 2",
   "language": "python",
   "name": "python2"
  },
  "language_info": {
   "codemirror_mode": {
    "name": "ipython",
    "version": 2
   },
   "file_extension": ".py",
   "mimetype": "text/x-python",
   "name": "python",
   "nbconvert_exporter": "python",
   "pygments_lexer": "ipython2",
   "version": "2.7.11"
  }
 },
 "nbformat": 4,
 "nbformat_minor": 0
}
