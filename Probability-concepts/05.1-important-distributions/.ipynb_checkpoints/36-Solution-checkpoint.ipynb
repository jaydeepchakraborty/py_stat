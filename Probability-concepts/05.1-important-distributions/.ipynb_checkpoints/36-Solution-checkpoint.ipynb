{
 "cells": [
  {
   "cell_type": "markdown",
   "metadata": {},
   "source": [
    "# A bin of 1,000 turnbuckles has an unknown number $D$ of defectives\n",
    "\n",
    "# A sample of 100 turnbuckles has 2 defectives\n",
    "\n",
    "# The *maximum likelihood estimate* for $D$ is the number of defectives which gives the highest probability for obtaining the number of defectives observed in the sample\n",
    "\n",
    "## i) Guess this number $D$\n",
    "\n",
    "## ii) Write a computer program to verify your guess"
   ]
  },
  {
   "cell_type": "markdown",
   "metadata": {},
   "source": [
    "___\n",
    "\n",
    "# i)\n",
    "\n",
    "# Similar to the problem in [Q9](09-Solution.ipynb), we guess $D$ to be:\n",
    "\n",
    "# $D = 1000\\frac{2}{100} = 20$"
   ]
  },
  {
   "cell_type": "markdown",
   "metadata": {},
   "source": [
    "# ii)\n",
    "\n",
    "# $N=1000$\n",
    "\n",
    "# $n=100$\n",
    "\n",
    "# $d=2$\n",
    "\n",
    "## Let $X$ be the number of defectives found in the sample\n",
    "\n",
    "# $P(X=x) = \\frac{\\binom{D}{d}\\binom{N-D}{n-d}}{\\binom{N}{n}} \\implies P(X=2) = \\frac{\\binom{D}{2}\\binom{1,000-D}{100-2}}{\\binom{1,000}{100}}$\n",
    "\n",
    "# Let $f(D) = \\frac{\\binom{D}{2}\\binom{1,000-D}{100-2}}{\\binom{1,000}{100}}$"
   ]
  },
  {
   "cell_type": "code",
   "execution_count": 13,
   "metadata": {
    "collapsed": true
   },
   "outputs": [],
   "source": [
    "import pandas as pd\n",
    "from scipy.special import comb"
   ]
  },
  {
   "cell_type": "code",
   "execution_count": 12,
   "metadata": {
    "collapsed": true
   },
   "outputs": [],
   "source": [
    "def f(D):\n",
    "    choice1 = comb(D,2)\n",
    "    choice2 = comb((1000-D),98)\n",
    "    choice3 = comb(1000,100)\n",
    "    return choice1*choice2/choice3"
   ]
  },
  {
   "cell_type": "code",
   "execution_count": 14,
   "metadata": {
    "collapsed": true
   },
   "outputs": [],
   "source": [
    "df = pd.DataFrame({'D':range(1000+1)})\n",
    "df['f(D)'] = df['D'].map(f)"
   ]
  },
  {
   "cell_type": "code",
   "execution_count": 20,
   "metadata": {
    "collapsed": false
   },
   "outputs": [
    {
     "data": {
      "text/html": [
       "<div>\n",
       "<table border=\"1\" class=\"dataframe\">\n",
       "  <thead>\n",
       "    <tr style=\"text-align: right;\">\n",
       "      <th></th>\n",
       "      <th>D</th>\n",
       "      <th>f(D)</th>\n",
       "    </tr>\n",
       "  </thead>\n",
       "  <tbody>\n",
       "    <tr>\n",
       "      <th>20</th>\n",
       "      <td>20</td>\n",
       "      <td>0.28807</td>\n",
       "    </tr>\n",
       "  </tbody>\n",
       "</table>\n",
       "</div>"
      ],
      "text/plain": [
       "     D     f(D)\n",
       "20  20  0.28807"
      ]
     },
     "execution_count": 20,
     "metadata": {},
     "output_type": "execute_result"
    }
   ],
   "source": [
    "df[df['f(D)']==df['f(D)'].max()]"
   ]
  },
  {
   "cell_type": "markdown",
   "metadata": {},
   "source": [
    "# The maximum likelihood estimate for $D$ is 20!"
   ]
  }
 ],
 "metadata": {
  "kernelspec": {
   "display_name": "Python 2",
   "language": "python",
   "name": "python2"
  },
  "language_info": {
   "codemirror_mode": {
    "name": "ipython",
    "version": 2
   },
   "file_extension": ".py",
   "mimetype": "text/x-python",
   "name": "python",
   "nbconvert_exporter": "python",
   "pygments_lexer": "ipython2",
   "version": "2.7.11"
  }
 },
 "nbformat": 4,
 "nbformat_minor": 0
}
