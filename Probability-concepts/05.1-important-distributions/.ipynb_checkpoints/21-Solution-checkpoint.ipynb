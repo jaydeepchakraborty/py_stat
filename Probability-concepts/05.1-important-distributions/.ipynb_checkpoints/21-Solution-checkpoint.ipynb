{
 "cells": [
  {
   "cell_type": "markdown",
   "metadata": {},
   "source": [
    "# In a class of 80 students, the professor calls on 1 student chosen at random for a recitation in each class period\n",
    "\n",
    "# There are 32 periods in a term\n",
    "\n",
    "## a) Write a formula for the exact probability that a given student is called upon $j$ times in a semester\n",
    "\n",
    "## b) Write a formula for the Poisson approximation for this probability. Using your formula, estimate the probability that a given student is called upon more than twice"
   ]
  },
  {
   "cell_type": "markdown",
   "metadata": {},
   "source": [
    "____\n",
    "\n",
    "# a)\n",
    "\n",
    "# $p = \\frac{1}{80} = 0.0125$\n",
    "\n",
    "# $P(X=j) = \\binom{32}{j}(0.125^{j})(0.9875^{32-j})$"
   ]
  },
  {
   "cell_type": "markdown",
   "metadata": {},
   "source": [
    "___\n",
    "\n",
    "# b)\n",
    "\n",
    "# $ p = 0.0125$; $n=32 \\implies \\lambda = 0.4$\n",
    "\n",
    "# $P(X=j) = \\frac{0.4^{j}}{j!}e^{-0.4}$\n",
    "\n",
    "### $P(X>2) = 1 - P(X=0) - P(X=1) - P(X=2) = 1 - e^{-0.4} - 0.4e^{-0.4} - 0.08e^{-0.4} = 0.00793$"
   ]
  }
 ],
 "metadata": {
  "kernelspec": {
   "display_name": "Python 2",
   "language": "python",
   "name": "python2"
  },
  "language_info": {
   "codemirror_mode": {
    "name": "ipython",
    "version": 2
   },
   "file_extension": ".py",
   "mimetype": "text/x-python",
   "name": "python",
   "nbconvert_exporter": "python",
   "pygments_lexer": "ipython2",
   "version": "2.7.11"
  }
 },
 "nbformat": 4,
 "nbformat_minor": 0
}
