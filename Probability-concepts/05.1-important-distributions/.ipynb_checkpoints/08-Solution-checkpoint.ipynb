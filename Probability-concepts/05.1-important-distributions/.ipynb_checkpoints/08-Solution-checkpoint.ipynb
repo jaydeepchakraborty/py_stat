{
 "cells": [
  {
   "cell_type": "markdown",
   "metadata": {},
   "source": [
    "# If a coin is tossed a sequence of times, what is the probability that the first head will occur after the fifth toss, given that it has not occurred in the first two tosses?"
   ]
  },
  {
   "cell_type": "markdown",
   "metadata": {},
   "source": [
    "___\n",
    "\n",
    "# We know that this follows the geometric distribution, and we know that the geometric distribution is memoryless\n",
    "\n",
    "# This means $P(X>5|X>2) = P(X>3)$\n",
    "\n",
    "# $P(X>3) = (1-p)^{3} = \\frac{1}{8}$"
   ]
  },
  {
   "cell_type": "markdown",
   "metadata": {},
   "source": [
    "___\n",
    "### We can support this answer through simulation"
   ]
  },
  {
   "cell_type": "code",
   "execution_count": 1,
   "metadata": {
    "collapsed": true
   },
   "outputs": [],
   "source": [
    "import numpy as np"
   ]
  },
  {
   "cell_type": "code",
   "execution_count": 8,
   "metadata": {
    "collapsed": false
   },
   "outputs": [
    {
     "name": "stdout",
     "output_type": "stream",
     "text": [
      "P(X=1) = 0.5\n",
      "P(X>1) = 0.5\n",
      "\n",
      "\n",
      "P(X=2) = 0.25\n",
      "P(X>2) = 0.25\n",
      "\n",
      "\n",
      "P(X=3) = 0.125\n",
      "P(X>3) = 0.125\n",
      "\n",
      "\n",
      "P(X=4) = 0.0625\n",
      "P(X>4) = 0.0625\n",
      "\n",
      "\n",
      "P(X=5) = 0.03125\n",
      "P(X>5) = 0.03125\n",
      "\n",
      "\n"
     ]
    }
   ],
   "source": [
    "cumsum = 0\n",
    "\n",
    "for i in range(1,6):\n",
    "    Px = (0.5)*(0.5**(i-1))\n",
    "    cumsum += Px\n",
    "    print('P(X='+str(i)+') = '+str(Px))\n",
    "    print('P(X>'+str(i)+') = '+str(1-cumsum))\n",
    "    print('\\n')"
   ]
  },
  {
   "cell_type": "markdown",
   "metadata": {},
   "source": [
    "## We got the same result for $P(X>3) = 0.125 = \\frac{1}{8}$\n",
    "\n",
    "## We also know $P(X>5|X>3) = \\frac{P(X>5 \\cap X>2)}{P(X>2)} = \\frac{P(X>5)}{P(X>2)} = \\frac{0.03125}{0.25} = 0.125 = \\frac{1}{8}$"
   ]
  }
 ],
 "metadata": {
  "kernelspec": {
   "display_name": "Python 2",
   "language": "python",
   "name": "python2"
  },
  "language_info": {
   "codemirror_mode": {
    "name": "ipython",
    "version": 2
   },
   "file_extension": ".py",
   "mimetype": "text/x-python",
   "name": "python",
   "nbconvert_exporter": "python",
   "pygments_lexer": "ipython2",
   "version": "2.7.11"
  }
 },
 "nbformat": 4,
 "nbformat_minor": 0
}
