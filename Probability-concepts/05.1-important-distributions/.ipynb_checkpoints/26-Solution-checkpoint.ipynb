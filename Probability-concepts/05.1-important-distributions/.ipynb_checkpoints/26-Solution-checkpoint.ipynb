{
 "cells": [
  {
   "cell_type": "markdown",
   "metadata": {},
   "source": [
    "# Felller discusses the statistics of flying bomb hits in an area in the south of London during WWII\n",
    "\n",
    "# The area in question was divided into 24x24 = 576 small areas\n",
    "\n",
    "# The total number of hits was 537\n",
    "\n",
    "# There were 229 squares with 0 hits, 211 with 1 hit, 93 with 2 hits, 35 with 3 hits, 7 with 4 hits, and 1 with 5+ hits\n",
    "\n",
    "# Assuming the hits were purely random, use the Poisson approximation to find the probability that a particular square would have $k$ hits\n",
    "\n",
    "# Compute the expected number of squares that would have 0, 1, 2, 3, 4, and 5 hits"
   ]
  },
  {
   "cell_type": "markdown",
   "metadata": {},
   "source": [
    "____\n",
    "\n",
    "# Part 1: Hits per given square\n",
    "\n",
    "## $p=\\frac{537}{576} = 0.9323$; $n=1 \\implies \\lambda = 0.9323$\n",
    "\n",
    "## $P(X=k) = \\frac{0.9323^{k}}{k!}e^{-0.9323}$\n",
    "\n",
    "## $P(X=0) = e^{-0.9323} = 0.394$\n",
    "\n",
    "## $P(X=1) = 0.9323e^{-0.9323} = 0.367$\n",
    "\n",
    "## $P(X=2) = \\frac{0.9323^{2}}{2}e^{-0.9323} = 0.1711$\n",
    "\n",
    "## $P(X=3) = \\frac{0.9323^{3}}{6}e^{-0.9323} = 0.0532$\n",
    "\n",
    "## $P(X=4) = \\frac{0.9323^{4}}{24}e^{-0.9323} = 0.0124$\n",
    "\n",
    "## $P(X=5) = \\frac{0.9323^{5}}{120}e^{-0.9323} = 0.00231$"
   ]
  },
  {
   "cell_type": "markdown",
   "metadata": {},
   "source": [
    "___\n",
    "\n",
    "# Part 2: Expected number of squares with k hits"
   ]
  },
  {
   "cell_type": "markdown",
   "metadata": {},
   "source": [
    "## To solve for the expected number of squares, we can just multiply the probability by the number of squares"
   ]
  },
  {
   "cell_type": "code",
   "execution_count": 7,
   "metadata": {
    "collapsed": true
   },
   "outputs": [],
   "source": [
    "import pandas as pd"
   ]
  },
  {
   "cell_type": "code",
   "execution_count": 8,
   "metadata": {
    "collapsed": true
   },
   "outputs": [],
   "source": [
    "df = pd.DataFrame()\n",
    "df['k'] = range(6)\n",
    "df['P(X=k)'] = [0.394,0.367,0.1711,0.0532,0.0124,0.00231]\n",
    "df['Observed'] = [229,211,93,35,7,1]\n",
    "df['Expected'] = 576*df['P(X=k)']"
   ]
  },
  {
   "cell_type": "code",
   "execution_count": 9,
   "metadata": {
    "collapsed": false
   },
   "outputs": [
    {
     "data": {
      "text/html": [
       "<div>\n",
       "<table border=\"1\" class=\"dataframe\">\n",
       "  <thead>\n",
       "    <tr style=\"text-align: right;\">\n",
       "      <th></th>\n",
       "      <th>k</th>\n",
       "      <th>P(X=k)</th>\n",
       "      <th>Observed</th>\n",
       "      <th>Expected</th>\n",
       "    </tr>\n",
       "  </thead>\n",
       "  <tbody>\n",
       "    <tr>\n",
       "      <th>0</th>\n",
       "      <td>0</td>\n",
       "      <td>0.39400</td>\n",
       "      <td>229</td>\n",
       "      <td>226.94400</td>\n",
       "    </tr>\n",
       "    <tr>\n",
       "      <th>1</th>\n",
       "      <td>1</td>\n",
       "      <td>0.36700</td>\n",
       "      <td>211</td>\n",
       "      <td>211.39200</td>\n",
       "    </tr>\n",
       "    <tr>\n",
       "      <th>2</th>\n",
       "      <td>2</td>\n",
       "      <td>0.17110</td>\n",
       "      <td>93</td>\n",
       "      <td>98.55360</td>\n",
       "    </tr>\n",
       "    <tr>\n",
       "      <th>3</th>\n",
       "      <td>3</td>\n",
       "      <td>0.05320</td>\n",
       "      <td>35</td>\n",
       "      <td>30.64320</td>\n",
       "    </tr>\n",
       "    <tr>\n",
       "      <th>4</th>\n",
       "      <td>4</td>\n",
       "      <td>0.01240</td>\n",
       "      <td>7</td>\n",
       "      <td>7.14240</td>\n",
       "    </tr>\n",
       "    <tr>\n",
       "      <th>5</th>\n",
       "      <td>5</td>\n",
       "      <td>0.00231</td>\n",
       "      <td>1</td>\n",
       "      <td>1.33056</td>\n",
       "    </tr>\n",
       "  </tbody>\n",
       "</table>\n",
       "</div>"
      ],
      "text/plain": [
       "   k   P(X=k)  Observed   Expected\n",
       "0  0  0.39400       229  226.94400\n",
       "1  1  0.36700       211  211.39200\n",
       "2  2  0.17110        93   98.55360\n",
       "3  3  0.05320        35   30.64320\n",
       "4  4  0.01240         7    7.14240\n",
       "5  5  0.00231         1    1.33056"
      ]
     },
     "execution_count": 9,
     "metadata": {},
     "output_type": "execute_result"
    }
   ],
   "source": [
    "df"
   ]
  }
 ],
 "metadata": {
  "kernelspec": {
   "display_name": "Python 2",
   "language": "python",
   "name": "python2"
  },
  "language_info": {
   "codemirror_mode": {
    "name": "ipython",
    "version": 2
   },
   "file_extension": ".py",
   "mimetype": "text/x-python",
   "name": "python",
   "nbconvert_exporter": "python",
   "pygments_lexer": "ipython2",
   "version": "2.7.11"
  }
 },
 "nbformat": 4,
 "nbformat_minor": 0
}
