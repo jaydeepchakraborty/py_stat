{
 "cells": [
  {
   "cell_type": "markdown",
   "metadata": {},
   "source": [
    "# Let $X_{1},X_{2},...,X_{n}$ be $n$ mutually independent random variables, each of which is uniformly distributed on the integers from 1 to $k$\n",
    "\n",
    "# Let $Y$ denote the minimum of the $X_{i}$s\n",
    "\n",
    "# What is the distribution of $Y$?"
   ]
  },
  {
   "cell_type": "markdown",
   "metadata": {},
   "source": [
    "___\n",
    "\n",
    "# The value each $X_{i}$ is uniformly distributed between 1 and $k$, therefore the probability that the minimum value is $1$ is equal to\n",
    "\n",
    "# $P(Y=1) = 1-P(Y>1) = 1 - \\left ( \\frac{k-1}{k}\\right )^{n}$\n",
    "\n",
    "# The probability that the minimum value is 2 is equal to\n",
    "\n",
    "# $P(Y=2) = 1-P(Y>2) - P(Y=1) = 1 - \\left ( \\frac{k-2}{k}\\right )^{n} - \\left ( 1 - \\left ( \\frac{k-1}{k}\\right )^{n} \\right )$\n",
    "\n",
    "# $= \\left ( \\frac{k-1}{k}\\right )^{n} - \\left ( \\frac{k-2}{k}\\right )^{n}$\n",
    "\n",
    "# The probability that the minimum value is 3 is equal to\n",
    "\n",
    "### $P(Y=3) = 1-P(Y>3) - P(Y=2) - P(Y=1) = 1 - \\left ( \\frac{k-3}{k}\\right )^{n} - \\left [\\left ( \\frac{k-1}{k}\\right )^{n} - \\left ( \\frac{k-2}{k}\\right )^{n} \\right ] - \\left (1 - \\left ( \\frac{k-1}{k}\\right )^{n} \\right )$\n",
    "\n",
    "### $ = 1 - \\left (\\frac{k-3}{k}\\right)^{n} - \\left(\\frac{k-1}{k} \\right)^{n} + \\left(\\frac{k-2}{k} \\right)^{n} - 1 + \\left(\\frac{k-1}{k} \\right)^{n} =\\left(\\frac{k-2}{k} \\right)^{n} - \\left(\\frac{k-3}{k} \\right)^{n}$\n",
    "\n",
    "\n",
    "# Now we can see the pattern\n",
    "\n",
    "# $P(Y=y) = \\left(\\frac{k-(y-1)}{k} \\right)^{n} - \\left(\\frac{k-y}{k} \\right)^{n}$"
   ]
  },
  {
   "cell_type": "markdown",
   "metadata": {},
   "source": [
    "# Let's look at $P(Y=y)$ for different values of $y$"
   ]
  },
  {
   "cell_type": "code",
   "execution_count": 2,
   "metadata": {
    "collapsed": true
   },
   "outputs": [],
   "source": [
    "import numpy as np\n",
    "import matplotlib.pyplot as plt\n",
    "%matplotlib inline\n",
    "plt.rcParams['figure.figsize'] = 10, 10"
   ]
  },
  {
   "cell_type": "code",
   "execution_count": 6,
   "metadata": {
    "collapsed": true
   },
   "outputs": [],
   "source": [
    "def P_y(k,y,n):\n",
    "    val_1 = ((k-(y-1))/float(k))**n\n",
    "    val_2 = ((k-y)/float(k))**n\n",
    "    return val_1 - val_2"
   ]
  },
  {
   "cell_type": "code",
   "execution_count": 7,
   "metadata": {
    "collapsed": true
   },
   "outputs": [],
   "source": [
    "P_y = np.vectorize(P_y)"
   ]
  },
  {
   "cell_type": "markdown",
   "metadata": {},
   "source": [
    "- Let $n=30$\n",
    "- Let $k=20$"
   ]
  },
  {
   "cell_type": "code",
   "execution_count": 14,
   "metadata": {
    "collapsed": false
   },
   "outputs": [
    {
     "name": "stdout",
     "output_type": "stream",
     "text": [
      "P(Y = 1) = 0.785361236057\n",
      "P(Y = 2) = 0.172247605668\n",
      "P(Y = 3) = 0.0347603986804\n",
      "P(Y = 4) = 0.0063928195555\n",
      "P(Y = 5) = 0.00105935794912\n",
      "P(Y = 6) = 0.000156042749879\n",
      "P(Y = 7) = 2.00992792024e-05\n",
      "P(Y = 8) = 2.2189871686e-06\n",
      "P(Y = 9) = 2.04822897474e-07\n",
      "P(Y = 10) = 1.53196996719e-08\n",
      "P(Y = 11) = 8.9184273195e-10\n",
      "P(Y = 12) = 3.83269211612e-11\n",
      "P(Y = 13) = 1.13193010818e-12\n",
      "P(Y = 14) = 2.07855052976e-14\n",
      "P(Y = 15) = 2.05023770357e-16\n",
      "P(Y = 16) = 8.66287996164e-19\n",
      "P(Y = 17) = 1.07355007294e-21\n",
      "P(Y = 18) = 1.91750059233e-25\n",
      "P(Y = 19) = 9.99999999069e-31\n",
      "P(Y = 20) = 9.31322574615e-40\n"
     ]
    }
   ],
   "source": [
    "n = 30\n",
    "k = 20\n",
    "y = np.arange(1,k+1)\n",
    "\n",
    "for i in y:\n",
    "    val = P_y(k,i,n)\n",
    "    print('P(Y = '+str(i)+') = '+str(val))"
   ]
  },
  {
   "cell_type": "markdown",
   "metadata": {},
   "source": [
    "# The values above make sense since if we're picking 100 values between 1 and 20, the probability that the minimum is greater than 1 is $(\\frac{19}{20})^{30} = $21.46%"
   ]
  }
 ],
 "metadata": {
  "kernelspec": {
   "display_name": "Python 2",
   "language": "python",
   "name": "python2"
  },
  "language_info": {
   "codemirror_mode": {
    "name": "ipython",
    "version": 2
   },
   "file_extension": ".py",
   "mimetype": "text/x-python",
   "name": "python",
   "nbconvert_exporter": "python",
   "pygments_lexer": "ipython2",
   "version": "2.7.11"
  }
 },
 "nbformat": 4,
 "nbformat_minor": 0
}
