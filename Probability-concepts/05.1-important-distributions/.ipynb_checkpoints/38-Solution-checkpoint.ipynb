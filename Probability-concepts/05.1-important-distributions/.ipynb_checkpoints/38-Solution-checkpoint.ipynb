{
 "cells": [
  {
   "cell_type": "markdown",
   "metadata": {},
   "source": [
    "# A manufactured lot of buggy whips has 20 items, 5 of which are defective\n",
    "\n",
    "# A random sample of 5 items is chosen to be inspected\n",
    "\n",
    "# Find the probability that the sample contains exactly one defective item if:\n",
    "\n",
    "## a) sampling is done without replacement\n",
    "\n",
    "## b) sampling is done with replacement"
   ]
  },
  {
   "cell_type": "markdown",
   "metadata": {},
   "source": [
    "___\n",
    "\n",
    "# a)\n",
    "\n",
    "# Let $X$ represent the number of defective items in the sample\n",
    "\n",
    "## We know $P(X=d) = \\frac{\\binom{D}{d}\\binom{N-D}{n-d}}{\\binom{N}{n}}$, and in this case $D=5,N=20,n=5$\n",
    "\n",
    "## So $P(X=1) = \\frac{\\binom{5}{1}\\binom{20-5}{5-1}}{\\binom{20}{5}} = 5\\cdot\\frac{\\binom{15}{4}}{\\binom{20}{5}} = 5\\cdot\\frac{1,365}{15,504} =0.4402$"
   ]
  },
  {
   "cell_type": "markdown",
   "metadata": {},
   "source": [
    "___\n",
    "\n",
    "# b)\n",
    "\n",
    "# Since we're sampling with replacement, the probability of finding a defective item is the same each time\n",
    "\n",
    "## $p = \\frac{15}{20} = 0.75 \\implies P(X=1) = b(5,0.75,1) = 5\\cdot(0.75^{4})(0.25) = 0.39551$"
   ]
  }
 ],
 "metadata": {
  "kernelspec": {
   "display_name": "Python 2",
   "language": "python",
   "name": "python2"
  },
  "language_info": {
   "codemirror_mode": {
    "name": "ipython",
    "version": 2
   },
   "file_extension": ".py",
   "mimetype": "text/x-python",
   "name": "python",
   "nbconvert_exporter": "python",
   "pygments_lexer": "ipython2",
   "version": "2.7.11"
  }
 },
 "nbformat": 4,
 "nbformat_minor": 0
}
