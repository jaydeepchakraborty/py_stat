{
 "cells": [
  {
   "cell_type": "markdown",
   "metadata": {},
   "source": [
    "# The probability of a royal flush in a poker hand is $p=\\frac{1}{649,740}$\n",
    "\n",
    "# How large must $n$ be to render the probability of having no royal flush in $n$ hands smaller than $\\frac{1}{e}$?"
   ]
  },
  {
   "cell_type": "markdown",
   "metadata": {},
   "source": [
    "___\n",
    "\n",
    "# $P(X=0) = e^{-n\\frac{1}{649740}}<e^{-1} \\implies 1 < n \\frac{1}{649,740} \\implies n > 649,740$"
   ]
  }
 ],
 "metadata": {
  "kernelspec": {
   "display_name": "Python 2",
   "language": "python",
   "name": "python2"
  },
  "language_info": {
   "codemirror_mode": {
    "name": "ipython",
    "version": 2
   },
   "file_extension": ".py",
   "mimetype": "text/x-python",
   "name": "python",
   "nbconvert_exporter": "python",
   "pygments_lexer": "ipython2",
   "version": "2.7.11"
  }
 },
 "nbformat": 4,
 "nbformat_minor": 0
}
