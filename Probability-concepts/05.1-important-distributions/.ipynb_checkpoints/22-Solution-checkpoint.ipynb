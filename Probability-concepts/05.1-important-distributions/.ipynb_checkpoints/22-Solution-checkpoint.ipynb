{
 "cells": [
  {
   "cell_type": "markdown",
   "metadata": {},
   "source": [
    "# Assume that we are making raisin cookies\n",
    "\n",
    "# We put a box of 600 raisins into the dough and make 500 cookies\n",
    "\n",
    "# ...\n",
    "\n",
    "# Determine the probability that a given cookie will have at least 5 raisins"
   ]
  },
  {
   "cell_type": "markdown",
   "metadata": {},
   "source": [
    "___\n",
    "\n",
    "### $\\lambda = 1.2 \\implies P(X>4) = 1 - P(X=0) - P(X=1) - P(X=2) - P(X=3) - P(X=4)$\n",
    "\n",
    "# $P(X=0) = e^{-1.2} = 0.3012$\n",
    "\n",
    "# $P(X=1) = 1.2e^{-1.2} = 0.36143$\n",
    "\n",
    "# $P(X=2) = \\frac{1.2^{2}}{2}e^{-1.2} = 0.2169$\n",
    "\n",
    "# $P(X=3) = \\frac{1.2^{3}}{6}e^{-1.2} = 0.0867$\n",
    "\n",
    "# $P(X=4) = \\frac{1.2^{4}}{24}e^{-1.2} = 0.026$\n",
    "\n",
    "## So $P(X>4) = 1 - 0.3012 - 0.36143 - 0.2169 - 0.0867 - 0.026 = 0.00777$"
   ]
  }
 ],
 "metadata": {
  "kernelspec": {
   "display_name": "Python 2",
   "language": "python",
   "name": "python2"
  },
  "language_info": {
   "codemirror_mode": {
    "name": "ipython",
    "version": 2
   },
   "file_extension": ".py",
   "mimetype": "text/x-python",
   "name": "python",
   "nbconvert_exporter": "python",
   "pygments_lexer": "ipython2",
   "version": "2.7.11"
  }
 },
 "nbformat": 4,
 "nbformat_minor": 0
}
