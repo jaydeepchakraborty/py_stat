{
 "cells": [
  {
   "cell_type": "markdown",
   "metadata": {},
   "source": [
    "# On the average, only 1 person in 1000 has a particular blood type\n",
    "\n",
    "### a) Find the probability that, in a city of 10,000 people, no one has this blood type\n",
    "\n",
    "### b) How many people would have to be tested to give a probability greater than $\\frac{1}{2}$ of finding at least one person with this blood type?"
   ]
  },
  {
   "cell_type": "markdown",
   "metadata": {},
   "source": [
    "___\n",
    "\n",
    "# a)\n",
    "\n",
    "# $p=\\frac{1}{1,000}$; $n=10,000 \\implies \\lambda = np = 10,000\\frac{1}{1,000} = 10$\n",
    "\n",
    "# $P(X=0) = e^{-\\lambda} = e^{-10} = 0.0000454$"
   ]
  },
  {
   "cell_type": "markdown",
   "metadata": {},
   "source": [
    "___\n",
    "\n",
    "# b)\n",
    "\n",
    "# The probability of finding at least one person with this blood type is equal to $1-P(X=0)$\n",
    "\n",
    "# $P(X=0) = e^{-\\lambda} = e^{-0.001n}$\n",
    "\n",
    "# So we want to solve for $n$ such that $e^{-0.001n} = 1-0.5 = 0.5$\n",
    "\n",
    "# $0.5 = e^{-0.001n} \\implies ln(0.5) = -0.001n \\implies n = \\frac{ln(0.5)}{-0.001}\\approx 694$"
   ]
  }
 ],
 "metadata": {
  "kernelspec": {
   "display_name": "Python 2",
   "language": "python",
   "name": "python2"
  },
  "language_info": {
   "codemirror_mode": {
    "name": "ipython",
    "version": 2
   },
   "file_extension": ".py",
   "mimetype": "text/x-python",
   "name": "python",
   "nbconvert_exporter": "python",
   "pygments_lexer": "ipython2",
   "version": "2.7.11"
  }
 },
 "nbformat": 4,
 "nbformat_minor": 0
}
