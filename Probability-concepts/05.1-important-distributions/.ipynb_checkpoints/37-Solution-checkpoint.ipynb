{
 "cells": [
  {
   "cell_type": "markdown",
   "metadata": {},
   "source": [
    "# There are an unknown number of moose on Isle Royale\n",
    "\n",
    "# To estimate the number of moose, 50 moose are captured and tagged\n",
    "\n",
    "# Six months later, 200 moose are captured and it is found that 8 of them were tagged\n",
    "\n",
    "# From these values, estimate the number of moose on the island\n",
    "\n",
    "# Verify your guess using a computer program"
   ]
  },
  {
   "cell_type": "markdown",
   "metadata": {},
   "source": [
    "___\n",
    "# Part 1: Guess\n",
    "\n",
    "# $\\frac{50}{N_{guess}} = \\frac{8}{200} \\implies N_{guess} = \\frac{200\\cdot50}{8} = 1,250$"
   ]
  },
  {
   "cell_type": "markdown",
   "metadata": {},
   "source": [
    "___\n",
    "\n",
    "# Similar to [Q36](36-Solution.ipynb)\n",
    "\n",
    "# $P(X=t) = \\frac{\\binom{T}{t}\\binom{N-T}{n-t}}{\\binom{N}{n}}$"
   ]
  },
  {
   "cell_type": "markdown",
   "metadata": {},
   "source": [
    "# For this example\n",
    "\n",
    "## $t = 8$\n",
    "\n",
    "## $T = 50$\n",
    "\n",
    "## $n = 200$\n",
    "\n",
    "# So $f(N) = \\frac{\\binom{50}{8}\\binom{N-50}{200-8}}{\\binom{N}{200}}$"
   ]
  },
  {
   "cell_type": "code",
   "execution_count": 3,
   "metadata": {
    "collapsed": true
   },
   "outputs": [],
   "source": [
    "from scipy.misc import comb\n",
    "import pandas as pd"
   ]
  },
  {
   "cell_type": "code",
   "execution_count": 8,
   "metadata": {
    "collapsed": true
   },
   "outputs": [],
   "source": [
    "def f(N):\n",
    "    choice1 = comb(50,8)\n",
    "    choice2 = comb((N-50),192)\n",
    "    choice3 = comb(N,200)\n",
    "    return float(choice1)*choice2/choice3"
   ]
  },
  {
   "cell_type": "code",
   "execution_count": 9,
   "metadata": {
    "collapsed": true
   },
   "outputs": [],
   "source": [
    "df = pd.DataFrame({'N':range(10001)})\n",
    "df['f(N)'] = df['N'].map(f)"
   ]
  },
  {
   "cell_type": "code",
   "execution_count": 13,
   "metadata": {
    "collapsed": false
   },
   "outputs": [
    {
     "data": {
      "text/html": [
       "<div>\n",
       "<table border=\"1\" class=\"dataframe\">\n",
       "  <thead>\n",
       "    <tr style=\"text-align: right;\">\n",
       "      <th></th>\n",
       "      <th>N</th>\n",
       "      <th>f(N)</th>\n",
       "    </tr>\n",
       "  </thead>\n",
       "  <tbody>\n",
       "    <tr>\n",
       "      <th>1250</th>\n",
       "      <td>1250</td>\n",
       "      <td>0.15539</td>\n",
       "    </tr>\n",
       "  </tbody>\n",
       "</table>\n",
       "</div>"
      ],
      "text/plain": [
       "         N     f(N)\n",
       "1250  1250  0.15539"
      ]
     },
     "execution_count": 13,
     "metadata": {},
     "output_type": "execute_result"
    }
   ],
   "source": [
    "df[df['f(N)']==df['f(N)'].max()]"
   ]
  },
  {
   "cell_type": "markdown",
   "metadata": {},
   "source": [
    "# Result is the same\n",
    "\n",
    "# Maximum likelihood principle gives an estimate of 1,250 moose"
   ]
  }
 ],
 "metadata": {
  "kernelspec": {
   "display_name": "Python 2",
   "language": "python",
   "name": "python2"
  },
  "language_info": {
   "codemirror_mode": {
    "name": "ipython",
    "version": 2
   },
   "file_extension": ".py",
   "mimetype": "text/x-python",
   "name": "python",
   "nbconvert_exporter": "python",
   "pygments_lexer": "ipython2",
   "version": "2.7.11"
  }
 },
 "nbformat": 4,
 "nbformat_minor": 0
}
