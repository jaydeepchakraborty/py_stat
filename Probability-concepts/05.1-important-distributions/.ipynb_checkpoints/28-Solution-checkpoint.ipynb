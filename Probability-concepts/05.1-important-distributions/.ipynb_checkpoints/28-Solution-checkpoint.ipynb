{
 "cells": [
  {
   "cell_type": "markdown",
   "metadata": {},
   "source": [
    "# Assume that the probability that there is a significant accident in a nuclear power plant during one year is 0.001\n",
    "\n",
    "# If a country has 100 nuclear plants, estimate the probability that there is at least one accident during a year"
   ]
  },
  {
   "cell_type": "markdown",
   "metadata": {},
   "source": [
    "___\n",
    "\n",
    "# So the random variable $X$ represents the number of accidents for the 100 plants in a given year\n",
    "\n",
    "## $p=0.001$ for an individual plant, and $n=100 \\implies \\lambda = 0.1$\n",
    "\n",
    "## $P(X=0) = e^{-0.1} = 0.905 \\implies P(X>0) = 1 - P(X=0) = 1 - 0.905 = 0.095$"
   ]
  }
 ],
 "metadata": {
  "kernelspec": {
   "display_name": "Python 2",
   "language": "python",
   "name": "python2"
  },
  "language_info": {
   "codemirror_mode": {
    "name": "ipython",
    "version": 2
   },
   "file_extension": ".py",
   "mimetype": "text/x-python",
   "name": "python",
   "nbconvert_exporter": "python",
   "pygments_lexer": "ipython2",
   "version": "2.7.11"
  }
 },
 "nbformat": 4,
 "nbformat_minor": 0
}
