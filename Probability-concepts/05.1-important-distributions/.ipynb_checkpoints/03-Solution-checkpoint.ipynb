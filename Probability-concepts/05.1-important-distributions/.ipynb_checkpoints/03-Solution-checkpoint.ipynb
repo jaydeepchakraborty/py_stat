{
 "cells": [
  {
   "cell_type": "markdown",
   "metadata": {},
   "source": [
    "# Let $X$ be a random variable which can take on countably many values\n",
    "\n",
    "# Show that $X$ cannot be uniformly distributed"
   ]
  },
  {
   "cell_type": "markdown",
   "metadata": {},
   "source": [
    "___\n",
    "\n",
    "- Let's assume $X$ can take on any value in the set of positive integers i.e. [1,2,3,4,5,6,...]\n",
    "\n",
    "- We know that if there are $n$ possible values for a uniformly distributed random variable, the probability of each is $P(X=x) = \\frac{1}{n}$\n",
    "\n",
    "- But there are $\\infty$ values in the set of positive integers\n",
    "    - Therefore $P(X=x) = 0$ for each x in [1,2,3,...] $\\implies$ can't be uniformly distributed"
   ]
  }
 ],
 "metadata": {
  "kernelspec": {
   "display_name": "Python 2",
   "language": "python",
   "name": "python2"
  },
  "language_info": {
   "codemirror_mode": {
    "name": "ipython",
    "version": 2
   },
   "file_extension": ".py",
   "mimetype": "text/x-python",
   "name": "python",
   "nbconvert_exporter": "python",
   "pygments_lexer": "ipython2",
   "version": "2.7.11"
  }
 },
 "nbformat": 4,
 "nbformat_minor": 0
}
