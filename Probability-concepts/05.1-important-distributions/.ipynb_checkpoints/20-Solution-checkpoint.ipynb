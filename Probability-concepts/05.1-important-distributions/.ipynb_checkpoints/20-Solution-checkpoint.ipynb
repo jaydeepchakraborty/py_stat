{
 "cells": [
  {
   "cell_type": "markdown",
   "metadata": {},
   "source": [
    "# An advertiser drops 10,000 leaflets on a city which has 2,000 blocks\n",
    "\n",
    "# Assume that each leaflet has an equal chance of landing on each block\n",
    "\n",
    "# What is the probability that a particular block will receive no leaflets?"
   ]
  },
  {
   "cell_type": "markdown",
   "metadata": {},
   "source": [
    "___\n",
    "\n",
    "# $p_{leaflet} = \\frac{10,000}{2,000} = 5$; $n=1 \\implies \\lambda = 5$\n",
    "\n",
    "# $P(X=0) = e^{-5} = 0.006738$"
   ]
  }
 ],
 "metadata": {
  "kernelspec": {
   "display_name": "Python 2",
   "language": "python",
   "name": "python2"
  },
  "language_info": {
   "codemirror_mode": {
    "name": "ipython",
    "version": 2
   },
   "file_extension": ".py",
   "mimetype": "text/x-python",
   "name": "python",
   "nbconvert_exporter": "python",
   "pygments_lexer": "ipython2",
   "version": "2.7.11"
  }
 },
 "nbformat": 4,
 "nbformat_minor": 0
}
