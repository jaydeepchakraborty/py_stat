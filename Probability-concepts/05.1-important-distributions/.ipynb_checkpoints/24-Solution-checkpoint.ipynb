{
 "cells": [
  {
   "cell_type": "markdown",
   "metadata": {},
   "source": [
    "# When Jogn Kemeny was the chair of the Mathematics department at Dartmouth College, he received an average of ten letters each day\n",
    "\n",
    "# On a certain weekday he received no mail and wondered if it was a holiday\n",
    "\n",
    "# To decide this he computed the probability that, in ten years, he would have at least 1 day without any mail\n",
    "\n",
    "# He assumed that the number of letters he received on a given day has a Poisson distribution\n",
    "\n",
    "# What probability did he find?"
   ]
  },
  {
   "cell_type": "markdown",
   "metadata": {},
   "source": [
    "___\n",
    "\n",
    "# Assuming 3,000 days over the 10 year period\n",
    "\n",
    "# $p = 10$ and $n=1 \\implies \\lambda = 10$\n",
    "\n",
    "# $P(X=0) = e^{-10} = 0.00004539992$\n",
    "\n",
    "# Let $Y$ be the random variable representing the number of days over the 10 year period with no mail\n",
    "\n",
    "### Then $p = 0.00004539992$; $n=3,000 \\implies \\lambda = 3,000 = 0.1362 \\implies P(Y>0) = 1 - e^{-0.1362} = 0.12733$\n",
    "\n",
    "# INCONCLUSIVE"
   ]
  }
 ],
 "metadata": {
  "kernelspec": {
   "display_name": "Python 2",
   "language": "python",
   "name": "python2"
  },
  "language_info": {
   "codemirror_mode": {
    "name": "ipython",
    "version": 2
   },
   "file_extension": ".py",
   "mimetype": "text/x-python",
   "name": "python",
   "nbconvert_exporter": "python",
   "pygments_lexer": "ipython2",
   "version": "2.7.11"
  }
 },
 "nbformat": 4,
 "nbformat_minor": 0
}
