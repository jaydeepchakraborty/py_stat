{
 "cells": [
  {
   "cell_type": "markdown",
   "metadata": {},
   "source": [
    "# A bridge deck has 52 cards with 13 cards in each of four suits: spades, hearts, diamonds, and clubs\n",
    "\n",
    "# A hand of 13 cards is dealt from a shuffled deck\n",
    "\n",
    "# Find the probability that\n",
    "\n",
    "## a) a distribution of suits 4, 4, 3, 2 (e.g. 4 spades, 4 hearts, 3 diamonds, and 2 clubs)\n",
    "\n",
    "## b) a distribution of suits 5, 3, 3, 2"
   ]
  },
  {
   "cell_type": "markdown",
   "metadata": {},
   "source": [
    "___\n",
    "\n",
    "# a)\n",
    "\n",
    "### The number of ways the first two groups of 4 can be assigned is equal to $\\binom{4}{2}\\binom{13}{4}\\binom{13}{4} = 6\\cdot715^{2}$\n",
    "\n",
    "### The number of ways the next 3 cards can be assigned is equal to $\\binom{2}{1}\\binom{13}{3} = 2\\cdot286$\n",
    "\n",
    "### The number of ways the final 2 cards can be assigned is equal to $\\binom{1}{1}\\binom{13}{2} = 78$\n",
    "\n",
    "## Therefore the total number of ways is equal to 136,852,887,600\n",
    "\n",
    "## The number of possible hands is equal to $\\binom{52}{13} = 635,013,559,600$\n",
    "\n",
    "# Therefore $P(4,4,3,2) = \\frac{136,852,887,600}{635,013,559,600} = 0.21551$"
   ]
  },
  {
   "cell_type": "markdown",
   "metadata": {},
   "source": [
    "___\n",
    "\n",
    "# b)\n",
    "\n",
    "### The number of ways the first group of 5 can be assigned is equal to $\\binom{4}{1}\\binom{13}{5} = 4\\cdot1,287 = 3,861$\n",
    "\n",
    "### The number of ways the two groups of 3 can be assigned is equal to $\\binom{3}{2}\\binom{13}{3}\\binom{13}{3} = 3\\cdot286^{2} = 490,776$\n",
    "\n",
    "\n",
    "### The number of ways the final 2 cards can be assigned is equal to $\\binom{1}{1}\\binom{13}{2} = 78$\n",
    "\n",
    "## Therefore the total number of ways is equal to 98,534,079,072\n",
    "\n",
    "## The number of possible hands is equal to $\\binom{52}{13} = 54,741,155,040$\n",
    "\n",
    "# Therefore $P(4,4,3,2) = \\frac{98,534,079,072}{635,013,559,600} = 0.1552$"
   ]
  }
 ],
 "metadata": {
  "kernelspec": {
   "display_name": "Python 2",
   "language": "python",
   "name": "python2"
  },
  "language_info": {
   "codemirror_mode": {
    "name": "ipython",
    "version": 2
   },
   "file_extension": ".py",
   "mimetype": "text/x-python",
   "name": "python",
   "nbconvert_exporter": "python",
   "pygments_lexer": "ipython2",
   "version": "2.7.11"
  }
 },
 "nbformat": 4,
 "nbformat_minor": 0
}
