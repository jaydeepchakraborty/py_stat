{
 "cells": [
  {
   "cell_type": "markdown",
   "metadata": {},
   "source": [
    "# The king's coinmaster boxes his coins 500 to a box and puts 1 counterfeit coin in each box\n",
    "\n",
    "# The king is suspicious, but instead of testing all the coins, he tests 1 randomly chosen coin from 500 diffferent boxes\n",
    "\n",
    "# What is the probability that he finds at least one fake?\n",
    "\n",
    "# What if he tests 2 coins from each box?"
   ]
  },
  {
   "cell_type": "markdown",
   "metadata": {},
   "source": [
    "___\n",
    "\n",
    "# Let $X$ represent the number of cointerfeit coins that he discovers\n",
    "\n",
    "# Then, $p = \\frac{1}{500}$ and $n=500 \\implies \\lambda = 1$\n",
    "\n",
    "### $P(X=0) = e^{-1} = 0.368 \\implies P(X>0) = 1 - P(X=0) = 1 - 0.368 = 0.632$"
   ]
  },
  {
   "cell_type": "markdown",
   "metadata": {},
   "source": [
    "___\n",
    "\n",
    "# If he selects two coins from each box, $p = 1 - \\frac{499}{500}\\frac{498}{499} = 0.004$\n",
    "\n",
    "# So $\\lambda = 500\\cdot0.004 = 2$\n",
    "\n",
    "# $P(X=0) = e^{-2} = 0.135 \\implies P(X>0) = 0.865$"
   ]
  },
  {
   "cell_type": "markdown",
   "metadata": {},
   "source": [
    "___\n",
    "\n",
    "### We can use a simulation to confirm our results"
   ]
  },
  {
   "cell_type": "code",
   "execution_count": 1,
   "metadata": {
    "collapsed": true
   },
   "outputs": [],
   "source": [
    "import numpy as np"
   ]
  },
  {
   "cell_type": "code",
   "execution_count": 24,
   "metadata": {
    "collapsed": true
   },
   "outputs": [],
   "source": [
    "def sim():\n",
    "    array_hidden = np.random.randint(1, 501, size = 500)\n",
    "    array_tested = np.random.randint(1, 501, size = 500)\n",
    "    return np.sum(array_hidden==array_tested)"
   ]
  },
  {
   "cell_type": "code",
   "execution_count": 27,
   "metadata": {
    "collapsed": false
   },
   "outputs": [],
   "source": [
    "n_trials = 10000\n",
    "count = 0\n",
    "\n",
    "for i in range(n_trials):\n",
    "    count += sim()>0"
   ]
  },
  {
   "cell_type": "code",
   "execution_count": 29,
   "metadata": {
    "collapsed": false
   },
   "outputs": [
    {
     "data": {
      "text/plain": [
       "0.62770000000000004"
      ]
     },
     "execution_count": 29,
     "metadata": {},
     "output_type": "execute_result"
    }
   ],
   "source": [
    "count/float(n_trials)"
   ]
  },
  {
   "cell_type": "markdown",
   "metadata": {},
   "source": [
    "### This is very close to our value of 0.632"
   ]
  },
  {
   "cell_type": "code",
   "execution_count": 30,
   "metadata": {
    "collapsed": true
   },
   "outputs": [],
   "source": [
    "def sim2():\n",
    "    array_hidden = np.random.randint(1, 501, size = 500)\n",
    "    array_tested1 = np.random.randint(1, 501, size = 500)\n",
    "    array_tested2 = np.random.randint(1, 501, size = 500)\n",
    "    return np.sum(array_hidden==array_tested1) + np.sum(array_hidden==array_tested2)"
   ]
  },
  {
   "cell_type": "code",
   "execution_count": 31,
   "metadata": {
    "collapsed": true
   },
   "outputs": [],
   "source": [
    "n_trials = 10000\n",
    "count = 0\n",
    "\n",
    "for i in range(n_trials):\n",
    "    count += sim2()>0"
   ]
  },
  {
   "cell_type": "code",
   "execution_count": 32,
   "metadata": {
    "collapsed": false
   },
   "outputs": [
    {
     "data": {
      "text/plain": [
       "0.8679"
      ]
     },
     "execution_count": 32,
     "metadata": {},
     "output_type": "execute_result"
    }
   ],
   "source": [
    "count/float(n_trials)"
   ]
  },
  {
   "cell_type": "markdown",
   "metadata": {},
   "source": [
    "### Also very close to our value of 0.865"
   ]
  }
 ],
 "metadata": {
  "kernelspec": {
   "display_name": "Python 2",
   "language": "python",
   "name": "python2"
  },
  "language_info": {
   "codemirror_mode": {
    "name": "ipython",
    "version": 2
   },
   "file_extension": ".py",
   "mimetype": "text/x-python",
   "name": "python",
   "nbconvert_exporter": "python",
   "pygments_lexer": "ipython2",
   "version": "2.7.11"
  }
 },
 "nbformat": 4,
 "nbformat_minor": 0
}
