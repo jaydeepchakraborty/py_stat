{
 "cells": [
  {
   "cell_type": "markdown",
   "metadata": {},
   "source": [
    "# A baker blends 600 raisins and 400 chocolate chips into a dough mix and makes 500 cookies\n",
    "\n",
    "## a) Find the probability that a randomly picked cookie will have no raisins\n",
    "\n",
    "## b) Find the probability that a randomly picked cookie will have exactly two chocolate chips\n",
    "\n",
    "## c) Find the probability that a randomly chosen cookie will have at least two bits (either raisin or chips) in it"
   ]
  },
  {
   "cell_type": "markdown",
   "metadata": {},
   "source": [
    "___\n",
    "\n",
    "# a)\n",
    "\n",
    "# $p_{raisin} = \\frac{600}{500} = 1.2$; $n=1 \\implies \\lambda = 1.2$\n",
    "\n",
    "# $P(X=0) = e^{-1.2} = 0.301$"
   ]
  },
  {
   "cell_type": "markdown",
   "metadata": {},
   "source": [
    "___\n",
    "\n",
    "# b)\n",
    "\n",
    "# $p_{chip} = \\frac{400}{500} = 0.8$; $n=1 \\implies \\lambda = 0.8$\n",
    "\n",
    "# $P(X=2) = \\frac{0.8^{2}}{2!}e^{-0.8} = 0.14379$"
   ]
  },
  {
   "cell_type": "markdown",
   "metadata": {},
   "source": [
    "___\n",
    "\n",
    "# c)\n",
    "\n",
    "# $p_{chip\\text{ or }raisin} = \\frac{600+400}{500} = 2 \\implies \\lambda = 2$\n",
    "\n",
    "# $P(X>2) = 1- P(X=0) - P(X=1) =1 - e^{-2} - 2e^{-2} = 0.594$"
   ]
  }
 ],
 "metadata": {
  "kernelspec": {
   "display_name": "Python 2",
   "language": "python",
   "name": "python2"
  },
  "language_info": {
   "codemirror_mode": {
    "name": "ipython",
    "version": 2
   },
   "file_extension": ".py",
   "mimetype": "text/x-python",
   "name": "python",
   "nbconvert_exporter": "python",
   "pygments_lexer": "ipython2",
   "version": "2.7.11"
  }
 },
 "nbformat": 4,
 "nbformat_minor": 0
}
