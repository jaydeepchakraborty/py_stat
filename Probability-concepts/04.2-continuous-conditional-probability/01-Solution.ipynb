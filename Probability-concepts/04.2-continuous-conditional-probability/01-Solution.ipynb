{
 "cells": [
  {
   "cell_type": "markdown",
   "metadata": {},
   "source": [
    "# Pick a point $x$ at random (with uniform density) in the interval [0,1]\n",
    "\n",
    "# Find the probability that $x>\\frac{1}{2}$ given that:\n",
    "\n",
    "## a) $ x > \\frac{1}{4}$\n",
    "\n",
    "## b) $x<\\frac{3}{4}$\n",
    "\n",
    "## c) $|x-\\frac{1}{2}|<\\frac{1}{4}$\n",
    "\n",
    "## d) $x^{2}-x+\\frac{2}{9}<0$"
   ]
  },
  {
   "cell_type": "markdown",
   "metadata": {},
   "source": [
    "___\n",
    "# a)\n",
    "\n",
    "## We define $E$ as $x>\\frac{1}{4}$, and $F$ as $x>\\frac{1}{2}$\n",
    "\n",
    "## So $P(F|E) = \\frac{P(E\\cap F)}{P(E)} = \\frac{P(x>\\frac{1}{2})}{P(x>\\frac{1}{4})} = \\frac{\\frac{1}{2}}{\\frac{3}{4}} = \\frac{2}{3}$"
   ]
  },
  {
   "cell_type": "markdown",
   "metadata": {},
   "source": [
    "___\n",
    "# b)\n",
    "\n",
    "# $P(x>\\frac{1}{2}|x<\\frac{3}{4}) = \\frac{P(x<\\frac{3}{4}\\cap x>\\frac{1}{2})}{P(x<\\frac{3}{4})} = \\frac{\\frac{3}{4} - \\frac{1}{2}}{\\frac{3}{4}} = \\frac{\\frac{1}{4}}{\\frac{3}{4}} = \\frac{1}{3}$"
   ]
  },
  {
   "cell_type": "markdown",
   "metadata": {},
   "source": [
    "___\n",
    "# c)\n",
    "\n",
    "# $P(x>\\frac{1}{2} | (|x-\\frac{1}{2}|<\\frac{1}{4}) )$\n",
    "\n",
    "### First, we can think about $|x-\\frac{1}{2}|<\\frac{1}{4}$. What does this mean?\n",
    "\n",
    "- It means that the distance between the value of $x$ and $\\frac{1}{2}$ is never more than $\\frac{1}{4}$\n",
    "\n",
    "- In other words, x is always between $\\frac{1}{2} - \\frac{1}{4} = \\frac{1}{4}$ and $\\frac{1}{2} + \\frac{1}{4} = \\frac{3}{4}$\n",
    "\n",
    "# $P(|x-\\frac{1}{2}|<\\frac{1}{4} | x>\\frac{1}{2}) = \\frac{P(\\frac{1}{4}<x<\\frac{3}{4} \\cap x>\\frac{1}{2})}{P(\\frac{1}{4}<x<\\frac{3}{4})} = \\frac{\\frac{3}{4} - \\frac{1}{2}}{\\frac{1}{2}} = \\frac{1}{2}$"
   ]
  },
  {
   "cell_type": "markdown",
   "metadata": {},
   "source": [
    "___\n",
    "# d)\n",
    "\n",
    "# $P((x>\\frac{1}{2})|(x^{2}-x+\\frac{2}{9}))$\n",
    "\n",
    "### First, we can solve for the roots of $x^{2}-x+\\frac{2}{9}$\n",
    "\n",
    "$x^{2}-x+\\frac{2}{9} = 0 \\implies$ roots are $\\frac{1\\pm \\sqrt{1-(4)(1)(\\frac{2}{9})}}{2} = \\frac{1}{2} \\pm \\frac{1}{6}$\n",
    "\n",
    "### By now, we can see:\n",
    "\n",
    "# $P((x>\\frac{1}{2})|(x^{2}-x+\\frac{2}{9})) = \\frac{\\frac{1}{6}}{\\frac{1}{3}} = \\frac{1}{2}$"
   ]
  }
 ],
 "metadata": {
  "kernelspec": {
   "display_name": "Python 2",
   "language": "python",
   "name": "python2"
  },
  "language_info": {
   "codemirror_mode": {
    "name": "ipython",
    "version": 2
   },
   "file_extension": ".py",
   "mimetype": "text/x-python",
   "name": "python",
   "nbconvert_exporter": "python",
   "pygments_lexer": "ipython2",
   "version": "2.7.11"
  }
 },
 "nbformat": 4,
 "nbformat_minor": 0
}
