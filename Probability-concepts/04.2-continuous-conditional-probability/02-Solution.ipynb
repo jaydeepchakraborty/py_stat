{
 "cells": [
  {
   "cell_type": "markdown",
   "metadata": {},
   "source": [
    "# A radioactive material emits $\\alpha$ particles at a rate described by the density function:\n",
    "\n",
    "# $f(t) = 0.1e^{-0.1t}$\n",
    "\n",
    "# Find the probability that a particle is emitted in the first 10 seconds given that:\n",
    "\n",
    "## a) No particle is emitted in the first second\n",
    "\n",
    "## b) No particle is emitted in the first 5 seconds\n",
    "\n",
    "## c) A particle is emitted in the first 3 seconds\n",
    "\n",
    "## d) A particle is emitted in the first 20 seconds"
   ]
  },
  {
   "cell_type": "markdown",
   "metadata": {},
   "source": [
    "____\n",
    "\n",
    "# Recall: $P(F|E) = \\int_{E\\cap F}\\frac{f(x)}{P(E)}dx = \\frac{P(E\\cap F)}{P(E)}$\n",
    "\n",
    "# From [2.2 Q5](../2.2-continuous-probability-densities/05-Solution.ipynb) we know $P([0,T]) = 1 - e^{-0.1T}$"
   ]
  },
  {
   "cell_type": "markdown",
   "metadata": {},
   "source": [
    "___\n",
    "# a)\n",
    "\n",
    "## In this case, $E$ is the event that no particle is emitted in the first second, and we know $P(E) =  1-[1-e^{-0.1}] = e^{-0.1}$\n",
    "\n",
    "\n",
    "## Now, if we're integrating over $E\\cap F$, this is [1,10], so $P(F|E)$ becomes:\n",
    "\n",
    "### $P(F|E) = \\int_{E\\cap F}\\frac{f(x)}{P(E)}dx = \\frac{1}{e^{-0.1}}[-e^{-0.1(10)}+e^{-0.1(1)}] = 1-e^{-0.9} = 0.59343034025$"
   ]
  },
  {
   "cell_type": "markdown",
   "metadata": {},
   "source": [
    "___\n",
    "# b)\n",
    "\n",
    "# Same solution as above; we just swap the numbers\n",
    "\n",
    "# $P(F|E) = \\frac{1}{e^{-0.5}}[e^{-0.5} - e^{-1}] = 1 - e^{-0.5} = 0.3935$"
   ]
  },
  {
   "cell_type": "markdown",
   "metadata": {},
   "source": [
    "___\n",
    "# c)\n",
    "\n",
    "# If a particle is emitted in the first 3 seconds, then that also means a particle is emitted in the first 10 seconds\n",
    "\n",
    "# So $P(F|E) = 1$"
   ]
  },
  {
   "cell_type": "markdown",
   "metadata": {},
   "source": [
    "___\n",
    "\n",
    "# d)\n",
    "\n",
    "# $P(E) = 1-e^{-0.1(20)} = 1-e^{-2}$\n",
    "\n",
    "# $P(E \\cap F) = P(E)$ since the intersection of the two events requires a particle to be emitted in the first 10 seconds, which satisfies event $F$\n",
    "\n",
    "# So $P(F|E) = \\frac{1-e^{-1}}{1-e^{-2}} = 0.731$"
   ]
  }
 ],
 "metadata": {
  "kernelspec": {
   "display_name": "Python 2",
   "language": "python",
   "name": "python2"
  },
  "language_info": {
   "codemirror_mode": {
    "name": "ipython",
    "version": 2
   },
   "file_extension": ".py",
   "mimetype": "text/x-python",
   "name": "python",
   "nbconvert_exporter": "python",
   "pygments_lexer": "ipython2",
   "version": "2.7.11"
  }
 },
 "nbformat": 4,
 "nbformat_minor": 0
}
