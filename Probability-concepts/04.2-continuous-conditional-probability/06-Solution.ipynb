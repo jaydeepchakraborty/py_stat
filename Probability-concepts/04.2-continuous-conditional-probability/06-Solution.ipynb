{
 "cells": [
  {
   "cell_type": "markdown",
   "metadata": {},
   "source": [
    "# Find the conditional density functions for the following experiments:\n",
    "\n",
    "## a) A number $x$ is chosen at random in the interval $[0,1]$, given that $x>\\frac{1}{4}$\n",
    "\n",
    "## b) A number $t$ is chosen at random in the interval $[0,\\infty]$ with exponential density $f(t) = e^{-t}$, given that $1<t<10$\n",
    "\n",
    "## c) A dart is thrown at a circular target of radius 10, given that it falls in the upper half of the target\n",
    "\n",
    "## d) Two numbers $x$ and $y$ are chosen at random in the interval $[0,1]$, given that $x>y$"
   ]
  },
  {
   "cell_type": "markdown",
   "metadata": {},
   "source": [
    "___\n",
    "\n",
    "# Recall: if we have a density function $f(x)$, then the conditional density function for event $E$ is given by:\n",
    "\n",
    "# $f(x|E) = \\left\\{\\begin{matrix}\n",
    "\\frac{f(x)}{P(E)} & x\\text{ in }E\\\\ \n",
    "0 & otherwise\n",
    "\\end{matrix}\\right.$"
   ]
  },
  {
   "cell_type": "markdown",
   "metadata": {},
   "source": [
    "# So, to solve each of these problems, we first need to solve for $P(E)$"
   ]
  },
  {
   "cell_type": "markdown",
   "metadata": {},
   "source": [
    "___\n",
    "# a)\n",
    "\n",
    "### $P(E) = \\frac{3}{4}$ and since this is a uniform density, we know $f(x) = 1$ therefore\n",
    "\n",
    "$f(x|E) = \\left\\{\\begin{matrix}\n",
    "\\frac{1}{\\frac{3}{4}} = \\frac{4}{3} & x\\text{ in }E\\\\ \n",
    "0 & otherwise\n",
    "\\end{matrix}\\right.$"
   ]
  },
  {
   "cell_type": "markdown",
   "metadata": {},
   "source": [
    "___\n",
    "\n",
    "# b)\n",
    "\n",
    "# $P(E) = \\int^{10}_{1}e^{-t}dt = -e^{-t}|_{1}^{10} = e^{-1} - e^{-10}$\n",
    "\n",
    "$f(t|E) = \\left\\{\\begin{matrix}\n",
    "\\frac{e^{-t}}{e^{-1} - e^{-10}} & x\\text{ in }E\\\\ \n",
    "0 & otherwise\n",
    "\\end{matrix}\\right.$"
   ]
  }
 ],
 "metadata": {
  "kernelspec": {
   "display_name": "Python 2",
   "language": "python",
   "name": "python2"
  },
  "language_info": {
   "codemirror_mode": {
    "name": "ipython",
    "version": 2
   },
   "file_extension": ".py",
   "mimetype": "text/x-python",
   "name": "python",
   "nbconvert_exporter": "python",
   "pygments_lexer": "ipython2",
   "version": "2.7.11"
  }
 },
 "nbformat": 4,
 "nbformat_minor": 0
}
