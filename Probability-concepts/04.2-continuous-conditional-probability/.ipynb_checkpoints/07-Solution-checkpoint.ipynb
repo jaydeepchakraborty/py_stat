{
 "cells": [
  {
   "cell_type": "markdown",
   "metadata": {},
   "source": [
    "# Let $x$ and $y$ be chosen at random from the interval $[0,1]$\n",
    "\n",
    "# Show that the following events are independent\n",
    "\n",
    "## i) $x>\\frac{1}{3}$\n",
    "\n",
    "## ii) $y>2/3$"
   ]
  },
  {
   "cell_type": "markdown",
   "metadata": {},
   "source": [
    "____\n",
    "### First, we visualize the combinations of $x$ and $y$ that satisfy the conditions"
   ]
  },
  {
   "cell_type": "code",
   "execution_count": 1,
   "metadata": {
    "collapsed": true
   },
   "outputs": [],
   "source": [
    "import numpy as np\n",
    "import matplotlib.pyplot as plt\n",
    "%matplotlib inline\n",
    "plt.rcParams['figure.figsize'] = 10,10"
   ]
  },
  {
   "cell_type": "code",
   "execution_count": 8,
   "metadata": {
    "collapsed": false
   },
   "outputs": [
    {
     "data": {
      "text/plain": [
       "(0, 1)"
      ]
     },
     "execution_count": 8,
     "metadata": {},
     "output_type": "execute_result"
    },
    {
     "data": {
      "image/png": "[encoded data removed]",
      "text/plain": [
       "<matplotlib.figure.Figure at 0xb749358>"
      ]
     },
     "metadata": {},
     "output_type": "display_data"
    }
   ],
   "source": [
    "plt.fill_between(np.arange(0.333,1.01,0.01), 1, 0, color = 'g', alpha = 0.5)\n",
    "plt.fill_between(np.arange(0,1.01,0.01), 1, 0.6666, color = 'b', alpha = 0.5)\n",
    "plt.xlim([0,1])"
   ]
  },
  {
   "cell_type": "markdown",
   "metadata": {},
   "source": [
    "### The vertical strip (including the dark blue rectange) represents the combinations of $x$ and $y$ that satisfy $x>\\frac{1}{3}$\n",
    "\n",
    "### The horizontal strip (including the dark blue rectange) represents the combinations of $x$ and $y$ that satisfy $y>\\frac{2}{3}$\n",
    "\n",
    "### The intersection of the two rectangles represents the combinations of $x$ and $y$ that satisfy both conditions"
   ]
  },
  {
   "cell_type": "markdown",
   "metadata": {},
   "source": [
    "# $P(x>\\frac{1}{3}) = \\text{Area of vertical strip} = \\frac{2}{3}$\n",
    "\n",
    "# $P(y>\\frac{2}{3}) = \\text{Area of horizontal strip} = \\frac{1}{3}$\n",
    "\n",
    "### $P((x>\\frac{1}{3})|(y>\\frac{2}{3})) = \\frac{\\text{Dark Blue Area}}{\\text{Horizontal Strip}} = \\frac{\\frac{2}{9}}{\\frac{1}{3}} = \\frac{2}{3} = P(x>\\frac{1}{3}) \\implies$ independent"
   ]
  }
 ],
 "metadata": {
  "kernelspec": {
   "display_name": "Python 2",
   "language": "python",
   "name": "python2"
  },
  "language_info": {
   "codemirror_mode": {
    "name": "ipython",
    "version": 2
   },
   "file_extension": ".py",
   "mimetype": "text/x-python",
   "name": "python",
   "nbconvert_exporter": "python",
   "pygments_lexer": "ipython2",
   "version": "2.7.11"
  }
 },
 "nbformat": 4,
 "nbformat_minor": 0
}
