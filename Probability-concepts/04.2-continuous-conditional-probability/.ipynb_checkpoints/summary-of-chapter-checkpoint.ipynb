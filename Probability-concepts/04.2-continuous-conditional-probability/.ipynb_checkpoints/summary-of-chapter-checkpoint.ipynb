{
 "cells": [
  {
   "cell_type": "markdown",
   "metadata": {},
   "source": [
    "# If $X$ is a continuous random variable with density function $f(x)$, and $E$ is an event with a positive probability, then we define a *conditional density function* by the formula:\n",
    "\n",
    "$f(x|E) = \\left\\{\\begin{matrix}\n",
    "\\frac{f(x)}{P(E)} & ,\\text{if } x \\text{ in } E \\\\ \n",
    "0 & othewise\n",
    "\\end{matrix}\\right.$"
   ]
  },
  {
   "cell_type": "markdown",
   "metadata": {},
   "source": [
    "# From this, we define for any event $F$:\n",
    "\n",
    "# $P(F|E) = \\int_{F}f(x|E)dx$\n",
    "\n",
    "## This is the *conditional probability of event F given E*"
   ]
  }
 ],
 "metadata": {
  "kernelspec": {
   "display_name": "Python 2",
   "language": "python",
   "name": "python2"
  },
  "language_info": {
   "codemirror_mode": {
    "name": "ipython",
    "version": 2
   },
   "file_extension": ".py",
   "mimetype": "text/x-python",
   "name": "python",
   "nbconvert_exporter": "python",
   "pygments_lexer": "ipython2",
   "version": "2.7.11"
  }
 },
 "nbformat": 4,
 "nbformat_minor": 0
}
