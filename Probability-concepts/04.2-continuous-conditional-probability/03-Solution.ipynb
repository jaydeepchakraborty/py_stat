{
 "cells": [
  {
   "cell_type": "markdown",
   "metadata": {},
   "source": [
    "# The Acme Super light bulb is know to have a useful life described by the density function\n",
    "\n",
    "# $f(t) = 0.01e^{-0.01t}$\n",
    "\n",
    "# where $t$ is the time in hours\n",
    "\n",
    "## a) Find the failure rate of this bulb\n",
    "\n",
    "## b) Find the reliability of this bulb after 20 hours\n",
    "\n",
    "## c) Given that it lasts 20 hours, find the probability that the bulb lasts another 20 hours\n",
    "\n",
    "## d) Find the probability that the bulb burns out in the forty-first hour, given that it lasts 40 hours\n"
   ]
  },
  {
   "cell_type": "markdown",
   "metadata": {},
   "source": [
    "___\n",
    "\n",
    "# a)\n",
    "\n",
    "# From [2.2 Q 6](../2.2-continuous-probability-densities/06-Solution.ipynb) we know:\n",
    "\n",
    "### $f(t) = \\lambda e^{-\\lambda t}$\n",
    "\n",
    "### *In this context, $\\lambda$ is often called the failure rate of the bulb*\n",
    "\n",
    "# So for this question, the failure rate is 0.01, or 1%"
   ]
  },
  {
   "cell_type": "markdown",
   "metadata": {},
   "source": [
    "___\n",
    "# b)\n",
    "\n",
    "# From 2.2 Q6 we also know that the *reliability of the bulb* is the probability that it doesn't burn out in the specified time\n",
    "\n",
    "# So, we want to know the reliability *after 20 hours* for a given $T$:\n",
    "\n",
    "$\\text{Reliability}(T) = \\frac{e^{-}{e^-0.01(20)}"
   ]
  }
 ],
 "metadata": {
  "kernelspec": {
   "display_name": "Python 2",
   "language": "python",
   "name": "python2"
  },
  "language_info": {
   "codemirror_mode": {
    "name": "ipython",
    "version": 2
   },
   "file_extension": ".py",
   "mimetype": "text/x-python",
   "name": "python",
   "nbconvert_exporter": "python",
   "pygments_lexer": "ipython2",
   "version": "2.7.11"
  }
 },
 "nbformat": 4,
 "nbformat_minor": 0
}
