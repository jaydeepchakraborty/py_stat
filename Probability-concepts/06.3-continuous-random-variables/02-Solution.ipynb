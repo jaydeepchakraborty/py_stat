{
 "cells": [
  {
   "cell_type": "markdown",
   "metadata": {},
   "source": [
    "# Let $X$ be a random variable with range $[-1,1]$\n",
    "\n",
    "# Find $\\mu$ and $\\sigma^{2}$ if:\n",
    "\n",
    "## a) $f_{X} = \\frac{3}{4}(1-x^{2})$\n",
    "\n",
    "## b) $f_{X} = \\frac{\\pi}{4}cos(\\frac{\\pi x}{2})$\n",
    "\n",
    "## c) $f_{X} = \\frac{x+1}{2}$\n",
    "\n",
    "## d) $f_{X} = \\frac{3}{8}(x+1)^{2}$"
   ]
  },
  {
   "cell_type": "markdown",
   "metadata": {},
   "source": [
    "_____\n",
    "\n",
    "# a)\n",
    "\n",
    "# $\\mu = \\int^{1}_{-1}x\\cdot \\frac{3}{4}(1-x^{2})dx = \\int^{1}_{-1}\\frac{3x}{4}dx - \\int^{1}_{-1}\\frac{3x^{3}}{4}dx = (\\frac{3x^{2}}{2} - 3x^{4})|^{1}_{-1} = 0$\n",
    "\n",
    "# $\\sigma^{2} = \\int^{1}_{-1}x^{2}\\cdot \\frac{3}{4}(1-x^{2})dx = (\\frac{x^{3}}{4} - \\frac{3x^{5}}{20})|^{1}_{-1} = \\frac{1}{5}$"
   ]
  },
  {
   "cell_type": "markdown",
   "metadata": {},
   "source": [
    "____\n",
    "\n",
    "# b)\n",
    "\n",
    "# $\\mu = \\int^{1}_{-1}x\\cdot\\frac{\\pi}{4}cos(\\frac{\\pi x}{2})dx = \\left ( \\frac{x\\cdot sin(\\frac{\\pi x}{2})}{4} + \\frac{cos(\\frac{\\pi x}{2})}{\\pi} \\right )|^{1}_{-1} = 0$\n",
    "\n",
    "# $\\sigma^{2} = \\int^{1}_{-1}x^{2}\\cdot\\frac{\\pi}{4}cos(\\frac{\\pi x}{2})dx = ... = \\frac{\\pi^{2}-8}{\\pi^{2}}$"
   ]
  },
  {
   "cell_type": "markdown",
   "metadata": {},
   "source": [
    "______\n",
    "\n",
    "# c)\n",
    "\n",
    "# $\\mu = \\int^{1}_{-1}x\\cdot\\frac{x+1}{2} = \\frac{1}{2} \\left ( \\frac{x^{3}}{3} + \\frac{x^{2}}{2}\\right )|^{1}_{-1} = \\frac{1}{3}$\n",
    "\n",
    "# $\\sigma^{2} = \\int^{1}_{-1}x^{2}\\cdot\\frac{x+1}{2} = \\frac{1}{2} \\left ( \\frac{x^{4}}{4} + \\frac{x^{3}}{3}\\right )|^{1}_{-1} = \\frac{1}{3}$"
   ]
  },
  {
   "cell_type": "markdown",
   "metadata": {},
   "source": [
    "___\n",
    "\n",
    "# d)\n",
    "\n",
    "# $\\mu = \\int^{1}_{-1}x\\cdot\\frac{3}{8}(x+1)^{2}dx = \\frac{3}{8}\\int^{1}_{-1}(x^{3} + 2x^{2} + x)dx = \\frac{1}{2}$\n",
    "\n",
    "# $\\sigma^{2} = \\int^{1}_{-1}x^{2}\\cdot\\frac{3}{8}(x+1)^{2}dx = \\frac{3}{8}\\int^{1}_{-1}(x^{4} + 2x^{3} + x^{2})dx = \\frac{2}{5}$"
   ]
  }
 ],
 "metadata": {
  "kernelspec": {
   "display_name": "Python 2",
   "language": "python",
   "name": "python2"
  },
  "language_info": {
   "codemirror_mode": {
    "name": "ipython",
    "version": 2
   },
   "file_extension": ".py",
   "mimetype": "text/x-python",
   "name": "python",
   "nbconvert_exporter": "python",
   "pygments_lexer": "ipython2",
   "version": "2.7.11"
  }
 },
 "nbformat": 4,
 "nbformat_minor": 0
}
