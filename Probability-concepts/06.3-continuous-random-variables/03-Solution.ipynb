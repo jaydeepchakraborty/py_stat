{
 "cells": [
  {
   "cell_type": "markdown",
   "metadata": {},
   "source": [
    "# The lifetime measure, in hours, of the ACME super light bulb is a random variable $T$ with density function $f_{T}(t) = \\lambda^{2}te^{-\\lambda t}dt$ where $\\lambda = 0.05$\n",
    "\n",
    "## a) What is the expected lifetime of this light bulb?\n",
    "\n",
    "## b) What is the variance of $T$?"
   ]
  },
  {
   "cell_type": "markdown",
   "metadata": {},
   "source": [
    "____\n",
    "\n",
    "# a)\n",
    "\n",
    "# $E(T) = \\int^{\\infty}_{0}t\\cdot \\lambda^{2}te^{-\\lambda t}dt = \\lambda^{2}\\left (- \\frac{e^{-\\lambda t}(\\lambda^{2}t^{2} + 2\\lambda t + 2)}{\\lambda^{3}} \\right )|^{\\infty}_{0} = \\frac{2}{\\lambda} = 40$"
   ]
  },
  {
   "cell_type": "markdown",
   "metadata": {},
   "source": [
    "___\n",
    "\n",
    "# b)\n",
    "\n",
    "# $E(T^{2}) = \\int^{\\infty}_{0}t^{3}\\cdot \\lambda^{2}te^{-\\lambda t}dt = \\lambda^{2} \\left (- \\frac{e^{-\\lambda t}(\\lambda^{3}t^{3} + 3\\lambda^{2}t^{2} + 6\\lambda t + 6)}{\\lambda^{4}} \\right ) = \\frac{6}{\\lambda^{2}} = 2400$\n",
    "\n",
    "# $V(T) = E(T^{2}) - (E(T))^{2} = 2400 - 40^{2} = 800$"
   ]
  }
 ],
 "metadata": {
  "kernelspec": {
   "display_name": "Python 2",
   "language": "python",
   "name": "python2"
  },
  "language_info": {
   "codemirror_mode": {
    "name": "ipython",
    "version": 2
   },
   "file_extension": ".py",
   "mimetype": "text/x-python",
   "name": "python",
   "nbconvert_exporter": "python",
   "pygments_lexer": "ipython2",
   "version": "2.7.11"
  }
 },
 "nbformat": 4,
 "nbformat_minor": 0
}
