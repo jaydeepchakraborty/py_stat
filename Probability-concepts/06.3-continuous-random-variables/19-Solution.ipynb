{
 "cells": [
  {
   "cell_type": "markdown",
   "metadata": {},
   "source": [
    "# Let $X$ and $Y$ be independent random variables with uniform densities on $[0,1]$\n",
    "\n",
    "# Let $Z=X+Y$ and $W=X-Y$\n",
    "\n",
    "# Find:\n",
    "\n",
    "## a) $\\rho(X,Y)$\n",
    "\n",
    "## b) $\\rho(X,Z)$\n",
    "\n",
    "## c) $\\rho(Y, W)$\n",
    "\n",
    "## d) $\\rho(Z,W)$"
   ]
  },
  {
   "cell_type": "markdown",
   "metadata": {},
   "source": [
    "____\n",
    "\n",
    "# a)\n",
    "\n",
    "# $\\rho(X,Y) = \\frac{Cov(X,Y)}{\\sigma_{X}\\sigma_{Y}}$\n",
    "\n",
    "# $Cov(X,Y) = E(XY) - E(X)E(Y)$\n",
    "\n",
    "# But we know $X$ and $Y$ are independent \n",
    "\n",
    "# $\\implies E(XY) = E(X)E(Y) \\implies Cov(X,Y) = 0 \\implies \\rho(X,Y) = 0$"
   ]
  },
  {
   "cell_type": "markdown",
   "metadata": {},
   "source": [
    "____\n",
    "\n",
    "# b)\n",
    "\n",
    "## $\\rho(X,Z) = \\frac{Cov(X,Z)}{\\sigma_{X}\\sigma_{Z}}$\n",
    "\n",
    "## $Cov(X,Z) = E(XZ) - E(X)E(Z) = E(X(X+Y)) - E(X)E(X+Y)$\n",
    "\n",
    "## $ = E(X^{2} + XY) - (E(X))^{2} - E(X)E(Y) = E(X^{2}) + E(XY) - (E(X))^{2} - E(X)E(Y)$\n",
    "\n",
    "## $ = \\left [ E(X^{2}) - (E(X))^{2} \\right ] + E(X)E(Y) - E(X)E(Y)$\n",
    "\n",
    "## $ = V(X) = \\sigma^{2}_{X}$\n",
    "\n",
    "## $\\sigma_{Z}^{2} = E(Z^{2}) - (E(Z))^{2} = E(X^{2})+2E(X)E(Y)+E(Y^{2}) - (E(X)+E(Y))^{2}$\n",
    "\n",
    "## $ = \\frac{7}{6} - 1 = \\frac{1}{6} \\implies \\frac{1}{\\sqrt{6}}$\n",
    "\n",
    "## $\\implies \\rho(X,Z) = \\frac{\\sigma^{2}_{X}}{\\sigma_{X}\\sigma_{Z}} = \\frac{\\sigma_{X}}{\\sigma_{Z}} = \\sqrt{\\frac{6}{12}} = \\frac{1}{\\sqrt{2}}$"
   ]
  },
  {
   "cell_type": "markdown",
   "metadata": {},
   "source": [
    "_____\n",
    "\n",
    "# c)\n",
    "\n",
    "## $\\rho(Y,W) = \\frac{Cov(Y,W)}{\\sigma_{Y}\\sigma_{W}}$\n",
    "\n",
    "## $Cov(Y,W) = E(YW) - E(Y)E(W) = E(Y(X-Y)) - E(Y)E(X-Y)$\n",
    "\n",
    "## $= E(XY) - E(Y^{2}) - E(X)E(Y) + (E(Y))^{2} = E(X)E(Y) - E(X)E(Y) - \\left [ E(Y^{2}) - (E(Y))^{2} \\right ]$\n",
    "\n",
    "## $ = -V(Y) = -\\sigma^{2}_{Y}$\n",
    "\n",
    "## $\\implies \\rho(Y,W) = \\frac{-\\sigma_{Y}}{\\sigma_{W}}$\n",
    "\n",
    "## $\\sigma^{2}_{Y} = \\frac{1}{12}$\n",
    "\n",
    "## $\\sigma^{2}_{W} = E(W^{2}) - (E(W))^{2} = E((X-Y)^{2}) - (E(X-Y))^{2}$\n",
    "\n",
    "## $= E(X^{2}) - 2E(XY) + E(Y^{2}) - (E(X) - E(Y))^{2}$\n",
    "\n",
    "## $= E(X^{2}) - 2E(X)E(Y) + E(Y^{2}) - (E(X) - E(Y))^{2}$\n",
    "\n",
    "## Since $X$ and $Y$ are both uniformly distributed on $[0,1]$, $E(X) = E(Y)$ and $E(X^{2}) = E(Y^{2})$\n",
    "\n",
    "## $\\implies (E(X) - E(Y))^{2} = 0$\n",
    "\n",
    "## $\\implies \\sigma^{2}_{W} = 2E(X^{2}) - 2E(X)^{2} = 2\\frac{1}{3} - 2\\frac{1}{2}\\frac{1}{2} = \\frac{2}{3} - \\frac{1}{2} = \\frac{1}{6}$\n",
    "\n",
    "## Therefore $\\rho(Y,W) = \\sqrt{-\\frac{1}{12}\\frac{6}{1}} = \\frac{-1}{\\sqrt{2}}$"
   ]
  },
  {
   "cell_type": "markdown",
   "metadata": {},
   "source": [
    "____\n",
    "\n",
    "# d)\n",
    "\n",
    "## $\\rho(W,Z) = \\frac{Cov(W,Z)}{\\sigma_{W}\\sigma_{Z}}$\n",
    "\n",
    "## $Cov(W,Z) = E(WZ) - E(W)E(Z) = E((X-Y)(X+Y)) - (E(X-Y))(E(X+Y))$\n",
    "\n",
    "## $ = E(X^{2} - Y^{2}) - (E(X) - E(Y))(E(X)+E(Y))$\n",
    "\n",
    "## Recall: $E(X^{2}) = E(X^{2})$ and $E(X) = E(Y)$\n",
    "\n",
    "# $\\implies Cov(W,Z) = 0 - 0 = 0 \\implies \\rho(W,Z) = 0$"
   ]
  }
 ],
 "metadata": {
  "kernelspec": {
   "display_name": "Python 3",
   "language": "python",
   "name": "python3"
  },
  "language_info": {
   "codemirror_mode": {
    "name": "ipython",
    "version": 3
   },
   "file_extension": ".py",
   "mimetype": "text/x-python",
   "name": "python",
   "nbconvert_exporter": "python",
   "pygments_lexer": "ipython3",
   "version": "3.6.4"
  }
 },
 "nbformat": 4,
 "nbformat_minor": 2
}
