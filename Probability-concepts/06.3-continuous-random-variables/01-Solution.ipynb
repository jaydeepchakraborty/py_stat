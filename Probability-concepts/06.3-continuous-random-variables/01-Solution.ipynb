{
 "cells": [
  {
   "cell_type": "markdown",
   "metadata": {},
   "source": [
    "# Let $X$ be a random variable with range $[-1, 1]$ and let $f_{X}(x)$ be the density function of $X$\n",
    "\n",
    "# Find $\\mu$ and $\\sigma^{2}$ if:\n",
    "\n",
    "## a) $f_{X}(x) = \\frac{1}{2}$\n",
    "\n",
    "## b) $f_{X}(x) = |x|$\n",
    "\n",
    "## c) $f_{X}(x) = 1 - |x|$\n",
    "\n",
    "## d) $f_{X}(x) = \\frac{3}{2}x^{2}$"
   ]
  },
  {
   "cell_type": "markdown",
   "metadata": {},
   "source": [
    "____\n",
    "\n",
    "# a)\n",
    "\n",
    "## $\\mu = \\int^{1}_{-1}\\frac{1}{2}xdx = x^{2}|^{1}_{-1} = (1)^{2} - (-1)^{2} = 0$\n",
    "\n",
    "## $\\sigma^{2} = \\int^{1}_{-1}\\frac{1}{2}(x-0)^{2}dx = \\frac{1}{2}\\frac{1}{3}(1^{3} - (-1)^{3}) = \\frac{2}{6} = \\frac{1}{3}$"
   ]
  },
  {
   "cell_type": "markdown",
   "metadata": {},
   "source": [
    "___\n",
    "\n",
    "# b)\n",
    "\n",
    "# $\\mu = \\int^{1}_{-1}|x|xdx = -\\int^{0}_{-1}x^{2}dx + \\int^{1}_{0}x^{2}dx = 0$\n",
    "\n",
    "# $\\sigma^{2} = \\int^{1}_{-1}|x|(x-0)^{2}dx = 2\\int^{1}_{0}x^{3}dx = \\frac{2}{4}(1^{3}-(0)^{3}) = \\frac{1}{2}$"
   ]
  },
  {
   "cell_type": "markdown",
   "metadata": {},
   "source": [
    "___\n",
    "\n",
    "# c)\n",
    "\n",
    "# $\\mu = \\int^{1}_{-1}(1-|x|)xdx = \\int^{1}_{-1}xdx - \\int^{1}_{-1}|x|xdx = 0 - 0 = 0$\n",
    "\n",
    "# $\\sigma^{2} = \\int^{1}_{-1}(1-|x|)(x-0)^{2}dx = \\int^{1}_{-1}x^{2}dx - \\int^{1}_{-1}|x|x^{2}dx = \\frac{2}{3} - \\frac{1}{2} = \\frac{1}{6}$"
   ]
  },
  {
   "cell_type": "markdown",
   "metadata": {},
   "source": [
    "____\n",
    "\n",
    "# d)\n",
    "\n",
    "# $\\mu = \\int^{1}_{-1}\\frac{3}{2}x^{2}xdx = \\frac{3}{2}\\int^{1}_{-1}x^{3}dx = \\frac{3}{2}\\frac{1}{4}x^{4}|^{1}_{-1} = \\frac{3}{8}(1^{4}-(-1)^{4}) = 0$\n",
    "\n",
    "# $\\sigma^{2} = \\int^{1}_{-1}\\frac{3}{2}x^{2}x^{2}dx = \\frac{3}{2}\\frac{1}{5}(2) = \\frac{3}{5}$"
   ]
  }
 ],
 "metadata": {
  "kernelspec": {
   "display_name": "Python 2",
   "language": "python",
   "name": "python2"
  },
  "language_info": {
   "codemirror_mode": {
    "name": "ipython",
    "version": 2
   },
   "file_extension": ".py",
   "mimetype": "text/x-python",
   "name": "python",
   "nbconvert_exporter": "python",
   "pygments_lexer": "ipython2",
   "version": "2.7.11"
  }
 },
 "nbformat": 4,
 "nbformat_minor": 0
}
