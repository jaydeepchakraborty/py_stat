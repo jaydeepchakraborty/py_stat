{
 "cells": [
  {
   "cell_type": "markdown",
   "metadata": {},
   "source": [
    "# The Pilsdorff Beer Company runs a fleet of trucks along the 100 mile road from Hangtown to Dry Gulch\n",
    "\n",
    "# The trucks are old and are apt to break down at any point along the road with equal probability\n",
    "\n",
    "## a) Where should the company locate a garage so as to minimize the expected distance from a typical breakdown to the garage? In other words, if $X$ is a random variable giving the location of a breakdown, measured, say, from Hangtown, and $b$ gives the location of the garage, what choice of $b$ minimizes $E(|X-b|)$?\n",
    "\n",
    "# Now, suppose $X$ is not distributed uniformly over $[0,100]$ but instead has density function $f_{X}(x) = \\frac{2x}{10,000}$\n",
    "\n",
    "## b) Using the new density, what choice of $b$ minimizes $E(|X-b|)$?"
   ]
  },
  {
   "cell_type": "markdown",
   "metadata": {},
   "source": [
    "______\n",
    "\n",
    "# a)\n",
    "\n",
    "# $E(|X-b|) = \\int_{0}^{b}(x-b)dx + \\int_{b}^{100}(b-x)dx $\n",
    "\n",
    "# $= \\frac{b^{2}}{2} - b^{2} + 100b - \\frac{100^{2}}{2} - b^{2} + \\frac{b^{2}}{2} = 100b - \\frac{100^{2}}{1} - b^{2}$\n",
    "\n",
    "## To maximize this, we take the derivative wrt $b$ and set it to 0\n",
    "\n",
    "# $\\frac{d}{db}E(|X-b|) = 100 - 2b = 0 \\implies 2b = 100 \\implies b = 50$"
   ]
  },
  {
   "cell_type": "markdown",
   "metadata": {},
   "source": [
    "____\n",
    "\n",
    "# b)\n",
    "\n",
    "# $E(|X-b|) = \\int_{0}^{b}\\frac{2x}{10,000}(b-x)dx + \\int_{b}^{100}\\frac{2x}{10,000}(x-b)dx$\n",
    "\n",
    "# $= \\left (\\frac{b^{3}}{3}\\frac{1}{100^{2}} \\right ) + \\left (\\frac{200}{3} - b + \\frac{b^{3}}{3}\\frac{1}{100^{2}} \\right ) = \\frac{2b^{3}}{3(100^{2})} - b + \\frac{200}{3}$\n",
    "\n",
    "## Now we take the derivative\n",
    "\n",
    "# $\\frac{d}{db}E(|X-b|) = \\frac{2b^{2}}{100^{2}} - 1 \\implies b^{2} = \\frac{100^{2}}{2} \\implies b = \\frac{100}{\\sqrt{2}} \\approx 70$"
   ]
  }
 ],
 "metadata": {
  "kernelspec": {
   "display_name": "Python 3",
   "language": "python",
   "name": "python3"
  },
  "language_info": {
   "codemirror_mode": {
    "name": "ipython",
    "version": 3
   },
   "file_extension": ".py",
   "mimetype": "text/x-python",
   "name": "python",
   "nbconvert_exporter": "python",
   "pygments_lexer": "ipython3",
   "version": "3.6.4"
  }
 },
 "nbformat": 4,
 "nbformat_minor": 2
}
