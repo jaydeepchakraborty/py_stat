{
 "cells": [
  {
   "cell_type": "markdown",
   "metadata": {},
   "source": [
    "# Let $X$, $Y$ and $Z$ be independent random variables each with mean $\\mu$ and variance $\\sigma^{2}$\n",
    "\n",
    "## a) Find $E(S)$ and $V(S)$ where $S=X+Y+Z$\n",
    "\n",
    "## b) Find $E(A)$ and $V(A)$ where $A=\\frac{1}{3}(X+Y+Z)$\n",
    "\n",
    "## c) Find $E(S^{2})$ and $E(A^{2})$"
   ]
  },
  {
   "cell_type": "markdown",
   "metadata": {},
   "source": [
    "____\n",
    "\n",
    "# a)\n",
    "\n",
    "# $E(S) = E(X+Y+Z) = E(X) + E(Y) + E(Z) = 3\\mu$\n",
    "\n",
    "# $V(S) = V(X+Y+Z) = V(X) + V(Y) + V(Z) = 3\\sigma^{2}$"
   ]
  },
  {
   "cell_type": "markdown",
   "metadata": {},
   "source": [
    "____\n",
    "\n",
    "# b)\n",
    "\n",
    "# $E(A) = E(\\frac{1}{3}(X+Y+Z)) = \\frac{1}{3}E(S) = \\mu$\n",
    "\n",
    "# $V(A) = \\frac{1}{3^{2}}V(S) = \\frac{\\sigma^{2}}{3}$"
   ]
  },
  {
   "cell_type": "markdown",
   "metadata": {},
   "source": [
    "____\n",
    "\n",
    "# c)\n",
    "\n",
    "# $E(S^{2}) = V(S) + (E(S))^{2} = 3\\sigma^{2} + (3\\mu)^{2} = 3\\sigma^{2} + 9\\mu^{2}$\n",
    "\n",
    "# $E(A^{2}) = V(A) + E(A) = \\frac{\\sigma^{2}}{3} + \\mu^{2}$"
   ]
  }
 ],
 "metadata": {
  "kernelspec": {
   "display_name": "Python 2",
   "language": "python",
   "name": "python2"
  },
  "language_info": {
   "codemirror_mode": {
    "name": "ipython",
    "version": 2
   },
   "file_extension": ".py",
   "mimetype": "text/x-python",
   "name": "python",
   "nbconvert_exporter": "python",
   "pygments_lexer": "ipython2",
   "version": "2.7.11"
  }
 },
 "nbformat": 4,
 "nbformat_minor": 0
}
