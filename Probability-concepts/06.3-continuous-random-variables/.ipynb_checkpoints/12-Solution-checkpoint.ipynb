{
 "cells": [
  {
   "cell_type": "markdown",
   "metadata": {},
   "source": [
    "# Find $E(X^{Y})$ where $X$ and $Y$ are independent random variables which are uniform on $[0,1]$\n",
    "\n",
    "# Then verify your answer by simulation"
   ]
  },
  {
   "cell_type": "markdown",
   "metadata": {},
   "source": [
    "_____\n",
    "\n",
    "# If we fix $Y=y_{0}$ for some $y_{0}$ in $[0,1]$ then \n",
    "\n",
    "# $E(X^{Y}|Y=y_{0}) = \\int_{0}^{1}x^{y_{0}}dx = \\frac{1}{1+y_{0}}x^{1+y_{0}}|^{1}_{0} = \\frac{1}{1+y_{0}}$\n",
    "\n",
    "### This means $E(X^{Y}) = \\int^{1}_{0}\\frac{1}{1+y}dy = ln(x+1)|^{1}_{0} = ln(2) - ln(1) = 0.6931472 - 0 = 0.6931472$"
   ]
  },
  {
   "cell_type": "markdown",
   "metadata": {},
   "source": [
    "______\n",
    "\n",
    "## Simulation"
   ]
  },
  {
   "cell_type": "code",
   "execution_count": 1,
   "metadata": {},
   "outputs": [],
   "source": [
    "import numpy as np"
   ]
  },
  {
   "cell_type": "code",
   "execution_count": 5,
   "metadata": {},
   "outputs": [],
   "source": [
    "def sim(n):\n",
    "    y_array = np.random.random(size = n)\n",
    "    x_array = np.random.random(size = n)\n",
    "    \n",
    "    X_Y = x_array**y_array\n",
    "    \n",
    "    return np.mean(X_Y)"
   ]
  },
  {
   "cell_type": "code",
   "execution_count": 7,
   "metadata": {},
   "outputs": [
    {
     "data": {
      "text/plain": [
       "0.6926829407567291"
      ]
     },
     "execution_count": 7,
     "metadata": {},
     "output_type": "execute_result"
    }
   ],
   "source": [
    "sim(100000)"
   ]
  },
  {
   "cell_type": "markdown",
   "metadata": {},
   "source": [
    "**Pretty frickin close**"
   ]
  }
 ],
 "metadata": {
  "kernelspec": {
   "display_name": "Python 3",
   "language": "python",
   "name": "python3"
  },
  "language_info": {
   "codemirror_mode": {
    "name": "ipython",
    "version": 3
   },
   "file_extension": ".py",
   "mimetype": "text/x-python",
   "name": "python",
   "nbconvert_exporter": "python",
   "pygments_lexer": "ipython3",
   "version": "3.6.4"
  }
 },
 "nbformat": 4,
 "nbformat_minor": 2
}
