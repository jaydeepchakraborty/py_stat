{
 "cells": [
  {
   "cell_type": "markdown",
   "metadata": {},
   "source": [
    "# *Expected Value*\n",
    "\n",
    "# Definition 6.4\n",
    "\n",
    "### Let $x$ be a real-valued random variable with density function $f(x)$\n",
    "\n",
    "### The *expected value* $\\mu = E(X)$ is defined by:\n",
    "\n",
    "# $\\mu = \\int^{+\\infty}_{-\\infty}xf(x)dx$\n",
    "\n",
    "### Note: this requires that $\\int^{+\\infty}_{-\\infty}|x|f(x)dx < \\infty$"
   ]
  },
  {
   "cell_type": "markdown",
   "metadata": {},
   "source": [
    "# Theorem 6.10\n",
    "\n",
    "# $E(X+Y) = E(X) + E(Y)$\n",
    "\n",
    "# $E(cX) = cE(X)$\n",
    "\n",
    "\n",
    "## Example\n",
    "\n",
    "### Let $X$ be uniformly distributed on $[0,1]$\n",
    "\n",
    "### Then $E(X) = \\int^{+\\infty}_{-\\infty}xf(x)dx = \\int^{+\\infty}_{-\\infty}xdx = \\frac{x^{2}}{2}|^{1}_{0} = \\frac{1}{2}$\n",
    "\n",
    "## Example\n",
    "\n",
    "### Let $Z=(x,y)$ denote a point chosen uniformly and randomly from the unit disk\n",
    "\n",
    "### Let $X = \\sqrt{x^{2}+y^{2}}$ be the distance from point $Z$ to the center of the disk\n",
    "\n",
    "### We know that $F(x) = \\frac{\\pi x^{2}}{\\pi 1^{2}} = x^{2} \\implies f(x) = 2x$\n",
    "\n",
    "### Therefore $E(X) = \\int^{1}_{0}x\\cdot 2x dx = \\frac{2}{3}(1^{3} - 0^{3}) = \\frac{2}{3}$"
   ]
  },
  {
   "cell_type": "markdown",
   "metadata": {},
   "source": [
    "____\n",
    "\n",
    "# *Expectation of a Function of a Random Variable*\n",
    "\n",
    "# Theorem 6.11\n",
    "\n",
    "### If $X$ is a real-valued random variable and $\\phi(x)$ is a continuous function from $\\mathbb{R} \\rightarrow \\mathbb{R}$, then\n",
    "\n",
    "# $E(\\phi(X)) = \\int^{+\\infty}_{-\\infty}\\phi(x)f_{X}(x)dx$"
   ]
  },
  {
   "cell_type": "markdown",
   "metadata": {},
   "source": [
    "_____\n",
    "\n",
    "# *Expectation of the Product of Two Random Variables*\n",
    "\n",
    "# Theorem 6.12\n",
    "\n",
    "### Let $X$ and $Y$ be independent real-valued continuous random variable with finite expected values\n",
    "\n",
    "### Then:\n",
    "\n",
    "# $E(XY) = E(X)E(Y)$\n",
    "\n",
    "## Example\n",
    "\n",
    "### Let $Z=(X,Y)$ be a random point in the unit square\n",
    "\n",
    "### Let $A = X^{2}$ and $B=Y^{2}$\n",
    "\n",
    "### Since $X$ and $Y$ are independent, we know that $A$ and $B$ are also independent\n",
    "\n",
    "### We know $F(x) = x \\implies f_{X}(x) = 1$ and we know $\\phi(x) = x^{2} \\implies E(A) = \\int^{1}_{0}x^{2}(1)dx = \\frac{1}{3}$\n",
    "\n",
    "### Similarly $f_{Y}(y) = 1$ and $\\phi(y) = y^{2} \\implies E(B) = \\frac{1}{3}$\n",
    "\n",
    "### Now, applying Theorem 6.12, we get $E(AB) = E(A)E(B) = \\frac{1}{9}$"
   ]
  },
  {
   "cell_type": "markdown",
   "metadata": {},
   "source": [
    "___\n",
    "\n",
    "# *Variance*\n",
    "\n",
    "# Definition 6.5\n",
    "\n",
    "### Let $X$ be a real-valued random variable with density function $f(x)$\n",
    "\n",
    "### The *variance* $\\sigma^{2} = V(X)$  is defined as:\n",
    "\n",
    "# $\\sigma^{2} = E((X-\\mu)^{2})$"
   ]
  },
  {
   "cell_type": "markdown",
   "metadata": {},
   "source": [
    "# Theorem 6.13\n",
    "\n",
    "### If $X$ is a real valued random variable with $E(X) = \\mu$ then:\n",
    "\n",
    "\n",
    "# $\\sigma^{2} = \\int_{-\\infty}^{\\infty}(x-\\mu)^{2}f(x)dx$"
   ]
  },
  {
   "cell_type": "markdown",
   "metadata": {},
   "source": [
    "# Theorem 6.14\n",
    "\n",
    "# $V(cX) = c^{2}V(X)$\n",
    "\n",
    "# $V(X+c) = V(X)$"
   ]
  },
  {
   "cell_type": "markdown",
   "metadata": {},
   "source": [
    "# Theorem 6.15\n",
    "\n",
    "# $V(X) = E(X^{2}) - (E(X))^{2}$"
   ]
  },
  {
   "cell_type": "markdown",
   "metadata": {},
   "source": [
    "# Theorem 6.16\n",
    "\n",
    "# $V(X+Y) = V(X) + V(Y)$\n",
    "\n",
    "\n",
    "## Example\n",
    "\n",
    "### $X$ is uniformly distributed on $[0,1] \\implies E(X) = \\frac{1}{2}$\n",
    "\n",
    "### Then:\n",
    "\n",
    "# $V(X) = \\int_{0}^{1}(x-\\frac{1}{2})^{2}dx = \\frac{1}{3}(x-\\frac{1}{2})^{3}|^{1}_{0} = \\frac{1}{3}\\frac{1}{8} - \\frac{1}{3}\\frac{-1}{8} = \\frac{1}{12}$"
   ]
  }
 ],
 "metadata": {
  "kernelspec": {
   "display_name": "Python 2",
   "language": "python",
   "name": "python2"
  },
  "language_info": {
   "codemirror_mode": {
    "name": "ipython",
    "version": 2
   },
   "file_extension": ".py",
   "mimetype": "text/x-python",
   "name": "python",
   "nbconvert_exporter": "python",
   "pygments_lexer": "ipython2",
   "version": "2.7.11"
  }
 },
 "nbformat": 4,
 "nbformat_minor": 0
}
