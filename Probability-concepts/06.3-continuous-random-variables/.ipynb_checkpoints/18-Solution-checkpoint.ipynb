{
 "cells": [
  {
   "cell_type": "markdown",
   "metadata": {},
   "source": [
    "# Let $X$ and $Y$ be random variables with positive variance\n",
    "\n",
    "# The *correlation* of $X$ and $Y$ is defined as:\n",
    "\n",
    "# $\\rho(X,Y) = \\frac{Cov(X,Y)}{\\sigma_{X}\\sigma_{Y}} = \\frac{Cov(X,Y)}{\\sqrt{V(X)V(Y)}}$\n",
    "\n",
    "## a) Using [Exercise 17c](17-Solution.ipynb#c), show that:\n",
    "\n",
    "\n",
    "# $0 \\leq V(\\frac{X}{\\sigma_{X}} + \\frac{Y}{\\sigma_{Y}}) = 2(1+\\rho(X,Y))$\n",
    "\n",
    "## b) Now show that:\n",
    "\n",
    "# $0 \\leq V(\\frac{X}{\\sigma_{X}} - \\frac{Y}{\\sigma_{Y}}) = 2(1-\\rho(X,Y))$\n",
    "\n",
    "## c) Combining a) and b), show that $-1\\leq\\rho(X,Y)\\leq1$"
   ]
  },
  {
   "cell_type": "markdown",
   "metadata": {},
   "source": [
    "____\n",
    "\n",
    "# a)\n",
    "\n",
    "# From 17c we know:\n",
    "\n",
    "### $V(X+Y) = V(X) + V(Y) + 2Cov(X,Y) \\implies  V(\\frac{X}{\\sigma_{X}} + \\frac{Y}{\\sigma_{Y}}) =  V(\\frac{X}{\\sigma_{X}}) + V(\\frac{Y}{\\sigma_{Y}}) + 2Cov(\\frac{X}{\\sigma_{X}},\\frac{Y}{\\sigma_{Y}})$\n",
    "\n",
    "## First of all, we know $V(\\frac{X}{\\sigma_{X}}) = \\frac{1}{\\sigma_{X}^{2}}V(X) = 1$ and $V(\\frac{Y}{\\sigma_{Y}}) = \\frac{1}{\\sigma_{Y}^{2}}V(Y) = 1$\n",
    "\n",
    "## Next, we know $Cov(\\frac{X}{\\sigma_{X}},\\frac{Y}{\\sigma_{Y}}) = E(\\frac{X}{\\sigma_{X}}\\frac{Y}{\\sigma_{Y}}) - E(\\frac{X}{\\sigma_{X}})E(\\frac{Y}{\\sigma_{Y}})$\n",
    "\n",
    "## $ = \\frac{1}{\\sigma_{X}\\sigma_{Y}}E(XY) - \\frac{1}{\\sigma_{X}\\sigma_{Y}}E(X)E(Y) = \\frac{1}{\\sigma_{X}\\sigma_{Y}}Cov(X,Y) = \\rho(X,Y)$\n",
    "\n",
    "## $\\implies V(\\frac{X}{\\sigma_{X}} + \\frac{Y}{\\sigma_{Y}}) = 1+1 + 2\\rho(X,Y) = 2(1+\\rho(X,Y))$"
   ]
  },
  {
   "cell_type": "markdown",
   "metadata": {},
   "source": [
    "___\n",
    "\n",
    "# b)\n",
    "\n",
    "# $V(\\frac{X}{\\sigma_{X}} - \\frac{Y}{\\sigma_{Y}}) = V(\\frac{X}{\\sigma_{X}} + (-1)\\frac{Y}{\\sigma_{Y}})$\n",
    "\n",
    "# $=V(\\frac{X}{\\sigma_{X}}) + V((-1)\\frac{Y}{\\sigma_{Y}}) + 2Cov(\\frac{X}{\\sigma_{X}},(-1)\\frac{Y}{\\sigma_{Y}})$\n",
    "\n",
    "## $=V(\\frac{X}{\\sigma_{X}}) + (-1)^{2}V(\\frac{Y}{\\sigma_{Y}}) + 2Cov(\\frac{X}{\\sigma_{X}},(-1)\\frac{Y}{\\sigma_{Y}})= V(\\frac{X}{\\sigma_{X}}) + V(\\frac{Y}{\\sigma_{Y}}) + 2Cov(\\frac{X}{\\sigma_{X}},(-1)\\frac{Y}{\\sigma_{Y}})$\n",
    "\n",
    "## Then $Cov(\\frac{X}{\\sigma_{X}},(-1)\\frac{Y}{\\sigma_{Y}}) = E(\\frac{X}{\\sigma_{X}}(-1)\\frac{Y}{\\sigma_{Y}}) - E(\\frac{X}{\\sigma_{X}})E((-1)\\frac{Y}{\\sigma_{Y}})$\n",
    "\n",
    "## $= \\frac{-1}{\\sigma_{X}\\sigma_{Y}}E(XY) -  \\frac{-1}{\\sigma_{X}\\sigma_{Y}}E(X)E(Y) = -\\frac{1}{\\sigma_{X}\\sigma_{Y}}Cov(X,Y) = -\\rho(X,Y)$\n",
    "\n",
    "## We know from part a) that $V(\\frac{X}{\\sigma_{X}}) = 1$ and $V(\\frac{Y}{\\sigma_{Y}})=1$\n",
    "\n",
    "\n",
    "## So, putting it all together: $V(\\frac{X}{\\sigma_{X}}) + V(\\frac{Y}{\\sigma_{Y}}) + 2Cov(\\frac{X}{\\sigma_{X}},(-1)\\frac{Y}{\\sigma_{Y}}) = 1 + 1 + 2(-\\rho(X,Y))$\n",
    "\n",
    "## $ = 2(1-\\rho(X,Y))$"
   ]
  },
  {
   "cell_type": "code",
   "execution_count": null,
   "metadata": {},
   "outputs": [],
   "source": []
  }
 ],
 "metadata": {
  "kernelspec": {
   "display_name": "Python 3",
   "language": "python",
   "name": "python3"
  },
  "language_info": {
   "codemirror_mode": {
    "name": "ipython",
    "version": 3
   },
   "file_extension": ".py",
   "mimetype": "text/x-python",
   "name": "python",
   "nbconvert_exporter": "python",
   "pygments_lexer": "ipython3",
   "version": "3.6.4"
  }
 },
 "nbformat": 4,
 "nbformat_minor": 2
}
