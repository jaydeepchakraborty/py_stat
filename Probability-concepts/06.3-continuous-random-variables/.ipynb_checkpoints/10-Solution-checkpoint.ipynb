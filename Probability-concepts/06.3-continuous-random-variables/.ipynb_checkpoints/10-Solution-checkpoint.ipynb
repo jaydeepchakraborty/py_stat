{
 "cells": [
  {
   "cell_type": "markdown",
   "metadata": {},
   "source": [
    "# Let $X$ and $Y$ be independent random variables with uniform density functions on $[0,1]$\n",
    "\n",
    "# Find\n",
    "\n",
    "## a) $E(|X-Y|)$\n",
    "\n",
    "## b) $E(max(X,Y))$\n",
    "\n",
    "## c) $E(min(X,Y))$\n",
    "\n",
    "## d) $E(X^{2}+Y^{2})$\n",
    "\n",
    "## e) $E((X+Y)^{2})$"
   ]
  },
  {
   "cell_type": "markdown",
   "metadata": {},
   "source": [
    "___\n",
    "\n",
    "# a)\n",
    "\n",
    "## We start thinking about this by fixing $X$ at 0\n",
    "\n",
    "## Then $E(|X-Y|\\text{ given }X=0) = \\int_{0}^{1}(y-0)dy = \\frac{1}{2}$\n",
    "\n",
    "## Now, fix $X$ at $\\frac{1}{4}$\n",
    "\n",
    "## $E(|X-Y|\\text{ given }X=\\frac{1}{4}) = \\int_{0}^{\\frac{1}{4}}(\\frac{1}{4} - y)dy + \\int_{\\frac{1}{4}}^{1}(y-\\frac{1}{4})dy$\n",
    "\n",
    "## $= \\left (\\frac{1}{4}y - \\frac{1}{2}y^{2} \\right )|^{\\frac{1}{4}}_{0} + \\left (\\frac{1}{2}y^{2} - \\frac{1}{4}y \\right )|^{1}_{\\frac{1}{4}} = \\left(\\frac{1}{4}\\cdot\\frac{1}{4}  - \\frac{1}{2}(\\frac{1}{4})^{2} \\right ) + \\left [ (\\frac{1}{2} - \\frac{1}{4}) -  (\\frac{1}{2}(\\frac{1}{4})^{2} - (\\frac{1}{4})^{2}) \\right ]$\n",
    "\n",
    "## $ = \\frac{1}{16} - \\frac{1}{32} + \\frac{1}{4} + \\frac{1}{32} = \\frac{5}{16}$\n",
    "\n",
    "## It doesn't really matter what these integrals are actually equal to, since we see the general way to calculate the expected value when we fix some $X=x_{0}$\n",
    "\n",
    "## $E(|X-Y|\\text{ given }X=x_{0}) = \\int_{0}^{x_{0}}(x_{0} - y)dy + \\int_{x_{0}}^{1}(y-x_{0})dy$\n",
    "\n",
    "## $ = \\left ( x_{0}y - \\frac{y^{2}}{2} \\right )|^{x_{0}}_{0} + \\left ( \\frac{y^{2}}{2} - x_{0}y \\right )|_{x_{0}}^{1} = \\left ( \\frac{x_{0}^{2}}{2} \\right ) + \\left ( \\frac{1}{2} - x_{0} + \\frac{x_{0}^{2}}{2} \\right ) = x_{0}^{2} - x_{0} + \\frac{1}{2}$\n",
    "\n",
    "## Therefore $E(|X-Y|) = \\int^{1}_{0}\\left ( x^{2} - x + \\frac{1}{2}\\right ) dx = \\frac{x^{3}}{3} - \\frac{x^{2}}{2} + \\frac{1}{2} = \\frac{1}{3}$"
   ]
  },
  {
   "cell_type": "markdown",
   "metadata": {},
   "source": [
    "____\n",
    "\n",
    "# b)\n",
    "\n",
    "## We use the same process of fixing $X=x_{0}$ and we get:\n",
    "\n",
    "## $E(max(X,Y)\\text{ given }X=x_{0}) \\int_{0}^{x_{0}}x_{0}dy + \\int_{x_{0}}^{1}ydy = \\frac{x_{0}^{2}}{2} + \\frac{1}{2}$\n",
    "\n",
    "\n",
    "\n",
    "## Therefore $E(max(X,Y)) = \\int^{1}_{0}\\left (\\frac{x^{2}}{2} + \\frac{1}{2} \\right )dx = \\frac{2}{3}$"
   ]
  },
  {
   "cell_type": "markdown",
   "metadata": {},
   "source": [
    "___\n",
    "\n",
    "# c)\n",
    "\n",
    "## We can simply adjust the integral above\n",
    "\n",
    "## $E(min(X,Y)\\text{ given }X=x_{0}) \\int_{0}^{x_{0}}ydy + \\int_{x_{0}}^{1}x_{0}dy = x_{0} - \\frac{x_{0}^{2}}{2}$\n",
    "\n",
    "## $\\implies E(min(X,Y)) = \\int_{0}^{1}\\left ( x - \\frac{x^{2}}{2} \\right )dx = \\frac{1}{3}$"
   ]
  },
  {
   "cell_type": "markdown",
   "metadata": {},
   "source": [
    "____\n",
    "\n",
    "# d)\n",
    "\n",
    "# $E(X^{2} + Y^{2}) = E(X^{2}) + E(Y^{2})$\n",
    "\n",
    "### We define $\\phi(x) = x^{2} \\implies E(X^{2}) = \\int^{1}_{0}\\phi(x)f_{X}(x)dx = \\int_{0}^{1}x^{2}(1)dx = \\frac{1}{3}x^{3}|^{1}_{0} = \\frac{1}{3}$\n",
    "\n",
    "### Similarly $\\phi(y) = y^{2} \\implies E(Y^{2}) = \\frac{1}{3}$\n",
    "\n",
    "## Therefore $E(X^{2} + Y^{2}) = \\frac{1}{3} + \\frac{1}{3} = \\frac{2}{3}$\n",
    "\n",
    "\n",
    "## Alternatively, we know that if we take a random number in the interval $[0,1]$ and square it, the probability that it is less than some value $x_{o}$ is given by $P(X^{2}<x_{0}) = P(X<\\sqrt{x_{0}})$ therefore $f_{X^{2}} = \\frac{d}{dx}\\sqrt{x} = \\frac{1}{2}x^{\\frac{-1}{2}}$\n",
    "\n",
    "## So $E(X^{2}) = \\int^{1}_{0}x\\cdot\\frac{1}{2}x^{-1/2} = \\int^{1}_{0}\\frac{\\sqrt{x}}{2}dx = \\frac{x^{3/2}}{3}|^{1}_{0} = \\frac{1}{3}$"
   ]
  },
  {
   "cell_type": "markdown",
   "metadata": {},
   "source": [
    "____\n",
    "\n",
    "# e)\n",
    "\n",
    "# $E((X+Y)^{2}) = E(X^{2} + 2XY + Y^{2}) = E(X^{2}) + E(2XY) + E(Y^{2})$\n",
    "\n",
    "# $= \\frac{1}{3} + 2\\cdot E(X)\\cdot E(Y) + \\frac{1}{3} = \\frac{2}{3} + 2\\cdot \\frac{1}{2}\\frac{1}{2} = \\frac{7}{6}$"
   ]
  }
 ],
 "metadata": {
  "kernelspec": {
   "display_name": "Python 3",
   "language": "python",
   "name": "python3"
  },
  "language_info": {
   "codemirror_mode": {
    "name": "ipython",
    "version": 3
   },
   "file_extension": ".py",
   "mimetype": "text/x-python",
   "name": "python",
   "nbconvert_exporter": "python",
   "pygments_lexer": "ipython3",
   "version": "3.6.4"
  }
 },
 "nbformat": 4,
 "nbformat_minor": 1
}
