{
 "cells": [
  {
   "cell_type": "markdown",
   "metadata": {},
   "source": [
    "# Let $X$ be a random variable with mean $\\mu$ and variance $\\sigma^{2}$\n",
    "\n",
    "# Let $Y = aX^{2} + bX + c$\n",
    "\n",
    "# Find $E(Y)$"
   ]
  },
  {
   "cell_type": "markdown",
   "metadata": {},
   "source": [
    "____\n",
    "\n",
    "# $E(Y) = E(aX^{2} + bX + c) = E(aX^{2}) + E(bX) + E(c)$\n",
    "\n",
    "# $= aE(X^{2}) + bE(X) + c = a(\\sigma^{2} + \\mu^{2}) + b\\mu + c$"
   ]
  }
 ],
 "metadata": {
  "kernelspec": {
   "display_name": "Python 2",
   "language": "python",
   "name": "python2"
  },
  "language_info": {
   "codemirror_mode": {
    "name": "ipython",
    "version": 2
   },
   "file_extension": ".py",
   "mimetype": "text/x-python",
   "name": "python",
   "nbconvert_exporter": "python",
   "pygments_lexer": "ipython2",
   "version": "2.7.11"
  }
 },
 "nbformat": 4,
 "nbformat_minor": 0
}
