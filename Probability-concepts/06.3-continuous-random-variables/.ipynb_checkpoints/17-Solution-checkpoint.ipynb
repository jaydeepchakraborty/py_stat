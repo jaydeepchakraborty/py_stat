{
 "cells": [
  {
   "cell_type": "markdown",
   "metadata": {},
   "source": [
    "# Let $X$ and $Y$ be random variables\n",
    "\n",
    "# The *covariance* $Cov(X,Y)$ is defined by:\n",
    "\n",
    "# $Cov(X,Y) = E\\left( (X-\\mu_{X})\\cdot (Y-\\mu_{Y}) \\right )$\n",
    "\n",
    "## a) Show that $Cov(X,Y) = E(XY) - E(X)E(Y)$\n",
    "\n",
    "## b) Using a), show that $Cov(X,Y) = 0 \\implies X$ and $Y$ are independent\n",
    "\n",
    "## c) Show that $V(X+Y) = V(X) + V(Y) + 2\\cdot Cov(X,Y)$"
   ]
  },
  {
   "cell_type": "markdown",
   "metadata": {},
   "source": [
    "____\n",
    "\n",
    "# a)\n",
    "\n",
    "## $Cov(X,Y) = E\\left( (X-\\mu_{X})\\cdot (Y-\\mu_{Y}) \\right ) = E(XY - X\\mu_{Y} - \\mu_{X}Y + \\mu_{X}\\mu_{Y})$\n",
    "\n",
    "## $ = E(XY) - E(X\\mu_{Y}) - E(\\mu_{X}Y) + E(\\mu_{X}\\mu_{Y}) = E(XY) - \\mu_{Y}E(X) - \\mu_{X}E(Y) + \\mu_{X}\\mu_{Y}$\n",
    "\n",
    "## $ = E(XY) - E(X)E(Y) - E(X)E(Y) + E(X)E(Y) = E(XY) - E(X)E(Y)$"
   ]
  },
  {
   "cell_type": "markdown",
   "metadata": {},
   "source": [
    "____\n",
    "\n",
    "# b)\n",
    "\n",
    "# $Cov(X,Y) = 0 \\implies E(XY) - E(X)E(Y) = 0 \\implies E(XY) = E(X)E(Y)$\n",
    "\n",
    "# This is the definition of independent variables"
   ]
  },
  {
   "cell_type": "markdown",
   "metadata": {},
   "source": [
    "_____\n",
    "\n",
    "# c)\n",
    "\n",
    "# $V(X+Y) = E((X+Y)^{2}) - (E(X+Y)))^{2}$\n",
    "\n",
    "# $ = E(X^{2} + 2XY + Y^{2}) - (E(X) + E(Y))^{2}$\n",
    "\n",
    "# $ = E(X^{2}) + E(2XY) + E(Y^{2}) - (E(X))^{2} - 2E(X)E(Y) - (E(Y))^{2}$\n",
    "\n",
    "# $ = \\left [ E(X^{2}) - (E(X))^{2}\\right ] + \\left [ E(Y^{2}) - (E(Y))^{2}\\right ] - 2\\left [ E(XY) - E(X)E(Y)\\right ]$\n",
    "\n",
    "# $ = V(X) + V(Y) + 2Cov(X,Y)$"
   ]
  }
 ],
 "metadata": {
  "kernelspec": {
   "display_name": "Python 3",
   "language": "python",
   "name": "python3"
  },
  "language_info": {
   "codemirror_mode": {
    "name": "ipython",
    "version": 3
   },
   "file_extension": ".py",
   "mimetype": "text/x-python",
   "name": "python",
   "nbconvert_exporter": "python",
   "pygments_lexer": "ipython3",
   "version": "3.6.4"
  }
 },
 "nbformat": 4,
 "nbformat_minor": 2
}
