{
 "cells": [
  {
   "cell_type": "markdown",
   "metadata": {},
   "source": [
    "# A 1-dollar bet on craps has an expected winning of -0.0141\n",
    "\n",
    "## a) What does the Law of Large Numbers say about the winnings if you make a large number of 1 dollar bets at the craps table?\n",
    "\n",
    "## b) Does it assure you that the losses will be small?\n",
    "\n",
    "## c) Does it assure you that if $n$ is very large you will lose?"
   ]
  },
  {
   "cell_type": "markdown",
   "metadata": {},
   "source": [
    "______\n",
    "\n",
    "# a)\n",
    "\n",
    "# The Law of Large Numbers says that the average winnings per game for the large number of games will converge to -0.0141"
   ]
  },
  {
   "cell_type": "markdown",
   "metadata": {},
   "source": [
    "___\n",
    "\n",
    "# b)\n",
    "\n",
    "# It does not\n",
    "\n",
    "# The cumulative losses are expected to grow and grow as more an more games are played"
   ]
  },
  {
   "cell_type": "markdown",
   "metadata": {},
   "source": [
    "_____\n",
    "\n",
    "# c)\n",
    "\n",
    "# It does not\n",
    "\n",
    "# It is possible to continue winning indefinitely (it is unlikely though)"
   ]
  }
 ],
 "metadata": {
  "kernelspec": {
   "display_name": "Python 2",
   "language": "python",
   "name": "python2"
  },
  "language_info": {
   "codemirror_mode": {
    "name": "ipython",
    "version": 2
   },
   "file_extension": ".py",
   "mimetype": "text/x-python",
   "name": "python",
   "nbconvert_exporter": "python",
   "pygments_lexer": "ipython2",
   "version": "2.7.11"
  }
 },
 "nbformat": 4,
 "nbformat_minor": 0
}
