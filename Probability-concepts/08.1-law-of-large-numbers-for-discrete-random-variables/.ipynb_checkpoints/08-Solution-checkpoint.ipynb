{
 "cells": [
  {
   "cell_type": "markdown",
   "metadata": {},
   "source": [
    "# A fair coin is tossed a large number of times\n",
    "\n",
    "# Does the Law of Large Numbers assure us that, if $n$ is large enough, with probability > 0.99 the number of heads that will turn up will not deviate from $\\frac{n}{2}$ by more than 100?"
   ]
  },
  {
   "cell_type": "markdown",
   "metadata": {},
   "source": [
    "____\n",
    "\n",
    "# Nope"
   ]
  }
 ],
 "metadata": {
  "kernelspec": {
   "display_name": "Python 2",
   "language": "python",
   "name": "python2"
  },
  "language_info": {
   "codemirror_mode": {
    "name": "ipython",
    "version": 2
   },
   "file_extension": ".py",
   "mimetype": "text/x-python",
   "name": "python",
   "nbconvert_exporter": "python",
   "pygments_lexer": "ipython2",
   "version": "2.7.11"
  }
 },
 "nbformat": 4,
 "nbformat_minor": 0
}
