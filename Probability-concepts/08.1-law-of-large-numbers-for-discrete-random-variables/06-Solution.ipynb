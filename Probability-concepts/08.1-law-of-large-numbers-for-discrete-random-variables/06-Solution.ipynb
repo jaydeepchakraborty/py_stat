{
 "cells": [
  {
   "cell_type": "markdown",
   "metadata": {},
   "source": [
    "# Let $S_{n}$ be the number of successes in $n$ Bernoulli trials with probability $p$\n",
    "\n",
    "# Show, using Chebyshev's Inequality, that for any $\\epsilon > 0$:\n",
    "\n",
    "# $P\\left (\\left | \\frac{S_{n}}{n} - p \\right |\\geq \\epsilon \\right ) \\leq \\frac{p(1-p)}{n\\epsilon^{2}}$"
   ]
  },
  {
   "cell_type": "markdown",
   "metadata": {},
   "source": [
    "______\n",
    "\n",
    "# We know that $E(S_{n}) = np \\implies E(A_{n}) = p$ and $V(S_{n}) = npq \\implies V \\left( \\frac{S_{n}}{n} \\right ) \\frac{1}{n^{2}}npq = \\frac{pq}{n}$\n",
    "\n",
    "# Chebyshev's inequality says: $P(\\left | X - \\mu \\right |\\geq \\epsilon) \\leq \\frac{V(X)}{\\epsilon^{2}}$\n",
    "\n",
    "# Therefore $P\\left (\\left | \\frac{S_{n}}{n} - p \\right |\\geq \\epsilon \\right ) \\leq \\frac{pq}{n\\epsilon^{2}}$"
   ]
  }
 ],
 "metadata": {
  "kernelspec": {
   "display_name": "Python 2",
   "language": "python",
   "name": "python2"
  },
  "language_info": {
   "codemirror_mode": {
    "name": "ipython",
    "version": 2
   },
   "file_extension": ".py",
   "mimetype": "text/x-python",
   "name": "python",
   "nbconvert_exporter": "python",
   "pygments_lexer": "ipython2",
   "version": "2.7.11"
  }
 },
 "nbformat": 4,
 "nbformat_minor": 0
}
