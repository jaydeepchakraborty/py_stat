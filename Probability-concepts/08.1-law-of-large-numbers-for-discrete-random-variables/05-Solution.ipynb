{
 "cells": [
  {
   "cell_type": "markdown",
   "metadata": {},
   "source": [
    "# Let $X$ be a random variable with $E(X)=0$ and $V(X)=1$\n",
    "\n",
    "# What integer value $k$ will assure us that $P(|X|\\geq k)\\leq0.01$?"
   ]
  },
  {
   "cell_type": "markdown",
   "metadata": {},
   "source": [
    "_____\n",
    "\n",
    "# $P(|X|\\geq k) \\leq \\frac{1}{k^{2}} \\implies \\frac{1}{k^{2}} = 0.01 \\implies k = 10$"
   ]
  }
 ],
 "metadata": {
  "kernelspec": {
   "display_name": "Python 2",
   "language": "python",
   "name": "python2"
  },
  "language_info": {
   "codemirror_mode": {
    "name": "ipython",
    "version": 2
   },
   "file_extension": ".py",
   "mimetype": "text/x-python",
   "name": "python",
   "nbconvert_exporter": "python",
   "pygments_lexer": "ipython2",
   "version": "2.7.11"
  }
 },
 "nbformat": 4,
 "nbformat_minor": 0
}
