{
 "cells": [
  {
   "cell_type": "markdown",
   "metadata": {},
   "source": [
    "# We have two coins: one is a fair coin and the other is a coin that produces heads with probability $\\frac{3}{4}$\n",
    "\n",
    "# One of the two coins is picked at random, and this coin is tossed $n$ times\n",
    "\n",
    "# Let $S_{n}$ be the number of head that turn up in these $n$ tosses\n",
    "\n",
    "## a) Does the Law of Large Numbers allow us to predict the proportion of heads that will turn up in the long run?\n",
    "\n",
    "## b) After we have observed a large number of tosses, can we tell which coin was chosen?\n",
    "\n",
    "## c) How many tosses suffice to make us 95% sure?"
   ]
  },
  {
   "cell_type": "markdown",
   "metadata": {},
   "source": [
    "___\n",
    "\n",
    "# a)\n",
    "\n",
    "# No"
   ]
  },
  {
   "cell_type": "markdown",
   "metadata": {},
   "source": [
    "____\n",
    "\n",
    "# b)\n",
    "\n",
    "# Not with 100% certainty, but we'll have a good idea"
   ]
  },
  {
   "cell_type": "markdown",
   "metadata": {},
   "source": [
    "___\n",
    "\n",
    "# c)\n",
    "\n",
    "# We know if $p=0.5$ then $\\mu = n0.5$ and $\\sigma^{2} = n0.25$\n",
    "\n",
    "# Then $P(\\left | S_{n} - 0.5n \\right | \\geq n0.125) \\leq 0.05 \\implies 0.05 = \\frac{n0.25}{n^{2}0.125^2}$\n",
    "\n",
    "# $\\implies n = \\frac{0.25}{0.05\\cdot0.125^{2}} = 320$\n",
    "\n",
    "# After more than 320 trials we're 95% sure"
   ]
  }
 ],
 "metadata": {
  "kernelspec": {
   "display_name": "Python 2",
   "language": "python",
   "name": "python2"
  },
  "language_info": {
   "codemirror_mode": {
    "name": "ipython",
    "version": 2
   },
   "file_extension": ".py",
   "mimetype": "text/x-python",
   "name": "python",
   "nbconvert_exporter": "python",
   "pygments_lexer": "ipython2",
   "version": "2.7.11"
  }
 },
 "nbformat": 4,
 "nbformat_minor": 0
}
