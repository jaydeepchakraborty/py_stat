{
 "cells": [
  {
   "cell_type": "markdown",
   "metadata": {},
   "source": [
    "# Find the maximum possible value for $p(1-p)$ if $0<p<1$\n",
    "\n",
    "# Using this result and [Exercise 6](06-Solution.ipynb), show that the estimate\n",
    "\n",
    "# $P\\left ( \\left | \\frac{S_{n}}{n} - p \\right | \\right ) \\leq \\frac{1}{4n\\epsilon^{2}}$"
   ]
  },
  {
   "cell_type": "markdown",
   "metadata": {},
   "source": [
    "______\n",
    "\n",
    "\n",
    "# $\\frac{d}{dp}p(1-p) = 1 - 2p$\n",
    "\n",
    "# $1-2p = 0 \\implies p = 0.5 \\implies$ the maximum possible value for $p(1-p)$ occurs when $p=0.5$"
   ]
  },
  {
   "cell_type": "markdown",
   "metadata": {},
   "source": [
    "____\n",
    "\n",
    "# From Exercise 6, we know that $P\\left (\\left | \\frac{S_{n}}{n} - p \\right |\\geq \\epsilon \\right ) \\leq \\frac{pq}{n\\epsilon^{2}}$\n",
    "\n",
    "# When $p$ is maximized, $pq = \\frac{1}{4} \\implies P\\left (\\left | \\frac{S_{n}}{n} - p \\right |\\geq \\epsilon \\right ) \\leq \\frac{1}{4n\\epsilon^{2}}$"
   ]
  }
 ],
 "metadata": {
  "kernelspec": {
   "display_name": "Python 2",
   "language": "python",
   "name": "python2"
  },
  "language_info": {
   "codemirror_mode": {
    "name": "ipython",
    "version": 2
   },
   "file_extension": ".py",
   "mimetype": "text/x-python",
   "name": "python",
   "nbconvert_exporter": "python",
   "pygments_lexer": "ipython2",
   "version": "2.7.11"
  }
 },
 "nbformat": 4,
 "nbformat_minor": 0
}
