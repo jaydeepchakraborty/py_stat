{
 "cells": [
  {
   "cell_type": "markdown",
   "metadata": {},
   "source": [
    "# A fair coin is tossed 100 times\n",
    "\n",
    "# The expected number of heads is 50\n",
    "\n",
    "# The variance is 25 $\\implies$ the standard deviation is 5\n",
    "\n",
    "# What does Chebyshev's Inequality tell you about the probability that the number of heads that turn up deviates from the expected value of 50 by three or more standard deviations?"
   ]
  },
  {
   "cell_type": "markdown",
   "metadata": {},
   "source": [
    "___\n",
    "\n",
    "# By the Chebyshev Inequality: $P(|X-\\mu|>k\\sigma) \\leq \\frac{1}{k^{2}}$\n",
    "\n",
    "# Therefore $P(|X-50|> 3(5)) \\leq \\frac{1}{9} = 0.111$\n",
    "\n",
    "# The probability is less than 0.111"
   ]
  }
 ],
 "metadata": {
  "kernelspec": {
   "display_name": "Python 2",
   "language": "python",
   "name": "python2"
  },
  "language_info": {
   "codemirror_mode": {
    "name": "ipython",
    "version": 2
   },
   "file_extension": ".py",
   "mimetype": "text/x-python",
   "name": "python",
   "nbconvert_exporter": "python",
   "pygments_lexer": "ipython2",
   "version": "2.7.11"
  }
 },
 "nbformat": 4,
 "nbformat_minor": 0
}
