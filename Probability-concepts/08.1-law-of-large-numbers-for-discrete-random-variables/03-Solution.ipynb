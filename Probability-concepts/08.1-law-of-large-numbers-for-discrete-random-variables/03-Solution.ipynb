{
 "cells": [
  {
   "cell_type": "markdown",
   "metadata": {},
   "source": [
    "# Write a program to toss a coin 10,000 times\n",
    "\n",
    "# Let $S_{n}$ be the number of heads in the first $n$ tosses\n",
    "\n",
    "# Have your program print out, after every 1000 tosses, $S_{n} - \\frac{n}{2}$\n",
    "\n",
    "# On the basis of this simulation, is it correct to say that you can expect heads about half of the time when you toss a coin a large number of times?"
   ]
  },
  {
   "cell_type": "markdown",
   "metadata": {},
   "source": [
    "_____"
   ]
  },
  {
   "cell_type": "code",
   "execution_count": 1,
   "metadata": {
    "collapsed": true
   },
   "outputs": [],
   "source": [
    "import numpy as np"
   ]
  },
  {
   "cell_type": "code",
   "execution_count": 18,
   "metadata": {
    "collapsed": false
   },
   "outputs": [
    {
     "name": "stdout",
     "output_type": "stream",
     "text": [
      "(9.0, 0.50900000000000001)\n",
      "(29.0, 0.51449999999999996)\n",
      "(28.0, 0.5093333333333333)\n",
      "(47.0, 0.51175000000000004)\n",
      "(66.0, 0.51319999999999999)\n",
      "(46.0, 0.50766666666666671)\n",
      "(41.0, 0.50585714285714289)\n",
      "(56.0, 0.50700000000000001)\n",
      "(64.0, 0.50711111111111107)\n",
      "(97.0, 0.50970000000000004)\n"
     ]
    }
   ],
   "source": [
    "Sn = 0\n",
    "for i in range(1,11):\n",
    "    flips = np.random.randint(0,2,size = 1000)\n",
    "    Sn += np.sum(flips)\n",
    "    n = i*1000\n",
    "    print(Sn-float(n)/2, Sn/float(n))"
   ]
  },
  {
   "cell_type": "markdown",
   "metadata": {},
   "source": [
    "**Yes**"
   ]
  }
 ],
 "metadata": {
  "kernelspec": {
   "display_name": "Python 2",
   "language": "python",
   "name": "python2"
  },
  "language_info": {
   "codemirror_mode": {
    "name": "ipython",
    "version": 2
   },
   "file_extension": ".py",
   "mimetype": "text/x-python",
   "name": "python",
   "nbconvert_exporter": "python",
   "pygments_lexer": "ipython2",
   "version": "2.7.11"
  }
 },
 "nbformat": 4,
 "nbformat_minor": 0
}
