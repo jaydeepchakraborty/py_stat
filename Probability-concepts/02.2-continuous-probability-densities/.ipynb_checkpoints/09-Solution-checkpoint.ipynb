{
 "cells": [
  {
   "cell_type": "markdown",
   "metadata": {},
   "source": [
    "# Suppose we have a sequence of occurrences\n",
    "\n",
    "# We assume that the time $X$ between occurrences is exponentially distributed with $\\lambda = \\frac{1}{10}$, so on average there is one occurrence every 10 minutes\n",
    "\n",
    "# You come upon this system at time 100, and wait until the next occurrence\n",
    "\n",
    "# How long, on average, will you have to wait?\n",
    "\n",
    "# Test your answer with a simulation"
   ]
  },
  {
   "cell_type": "markdown",
   "metadata": {},
   "source": [
    "___\n",
    "### The density is given by $f(x) =\\lambda e^{-\\lambda t} = 0.1 e^{-0.1 t}$\n",
    "\n",
    "### Let's look at the plot"
   ]
  },
  {
   "cell_type": "code",
   "execution_count": 1,
   "metadata": {
    "collapsed": true
   },
   "outputs": [],
   "source": [
    "import numpy as np\n",
    "import matplotlib.pyplot as plt\n",
    "%matplotlib inline\n",
    "plt.rcParams['figure.figsize'] = 10, 10"
   ]
  },
  {
   "cell_type": "code",
   "execution_count": 12,
   "metadata": {},
   "outputs": [
    {
     "data": {
      "text/plain": [
       "<matplotlib.legend.Legend at 0x113753ac8>"
      ]
     },
     "execution_count": 12,
     "metadata": {},
     "output_type": "execute_result"
    },
    {
     "data": {
      "image/png": "[encoded data removed]",
      "text/plain": [
       "<matplotlib.figure.Figure at 0x11320a898>"
      ]
     },
     "metadata": {},
     "output_type": "display_data"
    }
   ],
   "source": [
    "x = np.arange(0,200,1)\n",
    "y = 0.1*np.exp(-0.1*x)\n",
    "cum_y = 1 - np.exp(-0.1*x)\n",
    "\n",
    "plt.plot(x,y, label = 'density')\n",
    "plt.plot(x,cum_y, label = 'cumulative')\n",
    "plt.axvline(10, ls = 'dashed', color = 'r')\n",
    "plt.legend()"
   ]
  },
  {
   "cell_type": "markdown",
   "metadata": {},
   "source": [
    "___"
   ]
  },
  {
   "cell_type": "markdown",
   "metadata": {},
   "source": [
    "## Recall: in Example 2.17, the time was 15 instead of 100, the lambda was 1/30 instead of 1/10, and we wanted to know how long we could expect to last before a breakdown. We generated random values for X as:\n",
    "\n",
    "# $\\frac{-1}{\\lambda}log(rnd)$\n",
    "\n",
    "## We generate random values, and throw out the ones less than 15"
   ]
  },
  {
   "cell_type": "code",
   "execution_count": 30,
   "metadata": {
    "collapsed": true
   },
   "outputs": [],
   "source": [
    "results = []\n",
    "\n",
    "while len(results)<10000:\n",
    "    rnd = np.random.random()\n",
    "    value = -30*np.log(rnd)\n",
    "    \n",
    "    if value > 15:\n",
    "        results.append(value)"
   ]
  },
  {
   "cell_type": "code",
   "execution_count": 36,
   "metadata": {},
   "outputs": [
    {
     "data": {
      "text/plain": [
       "45.461835150490344"
      ]
     },
     "execution_count": 36,
     "metadata": {},
     "output_type": "execute_result"
    }
   ],
   "source": [
    "np.mean(results)"
   ]
  },
  {
   "cell_type": "markdown",
   "metadata": {},
   "source": [
    "# So since the average value is 45, this means that if the we get to 15, we can expect to wait another 30 until the next occurrence"
   ]
  },
  {
   "cell_type": "markdown",
   "metadata": {},
   "source": [
    "___\n",
    "# HYPOTHESIS FOR THIS PROBLEM: If we start at time 100, we can expect to wait until 110 for the next occurrence\n",
    "\n",
    "### Writing the simulation"
   ]
  },
  {
   "cell_type": "code",
   "execution_count": 56,
   "metadata": {
    "collapsed": true
   },
   "outputs": [],
   "source": [
    "results = []\n",
    "\n",
    "while len(results)<10000:\n",
    "    #need to make a big ass array, since the vast majority of random numbers won't map to 100+\n",
    "    rnd = np.random.random(size = 1000000)\n",
    "    array = -10*np.log(rnd)\n",
    "\n",
    "    array = array*(array>100)\n",
    "    array = array[np.nonzero(array)]\n",
    "    \n",
    "    results = results + list(array)"
   ]
  },
  {
   "cell_type": "code",
   "execution_count": 57,
   "metadata": {},
   "outputs": [
    {
     "data": {
      "text/plain": [
       "109.99495806632329"
      ]
     },
     "execution_count": 57,
     "metadata": {},
     "output_type": "execute_result"
    }
   ],
   "source": [
    "np.mean(results)"
   ]
  },
  {
   "cell_type": "markdown",
   "metadata": {},
   "source": [
    "# We were correct!"
   ]
  }
 ],
 "metadata": {
  "kernelspec": {
   "display_name": "Python [default]",
   "language": "python",
   "name": "python3"
  },
  "language_info": {
   "codemirror_mode": {
    "name": "ipython",
    "version": 3
   },
   "file_extension": ".py",
   "mimetype": "text/x-python",
   "name": "python",
   "nbconvert_exporter": "python",
   "pygments_lexer": "ipython3",
   "version": "3.5.3"
  }
 },
 "nbformat": 4,
 "nbformat_minor": 2
}
