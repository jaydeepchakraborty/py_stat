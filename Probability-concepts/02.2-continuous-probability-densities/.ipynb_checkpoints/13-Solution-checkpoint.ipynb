{
 "cells": [
  {
   "cell_type": "markdown",
   "metadata": {},
   "source": [
    "# Take a stick of unit length and break it into two pieces, choosing the break point at random. Now break the longer of the two pieces at a random point. \n",
    "\n",
    "# What is the probability that the three pieces can be used to form a triangle?"
   ]
  },
  {
   "cell_type": "markdown",
   "metadata": {},
   "source": [
    "___\n",
    "### First, let's simulate it"
   ]
  },
  {
   "cell_type": "code",
   "execution_count": 9,
   "metadata": {
    "collapsed": true
   },
   "outputs": [],
   "source": [
    "import numpy as np\n",
    "import pandas as pd"
   ]
  },
  {
   "cell_type": "code",
   "execution_count": 18,
   "metadata": {
    "collapsed": true
   },
   "outputs": [],
   "source": [
    "tuples = []\n",
    "\n",
    "for i in range(100000):\n",
    "    break_point1 = np.random.random()\n",
    "    \n",
    "    if break_point1>0.5:\n",
    "        break_point2 = np.random.uniform(0, break_point1)\n",
    "        x = break_point2\n",
    "        y = break_point1 - break_point2\n",
    "        \n",
    "    else:\n",
    "        break_point2 = np.random.uniform(break_point1,1)\n",
    "        x = break_point1\n",
    "        y = break_point2 - break_point1\n",
    "        \n",
    "    z = 1 - (x+y)\n",
    "    \n",
    "    tuples.append((x,y,z))"
   ]
  },
  {
   "cell_type": "code",
   "execution_count": 19,
   "metadata": {
    "collapsed": true
   },
   "outputs": [],
   "source": [
    "df = pd.DataFrame(tuples)"
   ]
  },
  {
   "cell_type": "code",
   "execution_count": 20,
   "metadata": {},
   "outputs": [
    {
     "data": {
      "text/plain": [
       "0.38679"
      ]
     },
     "execution_count": 20,
     "metadata": {},
     "output_type": "execute_result"
    }
   ],
   "source": [
    "len(df[(df[0]<0.5)&(df[1]<0.5)&((1-df[2])>0.5)])/float(len(df))"
   ]
  },
  {
   "cell_type": "markdown",
   "metadata": {},
   "source": [
    "## About 38.68%"
   ]
  },
  {
   "cell_type": "code",
   "execution_count": 22,
   "metadata": {},
   "outputs": [
    {
     "data": {
      "text/plain": [
       "0.38629436111989057"
      ]
     },
     "execution_count": 22,
     "metadata": {},
     "output_type": "execute_result"
    }
   ],
   "source": [
    "2*np.log(2)-1"
   ]
  },
  {
   "cell_type": "markdown",
   "metadata": {
    "collapsed": true
   },
   "source": [
    "# Will figure this out later!!!"
   ]
  }
 ],
 "metadata": {
  "kernelspec": {
   "display_name": "Python [default]",
   "language": "python",
   "name": "python3"
  },
  "language_info": {
   "codemirror_mode": {
    "name": "ipython",
    "version": 3
   },
   "file_extension": ".py",
   "mimetype": "text/x-python",
   "name": "python",
   "nbconvert_exporter": "python",
   "pygments_lexer": "ipython3",
   "version": "3.5.3"
  }
 },
 "nbformat": 4,
 "nbformat_minor": 2
}
