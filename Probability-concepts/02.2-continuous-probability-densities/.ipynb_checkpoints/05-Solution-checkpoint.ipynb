{
 "cells": [
  {
   "cell_type": "markdown",
   "metadata": {},
   "source": [
    "# Suppose you are watching a radioactive source that emits particles at a rate described by the exponential density:\n",
    "\n",
    "# $f(t) = \\lambda e^{-\\lambda t}$\n",
    "\n",
    "# where $\\lambda = 1$, so that the probability $P([0,T])$ that a particle will appear in the next $T$ seconds is $P([0,T]) = \\int^{T}_{0}\\lambda e^{-\\lambda t}dt$\n",
    "\n",
    "# Find the probability that a particle will appear:\n",
    "\n",
    "## a) within the next second\n",
    "\n",
    "## b) within the next 3 seconds\n",
    "\n",
    "## c) between 3 and 4 seconds from now\n",
    "\n",
    "## d) after 4 seconds from now"
   ]
  },
  {
   "cell_type": "markdown",
   "metadata": {},
   "source": [
    "___\n",
    "# a)\n",
    "\n",
    "## $P([0,1]) = \\int^{1}_{0}\\lambda e^{-\\lambda t}dt = \\int^{1}_{0}(1) e^{-(1) t}dt = -e^{-t}|^{1}_{0} = -e^{-1} - (-e^{0}) = 1 - \\frac{1}{e}$"
   ]
  },
  {
   "cell_type": "markdown",
   "metadata": {},
   "source": [
    "___\n",
    "# b)\n",
    "\n",
    "## $P([0,3]) = \\int^{3}_{0}(1) e^{-(1) t}dt = -e^{-3} - (-e^{0}) = 1 - \\frac{1}{e^{3}}$"
   ]
  },
  {
   "cell_type": "markdown",
   "metadata": {},
   "source": [
    "___\n",
    "# c)\n",
    "\n",
    "## $P([3,4]) = \\int^{4}_{3}(1) e^{-(1) t}dt = -e^{-4} - (-e^{-3}) = \\frac{1}{e^{3}} - \\frac{1}{e^{4}}$"
   ]
  },
  {
   "cell_type": "markdown",
   "metadata": {},
   "source": [
    "___\n",
    "# d)\n",
    "\n",
    "## $P([4,\\infty]) = 1 - P([0,4]) = 1 - (1 - \\frac{1}{e^{4}}) = \\frac{1}{e^{4}}$"
   ]
  }
 ],
 "metadata": {
  "kernelspec": {
   "display_name": "Python [default]",
   "language": "python",
   "name": "python3"
  },
  "language_info": {
   "codemirror_mode": {
    "name": "ipython",
    "version": 3
   },
   "file_extension": ".py",
   "mimetype": "text/x-python",
   "name": "python",
   "nbconvert_exporter": "python",
   "pygments_lexer": "ipython3",
   "version": "3.5.3"
  }
 },
 "nbformat": 4,
 "nbformat_minor": 2
}
