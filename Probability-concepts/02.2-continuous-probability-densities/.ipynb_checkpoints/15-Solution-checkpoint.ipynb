{
 "cells": [
  {
   "cell_type": "markdown",
   "metadata": {},
   "source": [
    "# At the Turnbridge World's Fair, a coin toss game works as follows: quarters are tossed onto a checkerboard. The management keeps all the quarters, but for each quarter landing entirely within one square of the checkerboard, the management pays one dollar\n",
    "\n",
    "# Assume that the edge of each square is twice the diameter of a quarter\n",
    "\n",
    "# Is this game fair?"
   ]
  },
  {
   "cell_type": "markdown",
   "metadata": {},
   "source": [
    "___\n",
    "\n",
    "### For a coin of radius $r$, we know that if the coin lands within less than $r$ of any edges we lose our money\n",
    "\n",
    "### We can plot the condition as:"
   ]
  },
  {
   "cell_type": "code",
   "execution_count": 1,
   "metadata": {
    "collapsed": true
   },
   "outputs": [],
   "source": [
    "import numpy as np\n",
    "import matplotlib.pyplot as plt\n",
    "%matplotlib inline\n",
    "plt.rcParams['figure.figsize'] = 10, 10"
   ]
  },
  {
   "cell_type": "code",
   "execution_count": 6,
   "metadata": {},
   "outputs": [
    {
     "data": {
      "text/plain": [
       "<matplotlib.lines.Line2D at 0x116a932e8>"
      ]
     },
     "execution_count": 6,
     "metadata": {},
     "output_type": "execute_result"
    },
    {
     "data": {
      "image/png": "[encoded data removed]",
      "text/plain": [
       "<matplotlib.figure.Figure at 0x1168fc4e0>"
      ]
     },
     "metadata": {},
     "output_type": "display_data"
    }
   ],
   "source": [
    "plt.fill_between(np.arange(-2, 2, 0.01), 2, -2, color = 'r')\n",
    "plt.fill_between(np.arange(-1, 1, 0.01), 1, -1, color = 'b')\n",
    "plt.axhline(0, color = 'w')\n",
    "plt.axvline(0, color = 'w')"
   ]
  },
  {
   "cell_type": "markdown",
   "metadata": {},
   "source": [
    "### So if the centre of the coin lands anywhere in the blue region (of any given square on the board), we get a dollar\n",
    "\n",
    "### If the centre lands in the red region, we lose our quarter\n",
    "\n",
    "## So $P(\\text{Win a dollar}) = \\frac{1}{4}$\n",
    "\n",
    "### Since you win a dollar (gain 0.75) 1 out of every 4 flips, but lose your quarter (lose 0.25) 3 out of every 4 flips\n",
    "\n",
    "# This is fair"
   ]
  }
 ],
 "metadata": {
  "kernelspec": {
   "display_name": "Python [default]",
   "language": "python",
   "name": "python3"
  },
  "language_info": {
   "codemirror_mode": {
    "name": "ipython",
    "version": 3
   },
   "file_extension": ".py",
   "mimetype": "text/x-python",
   "name": "python",
   "nbconvert_exporter": "python",
   "pygments_lexer": "ipython3",
   "version": "3.5.3"
  }
 },
 "nbformat": 4,
 "nbformat_minor": 2
}
