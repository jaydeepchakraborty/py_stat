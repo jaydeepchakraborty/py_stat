{
 "cells": [
  {
   "cell_type": "markdown",
   "metadata": {},
   "source": [
    "# Suppose you choose a real number $X$ from the internal [2,10] with a density function of the form:\n",
    "\n",
    "# $f(x) = Cx$; where $C$ is a constant\n",
    "\n",
    "## a) Find $C$\n",
    "\n",
    "## b) Find $P(E)$ where $E = [a,b] \\in [2,10]$\n",
    "\n",
    "## c) Find $P(X>5)$, $P(X<7)$, and $P(X^{2}-12X+35>0)$"
   ]
  },
  {
   "cell_type": "markdown",
   "metadata": {},
   "source": [
    "___\n",
    "# a)\n",
    "\n",
    "# $\\int^{10}_{2}f(x)dx = \\int^{10}_{2}Cxdx = \\frac{C}{2}x^{2}|^{10}_{2} = 96\\frac{C}{2} = 48C$\n",
    "\n",
    "# We know that $\\int^{10}_{2}f(x)dx = 1 \\implies 48C = 1 \\implies C = \\frac{1}{48}$"
   ]
  },
  {
   "cell_type": "markdown",
   "metadata": {},
   "source": [
    "___\n",
    "# b) $P(E) = \\int^{b}_{a}\\frac{x}{48}dx = \\frac{b^{2} - a^{2}}{96}$"
   ]
  },
  {
   "cell_type": "markdown",
   "metadata": {},
   "source": [
    "___\n",
    "# c) \n",
    "\n",
    "# $P(X>5) = \\int^{10}_{5}\\frac{x}{48}dx = \\frac{10^{2} - 5^{2}}{96} = \\frac{75}{96}$\n",
    "\n",
    "# $P(X<7) = \\int^{7}_{2}\\frac{x}{48}dx = \\frac{7^{2} - 2^{2}}{96} = \\frac{45}{96}$\n",
    "\n",
    "### Recall from the previous question that $P(X^{2}-12X+35>0) = 1 - P(5<X<7)$\n",
    "\n",
    "# $1 - P(5<X<7) = 1 - \\int^{7}_{5}\\frac{x}{48}dx = 1 - \\frac{7^{2} - 5^{2}}{96} = 1 - \\frac{24}{96} = 1 - \\frac{1}{4} = \\frac{3}{4}$"
   ]
  }
 ],
 "metadata": {
  "kernelspec": {
   "display_name": "Python 2",
   "language": "python",
   "name": "python2"
  },
  "language_info": {
   "codemirror_mode": {
    "name": "ipython",
    "version": 2
   },
   "file_extension": ".py",
   "mimetype": "text/x-python",
   "name": "python",
   "nbconvert_exporter": "python",
   "pygments_lexer": "ipython2",
   "version": "2.7.11"
  }
 },
 "nbformat": 4,
 "nbformat_minor": 0
}
