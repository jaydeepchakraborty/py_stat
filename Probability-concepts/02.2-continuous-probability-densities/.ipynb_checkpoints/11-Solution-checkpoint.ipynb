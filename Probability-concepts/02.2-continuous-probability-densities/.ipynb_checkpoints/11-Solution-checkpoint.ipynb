{
 "cells": [
  {
   "cell_type": "markdown",
   "metadata": {},
   "source": [
    "# For examples such as those in Exercises 9 and 10, it might seem that at least you should not have to wait an average of more than 10 minutes if the average time between occurrences is 10 minutes\n",
    "\n",
    "# But this is NOT TRUE\n",
    "\n",
    "# Consider the following assumtion: assume that the time between occurrences is 3 minutes with probability 0.9 and 73 minutes with probability 0.1\n",
    "\n",
    "# Show by simulation that the average time between occurrences is 10 minutes, but that if you come upon this system at time 100, the average waiting time is more than 10 minutes"
   ]
  },
  {
   "cell_type": "markdown",
   "metadata": {},
   "source": [
    "___\n",
    "# Simulation 1"
   ]
  },
  {
   "cell_type": "code",
   "execution_count": 1,
   "metadata": {
    "collapsed": true
   },
   "outputs": [],
   "source": [
    "import numpy as np"
   ]
  },
  {
   "cell_type": "code",
   "execution_count": 2,
   "metadata": {
    "collapsed": true
   },
   "outputs": [],
   "source": [
    "def mapper(val):\n",
    "    if val<0.1:\n",
    "        return 73\n",
    "    else:\n",
    "        return 3"
   ]
  },
  {
   "cell_type": "code",
   "execution_count": 3,
   "metadata": {
    "collapsed": true
   },
   "outputs": [],
   "source": [
    "mapper = np.vectorize(mapper)"
   ]
  },
  {
   "cell_type": "code",
   "execution_count": 4,
   "metadata": {
    "collapsed": true
   },
   "outputs": [],
   "source": [
    "results = []\n",
    "\n",
    "while len(results)<10000:\n",
    "    rnd = np.random.random(size = 1000000)\n",
    "    lambda_array = np.random.random(size = 1000000)\n",
    "    lambda_array = mapper(lambda_array)\n",
    "    \n",
    "    array = (-lambda_array)*np.log(rnd)\n",
    "    \n",
    "    results = results + list(array)"
   ]
  },
  {
   "cell_type": "code",
   "execution_count": 6,
   "metadata": {},
   "outputs": [
    {
     "data": {
      "text/plain": [
       "10.011955708181098"
      ]
     },
     "execution_count": 6,
     "metadata": {},
     "output_type": "execute_result"
    }
   ],
   "source": [
    "np.mean(results)"
   ]
  },
  {
   "cell_type": "markdown",
   "metadata": {},
   "source": [
    "# Simulation 2"
   ]
  },
  {
   "cell_type": "code",
   "execution_count": 7,
   "metadata": {
    "collapsed": true
   },
   "outputs": [],
   "source": [
    "results = []\n",
    "\n",
    "while len(results)<10000:\n",
    "    rnd = np.random.random(size = 1000000)\n",
    "    lambda_array = np.random.random(size = 1000000)\n",
    "    lambda_array = mapper(lambda_array)\n",
    "    \n",
    "    array = (-lambda_array)*np.log(rnd)\n",
    "    \n",
    "    array = array*(array>100)\n",
    "    array = array[np.nonzero(array)]\n",
    "    \n",
    "    results = results + list(array)"
   ]
  },
  {
   "cell_type": "code",
   "execution_count": 8,
   "metadata": {},
   "outputs": [
    {
     "data": {
      "text/plain": [
       "173.45036019079828"
      ]
     },
     "execution_count": 8,
     "metadata": {},
     "output_type": "execute_result"
    }
   ],
   "source": [
    "np.mean(results)"
   ]
  }
 ],
 "metadata": {
  "kernelspec": {
   "display_name": "Python [default]",
   "language": "python",
   "name": "python3"
  },
  "language_info": {
   "codemirror_mode": {
    "name": "ipython",
    "version": 3
   },
   "file_extension": ".py",
   "mimetype": "text/x-python",
   "name": "python",
   "nbconvert_exporter": "python",
   "pygments_lexer": "ipython3",
   "version": "3.5.3"
  }
 },
 "nbformat": 4,
 "nbformat_minor": 2
}
