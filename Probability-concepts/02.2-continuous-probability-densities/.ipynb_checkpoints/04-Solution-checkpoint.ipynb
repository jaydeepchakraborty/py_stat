{
 "cells": [
  {
   "cell_type": "markdown",
   "metadata": {},
   "source": [
    "# Suppose you throw a dart at a circular target of radius 10 inches\n",
    "\n",
    "# Assuming that you hit the target and that the coordinates of the outcomes are chosen at random, and the probability that the dart falls\n",
    "\n",
    "## a) within 2 inches of the center\n",
    "\n",
    "## b) within 2 inches of the rim\n",
    "\n",
    "## c) within the first quadrant of the target\n",
    "\n",
    "## d) within the first quadrant and within the 2 inches of the rim"
   ]
  },
  {
   "cell_type": "markdown",
   "metadata": {},
   "source": [
    "___\n",
    "\n",
    "# We calculate the area of the dart board as:\n",
    "\n",
    "# $ A = \\pi R^{2} = \\pi 10^{2} = 100\\pi$\n",
    "\n",
    "## For a circle of radius $r$, the area is $ a = \\pi r^{2}$ so the probability that the dart lands in the circle of radius $r$ is the ratio of their areas i.e.:\n",
    "\n",
    "# $P(\\text{Dart lands in circle of radius }r) = \\frac{\\pi r^{2}}{100 \\pi} = \\frac{r^{2}}{100}$\n",
    "\n",
    "____\n",
    "\n",
    "# a) $r=2$\n",
    "\n",
    "## $P(\\text{Dart falls in area of radius }r=2) = \\frac{2^{2}}{100} = 0.04$"
   ]
  },
  {
   "cell_type": "markdown",
   "metadata": {},
   "source": [
    "___\n",
    "# b) \n",
    "\n",
    "### $P(\\text{Dart falls within 2 inches of the rim}) = 1-P(\\text{Dart falls within 8 inches of the center})$\n",
    "\n",
    "### $ = 1 - \\frac{8^{2}}{100} = 1 - 0.64 = 0.36$"
   ]
  },
  {
   "cell_type": "markdown",
   "metadata": {},
   "source": [
    "___\n",
    "# c)\n",
    "\n",
    "### $P(\\text{Dart falls in first quadrant}) = \\frac{1}{4}$"
   ]
  },
  {
   "cell_type": "markdown",
   "metadata": {},
   "source": [
    "___\n",
    "# d)\n",
    "\n",
    "### $P(\\text{Dart falls in the first quadrant AND within 2 inches of the rim})$\n",
    "\n",
    "### $= P(\\text{Dart falls in first quadrant})\\cdot P(\\text{Dart falls within 2 inches of the rim}) = \\frac{1}{4} \\cdot 0.36 = 0.09$"
   ]
  }
 ],
 "metadata": {
  "kernelspec": {
   "display_name": "Python 2",
   "language": "python",
   "name": "python2"
  },
  "language_info": {
   "codemirror_mode": {
    "name": "ipython",
    "version": 2
   },
   "file_extension": ".py",
   "mimetype": "text/x-python",
   "name": "python",
   "nbconvert_exporter": "python",
   "pygments_lexer": "ipython2",
   "version": "2.7.11"
  }
 },
 "nbformat": 4,
 "nbformat_minor": 1
}
