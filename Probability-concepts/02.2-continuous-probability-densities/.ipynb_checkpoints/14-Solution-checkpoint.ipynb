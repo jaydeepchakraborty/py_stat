{
 "cells": [
  {
   "cell_type": "markdown",
   "metadata": {},
   "source": [
    "# Choose independently two numbers $B$ and $C$ *at random* from the interval [-1,1] with uniform distribution and consider the quadratic equation\n",
    "\n",
    "# $x^{2} + Bx + C = 0$\n",
    "\n",
    "# Find the probability that the roots of the equation:\n",
    "\n",
    "## a) are both real\n",
    "\n",
    "## b) are both positive\n",
    "\n",
    "### Hint: a) requires $0\\leq B^{2} - 4C$, and b) requires $0 \\leq B^{2} - 4C$, $B\\leq 0$, $C \\geq 0$"
   ]
  },
  {
   "cell_type": "markdown",
   "metadata": {},
   "source": [
    "___\n",
    "# a)\n",
    "\n",
    "### Recall: the quadratic formula is $\\frac{-b \\pm \\sqrt{b^{2} - 4ac}}{2a}$ so that's why we need $B^{2}-4C \\geq 0$\n",
    "\n",
    "### We can plot this relationship"
   ]
  },
  {
   "cell_type": "code",
   "execution_count": 10,
   "metadata": {
    "collapsed": true
   },
   "outputs": [],
   "source": [
    "import numpy as np\n",
    "import matplotlib.pyplot as plt\n",
    "%matplotlib inline\n",
    "plt.rcParams['figure.figsize'] = 10, 10\n",
    "\n",
    "B = np.arange(-1, 1, 0.01)\n",
    "C = (B**2)/4"
   ]
  },
  {
   "cell_type": "code",
   "execution_count": 11,
   "metadata": {},
   "outputs": [
    {
     "data": {
      "text/plain": [
       "<matplotlib.lines.Line2D at 0x11b47c320>"
      ]
     },
     "execution_count": 11,
     "metadata": {},
     "output_type": "execute_result"
    },
    {
     "data": {
      "image/png": "[encoded data removed]",
      "text/plain": [
       "<matplotlib.figure.Figure at 0x11af17eb8>"
      ]
     },
     "metadata": {},
     "output_type": "display_data"
    }
   ],
   "source": [
    "plt.fill_between(B,-1,  C)\n",
    "plt.axes()\n",
    "plt.xlim([-1,1])\n",
    "plt.ylim([-1,1])\n",
    "plt.axhline(0,color = 'k')\n",
    "plt.axvline(0,color = 'k')"
   ]
  },
  {
   "cell_type": "markdown",
   "metadata": {},
   "source": [
    "## So the blue region represents the combinations of B and C where $C \\leq \\frac{x^{2}}{4}$\n",
    "\n",
    "### To solve for the area of the blue region, we take the sum of the integral $\\int^{-1}_{1}\\frac{x^{2}}{4}dx$ and 2 (the area of the lower half of the plot)"
   ]
  },
  {
   "cell_type": "markdown",
   "metadata": {},
   "source": [
    "# $\\int^{-1}_{1}\\frac{x^{2}}{4}dx = \\frac{1}{4}\\cdot \\frac{1}{3} x^{3} |^{1}_{-1} = \\frac{1}{12} \\left ( 1^{3} - (-1)^{3} \\right ) = \\frac{1}{6}$"
   ]
  },
  {
   "cell_type": "markdown",
   "metadata": {},
   "source": [
    "### So $(\\text{Blue Area}) = 2 + \\frac{1}{6} = \\frac{13}{6} \\implies P(C \\leq \\frac{x^{2}}{4}) = \\frac{(\\text{Blue Area)}}{(Total Area)} = \\frac{\\frac{13}{6}}{4} = \\frac{13}{24}$"
   ]
  },
  {
   "cell_type": "markdown",
   "metadata": {},
   "source": [
    "___\n",
    "# b)\n",
    "\n",
    "### Once again, looking at the quadratic equation we see that for the roots to both be positive (and real), we need:\n",
    "\n",
    "### 1. $ -B \\geq 0 \\implies B \\leq 0$\n",
    "\n",
    "### 2. $ B^{2} - 4C \\geq 0 \\implies C \\leq \\frac{B^{2}}{4}$\n",
    "\n",
    "### 3. $ -B \\geq \\sqrt{B^{2} - 4C} \\implies B^{2} \\geq B^{2} - 4C \\implies C \\geq 0$"
   ]
  },
  {
   "cell_type": "markdown",
   "metadata": {},
   "source": [
    "### We can plot these conditions"
   ]
  },
  {
   "cell_type": "code",
   "execution_count": 20,
   "metadata": {},
   "outputs": [
    {
     "data": {
      "text/plain": [
       "<matplotlib.lines.Line2D at 0x11c1ab668>"
      ]
     },
     "execution_count": 20,
     "metadata": {},
     "output_type": "execute_result"
    },
    {
     "data": {
      "image/png": "[encoded data removed]",
      "text/plain": [
       "<matplotlib.figure.Figure at 0x11bc33e48>"
      ]
     },
     "metadata": {},
     "output_type": "display_data"
    }
   ],
   "source": [
    "B = np.arange(-1, 0.01, 0.01)\n",
    "C = B**2/4\n",
    "\n",
    "plt.fill_between(B,0,  C, color = 'b')\n",
    "plt.axes()\n",
    "plt.xlim([-1,1])\n",
    "plt.ylim([-1,1])\n",
    "plt.axhline(0,color = 'k')\n",
    "plt.axvline(0,color = 'k')"
   ]
  },
  {
   "cell_type": "markdown",
   "metadata": {},
   "source": [
    "### As we can see, the only region that satisfies these conditions has area $\\int^{-1}_{0}\\frac{x^{2}}{4}dx = \\frac{1}{12}$"
   ]
  },
  {
   "cell_type": "markdown",
   "metadata": {},
   "source": [
    "### Therefore the probability has value $\\frac{\\frac{1}{12}}{4} = \\frac{1}{48}$"
   ]
  }
 ],
 "metadata": {
  "kernelspec": {
   "display_name": "Python [default]",
   "language": "python",
   "name": "python3"
  },
  "language_info": {
   "codemirror_mode": {
    "name": "ipython",
    "version": 3
   },
   "file_extension": ".py",
   "mimetype": "text/x-python",
   "name": "python",
   "nbconvert_exporter": "python",
   "pygments_lexer": "ipython3",
   "version": "3.5.3"
  }
 },
 "nbformat": 4,
 "nbformat_minor": 2
}
