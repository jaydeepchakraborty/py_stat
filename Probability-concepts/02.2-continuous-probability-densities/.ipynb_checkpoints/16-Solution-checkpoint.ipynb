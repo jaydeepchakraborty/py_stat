{
 "cells": [
  {
   "cell_type": "markdown",
   "metadata": {},
   "source": [
    "# 3 points are chosen *at random* on a circle of unit circumference. What is the probability that the triangle defined by the three points has three acute angles?\n",
    "\n",
    "## *Hint: The three points form an obtuse angle only when all three lie in the same semi circle*"
   ]
  },
  {
   "cell_type": "markdown",
   "metadata": {},
   "source": [
    "___\n",
    "\n",
    "## First, let's visualize the problem\n",
    "\n",
    "### Wherever the first point (A) lands on the circle, we can rotate the circle so that it lies at point 0"
   ]
  },
  {
   "cell_type": "markdown",
   "metadata": {},
   "source": [
    "![](images/16-1.png)"
   ]
  },
  {
   "cell_type": "markdown",
   "metadata": {},
   "source": [
    "### So now there are two possibilities:\n",
    "\n",
    "### 1. The second point (B) falls on the right semi circle (and B < 0.5)\n",
    "\n",
    "### 2. The second point (B) falls on the left semi cicle (and B > 0.5)\n",
    "\n",
    "### Let's consider the two cases individually"
   ]
  },
  {
   "cell_type": "markdown",
   "metadata": {},
   "source": [
    "### Case 1:\n",
    "\n",
    "![](images/16-2.png)"
   ]
  },
  {
   "cell_type": "markdown",
   "metadata": {},
   "source": [
    "### Now, we have to think about the following question: WHERE MUST THE POINT C FALL TO BE MORE THAN 0.5 FROM BOTH A AND B?\n",
    "\n",
    "![](images/16-3.png)"
   ]
  },
  {
   "cell_type": "markdown",
   "metadata": {},
   "source": [
    "### So, the only region where C can fall to still create an acute triangle is represented in pink\n",
    "\n",
    "### The edges of the pink arc are [A+0.5, B+0.5]\n",
    "\n",
    "### So the length of the pink arc is $(B+0.5) - (A+0.5) = B - A = B$\n",
    "\n",
    "### Since we have a circle of unit circumference, the probability of C landing in the pink area is equal to B"
   ]
  },
  {
   "cell_type": "markdown",
   "metadata": {},
   "source": [
    "### We have to consider all possible values of B within [0, 0.5], but we can see that since it is uniformly distributed, the average value for B is 1/4"
   ]
  },
  {
   "cell_type": "markdown",
   "metadata": {},
   "source": [
    "### Case 2:\n",
    "\n",
    "### This is basically the exact same, except reversed"
   ]
  },
  {
   "cell_type": "markdown",
   "metadata": {},
   "source": [
    "![](images/16-4.png)"
   ]
  },
  {
   "cell_type": "markdown",
   "metadata": {},
   "source": [
    "### So once again the probability is 1/4"
   ]
  },
  {
   "cell_type": "markdown",
   "metadata": {},
   "source": [
    "## Combining our cases (each with probability of 0.5 of occurring), we get\n",
    "\n",
    "\n",
    "# $P(\\text{Acute Triangle}) = 0.5 \\cdot \\frac{1}{4} + 0.5 \\cdot \\frac{1}{4} = \\frac{1}{4}$"
   ]
  }
 ],
 "metadata": {
  "kernelspec": {
   "display_name": "Python [default]",
   "language": "python",
   "name": "python3"
  },
  "language_info": {
   "codemirror_mode": {
    "name": "ipython",
    "version": 3
   },
   "file_extension": ".py",
   "mimetype": "text/x-python",
   "name": "python",
   "nbconvert_exporter": "python",
   "pygments_lexer": "ipython3",
   "version": "3.5.3"
  }
 },
 "nbformat": 4,
 "nbformat_minor": 2
}
