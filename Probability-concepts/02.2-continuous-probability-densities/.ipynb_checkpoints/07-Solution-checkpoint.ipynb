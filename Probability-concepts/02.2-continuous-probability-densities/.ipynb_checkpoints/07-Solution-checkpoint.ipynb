{
 "cells": [
  {
   "cell_type": "markdown",
   "metadata": {},
   "source": [
    "# Choose a number $B$ *at random* from the interval [0,1] with uniform density\n",
    "\n",
    "# Find the probability that\n",
    "\n",
    "## a) $\\frac{1}{3} \\leq B \\leq \\frac{2}{3}$\n",
    "\n",
    "## b) $\\left | B-\\frac{1}{2} \\right | \\leq \\frac{1}{4}$\n",
    "\n",
    "## c) $B \\leq \\frac{1}{4} \\text{ OR } (1-B) \\leq \\frac{1}{4}$\n",
    "\n",
    "## d) $ 3B^{2} \\leq B$"
   ]
  },
  {
   "cell_type": "markdown",
   "metadata": {},
   "source": [
    "___\n",
    "# For a uniform distribution on the interval [0,1], the probability that $B$ is within $a$ and $b$ is equal to $ P([a,b]) = b-a$\n",
    "\n",
    "\n",
    "# a)\n",
    "\n",
    "# $P([1/3, 2/3]) = \\frac{2}{3} - \\frac{1}{3} = \\frac{1}{3}$"
   ]
  },
  {
   "cell_type": "markdown",
   "metadata": {},
   "source": [
    "___\n",
    "# b)\n",
    "\n",
    "# $\\left | B-\\frac{1}{2} \\right | = \\frac{1}{4}$ for values $\\frac{1}{4}$ and $\\frac{3}{4}$\n",
    "\n",
    "# Between these values, the condition is satisfied so:\n",
    "\n",
    "# $P([\\frac{1}{4}, \\frac{3}{4}]) = \\frac{3}{4} - \\frac{1}{4} = \\frac{1}{2}$"
   ]
  },
  {
   "cell_type": "markdown",
   "metadata": {},
   "source": [
    "___\n",
    "# c)\n",
    "\n",
    "### $P(B \\leq \\frac{1}{4} \\text{ OR } (1-B) \\leq \\frac{1}{4}) = P(B \\leq \\frac{1}{4}) + P((1-B) \\leq \\frac{1}{4})$\n",
    "\n",
    "### $ = P(B \\leq \\frac{1}{4}) + P(B \\geq \\frac{3}{4}) = \\frac{1}{4} + \\frac{1}{4} = \\frac{1}{2}$"
   ]
  },
  {
   "cell_type": "markdown",
   "metadata": {},
   "source": [
    "___\n",
    "# d)\n",
    "\n",
    "# $P(3B^{2} \\leq B) = P(B \\leq \\frac{1}{3}) = \\frac{1}{3}$"
   ]
  }
 ],
 "metadata": {
  "kernelspec": {
   "display_name": "Python [default]",
   "language": "python",
   "name": "python3"
  },
  "language_info": {
   "codemirror_mode": {
    "name": "ipython",
    "version": 3
   },
   "file_extension": ".py",
   "mimetype": "text/x-python",
   "name": "python",
   "nbconvert_exporter": "python",
   "pygments_lexer": "ipython3",
   "version": "3.5.3"
  }
 },
 "nbformat": 4,
 "nbformat_minor": 2
}
