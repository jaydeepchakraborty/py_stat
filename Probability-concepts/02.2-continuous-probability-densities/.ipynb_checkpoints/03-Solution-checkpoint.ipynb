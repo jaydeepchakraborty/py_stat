{
 "cells": [
  {
   "cell_type": "markdown",
   "metadata": {},
   "source": [
    "# Same as Exercise 2, but suppose:\n",
    "\n",
    "# $f(x) =\\frac{C}{x}$"
   ]
  },
  {
   "cell_type": "markdown",
   "metadata": {},
   "source": [
    "___\n",
    "# a)\n",
    "\n",
    "# $\\int^{10}_{2}f(x)dx = \\int^{10}_{2}\\frac{C}{x}dx = C \\cdot ln(x)|^{10}_{2} = C \\cdot (ln(10)-ln(2))$\n",
    "# $= C \\cdot ln(\\frac{10}{2}) = C \\cdot ln(5)$\n",
    "\n",
    "# We know that $\\int^{10}_{2}f(x)dx = 1 \\implies C \\cdot ln(5) = 1 \\implies C = \\frac{1}{ln(5)}$"
   ]
  },
  {
   "cell_type": "markdown",
   "metadata": {},
   "source": [
    "___\n",
    "# b) $P(E) = \\int^{b}_{a}\\frac{1}{ln(5)\\cdot x}dx = \\frac{ln(b/a)}{ln(5)}$"
   ]
  },
  {
   "cell_type": "markdown",
   "metadata": {},
   "source": [
    "___\n",
    "# c) \n",
    "\n",
    "# $P(X>5) = \\int^{10}_{5}\\frac{1}{ln(5)\\cdot x}dx = \\frac{ln(10/5)}{ln(5)} = \\frac{ln(2)}{ln(5)}$\n",
    "\n",
    "# $P(X<7) = \\frac{ln(7/2)}{ln(5)}$\n",
    "\n",
    "### Recall from the previous question that $P(X^{2}-12X+35>0) = 1 - P(5<X<7)$\n",
    "\n",
    "# $1 - P(5<X<7) = 1 - \\frac{ln(7/5)}{ln(5)} = \\frac{ln(25/5)-ln(7/5)}{ln(5)} = \\frac{ln(25/7)}{ln(5)}$"
   ]
  }
 ],
 "metadata": {
  "kernelspec": {
   "display_name": "Python 2",
   "language": "python",
   "name": "python2"
  },
  "language_info": {
   "codemirror_mode": {
    "name": "ipython",
    "version": 2
   },
   "file_extension": ".py",
   "mimetype": "text/x-python",
   "name": "python",
   "nbconvert_exporter": "python",
   "pygments_lexer": "ipython2",
   "version": "2.7.11"
  }
 },
 "nbformat": 4,
 "nbformat_minor": 0
}
