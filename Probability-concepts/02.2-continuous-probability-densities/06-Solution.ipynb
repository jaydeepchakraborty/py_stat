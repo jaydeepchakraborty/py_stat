{
 "cells": [
  {
   "cell_type": "markdown",
   "metadata": {},
   "source": [
    "# Assume that a new light bulb will burn out after $t$ hours with exponential density:\n",
    "\n",
    "# $f(t) = \\lambda e^{-\\lambda t}$\n",
    "\n",
    "# In this context, $\\lambda$ is often called the *failure rate* of the bulb\n",
    "\n",
    "## a) Assume that $\\lambda = 0.01$, and find the probability that the bulb will not burn out before $T$ hours. This probability is often called the *reliability* of the bulb\n",
    "\n",
    "## b) For what $T$ is the reliability of the bulb 1/2?"
   ]
  },
  {
   "cell_type": "markdown",
   "metadata": {},
   "source": [
    "___\n",
    "# a)\n",
    "\n",
    "### $P(\\text{Bulb won't burn out before time }T) = 1 - P([0,T]) = 1 - \\int^{T}_{0}0.01e^{-0.01t}dt = 1 -e^{-0.01t}|^{T}_{0} = 1 - (1 - \\frac{1}{e^{0.01T}})$\n",
    "\n",
    "### $ = \\frac{1}{e^{0.01T}}$"
   ]
  },
  {
   "cell_type": "markdown",
   "metadata": {},
   "source": [
    "___\n",
    "# b)\n",
    "\n",
    "# $\\frac{1}{2} = \\frac{1}{e^{0.01T}} \\implies ln(2) = 0.01\\cdot T \\cdot ln(e) \\implies T = \\frac{ln(2)}{0.01} = 69.314$"
   ]
  }
 ],
 "metadata": {
  "kernelspec": {
   "display_name": "Python 2",
   "language": "python",
   "name": "python2"
  },
  "language_info": {
   "codemirror_mode": {
    "name": "ipython",
    "version": 2
   },
   "file_extension": ".py",
   "mimetype": "text/x-python",
   "name": "python",
   "nbconvert_exporter": "python",
   "pygments_lexer": "ipython2",
   "version": "2.7.11"
  }
 },
 "nbformat": 4,
 "nbformat_minor": 2
}
