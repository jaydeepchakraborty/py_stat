{
 "cells": [
  {
   "cell_type": "markdown",
   "metadata": {},
   "source": [
    "# A true-false exam has 48 questions\n",
    "\n",
    "# June has probability 0.75 of getting a question right\n",
    "\n",
    "# April guesses on each question (so probability of 0.5)\n",
    "\n",
    "# A passing score is 30/48 or better\n",
    "\n",
    "# What is the probability that April passes the exam? June?"
   ]
  },
  {
   "cell_type": "markdown",
   "metadata": {},
   "source": [
    "_______\n",
    "\n",
    "# April\n",
    "\n",
    "## $np = 48\\cdot0.5 = 24$\n",
    "\n",
    "## $\\sqrt{npq} = \\sqrt{48 \\cdot 0.5 \\cdot 0.5} = 2\\sqrt{3}$\n",
    "\n",
    "## So, for April to pass, she must get 30 or better, which is $\\frac{30 - 24-0.5}{2\\sqrt{3}} = \\frac{5.5}{2\\sqrt{3}}$ standard deviations away from her mean\n",
    "\n",
    "# $ \\implies P(Pass) = \\int_{5.5/2\\sqrt{3}}^{\\infty}\\phi(x)dx $"
   ]
  },
  {
   "cell_type": "code",
   "execution_count": 1,
   "metadata": {
    "collapsed": true
   },
   "outputs": [],
   "source": [
    "import numpy as np\n",
    "from scipy.stats import norm"
   ]
  },
  {
   "cell_type": "code",
   "execution_count": 21,
   "metadata": {
    "collapsed": false
   },
   "outputs": [
    {
     "data": {
      "text/plain": [
       "0.056175598845231933"
      ]
     },
     "execution_count": 21,
     "metadata": {},
     "output_type": "execute_result"
    }
   ],
   "source": [
    "1-norm.cdf((30-24-0.5)/(2*np.sqrt(3)))"
   ]
  },
  {
   "cell_type": "markdown",
   "metadata": {},
   "source": [
    "_______\n",
    "\n",
    "# June\n",
    "\n",
    "# $np = 48 \\cdot 0.75 = 36$\n",
    "\n",
    "# $\\sqrt{npq} = \\sqrt{48 \\cdot 0.75 \\cdot 0.25} = \\sqrt{9} = 3$\n",
    "\n",
    "# $\\frac{30 - 36 - 0.5}{3} = -2.1666666$"
   ]
  },
  {
   "cell_type": "code",
   "execution_count": 19,
   "metadata": {
    "collapsed": false
   },
   "outputs": [
    {
     "data": {
      "text/plain": [
       "0.98486985973541341"
      ]
     },
     "execution_count": 19,
     "metadata": {},
     "output_type": "execute_result"
    }
   ],
   "source": [
    "1-norm.cdf(-2.16666666)"
   ]
  }
 ],
 "metadata": {
  "kernelspec": {
   "display_name": "Python 2",
   "language": "python",
   "name": "python2"
  },
  "language_info": {
   "codemirror_mode": {
    "name": "ipython",
    "version": 2
   },
   "file_extension": ".py",
   "mimetype": "text/x-python",
   "name": "python",
   "nbconvert_exporter": "python",
   "pygments_lexer": "ipython2",
   "version": "2.7.11"
  }
 },
 "nbformat": 4,
 "nbformat_minor": 0
}
