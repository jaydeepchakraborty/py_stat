{
 "cells": [
  {
   "cell_type": "markdown",
   "metadata": {},
   "source": [
    "# Let $S$ be the number of heads in 1m tosses of a fair coin. Use a) Chebyshev's Inequality, and b) Central Limit Theorem to estimate the probability that $S$ lies between:\n",
    "\n",
    "## i) 499,500 and 500,500\n",
    "## ii) 499,000 and 501,000\n",
    "## iii) 498,500 and 501,500"
   ]
  },
  {
   "cell_type": "markdown",
   "metadata": {},
   "source": [
    "_______\n",
    "\n",
    "# $n = 1m$, $p=0.5 \\implies np = 500k$ and $\\sqrt{npq} = 500$"
   ]
  },
  {
   "cell_type": "code",
   "execution_count": 1,
   "metadata": {
    "collapsed": true
   },
   "outputs": [],
   "source": [
    "from scipy.stats import norm"
   ]
  },
  {
   "cell_type": "markdown",
   "metadata": {},
   "source": [
    "____\n",
    "\n",
    "# i)\n",
    "\n",
    "# $\\frac{500}{500} = 1 \\implies$ we want to know the probability that the number of heads lands within one standard deviation\n",
    "\n",
    "## a) Chebyshev's Inequality\n",
    "\n",
    "# $P(\\left | S - 500,000 \\right | \\geq 1\\sigma) \\leq \\frac{1}{1^{2}} = 1$\n",
    "\n",
    "# $\\implies P(\\left | S - 500,000 \\right | \\leq 1\\sigma) \\geq 1-1 = 0$\n",
    "\n",
    "## b) Central Limit Theorem\n",
    "\n",
    "# $P(499,500 \\leq S \\leq 500,500) = \\int_{-1}^{1}\\phi(x)dx$ (calculated below)"
   ]
  },
  {
   "cell_type": "code",
   "execution_count": 3,
   "metadata": {
    "collapsed": false
   },
   "outputs": [
    {
     "data": {
      "text/plain": [
       "0.68268949213708585"
      ]
     },
     "execution_count": 3,
     "metadata": {},
     "output_type": "execute_result"
    }
   ],
   "source": [
    "norm.cdf(1)-norm.cdf(-1)"
   ]
  },
  {
   "cell_type": "markdown",
   "metadata": {},
   "source": [
    "_______\n",
    "\n",
    "# ii)\n",
    "\n",
    "## a)\n",
    "\n",
    "# $P(\\left | S - 500,000 \\right | \\geq 2\\sigma) \\leq \\frac{1}{2^{2}} = 0.25$\n",
    "\n",
    "# $\\implies P(\\left | S - 500,000 \\right | \\leq 2\\sigma) \\geq 1-0.25 = 0.75$\n",
    "\n",
    "## b)\n",
    "\n",
    "# $P(499,500 \\leq S \\leq 500,500) = \\int_{-2}^{2}\\phi(x)dx$ (calculated below)"
   ]
  },
  {
   "cell_type": "code",
   "execution_count": 4,
   "metadata": {
    "collapsed": false
   },
   "outputs": [
    {
     "data": {
      "text/plain": [
       "0.95449973610364158"
      ]
     },
     "execution_count": 4,
     "metadata": {},
     "output_type": "execute_result"
    }
   ],
   "source": [
    "norm.cdf(2)-norm.cdf(-2)"
   ]
  },
  {
   "cell_type": "markdown",
   "metadata": {},
   "source": [
    "_____\n",
    "\n",
    "# iii)\n",
    "\n",
    "## a)\n",
    "\n",
    "# $P(\\left | S - 500,000 \\right | \\geq 3\\sigma) \\leq \\frac{1}{3^{2}} = 0.11111$\n",
    "\n",
    "# $\\implies P(\\left | S - 500,000 \\right | \\leq 3\\sigma) \\geq 1-0.1111 = 0.88888$\n",
    "\n",
    "## b)\n",
    "\n",
    "# $P(499,500 \\leq S \\leq 500,500) = \\int_{-3}^{2}\\phi(3)dx$ (calculated below)"
   ]
  },
  {
   "cell_type": "code",
   "execution_count": 5,
   "metadata": {
    "collapsed": false
   },
   "outputs": [
    {
     "data": {
      "text/plain": [
       "0.99730020393673979"
      ]
     },
     "execution_count": 5,
     "metadata": {},
     "output_type": "execute_result"
    }
   ],
   "source": [
    "norm.cdf(3)-norm.cdf(-3)"
   ]
  }
 ],
 "metadata": {
  "kernelspec": {
   "display_name": "Python 2",
   "language": "python",
   "name": "python2"
  },
  "language_info": {
   "codemirror_mode": {
    "name": "ipython",
    "version": 2
   },
   "file_extension": ".py",
   "mimetype": "text/x-python",
   "name": "python",
   "nbconvert_exporter": "python",
   "pygments_lexer": "ipython2",
   "version": "2.7.11"
  }
 },
 "nbformat": 4,
 "nbformat_minor": 0
}
