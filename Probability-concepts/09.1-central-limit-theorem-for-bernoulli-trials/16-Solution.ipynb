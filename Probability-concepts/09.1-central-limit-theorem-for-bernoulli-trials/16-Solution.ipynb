{
 "cells": [
  {
   "cell_type": "markdown",
   "metadata": {},
   "source": [
    "# In Example 3.11, we were interested in testing the hypothesis that a new form of aspirin is effective 80% of the time, rather than 60% of the time as for standard aspirin\n",
    "\n",
    "# The new aspirin is given to $n$ people\n",
    "\n",
    "# If it is effective in $m$ or more cases, we accept the claim that the new drug is effective 80% of the time and if not, we reject the claim\n",
    "\n",
    "# Using the Central Limit Theorem, show that you can choose the number of trials $n$ and the critical value $m$ so that the probability that we reject the hypothesis when it is true is less than 0.01 and the probability that we accept it when it is false is also less than 0.01\n",
    "\n",
    "# Find the smallest value of $n$ that will suffice for this"
   ]
  },
  {
   "cell_type": "markdown",
   "metadata": {},
   "source": [
    "__________\n",
    "\n",
    "# So if the drug is truly effective 80% of the time, our $p$ value is 0.8\n",
    "\n",
    "# If the drug is given to $n$ people, that means $\\sigma = \\sqrt{\\frac{(0.8)(0.2)}{n}} = \\frac{0.4}{\\sqrt{n}}$"
   ]
  },
  {
   "cell_type": "markdown",
   "metadata": {},
   "source": [
    "# We want to solve for $m$ so that 99% of the time, our derived value of $p$ will be greater than $\\frac{m}{n}$"
   ]
  },
  {
   "cell_type": "code",
   "execution_count": 1,
   "metadata": {
    "collapsed": true
   },
   "outputs": [],
   "source": [
    "from scipy.stats import norm"
   ]
  },
  {
   "cell_type": "code",
   "execution_count": 3,
   "metadata": {
    "collapsed": false
   },
   "outputs": [
    {
     "data": {
      "text/plain": [
       "-2.3263478740408408"
      ]
     },
     "execution_count": 3,
     "metadata": {},
     "output_type": "execute_result"
    }
   ],
   "source": [
    "norm.ppf(0.01)"
   ]
  },
  {
   "cell_type": "markdown",
   "metadata": {},
   "source": [
    "# So 1% of the area under the standard normal density function lies in $(-\\infty, -2.32635]$"
   ]
  },
  {
   "cell_type": "markdown",
   "metadata": {},
   "source": [
    "_____\n",
    "\n",
    "# Now, let's assume the drug is only as effective as the normal aspirin\n",
    "\n",
    "# Then, that means that $p=0.6$\n",
    "\n",
    "# $\\implies \\sigma = \\sqrt{\\frac{(0.6)(0.4)}{n}} = \\frac{0.4899}{\\sqrt{n}}$\n",
    "\n",
    "# We want to solve for $m$ such that if we observe a $p$ estimate of $\\frac{m}{n}$ or better, we know it is more effective than regular aspirin"
   ]
  },
  {
   "cell_type": "markdown",
   "metadata": {},
   "source": [
    "_______\n",
    "\n",
    "# Combining our equations, we get:\n",
    "\n",
    "## 1. $\\frac{m}{n} = 0.8 - (2.32635)\\left(\\frac{0.4}{\\sqrt{n}}\\right)$\n",
    "\n",
    "## 2. $\\frac{m}{n} = 0.6 + (2.32635)\\left(\\frac{0.4899}{\\sqrt{n}}\\right)$\n",
    "\n",
    "# $\\implies 0.8 - (2.32635)\\left(\\frac{0.4}{\\sqrt{n}}\\right) = 0.6 + (2.32635)\\left(\\frac{0.4899}{\\sqrt{n}}\\right)$\n",
    "\n",
    "# $\\implies \\sqrt{n} = (2.32635)\\left (\\frac{0.4+0.4899}{0.2} \\right ) = 107.14$"
   ]
  },
  {
   "cell_type": "markdown",
   "metadata": {},
   "source": [
    "# $\\implies \\frac{m}{107.14} = 0.8 - (2.32635)\\frac{0.4}{\\sqrt{107.14}} \\implies m = 76.08$"
   ]
  },
  {
   "cell_type": "markdown",
   "metadata": {},
   "source": [
    "______\n",
    "\n",
    "# Therefore, if we take 108 samples and get 77 successes, the probability of falsely rejecting a working pill and falsely accepting a non-working pill are both less than 1%"
   ]
  }
 ],
 "metadata": {
  "kernelspec": {
   "display_name": "Python 2",
   "language": "python",
   "name": "python2"
  },
  "language_info": {
   "codemirror_mode": {
    "name": "ipython",
    "version": 2
   },
   "file_extension": ".py",
   "mimetype": "text/x-python",
   "name": "python",
   "nbconvert_exporter": "python",
   "pygments_lexer": "ipython2",
   "version": "2.7.11"
  }
 },
 "nbformat": 4,
 "nbformat_minor": 0
}
