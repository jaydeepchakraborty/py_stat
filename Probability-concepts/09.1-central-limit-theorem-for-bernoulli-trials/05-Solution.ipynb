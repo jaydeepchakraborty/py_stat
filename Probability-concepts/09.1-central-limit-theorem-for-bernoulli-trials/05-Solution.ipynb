{
 "cells": [
  {
   "cell_type": "markdown",
   "metadata": {},
   "source": [
    "# A rookie is brought to a baseball club on the assumption that he will have a 0.300 batting average (Recall: batting avg is the ratio of hits to at bats)\n",
    "\n",
    "# In the first year, he comes to bat 300 times and his batting average is 0.267\n",
    "\n",
    "# Assume that his at bats can be considered Bernoulli trials with $p=0.3$\n",
    "\n",
    "# Could such a low average be considered bad luck, or should he be sent back down to the minor leagues?"
   ]
  },
  {
   "cell_type": "markdown",
   "metadata": {},
   "source": [
    "________\n",
    "\n",
    "# $np = 300 \\cdot 0.3 = 90 \\implies$ he should have had 90 hits\n",
    "\n",
    "# $\\sigma = \\sqrt{npq} = \\sqrt{63} = 7.94$\n",
    "\n",
    "# If his batting avg was 0.267, that means he got $0.267\\cdot300 = 80.1$ hits\n",
    "\n",
    "# This is $\\frac{90 - 80.1}{7.94} = 1.273$ standard deviations away from the expected number of hits\n",
    "\n",
    "# The probability of him getting such a low batting average (or worse) purely by chance is equal to:\n",
    "\n",
    "# $\\int_{-\\infty}^{-1.273}\\phi(x)dx$ (calculated below)"
   ]
  },
  {
   "cell_type": "code",
   "execution_count": 1,
   "metadata": {
    "collapsed": true
   },
   "outputs": [],
   "source": [
    "from scipy.stats import norm"
   ]
  },
  {
   "cell_type": "code",
   "execution_count": 3,
   "metadata": {
    "collapsed": false
   },
   "outputs": [
    {
     "data": {
      "text/plain": [
       "0.10150902092876463"
      ]
     },
     "execution_count": 3,
     "metadata": {},
     "output_type": "execute_result"
    }
   ],
   "source": [
    "norm.cdf(-1.273)"
   ]
  },
  {
   "cell_type": "markdown",
   "metadata": {},
   "source": [
    "# That's a pretty low chance that it was simply bad luck"
   ]
  }
 ],
 "metadata": {
  "kernelspec": {
   "display_name": "Python 2",
   "language": "python",
   "name": "python2"
  },
  "language_info": {
   "codemirror_mode": {
    "name": "ipython",
    "version": 2
   },
   "file_extension": ".py",
   "mimetype": "text/x-python",
   "name": "python",
   "nbconvert_exporter": "python",
   "pygments_lexer": "ipython2",
   "version": "2.7.11"
  }
 },
 "nbformat": 4,
 "nbformat_minor": 0
}
