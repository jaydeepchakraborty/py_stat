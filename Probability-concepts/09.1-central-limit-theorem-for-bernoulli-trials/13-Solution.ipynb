{
 "cells": [
  {
   "cell_type": "markdown",
   "metadata": {},
   "source": [
    "# A noodle machine in Spumoni's spaghetti factory makes about 5% defective noodles\n",
    "\n",
    "# The noodles are then packed in crates containing 1900 each\n",
    "\n",
    "# A crate is examined and found to contain 115 defective noodles\n",
    "\n",
    "# What is the approximate probability of finding at least this many defective noodles?"
   ]
  },
  {
   "cell_type": "markdown",
   "metadata": {},
   "source": [
    "______\n",
    "\n",
    "# $\\mu = np = (1900)(0.05) = 95$\n",
    "\n",
    "# $ \\sigma = \\sqrt{npq} = \\sqrt{(1900)(0.05)(0.95)} = 9.5$\n",
    "\n",
    "# $\\frac{115 - 95}{9.5} = 2.105$"
   ]
  },
  {
   "cell_type": "code",
   "execution_count": 7,
   "metadata": {
    "collapsed": true
   },
   "outputs": [],
   "source": [
    "from scipy.stats import norm"
   ]
  },
  {
   "cell_type": "code",
   "execution_count": 8,
   "metadata": {
    "collapsed": false
   },
   "outputs": [
    {
     "data": {
      "text/plain": [
       "0.017645654031037017"
      ]
     },
     "execution_count": 8,
     "metadata": {},
     "output_type": "execute_result"
    }
   ],
   "source": [
    "1 - norm.cdf(2.105)"
   ]
  },
  {
   "cell_type": "markdown",
   "metadata": {},
   "source": [
    "# Therefore the probability of finding at least 115 defective noodles is 0.0176"
   ]
  }
 ],
 "metadata": {
  "kernelspec": {
   "display_name": "Python 2",
   "language": "python",
   "name": "python2"
  },
  "language_info": {
   "codemirror_mode": {
    "name": "ipython",
    "version": 2
   },
   "file_extension": ".py",
   "mimetype": "text/x-python",
   "name": "python",
   "nbconvert_exporter": "python",
   "pygments_lexer": "ipython2",
   "version": "2.7.11"
  }
 },
 "nbformat": 4,
 "nbformat_minor": 0
}
