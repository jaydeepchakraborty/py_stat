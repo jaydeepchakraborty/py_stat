{
 "cells": [
  {
   "cell_type": "markdown",
   "metadata": {},
   "source": [
    "# A club serves dinner to members only\n",
    "\n",
    "# They are seated at 12-seat tables\n",
    "\n",
    "# The manager observes over a long period of time that 95% of the time there are 6-9 full tables, and the remainder are evently split between <6 and >9\n",
    "\n",
    "# Assume that each member decides to come for dinner with probability $p$ and the decisions are independent\n",
    "\n",
    "# How many members are there? And what is $p$?"
   ]
  },
  {
   "cell_type": "markdown",
   "metadata": {},
   "source": [
    "_______\n",
    "\n",
    "# So we're assuming that the random variable $X$ which represents the number of guests has mean $7.5\\cdot12 = 90$ and 95% of the area under the density function is between $6\\cdot12 = 72$  and $9\\cdot12 = 108$\n",
    "\n",
    "# This means $np = 90$"
   ]
  },
  {
   "cell_type": "code",
   "execution_count": 1,
   "metadata": {},
   "outputs": [],
   "source": [
    "from scipy.stats import norm"
   ]
  },
  {
   "cell_type": "code",
   "execution_count": 19,
   "metadata": {},
   "outputs": [
    {
     "data": {
      "text/plain": [
       "-1.9599639845400545"
      ]
     },
     "execution_count": 19,
     "metadata": {},
     "output_type": "execute_result"
    }
   ],
   "source": [
    "norm.ppf(0.05/2)"
   ]
  },
  {
   "cell_type": "code",
   "execution_count": 23,
   "metadata": {},
   "outputs": [
    {
     "data": {
      "text/plain": [
       "0.06289046230737183"
      ]
     },
     "execution_count": 23,
     "metadata": {},
     "output_type": "execute_result"
    }
   ],
   "source": [
    "1-(((90-72)/1.96)**2)/90"
   ]
  },
  {
   "cell_type": "markdown",
   "metadata": {},
   "source": [
    "# This means 72 is 1.96 standard deviations below 90\n",
    "\n",
    "# $\\implies (90-72) = 1.96\\sigma \\implies \\sigma = 9.184$\n",
    "\n",
    "$ \\implies \\sqrt{npq} = 9.184 \\implies npq = 84.3459$\n",
    "\n",
    "# But we already know $np=90 \\implies 90q = 84.3459 $\n",
    "\n",
    "# $\\implies q = 0.93718 \\implies p = 0.06282$"
   ]
  },
  {
   "cell_type": "markdown",
   "metadata": {},
   "source": [
    "# Then $npq = n(0.06282)(0.93718) = 84.3459 \\implies n = 1432.66$"
   ]
  }
 ],
 "metadata": {
  "kernelspec": {
   "display_name": "Python 3",
   "language": "python",
   "name": "python3"
  },
  "language_info": {
   "codemirror_mode": {
    "name": "ipython",
    "version": 3
   },
   "file_extension": ".py",
   "mimetype": "text/x-python",
   "name": "python",
   "nbconvert_exporter": "python",
   "pygments_lexer": "ipython3",
   "version": "3.6.4"
  }
 },
 "nbformat": 4,
 "nbformat_minor": 2
}
