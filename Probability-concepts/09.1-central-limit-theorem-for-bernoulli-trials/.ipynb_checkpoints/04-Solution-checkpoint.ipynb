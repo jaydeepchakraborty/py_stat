{
 "cells": [
  {
   "cell_type": "markdown",
   "metadata": {},
   "source": [
    "# Let $S$ be the number of heads in 1m tosses of a fair coin. Use a) Chebyshev's Inequality, and b) Central Limit Theorem to estimate the probability that $S$ lies between:\n",
    "\n",
    "## i) 499,500 and 500,500\n",
    "## ii) 499,000 and 501,000\n",
    "## iii) 498,500 and 501,500"
   ]
  },
  {
   "cell_type": "markdown",
   "metadata": {},
   "source": [
    "_______\n",
    "\n",
    "# $n = 1m$, $p=0.5 \\implies np = 500k$ and $\\sqrt{npq} = 5000$"
   ]
  },
  {
   "cell_type": "code",
   "execution_count": 1,
   "metadata": {
    "collapsed": true
   },
   "outputs": [],
   "source": [
    "from scipy.stats import norm"
   ]
  },
  {
   "cell_type": "markdown",
   "metadata": {},
   "source": [
    "____\n",
    "\n",
    "# i)\n",
    "\n",
    "# $\\frac{500}{5000} = 0.1 \\implies$ we want to know the probability that the number of heads lands within one standard deviation\n",
    "\n",
    "# $\\implies P(499,500 \\leq S \\leq 500,500) = \\int_{-0.1}^{0.1}\\phi(x)dx$"
   ]
  },
  {
   "cell_type": "code",
   "execution_count": 2,
   "metadata": {
    "collapsed": false
   },
   "outputs": [
    {
     "data": {
      "text/plain": [
       "0.079655674554057976"
      ]
     },
     "execution_count": 2,
     "metadata": {},
     "output_type": "execute_result"
    }
   ],
   "source": [
    "norm.cdf(0.1)-norm.cdf(-0.1)"
   ]
  }
 ],
 "metadata": {
  "kernelspec": {
   "display_name": "Python 2",
   "language": "python",
   "name": "python2"
  },
  "language_info": {
   "codemirror_mode": {
    "name": "ipython",
    "version": 2
   },
   "file_extension": ".py",
   "mimetype": "text/x-python",
   "name": "python",
   "nbconvert_exporter": "python",
   "pygments_lexer": "ipython2",
   "version": "2.7.11"
  }
 },
 "nbformat": 4,
 "nbformat_minor": 0
}
