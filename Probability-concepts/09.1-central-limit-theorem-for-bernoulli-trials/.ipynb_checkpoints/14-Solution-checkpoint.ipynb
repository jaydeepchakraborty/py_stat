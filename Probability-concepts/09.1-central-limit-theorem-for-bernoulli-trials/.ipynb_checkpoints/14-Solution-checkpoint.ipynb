{
 "cells": [
  {
   "cell_type": "markdown",
   "metadata": {},
   "source": [
    "# A restaurant feeds 400 customers per day\n",
    "\n",
    "# On average, 20% of customers order apple pie\n",
    "\n",
    "## a) Give the 95% confidence interval for the number of pieces of apple pie ordered on a given day\n",
    "\n",
    "## b) How many customers must the restaurant have, on average, to be at least 95% sure that the number of customers ordering pie on that day falls in the 19-21% range?"
   ]
  },
  {
   "cell_type": "markdown",
   "metadata": {},
   "source": [
    "________\n",
    "\n",
    "# a)\n",
    "\n",
    "# $\\mu = np = (400)(0.2) = 80$\n",
    "\n",
    "# $\\sigma = \\sqrt{(400)(0.2)(0.8)} = \\sqrt{64} = 8$\n",
    "\n",
    "# For the standard normal distribution, 95% of points lie within 1.96 standard deviations of the mean\n",
    "\n",
    "# $\\implies \\left ( \\text{Confidence Interval}\\right ) = 80 \\pm 1.96(8) = (64.32, 95.68)$\n",
    "\n",
    "# This means the 95% confidence interval is approximately 64  to 96 orders of pie"
   ]
  },
  {
   "cell_type": "markdown",
   "metadata": {},
   "source": [
    "_____\n",
    "\n",
    "# b)\n",
    "\n",
    "# We can look at this through proportions\n",
    "\n",
    "# $p = 0.2$\n",
    "\n",
    "# $\\sigma = \\sqrt{(0.2)(0.8)}\\cdot\\frac{1}{\\sqrt{n}} = \\frac{0.4}{\\sqrt{n}}$\n",
    "\n",
    "# $\\implies 0.19 = 0.2 - 1.96\\cdot\\frac{0.4}{\\sqrt{n}} \\implies \\frac{0.19 - 0.2}{-1.96} = \\frac{0.4}{\\sqrt{n}}$\n",
    "\n",
    "# $\\implies \\sqrt{n} = 78.4 \\implies n = 6146.56 \\approx 6147$"
   ]
  }
 ],
 "metadata": {
  "kernelspec": {
   "display_name": "Python 2",
   "language": "python",
   "name": "python2"
  },
  "language_info": {
   "codemirror_mode": {
    "name": "ipython",
    "version": 2
   },
   "file_extension": ".py",
   "mimetype": "text/x-python",
   "name": "python",
   "nbconvert_exporter": "python",
   "pygments_lexer": "ipython2",
   "version": "2.7.11"
  }
 },
 "nbformat": 4,
 "nbformat_minor": 0
}
