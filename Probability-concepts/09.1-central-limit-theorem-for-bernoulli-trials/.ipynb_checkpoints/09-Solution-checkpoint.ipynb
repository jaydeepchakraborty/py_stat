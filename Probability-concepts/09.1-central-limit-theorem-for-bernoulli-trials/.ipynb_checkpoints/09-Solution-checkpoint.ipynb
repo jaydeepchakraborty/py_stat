{
 "cells": [
  {
   "cell_type": "markdown",
   "metadata": {},
   "source": [
    "# Let $S_{n}$ be the number of successes in $n$ Bernoulli trials with $p=0.8$\n",
    "\n",
    "# Let $A_{n} = \\frac{S_{n}}{n}$ be the average number of successes in the $n$-trials (i.e. the observed probabilty of success)\n",
    "\n",
    "# In each case, give the value of the limit and the reason why:\n",
    "\n",
    "## a) $\\lim_{n\\rightarrow \\infty}P(A_{n}=0.8)$\n",
    "\n",
    "## b) $\\lim_{n\\rightarrow \\infty}P(0.7n < S_{n} < 0.9n)$\n",
    "\n",
    "## c) $\\lim_{n\\rightarrow \\infty}P(S_{n} < 0.8n + 0.8\\sqrt{n})$\n",
    "\n",
    "## d) $\\lim_{n\\rightarrow \\infty}P(0.79 < A_{n} <0.81)$"
   ]
  },
  {
   "cell_type": "markdown",
   "metadata": {},
   "source": [
    "____\n",
    "\n",
    "# a)\n",
    "\n",
    "# As $n\\rightarrow \\infty$, $A_{n}$ becomes a continuous random variable\n",
    "\n",
    "# This means we measure the probability that $a \\leq A_{n} \\leq b$ since the probability that it equals any single value is infinitesimal \n",
    "\n",
    "# Therefore $\\lim_{n\\rightarrow \\infty}P(A_{n}=0.8) = 0$"
   ]
  },
  {
   "cell_type": "markdown",
   "metadata": {},
   "source": [
    "___\n",
    "\n",
    "# b)\n",
    "\n",
    "# $\\lim_{n\\rightarrow \\infty}P(0.7n < S_{n} < 0.9n) = \\lim_{n\\rightarrow \\infty}P(0.7 < A_{n} < 0.9)$\n",
    "\n",
    "# The Law of Large Numbers states that $\\lim_{n\\rightarrow \\infty} P\\left ( \\left |A_{n} - \\mu \\right | < \\epsilon \\right ) = 1$\n",
    "\n",
    "# Therefore $\\lim_{n\\rightarrow \\infty}P(0.7 < A_{n} < 0.9) = 1$"
   ]
  },
  {
   "cell_type": "markdown",
   "metadata": {},
   "source": [
    "_____\n",
    "\n",
    "# c)\n",
    "\n",
    "# $\\lim_{n\\rightarrow \\infty}P(S_{n} < 0.8n + 0.8\\sqrt{n}) = \\lim_{n\\rightarrow \\infty} P(A_{n} - 0.8 < \\frac{0.8}{\\sqrt{n}})$\n",
    "\n",
    "# We know that $V(S_{n}) = npq \\implies V(A_{n}) = \\frac{pq}{n} = \\frac{0.16}{n} \\implies \\sigma_{A_{n}} = \\frac{0.4}{\\sqrt{n}}$\n",
    "\n",
    "# This means $\\frac{0.8}{\\sqrt{n}} = 2\\sigma_{A_{n}}$\n",
    "\n",
    "# The Central Limit Theorem says:\n",
    "\n",
    "# $\\lim_{n\\rightarrow \\infty} P(a\\sigma \\leq A_{n} - \\mu \\leq b\\sigma) = \\int_{a}^{b}\\phi(x)dx$\n",
    "\n",
    "# $\\implies \\lim_{n\\rightarrow \\infty} P(A_{n} - 0.8 < \\frac{0.8}{\\sqrt{n}}) = \\int_{-\\infty}^{2}\\phi(x)dx$"
   ]
  },
  {
   "cell_type": "code",
   "execution_count": 1,
   "metadata": {
    "collapsed": true
   },
   "outputs": [],
   "source": [
    "from scipy.stats import norm"
   ]
  },
  {
   "cell_type": "code",
   "execution_count": 2,
   "metadata": {
    "collapsed": false
   },
   "outputs": [
    {
     "data": {
      "text/plain": [
       "0.97724986805182079"
      ]
     },
     "execution_count": 2,
     "metadata": {},
     "output_type": "execute_result"
    }
   ],
   "source": [
    "norm.cdf(2)"
   ]
  },
  {
   "cell_type": "markdown",
   "metadata": {},
   "source": [
    "# Therefore $\\lim_{n\\rightarrow \\infty} P(A_{n} - 0.8 < \\frac{0.8}{\\sqrt{n}}) = 0.977$"
   ]
  },
  {
   "cell_type": "markdown",
   "metadata": {},
   "source": [
    "____\n",
    "\n",
    "# d)\n",
    "\n",
    "# 1, for the same reason as b)"
   ]
  }
 ],
 "metadata": {
  "kernelspec": {
   "display_name": "Python 2",
   "language": "python",
   "name": "python2"
  },
  "language_info": {
   "codemirror_mode": {
    "name": "ipython",
    "version": 2
   },
   "file_extension": ".py",
   "mimetype": "text/x-python",
   "name": "python",
   "nbconvert_exporter": "python",
   "pygments_lexer": "ipython2",
   "version": "2.7.11"
  }
 },
 "nbformat": 4,
 "nbformat_minor": 2
}
