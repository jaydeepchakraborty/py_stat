{
 "cells": [
  {
   "cell_type": "markdown",
   "metadata": {},
   "source": [
    "# Let $S_{200}$ be the number of heads that turn up in 200 tosses of a fair coin. Estimate:\n",
    "\n",
    "## a) $P(S_{200}=100)$\n",
    "\n",
    "## b) $P(S_{200}=90)$\n",
    "\n",
    "## c) $P(S_{200}=80)$"
   ]
  },
  {
   "cell_type": "markdown",
   "metadata": {},
   "source": [
    "_____\n",
    "\n",
    "# $np = 200 \\cdot 0.5 = 100$\n",
    "\n",
    "# $\\sqrt{npq} = \\sqrt{200 \\cdot 0.5 \\cdot 0.5} = 5\\sqrt{2}$"
   ]
  },
  {
   "cell_type": "markdown",
   "metadata": {},
   "source": [
    "_____\n",
    "\n",
    "# a)\n",
    "\n",
    "# $P(S_{200}=100) = \\phi(0) = \\frac{1}{\\sqrt{2\\pi}}e^{\\frac{-0^{2}}{2}} = \\frac{1}{\\sqrt{2\\pi}} = 0.3989422804014327$"
   ]
  },
  {
   "cell_type": "markdown",
   "metadata": {},
   "source": [
    "_______\n",
    "# b)\n",
    "\n",
    "# $P(S_{200}=90) = \\phi(\\frac{-10}{2\\sqrt{5}}) = \\frac{1}{\\sqrt{2\\pi}}e^{-5} = 0.00269$"
   ]
  },
  {
   "cell_type": "markdown",
   "metadata": {},
   "source": [
    "# c)\n",
    "\n",
    "# $P(S_{200}=80) = \\phi(\\frac{-20}{2\\sqrt{5}}) = \\frac{1}{\\sqrt{2\\pi}}e^{-20} = 1.811195150951055e-05$"
   ]
  }
 ],
 "metadata": {
  "kernelspec": {
   "display_name": "Python 2",
   "language": "python",
   "name": "python2"
  },
  "language_info": {
   "codemirror_mode": {
    "name": "ipython",
    "version": 2
   },
   "file_extension": ".py",
   "mimetype": "text/x-python",
   "name": "python",
   "nbconvert_exporter": "python",
   "pygments_lexer": "ipython2",
   "version": "2.7.11"
  }
 },
 "nbformat": 4,
 "nbformat_minor": 0
}
