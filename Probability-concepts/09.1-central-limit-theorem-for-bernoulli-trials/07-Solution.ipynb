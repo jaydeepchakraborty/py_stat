{
 "cells": [
  {
   "cell_type": "markdown",
   "metadata": {},
   "source": [
    "# Assume that, as in [Example 9.3](summary-of-chapter.ipynb#Example), Dartmouth admits 1750 students\n",
    "\n",
    "# What is the probability of too many acceptances?"
   ]
  },
  {
   "cell_type": "markdown",
   "metadata": {},
   "source": [
    "______\n",
    "\n",
    "# Recall: $p = 0.6$ and in this case $n=1750 \\implies np = (1750)(0.6) = 1050$\n",
    "\n",
    "# $\\implies \\sigma = \\sqrt{npq} = \\sqrt{420} = 20.5$\n",
    "\n",
    "# They can only accomodate 1060 freshmen\n",
    "\n",
    "# If they have 10 students more than the expected amount ($\\frac{10}{20.5} = 0.488$ standard deviations) they'll have too many"
   ]
  },
  {
   "cell_type": "code",
   "execution_count": 2,
   "metadata": {},
   "outputs": [],
   "source": [
    "from scipy.stats import norm"
   ]
  },
  {
   "cell_type": "code",
   "execution_count": 5,
   "metadata": {},
   "outputs": [
    {
     "data": {
      "text/plain": [
       "0.31277492053570766"
      ]
     },
     "execution_count": 5,
     "metadata": {},
     "output_type": "execute_result"
    }
   ],
   "source": [
    "1-norm.cdf(0.488)"
   ]
  },
  {
   "cell_type": "markdown",
   "metadata": {},
   "source": [
    "# Therefore $P(\\text{Too many acceptances}) = 0.313$"
   ]
  }
 ],
 "metadata": {
  "kernelspec": {
   "display_name": "Python 3",
   "language": "python",
   "name": "python3"
  },
  "language_info": {
   "codemirror_mode": {
    "name": "ipython",
    "version": 3
   },
   "file_extension": ".py",
   "mimetype": "text/x-python",
   "name": "python",
   "nbconvert_exporter": "python",
   "pygments_lexer": "ipython3",
   "version": "3.6.4"
  }
 },
 "nbformat": 4,
 "nbformat_minor": 2
}
