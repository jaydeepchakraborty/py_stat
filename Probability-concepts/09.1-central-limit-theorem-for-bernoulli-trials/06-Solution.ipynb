{
 "cells": [
  {
   "cell_type": "markdown",
   "metadata": {},
   "source": [
    "# Once upon a time, there were two railway trains competing for the passenger traffic of 1,000 people leaving from Chicago at the same hour and going to Los Angeles\n",
    "\n",
    "# Assume that passengers are equally likely to choose each train\n",
    "\n",
    "# How many seats must a train have to assure a probability of 0.99 or better of having a seat for each passenger?"
   ]
  },
  {
   "cell_type": "markdown",
   "metadata": {},
   "source": [
    "_______\n",
    "\n",
    "# If passengers are equally likely to choose each train, $p = 0.5$\n",
    "\n",
    "# That means the expected number of passengers on each trail is $np = 500$\n",
    "\n",
    "# Then $\\sigma = \\sqrt{npq} = \\sqrt{250} = 5\\sqrt{10} = 15.81$\n",
    "\n",
    "# We want to find $x$ such that $P(X\\leq x) = 0.99$"
   ]
  },
  {
   "cell_type": "code",
   "execution_count": 1,
   "metadata": {
    "collapsed": true
   },
   "outputs": [],
   "source": [
    "from scipy.stats import norm"
   ]
  },
  {
   "cell_type": "code",
   "execution_count": 2,
   "metadata": {
    "collapsed": false
   },
   "outputs": [
    {
     "data": {
      "text/plain": [
       "2.3263478740408408"
      ]
     },
     "execution_count": 2,
     "metadata": {},
     "output_type": "execute_result"
    }
   ],
   "source": [
    "norm.ppf(0.99)"
   ]
  },
  {
   "cell_type": "markdown",
   "metadata": {},
   "source": [
    "# This means that if we have $\\mu + 2.32635\\sigma$ seats on the train, we've satisfied our condition\n",
    "\n",
    "# $x = 500 + 2.32635\\cdot15.81 = 536.78 \\approx 537$"
   ]
  }
 ],
 "metadata": {
  "kernelspec": {
   "display_name": "Python 2",
   "language": "python",
   "name": "python2"
  },
  "language_info": {
   "codemirror_mode": {
    "name": "ipython",
    "version": 2
   },
   "file_extension": ".py",
   "mimetype": "text/x-python",
   "name": "python",
   "nbconvert_exporter": "python",
   "pygments_lexer": "ipython2",
   "version": "2.7.11"
  }
 },
 "nbformat": 4,
 "nbformat_minor": 0
}
