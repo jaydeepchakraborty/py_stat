{
 "cells": [
  {
   "cell_type": "markdown",
   "metadata": {},
   "source": [
    "# Show that:\n",
    "\n",
    "# $b(n,p,j) = \\frac{p}{q}\\left ( \\frac{n-j+1}{j}\\right ) \\cdot b(n,p,j-1)$"
   ]
  },
  {
   "cell_type": "markdown",
   "metadata": {},
   "source": [
    "____\n",
    "### We know that $b(n,p,j) = \\binom{n}{j}\\cdot p^{j}\\cdot n^{n-j} = \\frac{n!}{j!(n-j)!}\\cdot p^{j}\\cdot q^{n-j}$\n",
    "\n",
    "### And $b(n,p,j-1) = \\frac{n!}{(j-1)!(n-j+1)!}\\cdot p^{j-1}\\cdot q^{n-j+1}$\n",
    "\n",
    "### So we can expand $b(n,p,j)$ as:\n",
    "\n",
    "### $b(n,p,j) = \\frac{n!}{j!(n-j)!}\\cdot p^{j}\\cdot q^{n-j} = \\frac{n!}{j\\cdot(j-1)!\\frac{1}{n-j+1}\\cdot(n-j+1)!}p\\cdot p^{j-1}\\cdot \\frac{1}{q} \\cdot q^{n-j+1}$\n",
    "\n",
    "### $= \\frac{1}{j} \\cdot (n-j+1) \\cdot p \\cdot \\frac{1}{q} \\frac{n!}{(j-1)!(n-j+1)!}p^{j-1}q^{n-j+1} = \\frac{p}{q}\\left ( \\frac{n-j+1}{j}\\right ) \\frac{n!}{(j-1)!(n-j+1)!}p^{j-1}q^{n-j+1}$\n",
    "\n",
    "### $= \\frac{p}{q}\\left ( \\frac{n-j+1}{j}\\right )\\cdot b(n,p,j-1)$"
   ]
  }
 ],
 "metadata": {
  "kernelspec": {
   "display_name": "Python 2",
   "language": "python",
   "name": "python2"
  },
  "language_info": {
   "codemirror_mode": {
    "name": "ipython",
    "version": 2
   },
   "file_extension": ".py",
   "mimetype": "text/x-python",
   "name": "python",
   "nbconvert_exporter": "python",
   "pygments_lexer": "ipython2",
   "version": "2.7.11"
  }
 },
 "nbformat": 4,
 "nbformat_minor": 0
}
