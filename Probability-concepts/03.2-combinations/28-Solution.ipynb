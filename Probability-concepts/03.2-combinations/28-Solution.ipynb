{
 "cells": [
  {
   "cell_type": "markdown",
   "metadata": {},
   "source": [
    "# In Example 3.11, assume the alternative hypothesis is that $p=0.8$ and that it is desired to have a probability of Type I and Type II errors both less than 0.01\n",
    "\n",
    "# Use the program PowerCurve to determine values of $n$ and $m$ that will achieve this\n",
    "\n",
    "# Choose $n$ as small as possible"
   ]
  },
  {
   "cell_type": "markdown",
   "metadata": {},
   "source": [
    "___\n",
    "# Review of Example 3.11\n",
    "\n",
    "### Suppose that ordinary aspirin has been found effective against headaches 60% of the time, and that a drug company claims that its new aspirin with a special additive is more effective\n",
    "\n",
    "### $H_{0} : p=0.6$; $H_{A}: p>0.6$\n",
    "\n",
    "### We give the aspirin to $n$ people, and we want to find a number $m$ such that we reject the null hypothesis is $m$ or more people are cured\n",
    "\n",
    "### We define a function $\\alpha(p) = \\sum_{m}^{n}b(n,p,k)$\n",
    "\n",
    "### Since $\\alpha(p)$ gives the probability of getting a $k$ value between $m$ and $n$, we know that it is equal to the probability of a Type I error\n",
    "\n",
    "### But for a fixed $n$, if we increase the $m$ value to try and minimize the Type I error, we risk increasing the probability of Type II error (i.e. if we make the requirements for concluding the drug is effective more intense, we make it more likely that we'll say it's not effective - even if it truly is)\n",
    "\n",
    "### So let's suppose the additive actually improves the $p$ value to 0.8\n",
    "\n",
    "### Then, we want to pick an $n, m$ pair such that if we get $m$ successes or more, we know it's really unlikely to have so many successes simply by chance\n",
    "\n",
    "### So for our $p$ value, we define $\\beta(p) = 1- \\alpha(p)$ to give us our probability of Type II error\n",
    "\n",
    "### The PowerCurve script plots the values of $\\alpha(p)$ and $\\beta(p)$"
   ]
  },
  {
   "cell_type": "code",
   "execution_count": 13,
   "metadata": {
    "collapsed": false
   },
   "outputs": [],
   "source": [
    "from math import factorial\n",
    "import numpy as np\n",
    "import matplotlib.pyplot as plt\n",
    "%matplotlib inline\n",
    "plt.rcParams['figure.figsize'] = 10, 10"
   ]
  },
  {
   "cell_type": "code",
   "execution_count": 2,
   "metadata": {
    "collapsed": true
   },
   "outputs": [],
   "source": [
    "def b(n,p,k):\n",
    "    return (p**k)*((1-p)**(n-k))*(factorial(n)/((factorial(k)*factorial(n-k))))"
   ]
  },
  {
   "cell_type": "code",
   "execution_count": 3,
   "metadata": {
    "collapsed": true
   },
   "outputs": [],
   "source": [
    "def alpha(n,p,m):\n",
    "    vals = []\n",
    "    for k in range(m, n+1):\n",
    "        val = b(n,p,k)\n",
    "        vals.append(val)\n",
    "    return sum(vals)"
   ]
  },
  {
   "cell_type": "code",
   "execution_count": 4,
   "metadata": {
    "collapsed": true
   },
   "outputs": [],
   "source": [
    "def beta(n,p,m):\n",
    "    return 1-alpha(n,p,m)"
   ]
  },
  {
   "cell_type": "code",
   "execution_count": 5,
   "metadata": {
    "collapsed": true
   },
   "outputs": [],
   "source": [
    "b = np.vectorize(b)\n",
    "alpha = np.vectorize(alpha)\n",
    "beta = np.vectorize(beta)"
   ]
  },
  {
   "cell_type": "code",
   "execution_count": 15,
   "metadata": {
    "collapsed": true
   },
   "outputs": [],
   "source": [
    "def PowerCurve(m1, m2, n, p_min):\n",
    "    x = np.arange(p_min, 1, step = 0.01)\n",
    "    y1 = alpha(n, x, m1)\n",
    "    y2 = alpha(n, x, m2) \n",
    "    plt.plot(x,y1, label = 'm = '+str(m1))\n",
    "    plt.plot(x,y2, label = 'm = '+str(m2))\n",
    "    plt.legend()\n",
    "    x_temp = np.arange(0.6, 0.81, step = 0.01)\n",
    "    plt.fill_between(x_temp, 0.95*np.ones(shape = x_temp.shape), 0.05*np.ones(shape = x_temp.shape), alpha = 0.3)\n",
    "    plt.show()"
   ]
  },
  {
   "cell_type": "code",
   "execution_count": 16,
   "metadata": {
    "collapsed": false
   },
   "outputs": [
    {
     "data": {
      "image/png": "[encoded data removed]",
      "text/plain": [
       "<matplotlib.figure.Figure at 0xbfac3c8>"
      ]
     },
     "metadata": {},
     "output_type": "display_data"
    }
   ],
   "source": [
    "PowerCurve(69, 73, 100, 0.4)"
   ]
  },
  {
   "cell_type": "markdown",
   "metadata": {},
   "source": [
    "___\n",
    "# Now, onto Exercise 28\n",
    "\n",
    "- We want the probability of Type I error and Type II error to both be less than 0.01\n",
    "\n",
    "- Therefore, we need to solve for $n$ and $m$ such that\n",
    "\n",
    "\n",
    "1. $\\alpha(0.6) < 0.01$\n",
    "2. $\\beta(0.8) < 0.01$\n",
    "\n",
    "\n",
    "- We can write a loop for this"
   ]
  },
  {
   "cell_type": "code",
   "execution_count": 25,
   "metadata": {
    "collapsed": true
   },
   "outputs": [],
   "source": [
    "def checker(n, p1, p2, type_1, type_2):\n",
    "    for m in range(n+1):\n",
    "        if alpha(n, p1, m)<type_1:\n",
    "            if beta(n,p2,m)<type_2:\n",
    "                return n, m\n",
    "    return 'Fail'"
   ]
  },
  {
   "cell_type": "code",
   "execution_count": 26,
   "metadata": {
    "collapsed": false
   },
   "outputs": [
    {
     "name": "stdout",
     "output_type": "stream",
     "text": [
      "(111, 79)\n"
     ]
    }
   ],
   "source": [
    "for n in range(100, 1000):\n",
    "    checked = checker(n, 0.6, 0.8, 0.01, 0.01)\n",
    "    if checked!='Fail':\n",
    "        print(checked)\n",
    "        break"
   ]
  }
 ],
 "metadata": {
  "kernelspec": {
   "display_name": "Python 2",
   "language": "python",
   "name": "python2"
  },
  "language_info": {
   "codemirror_mode": {
    "name": "ipython",
    "version": 2
   },
   "file_extension": ".py",
   "mimetype": "text/x-python",
   "name": "python",
   "nbconvert_exporter": "python",
   "pygments_lexer": "ipython2",
   "version": "2.7.11"
  }
 },
 "nbformat": 4,
 "nbformat_minor": 0
}
