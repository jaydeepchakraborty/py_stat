{
 "cells": [
  {
   "cell_type": "markdown",
   "metadata": {},
   "source": [
    "# A gin hand consists of 10 cards from a deck of 52\n",
    "\n",
    "# Find the probability that a gin hand has:\n",
    "\n",
    "## a) all 10 cards of the same suit\n",
    "\n",
    "## b) exactly 4 cards in one suit, and 3 in two other suits\n",
    "\n",
    "## c) a 4, 3, 2, 1 distribution of suits"
   ]
  },
  {
   "cell_type": "markdown",
   "metadata": {},
   "source": [
    "___\n",
    "# a)\n",
    "\n",
    "### For a given suit, the probability of getting all 10 in the same suit is $(\\frac{1}{4})^{10} = 0.00000095367$\n",
    "\n",
    "### Since there are 4 suits, there are 4 ways that this can happen so $P(\\text{All 10 same suit}) = 0.0000038147$"
   ]
  },
  {
   "cell_type": "markdown",
   "metadata": {},
   "source": [
    "___\n",
    "# b) \n",
    "\n",
    "### The total number of possible hands is equal to $\\binom{52}{10}$\n",
    "\n",
    "### For the first suit, the number of possible ways the cards can be dealt is equal to $\\binom{13}{4}$, and since any of the 4 suits can have 4 cards drawn, there are $\\binom{4}{1}\\binom{13}{4}$ ways this can happen\n",
    "\n",
    "### For the remaining two suits, the number of possible ways is $\\binom{3}{2}\\binom{13}{3}\\binom{13}{3}$\n",
    "\n",
    "## So the total number of ways this hand can come up is equal to $\\binom{4}{1}\\binom{13}{4}\\binom{3}{2}\\binom{13}{3}\\binom{13}{3}$\n",
    "\n",
    "## Therefore $P(\\text{4 cards one suit, 3 in two others}) = \\frac{\\binom{4}{1}\\binom{13}{4}\\binom{3}{2}\\binom{13}{3}\\binom{13}{3}}{\\binom{52}{10}}$"
   ]
  },
  {
   "cell_type": "code",
   "execution_count": 1,
   "metadata": {
    "collapsed": true
   },
   "outputs": [],
   "source": [
    "from math import factorial"
   ]
  },
  {
   "cell_type": "code",
   "execution_count": 7,
   "metadata": {
    "collapsed": false
   },
   "outputs": [],
   "source": [
    "def choose(n, k):\n",
    "    numerator = factorial(n)\n",
    "    denominator = factorial(n-k)*factorial(k)\n",
    "    return numerator/denominator"
   ]
  },
  {
   "cell_type": "code",
   "execution_count": 11,
   "metadata": {
    "collapsed": false
   },
   "outputs": [
    {
     "data": {
      "text/plain": [
       "0.04436211160238034"
      ]
     },
     "execution_count": 11,
     "metadata": {},
     "output_type": "execute_result"
    }
   ],
   "source": [
    "choose(4,1)*choose(13,4)*choose(3,2)*choose(13,3)*choose(13,3)/float(choose(52,10))"
   ]
  },
  {
   "cell_type": "markdown",
   "metadata": {},
   "source": [
    "___\n",
    "# c)\n",
    "\n",
    "### $P(\\text{4, 3, 2, 1 suit distribution}) = \\frac{\\binom{4}{1}\\binom{13}{4}\\binom{3}{1}\\binom{13}{3}\\binom{2}{1}\\binom{13}{2}\\binom{1}{1}\\binom{13}{1}}{\\binom{52}{10}}$"
   ]
  },
  {
   "cell_type": "code",
   "execution_count": 12,
   "metadata": {
    "collapsed": false
   },
   "outputs": [
    {
     "data": {
      "text/plain": [
       "0.3145677004532424"
      ]
     },
     "execution_count": 12,
     "metadata": {},
     "output_type": "execute_result"
    }
   ],
   "source": [
    "choose(4,1)*choose(13,4)*choose(3,1)*choose(13,3)*choose(2,1)*choose(13,2)*choose(1,1)*choose(13,1)/float(choose(52,10))"
   ]
  }
 ],
 "metadata": {
  "kernelspec": {
   "display_name": "Python 2",
   "language": "python",
   "name": "python2"
  },
  "language_info": {
   "codemirror_mode": {
    "name": "ipython",
    "version": 2
   },
   "file_extension": ".py",
   "mimetype": "text/x-python",
   "name": "python",
   "nbconvert_exporter": "python",
   "pygments_lexer": "ipython2",
   "version": "2.7.11"
  }
 },
 "nbformat": 4,
 "nbformat_minor": 0
}
