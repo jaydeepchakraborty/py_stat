{
 "cells": [
  {
   "cell_type": "markdown",
   "metadata": {},
   "source": [
    "# A small boy is lost coming down Mount Washington. \n",
    "\n",
    "# The leader of the search team estimates that there is a probability $p$ that he came down on the east side and a probability $1-p$ that he came down on the west side. \n",
    "\n",
    "# He has $n$ people in his search team who will search independently and, if the boy is on the side being searched, each member will find the boy with probability $u$. \n",
    "\n",
    "# Determine how he should divide the $n$ people into two groups to search the two sides of the mountain so that he will have the highest probability of finding the boy. \n",
    "\n",
    "# How does this depend on u?"
   ]
  },
  {
   "cell_type": "markdown",
   "metadata": {},
   "source": [
    "___\n",
    "\n",
    "### Let $n_{e}$ be the number of people assigned to search the east side, and $n_{w} = n - n_{e}$ be the number of people assigned to the west\n",
    "\n",
    "### Each searcher can be treated as a Bernoulli trial, where success is finding the boy and the probability of success is $u$\n",
    "\n",
    "### So\n",
    "\n",
    "#### $P_{e} = P(\\text{(East Search Party Finding the Boy)|(Boy is on East Side)}) = 1 - b(n_{e}, u, 0) = 1 - (1-u)^{n_{e}}$\n",
    "\n",
    "#### $P_{w} = P(\\text{(West Search Party Finding the Boy)|(Boy is on West Side)}) = 1 - b(n_{w}, u, 0) = 1 - (1-u)^{n_{w}}$\n",
    "\n",
    "#### Let $(1-u) = q$ so $P_{e} = 1-q^{n_{e}}$ and $P_{w} = 1-q^{n_{w}} = 1-q^{n - n_{e}}$\n",
    "\n",
    "### Therefore\n",
    "\n",
    "### $P(\\text{Finding the boy}) = p\\cdot P_{e} + (1-p) \\cdot P_{w} = p \\cdot (1-q^{n_{e}}) + (1-p) \\cdot (1-q^{n - n_{e}})$\n",
    "\n",
    "### $ = p - pq^{n_{e}} + (1-p) - (1-p)q^{n - n_{e}} = 1 - pq^{n_{e}} - (1-p)q^{n - n_{e}}$"
   ]
  },
  {
   "cell_type": "markdown",
   "metadata": {},
   "source": []
  }
 ],
 "metadata": {
  "kernelspec": {
   "display_name": "Python 2",
   "language": "python",
   "name": "python2"
  },
  "language_info": {
   "codemirror_mode": {
    "name": "ipython",
    "version": 2
   },
   "file_extension": ".py",
   "mimetype": "text/x-python",
   "name": "python",
   "nbconvert_exporter": "python",
   "pygments_lexer": "ipython2",
   "version": "2.7.11"
  }
 },
 "nbformat": 4,
 "nbformat_minor": 0
}
