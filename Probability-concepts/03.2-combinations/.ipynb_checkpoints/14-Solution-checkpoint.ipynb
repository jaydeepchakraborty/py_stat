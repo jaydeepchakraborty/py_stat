{
 "cells": [
  {
   "cell_type": "markdown",
   "metadata": {},
   "source": [
    "## Let $b(2n, 0.5, n)$ be the probability that in $2n$ tosses of a fair coin, exactly $n$ heads turn up\n",
    "\n",
    "## Using Stirling's formula, show that $b(2n, 0.5, n)$ ~$ \\frac{1}{\\sqrt{\\pi n}}$\n",
    "\n",
    "## Compare the results for n=10 to n=25"
   ]
  },
  {
   "cell_type": "markdown",
   "metadata": {},
   "source": [
    "___\n",
    "\n",
    "# Stirling's formula: $n!$ ~ $\\sqrt{2\\pi n}(\\frac{n}{e})^{n}$\n",
    "\n",
    "### If we plug this approximation for $n!$ into $b(2n, 0.5, n)$, we get\n",
    "\n",
    "## $b(2n, 0.5, n) = \\binom{2n}{n}0.5^{n}0.5^{2n-n} = \\frac{2n!}{n!(2n-n)!}0.5^{2n} = \\frac{\\sqrt{2\\pi 2n}(\\frac{2n}{e})^{2n}}{(\\sqrt{2\\pi n}(\\frac{n}{e})^{n})^{2}}0.5^{2n}$"
   ]
  },
  {
   "cell_type": "markdown",
   "metadata": {},
   "source": [
    "##  = $\\frac{\\sqrt{4\\pi n}(\\frac{2n}{e})^{2n}}{2\\pi n(\\frac{n}{e})^{2n}}0.5^{2n} = \\frac{\\sqrt{2^{2}\\pi n}(2)^{2n}}{2\\pi n}0.5^{2n} = \\frac{2\\sqrt{\\pi n}}{2\\pi n} \\cdot 2^{2n} \\cdot 0.5^{2n} = \\frac{1}{\\sqrt{\\pi n}} \\cdot (2\\cdot 0.5)^{2n} = \\frac{1}{\\sqrt{\\pi n}}$"
   ]
  },
  {
   "cell_type": "code",
   "execution_count": 1,
   "metadata": {
    "collapsed": true
   },
   "outputs": [],
   "source": [
    "def Stirlings_formula(n):\n",
    "    return 1/np.sqrt(np.pi*n)"
   ]
  },
  {
   "cell_type": "code",
   "execution_count": 7,
   "metadata": {
    "collapsed": true
   },
   "outputs": [],
   "source": [
    "from math import factorial\n",
    "import numpy as np"
   ]
  },
  {
   "cell_type": "code",
   "execution_count": 3,
   "metadata": {
    "collapsed": true
   },
   "outputs": [],
   "source": [
    "def choose(n, r):\n",
    "    numerator = float(factorial(n))\n",
    "    denominator = factorial(r)*factorial(n-r)\n",
    "    \n",
    "    return numerator/denominator"
   ]
  },
  {
   "cell_type": "code",
   "execution_count": 4,
   "metadata": {
    "collapsed": true
   },
   "outputs": [],
   "source": [
    "def BinomialProbabilities(n, p, kmin, kmax):\n",
    "    list_values = []\n",
    "    for k in range(kmin, kmax+1):\n",
    "        val = choose(n, k)*((p)**k)*((1-p)**(n-k))\n",
    "        list_values.append(val)\n",
    "    return(sum(list_values))"
   ]
  },
  {
   "cell_type": "code",
   "execution_count": 10,
   "metadata": {
    "collapsed": false
   },
   "outputs": [
    {
     "name": "stdout",
     "output_type": "stream",
     "text": [
      "(0.17619705200195312, 0.1784124116152771, 0.012573193411314385)\n",
      "(0.16818809509277344, 0.17010955993225252, 0.011424499685421795)\n",
      "(0.1611802577972412, 0.16286750396763996, 0.010468069684571712)\n",
      "(0.15498101711273193, 0.15647803635108537, 0.0096593716201031042)\n",
      "(0.14944598078727722, 0.15078600877302686, 0.0089666378358950333)\n",
      "(0.14446444809436798, 0.14567312407894389, 0.0083665981528297829)\n",
      "(0.13994993409141898, 0.14104739588693907, 0.0078418171658673121)\n",
      "(0.13583375955931842, 0.13683607328474348, 0.0073789735974093317)\n",
      "(0.1320605995715596, 0.13298076013381091, 0.0069677145585932115)\n",
      "(0.1285853206354659, 0.12943396735173515, 0.0065998724588098613)\n",
      "(0.12537068761957926, 0.126156626101008, 0.0062689173709692828)\n",
      "(0.12238567124768451, 0.12311626061491454, 0.0059695662064185506)\n",
      "(0.11960417871932805, 0.12028562337275517, 0.0056974987055113625)\n",
      "(0.11700408787760352, 0.11764166043056543, 0.0054491476710528085)\n",
      "(0.11456650271348677, 0.11516471649044517, 0.0052215417490262522)\n",
      "(0.11227517265921705, 0.11283791670955125, 0.0050121860158903212)\n"
     ]
    }
   ],
   "source": [
    "for n in range(10, 26):\n",
    "    approx = Stirlings_formula(n)\n",
    "    exact = BinomialProbabilities(2*n, 0.5, n, n)\n",
    "    print(exact, approx, (approx-exact)/exact)"
   ]
  }
 ],
 "metadata": {
  "kernelspec": {
   "display_name": "Python 2",
   "language": "python",
   "name": "python2"
  },
  "language_info": {
   "codemirror_mode": {
    "name": "ipython",
    "version": 2
   },
   "file_extension": ".py",
   "mimetype": "text/x-python",
   "name": "python",
   "nbconvert_exporter": "python",
   "pygments_lexer": "ipython2",
   "version": "2.7.11"
  }
 },
 "nbformat": 4,
 "nbformat_minor": 0
}
