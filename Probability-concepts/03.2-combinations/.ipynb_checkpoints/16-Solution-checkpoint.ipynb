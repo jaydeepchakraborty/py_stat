{
 "cells": [
  {
   "cell_type": "markdown",
   "metadata": {},
   "source": [
    "# The Siwash University football team plays 8 games in a season, winning 3, losing 3, and tieing in 2\n",
    "\n",
    "# Show that the number of ways this can happen is\n",
    "\n",
    "# $\\binom{8}{3} \\binom{5}{3} = \\frac{8!}{3!3!2!}$"
   ]
  },
  {
   "cell_type": "markdown",
   "metadata": {},
   "source": [
    "____\n",
    "\n",
    "### We can start by asking: how many ways can they win 3 games out of 8?\n",
    "\n",
    "- There are 8 games, and they win 3 of them, so the number of ways that can happen is equal to $\\binom{8}{3}$"
   ]
  },
  {
   "cell_type": "markdown",
   "metadata": {},
   "source": [
    "### Next, we can ignore those 3 games and ask: how many ways can they lose 3 games out of 5?\n",
    "\n",
    "- There are 5 games and they lose 3, so the number of ways this can happen is equal to $\\binom{5}{3}$"
   ]
  },
  {
   "cell_type": "markdown",
   "metadata": {},
   "source": [
    "### Finally, there are only 2 games remaining, so we ask: howmany ways can they tie 2 out of 2 games?\n",
    "\n",
    "- This is simply $\\binom{2}{2} = 1$"
   ]
  },
  {
   "cell_type": "markdown",
   "metadata": {},
   "source": [
    "## Putting these three combinations together, we get:\n",
    "\n",
    "### $(\\text{Total Number of Ways}) = \\binom{8}{3} \\binom{5}{3} \\binom{2}{2} = \\binom{8}{3} \\binom{5}{3} = \\frac{8!}{5!3!}\\frac{5!}{3!2!} = \\frac{8!}{3!3!2!}$"
   ]
  },
  {
   "cell_type": "markdown",
   "metadata": {},
   "source": [
    "____\n",
    "# Note: the order that we count them doesn't matter\n",
    "\n",
    "### For example, we can start with ties, then count losses, then wins"
   ]
  },
  {
   "cell_type": "markdown",
   "metadata": {},
   "source": [
    "### $(\\text{Number of ways they can tie 2/8}) = \\binom{8}{2}$\n",
    "\n",
    "### $(\\text{Number of ways they can lose 3/6}) = \\binom{6}{3}$\n",
    "    \n",
    "### $(\\text{Number of ways they can win 3/3}) = \\binom{3}{3} = 1$    \n",
    "\n",
    "## So\n",
    "\n",
    "## $(\\text{Total Number of Ways}) = \\binom{8}{2} \\binom{6}{3} = \\frac{8!}{6!2!}\\frac{6!}{3!3!} = \\frac{8!}{3!3!2!} $"
   ]
  }
 ],
 "metadata": {
  "kernelspec": {
   "display_name": "Python 2",
   "language": "python",
   "name": "python2"
  },
  "language_info": {
   "codemirror_mode": {
    "name": "ipython",
    "version": 2
   },
   "file_extension": ".py",
   "mimetype": "text/x-python",
   "name": "python",
   "nbconvert_exporter": "python",
   "pygments_lexer": "ipython2",
   "version": "2.7.11"
  }
 },
 "nbformat": 4,
 "nbformat_minor": 0
}
