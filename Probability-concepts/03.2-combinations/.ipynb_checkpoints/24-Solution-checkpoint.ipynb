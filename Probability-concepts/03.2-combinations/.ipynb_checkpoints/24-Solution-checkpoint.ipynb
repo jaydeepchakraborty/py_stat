{
 "cells": [
  {
   "cell_type": "markdown",
   "metadata": {},
   "source": [
    "# A travel bureau estimates that when 20 tourists go to a resor with 10 hotels, they distribute themselves as if the bureau were putting 20 indistinguishable objects into 10 distinguishable boxes\n",
    "\n",
    "# Assuming this model is correct, find the probability that no hotel is left vacant when the first group of 20 tourists arrives"
   ]
  },
  {
   "cell_type": "markdown",
   "metadata": {},
   "source": [
    "___\n",
    "### We can start by calculating the total number of ways the tourist can be distributed among the hotels\n",
    "\n",
    "### Using the same idea (letters and walls) from Exercise 22, we have 20 tourist and 9 walls between the hotels, so the total number of combinations is equal to $\\frac{29!}{20!9!} = \\binom{29}{20}$"
   ]
  },
  {
   "cell_type": "markdown",
   "metadata": {},
   "source": [
    "### Now, we know that for no hotel to be empty, there must be at least one guest staying in each\n",
    "\n",
    "### So we assign one guest to each hotel, and count the number of ways the remaining guests can be distributed\n",
    "\n",
    "### We have 10 remaining guests, and the same 9 walls as before, so the number of ways is equal to $\\frac{19!}{10!9!} = \\binom{19}{10}$"
   ]
  },
  {
   "cell_type": "markdown",
   "metadata": {},
   "source": [
    "# Therefore, the probability that no hotel is left vacant is equal to\n",
    "\n",
    "# $P(\\text{None vacant}) = \\frac{\\binom{19}{10}}{\\binom{29}{20}} = \\frac{20!19!}{29!10!} = 0.0092239594$"
   ]
  }
 ],
 "metadata": {
  "kernelspec": {
   "display_name": "Python 2",
   "language": "python",
   "name": "python2"
  },
  "language_info": {
   "codemirror_mode": {
    "name": "ipython",
    "version": 2
   },
   "file_extension": ".py",
   "mimetype": "text/x-python",
   "name": "python",
   "nbconvert_exporter": "python",
   "pygments_lexer": "ipython2",
   "version": "2.7.11"
  }
 },
 "nbformat": 4,
 "nbformat_minor": 0
}
