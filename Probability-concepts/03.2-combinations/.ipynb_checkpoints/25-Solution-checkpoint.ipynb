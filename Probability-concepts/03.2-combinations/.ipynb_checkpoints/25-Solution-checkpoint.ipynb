{
 "cells": [
  {
   "cell_type": "markdown",
   "metadata": {},
   "source": [
    "# An elevator takes on 6 passengers and stops at 10 floors\n",
    "\n",
    "# We can assign two different measures for the ways that the passengers are discharged:\n",
    "\n",
    "## a) We consider the passengers to be distinguishable\n",
    "## b) We consider the passengers to be indistinguishable\n",
    "\n",
    "# For each case, calculate the probability that all the passengers get off at different floors"
   ]
  },
  {
   "cell_type": "markdown",
   "metadata": {},
   "source": [
    "___\n",
    "# a)\n",
    "\n",
    "### To count the TOTAL number of ways the distinguishable passengers can get off, we know\n",
    "\n",
    "- Passenger 1 has 10 floors to choose from \n",
    "- Passenger 2 also has 10 floors to choose from (since it doesn't matter if they get off on the same floor - for now we're counting the TOTAL number of ways)\n",
    "- Passenger 3 also has 10 floors to choose from...\n",
    "\n",
    "\n",
    "### So, the total number of ways the 6 distinguishable passengers can get off is equal to $10\\cdot10\\cdot...\\cdot10 = 10^{6}$"
   ]
  },
  {
   "cell_type": "markdown",
   "metadata": {},
   "source": [
    "### Now, to count the number of ways the distinguishable passengers can get off at DIFFERENT FLOORS, we can use the same process\n",
    "\n",
    "- Passenger 1 has 10 floors to choose from\n",
    "- Passenger 2 has 9 floors to choose from\n",
    "...\n",
    "- Passenger 6 has 5 floors to choose from\n",
    "\n",
    "### So, number of ways they can get off at different floors is equal to $10\\cdot9\\cdot...\\cdot5 = 10P6 = 151,200$\n",
    "\n",
    "\n",
    "## Therefore, $P(\\text{Different Floors}) = \\frac{151,200}{10^{6}} = 0.1512$"
   ]
  },
  {
   "cell_type": "markdown",
   "metadata": {},
   "source": [
    "____\n",
    "# b)\n",
    "\n",
    "### Using the same logic as question 24, we have 6 indistinguishable passengers and 9 ceilings/floors between elevator stops, so the number of ways the passengers can get off is equal to \n",
    "\n",
    "### $\\frac{15!}{9!6!} = \\binom{15}{9} = 5,005$"
   ]
  },
  {
   "cell_type": "markdown",
   "metadata": {},
   "source": [
    "### Now, if they're all getting off at different floors, this is the same as simply choosing 6 from a set of 9, i.e. $\\binom{9}{6} = 210$\n",
    "\n",
    "## Therefore, $P(\\text{Different Floors}) = \\frac{210}{5,005} = 0.042$"
   ]
  }
 ],
 "metadata": {
  "kernelspec": {
   "display_name": "Python 2",
   "language": "python",
   "name": "python2"
  },
  "language_info": {
   "codemirror_mode": {
    "name": "ipython",
    "version": 2
   },
   "file_extension": ".py",
   "mimetype": "text/x-python",
   "name": "python",
   "nbconvert_exporter": "python",
   "pygments_lexer": "ipython2",
   "version": "2.7.11"
  }
 },
 "nbformat": 4,
 "nbformat_minor": 0
}
