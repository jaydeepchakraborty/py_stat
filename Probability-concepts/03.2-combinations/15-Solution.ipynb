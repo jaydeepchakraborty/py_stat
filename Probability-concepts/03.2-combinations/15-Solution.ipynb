{
 "cells": [
  {
   "cell_type": "markdown",
   "metadata": {},
   "source": [
    "# A baseball player, Smith, has a batting average of 0.300 and in a typical game comes to bat 3 times\n",
    "\n",
    "# Assume that Smith's hits in a game can be considered Bernoulli trials with $p=0.3$\n",
    "\n",
    "# Find the probability that Smith gets 0, 1, 2, and 3 hits"
   ]
  },
  {
   "cell_type": "markdown",
   "metadata": {},
   "source": [
    "____\n",
    "\n",
    "## This is just another way of using the Binomial function to determine the probabilities"
   ]
  },
  {
   "cell_type": "code",
   "execution_count": 1,
   "metadata": {
    "collapsed": true
   },
   "outputs": [],
   "source": [
    "from math import factorial"
   ]
  },
  {
   "cell_type": "code",
   "execution_count": 2,
   "metadata": {
    "collapsed": true
   },
   "outputs": [],
   "source": [
    "def b(n, p, k):\n",
    "    choose = factorial(n)/(factorial(k)*factorial(n-k))\n",
    "    return choose*(p**k)*((1-p)**(n-k))"
   ]
  },
  {
   "cell_type": "code",
   "execution_count": 3,
   "metadata": {
    "collapsed": false
   },
   "outputs": [
    {
     "name": "stdout",
     "output_type": "stream",
     "text": [
      "(0, 0.125)\n",
      "(1, 0.375)\n",
      "(2, 0.375)\n",
      "(3, 0.125)\n"
     ]
    }
   ],
   "source": [
    "for hits in [0,1,2,3]:\n",
    "    print(hits, b(3, 0.5, hits))"
   ]
  }
 ],
 "metadata": {
  "kernelspec": {
   "display_name": "Python 2",
   "language": "python",
   "name": "python2"
  },
  "language_info": {
   "codemirror_mode": {
    "name": "ipython",
    "version": 2
   },
   "file_extension": ".py",
   "mimetype": "text/x-python",
   "name": "python",
   "nbconvert_exporter": "python",
   "pygments_lexer": "ipython2",
   "version": "2.7.11"
  }
 },
 "nbformat": 4,
 "nbformat_minor": 0
}
