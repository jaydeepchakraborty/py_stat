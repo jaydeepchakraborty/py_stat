{
 "cells": [
  {
   "cell_type": "markdown",
   "metadata": {},
   "source": [
    "# Find integers $n$ and $r$ such that the following equation is true:\n",
    "\n",
    "# $\\binom{13}{5} + 2\\binom{13}{6} + \\binom{13}{7} = \\binom{n}{r}$"
   ]
  },
  {
   "cell_type": "markdown",
   "metadata": {},
   "source": [
    "___\n",
    "\n",
    "# First, we expand this equation:\n",
    "\n",
    "### $\\binom{13}{5} + 2\\binom{13}{6} + \\binom{13}{7} = \\binom{13}{5} + \\binom{13}{6} + \\binom{13}{6} + \\binom{13}{7}$\n",
    "\n",
    "### $ = \\left [ \\binom{13}{5} + \\binom{13}{6} \\right ] + \\left [ \\binom{13}{6} + \\binom{13}{7} \\right ]$"
   ]
  },
  {
   "cell_type": "markdown",
   "metadata": {},
   "source": [
    "# Now, we look at each of these bracketed terms individually"
   ]
  },
  {
   "cell_type": "markdown",
   "metadata": {},
   "source": [
    "### Recall: $\\binom{n}{r} = \\binom{n-1}{r} + \\binom{n-1}{r-1}$"
   ]
  },
  {
   "cell_type": "markdown",
   "metadata": {},
   "source": [
    "### For the $\\binom{13}{5} + \\binom{13}{6}$, if we set $n-1 = 13$ and $r = 6$, then this means:\n",
    "\n",
    "### $\\binom{13}{5} + \\binom{13}{6} = \\binom{14}{6}$"
   ]
  },
  {
   "cell_type": "markdown",
   "metadata": {},
   "source": [
    "### Similarly for $\\binom{13}{6} + \\binom{13}{7}$, this becomes $\\binom{14}{7}$"
   ]
  },
  {
   "cell_type": "markdown",
   "metadata": {},
   "source": [
    "# So now we have:\n",
    "\n",
    "##  $\\binom{14}{6} + \\binom{14}{7} = \\binom{n}{r}$\n",
    "\n",
    "### But we can just apply the rule once more to the left time to get:\n",
    "\n",
    "### $\\binom{14}{6} + \\binom{14}{7} = \\binom{15}{7}$\n",
    "\n",
    "# Therefore $n=15$ and $r = 7$"
   ]
  },
  {
   "cell_type": "markdown",
   "metadata": {},
   "source": [
    "___\n",
    "# We can prove this is true by calculating it"
   ]
  },
  {
   "cell_type": "code",
   "execution_count": 1,
   "metadata": {
    "collapsed": true
   },
   "outputs": [],
   "source": [
    "from math import factorial"
   ]
  },
  {
   "cell_type": "code",
   "execution_count": 4,
   "metadata": {
    "collapsed": true
   },
   "outputs": [],
   "source": [
    "def choose(n,r):\n",
    "    numerator = factorial(n)\n",
    "    denominator = factorial(r)*factorial(n-r)\n",
    "    return numerator/float(denominator)"
   ]
  },
  {
   "cell_type": "code",
   "execution_count": 5,
   "metadata": {
    "collapsed": false
   },
   "outputs": [
    {
     "data": {
      "text/plain": [
       "6435.0"
      ]
     },
     "execution_count": 5,
     "metadata": {},
     "output_type": "execute_result"
    }
   ],
   "source": [
    "choose(13, 5) + 2*choose(13,6) + choose(13,7)"
   ]
  },
  {
   "cell_type": "code",
   "execution_count": 6,
   "metadata": {
    "collapsed": false
   },
   "outputs": [
    {
     "data": {
      "text/plain": [
       "6435.0"
      ]
     },
     "execution_count": 6,
     "metadata": {},
     "output_type": "execute_result"
    }
   ],
   "source": [
    "choose(15,7)"
   ]
  },
  {
   "cell_type": "markdown",
   "metadata": {},
   "source": [
    "# The same!"
   ]
  }
 ],
 "metadata": {
  "kernelspec": {
   "display_name": "Python 2",
   "language": "python",
   "name": "python2"
  },
  "language_info": {
   "codemirror_mode": {
    "name": "ipython",
    "version": 2
   },
   "file_extension": ".py",
   "mimetype": "text/x-python",
   "name": "python",
   "nbconvert_exporter": "python",
   "pygments_lexer": "ipython2",
   "version": "2.7.11"
  }
 },
 "nbformat": 4,
 "nbformat_minor": 0
}
