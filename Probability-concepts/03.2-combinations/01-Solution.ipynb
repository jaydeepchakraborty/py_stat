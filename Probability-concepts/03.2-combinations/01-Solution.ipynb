{
 "cells": [
  {
   "cell_type": "markdown",
   "metadata": {},
   "source": [
    "# 1. Compute the following:\n",
    "\n",
    "### a) $\\binom{6}{3} = \\frac{6!}{3!\\cdot3!} = \\frac{(6)(5)(4)}{(3)(2)(1)} = 20$"
   ]
  },
  {
   "cell_type": "markdown",
   "metadata": {},
   "source": [
    "### b) $b(5,0.2,4) = \\binom{5}{4}(0.2)^{4}(0.8) = 5(0.0016)(0.8) = 0.0064$"
   ]
  },
  {
   "cell_type": "markdown",
   "metadata": {},
   "source": [
    "### c) $\\binom{7}{2} = \\frac{7!}{(2!)(5!)} = \\frac{(7)(6)}{2} = 21$"
   ]
  },
  {
   "cell_type": "markdown",
   "metadata": {},
   "source": [
    "### d) $\\binom{26}{26} = 1$"
   ]
  },
  {
   "cell_type": "markdown",
   "metadata": {},
   "source": [
    "### e) $b(4,0.2,3) = \\binom{4}{3}(0.2)^{3}*(0.8) = 4(0.008)(0.8) = 0.0256$"
   ]
  },
  {
   "cell_type": "markdown",
   "metadata": {},
   "source": [
    "### f) $\\binom{6}{2} = \\frac{6!}{(2!)(4!)} = \\frac{(6)(5)}{2} = 15$"
   ]
  },
  {
   "cell_type": "markdown",
   "metadata": {},
   "source": [
    "### g) $\\binom{10}{9} = \\binom{10}{1} = 10$"
   ]
  },
  {
   "cell_type": "markdown",
   "metadata": {},
   "source": [
    "### h) $b(9, 0.3, 5) = \\binom{9}{5}(0.3)^{5}(0.7)^{4} = \\frac{(9)(8)(7)(6)}{(4)(3)(2)}(0.00243)(0.2401) = 0.073513818$"
   ]
  }
 ],
 "metadata": {
  "kernelspec": {
   "display_name": "Python 2",
   "language": "python",
   "name": "python2"
  },
  "language_info": {
   "codemirror_mode": {
    "name": "ipython",
    "version": 2
   },
   "file_extension": ".py",
   "mimetype": "text/x-python",
   "name": "python",
   "nbconvert_exporter": "python",
   "pygments_lexer": "ipython2",
   "version": "2.7.11"
  }
 },
 "nbformat": 4,
 "nbformat_minor": 0
}
