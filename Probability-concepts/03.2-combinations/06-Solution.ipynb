{
 "cells": [
  {
   "cell_type": "markdown",
   "metadata": {},
   "source": [
    "# Charles claims that he can distinguish between beer and ale 75 percent of the time. \n",
    "\n",
    "# Ruth bets that he cannot and, in fact, just guesses. To settle this, a bet is made: Charles is to be given ten small glasses, each having been filled with beer or ale, chosen by tossing a fair coin. \n",
    "\n",
    "# He wins the bet if he gets seven or more correct. \n",
    "\n",
    "### a) Find the probability that Charles wins if he has the ability that he claims. \n",
    "\n",
    "### b) Find the probability that Ruth wins if Charles is guessing"
   ]
  },
  {
   "cell_type": "markdown",
   "metadata": {},
   "source": [
    "____\n",
    "# a)\n",
    "\n",
    "## We can use the BinomialProbabilities function with n = 10, p = 0.7, kmin = 7 and kmax = 10"
   ]
  },
  {
   "cell_type": "code",
   "execution_count": 1,
   "metadata": {
    "collapsed": true
   },
   "outputs": [],
   "source": [
    "from math import factorial\n",
    "\n",
    "def choose(n, r):\n",
    "    numerator = float(factorial(n))\n",
    "    denominator = factorial(r)*factorial(n-r)\n",
    "    \n",
    "    return numerator/denominator\n",
    "\n",
    "def BinomialProbabilities(n, p, kmin, kmax):\n",
    "    list_values = []\n",
    "    for k in range(kmin, kmax+1):\n",
    "        val = choose(n, k)*((p)**k)*((1-p)**(n-k))\n",
    "        list_values.append(val)\n",
    "    return(sum(list_values))"
   ]
  },
  {
   "cell_type": "code",
   "execution_count": 2,
   "metadata": {
    "collapsed": false
   },
   "outputs": [
    {
     "data": {
      "text/plain": [
       "0.6496107183999998"
      ]
     },
     "execution_count": 2,
     "metadata": {},
     "output_type": "execute_result"
    }
   ],
   "source": [
    "BinomialProbabilities(10, 0.7, 7, 10)"
   ]
  },
  {
   "cell_type": "markdown",
   "metadata": {},
   "source": [
    "## So if he actually is as good as he says he is, he has a 65% chance of winning the bet"
   ]
  },
  {
   "cell_type": "markdown",
   "metadata": {},
   "source": [
    "___\n",
    "# b)\n",
    "\n",
    "## We can use the BinomialProbabilities function with n = 10, p = 0.5, kmin = 7 and kmax = 10, then take 1- the result"
   ]
  },
  {
   "cell_type": "code",
   "execution_count": 3,
   "metadata": {
    "collapsed": false
   },
   "outputs": [
    {
     "data": {
      "text/plain": [
       "0.828125"
      ]
     },
     "execution_count": 3,
     "metadata": {},
     "output_type": "execute_result"
    }
   ],
   "source": [
    "1-BinomialProbabilities(10, 0.5, 7, 10)"
   ]
  },
  {
   "cell_type": "markdown",
   "metadata": {},
   "source": [
    "## So if he's just guessing, she has a 83% chance of winning the bet"
   ]
  }
 ],
 "metadata": {
  "kernelspec": {
   "display_name": "Python 2",
   "language": "python",
   "name": "python2"
  },
  "language_info": {
   "codemirror_mode": {
    "name": "ipython",
    "version": 2
   },
   "file_extension": ".py",
   "mimetype": "text/x-python",
   "name": "python",
   "nbconvert_exporter": "python",
   "pygments_lexer": "ipython2",
   "version": "2.7.11"
  }
 },
 "nbformat": 4,
 "nbformat_minor": 0
}
