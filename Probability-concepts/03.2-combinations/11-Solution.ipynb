{
 "cells": [
  {
   "cell_type": "markdown",
   "metadata": {},
   "source": [
    "# A restaurant offers apple and blueberry pies and stocks an equal number of each kind of pie. \n",
    "\n",
    "# Each day ten customers request pie. They choose, with equal probabilities, one of the two kinds of pie. \n",
    "\n",
    "# How many pieces of each kind of pie should the owner provide so that the probability is about .95 that each customer gets the pie of his or her own choice?"
   ]
  },
  {
   "cell_type": "markdown",
   "metadata": {},
   "source": [
    "___\n",
    "\n",
    "### Consider the shape of the binomial distribution:\n",
    "![](images/11-1.png)"
   ]
  },
  {
   "cell_type": "markdown",
   "metadata": {},
   "source": [
    "### What we want to know is: for what value on the x-axis is all the area under the curve to the right equal to 0.05?\n",
    "\n",
    "![](images/11-2.png)"
   ]
  },
  {
   "cell_type": "markdown",
   "metadata": {},
   "source": [
    "### We can calculate this by taking the sum of $b(10, 0.5, k)$ iterating from k=0 to k=10, but stopping once we cross 0.95"
   ]
  },
  {
   "cell_type": "code",
   "execution_count": 1,
   "metadata": {
    "collapsed": true
   },
   "outputs": [],
   "source": [
    "from math import factorial"
   ]
  },
  {
   "cell_type": "code",
   "execution_count": 2,
   "metadata": {
    "collapsed": true
   },
   "outputs": [],
   "source": [
    "def binom(n, p, k):\n",
    "    numerator = factorial(n)\n",
    "    denominator = factorial(k)*factorial(n-k)\n",
    "    return float(numerator)/denominator*(p**k)*((1-p)**(n-k))"
   ]
  },
  {
   "cell_type": "code",
   "execution_count": 3,
   "metadata": {
    "collapsed": false
   },
   "outputs": [
    {
     "name": "stdout",
     "output_type": "stream",
     "text": [
      "(0, 0.0009765625)\n",
      "(1, 0.0107421875)\n",
      "(2, 0.0546875)\n",
      "(3, 0.171875)\n",
      "(4, 0.376953125)\n",
      "(5, 0.623046875)\n",
      "(6, 0.828125)\n",
      "(7, 0.9453125)\n",
      "(8, 0.9892578125)\n"
     ]
    }
   ],
   "source": [
    "total = 0\n",
    "for i in range(11):\n",
    "    val = binom(10, 0.5, i)\n",
    "    total += val\n",
    "    print(i, total)\n",
    "    if total >= 0.95:\n",
    "        break"
   ]
  },
  {
   "cell_type": "markdown",
   "metadata": {},
   "source": [
    "**At 8 of each kind of pie, we can be 98.9% confident that we won't run out**"
   ]
  }
 ],
 "metadata": {
  "kernelspec": {
   "display_name": "Python 2",
   "language": "python",
   "name": "python2"
  },
  "language_info": {
   "codemirror_mode": {
    "name": "ipython",
    "version": 2
   },
   "file_extension": ".py",
   "mimetype": "text/x-python",
   "name": "python",
   "nbconvert_exporter": "python",
   "pygments_lexer": "ipython2",
   "version": "2.7.11"
  }
 },
 "nbformat": 4,
 "nbformat_minor": 0
}
