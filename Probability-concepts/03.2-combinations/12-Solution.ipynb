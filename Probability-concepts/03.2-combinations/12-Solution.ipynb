{
 "cells": [
  {
   "cell_type": "markdown",
   "metadata": {},
   "source": [
    "# A poker hand is a set of 5 cards randomly chosen from a deck of 52 cards.\n",
    "\n",
    "# Find the probability of a\n",
    "\n",
    "### (a) royal flush (ten, jack, queen, king, ace in a single suit).\n",
    "\n",
    "### (b) straight flush (five in a sequence in a single suit, but not a royal flush).\n",
    "\n",
    "### (c) four of a kind (four cards of the same face value).\n",
    "\n",
    "### (d) full house (one pair and one triple, each of the same face value).\n",
    "\n",
    "### (e) flush (five cards in a single suit but not a straight or royal  flush).\n",
    "\n",
    "### (f) straight (five cards in a sequence, not all the same suit). (Note that in straights, an ace counts high or low.)"
   ]
  },
  {
   "cell_type": "markdown",
   "metadata": {},
   "source": [
    "___\n",
    "# a)\n",
    "\n",
    "### There are only 4 ways you can get a royal flush\n",
    "\n",
    "### There are $\\binom{52}{5} = \\frac{52\\cdot51\\cdot50\\cdot49\\cdot58}{4\\cdot3\\cdot2} = 2,598,960$ possible hands\n",
    "\n",
    "### Therefore, $P(\\text{Royal Flush}) = \\frac{4}{2,598,960} = 0.000001590771693$"
   ]
  },
  {
   "cell_type": "markdown",
   "metadata": {},
   "source": [
    "___\n",
    "# b)"
   ]
  },
  {
   "cell_type": "markdown",
   "metadata": {},
   "source": [
    "### Since we can't have a royal flush, the highest card can be 5, 6, 7, 8, 9, 10, J Q, or K (since A is high)\n",
    "\n",
    "### So there are 9 possible highest cards, and 4 suits, so a total of 32 possible ways of getting a straight flush\n",
    "\n",
    "### Therefore, $P(\\text{Straight Flush}) = \\frac{36}{2,598,690}$"
   ]
  },
  {
   "cell_type": "markdown",
   "metadata": {},
   "source": [
    "____\n",
    "# c)\n",
    "\n"
   ]
  },
  {
   "cell_type": "markdown",
   "metadata": {},
   "source": [
    "### There are 13 cards in a deck, so there are $\\binom{13}{1} = 13$ ways to get 4 of a kind\n",
    "\n",
    "### Now, there are 48 possibilities for the remaining card to be chosen\n",
    "\n",
    "### So the total number of possible ways to draw 4 of a kind is $13\\cdot48 = 624$\n",
    "\n",
    "### Therefore $P(\\text{4 of a kind}) = \\frac{624}{2,598,690}$"
   ]
  },
  {
   "cell_type": "markdown",
   "metadata": {},
   "source": [
    "___\n",
    "\n",
    "# Will finish rest later"
   ]
  }
 ],
 "metadata": {
  "kernelspec": {
   "display_name": "Python 2",
   "language": "python",
   "name": "python2"
  },
  "language_info": {
   "codemirror_mode": {
    "name": "ipython",
    "version": 2
   },
   "file_extension": ".py",
   "mimetype": "text/x-python",
   "name": "python",
   "nbconvert_exporter": "python",
   "pygments_lexer": "ipython2",
   "version": "2.7.11"
  }
 },
 "nbformat": 4,
 "nbformat_minor": 0
}
