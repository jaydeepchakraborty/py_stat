{
 "cells": [
  {
   "cell_type": "markdown",
   "metadata": {},
   "source": [
    "# Baumgartner, Prosser, and Crowell are grading a calculus exam\n",
    "\n",
    "# There is a T/F question with 10 parts\n",
    "\n",
    "# Baumgartner notices that one student only has 2/10 correct and remarks \"The student was not even bright enough to have flipped a coin to determine his answers\"\n",
    "\n",
    "# \"Not so clear\" says Prosser. \"With 340 students, I bet that if they all flipped coins to determine their answers, there would be at least one exam with two or fewer answers correct\"\n",
    "\n",
    "# Crowell says \"I'm with Prosser. In fact, I bet that we should just expect at least one exam in which no answer is correct if everyone is just guessing.\"\n",
    "\n",
    "# Who is right in all of this?"
   ]
  },
  {
   "cell_type": "markdown",
   "metadata": {},
   "source": [
    "___\n",
    "\n",
    "# We can simulate the distribution of the results for the class"
   ]
  },
  {
   "cell_type": "code",
   "execution_count": 32,
   "metadata": {
    "collapsed": true
   },
   "outputs": [],
   "source": [
    "import numpy as np\n",
    "import pandas as pd\n",
    "%matplotlib inline"
   ]
  },
  {
   "cell_type": "code",
   "execution_count": 25,
   "metadata": {
    "collapsed": true
   },
   "outputs": [],
   "source": [
    "def sim(n_questions, n_students, n_trials):\n",
    "    random_array = np.random.randint(0,2, size = [n_questions, n_students, n_trials])\n",
    "    results = np.sum(random_array, axis = 0)\n",
    "    return results"
   ]
  },
  {
   "cell_type": "code",
   "execution_count": 26,
   "metadata": {
    "collapsed": false
   },
   "outputs": [],
   "source": [
    "df = pd.DataFrame(sim(10, 340, 1000))"
   ]
  },
  {
   "cell_type": "markdown",
   "metadata": {},
   "source": [
    "### Counting how many students got 2 or fewer in each sim"
   ]
  },
  {
   "cell_type": "code",
   "execution_count": 34,
   "metadata": {
    "collapsed": false
   },
   "outputs": [
    {
     "data": {
      "text/plain": [
       "<matplotlib.axes._subplots.AxesSubplot at 0xd9ab860>"
      ]
     },
     "execution_count": 34,
     "metadata": {},
     "output_type": "execute_result"
    },
    {
     "data": {
      "image/png": "[encoded data removed]",
      "text/plain": [
       "<matplotlib.figure.Figure at 0xd83ca90>"
      ]
     },
     "metadata": {},
     "output_type": "display_data"
    }
   ],
   "source": [
    "(1*(df<=2).sum()).hist()"
   ]
  },
  {
   "cell_type": "markdown",
   "metadata": {},
   "source": [
    "## Prosser was correct for every sim\n",
    "\n",
    "#### You can always expect at least one student to get 2 or fewer"
   ]
  },
  {
   "cell_type": "markdown",
   "metadata": {},
   "source": [
    "___\n",
    "### Counting how many students got 0 correct"
   ]
  },
  {
   "cell_type": "code",
   "execution_count": 43,
   "metadata": {
    "collapsed": false
   },
   "outputs": [
    {
     "data": {
      "text/plain": [
       "278"
      ]
     },
     "execution_count": 43,
     "metadata": {},
     "output_type": "execute_result"
    }
   ],
   "source": [
    "(1*((1*(df==0).sum())>0)).sum()"
   ]
  },
  {
   "cell_type": "markdown",
   "metadata": {},
   "source": [
    "**Someone got 0 in only 28% of the simulations**"
   ]
  },
  {
   "cell_type": "markdown",
   "metadata": {},
   "source": [
    "# Therefore, Prosser was most correct"
   ]
  },
  {
   "cell_type": "markdown",
   "metadata": {},
   "source": [
    "____\n",
    "# Alternative Solution"
   ]
  },
  {
   "cell_type": "markdown",
   "metadata": {},
   "source": [
    "### We know that for a single student to get 2 or fewer correct, we need to calculate:\n",
    "\n",
    "### $P(\\text{Two or fewer correct}) = P(\\text{None correct}) + P(\\text{One correct}) + P(\\text{Two correct})$\n",
    "\n",
    "### $P(\\text{None correct}) = b(10, 0.5, 0) = \\frac{10!}{10!0!}0.5^{10} = 0.5^{10} = 0.0009765625$\n",
    "\n",
    "### $P(\\text{One correct}) = b(10, 0.5, 1) = \\frac{10!}{9!1!}0.5^{10} = 0.009765625$\n",
    "\n",
    "### $P(\\text{Two correct}) = b(10, 0.5, 2) = \\frac{10!}{8!2!}0.5^{10} = 0.0439453125$"
   ]
  },
  {
   "cell_type": "markdown",
   "metadata": {},
   "source": [
    "### So $P(\\text{2 or fewer correct}) = 0.0546875$"
   ]
  },
  {
   "cell_type": "markdown",
   "metadata": {},
   "source": [
    "### So we expect about $0.0546875\\cdot 340 = 18.49$ people to get 2 or fewer"
   ]
  },
  {
   "cell_type": "markdown",
   "metadata": {},
   "source": [
    "### But we only expect $0.0009765625\\cdot340 = 0.33203125$ people to get 0"
   ]
  }
 ],
 "metadata": {
  "kernelspec": {
   "display_name": "Python 2",
   "language": "python",
   "name": "python2"
  },
  "language_info": {
   "codemirror_mode": {
    "name": "ipython",
    "version": 2
   },
   "file_extension": ".py",
   "mimetype": "text/x-python",
   "name": "python",
   "nbconvert_exporter": "python",
   "pygments_lexer": "ipython2",
   "version": "2.7.11"
  }
 },
 "nbformat": 4,
 "nbformat_minor": 0
}
