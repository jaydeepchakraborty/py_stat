{
 "cells": [
  {
   "cell_type": "markdown",
   "metadata": {},
   "source": [
    "# Each of the four engines on an airplane functions correctly on a given flight with probability 0.99 and the engines function independently of eachother\n",
    "\n",
    "# Assume that the plane can make a safe landing if at least two of the engines are functioning correctly\n",
    "\n",
    "# What is the probability that the engines will allow for a safe landing?"
   ]
  },
  {
   "cell_type": "markdown",
   "metadata": {},
   "source": [
    "___\n",
    "\n",
    "### Each engine can be treated as a Bernoilli trial with $p=0.99$ therefore\n",
    "\n",
    "### $P(\\text{Safe Landing}) = b(4, 0.99, 2) + b(4, 0.99, 4) + b(4, 0.99, 4) = 1 - b(4, 0.99, 1) - b(4, 0.99, 0)$"
   ]
  },
  {
   "cell_type": "code",
   "execution_count": 1,
   "metadata": {
    "collapsed": true
   },
   "outputs": [],
   "source": [
    "from math import factorial"
   ]
  },
  {
   "cell_type": "code",
   "execution_count": 2,
   "metadata": {
    "collapsed": true
   },
   "outputs": [],
   "source": [
    "def b(n,p,k):\n",
    "    return (p**k)*((1-p)**(n-k))*factorial(n)/(factorial(k)*factorial(n-k))"
   ]
  },
  {
   "cell_type": "code",
   "execution_count": 5,
   "metadata": {
    "collapsed": false
   },
   "outputs": [
    {
     "data": {
      "text/plain": [
       "0.9999960299999999"
      ]
     },
     "execution_count": 5,
     "metadata": {},
     "output_type": "execute_result"
    }
   ],
   "source": [
    "1 - b(4, 0.99, 1) - b(4, 0.99, 0)"
   ]
  }
 ],
 "metadata": {
  "kernelspec": {
   "display_name": "Python 2",
   "language": "python",
   "name": "python2"
  },
  "language_info": {
   "codemirror_mode": {
    "name": "ipython",
    "version": 2
   },
   "file_extension": ".py",
   "mimetype": "text/x-python",
   "name": "python",
   "nbconvert_exporter": "python",
   "pygments_lexer": "ipython2",
   "version": "2.7.11"
  }
 },
 "nbformat": 4,
 "nbformat_minor": 0
}
