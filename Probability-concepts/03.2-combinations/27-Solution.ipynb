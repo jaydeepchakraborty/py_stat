{
 "cells": [
  {
   "cell_type": "markdown",
   "metadata": {},
   "source": [
    "# John claims that he has extrasensory powers and he can tell which of two symbols is on a card turned face down\n",
    "\n",
    "# To test his ability he is asked to do this for a sequence of trials\n",
    "\n",
    "# Let the null hypothesis be that he is just guessing, so that the probability is 1/2 that he'll get it right\n",
    "\n",
    "# Devise a test with the property that the probabilty of a type 1 error is less than 0.05 and the probability of a type 2 error is less than 0.05 if John can name the correct symbol 75% of the time"
   ]
  },
  {
   "cell_type": "markdown",
   "metadata": {},
   "source": [
    "___\n",
    "### Type I Error -> incorrectly reject the null\n",
    "\n",
    "### So we assume the null hypothesis: $p=0.5$\n",
    "\n",
    "### Therefore, to have a probability of Type I Error less than 0.05, we need to design our experiment for some $n$ and some $k^{*}<n$ such that $\\sum^{k^{*}}_{k=0} b(n, 0.5, k) \\geq 0.95$"
   ]
  },
  {
   "cell_type": "markdown",
   "metadata": {},
   "source": [
    "### Type II Error -> incorrectly accept the null\n",
    "\n",
    "### So let's say the alternative hypothesis is true and $p\\geq0.75$\n",
    "\n",
    "### Therefore, to have a probability of Type II Error less than 0.05, we need to design our experiment for some $n$ and some $k^{*}$ such that\n",
    "\n",
    "### $\\sum^{k^{*}}_{k=0} b(n, 0.75, k) \\leq 0.05$"
   ]
  },
  {
   "cell_type": "code",
   "execution_count": 4,
   "metadata": {
    "collapsed": true
   },
   "outputs": [],
   "source": [
    "from math import factorial\n",
    "import pandas as pd\n",
    "import numpy as np"
   ]
  },
  {
   "cell_type": "code",
   "execution_count": 2,
   "metadata": {
    "collapsed": true
   },
   "outputs": [],
   "source": [
    "def b(n,p,k):\n",
    "    q = 1-p\n",
    "    val = factorial(n)/float(factorial(k)*factorial(n-k))\n",
    "    return val*(p**k)*(q**(n-k))"
   ]
  },
  {
   "cell_type": "code",
   "execution_count": 8,
   "metadata": {
    "collapsed": true
   },
   "outputs": [],
   "source": [
    "def sum_of_binom(n, p):\n",
    "    df = pd.DataFrame(index = range(n+1), columns = ['Val', 'Cumsum'])\n",
    "    for k in range(n+1):\n",
    "        df.loc[k,'Val'] = b(n,p,k)\n",
    "    df['Cumsum'] = np.cumsum(df['Val'])\n",
    "    return df"
   ]
  },
  {
   "cell_type": "code",
   "execution_count": 18,
   "metadata": {
    "collapsed": false
   },
   "outputs": [
    {
     "name": "stdout",
     "output_type": "stream",
     "text": [
      "(42, 26)\n"
     ]
    }
   ],
   "source": [
    "for n in range(20, 100):\n",
    "    df_1 = sum_of_binom(n, 0.5)\n",
    "    df_2 = sum_of_binom(n, 0.75)\n",
    "    \n",
    "    temp_index = df_1[df_1['Cumsum']>=0.95].index\n",
    "    if df_2.loc[temp_index].iloc[0, 1] <= 0.05:\n",
    "        print(n, temp_index[0])\n",
    "        break"
   ]
  },
  {
   "cell_type": "markdown",
   "metadata": {},
   "source": [
    "# Therefore, in our experiment, he'll need to get more than 26 correct out of 42"
   ]
  }
 ],
 "metadata": {
  "kernelspec": {
   "display_name": "Python 2",
   "language": "python",
   "name": "python2"
  },
  "language_info": {
   "codemirror_mode": {
    "name": "ipython",
    "version": 2
   },
   "file_extension": ".py",
   "mimetype": "text/x-python",
   "name": "python",
   "nbconvert_exporter": "python",
   "pygments_lexer": "ipython2",
   "version": "2.7.11"
  }
 },
 "nbformat": 4,
 "nbformat_minor": 0
}
