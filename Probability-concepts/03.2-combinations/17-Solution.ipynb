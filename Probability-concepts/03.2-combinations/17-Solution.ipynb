{
 "cells": [
  {
   "cell_type": "markdown",
   "metadata": {},
   "source": [
    "# Using the technique of Exercise 16, show that the number of ways that one can put $n$ different objects into 3 boxes with $a$ in the first, $b$ in the second, and $c$ in the third is $\\frac{n!}{a!b!c!}$"
   ]
  },
  {
   "cell_type": "markdown",
   "metadata": {},
   "source": [
    "___\n",
    "\n",
    "## Assigning the first $a$ into Box 1, there are $\\binom{n}{a}$ ways"
   ]
  },
  {
   "cell_type": "markdown",
   "metadata": {},
   "source": [
    "## Assigning the next $b$ into Box 2, there are $\\binom{n-a}{b}$ ways"
   ]
  },
  {
   "cell_type": "markdown",
   "metadata": {},
   "source": [
    "## Assigning the final $c$ into Box 3, there are $\\binom{n-a-b}{c}$"
   ]
  },
  {
   "cell_type": "markdown",
   "metadata": {},
   "source": [
    "# Combining the possible ways:\n",
    "\n",
    "# $\\binom{n}{a} \\binom{n-a}{b} \\binom{n-a-b}{c} = \\frac{n!}{a!(n-a)!} \\frac{(n-a)!}{b!(n-a-b)!} \\frac{(n-a-b)!}{c!(n-a-b-c)!}$"
   ]
  },
  {
   "cell_type": "markdown",
   "metadata": {},
   "source": [
    "- We cancel the following terms:\n",
    "\n",
    "    - $(n-a)!$\n",
    "    - $(n-a-b)!$\n",
    "- And $n-a-b-c = 0$, and we know $0! = 1$ so we cancel $(n-a-b-c)!$ as well\n",
    "\n",
    "## So finally, we have:\n",
    "\n",
    "# $\\binom{n}{a} \\binom{n-a}{b} \\binom{n-a-b}{c} = \\frac{n!}{a!b!c!}$"
   ]
  }
 ],
 "metadata": {
  "kernelspec": {
   "display_name": "Python 2",
   "language": "python",
   "name": "python2"
  },
  "language_info": {
   "codemirror_mode": {
    "name": "ipython",
    "version": 2
   },
   "file_extension": ".py",
   "mimetype": "text/x-python",
   "name": "python",
   "nbconvert_exporter": "python",
   "pygments_lexer": "ipython2",
   "version": "2.7.11"
  }
 },
 "nbformat": 4,
 "nbformat_minor": 0
}
