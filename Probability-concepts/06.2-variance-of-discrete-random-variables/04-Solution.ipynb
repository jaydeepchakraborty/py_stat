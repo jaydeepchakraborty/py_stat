{
 "cells": [
  {
   "cell_type": "markdown",
   "metadata": {},
   "source": [
    "# $X$ is a random variable with $E(X)=100$ and $V(X) = 15$\n",
    "\n",
    "# Find:\n",
    "\n",
    "## i) $E(X^{2})$\n",
    "\n",
    "## ii) $E(3X+10)$\n",
    "\n",
    "## iii) $E(-X)$\n",
    "\n",
    "## iv) $V(-X)$\n",
    "\n",
    "## v) $D(-X)$"
   ]
  },
  {
   "cell_type": "markdown",
   "metadata": {},
   "source": [
    "____\n",
    "\n",
    "# i) $E(X^{2})$\n",
    "\n",
    "## $V(X) = E(X^{2}) - (E(X))^{2} \\implies E(X^{2}) = V(X) + E(X^{2}) = 15 + 100^{2} = 10,015$"
   ]
  },
  {
   "cell_type": "markdown",
   "metadata": {},
   "source": [
    "___\n",
    "\n",
    "# ii) $E(3X+10)$\n",
    "\n",
    "## $E(3X+10) = E(3X) + E(10) = 3\\cdot E(X) + 10 = 310$"
   ]
  },
  {
   "cell_type": "markdown",
   "metadata": {},
   "source": [
    "____\n",
    "\n",
    "# iii) $E(-X)$\n",
    "\n",
    "## $E(-X) = -E(X) = -100$"
   ]
  },
  {
   "cell_type": "markdown",
   "metadata": {},
   "source": [
    "___\n",
    "\n",
    "# iv) $V(-X)$\n",
    "\n",
    "# $V(-X) = (-1)^{2}V(X) = 15$"
   ]
  },
  {
   "cell_type": "markdown",
   "metadata": {},
   "source": [
    "____\n",
    "\n",
    "# v) $D(-X)$\n",
    "\n",
    "# $D(-X) = \\sqrt{V(-X)} = \\sqrt{15}$"
   ]
  }
 ],
 "metadata": {
  "kernelspec": {
   "display_name": "Python 2",
   "language": "python",
   "name": "python2"
  },
  "language_info": {
   "codemirror_mode": {
    "name": "ipython",
    "version": 2
   },
   "file_extension": ".py",
   "mimetype": "text/x-python",
   "name": "python",
   "nbconvert_exporter": "python",
   "pygments_lexer": "ipython2",
   "version": "2.7.11"
  }
 },
 "nbformat": 4,
 "nbformat_minor": 0
}
