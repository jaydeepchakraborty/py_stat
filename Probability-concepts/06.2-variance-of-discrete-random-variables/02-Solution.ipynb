{
 "cells": [
  {
   "cell_type": "markdown",
   "metadata": {},
   "source": [
    "# A random variable $X$ has the distribution:\n",
    "\n",
    "# $m(x) = \\left\\{\\begin{matrix} \\frac{1}{3} & \\text{; if }x=0\\\\ \\frac{1}{3} & \\text{; if }x=1\\\\ \\frac{1}{6} & \\text{; if }x=2\\\\  \\frac{1}{6} & \\text{; if }x=4 \\end{matrix}\\right.$\n",
    "\n",
    "# Find the expected value, variance, and standard deviation of $X$"
   ]
  },
  {
   "cell_type": "markdown",
   "metadata": {},
   "source": [
    "____\n",
    "\n",
    "# i) $E(X)$\n",
    "\n",
    "# $E(X) = (0)\\frac{1}{3} + (1)\\frac{1}{3} + (2)\\frac{1}{6} + (4)\\frac{1}{6} = \\frac{4}{3}$"
   ]
  },
  {
   "cell_type": "markdown",
   "metadata": {},
   "source": [
    "___\n",
    "\n",
    "# ii) $V(X)$\n",
    "\n",
    "# $E(X^{2}) = (0^{2})\\frac{1}{3} + (1^{2})\\frac{1}{3} + (2^{2})\\frac{1}{6} + (4^{2})\\frac{1}{6} = \\frac{11}{3}$\n",
    "\n",
    "# $\\implies V(X) = \\frac{11}{3} - \\frac{4^{2}}{3^{2}} = \\frac{17}{9}$"
   ]
  },
  {
   "cell_type": "markdown",
   "metadata": {},
   "source": [
    "____\n",
    "\n",
    "# iii) $S(X)$\n",
    "\n",
    "# $S(X) = \\sqrt{V(X)} = \\sqrt{\\frac{17}{9}} = \\frac{\\sqrt{17}}{3}$"
   ]
  }
 ],
 "metadata": {
  "kernelspec": {
   "display_name": "Python 2",
   "language": "python",
   "name": "python2"
  },
  "language_info": {
   "codemirror_mode": {
    "name": "ipython",
    "version": 2
   },
   "file_extension": ".py",
   "mimetype": "text/x-python",
   "name": "python",
   "nbconvert_exporter": "python",
   "pygments_lexer": "ipython2",
   "version": "2.7.11"
  }
 },
 "nbformat": 4,
 "nbformat_minor": 0
}
