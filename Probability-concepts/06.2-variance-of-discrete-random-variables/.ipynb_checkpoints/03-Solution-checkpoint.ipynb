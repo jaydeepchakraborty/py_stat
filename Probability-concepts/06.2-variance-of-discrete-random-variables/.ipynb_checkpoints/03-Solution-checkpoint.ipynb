{
 "cells": [
  {
   "cell_type": "markdown",
   "metadata": {},
   "source": [
    "# You place a 1-dollar bet on number 17 at Las Vegas, and your friend places a 1-dollar bet on black\n",
    "\n",
    "# Let $X$ be your winnings and $Y$ be your friend's winnings\n",
    "\n",
    "# Compare:\n",
    "\n",
    "## i) $E(X)$ and $E(Y)$\n",
    "\n",
    "## ii) $V(X)$ and $V(Y)$\n",
    "\n",
    "## iii) What do i) and ii) tell you about the nature of your winnings if you make a series of bets? "
   ]
  },
  {
   "cell_type": "markdown",
   "metadata": {},
   "source": [
    "____\n",
    "\n",
    "# i)\n",
    "\n",
    "# $E(X) = (35)\\frac{1}{38} + (-1)\\frac{37}{38} = \\frac{-2}{38} = \\frac{-1}{19}$\n",
    "\n",
    "# $E(Y) = (1)\\frac{18}{38} + (-1)\\frac{20}{38} = \\frac{-2}{38} = \\frac{-1}{19}$"
   ]
  },
  {
   "cell_type": "markdown",
   "metadata": {},
   "source": [
    "____\n",
    "\n",
    "# ii)\n",
    "\n",
    "# $E(X^{2}) = (35)^{2}\\frac{1}{38} + (-1)^{2}\\frac{37}{38} = \\frac{1262}{38} \\implies V(X) = \\frac{1262}{38} - (\\frac{-1}{19})^2 = 33.21$\n",
    "\n",
    "# $\\implies S(X) = \\sqrt{33.21} = 5.763$\n",
    "\n",
    "# $E(Y^{2}) = \\frac{18}{38} + \\frac{20}{38} = 1 \\implies V(Y) = 1 - \\frac{1}{19^{2}} = 0.997$\n",
    "\n",
    "# $\\implies S(Y) = 0.9986$"
   ]
  },
  {
   "cell_type": "markdown",
   "metadata": {},
   "source": [
    "____\n",
    "\n",
    "# iii)\n",
    "\n",
    "# We can see from $E(X)$ and $E(Y)$ that we can expect the same final level of winnings in the long term\n",
    "\n",
    "# But $S(X)$ and $S(Y)$ show that we'll have a much \"bumpier ride\" than our friend"
   ]
  }
 ],
 "metadata": {
  "kernelspec": {
   "display_name": "Python 2",
   "language": "python",
   "name": "python2"
  },
  "language_info": {
   "codemirror_mode": {
    "name": "ipython",
    "version": 2
   },
   "file_extension": ".py",
   "mimetype": "text/x-python",
   "name": "python",
   "nbconvert_exporter": "python",
   "pygments_lexer": "ipython2",
   "version": "2.7.11"
  }
 },
 "nbformat": 4,
 "nbformat_minor": 0
}
