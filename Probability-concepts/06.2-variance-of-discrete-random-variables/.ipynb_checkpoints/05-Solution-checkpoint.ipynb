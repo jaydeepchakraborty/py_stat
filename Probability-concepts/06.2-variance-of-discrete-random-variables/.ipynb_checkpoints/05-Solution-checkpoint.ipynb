{
 "cells": [
  {
   "cell_type": "markdown",
   "metadata": {},
   "source": [
    "# In a certain manufacturing process, the temperature never varies by more than 2° from 62°\n",
    "\n",
    "# The random variable $F$ has distribution:\n",
    "\n",
    "# $m(f) = \\left\\{\\begin{matrix} \\frac{1}{10} & \\text{ ; if }f=60\\\\ \\frac{2}{10} & \\text{ ; if }f=61\\\\ \n",
    "\\frac{4}{10} & \\text{ ; if }f=62\\\\ \\frac{2}{10} & \\text{ ; if }f=63\\\\ \\frac{1}{10} & \\text{ ; if }f=64 \\end{matrix}\\right.$\n",
    "\n",
    "## a) Find $E(F)$ and $V(F)$\n",
    "\n",
    "## b) Define $T = F-62$. Find $E(T)$ and $V(T)$ and compare the answers to part a)\n",
    "\n",
    "## c) It is decided to report the temperature on a Celsius scale ($C = \\frac{5}{9}(F-32)$). What is $E(C)$ and $V(C)$"
   ]
  },
  {
   "cell_type": "markdown",
   "metadata": {},
   "source": [
    "___\n",
    "\n",
    "# a)\n",
    "\n",
    "# $E(F) = 60\\frac{1}{10} + 61\\frac{2}{10} + 62\\frac{4}{10} + 63\\frac{2}{10} + 64\\frac{1}{10} = 62$\n",
    "\n",
    "# $E(F^{2}) = 60^{2}\\frac{1}{10} + 61^{2}\\frac{2}{10} + 62^{2}\\frac{4}{10} + 63^{2}\\frac{2}{10} + 64^{2}\\frac{1}{10} = \\frac{38,452}{10}$\n",
    "\n",
    "# $\\implies V(F) = \\frac{38,452}{10} - 62^2 = 1.2$"
   ]
  },
  {
   "cell_type": "markdown",
   "metadata": {},
   "source": [
    "___\n",
    "\n",
    "# b)\n",
    "\n",
    "# $E(T) = E(F-62) = E(F) - E(62) = 62-62 = 0$\n",
    "\n",
    "# $V(T) = V(F-62) = V(F) = 1.2$\n",
    "\n",
    "# The temp has been shifted, but the variance is the same"
   ]
  },
  {
   "cell_type": "markdown",
   "metadata": {},
   "source": [
    "____\n",
    "\n",
    "# c)\n",
    "\n",
    "## $E(C) = E(\\frac{5}{9}(F-32)) = E(\\frac{5}{9}F) - E(\\frac{5}{9}32) = \\frac{5}{9}E(F) - 17.78 = 34.44 - 17.78 = 16.67$\n",
    "\n",
    "## Note: This is simply 62°F converted to C\n",
    "\n",
    "## $E(C^{2}) = E([\\frac{5}{9}(F-32)]^{2}) = (\\frac{5}{9})^{2}E([F-32]^{2}) = \\frac{25}{81}\\left ( E(F^{2}) - 64\\cdot E(F) + E(32^{2})\\right )$\n",
    "\n",
    "## $ = \\frac{25}{81} \\left ( 3,845.2 - 64\\cdot 62 + 1,024\\right ) = 278.148$\n",
    "\n",
    "# $\\implies V(C) = 278.148 - (16.67)^{2} = 0.2591$"
   ]
  }
 ],
 "metadata": {
  "kernelspec": {
   "display_name": "Python 2",
   "language": "python",
   "name": "python2"
  },
  "language_info": {
   "codemirror_mode": {
    "name": "ipython",
    "version": 2
   },
   "file_extension": ".py",
   "mimetype": "text/x-python",
   "name": "python",
   "nbconvert_exporter": "python",
   "pygments_lexer": "ipython2",
   "version": "2.7.11"
  }
 },
 "nbformat": 4,
 "nbformat_minor": 0
}
