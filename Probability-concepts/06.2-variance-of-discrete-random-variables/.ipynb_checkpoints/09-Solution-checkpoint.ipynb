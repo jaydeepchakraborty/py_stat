{
 "cells": [
  {
   "cell_type": "markdown",
   "metadata": {},
   "source": [
    "# A die is loaded so that the porbability of a face coming up is proportional to the number on the face\n",
    "\n",
    "# Let $X$ represent the roll of the die\n",
    "\n",
    "# Find $V(X)$ and $S(X)$"
   ]
  },
  {
   "cell_type": "markdown",
   "metadata": {},
   "source": [
    "____\n",
    "\n",
    "# First, we know that the sum of the faces of a die is equal to 21\n",
    "\n",
    "# Therefore $P(X=x) = \\frac{x}{21}$\n",
    "\n",
    "### This means $E(X) = (1)\\frac{1}{6} + (2)\\frac{2}{6} + ... + (6)\\frac{6}{21} = \\frac{1}{21}(1^{2} + 2^{2} + ... + 6^{2}) = 4.33333$\n",
    "\n",
    "### $E(X^{2}) = (1^{2})\\frac{1}{6} + (2^{2})\\frac{2}{6} + ... + (6^{2})\\frac{6}{21} = \\frac{1}{21}(1^{3} + 2^{3} + ... + 6^{3}) = 21$\n",
    "\n",
    "# $\\implies V(X) = 21 - 4.33^{2} = 2.22 \\implies S(X) = 1.491$"
   ]
  }
 ],
 "metadata": {
  "kernelspec": {
   "display_name": "Python 2",
   "language": "python",
   "name": "python2"
  },
  "language_info": {
   "codemirror_mode": {
    "name": "ipython",
    "version": 2
   },
   "file_extension": ".py",
   "mimetype": "text/x-python",
   "name": "python",
   "nbconvert_exporter": "python",
   "pygments_lexer": "ipython2",
   "version": "2.7.11"
  }
 },
 "nbformat": 4,
 "nbformat_minor": 0
}
