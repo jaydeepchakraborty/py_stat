{
 "cells": [
  {
   "cell_type": "markdown",
   "metadata": {},
   "source": [
    "# Find the expected value and variance for the number of boys and the number of girls in a royal family that has children until there is a boy or until there are three children, whichever comes first"
   ]
  },
  {
   "cell_type": "markdown",
   "metadata": {},
   "source": [
    "____\n",
    "\n",
    "\n",
    "# There are 4 possible cases\n",
    "\n",
    "### 1. B $\\implies P(B) = \\frac{1}{2}$\n",
    "\n",
    "### 2. GB $\\implies P(GB) = \\frac{1}{2}\\frac{1}{2} = \\frac{1}{4}$\n",
    "\n",
    "### 3. GGB $\\implies P(GGB) = \\frac{1}{2}\\frac{1}{2}\\frac{1}{2} = \\frac{1}{8}$\n",
    "\n",
    "### 4. GGG  $\\implies P(GGG) = \\frac{1}{2}\\frac{1}{2}\\frac{1}{2} = \\frac{1}{8}$\n",
    "\n",
    "# Let $X$ be the number of boys and $Y$ the number of girls\n",
    "\n",
    "\n",
    "# $E(X) = (1)\\frac{1}{2} + (1)\\frac{1}{4} + (1) \\frac{1}{8} + (0) \\frac{1}{8}= \\frac{7}{8}$\n",
    "\n",
    "# $E(X^{2}) = (1^{2})\\frac{1}{2} + (1^{2})\\frac{1}{4} + (1^{2}) \\frac{1}{8} + (0^{2}) \\frac{1}{8}= \\frac{7}{8}$\n",
    "\n",
    "# $\\implies V(X) = \\frac{7}{8} - (\\frac{7}{8})^{2} = \\frac{7}{64}$\n",
    "\n",
    "# $E(Y) = (0)\\frac{1}{2} + (1)\\frac{1}{4} + (2) \\frac{1}{8} + (3) \\frac{1}{8}= \\frac{7}{8}$\n",
    "\n",
    "# $E(X^{2}) = (0^{2})\\frac{1}{2} + (1^{2})\\frac{1}{4} + (2^{2}) \\frac{1}{8} + (3^{2}) \\frac{1}{8}= \\frac{15}{8}$\n",
    "\n",
    "# $\\implies V(X) = \\frac{15}{8} - (\\frac{7}{8})^{2} = \\frac{71}{64}$"
   ]
  }
 ],
 "metadata": {
  "kernelspec": {
   "display_name": "Python 2",
   "language": "python",
   "name": "python2"
  },
  "language_info": {
   "codemirror_mode": {
    "name": "ipython",
    "version": 2
   },
   "file_extension": ".py",
   "mimetype": "text/x-python",
   "name": "python",
   "nbconvert_exporter": "python",
   "pygments_lexer": "ipython2",
   "version": "2.7.11"
  }
 },
 "nbformat": 4,
 "nbformat_minor": 0
}
