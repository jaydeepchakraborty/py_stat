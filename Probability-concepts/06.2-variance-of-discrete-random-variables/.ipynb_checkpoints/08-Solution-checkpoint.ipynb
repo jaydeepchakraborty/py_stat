{
 "cells": [
  {
   "cell_type": "markdown",
   "metadata": {},
   "source": [
    "# A random sample of 2,400 people are asked if they favor a gov't proposal to develop new nuclear power plants\n",
    "\n",
    "# If 40% of the people in the country are in favor of this proposal, find the expected value and standard deviation of $S_{2400}$"
   ]
  },
  {
   "cell_type": "markdown",
   "metadata": {},
   "source": [
    "_____\n",
    "\n",
    "# $S_{2400} = X_{1} + X_{2} + ... + X_{2400}$\n",
    "\n",
    "# $\\implies E(S_{2400}) = E(X_{1}) + E(X_{2}) + ... + E(X_{2400}) = p + p + ... + p = 2400p$\n",
    "\n",
    "# Since 40% are expected to be in favor, $p=0.4 \\implies E(S_{2400}) = 960$\n",
    "\n",
    "# $V(S_{2400}) = V(X_{1}) + V(X_{2}) + ... + V(X_{2400} = pq + pq + ... + pq = 2400pq = 2400(0.4)(0.6) = 576$\n",
    "\n",
    "# $\\implies S(S_{2400}) = \\sqrt{576} = 24$"
   ]
  }
 ],
 "metadata": {
  "kernelspec": {
   "display_name": "Python 2",
   "language": "python",
   "name": "python2"
  },
  "language_info": {
   "codemirror_mode": {
    "name": "ipython",
    "version": 2
   },
   "file_extension": ".py",
   "mimetype": "text/x-python",
   "name": "python",
   "nbconvert_exporter": "python",
   "pygments_lexer": "ipython2",
   "version": "2.7.11"
  }
 },
 "nbformat": 4,
 "nbformat_minor": 0
}
