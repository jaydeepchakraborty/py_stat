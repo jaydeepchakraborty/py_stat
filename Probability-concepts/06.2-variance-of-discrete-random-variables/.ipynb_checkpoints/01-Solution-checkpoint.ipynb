{
 "cells": [
  {
   "cell_type": "markdown",
   "metadata": {},
   "source": [
    "# A number is chosen at random from the set $S = \\left \\{ -1, 0, 1\\right \\}$\n",
    "\n",
    "# Let $X$ be the random variable representing the number chosen from the set\n",
    "\n",
    "# Find the expected value, variance, and standard deviation of $X$"
   ]
  },
  {
   "cell_type": "markdown",
   "metadata": {},
   "source": [
    "______\n",
    "\n",
    "# i) $E(X)$\n",
    "\n",
    "# $E(X) = (-1)\\frac{1}{3} + (0)\\frac{1}{3} + (1)\\frac{1}{3} = 0$"
   ]
  },
  {
   "cell_type": "markdown",
   "metadata": {},
   "source": [
    "____\n",
    "\n",
    "# ii) $V(X)$\n",
    "\n",
    "\n",
    "# $V(X) = E(X^{2}) - E(X)^{2}$\n",
    "\n",
    "# $E(X^{2}) = (-1)^{2}\\frac{1}{3} + (0)^{2}\\frac{1}{3} + (1)^{2}\\frac{1}{3} = \\frac{2}{3}$\n",
    "\n",
    "# $\\implies V(X) = \\frac{2}{3} - 0^{2} = \\frac{2}{3}$"
   ]
  },
  {
   "cell_type": "markdown",
   "metadata": {},
   "source": [
    "____\n",
    "\n",
    "# iii) $S(X)$\n",
    "\n",
    "# $S(X) = \\sqrt{V(X)} =  \\sqrt{\\frac{2}{3}}$"
   ]
  }
 ],
 "metadata": {
  "kernelspec": {
   "display_name": "Python 2",
   "language": "python",
   "name": "python2"
  },
  "language_info": {
   "codemirror_mode": {
    "name": "ipython",
    "version": 2
   },
   "file_extension": ".py",
   "mimetype": "text/x-python",
   "name": "python",
   "nbconvert_exporter": "python",
   "pygments_lexer": "ipython2",
   "version": "2.7.11"
  }
 },
 "nbformat": 4,
 "nbformat_minor": 0
}
