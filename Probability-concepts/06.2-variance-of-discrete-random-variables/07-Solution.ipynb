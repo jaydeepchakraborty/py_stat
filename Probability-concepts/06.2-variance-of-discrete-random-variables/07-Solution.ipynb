{
 "cells": [
  {
   "cell_type": "markdown",
   "metadata": {},
   "source": [
    "# A coin is tossed three times\n",
    "\n",
    "# Let $X$ be the number of heads that turn up\n",
    "\n",
    "# Find $V(X)$ and $S(X)$"
   ]
  },
  {
   "cell_type": "markdown",
   "metadata": {},
   "source": [
    "____\n",
    "\n",
    "\n",
    "# We can express $X$ as $X = X_{1} + X_{2} + X_{3}$ where $X_{i}$ is the outcome of flip $i$\n",
    "\n",
    "### $V(X) = V(X_{1} + X_{2} + X_{3})) = V(X_{1}) + V(X_{2}) + V(X_{3})$\n",
    "\n",
    "### $E(X_{i}^{2}) = (1^{2})\\frac{1}{2} + (0^{2})\\frac{1}{2} = \\frac{1}{2}$ and $E(X_{i}) = \\frac{1}{2} \\implies V(X_{i}) = \\frac{1}{2} - \\frac{1}{2^{2}} = \\frac{1}{4}$\n",
    "\n",
    "### $\\implies V(X) = \\frac{3}{4} \\implies S(X) = \\frac{\\sqrt{3}}{2}$"
   ]
  }
 ],
 "metadata": {
  "kernelspec": {
   "display_name": "Python 2",
   "language": "python",
   "name": "python2"
  },
  "language_info": {
   "codemirror_mode": {
    "name": "ipython",
    "version": 2
   },
   "file_extension": ".py",
   "mimetype": "text/x-python",
   "name": "python",
   "nbconvert_exporter": "python",
   "pygments_lexer": "ipython2",
   "version": "2.7.11"
  }
 },
 "nbformat": 4,
 "nbformat_minor": 0
}
