{
 "cells": [
  {
   "cell_type": "markdown",
   "metadata": {},
   "source": [
    "# A baseball player is to play in the World Series\n",
    "\n",
    "# Based upon his season play, you estimate that if he comes to bat four times in a game the number of hits he will get has a distribution\n",
    "\n",
    "# $p_{X} = \\left\\{\\begin{matrix}0.4 & ;0\\\\ 0.2 & ;1\\\\0.2 & ;2\\\\0.1 & ;3\\\\ 0.1 & ;4\\end{matrix}\\right.$\n",
    "\n",
    "# Assume a player has four at bats in each game\n",
    "\n",
    "## a) Let $X$ denote the number of hits that he gets in a series. Using the program *NFoldConvolution*, find the distribution of $X$ for each of the possible series lengths (4, 5, 6, or 7)\n",
    "\n",
    "## b) Using the distribution found in a), find the probability that his batting average is over 0.400 in a four game series\n",
    "\n",
    "## c) Given the distribution $p_{X}$, what is his long term batting average?"
   ]
  },
  {
   "cell_type": "markdown",
   "metadata": {},
   "source": [
    "____\n",
    "\n",
    "# a)"
   ]
  },
  {
   "cell_type": "code",
   "execution_count": 22,
   "metadata": {
    "collapsed": true
   },
   "outputs": [],
   "source": [
    "def P_X(x):\n",
    "    if x == 0:\n",
    "        return 0.4\n",
    "    elif x in [1,2]:\n",
    "        return 0.2\n",
    "    elif x in [3,4]:\n",
    "        return 0.1\n",
    "    else:\n",
    "        return 0"
   ]
  },
  {
   "cell_type": "code",
   "execution_count": 25,
   "metadata": {
    "collapsed": false
   },
   "outputs": [
    {
     "name": "stdout",
     "output_type": "stream",
     "text": [
      "\n"
     ]
    }
   ],
   "source": [
    "def NFoldConvolution(x, n):\n",
    "    if n == 1:\n",
    "        return P_X(x)\n",
    "    elif n == 2:\n",
    "        total = 0\n",
    "        for i in range(x+1):\n",
    "            total += P_X(i)*P_X(x-i)\n",
    "        return total\n",
    "    else:\n",
    "        total = 0\n",
    "        for i in range(x+1):\n",
    "            total += NFoldConvolution(x-i, n-1)*P_X(i)\n",
    "        return total"
   ]
  },
  {
   "cell_type": "code",
   "execution_count": 40,
   "metadata": {
    "collapsed": false
   },
   "outputs": [],
   "source": [
    "dict_probabilities = {}\n",
    "\n",
    "for n_games in [4, 5, 6, 7]:\n",
    "    probs = []\n",
    "    for n_hits in range(4*n_games+1):\n",
    "        val = NFoldConvolution(n_hits, n_games)\n",
    "        probs.append(val)\n",
    "    dict_probabilities[n_games] = probs"
   ]
  },
  {
   "cell_type": "code",
   "execution_count": 28,
   "metadata": {
    "collapsed": true
   },
   "outputs": [],
   "source": [
    "import pandas as pd"
   ]
  },
  {
   "cell_type": "code",
   "execution_count": 41,
   "metadata": {
    "collapsed": false
   },
   "outputs": [],
   "source": [
    "df = pd.DataFrame(index = range(7*4+1))\n",
    "\n",
    "for n_games in [4,5,6,7]:\n",
    "    df.loc[:4*n_games, n_games] = dict_probabilities[n_games]"
   ]
  },
  {
   "cell_type": "code",
   "execution_count": 42,
   "metadata": {
    "collapsed": false
   },
   "outputs": [
    {
     "data": {
      "text/html": [
       "<div>\n",
       "<table border=\"1\" class=\"dataframe\">\n",
       "  <thead>\n",
       "    <tr style=\"text-align: right;\">\n",
       "      <th></th>\n",
       "      <th>4</th>\n",
       "      <th>5</th>\n",
       "      <th>6</th>\n",
       "      <th>7</th>\n",
       "    </tr>\n",
       "  </thead>\n",
       "  <tbody>\n",
       "    <tr>\n",
       "      <th>0</th>\n",
       "      <td>0.0256</td>\n",
       "      <td>0.01024</td>\n",
       "      <td>0.004096</td>\n",
       "      <td>1.638400e-03</td>\n",
       "    </tr>\n",
       "    <tr>\n",
       "      <th>1</th>\n",
       "      <td>0.0512</td>\n",
       "      <td>0.02560</td>\n",
       "      <td>0.012288</td>\n",
       "      <td>5.734400e-03</td>\n",
       "    </tr>\n",
       "    <tr>\n",
       "      <th>2</th>\n",
       "      <td>0.0896</td>\n",
       "      <td>0.05120</td>\n",
       "      <td>0.027648</td>\n",
       "      <td>1.433600e-02</td>\n",
       "    </tr>\n",
       "    <tr>\n",
       "      <th>3</th>\n",
       "      <td>0.1152</td>\n",
       "      <td>0.07680</td>\n",
       "      <td>0.047104</td>\n",
       "      <td>2.723840e-02</td>\n",
       "    </tr>\n",
       "    <tr>\n",
       "      <th>4</th>\n",
       "      <td>0.1424</td>\n",
       "      <td>0.10560</td>\n",
       "      <td>0.071424</td>\n",
       "      <td>4.515840e-02</td>\n",
       "    </tr>\n",
       "    <tr>\n",
       "      <th>5</th>\n",
       "      <td>0.1408</td>\n",
       "      <td>0.12192</td>\n",
       "      <td>0.092928</td>\n",
       "      <td>6.487040e-02</td>\n",
       "    </tr>\n",
       "    <tr>\n",
       "      <th>6</th>\n",
       "      <td>0.1312</td>\n",
       "      <td>0.12960</td>\n",
       "      <td>0.110144</td>\n",
       "      <td>8.440320e-02</td>\n",
       "    </tr>\n",
       "    <tr>\n",
       "      <th>7</th>\n",
       "      <td>0.1056</td>\n",
       "      <td>0.12240</td>\n",
       "      <td>0.117504</td>\n",
       "      <td>9.946880e-02</td>\n",
       "    </tr>\n",
       "    <tr>\n",
       "      <th>8</th>\n",
       "      <td>0.0808</td>\n",
       "      <td>0.10800</td>\n",
       "      <td>0.116352</td>\n",
       "      <td>1.085056e-01</td>\n",
       "    </tr>\n",
       "    <tr>\n",
       "      <th>9</th>\n",
       "      <td>0.0528</td>\n",
       "      <td>0.08560</td>\n",
       "      <td>0.105472</td>\n",
       "      <td>1.092672e-01</td>\n",
       "    </tr>\n",
       "    <tr>\n",
       "      <th>10</th>\n",
       "      <td>0.0328</td>\n",
       "      <td>0.06352</td>\n",
       "      <td>0.089328</td>\n",
       "      <td>1.028608e-01</td>\n",
       "    </tr>\n",
       "    <tr>\n",
       "      <th>11</th>\n",
       "      <td>0.0176</td>\n",
       "      <td>0.04280</td>\n",
       "      <td>0.069984</td>\n",
       "      <td>9.033920e-02</td>\n",
       "    </tr>\n",
       "    <tr>\n",
       "      <th>12</th>\n",
       "      <td>0.0089</td>\n",
       "      <td>0.02700</td>\n",
       "      <td>0.051424</td>\n",
       "      <td>7.461440e-02</td>\n",
       "    </tr>\n",
       "    <tr>\n",
       "      <th>13</th>\n",
       "      <td>0.0036</td>\n",
       "      <td>0.01530</td>\n",
       "      <td>0.034992</td>\n",
       "      <td>5.775840e-02</td>\n",
       "    </tr>\n",
       "    <tr>\n",
       "      <th>14</th>\n",
       "      <td>0.0014</td>\n",
       "      <td>0.00810</td>\n",
       "      <td>0.022332</td>\n",
       "      <td>4.214720e-02</td>\n",
       "    </tr>\n",
       "    <tr>\n",
       "      <th>15</th>\n",
       "      <td>0.0004</td>\n",
       "      <td>0.00381</td>\n",
       "      <td>0.013184</td>\n",
       "      <td>2.887920e-02</td>\n",
       "    </tr>\n",
       "    <tr>\n",
       "      <th>16</th>\n",
       "      <td>0.0001</td>\n",
       "      <td>0.00165</td>\n",
       "      <td>0.007272</td>\n",
       "      <td>1.865360e-02</td>\n",
       "    </tr>\n",
       "    <tr>\n",
       "      <th>17</th>\n",
       "      <td>NaN</td>\n",
       "      <td>0.00060</td>\n",
       "      <td>0.003672</td>\n",
       "      <td>1.129240e-02</td>\n",
       "    </tr>\n",
       "    <tr>\n",
       "      <th>18</th>\n",
       "      <td>NaN</td>\n",
       "      <td>0.00020</td>\n",
       "      <td>0.001721</td>\n",
       "      <td>6.428800e-03</td>\n",
       "    </tr>\n",
       "    <tr>\n",
       "      <th>19</th>\n",
       "      <td>NaN</td>\n",
       "      <td>0.00005</td>\n",
       "      <td>0.000726</td>\n",
       "      <td>3.414600e-03</td>\n",
       "    </tr>\n",
       "    <tr>\n",
       "      <th>20</th>\n",
       "      <td>NaN</td>\n",
       "      <td>0.00001</td>\n",
       "      <td>0.000279</td>\n",
       "      <td>1.695400e-03</td>\n",
       "    </tr>\n",
       "    <tr>\n",
       "      <th>21</th>\n",
       "      <td>NaN</td>\n",
       "      <td>NaN</td>\n",
       "      <td>0.000092</td>\n",
       "      <td>7.771000e-04</td>\n",
       "    </tr>\n",
       "    <tr>\n",
       "      <th>22</th>\n",
       "      <td>NaN</td>\n",
       "      <td>NaN</td>\n",
       "      <td>0.000027</td>\n",
       "      <td>3.297000e-04</td>\n",
       "    </tr>\n",
       "    <tr>\n",
       "      <th>23</th>\n",
       "      <td>NaN</td>\n",
       "      <td>NaN</td>\n",
       "      <td>0.000006</td>\n",
       "      <td>1.267000e-04</td>\n",
       "    </tr>\n",
       "    <tr>\n",
       "      <th>24</th>\n",
       "      <td>NaN</td>\n",
       "      <td>NaN</td>\n",
       "      <td>0.000001</td>\n",
       "      <td>4.410000e-05</td>\n",
       "    </tr>\n",
       "    <tr>\n",
       "      <th>25</th>\n",
       "      <td>NaN</td>\n",
       "      <td>NaN</td>\n",
       "      <td>NaN</td>\n",
       "      <td>1.330000e-05</td>\n",
       "    </tr>\n",
       "    <tr>\n",
       "      <th>26</th>\n",
       "      <td>NaN</td>\n",
       "      <td>NaN</td>\n",
       "      <td>NaN</td>\n",
       "      <td>3.500000e-06</td>\n",
       "    </tr>\n",
       "    <tr>\n",
       "      <th>27</th>\n",
       "      <td>NaN</td>\n",
       "      <td>NaN</td>\n",
       "      <td>NaN</td>\n",
       "      <td>7.000000e-07</td>\n",
       "    </tr>\n",
       "    <tr>\n",
       "      <th>28</th>\n",
       "      <td>NaN</td>\n",
       "      <td>NaN</td>\n",
       "      <td>NaN</td>\n",
       "      <td>1.000000e-07</td>\n",
       "    </tr>\n",
       "  </tbody>\n",
       "</table>\n",
       "</div>"
      ],
      "text/plain": [
       "         4        5         6             7\n",
       "0   0.0256  0.01024  0.004096  1.638400e-03\n",
       "1   0.0512  0.02560  0.012288  5.734400e-03\n",
       "2   0.0896  0.05120  0.027648  1.433600e-02\n",
       "3   0.1152  0.07680  0.047104  2.723840e-02\n",
       "4   0.1424  0.10560  0.071424  4.515840e-02\n",
       "5   0.1408  0.12192  0.092928  6.487040e-02\n",
       "6   0.1312  0.12960  0.110144  8.440320e-02\n",
       "7   0.1056  0.12240  0.117504  9.946880e-02\n",
       "8   0.0808  0.10800  0.116352  1.085056e-01\n",
       "9   0.0528  0.08560  0.105472  1.092672e-01\n",
       "10  0.0328  0.06352  0.089328  1.028608e-01\n",
       "11  0.0176  0.04280  0.069984  9.033920e-02\n",
       "12  0.0089  0.02700  0.051424  7.461440e-02\n",
       "13  0.0036  0.01530  0.034992  5.775840e-02\n",
       "14  0.0014  0.00810  0.022332  4.214720e-02\n",
       "15  0.0004  0.00381  0.013184  2.887920e-02\n",
       "16  0.0001  0.00165  0.007272  1.865360e-02\n",
       "17     NaN  0.00060  0.003672  1.129240e-02\n",
       "18     NaN  0.00020  0.001721  6.428800e-03\n",
       "19     NaN  0.00005  0.000726  3.414600e-03\n",
       "20     NaN  0.00001  0.000279  1.695400e-03\n",
       "21     NaN      NaN  0.000092  7.771000e-04\n",
       "22     NaN      NaN  0.000027  3.297000e-04\n",
       "23     NaN      NaN  0.000006  1.267000e-04\n",
       "24     NaN      NaN  0.000001  4.410000e-05\n",
       "25     NaN      NaN       NaN  1.330000e-05\n",
       "26     NaN      NaN       NaN  3.500000e-06\n",
       "27     NaN      NaN       NaN  7.000000e-07\n",
       "28     NaN      NaN       NaN  1.000000e-07"
      ]
     },
     "execution_count": 42,
     "metadata": {},
     "output_type": "execute_result"
    }
   ],
   "source": [
    "df"
   ]
  },
  {
   "cell_type": "markdown",
   "metadata": {},
   "source": [
    "_____\n",
    "\n",
    "# b)\n",
    "\n",
    "# If his batting average is above 0.400, he had at least 7 hits in 16 at bats"
   ]
  },
  {
   "cell_type": "code",
   "execution_count": 44,
   "metadata": {
    "collapsed": false
   },
   "outputs": [
    {
     "data": {
      "text/plain": [
       "0.3040000000000001"
      ]
     },
     "execution_count": 44,
     "metadata": {},
     "output_type": "execute_result"
    }
   ],
   "source": [
    "df.loc[7:, 4].sum()"
   ]
  },
  {
   "cell_type": "markdown",
   "metadata": {},
   "source": [
    "# So $P(\\text{Batting Avg.}\\geq0.400) = 0.304$"
   ]
  },
  {
   "cell_type": "markdown",
   "metadata": {},
   "source": [
    "_____\n",
    "\n",
    "# c)\n",
    "\n",
    "# Let $S_{n}$ be the number of hits in $n$ games\n",
    "\n",
    "# Then $S_{n} = X_{1} + X_{2} + ... + X_{n}$ where each $X_{i}$ represents the number of hits in a single game\n",
    "\n",
    "# Then $E(S_{n}) = E(X_{1}) + E(X_{2}) + ... + E(X_{n})$\n",
    "\n",
    "# $E(X_{i}) = (1)(0.2) + (2)(0.2) + (3)(0.1) + (4)(0.1)= 1.3$\n",
    "\n",
    "# $\\implies E(S_{n}) = n(1.3)$\n",
    "\n",
    "# Then, $E(\\text{Batting Avg. in }n\\text{ games}) = E(\\frac{S_{n}}{4\\cdot n}) = E(\\frac{1.3}{4}) = 0.325$"
   ]
  }
 ],
 "metadata": {
  "kernelspec": {
   "display_name": "Python 2",
   "language": "python",
   "name": "python2"
  },
  "language_info": {
   "codemirror_mode": {
    "name": "ipython",
    "version": 2
   },
   "file_extension": ".py",
   "mimetype": "text/x-python",
   "name": "python",
   "nbconvert_exporter": "python",
   "pygments_lexer": "ipython2",
   "version": "2.7.11"
  }
 },
 "nbformat": 4,
 "nbformat_minor": 0
}
