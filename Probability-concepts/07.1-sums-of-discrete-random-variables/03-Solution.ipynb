{
 "cells": [
  {
   "cell_type": "markdown",
   "metadata": {},
   "source": [
    "# Let $X_{1}$ and $X_{2}$ be independent random variables with the same distribution\n",
    "\n",
    "# $p_{X} = \\left\\{\\begin{matrix} \\frac{1}{8} & \\text{ ; if }x=0\\\\ \\frac{3}{8} & \\text{ ; if }x=1\\\\  \\frac{1}{2} & \\text{ ; if }x=2 \\end{matrix}\\right.$\n",
    "\n",
    "# Find the distribution of $S_{2} = X_{1} + X_{2}$"
   ]
  },
  {
   "cell_type": "markdown",
   "metadata": {},
   "source": [
    "____\n",
    "\n",
    "$P(S_{2} = 0) = P(X_{1} = 0) + P(X_{2} = 0) = \\frac{1}{8}\\frac{1}{8} = \\frac{1}{64}$\n",
    "\n",
    "$P(S_{2} = 1) = P(X_{1} = 0) + P(X_{2} = 1) + P(X_{1} = 0) + P(X_{2} = 1) = 2\\frac{1}{8}\\frac{3}{8} = \\frac{3}{32}$\n",
    "\n",
    "$P(S_{2} = 2) = P(X_{1} = 0) + P(X_{2} = 2) + P(X_{1} = 1) + P(X_{2} = 1) + P(X_{1} = 2) + P(X_{2} = 0)= \\frac{3}{8}\\frac{3}{8} + 2\\frac{1}{8}\\frac{1}{2} = \\frac{9}{64} + \\frac{1}{8} = \\frac{17}{64}$\n",
    "\n",
    "$P(S_{2} = 3) = P(X_{1} = 1) + P(X_{2} = 2) + P(X_{1} = 2) + P(X_{2} = 1) = 2\\frac{3}{8}\\frac{1}{2} = \\frac{3}{8}$\n",
    "\n",
    "$P(S_{2} = 4) = P(X_{1} = 2) + P(X_{2} = 2) = \\frac{1}{2}\\frac{1}{2} = \\frac{1}{4}$"
   ]
  }
 ],
 "metadata": {
  "kernelspec": {
   "display_name": "Python 2",
   "language": "python",
   "name": "python2"
  },
  "language_info": {
   "codemirror_mode": {
    "name": "ipython",
    "version": 2
   },
   "file_extension": ".py",
   "mimetype": "text/x-python",
   "name": "python",
   "nbconvert_exporter": "python",
   "pygments_lexer": "ipython2",
   "version": "2.7.11"
  }
 },
 "nbformat": 4,
 "nbformat_minor": 0
}
