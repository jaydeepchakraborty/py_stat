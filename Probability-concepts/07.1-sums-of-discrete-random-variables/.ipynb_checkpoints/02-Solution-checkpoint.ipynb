{
 "cells": [
  {
   "cell_type": "markdown",
   "metadata": {},
   "source": [
    "# The price of a stock on a given trading day changes according to the distribution\n",
    "\n",
    "# $p_{X}(x) = \\left\\{\\begin{matrix} \\frac{1}{4} & \\text{ ; if }x=-1\\\\  \\frac{1}{2} & \\text{ ; if }x=0\\\\ \\frac{1}{8} & \\text{ ; if }x=1\\\\  \\frac{1}{8} & \\text{ ; if }x=2 \\end{matrix}\\right.$\n",
    "\n",
    "# Find the distribution for the change in stock price after two days"
   ]
  },
  {
   "cell_type": "markdown",
   "metadata": {},
   "source": [
    "_____\n",
    "\n",
    "## The possible values for the stock price after two days are $[-2, -1, 0, 1, 2, 3, 4]$\n",
    "\n",
    "## Let $X_{1}$ be the change on the first day and $X_{2}$ the change on the second\n",
    "\n",
    "## Let $S_{2} = X_{1} + X_{2}$\n",
    "\n",
    "## Then:\n",
    "\n",
    "$P(S_{2} = -2) = P(X_{1} = -1)\\cdot P(X_{2} = -1) = \\frac{1}{4}\\frac{1}{4} = \\frac{1}{16}$\n",
    "\n",
    "$P(S_{2} = -1) = P(X_{1} = -1)\\cdot P(X_{2} = 0) + P(X_{1} = 0)\\cdot P(X_{2} = -1) = 2\\frac{1}{4}\\frac{1}{2} = \\frac{1}{4}$\n",
    "\n",
    "$P(S_{2} = 0) = P(X_{1} = -1)\\cdot P(X_{2} = 1) + P(X_{1} = 0)\\cdot P(X_{2} = 0) + P(X_{1} = 1)\\cdot P(X_{2} = -1) = 2\\frac{1}{4}\\frac{1}{8} + \\frac{1}{2^{2}} = \\frac{1}{16} + \\frac{1}{4} = \\frac{5}{16}$\n",
    "\n",
    "$P(S_{2} = 1) = P(X_{1} = -1)\\cdot P(X_{2} = 2) + P(X_{1} = 0)\\cdot P(X_{2} = 1) + P(X_{1} = 1)\\cdot P(X_{2} = 0) + P(X_{1} = 2)\\cdot P(X_{2} = -1) = 2\\frac{1}{4}\\frac{1}{8} + 2\\frac{1}{2}\\frac{1}{8} = \\frac{3}{16}$\n",
    "\n",
    "$P(S_{2} = 2) = P(X_{1} = 0)\\cdot P(X_{2} = 2) + P(X_{1} = 1)\\cdot P(X_{2} = 1) + P(X_{1} = 2)\\cdot P(X_{2} = 0) = 2\\frac{1}{2}\\frac{1}{8} + \\frac{1}{8}\\frac{1}{8} = \\frac{9}{64}$\n",
    "\n",
    "$P(S_{2} = 3) = P(X_{1} = 1)\\cdot P(X_{2} = 2) + P(X_{1} = 2)\\cdot P(X_{2} = 1) = 2\\frac{1}{8}\\frac{1}{8} =\\frac{1}{32}$\n",
    "\n",
    "$P(S_{2} = 4) = P(X_{1} = 2)\\cdot P(X_{2} = 2) = \\frac{1}{8^{2}} = \\frac{1}{64}$"
   ]
  },
  {
   "cell_type": "markdown",
   "metadata": {},
   "source": [
    "____\n",
    "\n",
    "## We can confirm these results by simulation"
   ]
  },
  {
   "cell_type": "code",
   "execution_count": 1,
   "metadata": {
    "collapsed": true
   },
   "outputs": [],
   "source": [
    "import numpy as np\n",
    "import matplotlib.pyplot as plt\n",
    "%matplotlib inline\n",
    "plt.rcParams['figure.figsize'] = 10, 10"
   ]
  },
  {
   "cell_type": "code",
   "execution_count": 2,
   "metadata": {
    "collapsed": true
   },
   "outputs": [],
   "source": [
    "def change():\n",
    "    rand = np.random.random()\n",
    "    if rand < 0.25:\n",
    "        return -1\n",
    "    elif rand < 0.25+0.5:\n",
    "        return 0\n",
    "    elif rand < 0.25 + 0.5 + 0.125:\n",
    "        return 1\n",
    "    else:\n",
    "        return 2"
   ]
  },
  {
   "cell_type": "code",
   "execution_count": 5,
   "metadata": {
    "collapsed": false
   },
   "outputs": [
    {
     "data": {
      "image/png": "[encoded data removed]",
      "text/plain": [
       "<matplotlib.figure.Figure at 0xa68f0b8>"
      ]
     },
     "metadata": {},
     "output_type": "display_data"
    }
   ],
   "source": [
    "x = [0,1,2]\n",
    "results = []\n",
    "\n",
    "for i in range(1000):\n",
    "    X1 = change()\n",
    "    X2 = change()\n",
    "    results.append(X1+X2)\n",
    "    y = [0, X1, X1+X2]\n",
    "    plt.plot(x,y)\n",
    "plt.show()"
   ]
  },
  {
   "cell_type": "code",
   "execution_count": 6,
   "metadata": {
    "collapsed": false
   },
   "outputs": [
    {
     "name": "stdout",
     "output_type": "stream",
     "text": [
      "P(X1+X2 = 0) = 0.309\n",
      "P(X1+X2 = 1) = 0.2\n",
      "P(X1+X2 = 2) = 0.14\n",
      "P(X1+X2 = 3) = 0.031\n",
      "P(X1+X2 = 4) = 0.016\n",
      "P(X1+X2 = -1) = 0.257\n",
      "P(X1+X2 = -2) = 0.047\n"
     ]
    }
   ],
   "source": [
    "for i in set(results):\n",
    "    count = len([x for x in results if x==i])\n",
    "    proportion = float(count)/1000\n",
    "    print('P(X1+X2 = {}) = {}'.format(i, proportion))"
   ]
  }
 ],
 "metadata": {
  "kernelspec": {
   "display_name": "Python 2",
   "language": "python",
   "name": "python2"
  },
  "language_info": {
   "codemirror_mode": {
    "name": "ipython",
    "version": 2
   },
   "file_extension": ".py",
   "mimetype": "text/x-python",
   "name": "python",
   "nbconvert_exporter": "python",
   "pygments_lexer": "ipython2",
   "version": "2.7.11"
  }
 },
 "nbformat": 4,
 "nbformat_minor": 0
}
