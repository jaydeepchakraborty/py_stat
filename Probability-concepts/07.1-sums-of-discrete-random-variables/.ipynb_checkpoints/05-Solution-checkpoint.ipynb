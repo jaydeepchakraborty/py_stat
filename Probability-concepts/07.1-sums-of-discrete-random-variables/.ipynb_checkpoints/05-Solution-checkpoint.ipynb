{
 "cells": [
  {
   "cell_type": "markdown",
   "metadata": {},
   "source": [
    "# Consider the following two experiments:\n",
    "\n",
    "## The first has outcome $X$ taking on values 0, 1, and 2 with equal probability\n",
    "\n",
    "## The second results in an (independent) outcome $Y$ taking on the value 3 with probability 0.25 and 4 with probability 0.75\n",
    "\n",
    "# Find the distribution of\n",
    "\n",
    "## a) $Y+X$\n",
    "\n",
    "## b) $Y-X$"
   ]
  },
  {
   "cell_type": "markdown",
   "metadata": {},
   "source": [
    "____\n",
    "\n",
    "# a)\n",
    "\n",
    "$P(X+Y=3) = P(X=0)\\cdot P(Y=3) = \\frac{1}{3}\\frac{1}{4} = \\frac{1}{12}$\n",
    "\n",
    "$P(X+Y=4) = P(X=0)\\cdot P(Y=4) + P(X=1)\\cdot P(X=3) = \\frac{1}{3}\\frac{3}{4} + \\frac{1}{3}\\frac{1}{4} = \\frac{1}{3}$\n",
    "\n",
    "$P(X+Y=5) = P(X=1)\\cdot P(Y=4) + P(X=2)\\cdot P(Y=3) = \\frac{1}{3}\\frac{3}{4} + \\frac{1}{3}\\frac{1}{4} = \\frac{1}{3}$\n",
    "\n",
    "$P(X+Y=6) = P(X=2)\\cdot P(Y=4) = \\frac{1}{3}\\frac{3}{4} = \\frac{1}{4}$"
   ]
  },
  {
   "cell_type": "markdown",
   "metadata": {},
   "source": [
    "___\n",
    "# b)\n",
    "\n",
    "$P(Y-X = 1) = P(Y=3)\\cdot P(X=2) = \\frac{1}{4}\\frac{1}{3} = \\frac{1}{12}$\n",
    "\n",
    "$P(Y-X = 2) = P(Y=3)\\cdot P(X=1) + P(Y=4)\\cdot P(X=2) = \\frac{1}{4}\\frac{1}{3} + \\frac{3}{4}\\frac{1}{3} = \\frac{1}{3}$\n",
    "\n",
    "$P(Y-X = 3) = P(Y=3)\\cdot P(X=0) + P(Y=4)\\cdot P(X=1) = \\frac{1}{4}\\frac{1}{3} + \\frac{3}{4}\\frac{1}{3} = \\frac{1}{3}$\n",
    "\n",
    "$P(Y-X = 4) = P(Y=4)\\cdot P(X=0) = \\frac{3}{4}\\frac{1}{3} = \\frac{1}{4}$"
   ]
  }
 ],
 "metadata": {
  "kernelspec": {
   "display_name": "Python 2",
   "language": "python",
   "name": "python2"
  },
  "language_info": {
   "codemirror_mode": {
    "name": "ipython",
    "version": 2
   },
   "file_extension": ".py",
   "mimetype": "text/x-python",
   "name": "python",
   "nbconvert_exporter": "python",
   "pygments_lexer": "ipython2",
   "version": "2.7.11"
  }
 },
 "nbformat": 4,
 "nbformat_minor": 0
}
