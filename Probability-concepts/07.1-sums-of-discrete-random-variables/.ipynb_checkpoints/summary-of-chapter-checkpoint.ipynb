{
 "cells": [
  {
   "cell_type": "markdown",
   "metadata": {},
   "source": [
    "# *Convolutions*\n",
    "\n",
    "### Suppose $X$ and $Y$ are two independent discrete random variables with distribution functions $m_{X}(x)$ and $m_{Y}(y)$\n",
    "\n",
    "### Let $Z = X+Y$\n",
    "\n",
    "### Then, if $Z=z$ while $X=x$, we know that $Y=z-x$\n",
    "\n",
    "### Therefore $P(Z=z) = \\sum_{x}P(X=x)\\cdot P(Y=z-x)$\n",
    "\n",
    "# Definition 7.1\n",
    "\n",
    "### Let $X$ and $Y$ be two independent random variables with $m_{X}(x)$ and $m_{Y}(y)$\n",
    "\n",
    "### The *Convolution* of $m_{X}(x)$ and $m_{Y}(y)$ is the distribution function:\n",
    "\n",
    "# $m_{Z}(z) = \\sum_{x}m_{X}(x)\\cdot m_{Y}(z-c)$"
   ]
  },
  {
   "cell_type": "markdown",
   "metadata": {},
   "source": [
    "____\n",
    "\n",
    "### If we have random variables $X_{1}+X_{1}$, $X_{2}$, $X_{3}$,..., from an independent trials process and let $S_{n} = X_{1}+X_{2}+...+X_{n}$ then we know that $S_{n} = S_{n-1} + X_{n}$\n",
    "\n",
    "## Example\n",
    "\n",
    "### We roll a die twice. Let $X_{1}$ be the first roll, and $X_{2}$ be the second\n",
    "\n",
    "### Let $S_{2} = X_{1}+X_{2}$\n",
    "\n",
    "### We know $m_{X}(i) = m_{Y}(i) = \\frac{1}{6}$ for all $i$ in $[1,2,3,4,5,6]$\n",
    "\n",
    "### From this, we know:\n",
    "\n",
    "# $P(S_{2} = 2) = m_{X}(1)m_{Y}(1) = \\frac{1}{36}$\n",
    "\n",
    "# $P(S_{2} = 3) = m_{X}(1)m_{Y}(2) + m_{X}(2)m_{Y}(1) = \\frac{2}{36}$\n",
    "\n",
    "### But since we showed $S_{n} = S_{n-1} + X_{n}$, we know that if we now began examining the $S_{3}$, we could use our $S_{2}$ probabilities as:\n",
    "\n",
    "# $P(S_{3} = 3) = P(S_{2} = 2)\\cdot P(X_{3} = 1) = \\frac{1}{36}\\frac{1}{6} = \\frac{1}{6^{3}}$"
   ]
  },
  {
   "cell_type": "markdown",
   "metadata": {},
   "source": [
    "______\n",
    "\n",
    "\n",
    "## Example: bridge hands\n",
    "\n",
    "### A well-known method for evaluating a bridge hand is: an ace is assigned a value of 4, a king 3, a queen 2, and a jack 1\n",
    "\n",
    "### All other cards are assigned a zero\n",
    "\n",
    "### The *point count* for the hand is the sum of the score of each card\n",
    "\n",
    "### This means $m_{X_{i}}(x)$ is defined as:\n",
    "\n",
    "# $m_{X_{i}}(x) = \\left\\{\\begin{matrix}\\frac{36}{52} & \\text{ ; if }x=0\\\\ \\frac{4}{52} & \\text{ ; if }x=1\\\\ \\frac{4}{52} & \\text{ ; if }x=2\\\\ \\frac{4}{52} & \\text{ ; if }x=3\\\\ \\frac{4}{52} & \\text{ ; if }x=4\\end{matrix}\\right.$\n",
    "\n",
    "### We can think of our hand of 13 cards as $S_{13} = X_{1} + X_{2}+...+X_{13}$ i.e. an independent trials process with 13 trials (Note: this isn't exactly correct since we don't replace the cards)\n",
    "\n",
    "### We define a function to calculate the probabilities"
   ]
  },
  {
   "cell_type": "code",
   "execution_count": 1,
   "metadata": {
    "collapsed": true
   },
   "outputs": [],
   "source": [
    "def P_X(x):\n",
    "    if x == 0:\n",
    "        return float(36)/52\n",
    "    elif x in [1,2,3,4]:\n",
    "        return float(4)/52\n",
    "    else:\n",
    "        return 0"
   ]
  },
  {
   "cell_type": "code",
   "execution_count": 4,
   "metadata": {
    "collapsed": true
   },
   "outputs": [],
   "source": [
    "def NFoldConvolution(x, n):\n",
    "    if n == 1:\n",
    "        return P_X(x)\n",
    "    elif n == 2:\n",
    "        total = 0\n",
    "        for i in range(x+1):\n",
    "            total += P_X(i)*P_X(x-i)\n",
    "        return total\n",
    "    else:\n",
    "        total = 0\n",
    "        for i in range(x+1):\n",
    "            total += NFoldConvolution(x-i, n-1)*P_X(i)\n",
    "        return total"
   ]
  },
  {
   "cell_type": "markdown",
   "metadata": {},
   "source": [
    "### A player is said to have an *opening bid* if the opening bid has point count of 13 or more\n",
    "\n",
    "### We can calculate the probability of getting an opening bid as:"
   ]
  },
  {
   "cell_type": "code",
   "execution_count": 8,
   "metadata": {
    "collapsed": false
   },
   "outputs": [
    {
     "data": {
      "text/plain": [
       "0.28448503058475827"
      ]
     },
     "execution_count": 8,
     "metadata": {},
     "output_type": "execute_result"
    }
   ],
   "source": [
    "sum_val = 0\n",
    "for i in range(0,13):\n",
    "    sum_val += NFoldConvolution(i, 13)\n",
    "    \n",
    "1-sum_val"
   ]
  },
  {
   "cell_type": "markdown",
   "metadata": {},
   "source": [
    "### Therefore, just over 1 in 4  hands will be an opening bid"
   ]
  }
 ],
 "metadata": {
  "kernelspec": {
   "display_name": "Python 2",
   "language": "python",
   "name": "python2"
  },
  "language_info": {
   "codemirror_mode": {
    "name": "ipython",
    "version": 2
   },
   "file_extension": ".py",
   "mimetype": "text/x-python",
   "name": "python",
   "nbconvert_exporter": "python",
   "pygments_lexer": "ipython2",
   "version": "2.7.11"
  }
 },
 "nbformat": 4,
 "nbformat_minor": 0
}
