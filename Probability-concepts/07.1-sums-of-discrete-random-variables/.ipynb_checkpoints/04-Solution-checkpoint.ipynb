{
 "cells": [
  {
   "cell_type": "markdown",
   "metadata": {},
   "source": [
    "# In one play of a certain game you win an amount $X$ with distribution \n",
    "\n",
    "# $p_X = \\left\\{\\begin{matrix}\\frac{1}{4} & \\text{ ; if }x=1\\\\ \\frac{1}{4} & \\text{ ; if }x=2\\\\\\frac{1}{2} & \\text{ ; if }x=3\\\\\\end{matrix}\\right.$\n",
    "\n",
    "# Using the program NFoldConvolution find the distribution of your total winnings after ten (independent plays). Plot this distribution"
   ]
  },
  {
   "cell_type": "markdown",
   "metadata": {},
   "source": [
    "_____"
   ]
  },
  {
   "cell_type": "code",
   "execution_count": 1,
   "metadata": {
    "collapsed": true
   },
   "outputs": [],
   "source": [
    "import numpy as np\n",
    "import matplotlib.pyplot as plt\n",
    "%matplotlib inline\n",
    "plt.rcParams['figure.figsize'] = 10, 10"
   ]
  },
  {
   "cell_type": "code",
   "execution_count": 3,
   "metadata": {
    "collapsed": true
   },
   "outputs": [],
   "source": [
    "def P_X(x):\n",
    "    if x in [1, 2]:\n",
    "        return 0.25\n",
    "    elif x == 3:\n",
    "        return 0.5\n",
    "    else:\n",
    "        return 0"
   ]
  },
  {
   "cell_type": "code",
   "execution_count": 2,
   "metadata": {
    "collapsed": true
   },
   "outputs": [],
   "source": [
    "def NFoldConvolution(x, n):\n",
    "    if n == 1:\n",
    "        return P_X(x)\n",
    "    elif n == 2:\n",
    "        total = 0\n",
    "        for i in range(x+1):\n",
    "            total += P_X(i)*P_X(x-i)\n",
    "        return total\n",
    "    else:\n",
    "        total = 0\n",
    "        for i in range(x+1):\n",
    "            total += NFoldConvolution(x-i, n-1)*P_X(i)\n",
    "        return total"
   ]
  },
  {
   "cell_type": "code",
   "execution_count": 6,
   "metadata": {
    "collapsed": false
   },
   "outputs": [
    {
     "name": "stdout",
     "output_type": "stream",
     "text": [
      "P(X1+...+X10 = 0) = 0\n",
      "P(X1+...+X10 = 1) = 0.0\n",
      "P(X1+...+X10 = 2) = 0.0\n",
      "P(X1+...+X10 = 3) = 0.0\n",
      "P(X1+...+X10 = 4) = 0.0\n",
      "P(X1+...+X10 = 5) = 0.0\n",
      "P(X1+...+X10 = 6) = 0.0\n",
      "P(X1+...+X10 = 7) = 0.0\n",
      "P(X1+...+X10 = 8) = 0.0\n",
      "P(X1+...+X10 = 9) = 0.0\n",
      "P(X1+...+X10 = 10) = 9.53674316406e-07\n",
      "P(X1+...+X10 = 11) = 9.53674316406e-06\n",
      "P(X1+...+X10 = 12) = 6.19888305664e-05\n",
      "P(X1+...+X10 = 13) = 0.000286102294922\n",
      "P(X1+...+X10 = 14) = 0.00105857849121\n",
      "P(X1+...+X10 = 15) = 0.00321578979492\n",
      "P(X1+...+X10 = 16) = 0.00832557678223\n",
      "P(X1+...+X10 = 17) = 0.0185394287109\n",
      "P(X1+...+X10 = 18) = 0.0360918045044\n",
      "P(X1+...+X10 = 19) = 0.0615787506104\n",
      "P(X1+...+X10 = 20) = 0.0927782058716\n",
      "P(X1+...+X10 = 21) = 0.123157501221\n",
      "P(X1+...+X10 = 22) = 0.144367218018\n",
      "P(X1+...+X10 = 23) = 0.148315429688\n",
      "P(X1+...+X10 = 24) = 0.133209228516\n",
      "P(X1+...+X10 = 25) = 0.102905273438\n",
      "P(X1+...+X10 = 26) = 0.0677490234375\n",
      "P(X1+...+X10 = 27) = 0.03662109375\n",
      "P(X1+...+X10 = 28) = 0.015869140625\n",
      "P(X1+...+X10 = 29) = 0.0048828125\n",
      "P(X1+...+X10 = 30) = 0.0009765625\n"
     ]
    }
   ],
   "source": [
    "x = []\n",
    "y = []\n",
    "\n",
    "for i in range(31):\n",
    "    x.append(i)\n",
    "    val = NFoldConvolution(i, 10)\n",
    "    y.append(val)\n",
    "    print('P(X1+...+X10 = {}) = {}'.format(i, val))"
   ]
  },
  {
   "cell_type": "code",
   "execution_count": 7,
   "metadata": {
    "collapsed": false
   },
   "outputs": [
    {
     "data": {
      "text/plain": [
       "[<matplotlib.lines.Line2D at 0xad68c50>]"
      ]
     },
     "execution_count": 7,
     "metadata": {},
     "output_type": "execute_result"
    },
    {
     "data": {
      "image/png": "[encoded data removed]",
      "text/plain": [
       "<matplotlib.figure.Figure at 0x39a7a58>"
      ]
     },
     "metadata": {},
     "output_type": "display_data"
    }
   ],
   "source": [
    "plt.plot(x,y)"
   ]
  }
 ],
 "metadata": {
  "kernelspec": {
   "display_name": "Python 2",
   "language": "python",
   "name": "python2"
  },
  "language_info": {
   "codemirror_mode": {
    "name": "ipython",
    "version": 2
   },
   "file_extension": ".py",
   "mimetype": "text/x-python",
   "name": "python",
   "nbconvert_exporter": "python",
   "pygments_lexer": "ipython2",
   "version": "2.7.11"
  }
 },
 "nbformat": 4,
 "nbformat_minor": 0
}
