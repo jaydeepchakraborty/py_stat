{
 "cells": [
  {
   "cell_type": "markdown",
   "metadata": {},
   "source": [
    "# a) \n",
    "\n",
    "### A die is rolled three times with outcomes $X_{1}$, $X_{2}$, and $X_{3}$. \n",
    "\n",
    "### Let $Y_{3} = max(X_{1},X_{2},X_{3})$. \n",
    "\n",
    "### Show that $P(Y_{3}\\leq j) = P(X_{1}\\leq j)^{3}$\n",
    "\n",
    "### Use this to find the distribution of $Y_{3}$. Does it have a bell-shaped distribution?\n",
    "\n",
    "\n",
    "# b) \n",
    "\n",
    "### Now let $Y_{n}$ be the maximum value when $n$ dice are rolled. Find the distribution of $Y_{n}$. Is this distribution bell-shaped for large values of $n$?"
   ]
  },
  {
   "cell_type": "markdown",
   "metadata": {},
   "source": [
    "____\n",
    "\n",
    "# a)\n",
    "\n",
    "## We know that $P(X_{1}\\leq j) = P(X_{2}\\leq j) = P(X_{3}\\leq j)$\n",
    "\n",
    "## We also know that $P(Y_{3}\\leq j) = P((X_{1}\\leq j)) \\cap (X_{2}\\leq j) \\cap (X_{3}\\leq j))$\n",
    "\n",
    "## Since $X_{1}$, $X_{2}$ and $X_{3}$ are all independent, $P((X_{1}\\leq j)) \\cap (X_{2}\\leq j) \\cap (X_{3}\\leq j)) = P(X_{1}\\leq j)\\cdot P(X_{2}\\leq j) \\cdot P(X_{3}\\leq j) = \\left (P(X_{1}\\leq j) \\right )^{3}$\n",
    "\n",
    "## We can use our finding to derive:\n",
    "\n",
    "# $P(Y_{3} = k) = P(Y_{3}\\leq k) - P(Y_{3} \\leq k-1) = \\frac{k^{3}}{216} - \\frac{(k-1)^{3}}{216}$\n",
    "\n",
    "# Therefore\n",
    "\n",
    "# $p_{Y_{3}} = \\left\\{\\begin{matrix} \\frac{1}{216} & \\text{; if }x=1\\\\  \\frac{7}{216} & \\text{; if }x=2\\\\  \\frac{19}{216} & \\text{; if }x=3\\\\  \\frac{37}{216} & \\text{; if }x=4\\\\  \\frac{61}{216} & \\text{; if }x=5\\\\  \\frac{91}{216} & \\text{; if }x=6\\\\   \\end{matrix}\\right.$\n",
    "\n",
    "# Definitely not bell shaped"
   ]
  },
  {
   "cell_type": "markdown",
   "metadata": {},
   "source": [
    "____\n",
    "\n",
    "# b)\n",
    "\n",
    "# We generalize our expression above:\n",
    "\n",
    "# $P(Y_{n} = k) = \\frac{k^{n} - (k-1)^{n}}{6^{n}}$\n",
    "\n",
    "# Let's plot this for $n=100$ and look at its shape"
   ]
  },
  {
   "cell_type": "code",
   "execution_count": 1,
   "metadata": {
    "collapsed": true
   },
   "outputs": [],
   "source": [
    "import numpy as np\n",
    "import matplotlib.pyplot as plt\n",
    "%matplotlib inline\n",
    "plt.rcParams['figure.figsize'] = 10, 10"
   ]
  },
  {
   "cell_type": "code",
   "execution_count": 2,
   "metadata": {
    "collapsed": true
   },
   "outputs": [],
   "source": [
    "n = 100\n",
    "\n",
    "x = range(1,n+1)\n",
    "y = []\n",
    "\n",
    "for i in x:\n",
    "    val = (i**n - (i-1)**n)/float(6**n)\n",
    "    y.append(val)"
   ]
  },
  {
   "cell_type": "code",
   "execution_count": 3,
   "metadata": {
    "collapsed": false
   },
   "outputs": [
    {
     "data": {
      "text/plain": [
       "[<matplotlib.lines.Line2D at 0xa79ada0>]"
      ]
     },
     "execution_count": 3,
     "metadata": {},
     "output_type": "execute_result"
    },
    {
     "data": {
      "image/png": "[encoded data removed]",
      "text/plain": [
       "<matplotlib.figure.Figure at 0x38407b8>"
      ]
     },
     "metadata": {},
     "output_type": "display_data"
    }
   ],
   "source": [
    "plt.plot(x,y)"
   ]
  },
  {
   "cell_type": "markdown",
   "metadata": {},
   "source": [
    "## Definitely not bell shaped"
   ]
  }
 ],
 "metadata": {
  "kernelspec": {
   "display_name": "Python 2",
   "language": "python",
   "name": "python2"
  },
  "language_info": {
   "codemirror_mode": {
    "name": "ipython",
    "version": 2
   },
   "file_extension": ".py",
   "mimetype": "text/x-python",
   "name": "python",
   "nbconvert_exporter": "python",
   "pygments_lexer": "ipython2",
   "version": "2.7.11"
  }
 },
 "nbformat": 4,
 "nbformat_minor": 0
}
