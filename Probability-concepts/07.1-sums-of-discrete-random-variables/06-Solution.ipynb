{
 "cells": [
  {
   "cell_type": "markdown",
   "metadata": {},
   "source": [
    "# People arrive at a queue according to the following scheme:\n",
    "\n",
    "## During each minute of time, either 0 or 1 people arrive (probability of 1 is $p$)\n",
    "\n",
    "## Let $C_{r}$ be the number of customers arriving in the first $r$ minutes\n",
    "\n",
    "## Consider a Bernoulli trials process with a success if a person arrives\n",
    "\n",
    "## Let $T_{r}$ be the number of failures before the $r^{th}$ success\n",
    "\n",
    "### a) What is the distribution of $T_{r}$?\n",
    "\n",
    "### b) What is the distribution of $C_{r}$?\n",
    "\n",
    "### c) Find the mean and variance for the number of customers arriving in the first $r$ minutes"
   ]
  },
  {
   "cell_type": "markdown",
   "metadata": {},
   "source": [
    "______\n",
    "\n",
    "# a)\n",
    "\n",
    "# $P(T_{r} = x)$ gives the probability of getting $x$ failures in $r+x-1$ trials, then getting a success on trial $r+x$\n",
    "\n",
    "# The number of ways the failures can occur is equal to $\\binom{r+x-1}{x}$\n",
    "\n",
    "# This means the probability of $x$ failures in $r+x-1$ trials is equal to $\\binom{r+x-1}{x}p^{r-1}(1-p)^{x}$\n",
    "\n",
    "# Since our final result is a success, we get $P(T_{r} = x) = \\binom{r+x-1}{x}p^{r-1}(1-p)^{x} \\cdot p = \\binom{r+x-1}{x}p^{r1}(1-p)^{x}$"
   ]
  },
  {
   "cell_type": "markdown",
   "metadata": {},
   "source": [
    "____\n",
    "\n",
    "# b)\n",
    "\n",
    "# $P(C_{r} = k)$ gives the probability of getting $k$ successes in $r$ trials i.e. $b(r, p, k) = \\binom{r}{k}p^{k}(1-p)^{r-k}$"
   ]
  },
  {
   "cell_type": "markdown",
   "metadata": {},
   "source": [
    "___\n",
    "\n",
    "# c)\n",
    "\n",
    "# Recall: for a binomial distribution, $E(X) = np$ and $V(X) = npq$\n",
    "\n",
    "# Therefore $E(C_{r}) = rp$ and $V(C_{r}) = rp(1-p)$"
   ]
  }
 ],
 "metadata": {
  "kernelspec": {
   "display_name": "Python 2",
   "language": "python",
   "name": "python2"
  },
  "language_info": {
   "codemirror_mode": {
    "name": "ipython",
    "version": 2
   },
   "file_extension": ".py",
   "mimetype": "text/x-python",
   "name": "python",
   "nbconvert_exporter": "python",
   "pygments_lexer": "ipython2",
   "version": "2.7.11"
  }
 },
 "nbformat": 4,
 "nbformat_minor": 0
}
