{
 "cells": [
  {
   "cell_type": "markdown",
   "metadata": {},
   "source": [
    "# *Problem of Extinction*\n",
    "\n",
    "### We want to figure out the probability of extinction for a family\n",
    "\n",
    "### We start in generation 0 with one male parent\n",
    "\n",
    "### The probability of having 0, 1, 2, 3, ..., male children are equal to $p_{1}$, $p_{2}$, $p_{3}$, ..."
   ]
  },
  {
   "cell_type": "markdown",
   "metadata": {},
   "source": [
    "### If there are $k$ male children in the first generation, then each male child will have $X_{1, i}$ male children of his own and the resulting total number of male offspring from that generation is equal to $X_{1, 1} + X_{1, 2} + ... + X_{1, k}$"
   ]
  },
  {
   "cell_type": "markdown",
   "metadata": {},
   "source": [
    "## Example\n",
    "\n",
    "### Assume that $p_{0} = \\frac{1}{2}$, $p_{1} = \\frac{1}{4}$ and $p_{2} = \\frac{1}{4}$\n",
    "\n",
    "### Then, the following tree diagram describes the population growth"
   ]
  },
  {
   "cell_type": "markdown",
   "metadata": {},
   "source": [
    "![](images/branching-table-1.PNG)"
   ]
  },
  {
   "cell_type": "markdown",
   "metadata": {},
   "source": [
    "### We want to zero-in on the probability that a family will die out"
   ]
  },
  {
   "cell_type": "markdown",
   "metadata": {},
   "source": [
    "## Let $d_{m}$ be the probability that a family dies out by the $m$th generation\n",
    "\n",
    "## $\\implies d_{0} = 0$\n",
    "\n",
    "## From our example, $d_{1} = 1/2$, $d_{2} = 1/2 + 1/8 + 1/16 = 11/16$"
   ]
  },
  {
   "cell_type": "markdown",
   "metadata": {},
   "source": [
    "### As we can see, we need to add the probability from previous generations i.e. $d_{1} \\leq d_{2} \\leq ...$"
   ]
  },
  {
   "cell_type": "markdown",
   "metadata": {},
   "source": [
    "### So, as $n\\rightarrow \\infty$, the values $d_{n} \\rightarrow d$ where $0\\leq d \\leq 1$\n",
    "\n",
    "### This value $d$ is what we want to solve for"
   ]
  },
  {
   "cell_type": "markdown",
   "metadata": {},
   "source": [
    "### For the first step, we consider all possible offspring in the first generation\n",
    "\n",
    "### Then, for each case, we know that if the family dies out, it occurs in the following $m-1$ generations\n",
    "\n",
    "# $\\implies d_{m} = p_{0} + p_{1}d_{m-1} + p_{2} \\left (d_{m-1} \\right )^{2}+ p_{3} \\left (d_{m-1} \\right )^{3}+...$\n",
    "\n",
    "### Note: the reason why we each $d_{m-1}$ term is of increasing power is because if we have offspring, the probability of the family dying off is $d_{m-1}$. However, if we have two offspring, both have to die off in $m-1$ generations which has probability $d_{m-1}^{2}$, etc."
   ]
  },
  {
   "cell_type": "markdown",
   "metadata": {},
   "source": [
    "### If we let $z = d_{m-1}$, then $d_{m} = p_{0}z^{0} + p_{1}z^{1} + p_{2}z^{2}+... = h(z)$\n",
    "\n",
    "### i.e. we represent our probability $d_{m}$ with an ordinary generating function $h(z) \\implies d_{m} = h(d_{m-1})$"
   ]
  },
  {
   "cell_type": "markdown",
   "metadata": {},
   "source": [
    "### Now, since $d_{m}\\rightarrow d$, we know for very very large $n$, $d_{m} \\approx d_{m-1} \\implies d = h(d)$\n",
    "\n",
    "### $\\implies d = p_{0}d^{0} + p_{1}d^{1} + p_{2}d^{2}+...$\n",
    "\n",
    "### One possible solution for this equation is $d=1$ since $p_{0}d^{0} + p_{1}d^{1} + p_{2}d^{2}+... = p_{0} + p_{1} + p_{2}+...$ and we know the probabilities for the possible number of offspring *must add up to zero*"
   ]
  },
  {
   "cell_type": "markdown",
   "metadata": {},
   "source": [
    "### We want to figure out how many possible solutions there are for $d$ (i.e. how many values other than $d=1$) such that the equation above is satisfied\n",
    "\n",
    "### We combine the three following facts:\n",
    "\n",
    "### 1. $h(0) = p_{0}$\n",
    "\n",
    "### 2. $h^{'}(z) = p_{1} + 2p_{2}z + ...$ which is always greater than zero\n",
    "\n",
    "### 3. $h^{''}(z) = 2p_{2}(z) + 6p_{3}z + ...$ which is also always greater than zero\n",
    "\n",
    "### Therefore $h(z)$ is always positive and is concave upwards\n",
    "\n",
    "### To solve for the $d$ values that satisfy the equation, we need to look at where the plot of $y = h(x)$ intersects with the line $y = 1$"
   ]
  },
  {
   "cell_type": "markdown",
   "metadata": {},
   "source": [
    "![](images/graphs1.PNG)"
   ]
  },
  {
   "cell_type": "markdown",
   "metadata": {},
   "source": [
    "### As we can see from the plots above, the function can intersect the line at most twice, one of which being at $d=1$\n",
    "\n",
    "### Since we know that $d$ is a probability, is cannot be greater than 1. In these cases, we know with certainty 1 that the process will die out"
   ]
  },
  {
   "cell_type": "markdown",
   "metadata": {},
   "source": [
    "### We note that $h^{'}(1) = p_{1} + 2p_{2} + 3p_{3}+... = m$ which is simply the weighted average number of children in the first generation (i.e. the EXPECTED NUMBER OF OFFSPRING from a single parent)"
   ]
  },
  {
   "cell_type": "markdown",
   "metadata": {},
   "source": [
    "### Looking at the three plots above, we can see that:\n",
    "\n",
    "### a) The slope at 1 is greater than the slope of the line $\\implies h^{'}(1)>1 \\implies m>1$\n",
    "\n",
    "### b) The slope at 1 is equal to the slope of the line $\\implies h^{'}(1)=1 \\implies m=1$\n",
    "\n",
    "### c) The slope at 1 is less than the slope of the line $\\implies h^{'}(1)<1 \\implies m=1$\n",
    "\n",
    "### In summary, when $d<1$, the expected number of offspring of a single parent is greater than 1"
   ]
  },
  {
   "cell_type": "markdown",
   "metadata": {},
   "source": [
    "### Recall, we let $z = d_{m-1}$ to show that $d_{m} = p_{0} + p_{1}z + p_{2}z^{2} + ... = h(d_{m-1})$\n",
    "\n",
    "### So $d_{1} = h(d_{0})$, $d_{2} = h(d_{1}) = h(h(d_{0}))$, ..., $d_{n} = h(d_{n-1}) = h^{n}(d_{0})$"
   ]
  },
  {
   "cell_type": "markdown",
   "metadata": {},
   "source": [
    "![](images/chart1.PNG)"
   ]
  },
  {
   "cell_type": "markdown",
   "metadata": {},
   "source": [
    "# Theorem 10.2\n",
    "\n",
    "## Consider a branching process with ordinary generating function $h(z)$ for the number of offspring\n",
    "\n",
    "## Let $d$ be the smallest root of the equation $z = h(z)$\n",
    "\n",
    "## If the expected number of offspring $m$ by a single parent is $\\leq 1$, then $d=1$ and we are certain that the process will die out\n",
    "\n",
    "## If $m>1$, then $d<1$ and the probability that the process dies out is equal to $d$"
   ]
  },
  {
   "cell_type": "markdown",
   "metadata": {},
   "source": [
    "______\n",
    "\n",
    "### We often want to know the probability of the process dying out after $n$ generations\n",
    "\n",
    "### Let $d_{n}$ be the probability of the process dying out by generation $n$\n",
    "\n",
    "### Then, we know that $d_{1} = p_{0}$\n",
    "\n",
    "### We also know that $d_{n} = h(d_{n-1})$\n",
    "\n",
    "### We can use these two facts to iterate through and calculate our probabilities"
   ]
  },
  {
   "cell_type": "markdown",
   "metadata": {},
   "source": [
    "## Example\n",
    "\n",
    "### Let $p_{0} = 0.2$, $p_{1} = 0.5$ and $p_{2} = 0.3$"
   ]
  },
  {
   "cell_type": "code",
   "execution_count": 1,
   "metadata": {
    "collapsed": true
   },
   "outputs": [],
   "source": [
    "def h(z):\n",
    "    return 0.2 + 0.5*z + 0.3*z**2"
   ]
  },
  {
   "cell_type": "code",
   "execution_count": 2,
   "metadata": {
    "collapsed": true
   },
   "outputs": [],
   "source": [
    "list_results = [0.2]\n",
    "\n",
    "for i in range(11):\n",
    "    d_minus_1 = list_results[i]\n",
    "    d = h(d_minus_1)\n",
    "    list_results.append(d)"
   ]
  },
  {
   "cell_type": "code",
   "execution_count": 3,
   "metadata": {},
   "outputs": [
    {
     "data": {
      "text/plain": [
       "[0.2,\n",
       " 0.31200000000000006,\n",
       " 0.3852032,\n",
       " 0.437116051587072,\n",
       " 0.4758791585600576,\n",
       " 0.5058778713455774,\n",
       " 0.5297126618879284,\n",
       " 0.5490349821932826,\n",
       " 0.5649493145982347,\n",
       " 0.578224975718622,\n",
       " 0.5894157246227513,\n",
       " 0.5989311312411445]"
      ]
     },
     "execution_count": 3,
     "metadata": {},
     "output_type": "execute_result"
    }
   ],
   "source": [
    "list_results"
   ]
  },
  {
   "cell_type": "markdown",
   "metadata": {},
   "source": [
    "### So, for this example, the probability of the family dying out in 12 generations is about 60%\n",
    "\n",
    "### Let's simulate this as well"
   ]
  },
  {
   "cell_type": "code",
   "execution_count": 55,
   "metadata": {
    "collapsed": true
   },
   "outputs": [],
   "source": [
    "import numpy as np\n",
    "import random\n",
    "import pandas as pd\n",
    "import matplotlib.pyplot as plt\n",
    "%matplotlib inline\n",
    "plt.rcParams['figure.figsize'] = 10, 7.5"
   ]
  },
  {
   "cell_type": "code",
   "execution_count": 12,
   "metadata": {
    "collapsed": true
   },
   "outputs": [],
   "source": [
    "def single_parent():\n",
    "    rand = random.random()\n",
    "    if rand <= 0.2:\n",
    "        return 0\n",
    "    elif rand <= 0.2 + 0.5:\n",
    "        return 1\n",
    "    else:\n",
    "        return 2"
   ]
  },
  {
   "cell_type": "code",
   "execution_count": 25,
   "metadata": {
    "collapsed": true
   },
   "outputs": [],
   "source": [
    "def simulate_family():\n",
    "    list_new_members = [1]\n",
    "    new_members = single_parent()\n",
    "    list_new_members.append(new_members)\n",
    "    \n",
    "    for i in range(11):\n",
    "        this_round = 0\n",
    "        for i in range(new_members):\n",
    "            this_round += single_parent()\n",
    "        new_members = this_round\n",
    "        \n",
    "        list_new_members.append(new_members)\n",
    "    return list_new_members"
   ]
  },
  {
   "cell_type": "code",
   "execution_count": 37,
   "metadata": {},
   "outputs": [],
   "source": [
    "list_results = []\n",
    "for i in range(10000):\n",
    "    val = simulate_family()[-1]\n",
    "    list_results.append(val)"
   ]
  },
  {
   "cell_type": "code",
   "execution_count": 38,
   "metadata": {},
   "outputs": [
    {
     "data": {
      "text/plain": [
       "0.5992"
      ]
     },
     "execution_count": 38,
     "metadata": {},
     "output_type": "execute_result"
    }
   ],
   "source": [
    "len([x for x in list_results if x==0])/10000.0"
   ]
  },
  {
   "cell_type": "markdown",
   "metadata": {},
   "source": [
    "_____\n",
    "\n",
    "### For now, let's limit the number of possible offspring to 2\n",
    "\n",
    "## $\\implies h(z) = p_{0} + p_{1}z + p_{2}z^{2}$\n",
    "\n",
    "### So, if $d = h(d) \\implies d = p_{0} + p_{1}d + p_{2}d^{2}$\n",
    "\n",
    "### This equation has solutions $d=1$ and $d=\\frac{p_{0}}{p_{2}}$\n",
    "\n",
    "### To show that $d = \\frac{p_{0}}{p_{2}}$ is a solution: $p_{0} + p_{1}\\frac{p_{0}}{p_{2}} + p_{2}(\\frac{p_{0}}{p_{2}})^{2} = p_{0} + p_{1}\\frac{p_{0}}{p_{2}} + \\frac{p_{0}^{2}}{p_{2}}= p_{0}\\left ( \\frac{p_{2} + p_{2} + p_{0}}{p_{2}} \\right ) = \\frac{p_{0}}{p_{2}}$"
   ]
  },
  {
   "cell_type": "markdown",
   "metadata": {},
   "source": [
    "### With a maximum of 2 offspring, the expected number of offspring is equal to $m = p{1} + 2p_{2}$\n",
    "\n",
    "### If we swap out $p_{1}$ with $1 - p_{0} - p_{2} \\implies m = 1 - p_{0} - p_{2}+ 2p_{2} = 1 - p_{0} + p_{2}$"
   ]
  },
  {
   "cell_type": "markdown",
   "metadata": {},
   "source": [
    "### Recall the condition that we need $m>1$ for $d<1$ i.e. for the death of the process to not be guaranteed\n",
    "\n",
    "### This requires that $-p_{0} + p_{2} > 0 \\implies p_{2} > p_{0}$\n",
    "\n",
    "### Therefore, for the process to survive with non-zero probability, the probability of 2 offspring must be higher than the probability of no offspring"
   ]
  },
  {
   "cell_type": "markdown",
   "metadata": {},
   "source": [
    "______\n",
    "\n",
    "## Example\n",
    "\n",
    "### The probability distribution for a single Japanese family is given by the following table:\n",
    "\n",
    "![](images/japanese-family-table.PNG)"
   ]
  },
  {
   "cell_type": "markdown",
   "metadata": {},
   "source": [
    "### This means that \n",
    "\n",
    "$m = 0.2584+0.2360\\cdot2+0.1593\\cdot3+0.0828\\cdot4+0.0357\\cdot5+0.0133\\cdot6+0.0042\\cdot7+0.0011\\cdot8+0.002\\cdot9 = 1.837$"
   ]
  },
  {
   "cell_type": "markdown",
   "metadata": {},
   "source": [
    "### We can approximate $d$ by calculating $d_{1000}$"
   ]
  },
  {
   "cell_type": "code",
   "execution_count": 39,
   "metadata": {
    "collapsed": true
   },
   "outputs": [],
   "source": [
    "list_p_values = [0.2092,0.2584,0.2360,0.1593,0.0828,0.0357,0.0133,0.0042,0.0011,0.0002]"
   ]
  },
  {
   "cell_type": "code",
   "execution_count": 53,
   "metadata": {},
   "outputs": [
    {
     "data": {
      "text/plain": [
       "0.32432603489027545"
      ]
     },
     "execution_count": 53,
     "metadata": {},
     "output_type": "execute_result"
    }
   ],
   "source": [
    "d = list_p_values[0]\n",
    "for j in range(1000):\n",
    "    new_d = 0\n",
    "    for i, val in enumerate(list_p_values):\n",
    "        new_d += val * (d**i)\n",
    "    d = new_d\n",
    "\n",
    "d"
   ]
  },
  {
   "cell_type": "markdown",
   "metadata": {},
   "source": [
    "### So the probability of this family not dying off is only $\\approx 0.324$\n",
    "\n",
    "### Let's plot its convergence"
   ]
  },
  {
   "cell_type": "code",
   "execution_count": 60,
   "metadata": {},
   "outputs": [
    {
     "data": {
      "text/plain": [
       "<matplotlib.axes._subplots.AxesSubplot at 0x10476ac8>"
      ]
     },
     "execution_count": 60,
     "metadata": {},
     "output_type": "execute_result"
    },
    {
     "data": {
      "image/png": "[encoded data removed]",
      "text/plain": [
       "<matplotlib.figure.Figure at 0xc032a20>"
      ]
     },
     "metadata": {},
     "output_type": "display_data"
    }
   ],
   "source": [
    "df = pd.DataFrame(columns = ['d'])\n",
    "\n",
    "d = list_p_values[0]\n",
    "for j in range(100):\n",
    "    new_d = 0\n",
    "    for i, val in enumerate(list_p_values):\n",
    "        new_d += val * (d**i)\n",
    "    d = new_d\n",
    "    df.loc[j] = d\n",
    "\n",
    "df.plot()"
   ]
  },
  {
   "cell_type": "markdown",
   "metadata": {},
   "source": [
    "_____\n",
    "\n",
    "# *Distribution of Offspring*\n",
    "\n",
    "### So far, we've only thought about the probability of extinction\n",
    "\n",
    "## Now, we want to consider the distribution of offspring in generation $n$, denoted $Z_{n}$\n",
    "\n",
    "### We'll see that this distribution is hard to derive (except in special cases)\n",
    "\n",
    "### However, we can describe $Z_{n}$ as $n\\rightarrow \\infty$"
   ]
  },
  {
   "cell_type": "markdown",
   "metadata": {},
   "source": [
    "## Recall:\n",
    "\n",
    "## $\\mu_{n} = E(X^{n}) = g^{(n)}(0)$\n",
    "\n",
    "## $g(t) = \\sum p(x_{i})e^{(x_{i})t}$ and $h(z) = \\sum p(x_{i})z^{(x_{i})}$\n",
    "\n",
    "### $\\implies E(z^{X}) = p(X=0)z^{0} + p(X+1)z^{1}+... = h(z)$"
   ]
  },
  {
   "cell_type": "markdown",
   "metadata": {},
   "source": [
    "### Let $S_{n} = X_{1} + X_{2} + ... + X^{n}$ where each $X_{j}$ has the same generating function $k(z) =p_{0} + p_{1}z + p_{2}z^{2} + ...$\n",
    "\n",
    "### Let $k_{n}$ be the generating function for $S_{n}$"
   ]
  },
  {
   "cell_type": "markdown",
   "metadata": {},
   "source": [
    "### We learned in [10.1](../10.1-generating-functions-for-discrete-distributions/summary-of-chapter.ipynb) that $h_{n}(z) = \\left ( h(z)\\right )^{n}$\n",
    "\n",
    "### $\\implies k_{n}(z) = \\left ( k(z) \\right )^{n}$"
   ]
  },
  {
   "cell_type": "markdown",
   "metadata": {},
   "source": [
    "## Let $h_{n}(z)$ be the generating function of $Z_{n} \\implies h_{n}(z) = E(z^{Z^{n}}) = \\sum E\\left ( z^{Z_{n}}|Z_{n-1}=k \\right )\\cdot P\\left (Z_{n-1}=k \\right )$"
   ]
  },
  {
   "cell_type": "markdown",
   "metadata": {},
   "source": [
    "## If $Z_{n-1} = k$, then there are $k$ members of that generation who will have children\n",
    "\n",
    "## $\\implies Z_{n} = X_{1}+X_{2}+...+X_{k} \\implies E\\left ( z^{Z_{n}}|Z_{n-1}=k \\right ) = E(z^{X_{1}+X_{2}+...+X_{k}}) = \\left (h(z)\\right )^{k}$"
   ]
  },
  {
   "cell_type": "markdown",
   "metadata": {},
   "source": [
    "# $\\implies  \\sum E\\left ( z^{Z_{n}}|Z_{n-1}=k \\right )\\cdot P\\left (Z_{n-1}=k \\right ) =  \\sum \\left (h(z)\\right )^{k}\\cdot P\\left (Z_{n-1}=k \\right )$"
   ]
  },
  {
   "cell_type": "markdown",
   "metadata": {},
   "source": [
    "## But by definition, $h_{n}(z) = \\sum p_{k}z^{k} = \\sum P\\left (Z_{n}=k \\right )z^{k}$"
   ]
  },
  {
   "cell_type": "markdown",
   "metadata": {},
   "source": [
    "# $\\implies \\sum P\\left (Z_{n}=k \\right )z^{k} = \\sum \\left (h(z)\\right )^{k}\\cdot P\\left (Z_{n-1}=k \\right )$\n",
    "\n",
    "# $\\implies h_{n+1}(z) = h_{n}\\left ( h(z) \\right )$\n",
    "\n",
    "# $\\implies h^{'}_{n+1}(z) = h^{'}_{n}(h(z))h^{'}(z)$"
   ]
  },
  {
   "cell_type": "markdown",
   "metadata": {},
   "source": [
    "# Recall: $h(1) = 1$ , $h^{'}(1)=\\mu_{1}$\n",
    "\n",
    "# $\\implies h^{'}(1) = m$ and $h^{'}_{n} = m_{n}$ i.e. the mean number of offspring in the $m$th generation"
   ]
  },
  {
   "cell_type": "markdown",
   "metadata": {},
   "source": [
    "# $\\implies h^{'}_{n+1}(1) = h^{'}_{n}(h(1))h^{'}(1) = h^{'}_{n}(1)\\cdot m = m_{n}\\cdot m$"
   ]
  },
  {
   "cell_type": "markdown",
   "metadata": {},
   "source": [
    "# Now, iterating from $n+1 = 2$ we get:\n",
    "\n",
    "# $m_{2} = m_{1}\\cdot m = m^{2}$\n",
    "\n",
    "# $m_{3} = m_{2} \\cdot m = m^{2} \\cdot m = m^{3}$\n",
    "\n",
    "# $m_{n+1} = m^{n+1}$"
   ]
  },
  {
   "cell_type": "markdown",
   "metadata": {},
   "source": [
    "# As we can see, if the expected number of offspring from a single parent $m>1$, then the mean number of offspring from the population grows exponentially at rate $m$"
   ]
  },
  {
   "cell_type": "markdown",
   "metadata": {},
   "source": [
    "_____\n",
    "\n",
    "# Examples\n",
    "\n",
    "## A)\n",
    "\n",
    "# $p_{0} = 1/2$, $p_{1} = 1/4$, $p_{2} = 1/4 \\implies m=1/4 + 1/2 = 3/4 < 1$\n",
    "\n",
    "# $m_{2} = 9/16$\n",
    "\n",
    "# Alternatively\n",
    "\n",
    "# $h(z) = 1/2 + z/4 + z^{2}/4 \\implies h^{'}(z) = 1/4 + z/2 \\implies h^{'}(1) = 3/4$\n",
    "\n",
    "# $h_{2}(z) = \\left (h(z) \\right )^{2} = 11/16 + z/8 + 9z^{2}/64 + z^{3}/32 + z^{4}/64$\n",
    "\n",
    "# $\\implies h_{2}^{'}(z) = 1/8 + 9z/32 + 3z^{2}/32 + z^{3}/16$\n",
    "\n",
    "# $\\implies h_{2}^{'}(1) = 1/8 + 9/32 + 3/32 + 1/16 = 9/16$\n",
    "\n",
    "# We can already see that taking higher derivatives of $h_{n}(z)$ will be a pain in the ass"
   ]
  },
  {
   "cell_type": "markdown",
   "metadata": {},
   "source": [
    "____\n",
    "\n",
    "# B)\n",
    "\n",
    "# Assume that probabilities $p_{o}$, $p_{1}$, ..., form a geometric series\n",
    "\n",
    "# i.e. $p_{k} = b\\cdot c^{k-1}$\n",
    "\n",
    "# $1 = p_{0} + p_{1} + p_{2} + ... \\implies p_{0} = 1 - p_{1} - p_{2} - ...$\n",
    "\n",
    "# $= 1 - b + b\\cdot c + b \\cdot c^{2} + ... = 1 - b\\left ( \\frac{1}{1-c} \\right )$\n",
    "\n",
    "# $\\implies h(z) = p_{0} + p_{1}z + p_{2}z^{2}+... = \\left ( 1 - b\\left ( \\frac{1}{1-c} \\right ) \\right ) + bz + bcz^{2} + ...$"
   ]
  },
  {
   "cell_type": "markdown",
   "metadata": {},
   "source": [
    "# $ = 1 - b\\left ( \\frac{1}{1-c} \\right ) + \\frac{bz}{1-cz}$"
   ]
  },
  {
   "cell_type": "markdown",
   "metadata": {},
   "source": [
    "# $\\implies h^{'}(z) = \\frac{b}{(1-cz)^{2}} \\implies m = h^{'}(1) = \\frac{b}{(1-c)^{2}}$"
   ]
  },
  {
   "cell_type": "markdown",
   "metadata": {},
   "source": [
    "# If $m<1$ then the population will die out with 100% certainty\n",
    "\n",
    "# So for $d<1 \\implies b > (1-c)^{2}$"
   ]
  },
  {
   "cell_type": "markdown",
   "metadata": {},
   "source": [
    "# To solve for $d$, we need to find the roots of $d = h(d)$\n",
    "\n",
    "# $ d = 1 - b\\left ( \\frac{1}{1-c} \\right ) + \\frac{bd}{1-cd} \\implies d = \\frac{1-b-c}{c(1-c)}$"
   ]
  }
 ],
 "metadata": {
  "kernelspec": {
   "display_name": "Python 3",
   "language": "python",
   "name": "python3"
  },
  "language_info": {
   "codemirror_mode": {
    "name": "ipython",
    "version": 3
   },
   "file_extension": ".py",
   "mimetype": "text/x-python",
   "name": "python",
   "nbconvert_exporter": "python",
   "pygments_lexer": "ipython3",
   "version": "3.6.4"
  }
 },
 "nbformat": 4,
 "nbformat_minor": 2
}
