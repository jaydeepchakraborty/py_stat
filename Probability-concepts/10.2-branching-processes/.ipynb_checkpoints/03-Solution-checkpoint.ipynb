{
 "cells": [
  {
   "cell_type": "markdown",
   "metadata": {},
   "source": [
    "# In the chain letter problem, find your expected profit if:\n",
    "\n",
    "## a) $p_{0} = 1/2$, $p_{1}=0$ and $p_{2}=1/2$\n",
    "\n",
    "## b) $p_{0}=1/6$, $p_{1}=1/2$ and $p_{2}=1/3$"
   ]
  },
  {
   "cell_type": "markdown",
   "metadata": {},
   "source": [
    "_____\n",
    "\n",
    "# Recall: the expected number of letters we send is $m=p_{1} + 2p_{2}$\n",
    "\n",
    "# The expected payoff is equal to $-100 + 50(m + m^{12})$"
   ]
  },
  {
   "cell_type": "markdown",
   "metadata": {},
   "source": [
    "_____\n",
    "\n",
    "# a)\n",
    "\n",
    "# $m = 0 + 2(1/2) = 1 \\implies E(\\text{Payoff}) = -100 + 50(1 + 1^{12}) = 0$"
   ]
  },
  {
   "cell_type": "markdown",
   "metadata": {},
   "source": [
    "_____\n",
    "\n",
    "# b)\n",
    "\n",
    "# $m = 1/2 + 2(1/3) = 7/6 = 1.\\bar{6} \\implies E(\\text{Payoff}) = -100 + 50(1.\\bar{6} + 1.\\bar{6}^{12}) = 276.26$"
   ]
  }
 ],
 "metadata": {
  "kernelspec": {
   "display_name": "Python 2",
   "language": "python",
   "name": "python2"
  },
  "language_info": {
   "codemirror_mode": {
    "name": "ipython",
    "version": 2
   },
   "file_extension": ".py",
   "mimetype": "text/x-python",
   "name": "python",
   "nbconvert_exporter": "python",
   "pygments_lexer": "ipython2",
   "version": "2.7.11"
  }
 },
 "nbformat": 4,
 "nbformat_minor": 0
}
