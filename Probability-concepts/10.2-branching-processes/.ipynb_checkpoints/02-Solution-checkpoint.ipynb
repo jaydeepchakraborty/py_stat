{
 "cells": [
  {
   "cell_type": "markdown",
   "metadata": {},
   "source": [
    "# Let $Z_{1}$, $Z_{2}$, ..., $Z_{N}$ describe a branching process in which each parent has $j$ offspring with probability $p_{j}$\n",
    "\n",
    "# Find the probability $d$ that the process dies out if:\n",
    "\n",
    "## a) $p_{0} = 1/2$, $p_{1}=p_{2} = 0$, and $p_{3} = 1/2$\n",
    "\n",
    "## b) $p_{0} = p_{1} = p_{2} = p_{3} = 1/4$\n",
    "\n",
    "## c) $p_{0} = t$, $p_{1}=1-2t$, $p_{2}=0$ and $p_{3}=t$ where $t\\leq 1/2$"
   ]
  },
  {
   "cell_type": "markdown",
   "metadata": {},
   "source": [
    "____\n",
    "\n",
    "# a)\n",
    "\n",
    "# $p_{0} = 1/2$, $p_{1}=p_{2} = 0$, and $p_{3} = 1/2$\n",
    "\n",
    "# $\\implies m = 0\\cdot(1/2) + 1\\cdot(0) + 2\\cdot(0) + 3\\cdot(1/2) = 3/2 > 1 \\implies d<1$"
   ]
  },
  {
   "cell_type": "code",
   "execution_count": 4,
   "metadata": {
    "collapsed": false
   },
   "outputs": [
    {
     "data": {
      "text/plain": [
       "0.6180339887498948"
      ]
     },
     "execution_count": 4,
     "metadata": {},
     "output_type": "execute_result"
    }
   ],
   "source": [
    "d = 0.5\n",
    "\n",
    "for i in range(1000):\n",
    "    d_new = 0.5+0.5*d**3\n",
    "    d = d_new\n",
    "d"
   ]
  },
  {
   "cell_type": "markdown",
   "metadata": {},
   "source": [
    "# $\\implies d\\rightarrow 0.618$"
   ]
  },
  {
   "cell_type": "markdown",
   "metadata": {},
   "source": [
    "____\n",
    "\n",
    "# b)\n",
    "\n",
    "# $p_{0} = p_{1} = p_{2} = p_{3} = 1/4$\n",
    "\n",
    "# $\\implies m = 0\\cdot(1/4) + 1\\cdot(1/4) + 2\\cdot(1/4) + 3\\cdot(1/4) = 3/2 > 1 \\implies d<1$"
   ]
  },
  {
   "cell_type": "code",
   "execution_count": 6,
   "metadata": {
    "collapsed": false
   },
   "outputs": [
    {
     "data": {
      "text/plain": [
       "0.41421356237309503"
      ]
     },
     "execution_count": 6,
     "metadata": {},
     "output_type": "execute_result"
    }
   ],
   "source": [
    "d = 0.25\n",
    "\n",
    "for i in range(1000):\n",
    "    d_new = 0.25*(1+d+d**2+d**3)\n",
    "    d = d_new\n",
    "d"
   ]
  },
  {
   "cell_type": "markdown",
   "metadata": {},
   "source": [
    "# $\\implies d\\rightarrow 0.414$"
   ]
  },
  {
   "cell_type": "markdown",
   "metadata": {},
   "source": [
    "_____\n",
    "\n",
    "# c)\n",
    "\n",
    "# $p_{0} = t$, $p_{1}=1-2t$, $p_{2}=0$ and $p_{3}=t$ where $t\\leq 1/2$\n",
    "\n",
    "# $\\implies m = 0\\cdot t + 1\\cdot(1-2t)+3\\cdot t = 1 + t \\geq 1$\n",
    "\n",
    "# $\\implies \\text{ if } t=0 \\implies d=0$ (since $p_{0}=0$) and otherwise $d<1$"
   ]
  },
  {
   "cell_type": "markdown",
   "metadata": {},
   "source": [
    "### We can test for a bunch of different possible $t$ values"
   ]
  },
  {
   "cell_type": "code",
   "execution_count": 9,
   "metadata": {
    "collapsed": true
   },
   "outputs": [],
   "source": [
    "import numpy as np"
   ]
  },
  {
   "cell_type": "code",
   "execution_count": 7,
   "metadata": {
    "collapsed": true
   },
   "outputs": [],
   "source": [
    "def p(j, t):\n",
    "    if (j==0) or (j==3):\n",
    "        return t\n",
    "    elif j==2:\n",
    "        return 0\n",
    "    elif j==1:\n",
    "        return 1-2*t"
   ]
  },
  {
   "cell_type": "code",
   "execution_count": 12,
   "metadata": {
    "collapsed": false
   },
   "outputs": [
    {
     "name": "stdout",
     "output_type": "stream",
     "text": [
      "(0.0, 0.0)\n",
      "(0.050000000000000003, 0.6180339887498939)\n",
      "(0.10000000000000001, 0.61803398874989424)\n",
      "(0.15000000000000002, 0.61803398874989435)\n",
      "(0.20000000000000001, 0.61803398874989457)\n",
      "(0.25, 0.61803398874989457)\n",
      "(0.30000000000000004, 0.61803398874989468)\n",
      "(0.35000000000000003, 0.61803398874989468)\n",
      "(0.40000000000000002, 0.6180339887498949)\n",
      "(0.45000000000000001, 0.61803398874989479)\n"
     ]
    }
   ],
   "source": [
    "for t in np.arange(0,0.5,0.05):\n",
    "    d = t\n",
    "    for i in range(1000):\n",
    "        d_new = 0\n",
    "        for j in range(4):\n",
    "            d_new += p(j,t)*d**j\n",
    "        d = d_new\n",
    "    print(t, d)"
   ]
  },
  {
   "cell_type": "markdown",
   "metadata": {},
   "source": [
    "# It looks like they all converge to the same $d$ value when $t>0$\n",
    "\n",
    "## We can derive this value by solving for the roots:\n",
    "\n",
    "# $d = t + (1-2t)d + td^{3} \\implies d = \\frac{1}{2}\\left (\\sqrt{5}-1 \\right ) = 0.618034$"
   ]
  }
 ],
 "metadata": {
  "kernelspec": {
   "display_name": "Python 2",
   "language": "python",
   "name": "python2"
  },
  "language_info": {
   "codemirror_mode": {
    "name": "ipython",
    "version": 2
   },
   "file_extension": ".py",
   "mimetype": "text/x-python",
   "name": "python",
   "nbconvert_exporter": "python",
   "pygments_lexer": "ipython2",
   "version": "2.7.11"
  }
 },
 "nbformat": 4,
 "nbformat_minor": 0
}
