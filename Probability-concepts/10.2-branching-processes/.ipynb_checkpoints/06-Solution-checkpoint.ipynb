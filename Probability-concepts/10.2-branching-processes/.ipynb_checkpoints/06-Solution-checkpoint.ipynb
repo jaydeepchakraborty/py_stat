{
 "cells": [
  {
   "cell_type": "markdown",
   "metadata": {},
   "source": [
    "# Consider a queing process such that in each minute either 1 or 0 customers arrive with probabilities $p$ or $q=1-p$\n",
    "\n",
    "# The number $p$ is called the *arrival rate*\n",
    "\n",
    "# When a customer starts service, she finished in the next minute with probability $r$\n",
    "\n",
    "# The number $r$ is called the *service rate*\n",
    "\n",
    "# Thus, when a customer begins being served, she will finish within $j$ minutes with probability $(1-r)^{j-1}\\cdot r$"
   ]
  },
  {
   "cell_type": "markdown",
   "metadata": {},
   "source": [
    "## a) Find the generating function $f(z)$ for the number of customers who arrive in one minute and the generating function $g(z)$ for the length of time that a person spends in service once it begins"
   ]
  },
  {
   "cell_type": "markdown",
   "metadata": {},
   "source": [
    "## b) Consider a *customer branching process*. Using [Exercise 4](04-Solution.ipynb) show that the generating function for our customer branching process is $h(z) = g(f(z))$"
   ]
  },
  {
   "cell_type": "markdown",
   "metadata": {},
   "source": [
    "## c) If we start the branching process with the arrival of the first customer, then the length of time until the branching process dies out will be the *busy period* for the server. Find a condition in terms of the arrival rate and service rate that will assure that the server will ultimately have a time when he is not busy"
   ]
  },
  {
   "cell_type": "markdown",
   "metadata": {},
   "source": [
    "______\n",
    "\n",
    "# a)\n",
    "\n",
    "# We know in a single minute, only 0 or 1 customers can arrive\n",
    "\n",
    "# $\\implies f(z) = (1-p)+pz$\n",
    "\n",
    "# We also know that the probability that a customer is served at time $j$ is equal to $p_{j} = (1-r)^{j-1}\\cdot r$\n",
    "\n",
    "# $\\implies g(z)= r + (1-r)rz + (1-r)^{2}rz^{2} + (1-r)^{3}rz^{3}+... $\n",
    "\n",
    "# $= \\sum (z(1-r))^{j-1}\\cdot r = r\\frac{1}{1 - z(1-r)}$"
   ]
  },
  {
   "cell_type": "markdown",
   "metadata": {},
   "source": [
    "____\n",
    "\n",
    "# b)\n",
    "\n",
    "# Before, we thought about the number of offspring created by a single parent\n",
    "\n",
    "# Now, we're thinking about the number of people waiting caused by a single customer"
   ]
  },
  {
   "cell_type": "markdown",
   "metadata": {},
   "source": [
    "# In Exercise 4, $S_{N} = X_{1} + X_{2} + ... + X_{N}$ where each $X_{i}$ is independent with common generating function\n",
    "\n",
    "# Also, $N$ is the integer value independent of  the $X_{i}$s with generating function $g(z)$"
   ]
  },
  {
   "cell_type": "markdown",
   "metadata": {},
   "source": [
    "# So, in this case, the amount of time is takes to serve a single customer corresponds to the $N$ value\n",
    "\n",
    "# Then, if it takes $N$ minutes to serve the customer, there are $N$ random variables $X_{i}$ that each represent the number of customers that arrived in the $N$ minutes that passed\n",
    "\n",
    "# Therefore, the total number of new customers waiting once the customer has been served is equal to $S_{N} = X_{1} + X_{2} + ... + X_{N}$"
   ]
  },
  {
   "cell_type": "markdown",
   "metadata": {},
   "source": [
    "# $\\implies h(z) = g(f(z)) = r\\frac{1}{1 - \\left ((1-p)+pz \\right )(1-r)}$"
   ]
  },
  {
   "cell_type": "markdown",
   "metadata": {},
   "source": [
    "____\n",
    "\n",
    "# c)\n",
    "\n",
    "# Previously, we wanted to know the conditions such that $d<1$\n",
    "\n",
    "# Now, we want to know the conditions that cause the equivalent of $d\\geq 1$\n",
    "\n",
    "# Before, $d<1 \\implies m>1$\n",
    "\n",
    "# So, in this case, we need the expected customers arriving behind a single customer to be less than one"
   ]
  },
  {
   "cell_type": "markdown",
   "metadata": {},
   "source": [
    "# Will finish later"
   ]
  }
 ],
 "metadata": {
  "kernelspec": {
   "display_name": "Python 2",
   "language": "python",
   "name": "python2"
  },
  "language_info": {
   "codemirror_mode": {
    "name": "ipython",
    "version": 2
   },
   "file_extension": ".py",
   "mimetype": "text/x-python",
   "name": "python",
   "nbconvert_exporter": "python",
   "pygments_lexer": "ipython2",
   "version": "2.7.11"
  }
 },
 "nbformat": 4,
 "nbformat_minor": 0
}
