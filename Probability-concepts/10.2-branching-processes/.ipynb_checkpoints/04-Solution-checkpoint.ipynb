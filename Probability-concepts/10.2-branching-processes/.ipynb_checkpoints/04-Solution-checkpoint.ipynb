{
 "cells": [
  {
   "cell_type": "markdown",
   "metadata": {},
   "source": [
    "# Let $S_{N} = X_{1}+X_{2}+...+X_{N}$  where the $X_{i}$s are independent random variables with common distribution and generating function $f(z)$\n",
    "\n",
    "# Assume that $N$ is an integer valued random variable independent of all the $X_{i}$s and having generating function $g(z)$\n",
    "\n",
    "# Show that the generating function for $S_{N}$ is $h(z) = g(f(z))$"
   ]
  },
  {
   "cell_type": "markdown",
   "metadata": {},
   "source": [
    "_______\n",
    "\n",
    "\n",
    "# We know that $h(z) = E\\left (z^{S_{N}} \\right ) = \\sum E\\left (z^{S_{N}}|N=k \\right )\\cdot P(N=k)$"
   ]
  },
  {
   "cell_type": "markdown",
   "metadata": {},
   "source": [
    "# We also know that $E\\left (z^{S_{N}}|N=k \\right ) = E\\left( z^{X_{1}+X_{2}+...+X_{k}}\\right) = \\left ( f(z) \\right )^{k}$"
   ]
  },
  {
   "cell_type": "markdown",
   "metadata": {},
   "source": [
    "# $\\implies h(z) = \\sum \\left ( f(z) \\right )^{k}\\cdot P(N=k)$"
   ]
  },
  {
   "cell_type": "markdown",
   "metadata": {},
   "source": [
    "## Aside: if $h(z)$ is our generating function, then $h(z) = \\sum z^{k}\\cdot p_{k}$\n",
    "\n",
    "### If we replace $z$ with some function $a(z) \\implies h(a(z)) = \\sum a(z)^{k}\\cdot p_{k}$"
   ]
  },
  {
   "cell_type": "markdown",
   "metadata": {},
   "source": [
    "# $\\implies h(z) = \\sum \\left ( f(z) \\right )^{k}\\cdot P(N=k) = g(f(z))$"
   ]
  }
 ],
 "metadata": {
  "kernelspec": {
   "display_name": "Python 2",
   "language": "python",
   "name": "python2"
  },
  "language_info": {
   "codemirror_mode": {
    "name": "ipython",
    "version": 2
   },
   "file_extension": ".py",
   "mimetype": "text/x-python",
   "name": "python",
   "nbconvert_exporter": "python",
   "pygments_lexer": "ipython2",
   "version": "2.7.11"
  }
 },
 "nbformat": 4,
 "nbformat_minor": 0
}
