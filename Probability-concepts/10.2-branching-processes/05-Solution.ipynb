{
 "cells": [
  {
   "cell_type": "markdown",
   "metadata": {},
   "source": [
    "# We have seen that if the generating function for the offspring of a single parent is $f(z)$ then the generating function for the number of offspring after two generations is $f(f(z))$\n",
    "\n",
    "# Explain how this follows from the result of [Exercise 4](04-Solution.ipynb)"
   ]
  },
  {
   "cell_type": "markdown",
   "metadata": {},
   "source": [
    "_____\n",
    "\n",
    "# Exercise 4 showed us that \n",
    "\n",
    "# $h(z) = \\sum E\\left (z^{S_{N}}|N=k \\right )\\cdot P(N=k) = \\sum \\left ( f(z) \\right )^{k}\\cdot P(N=k) = g(f(z))$"
   ]
  },
  {
   "cell_type": "markdown",
   "metadata": {},
   "source": [
    "# If we let $N$ represent the number of offspring of a single parent, then then number of offspring after the second generation is the sum of the offspring from each of the $N$ offspring i.e. $S_{N} = X_{1}+X_{2}+...+X_{N}$\n",
    "\n",
    "# Since $N$ and $X_{i}$ both have generating function $f(z)$, we have\n",
    "\n",
    "# $h(z) = f(f(z))$"
   ]
  }
 ],
 "metadata": {
  "kernelspec": {
   "display_name": "Python 2",
   "language": "python",
   "name": "python2"
  },
  "language_info": {
   "codemirror_mode": {
    "name": "ipython",
    "version": 2
   },
   "file_extension": ".py",
   "mimetype": "text/x-python",
   "name": "python",
   "nbconvert_exporter": "python",
   "pygments_lexer": "ipython2",
   "version": "2.7.11"
  }
 },
 "nbformat": 4,
 "nbformat_minor": 0
}
