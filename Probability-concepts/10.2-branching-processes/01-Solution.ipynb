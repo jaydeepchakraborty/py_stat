{
 "cells": [
  {
   "cell_type": "markdown",
   "metadata": {},
   "source": [
    "# Let $Z_{1}$, $Z_{2}$, ..., $Z_{n}$ describe a branching process in which each parent has $j$ offspring with probability $p_{j}$\n",
    "\n",
    "# Find the probability $d$ that the process eventually dies out if:\n",
    "\n",
    "## a) $p_{0} = 1/2$, $p_{1} = 1/4$, $p_{2} = 1/4$\n",
    "\n",
    "## b) $p_{0} = 1/3$, $p_{1} = 1/3$, $p_{2} = 1/3$\n",
    "\n",
    "## c) $p_{0} = 1/3$, $p_{1} = 0$, $p_{2} = 2/3$\n",
    "\n",
    "## d) $p_{j} = \\frac{1}{2^{j+1}}$\n",
    "\n",
    "## e) $p_{j} = \\frac{1}{3}\\left ( \\frac{2}{3}\\right )^{j}$\n",
    "\n",
    "## f) $p_{j} = e^{-2}\\frac{2^{j}}{j!}$"
   ]
  },
  {
   "cell_type": "markdown",
   "metadata": {},
   "source": [
    "_____\n",
    "\n",
    "# Note: we know that if the max number of offspring is 2 and $p_{0} \\geq p_{2} \\implies d=1$\n",
    "\n",
    "# So we know right away that $d=1$ for a) and b)\n",
    "\n",
    "# Furthermore, we know that $d=\\frac{p_{0}}{p_{2}}$ is a root for $d$ when 2 is the max offspring\n",
    "\n",
    "# $\\implies d = \\frac{1/3}{2/3} = \\frac{1}{2}$ for c)"
   ]
  },
  {
   "cell_type": "markdown",
   "metadata": {},
   "source": [
    "_____\n",
    "\n",
    "# a)\n",
    "\n",
    "# $p_{0} = 1/2$, $p_{1} = 1/4$, $p_{2} = 1/4$"
   ]
  },
  {
   "cell_type": "code",
   "execution_count": 2,
   "metadata": {
    "collapsed": false
   },
   "outputs": [
    {
     "data": {
      "text/plain": [
       "1.0"
      ]
     },
     "execution_count": 2,
     "metadata": {},
     "output_type": "execute_result"
    }
   ],
   "source": [
    "d = 0.5\n",
    "\n",
    "for i in range(1000):\n",
    "    new_d = 0.5 + 0.25*d + 0.25*d**2\n",
    "    d = new_d\n",
    "d"
   ]
  },
  {
   "cell_type": "markdown",
   "metadata": {},
   "source": [
    "### As we predicted, $d=1$"
   ]
  },
  {
   "cell_type": "markdown",
   "metadata": {},
   "source": [
    "_____\n",
    "\n",
    "# b)\n",
    "\n",
    "# $p_{0} = 1/3$, $p_{1} = 1/3$, $p_{2} = 1/3$"
   ]
  },
  {
   "cell_type": "code",
   "execution_count": 5,
   "metadata": {
    "collapsed": false
   },
   "outputs": [
    {
     "data": {
      "text/plain": [
       "0.9997003697627879"
      ]
     },
     "execution_count": 5,
     "metadata": {},
     "output_type": "execute_result"
    }
   ],
   "source": [
    "frac = 1/3.0\n",
    "d = frac\n",
    "\n",
    "for i in range(10000):\n",
    "    new_d = frac*(1+d+d**2)\n",
    "    d = new_d\n",
    "d"
   ]
  },
  {
   "cell_type": "markdown",
   "metadata": {},
   "source": [
    "### Again, as we predicted, $d=1$"
   ]
  },
  {
   "cell_type": "markdown",
   "metadata": {},
   "source": [
    "___\n",
    "\n",
    "# c)\n",
    "\n",
    "# $p_{0} = 1/3$, $p_{1} = 0$, $p_{2} = 2/3$"
   ]
  },
  {
   "cell_type": "code",
   "execution_count": 24,
   "metadata": {
    "collapsed": false
   },
   "outputs": [
    {
     "data": {
      "text/plain": [
       "0.49999999999999983"
      ]
     },
     "execution_count": 24,
     "metadata": {},
     "output_type": "execute_result"
    }
   ],
   "source": [
    "frac = 1/3.0\n",
    "d = frac\n",
    "\n",
    "for i in range(10000):\n",
    "    new_d = frac*(1+2*d**2)\n",
    "    d = new_d\n",
    "d"
   ]
  },
  {
   "cell_type": "markdown",
   "metadata": {},
   "source": [
    "## So, as we predicted, $d = 1/2$"
   ]
  },
  {
   "cell_type": "markdown",
   "metadata": {},
   "source": [
    "_____\n",
    "\n",
    "# d)\n",
    "\n",
    "#  $p_{j} = \\frac{1}{2^{j+1}}$\n",
    "\n",
    "# $\\implies m = E(\\text{Offspring from a single parent}) = 0\\cdot\\frac{1}{2} + 1\\cdot\\frac{1}{4}+2\\cdot\\frac{1}{8}+...$\n",
    "\n",
    "### We'll approximate this below be iterating up to 1000"
   ]
  },
  {
   "cell_type": "code",
   "execution_count": 10,
   "metadata": {
    "collapsed": false
   },
   "outputs": [
    {
     "data": {
      "text/plain": [
       "0.9999999999999999"
      ]
     },
     "execution_count": 10,
     "metadata": {},
     "output_type": "execute_result"
    }
   ],
   "source": [
    "total = 0\n",
    "\n",
    "for i in range(1001):\n",
    "    val = i*(1.0/(2**(i+1)))\n",
    "    total += val\n",
    "    \n",
    "total"
   ]
  },
  {
   "cell_type": "markdown",
   "metadata": {},
   "source": [
    "### It looks like $m\\rightarrow 1$ as we add up to $\\infty$ offspring"
   ]
  },
  {
   "cell_type": "markdown",
   "metadata": {},
   "source": [
    "### We know that $m$ must be greater than 1 for $d$ to be less than 1\n",
    "\n",
    "## $\\implies d = 1$"
   ]
  },
  {
   "cell_type": "markdown",
   "metadata": {},
   "source": [
    "### We can confirm this through approximating it"
   ]
  },
  {
   "cell_type": "code",
   "execution_count": 14,
   "metadata": {
    "collapsed": false
   },
   "outputs": [
    {
     "data": {
      "text/plain": [
       "0.9901960784313709"
      ]
     },
     "execution_count": 14,
     "metadata": {},
     "output_type": "execute_result"
    }
   ],
   "source": [
    "d = 0.5\n",
    "\n",
    "for i in range(100):\n",
    "    d_new = 0\n",
    "    for j in range(1000):\n",
    "        d_new += ((d**j)/(2**(j+1)))\n",
    "    d = d_new\n",
    "d"
   ]
  },
  {
   "cell_type": "markdown",
   "metadata": {},
   "source": [
    "## In the first 100 iterations, $d$ is already converging to 1"
   ]
  },
  {
   "cell_type": "markdown",
   "metadata": {},
   "source": [
    "_______\n",
    "\n",
    "# e)\n",
    "\n",
    "# $p_{j} = \\frac{1}{3}\\left ( \\frac{2}{3}\\right )^{j}$"
   ]
  },
  {
   "cell_type": "markdown",
   "metadata": {},
   "source": [
    "# $\\implies m = E(\\text{Offspring from a single parent}) = 0\\cdot\\frac{1}{3} + 1\\cdot\\frac{2}{3^{2}}+2\\cdot\\frac{2^{2}}{3^{3}}+...$\n",
    "\n",
    "### We'll approximate this value"
   ]
  },
  {
   "cell_type": "code",
   "execution_count": 51,
   "metadata": {
    "collapsed": false
   },
   "outputs": [
    {
     "data": {
      "text/plain": [
       "1.9999999999999993"
      ]
     },
     "execution_count": 51,
     "metadata": {},
     "output_type": "execute_result"
    }
   ],
   "source": [
    "m = 0\n",
    "\n",
    "for j in range(1001):\n",
    "    pj = (1/3.0)*(2/3.0)**j\n",
    "    val = j*pj\n",
    "    m += val\n",
    "    \n",
    "m"
   ]
  },
  {
   "cell_type": "markdown",
   "metadata": {},
   "source": [
    "### We can see that $m\\rightarrow 2 \\implies d<1$\n",
    "\n",
    "### We'll solve this numerically"
   ]
  },
  {
   "cell_type": "code",
   "execution_count": 52,
   "metadata": {
    "collapsed": false
   },
   "outputs": [
    {
     "data": {
      "text/plain": [
       "0.4999999999999996"
      ]
     },
     "execution_count": 52,
     "metadata": {},
     "output_type": "execute_result"
    }
   ],
   "source": [
    "frac = 1/3.0\n",
    "d = frac\n",
    "\n",
    "for i in range(100):\n",
    "    d_new = 0\n",
    "    for j in range(1000):\n",
    "        pj = frac*(2*frac)**j\n",
    "        d_new += pj*(d**j)\n",
    "    d = d_new\n",
    "d"
   ]
  },
  {
   "cell_type": "markdown",
   "metadata": {},
   "source": [
    "### So $d\\rightarrow 1/2$"
   ]
  },
  {
   "cell_type": "markdown",
   "metadata": {},
   "source": [
    "_____\n",
    "\n",
    "# f) $p_{j} = e^{-2}\\frac{2^{j}}{j!}$\n",
    "\n",
    "## First, we calculate $m$"
   ]
  },
  {
   "cell_type": "code",
   "execution_count": 28,
   "metadata": {
    "collapsed": true
   },
   "outputs": [],
   "source": [
    "from math import factorial\n",
    "import numpy as np"
   ]
  },
  {
   "cell_type": "code",
   "execution_count": 44,
   "metadata": {
    "collapsed": true
   },
   "outputs": [],
   "source": [
    "def pj(j):\n",
    "    a = np.exp(-2)\n",
    "    b = 2**j\n",
    "    c = factorial(j)\n",
    "    return a*b/(float(c))"
   ]
  },
  {
   "cell_type": "code",
   "execution_count": 47,
   "metadata": {
    "collapsed": false
   },
   "outputs": [
    {
     "data": {
      "text/plain": [
       "2.0"
      ]
     },
     "execution_count": 47,
     "metadata": {},
     "output_type": "execute_result"
    }
   ],
   "source": [
    "m = 0\n",
    "for j in range(100):\n",
    "    m += pj(j)*j\n",
    "m"
   ]
  },
  {
   "cell_type": "markdown",
   "metadata": {},
   "source": [
    "### So $m\\rightarrow 2 \\implies d<1$"
   ]
  },
  {
   "cell_type": "code",
   "execution_count": 50,
   "metadata": {
    "collapsed": false
   },
   "outputs": [
    {
     "data": {
      "text/plain": [
       "0.2031878699799799"
      ]
     },
     "execution_count": 50,
     "metadata": {},
     "output_type": "execute_result"
    }
   ],
   "source": [
    "d = pj(0)\n",
    "\n",
    "for i in range(1000):\n",
    "    d_new = 0\n",
    "    for j in range(100):\n",
    "        d_new += pj(j)*(d**j)\n",
    "    d = d_new\n",
    "d"
   ]
  },
  {
   "cell_type": "markdown",
   "metadata": {},
   "source": [
    "## $d\\rightarrow 0.2032$"
   ]
  }
 ],
 "metadata": {
  "kernelspec": {
   "display_name": "Python 2",
   "language": "python",
   "name": "python2"
  },
  "language_info": {
   "codemirror_mode": {
    "name": "ipython",
    "version": 2
   },
   "file_extension": ".py",
   "mimetype": "text/x-python",
   "name": "python",
   "nbconvert_exporter": "python",
   "pygments_lexer": "ipython2",
   "version": "2.7.11"
  }
 },
 "nbformat": 4,
 "nbformat_minor": 0
}
