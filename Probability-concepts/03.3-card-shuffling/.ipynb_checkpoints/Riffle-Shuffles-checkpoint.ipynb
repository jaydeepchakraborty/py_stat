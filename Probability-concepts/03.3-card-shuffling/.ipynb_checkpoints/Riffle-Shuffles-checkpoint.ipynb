{
 "cells": [
  {
   "cell_type": "markdown",
   "metadata": {},
   "source": [
    "# Given a deck of $n$ cards, how many times must we shuffle it to make it \"random\"?\n",
    "\n",
    "- The answer depends on:\n",
    "    - The method used to shuffle the cards\n",
    "    - What we mean by \"random\"\n",
    "    \n",
    "- Let's start with a deck of $n$ cards that are in ascending order i.e. [1,2,3,4,...,n]\n",
    "\n",
    "**Riffle Shuffle**\n",
    "\n",
    "- A Riffle Shuffle is where the deck is cut into two stacks (one with $k$ cards, the other with $n-k$ cards)\n",
    "    - The two stacks are then recombined (and hence shuffled)\n",
    "    \n",
    "- E.g. Consider a deck of 6 cards [1,2,3,4,5,6]\n",
    "    - We cut the deck into two stacks: [1,2] and [3,4,5,6]\n",
    "        - We then recombine the stacks as: [1,3,4,2,5,6]"
   ]
  },
  {
   "cell_type": "markdown",
   "metadata": {},
   "source": [
    "- If we want to study the different orderings of the cards after shuffling, we need to think about how we can assign a distribution to the different shuffles\n",
    "\n",
    "- First, we realize that each ordering is equally likely\n",
    "\n",
    "- Next, we need to think about how the deck is cut\n",
    "    - For each card in the deck, the probability that the card is included in the first stack of the cut is 1/2\n",
    "        - **Why?**\n",
    "            - Because the cut is supposed to be random, and there are two possibilities (in the first stack, or not)\n",
    "            \n",
    "- This means we can treat each card being included in the first stack of the cut as Bernoulli trials with $p=0.5$\n",
    "    - Therefore, we can model the number of cards in the first stack as $b(n, 0.5, k)$\n",
    "        - **Let's show this**\n",
    "        \n",
    "___"
   ]
  },
  {
   "cell_type": "code",
   "execution_count": 1,
   "metadata": {
    "collapsed": true
   },
   "outputs": [],
   "source": [
    "from math import factorial"
   ]
  },
  {
   "cell_type": "code",
   "execution_count": 2,
   "metadata": {
    "collapsed": true
   },
   "outputs": [],
   "source": [
    "def b(n,p,k):\n",
    "    return factorial(n)*(p**k)*((1-p)**(n-k))/(factorial(k)*factorial(n-k))"
   ]
  },
  {
   "cell_type": "markdown",
   "metadata": {},
   "source": [
    "**Let's look at a deck of 6 cards**"
   ]
  },
  {
   "cell_type": "code",
   "execution_count": 3,
   "metadata": {
    "collapsed": false
   },
   "outputs": [
    {
     "name": "stdout",
     "output_type": "stream",
     "text": [
      "k = 0; P(k cards in first stack) = 0.015625\n",
      "k = 1; P(k cards in first stack) = 0.09375\n",
      "k = 2; P(k cards in first stack) = 0.234375\n",
      "k = 3; P(k cards in first stack) = 0.3125\n",
      "k = 4; P(k cards in first stack) = 0.234375\n",
      "k = 5; P(k cards in first stack) = 0.09375\n",
      "k = 6; P(k cards in first stack) = 0.015625\n"
     ]
    }
   ],
   "source": [
    "for k in range(0,7):\n",
    "    print('k = '+str(k)+'; P(k cards in first stack) = '+str(b(6, 0.5, k)))"
   ]
  },
  {
   "cell_type": "markdown",
   "metadata": {},
   "source": [
    "**Now, let's count all the different ways the deck can be cut and compare**"
   ]
  },
  {
   "cell_type": "code",
   "execution_count": 4,
   "metadata": {
    "collapsed": true
   },
   "outputs": [],
   "source": [
    "import pandas as pd"
   ]
  },
  {
   "cell_type": "code",
   "execution_count": 22,
   "metadata": {
    "collapsed": true
   },
   "outputs": [],
   "source": [
    "df = pd.DataFrame(columns = range(1,7))\n",
    "\n",
    "i = 0\n",
    "for val_1 in [0,1]:\n",
    "    for val_2 in [0,1]:\n",
    "        for val_3 in [0,1]:\n",
    "            for val_4 in [0,1]:\n",
    "                for val_5 in [0,1]:\n",
    "                    for val_6 in [0,1]:\n",
    "                        list_vals = [val_1, val_2, val_3, val_4, val_5, val_6]\n",
    "                        df.loc[i] = list_vals\n",
    "                        i+=1"
   ]
  },
  {
   "cell_type": "code",
   "execution_count": 23,
   "metadata": {
    "collapsed": false
   },
   "outputs": [],
   "source": [
    "df['# of cards'] = df.sum(axis = 1)"
   ]
  },
  {
   "cell_type": "code",
   "execution_count": 27,
   "metadata": {
    "collapsed": false
   },
   "outputs": [],
   "source": [
    "df_2 = df.iloc[:,-2:].groupby('# of cards', as_index = False).count().rename(columns = {6:'Count'})"
   ]
  },
  {
   "cell_type": "code",
   "execution_count": 28,
   "metadata": {
    "collapsed": true
   },
   "outputs": [],
   "source": [
    "df_2['Proportion'] = df_2['Count']/df_2['Count'].sum()"
   ]
  },
  {
   "cell_type": "code",
   "execution_count": 29,
   "metadata": {
    "collapsed": false
   },
   "outputs": [
    {
     "data": {
      "text/html": [
       "<div>\n",
       "<table border=\"1\" class=\"dataframe\">\n",
       "  <thead>\n",
       "    <tr style=\"text-align: right;\">\n",
       "      <th></th>\n",
       "      <th># of cards</th>\n",
       "      <th>Count</th>\n",
       "      <th>Proportion</th>\n",
       "    </tr>\n",
       "  </thead>\n",
       "  <tbody>\n",
       "    <tr>\n",
       "      <th>0</th>\n",
       "      <td>0</td>\n",
       "      <td>1</td>\n",
       "      <td>0.015625</td>\n",
       "    </tr>\n",
       "    <tr>\n",
       "      <th>1</th>\n",
       "      <td>1</td>\n",
       "      <td>6</td>\n",
       "      <td>0.093750</td>\n",
       "    </tr>\n",
       "    <tr>\n",
       "      <th>2</th>\n",
       "      <td>2</td>\n",
       "      <td>15</td>\n",
       "      <td>0.234375</td>\n",
       "    </tr>\n",
       "    <tr>\n",
       "      <th>3</th>\n",
       "      <td>3</td>\n",
       "      <td>20</td>\n",
       "      <td>0.312500</td>\n",
       "    </tr>\n",
       "    <tr>\n",
       "      <th>4</th>\n",
       "      <td>4</td>\n",
       "      <td>15</td>\n",
       "      <td>0.234375</td>\n",
       "    </tr>\n",
       "    <tr>\n",
       "      <th>5</th>\n",
       "      <td>5</td>\n",
       "      <td>6</td>\n",
       "      <td>0.093750</td>\n",
       "    </tr>\n",
       "    <tr>\n",
       "      <th>6</th>\n",
       "      <td>6</td>\n",
       "      <td>1</td>\n",
       "      <td>0.015625</td>\n",
       "    </tr>\n",
       "  </tbody>\n",
       "</table>\n",
       "</div>"
      ],
      "text/plain": [
       "   # of cards  Count  Proportion\n",
       "0           0      1    0.015625\n",
       "1           1      6    0.093750\n",
       "2           2     15    0.234375\n",
       "3           3     20    0.312500\n",
       "4           4     15    0.234375\n",
       "5           5      6    0.093750\n",
       "6           6      1    0.015625"
      ]
     },
     "execution_count": 29,
     "metadata": {},
     "output_type": "execute_result"
    }
   ],
   "source": [
    "df_2"
   ]
  },
  {
   "cell_type": "markdown",
   "metadata": {},
   "source": [
    "**Same values**\n",
    "\n",
    "___"
   ]
  },
  {
   "cell_type": "markdown",
   "metadata": {},
   "source": [
    "### So now, we've shown that the number of cards in the first stack of the cut follows $b(n,0.5,k)$. What now?\n",
    "\n",
    "**Next, we have to think about the way the cards are recombined, called \"interleavings\"**\n",
    "\n",
    "- We assume that each interleaving is equally likely\n",
    "\n",
    "- Let's return to our earlier example of two stacks: [1,2] and [3,4,5,6]\n",
    "    - If we're recombining the stacks, **where will the cards go?**\n",
    "    \n",
    "![](images/riffle_shuffle_1.png)"
   ]
  },
  {
   "cell_type": "markdown",
   "metadata": {
    "collapsed": true
   },
   "source": [
    "## If we look at the second stack of cards, there are 5 places for us to slide the 2 cards from the first deck\n",
    "\n",
    "### So this means that we can choose ([with replacement](https://math.stackexchange.com/questions/139395/number-of-ways-of-choosing-m-objects-with-replacement-from-n-objects)) 2 spots from 5\n",
    "\n",
    "#### Recall: if we choose $k$ from a set of $n$ with replacement, then there are $\\binom{n+k-1}{k}$ possible combinations\n",
    "\n",
    "## So that means there are $\\binom{6}{2} = 360$ distinct ways to recombine the decks\n",
    "\n",
    "### Therefore, the probability of any interleaving is $\\frac{1}{\\binom{n}{k}}$"
   ]
  }
 ],
 "metadata": {
  "kernelspec": {
   "display_name": "Python 2",
   "language": "python",
   "name": "python2"
  },
  "language_info": {
   "codemirror_mode": {
    "name": "ipython",
    "version": 2
   },
   "file_extension": ".py",
   "mimetype": "text/x-python",
   "name": "python",
   "nbconvert_exporter": "python",
   "pygments_lexer": "ipython2",
   "version": "2.7.11"
  }
 },
 "nbformat": 4,
 "nbformat_minor": 0
}
