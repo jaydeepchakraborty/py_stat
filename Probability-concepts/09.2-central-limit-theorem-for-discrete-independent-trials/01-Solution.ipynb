{
 "cells": [
  {
   "cell_type": "markdown",
   "metadata": {},
   "source": [
    "# A die is rolled 24 times\n",
    "\n",
    "# Use the CLT to estimate the probability that:\n",
    "\n",
    "## a) the sum is greater than 84\n",
    "\n",
    "## b) the sum is equal to 84"
   ]
  },
  {
   "cell_type": "markdown",
   "metadata": {},
   "source": [
    "_______\n",
    "\n",
    "# $S_{24} = X_{1}+X_{2}+...+X_{24}$\n",
    "\n",
    "# $E(X_{i}) = \\frac{7}{2} \\implies E(S_{24}) = 24 \\cdot \\frac{7}{2} = 84$\n",
    "\n",
    "# $E(X_{i}^{2}) = \\frac{1}{6}(1^{2} + 2^{2} + ... + 6^{2}) = \\frac{91}{6}$\n",
    "\n",
    "# $V(X_{i}) = E(X_{i}^{2}) - E(X_{i})^{2} = \\frac{35}{12}$\n",
    "\n",
    "# $\\implies V(S_{24}) = 24\\cdot \\frac{35}{12} = 70 \\implies \\sigma_{S_{24}} = \\sqrt{70}$"
   ]
  },
  {
   "cell_type": "markdown",
   "metadata": {},
   "source": [
    "___\n",
    "\n",
    "# a)\n",
    "\n",
    "# 84 is the mean of the distribution, so we integrate $\\phi(x)$ from $\\frac{84.5-84}{\\sqrt{70}}$ to $\\infty$"
   ]
  },
  {
   "cell_type": "code",
   "execution_count": 7,
   "metadata": {
    "collapsed": false
   },
   "outputs": [
    {
     "data": {
      "text/plain": [
       "0.47617282233682967"
      ]
     },
     "execution_count": 7,
     "metadata": {},
     "output_type": "execute_result"
    }
   ],
   "source": [
    "val = (84.5-84)/(70**0.5)\n",
    "1-norm.cdf(val)"
   ]
  },
  {
   "cell_type": "markdown",
   "metadata": {},
   "source": [
    "# Therefore $P(S_{24}>84) = 0.4762$"
   ]
  },
  {
   "cell_type": "markdown",
   "metadata": {},
   "source": [
    "______\n",
    "\n",
    "# b)\n",
    "\n",
    "# This time, we integrate from $-\\left (\\frac{84.5-84}{\\sqrt{70}}\\right )$ to $\\left (\\frac{84.5-84}{\\sqrt{70}}\\right )$"
   ]
  },
  {
   "cell_type": "code",
   "execution_count": 8,
   "metadata": {
    "collapsed": false
   },
   "outputs": [
    {
     "data": {
      "text/plain": [
       "0.047654355326340714"
      ]
     },
     "execution_count": 8,
     "metadata": {},
     "output_type": "execute_result"
    }
   ],
   "source": [
    "norm.cdf(val) - norm.cdf(-val)"
   ]
  },
  {
   "cell_type": "markdown",
   "metadata": {},
   "source": [
    "# Therefore $P(S_{24}=84) = 0.04765$"
   ]
  }
 ],
 "metadata": {
  "kernelspec": {
   "display_name": "Python 2",
   "language": "python",
   "name": "python2"
  },
  "language_info": {
   "codemirror_mode": {
    "name": "ipython",
    "version": 2
   },
   "file_extension": ".py",
   "mimetype": "text/x-python",
   "name": "python",
   "nbconvert_exporter": "python",
   "pygments_lexer": "ipython2",
   "version": "2.7.11"
  }
 },
 "nbformat": 4,
 "nbformat_minor": 0
}
