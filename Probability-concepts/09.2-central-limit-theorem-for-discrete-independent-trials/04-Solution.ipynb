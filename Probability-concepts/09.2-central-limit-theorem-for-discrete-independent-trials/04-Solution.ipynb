{
 "cells": [
  {
   "cell_type": "markdown",
   "metadata": {},
   "source": [
    "# Write a program to find the average of 1000 random digits from [0,1,...,9]\n",
    "\n",
    "# Have the program test to see if the average lies within three standard deviations of the expected value of 4.5\n",
    "\n",
    "# Modify the program so that it repeats this simulation 1000 times and keeps track of the number of times the test is passed\n",
    "\n",
    "# Does the outcome agree with the CLT?"
   ]
  },
  {
   "cell_type": "markdown",
   "metadata": {},
   "source": [
    "_________\n",
    "\n",
    "# $E(A_{1000}) = E(X_{i}) = \\frac{0+1+2+3+4+5+6+7+8+9}{10} = \\frac{45}{10} = 4.5$\n",
    "\n",
    "# $E(X_{i}^{2}) = \\frac{0+1^{2}+2^{2}+3^{2}+4^{2}+5^{2}+6^{2}+7^{2}+8^{2}+9^{2}}{10} = 28.5$\n",
    "\n",
    "# $\\implies V(X_{i}) = E(X_{i}^{2}) - E(X_{i})^{2} = 8.25$\n",
    "\n",
    "# $V(A_{1000}) = V(\\frac{1}{n}S_{n}) = \\frac{1}{n^{2}}V(S_{1000}) = \\frac{1}{100^{2}}100V(X_{i}) = \\frac{V(X_{i})}{100}$\n",
    "\n",
    "# $ = 0.0825$"
   ]
  },
  {
   "cell_type": "markdown",
   "metadata": {},
   "source": [
    "____\n"
   ]
  },
  {
   "cell_type": "code",
   "execution_count": 4,
   "metadata": {
    "collapsed": true
   },
   "outputs": [],
   "source": [
    "import numpy as np"
   ]
  },
  {
   "cell_type": "code",
   "execution_count": 29,
   "metadata": {
    "collapsed": true
   },
   "outputs": [],
   "source": [
    "def sim(n):\n",
    "    array = np.random.randint(0, 10, size = n)\n",
    "    mu = np.mean(array)\n",
    "    return np.abs((mu-4.5)/0.0825)>3"
   ]
  },
  {
   "cell_type": "code",
   "execution_count": 61,
   "metadata": {
    "collapsed": true
   },
   "outputs": [],
   "source": [
    "count = 0\n",
    "\n",
    "for i in range(10000):\n",
    "    count += sim(1000)*1"
   ]
  },
  {
   "cell_type": "code",
   "execution_count": 62,
   "metadata": {
    "collapsed": false
   },
   "outputs": [
    {
     "data": {
      "text/plain": [
       "0.0064000000000000003"
      ]
     },
     "execution_count": 62,
     "metadata": {},
     "output_type": "execute_result"
    }
   ],
   "source": [
    "count/float(10000)"
   ]
  },
  {
   "cell_type": "code",
   "execution_count": 59,
   "metadata": {
    "collapsed": true
   },
   "outputs": [],
   "source": [
    "from scipy.stats import norm"
   ]
  },
  {
   "cell_type": "code",
   "execution_count": 60,
   "metadata": {
    "collapsed": false
   },
   "outputs": [
    {
     "data": {
      "text/plain": [
       "0.0026997960632601965"
      ]
     },
     "execution_count": 60,
     "metadata": {},
     "output_type": "execute_result"
    }
   ],
   "source": [
    "norm.cdf(-3) + (1- norm.cdf(3))"
   ]
  }
 ],
 "metadata": {
  "kernelspec": {
   "display_name": "Python 2",
   "language": "python",
   "name": "python2"
  },
  "language_info": {
   "codemirror_mode": {
    "name": "ipython",
    "version": 2
   },
   "file_extension": ".py",
   "mimetype": "text/x-python",
   "name": "python",
   "nbconvert_exporter": "python",
   "pygments_lexer": "ipython2",
   "version": "2.7.11"
  }
 },
 "nbformat": 4,
 "nbformat_minor": 0
}
