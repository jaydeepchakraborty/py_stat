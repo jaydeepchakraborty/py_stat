{
 "cells": [
  {
   "cell_type": "markdown",
   "metadata": {},
   "source": [
    "# A bank accepts rolls of pennies and gives 50 cents credit to a customer without counting the contents\n",
    "\n",
    "# Assume that a roll contains 49 pennies 30% of the time, 50 pennies 60% of the time, and 51 pennies 10% of the time\n",
    "\n",
    "## a) Find the expected value and variance for the amount that the bank loses on a typical roll\n",
    "\n",
    "## b) Estimate the probability that the bank will lose more than 25 cents in 100 rolls\n",
    "\n",
    "## c) Estimate the probability that the bank will lose exactly 25 cents in 100 rolls\n",
    "\n",
    "## d) Estimate the probability that the bank will lose money in 100 rolls\n",
    "\n",
    "## e) How many rolls does the bank need to collect to have a 99% chance of a loss?"
   ]
  },
  {
   "cell_type": "markdown",
   "metadata": {},
   "source": [
    "______\n",
    "\n",
    "# a)\n",
    "\n",
    "# Let $X$ be the number of pennies in the roll\n",
    "\n",
    "# Then $m(x) = \\left\\{\\begin{matrix}0.3 & x=49\\\\0.6 & x=50\\\\0.1 & x=51 \\end{matrix}\\right.$\n",
    "\n",
    "# $\\implies E(X) = (0.3)(49) + (0.6)(50) + (0.1)(51) = 49.8$\n",
    "\n",
    "# $E(X^{2}) = (0.3)(49^{2}) + (0.6)(50^{2}) + (0.1)(51^{2}) = 2480.4$\n",
    "\n",
    "# $\\implies V(X) = E(X^{2}) - (E(X))^{2} = 2480.4 - 49.8^{2} = 0.36$\n",
    "\n",
    "# Now, we let $Y$ be the amount that the bank loses\n",
    "\n",
    "# $\\implies Y =50-X \\implies E(Y) = E(50-X) = 50 - E(X) = 0.2$ and $V(Y) = V(50-X) = V(-X) = V(X) = 0.36$"
   ]
  },
  {
   "cell_type": "markdown",
   "metadata": {},
   "source": [
    "_____\n",
    "\n",
    "# b)\n",
    "\n",
    "# $S_{100} = Y_{1} +Y_{2} + ... + Y_{100}$\n",
    "\n",
    "# $\\implies E(S_{100}) = 100 \\cdot E(Y_{i}) = 20; V(S_{100}) = 100\\cdot V(Y_{i}) = 36$\n",
    "\n",
    "# $\\implies \\frac{25-20}{\\sqrt{36}} = \\frac{5}{6} = 0.8333$\n",
    "\n",
    "# So we want to know the probability of being 0.8333 standard deviations above the mean"
   ]
  },
  {
   "cell_type": "code",
   "execution_count": 8,
   "metadata": {
    "collapsed": false
   },
   "outputs": [],
   "source": [
    "from scipy.stats import norm"
   ]
  },
  {
   "cell_type": "code",
   "execution_count": 10,
   "metadata": {
    "collapsed": false
   },
   "outputs": [
    {
     "data": {
      "text/plain": [
       "0.20232932067119946"
      ]
     },
     "execution_count": 10,
     "metadata": {},
     "output_type": "execute_result"
    }
   ],
   "source": [
    "1-norm.cdf(0.83333)"
   ]
  },
  {
   "cell_type": "markdown",
   "metadata": {},
   "source": [
    "# Therefore $P(\\text{Lose more than 25 cents}) = 0.2023$"
   ]
  },
  {
   "cell_type": "markdown",
   "metadata": {},
   "source": [
    "________\n",
    "\n",
    "# c)\n",
    "\n",
    "# If we lose exactly 25 cents, we can approximate is as losing between 24.5 cents and 25.5 cents\n",
    "\n",
    "# $\\frac{5.5}{6} = 0.916666$ and $\\frac{4.5}{6} = 0.75$"
   ]
  },
  {
   "cell_type": "code",
   "execution_count": 13,
   "metadata": {
    "collapsed": false
   },
   "outputs": [
    {
     "data": {
      "text/plain": [
       "0.046968665739592241"
      ]
     },
     "execution_count": 13,
     "metadata": {},
     "output_type": "execute_result"
    }
   ],
   "source": [
    "norm.cdf(0.9166666)-norm.cdf(0.75)"
   ]
  },
  {
   "cell_type": "markdown",
   "metadata": {},
   "source": [
    "# Therefore $P(\\text{Losing exactly 25 cents}) = 0.047$"
   ]
  },
  {
   "cell_type": "markdown",
   "metadata": {},
   "source": [
    "______\n",
    "\n",
    "# d)\n",
    "\n",
    "# If the bank loses no money, $S_{100} = 0$\n",
    "\n",
    "# $\\frac{0-20}{6} = 3.3333$"
   ]
  },
  {
   "cell_type": "code",
   "execution_count": 17,
   "metadata": {
    "collapsed": false
   },
   "outputs": [
    {
     "data": {
      "text/plain": [
       "0.99957088825464713"
      ]
     },
     "execution_count": 17,
     "metadata": {},
     "output_type": "execute_result"
    }
   ],
   "source": [
    "1-norm.cdf(-3.3333)"
   ]
  },
  {
   "cell_type": "markdown",
   "metadata": {},
   "source": [
    "# So the probability of losing any amount of money is more than 99%"
   ]
  },
  {
   "cell_type": "markdown",
   "metadata": {},
   "source": [
    "_______\n",
    "\n",
    "# e)\n",
    "\n",
    "# If we have a 99% chance of a loss, then $P(S_{n}\\leq 0) = 0.01$\n",
    "\n",
    "# $E(S_{n}) = n\\cdot 0.2$ and $\\sigma_{S_{n}} = \\sqrt{n\\cdot 0.36} = 0.6\\sqrt{n}$"
   ]
  },
  {
   "cell_type": "code",
   "execution_count": 18,
   "metadata": {
    "collapsed": false
   },
   "outputs": [
    {
     "data": {
      "text/plain": [
       "-2.3263478740408408"
      ]
     },
     "execution_count": 18,
     "metadata": {},
     "output_type": "execute_result"
    }
   ],
   "source": [
    "norm.ppf(0.01)"
   ]
  },
  {
   "cell_type": "markdown",
   "metadata": {},
   "source": [
    "# That means that we need to solve for $n$ such that\n",
    "\n",
    "# $\\frac{0-0.2n}{0.6\\sqrt{n}} = -2.32635 \\implies \\frac{\\sqrt{n}}{3} = 2.32635 \\implies n = 48.71 \\approx 49$\n",
    "\n",
    "# Therefore to have a 99% chance of loss, the bank needs to collect 49 rolls"
   ]
  }
 ],
 "metadata": {
  "kernelspec": {
   "display_name": "Python 2",
   "language": "python",
   "name": "python2"
  },
  "language_info": {
   "codemirror_mode": {
    "name": "ipython",
    "version": 2
   },
   "file_extension": ".py",
   "mimetype": "text/x-python",
   "name": "python",
   "nbconvert_exporter": "python",
   "pygments_lexer": "ipython2",
   "version": "2.7.11"
  }
 },
 "nbformat": 4,
 "nbformat_minor": 0
}
