{
 "cells": [
  {
   "cell_type": "markdown",
   "metadata": {},
   "source": [
    "# A random walker starts at 0 on the x-axis and at each time unit moves 1 step to the right or left with probability $\\frac{1}{2}$\n",
    "\n",
    "# Estimate the probabilty that, after 100 steps, the walker is more than 10 steps from the starting position "
   ]
  },
  {
   "cell_type": "markdown",
   "metadata": {},
   "source": [
    "________\n",
    "\n",
    "# $S_{100} = X_{1} + X_{2} + ... + X_{100}$\n",
    "\n",
    "# $E(X_{i}) = \\frac{1}{2} (-1 + 1) = 0 \\implies E(S_{100}) = 100 \\cdot E(X_{i}) = 0$\n",
    "\n",
    "# $E(X_{i}^{2}) = \\frac{1}{2}((-1)^{2} + (1)^{2}) = 1 \\ V(X_{i}) = E(X_{i}^{2}) - \\left ( E(X_{i}) \\right )^{2} = 1-0 = 1$\n",
    "\n",
    "# $\\implies V(S_{100}) = 100\\cdot V(X_{i}) = 100 \\implies \\sigma_{S_{100}} = 10$"
   ]
  },
  {
   "cell_type": "markdown",
   "metadata": {},
   "source": [
    "# Therefore, if the walker is more than 10 steps from the starting position, they're more than $\\sigma$ from the mean of 0"
   ]
  },
  {
   "cell_type": "code",
   "execution_count": 1,
   "metadata": {
    "collapsed": true
   },
   "outputs": [],
   "source": [
    "from scipy.stats import norm"
   ]
  },
  {
   "cell_type": "code",
   "execution_count": 3,
   "metadata": {
    "collapsed": false
   },
   "outputs": [
    {
     "data": {
      "text/plain": [
       "0.31731050786291415"
      ]
     },
     "execution_count": 3,
     "metadata": {},
     "output_type": "execute_result"
    }
   ],
   "source": [
    "1 - (norm.cdf(1) - norm.cdf(-1))"
   ]
  },
  {
   "cell_type": "markdown",
   "metadata": {},
   "source": [
    "# Therefore $P(\\text{More than 10 steps away})= 0.31731$"
   ]
  }
 ],
 "metadata": {
  "kernelspec": {
   "display_name": "Python 2",
   "language": "python",
   "name": "python2"
  },
  "language_info": {
   "codemirror_mode": {
    "name": "ipython",
    "version": 2
   },
   "file_extension": ".py",
   "mimetype": "text/x-python",
   "name": "python",
   "nbconvert_exporter": "python",
   "pygments_lexer": "ipython2",
   "version": "2.7.11"
  }
 },
 "nbformat": 4,
 "nbformat_minor": 0
}
