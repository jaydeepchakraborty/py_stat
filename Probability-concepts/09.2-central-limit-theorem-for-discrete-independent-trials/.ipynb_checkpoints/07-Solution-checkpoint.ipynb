{
 "cells": [
  {
   "cell_type": "markdown",
   "metadata": {},
   "source": [
    "# A surveying instrument makes an error of -2, -1, 0, 1, or 2 feel with equal probabilities when measuring the height of a 200-foot tower\n",
    "\n",
    "## a) Find the expected value and the variance for the height obtained using this instrument once\n",
    "\n",
    "## b) Estimate the probability that in 18 independent measurements of a tower, the average of the measurements is within 199 and 201 (inclusive)"
   ]
  },
  {
   "cell_type": "markdown",
   "metadata": {},
   "source": [
    "______\n",
    "\n",
    "# a)\n",
    "\n",
    "# $E(X) = \\frac{(-2) + (-1) + 0 + 1 + 2}{5} = 0$\n",
    "\n",
    "# $E(X^{2}) = \\frac{4+1+0+1+4}{5} = \\frac{10}{5} = 2$\n",
    "\n",
    "# $\\implies V(X) = E(X^{2}) - (E(X))^{2} = 2$"
   ]
  },
  {
   "cell_type": "markdown",
   "metadata": {},
   "source": [
    "______\n",
    "\n",
    "# b)\n",
    "\n",
    "# $E(S_{18}) = 18\\cdot0 = 0 \\implies E(A_{18}) = E(\\frac{S_{18}}{18}) = \\frac{1}{18} = 0$\n",
    "\n",
    "# $V(S_{18}) = 18\\cdot2 = 36 \\implies V(A_{18}) = V(\\frac{S_{18}}{18}) = \\frac{1}{18^{2}}36 = \\frac{2}{18} = 0.11111$\n",
    "\n",
    "# $\\sigma_{A_{18}} = 0.33333$"
   ]
  },
  {
   "cell_type": "markdown",
   "metadata": {},
   "source": [
    "# Therefore, if the average is within 199-201, it is within 3 standard deviations of the mean"
   ]
  },
  {
   "cell_type": "code",
   "execution_count": 5,
   "metadata": {
    "collapsed": true
   },
   "outputs": [],
   "source": [
    "from scipy.stats import norm"
   ]
  },
  {
   "cell_type": "code",
   "execution_count": 7,
   "metadata": {
    "collapsed": false
   },
   "outputs": [
    {
     "data": {
      "text/plain": [
       "0.99730020393673979"
      ]
     },
     "execution_count": 7,
     "metadata": {},
     "output_type": "execute_result"
    }
   ],
   "source": [
    "norm.cdf(3)-norm.cdf(-3)"
   ]
  },
  {
   "cell_type": "markdown",
   "metadata": {},
   "source": [
    "# Therefore $P(199\\leq A_{18} \\leq 201) = 0.9973)$"
   ]
  }
 ],
 "metadata": {
  "kernelspec": {
   "display_name": "Python 2",
   "language": "python",
   "name": "python2"
  },
  "language_info": {
   "codemirror_mode": {
    "name": "ipython",
    "version": 2
   },
   "file_extension": ".py",
   "mimetype": "text/x-python",
   "name": "python",
   "nbconvert_exporter": "python",
   "pygments_lexer": "ipython2",
   "version": "2.7.11"
  }
 },
 "nbformat": 4,
 "nbformat_minor": 0
}
