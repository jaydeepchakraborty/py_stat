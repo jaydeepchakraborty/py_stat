{
 "cells": [
  {
   "cell_type": "markdown",
   "metadata": {},
   "source": [
    "# A piece of rope is made up of 100 strands\n",
    "\n",
    "# Assume that the breaking strength of the rope is the sum of the breaking strengths of individual strands\n",
    "\n",
    "# Assume further that this sum may be considered to be the sum of an independent trials process with 100 experiments each having expected value of 10 pounds and standard deviation of 1\n",
    "\n",
    "# Find the approximate probability that the rope will support a weight of:\n",
    "\n",
    "## a) 1000 lbs\n",
    "\n",
    "## b) 970 lbs"
   ]
  },
  {
   "cell_type": "markdown",
   "metadata": {},
   "source": [
    "______\n",
    "\n",
    "# $S_{100} = X_{1}+X_{2}+...+X_{100}$\n",
    "\n",
    "# $E(S_{100}) = 100\\cdot E(X_{i}) = 1000$\n",
    "\n",
    "# $V(X_{i}) = 1 \\implies V(S_{100}) = 100 \\implies \\sigma_{S_{100}} = 10$"
   ]
  },
  {
   "cell_type": "markdown",
   "metadata": {},
   "source": [
    "______\n",
    "\n",
    "# a)\n",
    "\n",
    "# If it can support a weight of 1000, that simply means that $S_{100}> 1000$, and since the mean is 1000, we can find this by integrating $\\phi(x)$ from $\\frac{1000.5 - 1000}{10}$ to $\\infty$"
   ]
  },
  {
   "cell_type": "code",
   "execution_count": 1,
   "metadata": {
    "collapsed": true
   },
   "outputs": [],
   "source": [
    "from scipy.stats import norm"
   ]
  },
  {
   "cell_type": "code",
   "execution_count": 6,
   "metadata": {
    "collapsed": false
   },
   "outputs": [
    {
     "data": {
      "text/plain": [
       "0.48006119416162751"
      ]
     },
     "execution_count": 6,
     "metadata": {},
     "output_type": "execute_result"
    }
   ],
   "source": [
    "1-norm.cdf((1000.5 - 1000)/10)"
   ]
  },
  {
   "cell_type": "markdown",
   "metadata": {},
   "source": [
    "# Therefore $P(\\text{Rope will support 1000 lbs}) = 0.4801$"
   ]
  },
  {
   "cell_type": "markdown",
   "metadata": {},
   "source": [
    "_______\n",
    "\n",
    "# b)\n",
    "\n",
    "# In this case, we integrate from $\\frac{970.5 - 1000}{10}$ to $\\infty$"
   ]
  },
  {
   "cell_type": "code",
   "execution_count": 5,
   "metadata": {
    "collapsed": false
   },
   "outputs": [
    {
     "data": {
      "text/plain": [
       "0.99841113035263518"
      ]
     },
     "execution_count": 5,
     "metadata": {},
     "output_type": "execute_result"
    }
   ],
   "source": [
    "1-norm.cdf((970.5-1000)/10)"
   ]
  },
  {
   "cell_type": "markdown",
   "metadata": {},
   "source": [
    "# Therefore $P(\\text{Rope will support 970 lbs}) = 0.99841$"
   ]
  }
 ],
 "metadata": {
  "kernelspec": {
   "display_name": "Python 2",
   "language": "python",
   "name": "python2"
  },
  "language_info": {
   "codemirror_mode": {
    "name": "ipython",
    "version": 2
   },
   "file_extension": ".py",
   "mimetype": "text/x-python",
   "name": "python",
   "nbconvert_exporter": "python",
   "pygments_lexer": "ipython2",
   "version": "2.7.11"
  }
 },
 "nbformat": 4,
 "nbformat_minor": 0
}
