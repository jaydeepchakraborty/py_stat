{
 "cells": [
  {
   "cell_type": "markdown",
   "metadata": {},
   "source": [
    "# A die is thrown until the first time the total sum of the face value of the die is 700 or greater\n",
    "\n",
    "# Estimate the probability that, for this to happen,\n",
    "\n",
    "## a) more than 210 tosses are required\n",
    "\n",
    "## b) less than 190 tosses are required\n",
    "\n",
    "## c) Between 190 and 210 tosses (inclusive) are required"
   ]
  },
  {
   "cell_type": "markdown",
   "metadata": {},
   "source": [
    "_______\n",
    "\n",
    "# $S_{n} = X_{1} + X_{2} + ... + X_{n}$\n",
    "\n",
    "# $E(S_{n}) = n\\frac{7}{2}$\n",
    "\n",
    "# $V(S_{n}) = nV(X_{i}) = n\\frac{35}{12} \\implies \\sigma_{S_{n}} = \\sqrt{n\\frac{35}{12}}$"
   ]
  },
  {
   "cell_type": "markdown",
   "metadata": {},
   "source": [
    "______\n",
    "\n",
    "# a)\n",
    "\n",
    "# Let's not over complicate the problem\n",
    "\n",
    "# What does it mean if it takes more than 210 rolls? \n",
    "\n",
    "# It means that $S_{210}<700$, which isn't hard to calculate\n",
    "\n",
    "# $E(S_{210}) = 210 \\cdot \\frac{7}{2} = 735$\n",
    "\n",
    "# $\\sigma_{S_{210}} = \\sqrt{210 \\cdot \\frac{35}{12}} = 24.75$\n",
    "\n",
    "# $\\frac{700-735}{24.75} = -1.414141$\n",
    "\n",
    "# $\\implies P(S_{210}<700) = \\int_{-\\infty}^{-1.4141}\\phi(x)dx$"
   ]
  },
  {
   "cell_type": "code",
   "execution_count": 18,
   "metadata": {
    "collapsed": false
   },
   "outputs": [],
   "source": [
    "from scipy.stats import norm"
   ]
  },
  {
   "cell_type": "code",
   "execution_count": 22,
   "metadata": {
    "collapsed": false
   },
   "outputs": [
    {
     "data": {
      "text/plain": [
       "0.07866025351868966"
      ]
     },
     "execution_count": 22,
     "metadata": {},
     "output_type": "execute_result"
    }
   ],
   "source": [
    "norm.cdf(-1.414141)"
   ]
  },
  {
   "cell_type": "markdown",
   "metadata": {},
   "source": [
    "# Therefore the probability of it requiring more than 210 rolls is about 0.0787"
   ]
  },
  {
   "cell_type": "markdown",
   "metadata": {},
   "source": [
    "________\n",
    "\n",
    "# b)\n",
    "\n",
    "# $P(\\text{Fewer than 190 tosses}) = P(S_{190}\\geq 700)$\n",
    "\n",
    "# $E(S_{190}) = 190 \\cdot \\frac{7}{2} = 665$\n",
    "\n",
    "# $\\sigma_{S_{190}} = \\sqrt{190\\cdot \\frac{35}{12}} = 23.541$\n",
    "\n",
    "# $\\implies \\frac{700 - 665}{23.541} = 1.487$\n",
    "\n",
    "# $\\implies P(S_{190}\\geq 700) = \\int_{1.487}^{\\infty}\\phi(x)dx$"
   ]
  },
  {
   "cell_type": "code",
   "execution_count": 28,
   "metadata": {
    "collapsed": false
   },
   "outputs": [
    {
     "data": {
      "text/plain": [
       "0.06850740547346823"
      ]
     },
     "execution_count": 28,
     "metadata": {},
     "output_type": "execute_result"
    }
   ],
   "source": [
    "1 - norm.cdf(1.487)"
   ]
  },
  {
   "cell_type": "markdown",
   "metadata": {},
   "source": [
    "# Therefore the probability of it taking fewer than 190 rolls is 0.06851"
   ]
  },
  {
   "cell_type": "markdown",
   "metadata": {},
   "source": [
    "______\n",
    "\n",
    "# c)\n",
    "\n",
    "### $P(\\text{Between 180 and 210 tosses}) = 1 - P(\\text{Fewer than 180 tosses}) - P(\\text{More than 210 tosses})$\n",
    "\n",
    "# $= 1 - 0.07866025351868966 - 0.06850740547346823 = 0.8528$"
   ]
  }
 ],
 "metadata": {
  "kernelspec": {
   "display_name": "Python 2",
   "language": "python",
   "name": "python2"
  },
  "language_info": {
   "codemirror_mode": {
    "name": "ipython",
    "version": 2
   },
   "file_extension": ".py",
   "mimetype": "text/x-python",
   "name": "python",
   "nbconvert_exporter": "python",
   "pygments_lexer": "ipython2",
   "version": "2.7.11"
  }
 },
 "nbformat": 4,
 "nbformat_minor": 0
}
