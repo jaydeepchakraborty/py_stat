{
 "cells": [
  {
   "cell_type": "markdown",
   "metadata": {},
   "source": [
    "# For each of the densities in Exercise 1 calculate the first and second moments directly from their definition and verify that $g(0) = 1$, $g^{'}(0) = \\mu_{1}$ and $g^{''}(0)=\\mu_{2}$"
   ]
  },
  {
   "cell_type": "markdown",
   "metadata": {},
   "source": [
    "____\n",
    "\n",
    "## a) $f_{X} = 1/2$\n",
    "\n",
    "## b) $f_{X} = (1/2)x$\n",
    "\n",
    "## c) $f_{X} = 1 - (1/2)x$\n",
    "\n",
    "## d) $f_{X} = \\left | 1-x \\right |$\n",
    "\n",
    "## e) $f_{X} = (3/8)x^{2}$"
   ]
  },
  {
   "cell_type": "markdown",
   "metadata": {},
   "source": [
    "____\n",
    "\n",
    "# By definition: $\\mu_{n} = E(X^{n}) = \\int_{-\\infty}^{\\infty}x^{n}\\cdot f_{X}(x)dx$"
   ]
  },
  {
   "cell_type": "markdown",
   "metadata": {},
   "source": [
    "_____\n",
    "\n",
    "# a)\n",
    "\n",
    "### From Exercise 1, $g(t) = \\frac{e^{2t}-1}{2t} \\implies g^{'}(t) = \\frac{e^{2t}(2t-1)+1}{2t^{2}} \\implies g^{''}(t) = \\frac{e^{2t}(2t^{2}-2t+1)-1}{t^{3}}$"
   ]
  },
  {
   "cell_type": "markdown",
   "metadata": {},
   "source": [
    "# $\\mu_{1} = \\int_{0}^{2}x\\cdot (1/2)dx = (1/4)2^{2} = 1$"
   ]
  },
  {
   "cell_type": "markdown",
   "metadata": {},
   "source": [
    "# $\\mu_{2} = \\int_{0}^{2}x^{2}\\cdot (1/2)dx = (1/6)2^{3} = 4/3$"
   ]
  },
  {
   "cell_type": "markdown",
   "metadata": {},
   "source": [
    "### $g(0) = \\frac{1-1}{0} = 0/0$ (need to use l'Hospital's rule)\n",
    "\n",
    "### $\\implies g(0) = 2e^{2(0)}/2 = 1$\n",
    "\n",
    "### $g^{'}(0) = \\lim_{t\\rightarrow 0}\\frac{e^{2t}(2t-1)+1}{2t^{2}} = 1 = \\mu_{1}$\n",
    "\n",
    "### $g^{''}(0) = \\lim_{t\\rightarrow 0}\\frac{e^{2t}(2t^{2}-2t+1)-1}{t^{3}} = 4/3 = \\mu_{2}$"
   ]
  },
  {
   "cell_type": "markdown",
   "metadata": {},
   "source": [
    "____\n",
    "\n",
    "# b)"
   ]
  },
  {
   "cell_type": "markdown",
   "metadata": {},
   "source": [
    "# $\\mu_{1} = \\int_{0}^{2}x\\cdot (x/2)dx = (1/6)2^{3} = 4/3$"
   ]
  },
  {
   "cell_type": "markdown",
   "metadata": {},
   "source": [
    "# $\\mu_{2} = \\int_{0}^{2}x^{2}\\cdot (x/2)dx = (1/8)2^{4} = 2$"
   ]
  },
  {
   "cell_type": "markdown",
   "metadata": {},
   "source": [
    "___\n",
    "\n",
    "# c)\n",
    "\n",
    "# $g(t) = \\int_{0}^{2}e^{tx}\\cdot \\left (1- (1/2)x \\right )dx = \\frac{e^{tx}(t(x-2)-1)}{2t^{2}} = \\frac{e^{2t}-2t-1}{2t^{2}}$"
   ]
  },
  {
   "cell_type": "markdown",
   "metadata": {},
   "source": [
    "**This question is just calculus $\\rightarrow$ skipping it**"
   ]
  },
  {
   "cell_type": "markdown",
   "metadata": {},
   "source": [
    "____\n",
    "\n",
    "# d)\n",
    "\n",
    "# $g(t) = \\int_{0}^{2}e^{tx}\\left | 1-x \\right | dx = \\int_{0}^{1}e^{tx}(1-x) dx + \\int_{1}^{2}e^{tx}(x-1) dx$\n",
    "\n",
    "# $= \\frac{e^{tx}(t - xt + 1)}{t^{2}}|^{1}_{0} + \\frac{e^{tx}(tx - t - 1)}{t^{2}}|_{1}^{2} = \\frac{e^{t}-t-1}{t^{2}} + \\frac{e^{t}(e^{t}(t-1)+t)}{t^{2}}$\n",
    "\n",
    "# $=\\frac{(e^{t}-1)(e^{t}(t-1)+t+1)}{t^{2}}$"
   ]
  },
  {
   "cell_type": "markdown",
   "metadata": {},
   "source": [
    "____\n",
    "\n",
    "# e)\n",
    "\n",
    "# $g(t) = \\int_{0}^{2}e^{tx}\\cdot (3/8)x^{2}dx = \\frac{3e^{tx}(t^{2}x^{2} - 2t + 2)}{8t^{3}}|^{2}_{0}$\n",
    "\n",
    "# $ = \\frac{3(e^{2t}(4t^{2}-4t+2)-2)}{8t^{3}}$"
   ]
  }
 ],
 "metadata": {
  "kernelspec": {
   "display_name": "Python 2",
   "language": "python",
   "name": "python2"
  },
  "language_info": {
   "codemirror_mode": {
    "name": "ipython",
    "version": 2
   },
   "file_extension": ".py",
   "mimetype": "text/x-python",
   "name": "python",
   "nbconvert_exporter": "python",
   "pygments_lexer": "ipython2",
   "version": "2.7.11"
  }
 },
 "nbformat": 4,
 "nbformat_minor": 0
}
