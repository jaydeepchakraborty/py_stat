{
 "cells": [
  {
   "cell_type": "markdown",
   "metadata": {},
   "source": [
    "# Let $X$ be a continuous random variable with values in $[0,2]$ and density $f_{X}$\n",
    "\n",
    "# Find the moment generating functino $g(t)$ for $X$ if:\n",
    "\n",
    "## a) $f_{X} = 1/2$\n",
    "\n",
    "## b) $f_{X} = (1/2)x$\n",
    "\n",
    "## c) $f_{X} = 1 - (1/2)x$\n",
    "\n",
    "## d) $f_{X} = \\left | 1-x \\right |$\n",
    "\n",
    "## e) $f_{X} = (3/8)x^{2}$"
   ]
  },
  {
   "cell_type": "markdown",
   "metadata": {},
   "source": [
    "____\n",
    "\n",
    "# Recall: $g(t) = \\int_{-\\infty}^{\\infty}e^{tx}\\cdot f_{X}(x)dx$"
   ]
  },
  {
   "cell_type": "markdown",
   "metadata": {},
   "source": [
    "_____\n",
    "\n",
    "# a)\n",
    "\n",
    "# $g(t) = \\int_{0}^{2}e^{tx}\\cdot (1/2)dx = \\frac{e^{tx}}{2t}|_{0}^{2} = \\frac{e^{2t}-1}{2t}$"
   ]
  },
  {
   "cell_type": "markdown",
   "metadata": {},
   "source": [
    "____\n",
    "\n",
    "# b)\n",
    "\n",
    "# $g(t) = \\int_{0}^{2}e^{tx}\\cdot (1/2)xdx = \\frac{e^{tx}(tx-1)}{2t^{2}}|_{0}^{2} = \\frac{e^{2t}(2t-1)+1}{2t^{2}}$"
   ]
  },
  {
   "cell_type": "markdown",
   "metadata": {},
   "source": [
    "___\n",
    "\n",
    "# c)\n",
    "\n",
    "# $g(t) = \\int_{0}^{2}e^{tx}\\cdot \\left (1- (1/2)x \\right )dx = \\frac{e^{tx}(t(x-2)-1)}{2t^{2}} = \\frac{e^{2t}-2t-1}{2t^{2}}$"
   ]
  },
  {
   "cell_type": "markdown",
   "metadata": {},
   "source": [
    "____\n",
    "\n",
    "# d)\n",
    "\n",
    "# $g(t) = \\int_{0}^{2}e^{tx}\\left | 1-x \\right | dx = \\int_{0}^{1}e^{tx}(1-x) dx + \\int_{1}^{2}e^{tx}(x-1) dx$\n",
    "\n",
    "# $= \\frac{e^{tx}(t - xt + 1)}{t^{2}}|^{1}_{0} + \\frac{e^{tx}(tx - t - 1)}{t^{2}}|_{1}^{2} = \\frac{e^{t}-t-1}{t^{2}} + \\frac{e^{t}(e^{t}(t-1)+t)}{t^{2}}$\n",
    "\n",
    "# $=\\frac{(e^{t}-1)(e^{t}(t-1)+t+1)}{t^{2}}$"
   ]
  },
  {
   "cell_type": "markdown",
   "metadata": {},
   "source": [
    "____\n",
    "\n",
    "# e)\n",
    "\n",
    "# $g(t) = \\int_{0}^{2}e^{tx}\\cdot (3/8)x^{2}dx = \\frac{3e^{tx}(t^{2}x^{2} - 2t + 2)}{8t^{3}}|^{2}_{0}$\n",
    "\n",
    "# $ = \\frac{3(e^{2t}(4t^{2}-4t+2)-2)}{8t^{3}}$"
   ]
  }
 ],
 "metadata": {
  "kernelspec": {
   "display_name": "Python 2",
   "language": "python",
   "name": "python2"
  },
  "language_info": {
   "codemirror_mode": {
    "name": "ipython",
    "version": 2
   },
   "file_extension": ".py",
   "mimetype": "text/x-python",
   "name": "python",
   "nbconvert_exporter": "python",
   "pygments_lexer": "ipython2",
   "version": "2.7.11"
  }
 },
 "nbformat": 4,
 "nbformat_minor": 0
}
