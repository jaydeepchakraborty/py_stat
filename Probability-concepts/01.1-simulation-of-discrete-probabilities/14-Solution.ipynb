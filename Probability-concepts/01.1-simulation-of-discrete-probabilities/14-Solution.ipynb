{
 "cells": [
  {
   "cell_type": "markdown",
   "metadata": {},
   "source": [
    "# You are offered the following game: a fair coin will be tossed until the first time it comes up heads. If this occurs on the $j^{th}$ toss, you are paid $2^{j}$ dollars\n",
    "\n",
    "# You are sure to win at least 2 dollars, so you should be willing to pay to play the game. But how much should you pay?\n",
    "\n",
    "# Few people would pay as much as 10 dollars to play this game. See if you can decide, by simulaiton, a reasonable amount that you would be willing to pay per game if you will be allowed to make a large number of plays of the game.\n",
    "\n",
    "# Does the amount that you would be willing to pay per game depend upon the number of plays that you will be allowed?"
   ]
  },
  {
   "cell_type": "code",
   "execution_count": 8,
   "metadata": {
    "collapsed": true
   },
   "outputs": [],
   "source": [
    "import numpy as np\n",
    "import pandas as pd"
   ]
  },
  {
   "cell_type": "code",
   "execution_count": 5,
   "metadata": {
    "collapsed": true
   },
   "outputs": [],
   "source": [
    "def sim_flips():\n",
    "    i = 1\n",
    "    trigger = False\n",
    "    \n",
    "    while trigger == False:\n",
    "        flip = np.random.randint(0,2)\n",
    "        if flip == 1:\n",
    "            i += 1\n",
    "        else:\n",
    "            trigger = True\n",
    "    return 2**i"
   ]
  },
  {
   "cell_type": "code",
   "execution_count": 10,
   "metadata": {
    "collapsed": false
   },
   "outputs": [],
   "source": [
    "df = pd.DataFrame(index = range(10000))\n",
    "df['Payoff'] = df.index.map(lambda x: sim_flips())"
   ]
  },
  {
   "cell_type": "code",
   "execution_count": 22,
   "metadata": {
    "collapsed": false
   },
   "outputs": [
    {
     "data": {
      "text/plain": [
       "2500"
      ]
     },
     "execution_count": 22,
     "metadata": {},
     "output_type": "execute_result"
    }
   ],
   "source": [
    "10000//4"
   ]
  },
  {
   "cell_type": "markdown",
   "metadata": {},
   "source": [
    "___\n",
    "### Plotting mean payoff/game for n-games"
   ]
  },
  {
   "cell_type": "code",
   "execution_count": 18,
   "metadata": {
    "collapsed": true
   },
   "outputs": [],
   "source": [
    "import matplotlib.pyplot as plt\n",
    "%matplotlib inline\n",
    "plt.rcParams['figure.figsize'] = 10, 7.5"
   ]
  },
  {
   "cell_type": "code",
   "execution_count": 31,
   "metadata": {
    "collapsed": true
   },
   "outputs": [],
   "source": [
    "x = [1,2,3,4,5,6,7,8,9,10]\n",
    "y = []\n",
    "\n",
    "for n in x:\n",
    "    val = (df['Payoff'].groupby(df.index//n).mean()).mean()\n",
    "    y.append(float(int(val*100))/100)"
   ]
  },
  {
   "cell_type": "code",
   "execution_count": 34,
   "metadata": {
    "collapsed": false
   },
   "outputs": [
    {
     "data": {
      "text/plain": [
       "(0, 50)"
      ]
     },
     "execution_count": 34,
     "metadata": {},
     "output_type": "execute_result"
    },
    {
     "data": {
      "image/png": "[encoded data removed]",
      "text/plain": [
       "<matplotlib.figure.Figure at 0xd526ef0>"
      ]
     },
     "metadata": {},
     "output_type": "display_data"
    }
   ],
   "source": [
    "plt.plot(x,y)\n",
    "plt.ylim([0,50])"
   ]
  },
  {
   "cell_type": "code",
   "execution_count": 28,
   "metadata": {
    "collapsed": false
   },
   "outputs": [
    {
     "data": {
      "text/plain": [
       "[25.7712,\n",
       " 25.7712,\n",
       " 25.766846630674134,\n",
       " 25.7712,\n",
       " 25.771200000000047,\n",
       " 25.779244151169735,\n",
       " 25.783265020493808,\n",
       " 25.7712,\n",
       " 25.753796962430048,\n",
       " 25.77120000000002]"
      ]
     },
     "execution_count": 28,
     "metadata": {},
     "output_type": "execute_result"
    }
   ],
   "source": [
    "y"
   ]
  },
  {
   "cell_type": "markdown",
   "metadata": {},
   "source": [
    "## As we can see, the average payoff per game is about $25.77 no matter how many games we play"
   ]
  },
  {
   "cell_type": "markdown",
   "metadata": {},
   "source": [
    "# The player should pay more than $10 per game"
   ]
  }
 ],
 "metadata": {
  "kernelspec": {
   "display_name": "Python 2",
   "language": "python",
   "name": "python2"
  },
  "language_info": {
   "codemirror_mode": {
    "name": "ipython",
    "version": 2
   },
   "file_extension": ".py",
   "mimetype": "text/x-python",
   "name": "python",
   "nbconvert_exporter": "python",
   "pygments_lexer": "ipython2",
   "version": "2.7.11"
  }
 },
 "nbformat": 4,
 "nbformat_minor": 0
}
