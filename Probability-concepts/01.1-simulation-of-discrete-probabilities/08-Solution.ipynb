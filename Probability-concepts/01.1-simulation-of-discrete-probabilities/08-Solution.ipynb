{
 "cells": [
  {
   "cell_type": "markdown",
   "metadata": {},
   "source": [
    "# 8. An astute student noticed that, in our simulation of the game of heads or tails (see Example 1.4), the proportion of times the player is always in the lead is very close to the proportion of times that the player's total winnings end up 0. \n",
    "\n",
    "# Work out these probabilities by enumeration of all cases for two tosses and for four tossses, and see if you think that these probabilities are, in fact, the same."
   ]
  },
  {
   "cell_type": "markdown",
   "metadata": {},
   "source": [
    "___\n",
    "# Two tosses\n",
    "\n",
    "![](images/8-1.png)"
   ]
  },
  {
   "cell_type": "markdown",
   "metadata": {},
   "source": [
    "# $P(\\text{End up 0}) = P(HT)+P(TH) = 0.5^{2} + 0.5^{2} = 0.5$ \n",
    "# $P(\\text{Always in the lead}) = P(HT)+P(HH) = 0.5^{2} + 0.5^{2} = 0.5$ "
   ]
  },
  {
   "cell_type": "markdown",
   "metadata": {},
   "source": [
    "___\n",
    "# Four tosses\n",
    "\n",
    "![](images/8-2.png)"
   ]
  },
  {
   "cell_type": "markdown",
   "metadata": {},
   "source": [
    "## $P(\\text{End up 0}) = P(HHTT)+P(TTHH)+P(HTHT)+P(THTH)+P(HTTH)+P(THHT)$\n",
    "## $= 0.5^{4} + 0.5^{4} + 0.5^{4} + 0.5^{4} + 0.5^{4} + 0.5^{4} = 0.375$\n",
    "\n",
    "## $P(\\text{Always in the lead}) = P(HHHH) + P(HHHT) + P(HHTH) + P(HTHH) + P(HHTT)  + P(HTHT)$\n",
    "## $= 0.5^{4} + 0.5^{4} + 0.5^{4} + 0.5^{4} + 0.5^{4} + 0.5^{4} = 0.375$"
   ]
  },
  {
   "cell_type": "markdown",
   "metadata": {},
   "source": [
    "# Seem to agree in both cases"
   ]
  }
 ],
 "metadata": {
  "kernelspec": {
   "display_name": "Python 2",
   "language": "python",
   "name": "python2"
  },
  "language_info": {
   "codemirror_mode": {
    "name": "ipython",
    "version": 2
   },
   "file_extension": ".py",
   "mimetype": "text/x-python",
   "name": "python",
   "nbconvert_exporter": "python",
   "pygments_lexer": "ipython2",
   "version": "2.7.11"
  }
 },
 "nbformat": 4,
 "nbformat_minor": 0
}
