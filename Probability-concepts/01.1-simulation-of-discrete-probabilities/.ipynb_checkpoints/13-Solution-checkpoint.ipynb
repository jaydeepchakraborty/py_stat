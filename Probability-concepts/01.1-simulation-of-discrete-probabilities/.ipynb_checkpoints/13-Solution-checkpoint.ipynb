{
 "cells": [
  {
   "cell_type": "markdown",
   "metadata": {},
   "source": [
    "# The psychologist Tversky and his colleagues say that about 4/5 people will answer a) to the following question:\n",
    "\n",
    "# A certain town is served by two hospitals. In the larger hospital about 45 babies are born each day, and 15 each day in the smaller hospital. Although the overall proportion of boys is about 50%, the actual proportion at either hospital may be more or less than 50% on any given day.\n",
    "\n",
    "# At the end of a year, which hospital will have the greater number of days on which more than 60% of the babies born were boys?\n",
    "\n",
    "## a. the large hospital\n",
    "## b. the small hospital\n",
    "## c. neither\n",
    "\n",
    "# Assume that the probability that a baby is a boy is 0.5\n",
    "\n",
    "## Decide, by simulation, what the right answer is to the question. Can you suggest why so many people go wrong?"
   ]
  },
  {
   "cell_type": "code",
   "execution_count": 4,
   "metadata": {
    "collapsed": true
   },
   "outputs": [],
   "source": [
    "import numpy as np\n",
    "import pandas as pd"
   ]
  },
  {
   "cell_type": "code",
   "execution_count": 2,
   "metadata": {
    "collapsed": true
   },
   "outputs": [],
   "source": [
    "def births(n):\n",
    "    array = np.random.randint(0,2, size = n)\n",
    "    \n",
    "    return np.sum(array)"
   ]
  },
  {
   "cell_type": "code",
   "execution_count": 9,
   "metadata": {
    "collapsed": false
   },
   "outputs": [],
   "source": [
    "df = pd.DataFrame(index = range(365))\n",
    "df['Small Hospital: Boys'] = df.index.map(lambda x: births(15))\n",
    "df['Small Hospital: Girls'] = 15 - df['Small Hospital: Boys']\n",
    "df['Large Hospital: Boys'] = df.index.map(lambda x: births(45))\n",
    "df['Large Hospital: Girls'] = 60 - df['Large Hospital: Boys']"
   ]
  },
  {
   "cell_type": "code",
   "execution_count": 10,
   "metadata": {
    "collapsed": false
   },
   "outputs": [],
   "source": [
    "df['Small: P(Boys)'] = df['Small Hospital: Boys'].astype(float)/15\n",
    "df['Large: P(Boys)'] = df['Large Hospital: Boys'].astype(float)/45"
   ]
  },
  {
   "cell_type": "code",
   "execution_count": 14,
   "metadata": {
    "collapsed": false
   },
   "outputs": [
    {
     "data": {
      "text/html": [
       "<div>\n",
       "<table border=\"1\" class=\"dataframe\">\n",
       "  <thead>\n",
       "    <tr style=\"text-align: right;\">\n",
       "      <th></th>\n",
       "      <th>Small Hospital: Boys</th>\n",
       "      <th>Small Hospital: Girls</th>\n",
       "      <th>Large Hospital: Boys</th>\n",
       "      <th>Large Hospital: Girls</th>\n",
       "      <th>Small: P(Boys)</th>\n",
       "      <th>Large: P(Boys)</th>\n",
       "    </tr>\n",
       "  </thead>\n",
       "  <tbody>\n",
       "    <tr>\n",
       "      <th>0</th>\n",
       "      <td>11</td>\n",
       "      <td>4</td>\n",
       "      <td>23</td>\n",
       "      <td>37</td>\n",
       "      <td>0.733333</td>\n",
       "      <td>0.511111</td>\n",
       "    </tr>\n",
       "    <tr>\n",
       "      <th>1</th>\n",
       "      <td>4</td>\n",
       "      <td>11</td>\n",
       "      <td>21</td>\n",
       "      <td>39</td>\n",
       "      <td>0.266667</td>\n",
       "      <td>0.466667</td>\n",
       "    </tr>\n",
       "    <tr>\n",
       "      <th>2</th>\n",
       "      <td>8</td>\n",
       "      <td>7</td>\n",
       "      <td>18</td>\n",
       "      <td>42</td>\n",
       "      <td>0.533333</td>\n",
       "      <td>0.400000</td>\n",
       "    </tr>\n",
       "    <tr>\n",
       "      <th>3</th>\n",
       "      <td>6</td>\n",
       "      <td>9</td>\n",
       "      <td>22</td>\n",
       "      <td>38</td>\n",
       "      <td>0.400000</td>\n",
       "      <td>0.488889</td>\n",
       "    </tr>\n",
       "    <tr>\n",
       "      <th>4</th>\n",
       "      <td>6</td>\n",
       "      <td>9</td>\n",
       "      <td>26</td>\n",
       "      <td>34</td>\n",
       "      <td>0.400000</td>\n",
       "      <td>0.577778</td>\n",
       "    </tr>\n",
       "  </tbody>\n",
       "</table>\n",
       "</div>"
      ],
      "text/plain": [
       "   Small Hospital: Boys  Small Hospital: Girls  Large Hospital: Boys  \\\n",
       "0                    11                      4                    23   \n",
       "1                     4                     11                    21   \n",
       "2                     8                      7                    18   \n",
       "3                     6                      9                    22   \n",
       "4                     6                      9                    26   \n",
       "\n",
       "   Large Hospital: Girls  Small: P(Boys)  Large: P(Boys)  \n",
       "0                     37        0.733333        0.511111  \n",
       "1                     39        0.266667        0.466667  \n",
       "2                     42        0.533333        0.400000  \n",
       "3                     38        0.400000        0.488889  \n",
       "4                     34        0.400000        0.577778  "
      ]
     },
     "execution_count": 14,
     "metadata": {},
     "output_type": "execute_result"
    }
   ],
   "source": [
    "df.head()"
   ]
  },
  {
   "cell_type": "code",
   "execution_count": 12,
   "metadata": {
    "collapsed": false
   },
   "outputs": [
    {
     "data": {
      "text/plain": [
       "59"
      ]
     },
     "execution_count": 12,
     "metadata": {},
     "output_type": "execute_result"
    }
   ],
   "source": [
    "len(df[df['Small: P(Boys)']>0.6])"
   ]
  },
  {
   "cell_type": "code",
   "execution_count": 13,
   "metadata": {
    "collapsed": false
   },
   "outputs": [
    {
     "data": {
      "text/plain": [
       "22"
      ]
     },
     "execution_count": 13,
     "metadata": {},
     "output_type": "execute_result"
    }
   ],
   "source": [
    "len(df[df['Large: P(Boys)']>0.6])"
   ]
  },
  {
   "cell_type": "markdown",
   "metadata": {},
   "source": [
    "# Therefore, the correct answer is b."
   ]
  },
  {
   "cell_type": "markdown",
   "metadata": {},
   "source": [
    "## The reason is because the small hospital is taking a smaller sample, and will thus have a higher standard error"
   ]
  }
 ],
 "metadata": {
  "kernelspec": {
   "display_name": "Python 2",
   "language": "python",
   "name": "python2"
  },
  "language_info": {
   "codemirror_mode": {
    "name": "ipython",
    "version": 2
   },
   "file_extension": ".py",
   "mimetype": "text/x-python",
   "name": "python",
   "nbconvert_exporter": "python",
   "pygments_lexer": "ipython2",
   "version": "2.7.11"
  }
 },
 "nbformat": 4,
 "nbformat_minor": 0
}
