{
 "cells": [
  {
   "cell_type": "markdown",
   "metadata": {},
   "source": [
    "# In racquetball, a player continues to serve as long as she is winning; a point is scored only when a player serves and wins the rally. The first player to 21 points wins the game. Assume that you serve first and have a probability of 0.6 of winning a rally when you serve, and a 0.5 probability of winning a rally when you don't. \n",
    "\n",
    "# Estimate, by simulation, the probability that you will win a game"
   ]
  },
  {
   "cell_type": "code",
   "execution_count": 48,
   "metadata": {
    "collapsed": true
   },
   "outputs": [],
   "source": [
    "import numpy as np"
   ]
  },
  {
   "cell_type": "code",
   "execution_count": 49,
   "metadata": {
    "collapsed": true
   },
   "outputs": [],
   "source": [
    "def rally_you_served((your_score, their_score)):\n",
    "    rand = np.random.random()\n",
    "    if rand<0.6:\n",
    "        your_score+=1\n",
    "        success = True\n",
    "    else:\n",
    "        success = False\n",
    "    return (your_score, their_score), success"
   ]
  },
  {
   "cell_type": "code",
   "execution_count": 50,
   "metadata": {
    "collapsed": true
   },
   "outputs": [],
   "source": [
    "def rally_they_served((your_score, their_score)):\n",
    "    rand = np.random.random()\n",
    "    if rand<0.5:\n",
    "        success = True\n",
    "    else:\n",
    "        their_score += 1\n",
    "        success = False\n",
    "    return (your_score, their_score), success"
   ]
  },
  {
   "cell_type": "code",
   "execution_count": 51,
   "metadata": {
    "collapsed": true
   },
   "outputs": [],
   "source": [
    "def simulate_game():\n",
    "    (your_score, their_score) = (0,0)\n",
    "    success = True\n",
    "    \n",
    "    while max(your_score, their_score)<=21:\n",
    "        if max(your_score, their_score)==21:\n",
    "            break\n",
    "        \n",
    "        if success:\n",
    "            (your_score, their_score), success = rally_you_served((your_score, their_score))\n",
    "        else:\n",
    "            (your_score, their_score), success = rally_they_served((your_score, their_score))\n",
    "            \n",
    "    return (your_score, their_score)"
   ]
  },
  {
   "cell_type": "code",
   "execution_count": 52,
   "metadata": {
    "collapsed": false
   },
   "outputs": [],
   "source": [
    "N_sims = 10000\n",
    "score = 0\n",
    "\n",
    "for i in range(N_sims):\n",
    "    (your_score, their_score) = simulate_game()\n",
    "    if your_score == 21:\n",
    "        score += 1"
   ]
  },
  {
   "cell_type": "code",
   "execution_count": 53,
   "metadata": {
    "collapsed": false
   },
   "outputs": [
    {
     "name": "stdout",
     "output_type": "stream",
     "text": [
      "0.8251\n"
     ]
    }
   ],
   "source": [
    "print(float(score)/N_sims)"
   ]
  },
  {
   "cell_type": "markdown",
   "metadata": {},
   "source": [
    "# The probability that you'll win a game is approximately 0.82"
   ]
  }
 ],
 "metadata": {
  "kernelspec": {
   "display_name": "Python 2",
   "language": "python",
   "name": "python2"
  },
  "language_info": {
   "codemirror_mode": {
    "name": "ipython",
    "version": 2
   },
   "file_extension": ".py",
   "mimetype": "text/x-python",
   "name": "python",
   "nbconvert_exporter": "python",
   "pygments_lexer": "ipython2",
   "version": "2.7.11"
  }
 },
 "nbformat": 4,
 "nbformat_minor": 0
}
