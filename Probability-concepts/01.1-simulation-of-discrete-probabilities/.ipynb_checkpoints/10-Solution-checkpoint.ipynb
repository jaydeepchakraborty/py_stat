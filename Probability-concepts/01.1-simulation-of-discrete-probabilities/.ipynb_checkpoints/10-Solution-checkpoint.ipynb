{
 "cells": [
  {
   "cell_type": "markdown",
   "metadata": {},
   "source": [
    "# Another well-known gambling system is the martingale doubling system. Suppose you are betting on red to turn up in roulette. Every time you win, bet 1 dollar next time. Every time you lose, double your previous bet.\n",
    "\n",
    "# Suppose that you use this system until you have won at least 5 dollars, or you have lost more than 100 dollars.\n",
    "\n",
    "# Write a program to simulate this and play it a number of times and see how you do\n",
    "\n",
    "# In his book The Newcomes, WM Thackeray remarks \"You have not played as yet? Do not do so; above all avoid a martingale if you do.\" Was this good advice?"
   ]
  },
  {
   "cell_type": "code",
   "execution_count": 3,
   "metadata": {
    "collapsed": true
   },
   "outputs": [],
   "source": [
    "import numpy as np"
   ]
  },
  {
   "cell_type": "code",
   "execution_count": 1,
   "metadata": {
    "collapsed": true
   },
   "outputs": [],
   "source": [
    "def simulate_round(previous_bet, total):\n",
    "    rand = np.random.randint(1,39)\n",
    "    \n",
    "    if (rand==1)|(rand==2):\n",
    "        total -= previous_bet\n",
    "        return 2*previous_bet, total\n",
    "    elif rand%2==1:\n",
    "        total -= previous_bet\n",
    "        return 2*previous_bet, total\n",
    "    else:\n",
    "        total += previous_bet\n",
    "        return 1, total"
   ]
  },
  {
   "cell_type": "code",
   "execution_count": 8,
   "metadata": {
    "collapsed": false
   },
   "outputs": [],
   "source": [
    "N_trials = 1000\n",
    "ending_total = []\n",
    "\n",
    "for i in range(N_trials):\n",
    "    total = 0\n",
    "    bet = 1\n",
    "\n",
    "    while (total<=5)&(total>=-100):\n",
    "        bet, total = simulate_round(bet, total)\n",
    "    ending_total.append(total)"
   ]
  },
  {
   "cell_type": "code",
   "execution_count": 11,
   "metadata": {
    "collapsed": true
   },
   "outputs": [],
   "source": [
    "import matplotlib.pyplot as plt\n",
    "%matplotlib inline\n",
    "plt.rcParams['figure.figsize'] = 10, 7.5"
   ]
  },
  {
   "cell_type": "code",
   "execution_count": 14,
   "metadata": {
    "collapsed": false
   },
   "outputs": [
    {
     "data": {
      "image/png": "[encoded data removed]",
      "text/plain": [
       "<matplotlib.figure.Figure at 0xb3a98d0>"
      ]
     },
     "metadata": {},
     "output_type": "display_data"
    }
   ],
   "source": [
    "plt.hist(ending_total, bins = 100)\n",
    "plt.show()"
   ]
  },
  {
   "cell_type": "markdown",
   "metadata": {},
   "source": [
    "# Seems that it's way more common to win 6 than lose more than 100, but what's the expected payoff?"
   ]
  },
  {
   "cell_type": "code",
   "execution_count": 10,
   "metadata": {
    "collapsed": false
   },
   "outputs": [
    {
     "data": {
      "text/plain": [
       "-2.617"
      ]
     },
     "execution_count": 10,
     "metadata": {},
     "output_type": "execute_result"
    }
   ],
   "source": [
    "np.mean(ending_total)"
   ]
  },
  {
   "cell_type": "markdown",
   "metadata": {},
   "source": [
    "# It's negative\n",
    "\n",
    "# Furthermore, let's make the stopping points symmetric (i.e. both 100)"
   ]
  },
  {
   "cell_type": "code",
   "execution_count": 15,
   "metadata": {
    "collapsed": true
   },
   "outputs": [],
   "source": [
    "N_trials = 1000\n",
    "ending_total = []\n",
    "\n",
    "for i in range(N_trials):\n",
    "    total = 0\n",
    "    bet = 1\n",
    "\n",
    "    while (total<=100)&(total>=-100):\n",
    "        bet, total = simulate_round(bet, total)\n",
    "    ending_total.append(total)"
   ]
  },
  {
   "cell_type": "code",
   "execution_count": 16,
   "metadata": {
    "collapsed": false
   },
   "outputs": [
    {
     "data": {
      "image/png": "[encoded data removed]",
      "text/plain": [
       "<matplotlib.figure.Figure at 0xb90f940>"
      ]
     },
     "metadata": {},
     "output_type": "display_data"
    }
   ],
   "source": [
    "plt.hist(ending_total, bins = 100)\n",
    "plt.show()"
   ]
  },
  {
   "cell_type": "code",
   "execution_count": 17,
   "metadata": {
    "collapsed": false
   },
   "outputs": [
    {
     "data": {
      "text/plain": [
       "-31.677"
      ]
     },
     "execution_count": 17,
     "metadata": {},
     "output_type": "execute_result"
    }
   ],
   "source": [
    "np.mean(ending_total)"
   ]
  },
  {
   "cell_type": "markdown",
   "metadata": {},
   "source": [
    "# Once again negative, so we expect to lose money with this strategy"
   ]
  }
 ],
 "metadata": {
  "kernelspec": {
   "display_name": "Python 2",
   "language": "python",
   "name": "python2"
  },
  "language_info": {
   "codemirror_mode": {
    "name": "ipython",
    "version": 2
   },
   "file_extension": ".py",
   "mimetype": "text/x-python",
   "name": "python",
   "nbconvert_exporter": "python",
   "pygments_lexer": "ipython2",
   "version": "2.7.11"
  }
 },
 "nbformat": 4,
 "nbformat_minor": 0
}
