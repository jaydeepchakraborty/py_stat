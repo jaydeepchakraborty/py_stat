{
 "cells": [
  {
   "cell_type": "markdown",
   "metadata": {},
   "source": [
    "# a. Write a program to simulate a random walk in one dimension starting at 0.\n",
    "\n",
    "## Have your program print out the lengths of the times between returns to the starting point (returns to 0). See if you can guess the answer to the following question: \n",
    "\n",
    "## Will the walker always return to his starting point eventually, or might he drift away forever?"
   ]
  },
  {
   "cell_type": "code",
   "execution_count": 1,
   "metadata": {
    "collapsed": true
   },
   "outputs": [],
   "source": [
    "import numpy as np"
   ]
  },
  {
   "cell_type": "code",
   "execution_count": 29,
   "metadata": {
    "collapsed": true
   },
   "outputs": [],
   "source": [
    "def random_walk_1D():\n",
    "    #setup\n",
    "    x = 0\n",
    "    t = 0\n",
    "    \n",
    "    #first step\n",
    "    rand = np.random.randint(2)\n",
    "    x += (-1)**rand\n",
    "    t += 1\n",
    "    \n",
    "    while x != 0:\n",
    "        t += 1\n",
    "        rand = np.random.randint(2)\n",
    "        x += (-1)**rand\n",
    "        if t>100000:\n",
    "            break\n",
    "    \n",
    "    return t"
   ]
  },
  {
   "cell_type": "code",
   "execution_count": 30,
   "metadata": {
    "collapsed": false
   },
   "outputs": [],
   "source": [
    "list_times = []\n",
    "\n",
    "for i in range(10000):\n",
    "    list_times.append(random_walk_1D())"
   ]
  },
  {
   "cell_type": "code",
   "execution_count": 32,
   "metadata": {
    "collapsed": false
   },
   "outputs": [
    {
     "data": {
      "text/plain": [
       "100001"
      ]
     },
     "execution_count": 32,
     "metadata": {},
     "output_type": "execute_result"
    }
   ],
   "source": [
    "np.max(list_times)"
   ]
  },
  {
   "cell_type": "markdown",
   "metadata": {},
   "source": [
    "## Some of the random walks made it past 100,000 steps suggesting it may be possible to drift away forever"
   ]
  },
  {
   "cell_type": "markdown",
   "metadata": {},
   "source": [
    "____\n",
    "# b. The paths of two walkers in two dimensions who meet after $n$ steps can be considered to be a single path that starts at (0,0) and returns to (0,0) after $2n$ steps\n",
    "\n",
    "# This means that the probability that two random walkers in two dimensions meet is the same as the probability that a single walker in two dimensions ever returns to the same starting point.\n",
    "\n",
    "# Write a program to simulate a random walk in two dimensions and see if you think that the walker is sure to return to (0,0)"
   ]
  },
  {
   "cell_type": "code",
   "execution_count": 127,
   "metadata": {
    "collapsed": true
   },
   "outputs": [],
   "source": [
    "def random_walk_2D():\n",
    "    #setup\n",
    "    x = 0\n",
    "    y = 0\n",
    "    t = 0\n",
    "    \n",
    "    #first step\n",
    "    t += 1\n",
    "    rand = np.random.randint(4)\n",
    "    if rand < 2:\n",
    "        x += (-1)**rand\n",
    "    else:\n",
    "        y += (-1)**rand\n",
    "    \n",
    "    #looping\n",
    "    while (x!=0) | (y!=0):\n",
    "        t += 1\n",
    "        rand = np.random.randint(4)\n",
    "        if rand < 2:\n",
    "            x += (-1)**rand\n",
    "        else:\n",
    "            y += (-1)**rand\n",
    "            \n",
    "        if t>100000:\n",
    "            break\n",
    "       \n",
    "    return t"
   ]
  },
  {
   "cell_type": "code",
   "execution_count": 128,
   "metadata": {
    "collapsed": false
   },
   "outputs": [],
   "source": [
    "list_times2 = []\n",
    "\n",
    "for i in range(10000):\n",
    "    list_times2.append(random_walk_2D())"
   ]
  },
  {
   "cell_type": "markdown",
   "metadata": {},
   "source": [
    "# Skipping the rest of the question"
   ]
  }
 ],
 "metadata": {
  "kernelspec": {
   "display_name": "Python 2",
   "language": "python",
   "name": "python2"
  },
  "language_info": {
   "codemirror_mode": {
    "name": "ipython",
    "version": 2
   },
   "file_extension": ".py",
   "mimetype": "text/x-python",
   "name": "python",
   "nbconvert_exporter": "python",
   "pygments_lexer": "ipython2",
   "version": "2.7.11"
  }
 },
 "nbformat": 4,
 "nbformat_minor": 0
}
