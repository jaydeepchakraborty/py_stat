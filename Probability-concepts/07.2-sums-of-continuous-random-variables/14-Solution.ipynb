{
 "cells": [
  {
   "cell_type": "markdown",
   "metadata": {},
   "source": [
    "# Assume that $X$ and $Y$ are independent random variables both with exponential density given by $\\lambda$\n",
    "\n",
    "# Show that $Z = X-Y$ has density:\n",
    "\n",
    "# $f_{Z}(z) = \\frac{1}{2}\\lambda e^{-\\lambda |z|}$"
   ]
  },
  {
   "cell_type": "markdown",
   "metadata": {},
   "source": [
    "________\n",
    "\n",
    "# $Z = X - Y \\implies X = Z + Y$\n",
    "\n",
    "# Then $f_{Z}(z) = \\int_{-\\infty}^{\\infty}f_{X}(z+y)f_{Y}(y)dy$\n",
    "\n",
    "# We know that $f_{X}(x)$ and $f_{Y}(x)$ are 0 when $x<0$\n",
    "\n",
    "# We also know that the range of possible values for $Z$ is $(-\\infty, \\infty)$"
   ]
  },
  {
   "cell_type": "markdown",
   "metadata": {},
   "source": [
    "# If $z\\leq 0$, then $(z+y)$ and $y$ must both be positive, or else $f_{X}(x)$ and $f_{Y}(x)$ are 0\n",
    "\n",
    "## This implies $y > -z$\n",
    "\n",
    "# So $f_{Z}(z) = \\int_{-z}^{\\infty}f_{X}(z+y)f_{Y}(y)dy = \\int_{-z}^{\\infty}\\lambda^{2}e^{-\\lambda(z + 2y)}dy = \\frac{-\\lambda}{2}e^{-\\lambda(z+2y)}|_{-z}^{\\infty}$\n",
    "\n",
    "# $= \\frac{\\lambda}{2}e^{\\lambda z} = \\frac{\\lambda}{2}e^{-\\lambda |z|}$"
   ]
  },
  {
   "cell_type": "markdown",
   "metadata": {},
   "source": [
    "_______\n",
    "\n",
    "# If $z>0$, then $y$ being greater than 0 implies $(z+y)$ being greater than 0\n",
    "\n",
    "# So $f_{Z}(z) = \\int_{0}^{\\infty}f_{X}(z+y)f_{Y}(y)dy = \\frac{\\lambda}{2}e^{-\\lambda z} = \\frac{\\lambda}{2}e^{-\\lambda |z|}$"
   ]
  },
  {
   "cell_type": "markdown",
   "metadata": {},
   "source": [
    "# Therefore $f_{Z}(z) = \\frac{\\lambda}{2}e^{-\\lambda |z|}$"
   ]
  }
 ],
 "metadata": {
  "kernelspec": {
   "display_name": "Python 2",
   "language": "python",
   "name": "python2"
  },
  "language_info": {
   "codemirror_mode": {
    "name": "ipython",
    "version": 2
   },
   "file_extension": ".py",
   "mimetype": "text/x-python",
   "name": "python",
   "nbconvert_exporter": "python",
   "pygments_lexer": "ipython2",
   "version": "2.7.11"
  }
 },
 "nbformat": 4,
 "nbformat_minor": 0
}
