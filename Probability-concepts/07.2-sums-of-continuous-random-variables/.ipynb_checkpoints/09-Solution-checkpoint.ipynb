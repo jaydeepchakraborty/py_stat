{
 "cells": [
  {
   "cell_type": "markdown",
   "metadata": {},
   "source": [
    "# Assume that the service time for a customer at a bank is exponentially distributed with mean service time $\\mu = 2$\n",
    "\n",
    "# Let $S_{10}$ be the total service time for 10 customers\n",
    "\n",
    "# Estimate the probability that $X>22$ minutes"
   ]
  },
  {
   "cell_type": "markdown",
   "metadata": {},
   "source": [
    "_______\n",
    "\n",
    "# $\\lambda = \\frac{1}{\\mu} = \\frac{1}{2}$\n",
    "\n",
    "# $n = 10$\n",
    "\n",
    "# For exponential random variables $X_{1},...,X_{n}$,    $f_{S_{n}}(x) = \\frac{\\lambda e^{-\\lambda x}(\\lambda x)^{n-1}}{(n-1)!}$\n",
    "\n",
    "# $\\implies f_{S_{10}} = \\frac{\\frac{1}{2} e^{-\\frac{x}{2}}(\\frac{x}{2})^{9}}{9!}$\n",
    "\n",
    "# $\\implies P(X>22) = 1 - \\int_{0}^{22}\\frac{\\frac{1}{2} e^{-\\frac{x}{2}}(\\frac{x}{2})^{9}}{9!}dx = 1 - 0.659489 = 0.340511$"
   ]
  }
 ],
 "metadata": {
  "kernelspec": {
   "display_name": "Python 2",
   "language": "python",
   "name": "python2"
  },
  "language_info": {
   "codemirror_mode": {
    "name": "ipython",
    "version": 2
   },
   "file_extension": ".py",
   "mimetype": "text/x-python",
   "name": "python",
   "nbconvert_exporter": "python",
   "pygments_lexer": "ipython2",
   "version": "2.7.11"
  }
 },
 "nbformat": 4,
 "nbformat_minor": 0
}
