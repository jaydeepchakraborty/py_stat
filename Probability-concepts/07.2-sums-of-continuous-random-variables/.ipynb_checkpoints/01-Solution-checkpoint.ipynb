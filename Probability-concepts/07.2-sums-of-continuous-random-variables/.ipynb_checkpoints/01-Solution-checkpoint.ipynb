{
 "cells": [
  {
   "cell_type": "markdown",
   "metadata": {},
   "source": [
    "# Let $X$ and $Y$ be independent real valued random variables with density functions $f_{X}(x)$ and $f_{Y}(y)$, repectively\n",
    "\n",
    "# Show that the desnity function of the sum $X+Y$ is the convolution of the functions $f_{X}(x)$ and $f_{Y}(x)$\n",
    "\n",
    "## *Hint*: Let $\\bar{X}$ be the joint random variable $\\bar{X}=(X,Y)$, then show that the density function of $\\bar{X}$ is $f_{X}(x)f_{Y}(x)$ since they're independent. Then compute the probability that $X+Y\\leq z$ and take the derivative to yield $f_{Z}(z)$"
   ]
  },
  {
   "cell_type": "markdown",
   "metadata": {},
   "source": [
    "______\n",
    "\n",
    "# $P(\\bar{X} \\leq (x, y)) = P(X\\leq x \\cap Y\\leq y) = P(X\\leq x)P(Y\\leq y)$\n",
    "\n",
    "# $= \\int_{-\\infty}^{\\infty}f_{X}(x)dx\\int_{-\\infty}^{\\infty}f_{Y}(y)dy$\n",
    "\n",
    "# $\\implies f_{X}(x)f_{Y}(y)$ is the joint density function for $\\bar{X}$"
   ]
  },
  {
   "cell_type": "markdown",
   "metadata": {},
   "source": [
    "# Then, if $Z=X+Y$, $P(Z\\leq z) = P(\\bar{X}\\leq(x, z-x)) = \\int$"
   ]
  }
 ],
 "metadata": {
  "kernelspec": {
   "display_name": "Python 2",
   "language": "python",
   "name": "python2"
  },
  "language_info": {
   "codemirror_mode": {
    "name": "ipython",
    "version": 2
   },
   "file_extension": ".py",
   "mimetype": "text/x-python",
   "name": "python",
   "nbconvert_exporter": "python",
   "pygments_lexer": "ipython2",
   "version": "2.7.11"
  }
 },
 "nbformat": 4,
 "nbformat_minor": 0
}
