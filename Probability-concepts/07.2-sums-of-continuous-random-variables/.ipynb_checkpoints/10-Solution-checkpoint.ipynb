{
 "cells": [
  {
   "cell_type": "markdown",
   "metadata": {},
   "source": [
    "# Let $X_{1}, X_{2}, ..., X_{n}$ be $n$ independent random variables each with exponential density and mean $\\mu$\n",
    "\n",
    "# Let $M$ be the minimum of $\\left \\{ X_{1}, X_{2}, ..., X_{n} \\right \\}$\n",
    "\n",
    "# Show that the density of $M$ is exponential with mean $\\mu$"
   ]
  },
  {
   "cell_type": "markdown",
   "metadata": {},
   "source": [
    "______\n",
    "\n",
    "# First, let's let $n = 2$\n",
    "\n",
    "# Then $M = min\\left \\{ X_{1},X_{2} \\right \\} \\implies P(M\\leq m) = P(X_{1}\\leq m \\cup X_{2}\\leq m)$\n",
    "\n",
    "# $X_{1}\\leq m \\cup X_{2}\\leq m$ means either is less than $m$ so:\n",
    "\n",
    "# $P(X_{1}\\leq m \\cup X_{2}\\leq m) = 1 - P(X_{1}\\geq m \\cap X_{2}\\geq m)$\n",
    "\n",
    "# $= 1 - P(X_{1}\\geq m)P(X_{2}\\geq m) $\n",
    "\n",
    "# $P(X_{1}\\geq m) = e^{-\\lambda m} \\implies P(X_{1}\\geq m)P(X_{2}\\geq m) = e^{-2\\lambda m}$\n",
    "\n",
    "# $\\implies P(X_{1}\\leq m \\cup X_{2}\\leq m) = 1 - e^{-2\\lambda m}$\n",
    "\n",
    "# Extending this to $n$:\n",
    "\n",
    "# $P(M \\leq m) = 1 - P(X_{1}\\leq m)\\cdot P(X_{2}\\leq m) \\cdot ... \\cdot P(X_{n}\\leq m) = 1 - e^{-n \\lambda m}$"
   ]
  },
  {
   "cell_type": "markdown",
   "metadata": {},
   "source": [
    "# If we let $\\lambda^{*} = \\lambda n \\implies 1 - e^{-\\lambda^{*} m}$ is just $P(X \\leq m)$ where $X$ is an exponentially distributed random variable with $\\mu^{*} = \\frac{1}{\\lambda^{*}}$\n",
    "\n",
    "# So $\\mu^{*}=\\frac{1}{n\\lambda} = \\frac{1}{n\\frac{1}{\\mu}} = \\frac{\\mu}{n}$\n",
    "\n",
    "# Therefore $M$ has exponential distribution with mean $\\frac{\\mu}{n}$"
   ]
  }
 ],
 "metadata": {
  "kernelspec": {
   "display_name": "Python 2",
   "language": "python",
   "name": "python2"
  },
  "language_info": {
   "codemirror_mode": {
    "name": "ipython",
    "version": 2
   },
   "file_extension": ".py",
   "mimetype": "text/x-python",
   "name": "python",
   "nbconvert_exporter": "python",
   "pygments_lexer": "ipython2",
   "version": "2.7.11"
  }
 },
 "nbformat": 4,
 "nbformat_minor": 0
}
