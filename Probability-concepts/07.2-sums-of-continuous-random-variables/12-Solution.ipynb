{
 "cells": [
  {
   "cell_type": "markdown",
   "metadata": {},
   "source": [
    "# An insurance company assumes that the time between claims from each of its homeowners' policies is exponentially distributed with mean $\\mu$\n",
    "\n",
    "# It would like to estimate $\\mu$ by averaging the times for a number of the policies, but this is not very practical since the time between claims is about 30 years\n",
    "\n",
    "# The company puts its customers into groups of 50 and observes the time of the first claim for each group\n",
    "\n",
    "# Show that this provides a practical way to estimate the value of $\\mu$"
   ]
  },
  {
   "cell_type": "markdown",
   "metadata": {},
   "source": [
    "_____\n",
    "\n",
    "# From [Exercise 11](11-Solution.ipynb), we know that the expected value for the minimum of $n$ exponential distributions is equal to $\\frac{\\mu}{n}$"
   ]
  },
  {
   "cell_type": "markdown",
   "metadata": {},
   "source": [
    "# So if divide the customers into groups of 50, the first claim should occur at $\\frac{\\mu}{50}$\n",
    "\n",
    "# Since the time between claims is about 30 years, this means the first claim should be in the first year for most of the groups"
   ]
  }
 ],
 "metadata": {
  "kernelspec": {
   "display_name": "Python 2",
   "language": "python",
   "name": "python2"
  },
  "language_info": {
   "codemirror_mode": {
    "name": "ipython",
    "version": 2
   },
   "file_extension": ".py",
   "mimetype": "text/x-python",
   "name": "python",
   "nbconvert_exporter": "python",
   "pygments_lexer": "ipython2",
   "version": "2.7.11"
  }
 },
 "nbformat": 4,
 "nbformat_minor": 0
}
