{
 "cells": [
  {
   "cell_type": "markdown",
   "metadata": {},
   "source": [
    "# Particles are subject to collisions that cause them to split into two parts with each part a fraction of its parent\n",
    "\n",
    "# Suppose that this fraction is uniformly distributed on $[0,1]$\n",
    "\n",
    "# Following a single particle through several splits, we obtain a fraction of the original particle: $Z_{n} = X_{1}\\cdot X_{2}\\cdot...\\cdot X_{n}$\n",
    "\n",
    "# Show that the density of $Z_{n}$ is given by:\n",
    "\n",
    "# $f_{Z{n}}(z) = \\frac{1}{(n-1)!}(-log z)^{n-1}$\n",
    "\n",
    "\n",
    "## *Hint: show that $Y_{k} = -logX_{k}$ is exponentially distributed. Use this so find the density of $S_{n} = Y_{1} + Y_{2} + ... + Y_{n}$ then from this get $Z_{n} = e^{-S_{n}}$*"
   ]
  },
  {
   "cell_type": "markdown",
   "metadata": {},
   "source": [
    "________\n",
    "\n",
    "# First, let's simulate the splits and compare the histogram to the plot of $f_{Z_{n}}$"
   ]
  },
  {
   "cell_type": "code",
   "execution_count": 34,
   "metadata": {
    "collapsed": true
   },
   "outputs": [],
   "source": [
    "import numpy as np\n",
    "import matplotlib.pyplot as plt\n",
    "%matplotlib inline\n",
    "plt.rcParams['figure.figsize'] = 10, 10\n",
    "from math import factorial"
   ]
  },
  {
   "cell_type": "code",
   "execution_count": 27,
   "metadata": {
    "collapsed": false
   },
   "outputs": [],
   "source": [
    "n_splits = 10\n",
    "n_trials = 10000\n",
    "\n",
    "splits = np.random.random(size = [n_splits, n_trials])\n",
    "Zn_samples = np.product(splits, axis = 0)"
   ]
  },
  {
   "cell_type": "code",
   "execution_count": 43,
   "metadata": {
    "collapsed": false
   },
   "outputs": [
    {
     "data": {
      "image/png": "[encoded data removed]",
      "text/plain": [
       "<matplotlib.figure.Figure at 0xea63198>"
      ]
     },
     "metadata": {},
     "output_type": "display_data"
    }
   ],
   "source": [
    "plt.hist(Zn_samples, bins = 300, normed = True)\n",
    "\n",
    "z = np.arange(0.0001, 0.06, 0.0001)\n",
    "fz = -((np.log(z))**9)/factorial(9)\n",
    "\n",
    "plt.plot(z, fz, lw = 3, color = 'r', ls = 'dashed')\n",
    "\n",
    "plt.xlim(0, 0.03)\n",
    "plt.show()"
   ]
  },
  {
   "cell_type": "markdown",
   "metadata": {},
   "source": [
    "_______\n",
    "\n",
    "# Step one: $Y_{i} = -log X_{i}$\n",
    "\n",
    "### From [Section 5.2](../5.2-important-densities/summary-of-chapter.ipynb), we know that if $X$ is a continuous random variable and $\\phi(x)$ is a strictly monotonically *decreasing* function over the values of $X$ where $Y = \\phi(X)$ then:\n",
    "\n",
    "## $f_{Y}(y) = -f_{X}\\left (\\phi^{-1}(y) \\right ) \\frac{d}{dy}\\phi^{-1}(y)$\n",
    "\n",
    "\n",
    "### So in this case, $\\phi(X) = -log(X) \\implies \\phi^{-1}(Y) = e^{-Y}$ and $f_{X}(x) = 1$ since it's uniform\n",
    "\n",
    "### $\\implies f_{Y_{i}}(y) = -(1)(-1)e^{-y} = e^{-y}$, and this is just the exponential density with $\\lambda = 1$"
   ]
  },
  {
   "cell_type": "markdown",
   "metadata": {},
   "source": [
    "_______\n",
    "\n",
    "# Step two: $S{n} = Y_{1}+...+Y_{n}$\n",
    "\n",
    "### We know from [Exercise 9](09-Solution.ipynb) that for exponentially distributed random variables $X_{1},...,X_{n}$:\n",
    "\n",
    "## $f_{S_{n}} = \\frac{\\lambda e^{-\\lambda x}(\\lambda x)^{n-1}}{(n-1)!}$\n",
    "\n",
    "### For the random variables describing the splits, this means $f_{S_{n}} = \\frac{e^{-x}(x)^{n-1}}{(n-1)!}$"
   ]
  },
  {
   "cell_type": "markdown",
   "metadata": {},
   "source": [
    "______\n",
    "\n",
    "# Step three: $Z_{n} = e^{-S_{n}}$\n",
    "\n",
    "## Again, this is a monotonically decreasing function so $f_{Z{n}} = -f_{S_{n}}(\\phi^{-1}(z))\\frac{d}{ds}\\phi^{-1}(z)$\n",
    "\n",
    "## $\\phi(s) = e^{-s} \\implies \\phi^{-1}(z) = -log(z) \\implies \\frac{d}{ds}\\phi^{-1}(z) = \\frac{d}{ds}(-log(z)) = \\frac{-1}{z}$\n",
    "\n",
    "## $f_{S_{n}}(\\phi^{-1}(z)) = \\frac{e^{-(-log(z))}(-log(z))^{n-1}}{(n-1)!} = \\frac{z(-log(z))^{n-1}}{(n-1)!}$\n",
    "\n",
    "## $\\implies -f_{S_{n}}(\\phi^{-1}(z))\\frac{d}{ds}\\phi^{-1}(z) = -\\frac{z(-log(z))^{n-1}}{(n-1)!} \\frac{-1}{z} = \\frac{(-log(z))^{n-1}}{(n-1)!}$"
   ]
  }
 ],
 "metadata": {
  "kernelspec": {
   "display_name": "Python 2",
   "language": "python",
   "name": "python2"
  },
  "language_info": {
   "codemirror_mode": {
    "name": "ipython",
    "version": 2
   },
   "file_extension": ".py",
   "mimetype": "text/x-python",
   "name": "python",
   "nbconvert_exporter": "python",
   "pygments_lexer": "ipython2",
   "version": "2.7.11"
  }
 },
 "nbformat": 4,
 "nbformat_minor": 0
}
