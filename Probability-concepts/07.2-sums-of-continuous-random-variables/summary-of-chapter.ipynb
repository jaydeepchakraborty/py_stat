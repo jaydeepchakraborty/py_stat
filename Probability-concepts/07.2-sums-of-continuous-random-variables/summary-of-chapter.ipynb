{
 "cells": [
  {
   "cell_type": "markdown",
   "metadata": {},
   "source": [
    "# *Convolutions*\n",
    "\n",
    "# Definition 7.2\n",
    "\n",
    "### Let $X$ and $Y$ be two continuous random variables with density functions $f(x)$ and $g(y)$\n",
    "\n",
    "### Then, the *convolution* $f*g$ of $f$ and $g$ is defined as:\n",
    "\n",
    "# $(f*g)(\\alpha_{0}) = \\int_{-\\infty}^{\\infty}f(\\alpha_{0}-y)g(y)dy = \\int_{-\\infty}^{\\infty}f(x)g(\\alpha_{0}-x)dx$"
   ]
  },
  {
   "cell_type": "markdown",
   "metadata": {},
   "source": [
    "____\n",
    "\n",
    "# Theorem 7.1\n",
    "\n",
    "### Let $X$ and $Y$ be two independent random variables with density functions $f_{X}(x)$ and $f_{Y}(y)$\n",
    "\n",
    "### Then the sum $Z=X+Y$ is a random variable with density function $f_{Z}(z)$, where $f_{Z}$ is the convolution of $f_{X}$ and $f_{Y}$"
   ]
  },
  {
   "cell_type": "markdown",
   "metadata": {},
   "source": [
    "___\n",
    "\n",
    "# *Sum of Two Independent Uniform Random Variables*\n",
    "\n",
    "## Example\n",
    "\n",
    "### Let $X$ and $Y$ be random variables distributed uniformly on $[0,1]$ and $Z=X+Y$\n",
    "\n",
    "### From the definition above, we know that \n",
    "\n",
    "# $f_{Z}(z) = \\int_{-\\infty}^{\\infty}f_{X}(z-y)f_{Y}(y)dy$\n",
    "\n",
    "### We know $f_{X}(x) = f_{Y}(x) = 1$ when $0\\leq x \\leq 1$\n",
    "\n",
    "### The minimum value for $Z$ is 0, and the maximum is 2\n",
    "\n",
    "### Let's break $0\\leq z \\leq 2$ into two parts: i) $[0,1]$ and $[1,2]$\n",
    "\n",
    "### i)\n",
    "\n",
    "### For $f_{X}(z-y)$ and $f_{Y}(y)$ to be non-zero, we need $0 \\leq z-y$ and $0\\leq y \\implies 0 \\leq y \\leq z$\n",
    "\n",
    "### Therefore on $[0,1]$, $f_{Z}(z) = \\int_{0}^{z}dy = z$\n",
    "\n",
    "### ii)\n",
    "\n",
    "### For $f_{X}(z-y)$ and $f_{Y}(y)$ to be non-zero, we need $z-y \\leq 1 \\implies z-1 \\leq y$ and $y<1 \\implies z-1 \\leq y \\leq 1$\n",
    "\n",
    "### Therefore on $[1,2]$, $f_{Z}(z) = \\int_{z-1}^{1}dy = 1 - (z-1) = 2-z$\n",
    "\n",
    "### So the expression for $f_{Z}(z)$ is given by:\n",
    "\n",
    "# $f_{Z}(z) = \\left\\{\\begin{matrix} z & \\text{ ; if }z\\leq 1\\\\ 2-z & \\text{ ; if }z>1 \\end{matrix}\\right.$"
   ]
  },
  {
   "cell_type": "markdown",
   "metadata": {},
   "source": [
    "_____\n",
    "\n",
    "# *Sum of Two Independent Exponential Random Variables*\n",
    "\n",
    "## Example\n",
    "\n",
    "### We choose two values $X$ and $Y$ at random on $[0, \\infty)$ with an exponential density and parameter $\\lambda$\n",
    "\n",
    "### What is the density of $Z = X+Y$?\n",
    "\n",
    "### We know $f_{X}(x) = f_{Y}(x) = \\lambda e^{-\\lambda x}$ when $x\\geq 0$\n",
    "\n",
    "### Using the definition above, we get $f_{Z}(z) = \\int_{0}^{z}\\lambda e^{-\\lambda(z-y)} \\cdot \\lambda e^{-\\lambda y}dy = \\lambda^{2}\\int_{0}^{z}e^{-\\lambda (z-y+y)}dy = \\lambda^{2}e^{-\\lambda z}z$"
   ]
  },
  {
   "cell_type": "markdown",
   "metadata": {},
   "source": [
    "____\n",
    "\n",
    "# *Sum of Two Independent Normal Random Variables*\n",
    "\n",
    "## Example\n",
    "\n",
    "### It is an interesting and important fact that the convolution of two normal densities with means $\\mu_{1}$ and $\\mu_{2}$ and variances $\\sigma^{2}_{1}$ and $\\sigma^{2}_{2}$ is *also a normal distribution* with $\\mu = \\mu_{1}+\\mu_{2}$ and $\\sigma^{2} = \\sigma^{2}_{1}+\\sigma^{2}_{2}$\n",
    "\n",
    "### We'll show this for two standard normal distributions: If $X$ and $Y$ are independent random variables with standard normal density, then\n",
    "\n",
    "# $f_{X}(x) = f_{Y}(y) = \\frac{1}{\\sqrt{2\\pi}}e^{-\\frac{x^{2}}{2}}$\n",
    "\n",
    "### So if $Z=X+Y$ then\n",
    "\n",
    "# $f_{Z}(z) = \\int_{-\\infty}^{\\infty}\\frac{1}{2\\pi}e^{-\\frac{(z-y)^{2}}{2}}e^{-\\frac{y^{2}}{2}}dy = ... = \\frac{1}{\\sqrt{4\\pi}}e^{\\frac{-z^{2}}{4}}$"
   ]
  },
  {
   "cell_type": "markdown",
   "metadata": {},
   "source": [
    "_______\n",
    "\n",
    "# *Chi-Squared Density*\n",
    "\n",
    "## The sum of the squares of $n$ independent standard normally distributed random variables has a gamma density with $\\lambda = \\frac{1}{2}$ and $\\beta = \\frac{n}{2}$\n",
    "\n",
    "## This special density is called the *Chi-Squared density*\n",
    "\n",
    "### An important use for the chi-squared density is to test experimental data against theoretical values\n",
    "\n",
    "#### This tells us whether the data supports the theoretical model\n",
    "\n",
    "## Let $X$ be the random variable which represents a theoretical outcome in the model of the experiment, and let $m(x)$ be the distribution function of $X$\n",
    "\n",
    "## We then calculate the expression $V = \\sum_{x}\\frac{(o_{x} - n\\cdot m(x))^{2}}{n\\cdot m(x)}$ where each $x$ is a possible outcome, $n$ is the total number of possible outcomes, and $O_{x}$ is the number of outcomes of type $x$ observed in the data\n",
    "\n",
    "## For moderate to large values of $n$, we say that $V$ is approximately chi-squared distributed"
   ]
  },
  {
   "cell_type": "markdown",
   "metadata": {},
   "source": [
    "___\n",
    "\n",
    "## Example\n",
    "\n",
    "### Suppose we're given a single die\n",
    "\n",
    "### We want to test whether the die is fair\n",
    "\n",
    "### So our theoretical density is the discrete uniform density on [1,6]. If we roll the die $n$ times, we'd expect to get around $\\frac{n}{6}$ of each side\n",
    "\n",
    "### Then, $o_{1}$ denotes the number of observed rolls that got a 1, $o_{2}$ the number of observed rolls for 2, ...\n",
    "\n",
    "# $V = \\sum_{x}\\frac{(o_{x} - n\\cdot \\frac{1}{6})^{2}}{n\\cdot \\frac{1}{6}} = \\frac{(o_{1} - \\frac{n}{6})^{2}}{\\frac{n}{6}} + ... + \\frac{(o_{6} - \\frac{n}{6})^{2}}{\\frac{n}{6}}$\n",
    "\n",
    "### Since there are 6 possible faces, if we know $o_{1}, o_{2}, ..., o_{5}$ then we automatically know $o_{6}$ since it's just $n - (o_{1}+o_{2}+ ...+o_{5})$\n",
    "\n",
    "- In other words, the only values that can vary are $o_{1}, o_{2}, ..., o_{5}$\n",
    "\n",
    "### Therefore there are *5 degrees of freedom*\n",
    "\n",
    "### Now, suppose we roll the die 60 times ($\\implies n = 60$) with outcomes described below:\n",
    "\n",
    "![](images/table7-1.PNG)"
   ]
  },
  {
   "cell_type": "markdown",
   "metadata": {},
   "source": [
    "### Then, we calculate the value of $V$:"
   ]
  },
  {
   "cell_type": "code",
   "execution_count": 13,
   "metadata": {
    "collapsed": true
   },
   "outputs": [],
   "source": [
    "val = 60/6\n",
    "V = 0\n",
    "\n",
    "for oi in [15,8,7,5,7,18]:\n",
    "    Vi = ((oi-val)**2)/float(val)\n",
    "    V += Vi"
   ]
  },
  {
   "cell_type": "code",
   "execution_count": 16,
   "metadata": {
    "collapsed": false
   },
   "outputs": [
    {
     "data": {
      "text/plain": [
       "13.600000000000001"
      ]
     },
     "execution_count": 16,
     "metadata": {},
     "output_type": "execute_result"
    }
   ],
   "source": [
    "V"
   ]
  },
  {
   "cell_type": "markdown",
   "metadata": {},
   "source": [
    "### We look at the plot of the chi-square distribution with 5 degrees of freedom to see how likely/unlikely it is that we would get a $V$ value of 13.6 for a *fair coin*\n",
    "\n",
    "![](images/chi2-distn.PNG)"
   ]
  },
  {
   "cell_type": "markdown",
   "metadata": {},
   "source": [
    "### As we can see, the vast majority of the distribution is to the left of 13.6 (i.e. the probability of that outcome for a fair die is pretty unlikely)"
   ]
  },
  {
   "cell_type": "markdown",
   "metadata": {},
   "source": [
    "_______\n",
    "\n",
    "# *Independent Trials*\n",
    "\n",
    "### Consider $n$ independent random variables all with the same density function\n",
    "\n",
    "### If $S_{n} = X_{1}+X_{2}+...X_{n}$ then $f_{S_{n}} = (f_{1}*f_{2}*...*f_{n})(x)$\n",
    "\n",
    "- **Note**: this is a huge pain in the ass to calculate for large $n$"
   ]
  },
  {
   "cell_type": "markdown",
   "metadata": {},
   "source": [
    "___\n",
    "\n",
    "## Example\n",
    "\n",
    "### Suppose $X_{1}, X_{2},...,X_{n}$ are uniformly distributed on $[0,1]$\n",
    "\n",
    "### Then \n",
    "\n",
    "# $f_{S_{n}} = \\frac{1}{(n-1)!}\\sum_{0\\leq j \\leq x}(-1)^{j}\\binom{n}{j}(x-j)^{n-1}$ for $0<x<n$"
   ]
  }
 ],
 "metadata": {
  "kernelspec": {
   "display_name": "Python 2",
   "language": "python",
   "name": "python2"
  },
  "language_info": {
   "codemirror_mode": {
    "name": "ipython",
    "version": 2
   },
   "file_extension": ".py",
   "mimetype": "text/x-python",
   "name": "python",
   "nbconvert_exporter": "python",
   "pygments_lexer": "ipython2",
   "version": "2.7.11"
  }
 },
 "nbformat": 4,
 "nbformat_minor": 0
}
