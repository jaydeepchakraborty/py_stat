{
 "cells": [
  {
   "cell_type": "markdown",
   "metadata": {},
   "source": [
    "# A company buys 100 lightbulbs, each of which has an exponential lifetime of 1000 hours\n",
    "\n",
    "# What is the expected time until the first lightbulb burns out?"
   ]
  },
  {
   "cell_type": "markdown",
   "metadata": {},
   "source": [
    "_______\n",
    "\n",
    "# Using the solution to [Exercise 10](10-Solution.ipynb), we know\n",
    "\n",
    "# $P(M\\leq m) = 1 - e^{-\\frac{nm}{\\mu}}$\n",
    "\n",
    "# For this problem, $n=100$ and $\\mu = 1000$\n",
    "\n",
    "# $\\implies E(M) = \\int_{0}^{\\infty}x \\frac{n}{\\mu}e^{-\\frac{nx}{\\mu}}dx = -\\frac{e^{\\frac{n}{\\mu} x}(\\frac{n}{\\mu}x+1)}{\\frac{n}{\\mu}}|^{\\infty}_{0} = \\frac{\\mu}{n} = 10$"
   ]
  }
 ],
 "metadata": {
  "kernelspec": {
   "display_name": "Python 2",
   "language": "python",
   "name": "python2"
  },
  "language_info": {
   "codemirror_mode": {
    "name": "ipython",
    "version": 2
   },
   "file_extension": ".py",
   "mimetype": "text/x-python",
   "name": "python",
   "nbconvert_exporter": "python",
   "pygments_lexer": "ipython2",
   "version": "2.7.11"
  }
 },
 "nbformat": 4,
 "nbformat_minor": 0
}
