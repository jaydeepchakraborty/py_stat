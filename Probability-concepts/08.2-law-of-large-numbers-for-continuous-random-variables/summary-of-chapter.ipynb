{
 "cells": [
  {
   "cell_type": "markdown",
   "metadata": {},
   "source": [
    "# *Chebyshev Inequality*\n",
    "\n",
    "# Theorem 8.3\n",
    "\n",
    "### Let $X$ be a continuous random variable with density function $f(x)$\n",
    "\n",
    "### Suppose $X$ has a finite expected value $\\mu = E(X)$ and finite variance $\\sigma^{2} = V(X)$\n",
    "\n",
    "### Then, for any positive number $\\epsilon > 0$ we have\n",
    "\n",
    "# $P(\\left | X - \\mu \\right |\\geq \\epsilon) \\leq \\frac{\\sigma^{2}}{\\epsilon^{2}}$"
   ]
  },
  {
   "cell_type": "markdown",
   "metadata": {},
   "source": [
    "____\n",
    "\n",
    "## Example\n",
    "\n",
    "### Let $X$ be any continuous random variable with $E(X) = \\mu$ and let $V(X) = \\sigma^{2}$\n",
    "\n",
    "### Then, if $\\epsilon = k\\sigma$, then $P(\\left | X - \\mu \\right |\\geq \\epsilon) \\leq \\frac{\\sigma^{2}}{(k\\sigma)^{2}} = \\frac{1}{k^{2}}$"
   ]
  },
  {
   "cell_type": "markdown",
   "metadata": {},
   "source": [
    "____\n",
    "\n",
    "# *Law of Large Numbers*\n",
    "\n",
    "# Theorem 8.4\n",
    "\n",
    "### Let $X_{1}$, $X_{2}$, ..., $X_{n}$ be an independent trials process with a continuous density function $f$, finite expected value $\\mu$, and finite variance $\\sigma^{2}$\n",
    "\n",
    "### Let $S_{n} = X_{1}+X_{2}+...+X_{n}$\n",
    "\n",
    "### Then, for any real $\\epsilon > 0$\n",
    "\n",
    "# $\\lim_{n\\rightarrow \\infty} P\\left ( \\left | \\frac{S_{n}}{n} - \\mu \\right | \\geq \\epsilon \\right ) = 0$"
   ]
  },
  {
   "cell_type": "markdown",
   "metadata": {},
   "source": [
    "_____\n",
    "\n",
    "# *Uniform Case*\n",
    "\n",
    "## Example\n",
    "\n",
    "### Suppose we choose at random $n$ numbers from the interval $[0,1]$ with uniform distribution\n",
    "\n",
    "### Then $E(X_{i}) = \\frac{1}{2}$ and $V(X_{i}) = \\frac{1}{12}$\n",
    "\n",
    "### This means $E(\\frac{S_{n}}{n}) = \\frac{1}{n}(n \\frac{1}{2}) = \\frac{1}{2}$ and $V(\\frac{S_{n}}{n}) = \\frac{1}{n^{2}}n\\frac{1}{12} = \\frac{1}{12n}$\n",
    "\n",
    "### Therefore, for any $\\epsilon > 0$, $P\\left ( \\left |\\frac{S_{n}}{n} - \\frac{1}{2} \\right | \\geq \\epsilon \\right ) \\leq \\frac{1}{12n\\epsilon^{2}}$"
   ]
  },
  {
   "cell_type": "markdown",
   "metadata": {},
   "source": [
    "___\n",
    "\n",
    "# *Normal Case*\n",
    "\n",
    "## Example\n",
    "\n",
    "### Suppose we choose $n$ real numbers at random, using a standard normal distribution\n",
    "\n",
    "### Then $E\\left ( \\frac{S_{n}}{n} \\right ) = 0$ and $V \\left (\\frac{S_{n}}{n} \\right ) = \\frac{1}{n}$\n",
    "\n",
    "### So for any $\\epsilon > 0$ we know $P\\left ( \\left |\\frac{S_{n}}{n} \\right | \\right ) \\leq \\frac{1}{n\\epsilon^{2}}$"
   ]
  }
 ],
 "metadata": {
  "kernelspec": {
   "display_name": "Python 3",
   "language": "python",
   "name": "python3"
  },
  "language_info": {
   "codemirror_mode": {
    "name": "ipython",
    "version": 3
   },
   "file_extension": ".py",
   "mimetype": "text/x-python",
   "name": "python",
   "nbconvert_exporter": "python",
   "pygments_lexer": "ipython3",
   "version": "3.6.4"
  }
 },
 "nbformat": 4,
 "nbformat_minor": 1
}
