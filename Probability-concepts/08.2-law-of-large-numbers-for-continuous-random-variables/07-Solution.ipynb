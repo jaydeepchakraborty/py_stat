{
 "cells": [
  {
   "cell_type": "markdown",
   "metadata": {},
   "source": [
    "# If $X$ is a random variable with mean $\\mu\\neq0$ and variance $\\sigma^{2}$, define the *relative deviation* $D$ of $X$ form its mean by\n",
    "\n",
    "# $D = \\left |\\frac{X-\\mu}{\\mu} \\right |$\n",
    "\n",
    "## a) Show that $P(D\\geq a) \\leq \\frac{\\sigma^{2}}{\\mu^{2}a^{2}}$\n",
    "\n",
    "## b) If $X$ is the random variable from [Exercise 1](01-Solution.ipynb), find an upper bound for:\n",
    "\n",
    "### i) $P(D\\geq0.2)$\n",
    "\n",
    "### ii) $P(D\\geq0.5)$\n",
    "\n",
    "### iii) $P(D\\geq0.9)$\n",
    "\n",
    "### iv) $P(D\\geq2)$"
   ]
  },
  {
   "cell_type": "markdown",
   "metadata": {},
   "source": [
    "_____\n",
    "\n",
    "# a)\n",
    "\n",
    "# We know, from Chebyshev's theorem, $P(|X-\\mu|\\geq a) \\leq \\frac{\\sigma^{2}}{a^{2}}$\n",
    "\n",
    "# We also know $\\left |\\frac{X-\\mu}{\\mu} \\right | = \\frac{1}{|\\mu|}\\left |X-\\mu\\right |$\n",
    "\n",
    "# $\\implies P(D\\geq a) = P(\\left |X-\\mu\\right |\\geq a|\\mu|) \\leq \\frac{\\sigma^{2}}{(|\\mu|)^{2}a^{2}} = \\frac{\\sigma^{2}}{\\mu^{2}a^{2}}$"
   ]
  },
  {
   "cell_type": "markdown",
   "metadata": {},
   "source": [
    "_____\n",
    "\n",
    "# b) \n",
    "\n",
    "# From Exercise 1:\n",
    "\n",
    "### *Let $X$ be a continuous random variable with mean $\\mu = 10$ and variance $\\sigma^{2} = \\frac{100}{3}$*\n",
    "\n",
    "## i)\n",
    "\n",
    "## $P(D\\geq0.2) = \\frac{100}{3\\cdot10^{2}\\cdot0.2^{2}} = \\frac{25}{3} \\implies$ upper bound is 1\n",
    "\n",
    "## ii)\n",
    "\n",
    "## $P(D\\geq0.5) = \\frac{100}{3\\cdot10^{2}\\cdot0.5^{2}} = \\frac{4}{3} \\implies$ upper bound is 1\n",
    "\n",
    "## iii)\n",
    "\n",
    "## $P(D\\geq0.9) = \\frac{100}{3\\cdot10^{2}\\cdot0.9^{2}} = \\frac{100}{243}$\n",
    "\n",
    "## iv)\n",
    "\n",
    "## $P(D\\geq2) = \\frac{100}{3\\cdot10^{2}\\cdot2^{2}} = \\frac{1}{12}$"
   ]
  }
 ],
 "metadata": {
  "kernelspec": {
   "display_name": "Python 3",
   "language": "python",
   "name": "python3"
  },
  "language_info": {
   "codemirror_mode": {
    "name": "ipython",
    "version": 3
   },
   "file_extension": ".py",
   "mimetype": "text/x-python",
   "name": "python",
   "nbconvert_exporter": "python",
   "pygments_lexer": "ipython3",
   "version": "3.6.4"
  }
 },
 "nbformat": 4,
 "nbformat_minor": 2
}
