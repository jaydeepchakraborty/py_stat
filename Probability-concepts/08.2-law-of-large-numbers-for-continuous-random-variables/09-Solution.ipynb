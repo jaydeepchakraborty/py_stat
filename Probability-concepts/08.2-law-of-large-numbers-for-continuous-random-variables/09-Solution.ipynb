{
 "cells": [
  {
   "cell_type": "markdown",
   "metadata": {},
   "source": [
    "# a) Suppose a number $X$ is chosen at random from $[0,20]$ with uniform probability. Find a lower bound for the probability that $X$ lies between 8 and 12, using Chebyshev's Inequality\n",
    "\n",
    "# b) Now suppose 20 real numbers are chosen independently from $[0,20]$ with uniform probability. Find a lower bound for the probability that their average lies between 8 and 12\n",
    "\n",
    "# c) Now suppose 100 real numbers are chosen independently from $[0,20]$. Find a lower bound for the probability that their average lies between 8 and 12"
   ]
  },
  {
   "cell_type": "markdown",
   "metadata": {},
   "source": [
    "_____\n",
    "\n",
    "# a)\n",
    "\n",
    "## We know $\\mu = 10 \\implies P(8\\leq X \\leq 12) = P(|X-\\mu|\\leq 2) = 1 - P(|X-\\mu|\\geq2)$\n",
    "\n",
    "## $\\geq 1 - \\frac{\\sigma^{2}}{2^{2}} = 1 - \\frac{100}{12} \\implies$ lower bound is 0"
   ]
  },
  {
   "cell_type": "markdown",
   "metadata": {},
   "source": [
    "______\n",
    "\n",
    "# b)\n",
    "\n",
    "# From the Law of Large Numbers, $P\\left ( \\left |\\frac{S_{n}}{n} -\\mu \\right | \\geq \\epsilon \\right ) \\leq \\frac{\\sigma^{2}}{n\\epsilon^{2}}$\n",
    "\n",
    "# $\\implies P\\left ( \\left |\\frac{S_{20}}{20} -10 \\right | \\geq 2 \\right ) \\leq \\frac{100}{3\\cdot 20 \\cdot2^{2}} = \\frac{5}{12}$\n",
    "\n",
    "# Therefore the lower bound is $1-\\frac{5}{12} = \\frac{7}{12}$"
   ]
  },
  {
   "cell_type": "markdown",
   "metadata": {},
   "source": [
    "_____\n",
    "\n",
    "# c)\n",
    "\n",
    "# $\\implies P\\left ( \\left |\\frac{S_{100}}{100} -10 \\right | \\geq 2 \\right ) = \\frac{100}{3\\cdot100\\cdot2^{2}} = \\frac{1}{12}$ \n",
    "\n",
    "# Therefore the lower bound is $\\frac{11}{12}$"
   ]
  }
 ],
 "metadata": {
  "kernelspec": {
   "display_name": "Python 3",
   "language": "python",
   "name": "python3"
  },
  "language_info": {
   "codemirror_mode": {
    "name": "ipython",
    "version": 3
   },
   "file_extension": ".py",
   "mimetype": "text/x-python",
   "name": "python",
   "nbconvert_exporter": "python",
   "pygments_lexer": "ipython3",
   "version": "3.6.4"
  }
 },
 "nbformat": 4,
 "nbformat_minor": 2
}
