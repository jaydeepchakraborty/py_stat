{
 "cells": [
  {
   "cell_type": "markdown",
   "metadata": {},
   "source": [
    "# Let $X$ be a continuous random variable with values exponentially distributed over $[0, \\infty]$ with $\\lambda = 0.1$\n",
    "\n",
    "## a) Find the mean and variance of $X$\n",
    "\n",
    "## b) Using Chebyshev's Inequality, find an upper bound for the following probabilities:\n",
    "\n",
    "### i) $P\\left ( \\left |X-10 \\right |\\geq 2 \\right )$\n",
    "\n",
    "### ii) $P\\left ( \\left |X-10 \\right |\\geq 5 \\right )$\n",
    "\n",
    "### iii) $P\\left ( \\left |X-10 \\right |\\geq 9 \\right )$\n",
    "\n",
    "### iv) $P\\left ( \\left |X-10 \\right |\\geq 20 \\right )$\n",
    "\n",
    "## c) Calculate these probabilities exactly"
   ]
  },
  {
   "cell_type": "markdown",
   "metadata": {},
   "source": [
    "______\n",
    "\n",
    "# a)\n",
    "\n",
    "# We know that for an exponentially distributed rv $E(X) = \\frac{1}{\\lambda}$\n",
    "\n",
    "## We can show this: $E(X) = \\int_{0}^{\\infty}t\\lambda e^{-\\lambda t}dt = \\frac{e^{-\\lambda t}(\\lambda t + 1)}{\\lambda}|_{0}^{\\infty} = \\frac{1}{\\lambda} = 10$\n",
    "\n",
    "# $E(X^{2}) = \\int_{0}^{\\infty}t^{2}\\lambda e^{-\\lambda t}dt = -\\frac{e^{-\\lambda t}(\\lambda^{2}t^{2}+ 2\\lambda t +2)}{\\lambda^{2}}|^{\\infty}_{0} = \\frac{2}{\\lambda^{2}}$\n",
    "\n",
    "# $\\implies V(X) = \\frac{2}{\\lambda^{2}} - \\frac{1}{\\lambda^{2}} = \\frac{1}{\\lambda^{2}} = 100$"
   ]
  },
  {
   "cell_type": "markdown",
   "metadata": {},
   "source": [
    "____\n",
    "\n",
    "# b)\n",
    "\n",
    "## i)\n",
    "\n",
    "# $P\\left ( \\left |X-10 \\right |\\geq 2 \\right ) \\leq \\frac{V(X)}{2^{2}} = \\frac{100}{4} = 25 \\implies$ upper bound = 1\n",
    "\n",
    "## ii)\n",
    "\n",
    "# $P\\left ( \\left |X-10 \\right |\\geq 5 \\right ) \\leq \\frac{100}{25} = 4 \\implies$ upper bound = 1\n",
    "\n",
    "## iii)\n",
    "\n",
    "# $P\\left ( \\left |X-10 \\right |\\geq 9 \\right ) \\leq \\frac{100}{81} = 1.23 \\implies$ upper bound = 1\n",
    "\n",
    "## iv)\n",
    "\n",
    "# $P\\left ( \\left |X-10 \\right |\\geq 20 \\right ) \\leq \\frac{100}{400} = 0.25 \\implies$ upper bound = 0.25"
   ]
  },
  {
   "cell_type": "markdown",
   "metadata": {},
   "source": [
    "______\n",
    "\n",
    "# c)\n",
    "\n",
    "# We know that for an exponentially distributed random variable\n",
    "\n",
    "# $P(X\\leq x) = 1 - e^{-\\lambda x}$\n",
    "\n",
    "# So\n",
    "\n",
    "## i) $P\\left ( \\left |X-10 \\right |\\geq 2 \\right ) = P(X\\leq 8) + (1-P(X \\leq 12)) = 1 - e^{-0.1(8)} + e^{-0.1(12)} = 0.852$\n",
    "\n",
    "## ii) $P\\left ( \\left |X-10 \\right |\\geq 5 \\right ) = 1 - e^{-0.1(5)} + e^{-0.1(15)} = 0.617$\n",
    "\n",
    "## iii) $P\\left ( \\left |X-10 \\right |\\geq 9 \\right ) = 1 - e^{-0.1(1)} + e^{-0.1(19)} = 0.245$\n",
    "\n",
    "## iv) $P\\left ( \\left |X-10 \\right |\\geq 20 \\right ) = 1 - e^{-0.1(0)} + e^{-0.1(30)} = 0.0498$"
   ]
  }
 ],
 "metadata": {
  "kernelspec": {
   "display_name": "Python 2",
   "language": "python",
   "name": "python2"
  },
  "language_info": {
   "codemirror_mode": {
    "name": "ipython",
    "version": 2
   },
   "file_extension": ".py",
   "mimetype": "text/x-python",
   "name": "python",
   "nbconvert_exporter": "python",
   "pygments_lexer": "ipython2",
   "version": "2.7.11"
  }
 },
 "nbformat": 4,
 "nbformat_minor": 0
}
