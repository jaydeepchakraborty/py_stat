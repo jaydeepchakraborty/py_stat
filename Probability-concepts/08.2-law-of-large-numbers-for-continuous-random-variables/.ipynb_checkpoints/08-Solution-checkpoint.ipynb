{
 "cells": [
  {
   "cell_type": "markdown",
   "metadata": {},
   "source": [
    "# Let $X$ be a continuous random variable and define the *standardized version* $X^{*}$ of $X$ by:\n",
    "\n",
    "# $X^{*} = \\frac{X-\\mu}{\\sigma}$\n",
    "\n",
    "## a) Show that $P(|X^{*}|\\geq a)\\leq\\frac{1}{a^{2}}$\n",
    "\n",
    "## b) If $X$ is the random variable from [Exercise 1](01-Solution.ipynb), find bounds for:\n",
    "\n",
    "### i) $P(|X^{*}|\\geq 2)$\n",
    "\n",
    "### ii) $P(|X^{*}|\\geq 5)$\n",
    "\n",
    "### iii) $P(|X^{*}|\\geq 9)$"
   ]
  },
  {
   "cell_type": "markdown",
   "metadata": {},
   "source": [
    "______\n",
    "\n",
    "# a)\n",
    "\n",
    "# We know that $P(|X-\\mu|\\geq k\\sigma) = \\frac{1}{k^{2}}$ and $P(|X-\\mu|\\geq k\\sigma) = P\\left(\\frac{|X-\\mu|}{\\sigma}\\geq k\\right)$"
   ]
  },
  {
   "cell_type": "markdown",
   "metadata": {},
   "source": [
    "_____\n",
    "\n",
    "# b)\n",
    "\n",
    "# From Exercise 1:\n",
    "\n",
    "### *Let $X$ be a continuous random variable with mean $\\mu = 10$ and variance $\\sigma^{2} = \\frac{100}{3}$*\n",
    "\n",
    "## i) $P(|X^{*}|\\geq 2) \\leq \\frac{1}{2^{2}} = \\frac{1}{4}$\n",
    "\n",
    "## ii) $P(|X^{*}|\\geq 5) \\leq \\frac{1}{25}$\n",
    "\n",
    "## ii) $P(|X^{*}|\\geq 9) \\leq \\frac{1}{81}$"
   ]
  }
 ],
 "metadata": {
  "kernelspec": {
   "display_name": "Python 3",
   "language": "python",
   "name": "python3"
  },
  "language_info": {
   "codemirror_mode": {
    "name": "ipython",
    "version": 3
   },
   "file_extension": ".py",
   "mimetype": "text/x-python",
   "name": "python",
   "nbconvert_exporter": "python",
   "pygments_lexer": "ipython3",
   "version": "3.6.4"
  }
 },
 "nbformat": 4,
 "nbformat_minor": 2
}
