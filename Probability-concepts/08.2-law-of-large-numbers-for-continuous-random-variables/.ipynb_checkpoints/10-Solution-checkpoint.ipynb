{
 "cells": [
  {
   "cell_type": "markdown",
   "metadata": {},
   "source": [
    "# A student's score on a particular calculus final is a random variable uniform on $[0,100]$ with $\\mu=70$ and $\\sigma^{2} = 25$\n",
    "\n",
    "### a) Find a lower bound for the probability that the student's score will fall between 65 and 75\n",
    "\n",
    "### b) If 100 students take the final, find a lower bound for the probability that the class average will fall between 65 and 75"
   ]
  },
  {
   "cell_type": "markdown",
   "metadata": {},
   "source": [
    "___\n",
    "\n",
    "# a)\n",
    "\n",
    "# $P(|X-\\mu|\\geq \\epsilon) = \\frac{\\sigma^{2}}{\\epsilon^{2}} \\implies P(|X-70|\\geq 5) \\frac{25}{5^{2}} = 1$\n",
    "\n",
    "# So the lower bound is $1-1 = 0$"
   ]
  },
  {
   "cell_type": "markdown",
   "metadata": {},
   "source": [
    "_____\n",
    "\n",
    "# b)\n",
    "\n",
    "# $P(\\left | \\frac{S_{n}}{n} - \\mu \\right |\\geq \\epsilon) \\leq \\frac{\\sigma^{2}}{n\\epsilon^{2}}$\n",
    "\n",
    "# $\\implies P\\left(\\left | \\frac{S_{100}}{100} - 70 \\right |\\geq 5\\right) \\leq \\frac{25}{100\\cdot5^{2}} = \\frac{1}{100}$\n",
    "\n",
    "# So the lower bound is $1-\\frac{1}{100} = \\frac{99}{100}$"
   ]
  }
 ],
 "metadata": {
  "kernelspec": {
   "display_name": "Python 3",
   "language": "python",
   "name": "python3"
  },
  "language_info": {
   "codemirror_mode": {
    "name": "ipython",
    "version": 3
   },
   "file_extension": ".py",
   "mimetype": "text/x-python",
   "name": "python",
   "nbconvert_exporter": "python",
   "pygments_lexer": "ipython3",
   "version": "3.6.4"
  }
 },
 "nbformat": 4,
 "nbformat_minor": 2
}
