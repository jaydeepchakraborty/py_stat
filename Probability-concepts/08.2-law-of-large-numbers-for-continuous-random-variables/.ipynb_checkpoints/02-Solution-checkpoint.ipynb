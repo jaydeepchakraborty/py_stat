{
 "cells": [
  {
   "cell_type": "markdown",
   "metadata": {},
   "source": [
    "# Let $X$ be a continuous random variable with values uniformly distributed over the interval $[0,20]$\n",
    "\n",
    "## a) Find the mean and variance of $X$\n",
    "\n",
    "## b) Calculate:\n",
    "\n",
    "### i) $P\\left(\\left |X-10 \\right |\\geq 2\\right)$\n",
    "\n",
    "### ii) $P\\left(\\left |X-10 \\right |\\geq 5\\right)$\n",
    "\n",
    "### iii) $P\\left(\\left |X-10 \\right |\\geq 9\\right)$\n",
    "\n",
    "### iv) $P\\left(\\left |X-10 \\right |\\geq 20\\right)$\n",
    "\n",
    "## c) How do the answers to b) compare to the values in [Exercise 1](01-Solution.ipynb)? How good of an approximation is Chebyshev's theorem?"
   ]
  },
  {
   "cell_type": "markdown",
   "metadata": {},
   "source": [
    "_____\n",
    "\n",
    "# a)\n",
    "\n",
    "# We know for a general uniform distribution on $[a,b]$, $P(X<x) = \\frac{x-a}{b-a}$ so for our distribution on $[0,20]$, $F(X) = \\frac{x}{20} \\implies f(x) = \\frac{1}{20}$\n",
    "\n",
    "# $E(X) = \\int_{0}^{20}x\\cdot\\frac{1}{20}dx = \\frac{1}{20}\\frac{20^{2}}{2} = 10$\n",
    "\n",
    "# $E(X^{2}) = \\int_{0}^{20}x^{2}\\cdot\\frac{1}{20}dx = \\frac{1}{20}\\frac{20^{3}}{3} = \\frac{400}{3}$\n",
    "\n",
    "# $V(X) = E(X^{2}) - \\left(E(X)\\right)^{2} = \\frac{400}{3} - \\frac{300}{3} = \\frac{100}{3}$"
   ]
  },
  {
   "cell_type": "markdown",
   "metadata": {},
   "source": [
    "____\n",
    "\n",
    "# b)\n",
    "\n",
    "## i)\n",
    "\n",
    "# $P\\left(\\left |X-10 \\right |\\geq 2\\right) = P(X\\leq8) + P(X\\geq12) = F(8) + (1-F(12))$\n",
    "\n",
    "# $ = \\frac{8}{20} + (1-\\frac{12}{20}) = \\frac{4}{5}$\n",
    "\n",
    "## ii)\n",
    "\n",
    "# $P\\left(\\left |X-10 \\right |\\geq 5\\right) = P(X\\leq 5) + P(X\\geq 15) = \\frac{1}{2}$\n",
    "\n",
    "## iii)\n",
    "\n",
    "# $P\\left(\\left |X-10 \\right |\\geq 9\\right) = P(X\\leq 1) + P(X\\geq 19) = \\frac{1}{10}$\n",
    "\n",
    "## iv)\n",
    "\n",
    "# $P\\left(\\left |X-10 \\right |\\geq 20\\right) = P(X\\leq 0) + P(X\\geq 20) = 0$"
   ]
  },
  {
   "cell_type": "markdown",
   "metadata": {},
   "source": [
    "____\n",
    "\n",
    "# c)\n",
    "\n",
    "## i) 0.8 vs 1\n",
    "\n",
    "## ii) 0.5 vs 1\n",
    "\n",
    "## iii) 0.1 vs 0.4115\n",
    "\n",
    "## iv) 0 vs 0.08333"
   ]
  }
 ],
 "metadata": {
  "kernelspec": {
   "display_name": "Python 2",
   "language": "python",
   "name": "python2"
  },
  "language_info": {
   "codemirror_mode": {
    "name": "ipython",
    "version": 2
   },
   "file_extension": ".py",
   "mimetype": "text/x-python",
   "name": "python",
   "nbconvert_exporter": "python",
   "pygments_lexer": "ipython2",
   "version": "2.7.11"
  }
 },
 "nbformat": 4,
 "nbformat_minor": 0
}
