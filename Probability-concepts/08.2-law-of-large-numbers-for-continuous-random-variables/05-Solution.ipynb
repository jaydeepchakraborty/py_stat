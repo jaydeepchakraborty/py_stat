{
 "cells": [
  {
   "cell_type": "markdown",
   "metadata": {},
   "source": [
    "# Let $X$ be a normally distributed random variable over $(-\\infty, \\infty)$ with mean $\\mu = 0$ and variance $\\sigma^{2} = 1$\n",
    "\n",
    "## a) Using Chebyshev's Inequality, find the upper bounds on:\n",
    "\n",
    "### i) $P\\left ( \\left | X \\right | \\geq 1 \\right )$\n",
    "\n",
    "### ii) $P\\left ( \\left | X \\right | \\geq 2 \\right )$\n",
    "\n",
    "### iii) $P\\left ( \\left | X \\right | \\geq 3 \\right )$\n",
    "\n",
    "## b) Use the (0.6827, 0.9545, 0.9973) rules of thumb to compare the probabilities in part a) to their true values"
   ]
  },
  {
   "cell_type": "markdown",
   "metadata": {},
   "source": [
    "_____\n",
    "\n",
    "# a)\n",
    "\n",
    "## i)\n",
    "\n",
    "# $P(|X|\\geq 1) \\leq \\frac{1}{1^{2}} = 1$\n",
    "\n",
    "## ii)\n",
    "\n",
    "# $P(|X|\\geq 1) \\leq \\frac{1}{2^{2}} = 0.25$\n",
    "\n",
    "## iii)\n",
    "\n",
    "# $P(|X|\\geq 1) \\leq \\frac{1}{3^{2}} = 0.111$"
   ]
  },
  {
   "cell_type": "markdown",
   "metadata": {},
   "source": [
    "_____\n",
    "\n",
    "# b)\n",
    "\n",
    "## i) 0.3173 vs. 1\n",
    "\n",
    "## ii) 0.0454 vs 0.25\n",
    "\n",
    "## iii) 0.0027 vs 0.111\n",
    "\n",
    "### Pretty bunk"
   ]
  }
 ],
 "metadata": {
  "kernelspec": {
   "display_name": "Python 2",
   "language": "python",
   "name": "python2"
  },
  "language_info": {
   "codemirror_mode": {
    "name": "ipython",
    "version": 2
   },
   "file_extension": ".py",
   "mimetype": "text/x-python",
   "name": "python",
   "nbconvert_exporter": "python",
   "pygments_lexer": "ipython2",
   "version": "2.7.11"
  }
 },
 "nbformat": 4,
 "nbformat_minor": 0
}
