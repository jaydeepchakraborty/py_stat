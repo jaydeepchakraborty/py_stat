{
 "cells": [
  {
   "cell_type": "markdown",
   "metadata": {},
   "source": [
    "# If $X$ is normally distributed with mean $\\mu$ and variance $\\sigma^{2}$, find an upper bound for the following probabilities using Chebyshev's Inequality:\n",
    "\n",
    "## a) $P(|X-\\mu|\\geq\\sigma)$\n",
    "\n",
    "## b) $P(|X-\\mu|\\geq2\\sigma)$\n",
    "\n",
    "## c) $P(|X-\\mu|\\geq3\\sigma)$\n",
    "\n",
    "## d) $P(|X-\\mu|\\geq3\\sigma)$\n",
    "\n",
    "# Now find the exact value and compare"
   ]
  },
  {
   "cell_type": "markdown",
   "metadata": {},
   "source": [
    "___\n",
    "\n",
    "# a)\n",
    "\n",
    "# $P(|X-\\mu|\\geq\\sigma) \\leq \\frac{1}{1^{2}} = 1$"
   ]
  },
  {
   "cell_type": "markdown",
   "metadata": {},
   "source": [
    "___\n",
    "\n",
    "# b)\n",
    "\n",
    "# $P(|X-\\mu|\\geq2\\sigma) \\leq \\frac{1}{2^{2}} = 0.25$"
   ]
  },
  {
   "cell_type": "markdown",
   "metadata": {},
   "source": [
    "___\n",
    "\n",
    "# c)\n",
    "\n",
    "# $P(|X-\\mu|\\geq3\\sigma) \\leq \\frac{1}{3^{2}} = 0.111111$"
   ]
  },
  {
   "cell_type": "markdown",
   "metadata": {},
   "source": [
    "___\n",
    "\n",
    "# d)\n",
    "\n",
    "# $P(|X-\\mu|\\geq4\\sigma) \\leq \\frac{1}{4^{2}} = 0.0625$"
   ]
  },
  {
   "cell_type": "markdown",
   "metadata": {},
   "source": [
    "____\n",
    "\n",
    "# a) 1 vs. 0.6826\n",
    "\n",
    "# b) 0.25 vs. 0.0455\n",
    "\n",
    "# c) 0.1111 vs. 0.0027\n",
    "\n",
    "# d) 0.0625 vs. 0.0002"
   ]
  }
 ],
 "metadata": {
  "kernelspec": {
   "display_name": "Python 2",
   "language": "python",
   "name": "python2"
  },
  "language_info": {
   "codemirror_mode": {
    "name": "ipython",
    "version": 2
   },
   "file_extension": ".py",
   "mimetype": "text/x-python",
   "name": "python",
   "nbconvert_exporter": "python",
   "pygments_lexer": "ipython2",
   "version": "2.7.11"
  }
 },
 "nbformat": 4,
 "nbformat_minor": 0
}
