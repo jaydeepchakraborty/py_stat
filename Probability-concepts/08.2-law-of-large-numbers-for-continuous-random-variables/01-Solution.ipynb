{
 "cells": [
  {
   "cell_type": "markdown",
   "metadata": {},
   "source": [
    "# Let $X$ be a continuous random variable with mean $\\mu = 10$ and variance $\\sigma^{2} = \\frac{100}{3}$\n",
    "\n",
    "# Using Chebyshev's inequality, find an upper bound for the following probabilities:\n",
    "\n",
    "## a) $P\\left ( \\left |X-10 \\right |\\geq 2 \\right )$\n",
    "\n",
    "## b) $P\\left ( \\left |X-10 \\right |\\geq 5 \\right )$\n",
    "\n",
    "## c) $P\\left ( \\left |X-10 \\right |\\geq 9 \\right )$\n",
    "\n",
    "## d) $P\\left ( \\left |X-10 \\right |\\geq 20 \\right )$"
   ]
  },
  {
   "cell_type": "markdown",
   "metadata": {},
   "source": [
    "____\n",
    "\n",
    "# a)\n",
    "\n",
    "# $P\\left ( \\left |X-10 \\right |\\geq 2 \\right ) \\leq \\frac{\\frac{100}{3}}{2^{2}} = \\frac{100}{12} \\implies$ the upper bound is 1"
   ]
  },
  {
   "cell_type": "markdown",
   "metadata": {},
   "source": [
    "____\n",
    "\n",
    "# b)\n",
    "\n",
    "# $P\\left ( \\left |X-10 \\right |\\geq 5 \\right ) \\leq \\frac{100}{3\\cdot 5^{2}} = \\frac{4}{3} \\implies$ upper bound is 1"
   ]
  },
  {
   "cell_type": "markdown",
   "metadata": {},
   "source": [
    "___\n",
    "\n",
    "# c)\n",
    "\n",
    "# $P\\left ( \\left |X-10 \\right |\\geq 9 \\right ) \\leq \\frac{100}{3\\cdot 9^{2}} = 0.4115 \\implies$ upper bound is 0.4115"
   ]
  },
  {
   "cell_type": "markdown",
   "metadata": {},
   "source": [
    "____\n",
    "\n",
    "# d)\n",
    "\n",
    "# $P\\left ( \\left |X-10 \\right |\\geq 20 \\right ) \\leq \\frac{100}{3\\cdot 20^{2}} = 0.083333 \\implies$ upper bound is 0.08333"
   ]
  }
 ],
 "metadata": {
  "kernelspec": {
   "display_name": "Python 3",
   "language": "python",
   "name": "python3"
  },
  "language_info": {
   "codemirror_mode": {
    "name": "ipython",
    "version": 3
   },
   "file_extension": ".py",
   "mimetype": "text/x-python",
   "name": "python",
   "nbconvert_exporter": "python",
   "pygments_lexer": "ipython3",
   "version": "3.6.4"
  }
 },
 "nbformat": 4,
 "nbformat_minor": 1
}
