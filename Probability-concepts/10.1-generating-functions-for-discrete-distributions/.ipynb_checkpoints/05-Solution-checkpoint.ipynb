{
 "cells": [
  {
   "cell_type": "markdown",
   "metadata": {},
   "source": [
    "# Let $p_{X}$ and $p_{Y}$ be the two distributions:\n",
    "\n",
    "# $p_{X} = \\bigl(\\begin{smallmatrix}1 & 2 & 3 & 4 & 5\\\\ 1/3 & 0 & 0 & 2/3 & 0\\end{smallmatrix}\\bigr)$\n",
    "\n",
    "# $p_{Y} = \\bigl(\\begin{smallmatrix}1 & 2 & 3 & 4 & 5\\\\ 0 & 2/3 & 0 & 0 & 1/3\\end{smallmatrix}\\bigr)$\n",
    "\n",
    "## a) Show that $p_{X}$ and $p_{Y}$ have the same first and second moments, but not the same third and fourth moments\n",
    "\n",
    "## b) Find the ordinary and moment generating functions for $p_{X}$ and $p_{Y}$ "
   ]
  },
  {
   "cell_type": "markdown",
   "metadata": {},
   "source": [
    "_____\n",
    "\n",
    "# a)\n",
    "\n",
    "### For $p_{X}$: $\\mu_{1} = (1)(1/3) + (4)(2/3) = 3$ and $\\mu_{2} = (1^{2})(1/3) + (4^{2})(2/3) = 33/3 = 11$\n",
    "\n",
    "### For $p_{Y}$: $\\mu_{1} = (2)(2/3) + (5)1/3) = 3$ and $\\mu_{2} = (2^{2})(2/3) + (5^{2})(1/3) = 33/3= 11$\n",
    "\n",
    "# So the first and second agree\n",
    "\n",
    "### For $p_{X}$: $\\mu_{3} = (1^{3})(1/3) + (4^{3})(2/3) = 129/3 = 43$ and $\\mu_{4} = (1^{4})(1/3) + (4^{4})(2/3) = 513/3 = 171$\n",
    "\n",
    "### For $p_{Y}$: $\\mu_{3} = (2^{3})(2/3) + (5^{3})(1/3) = 141/3 = 47$ and $\\mu_{4} = (2^{4})(2/3) + (5^{4})(1/3) = 657/3 = 219$"
   ]
  },
  {
   "cell_type": "markdown",
   "metadata": {},
   "source": [
    "___\n",
    "\n",
    "# b)\n",
    "\n",
    "# $p_{X}$:\n",
    "\n",
    "# $h(z) = (1/3)z + (2/3)z^{4} = \\frac{z+2z^{4}}{3} \\implies g(t) = \\frac{e^{t} + 2e^{4t}}{3}$\n",
    "\n",
    "# $p_{Y}$:\n",
    "\n",
    "# $h(z) = (2/3)z^{2} + (1/3)z^{5} = \\frac{2z^{2}+z^{5}}{3} \\implies g(t) = \\frac{2e^{2t} + e^{5t}}{3}$"
   ]
  }
 ],
 "metadata": {
  "kernelspec": {
   "display_name": "Python 2",
   "language": "python",
   "name": "python2"
  },
  "language_info": {
   "codemirror_mode": {
    "name": "ipython",
    "version": 2
   },
   "file_extension": ".py",
   "mimetype": "text/x-python",
   "name": "python",
   "nbconvert_exporter": "python",
   "pygments_lexer": "ipython2",
   "version": "2.7.11"
  }
 },
 "nbformat": 4,
 "nbformat_minor": 0
}
