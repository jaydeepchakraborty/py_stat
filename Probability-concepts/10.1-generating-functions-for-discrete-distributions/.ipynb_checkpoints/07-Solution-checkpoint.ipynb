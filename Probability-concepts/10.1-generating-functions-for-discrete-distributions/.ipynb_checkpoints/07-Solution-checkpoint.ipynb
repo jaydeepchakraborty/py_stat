{
 "cells": [
  {
   "cell_type": "markdown",
   "metadata": {},
   "source": [
    "# Let $X$ be a discrete random variable with values in $\\{ 0, 1, 2, ..., n \\}$ and moment generating function $g(t)$\n",
    "\n",
    "# Find, in terms of $g(t)$, the generating functions for:\n",
    "\n",
    "## a) $-X$\n",
    "\n",
    "## b) $X+1$\n",
    "\n",
    "## c) $3X$\n",
    "\n",
    "## d) $aX+b$"
   ]
  },
  {
   "cell_type": "markdown",
   "metadata": {},
   "source": [
    "_______\n",
    "\n",
    "\n",
    "# We know that $Y = X + a \\implies g_{Y}(t) = e^{ta}g_{X}(t)$ and $Y = bX \\implies g_{X}(bt)$"
   ]
  },
  {
   "cell_type": "markdown",
   "metadata": {},
   "source": [
    "_____\n",
    "\n",
    "# a) \n",
    "\n",
    "# $g_{-X}(t) = g_{X}(-t)$"
   ]
  },
  {
   "cell_type": "markdown",
   "metadata": {},
   "source": [
    "_____\n",
    "\n",
    "# b)\n",
    "\n",
    "# $g_{X+1} = e^{t}g_{X}(t)$"
   ]
  },
  {
   "cell_type": "markdown",
   "metadata": {},
   "source": [
    "_____\n",
    "\n",
    "# c)\n",
    "\n",
    "# $g_{3X} = g_{X}(3t)$"
   ]
  },
  {
   "cell_type": "markdown",
   "metadata": {},
   "source": [
    "_____\n",
    "\n",
    "# d)\n",
    "\n",
    "# $g_{aX+b}(t) = e^{bt}g_{aX}(t) = e^{bt}g_{X}(at)$"
   ]
  }
 ],
 "metadata": {
  "kernelspec": {
   "display_name": "Python 2",
   "language": "python",
   "name": "python2"
  },
  "language_info": {
   "codemirror_mode": {
    "name": "ipython",
    "version": 2
   },
   "file_extension": ".py",
   "mimetype": "text/x-python",
   "name": "python",
   "nbconvert_exporter": "python",
   "pygments_lexer": "ipython2",
   "version": "2.7.11"
  }
 },
 "nbformat": 4,
 "nbformat_minor": 0
}
