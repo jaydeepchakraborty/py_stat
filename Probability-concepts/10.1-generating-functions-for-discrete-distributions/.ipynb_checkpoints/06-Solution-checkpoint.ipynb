{
 "cells": [
  {
   "cell_type": "markdown",
   "metadata": {},
   "source": [
    "# Let $p$ be the probability distribution\n",
    "\n",
    "# $p = \\bigl(\\begin{smallmatrix}0 & 1 & 2\\\\ 0 & 1/3 & 2/3\\end{smallmatrix}\\bigr)$\n",
    "\n",
    "# and let $p_{n} = p*p*...*p$ be the $n$-fold convolution of $p$ with itself\n",
    "\n",
    "## a) Find $p_{2}$ by direct calculation\n",
    "\n",
    "## b) Find $h(z)$ and $h_{2}(t)$ for $p$ and $p_{2}$ and verify that $h_{2}(z) = \\left ( h(z) \\right )^{2}$\n",
    "\n",
    "## c) Find $h_{n}(z)$ using $h(z)$\n",
    "\n",
    "## d) Find the first two moments, then the variance, of $p_{n}$ using $h_{n}(z)$. Verify that the mean of $p_{n}$ is equal to $n$ times the mean of $p$\n",
    "\n",
    "## e) Find the integers $j$ for which $p_{n}(j)>0$ from $h_{n}(z)$"
   ]
  },
  {
   "cell_type": "markdown",
   "metadata": {},
   "source": [
    "_____\n",
    "\n",
    "# a)\n",
    "\n",
    "# Recall: Definition of Convolution\n",
    "\n",
    "## Let $X$ and $Y$ be two independent integer-valued random variables with distribution functions $m_{1}(x)$ and $m_{2}(x)$ respectively\n",
    "\n",
    "## Then the convolution of $m_{1}$ and $m_{2}$ is the distribtion $m_{3} = m_{1}*m_{2}$ given by:\n",
    "\n",
    "# $m_{3}(j) = \\sum m_{1}(k)m_{2}(j-k)$"
   ]
  },
  {
   "cell_type": "markdown",
   "metadata": {},
   "source": [
    "# So in this case, we have $p_{2}(j) = \\sum p(k)p(j-k)$\n",
    "\n",
    "# $p_{2}(0) = 0$\n",
    "\n",
    "# $p_{2}(1) = p(0)p(1) + p(1)p(0) = 0$\n",
    "\n",
    "# $p_{2}(2) = 2p(0)p(2) + p(1)p(1) = 0 + \\frac{1}{3}\\frac{1}{3} = \\frac{1}{9}$\n",
    "\n",
    "# $p_{2}(3) = 2p(1)p(2) = 2\\frac{1}{3}\\frac{2}{3} = \\frac{4}{9}$\n",
    "\n",
    "# $p_{2}(4) = p(2)p(2) = \\frac{4}{9}$\n",
    "\n",
    "# $\\implies p_{2} = \\bigl(\\begin{smallmatrix}0 & 1 & 2 & 3 & 4\\\\ 0 & 0 & 1/9 & 4/9 & 4/9\\end{smallmatrix}\\bigr)$"
   ]
  },
  {
   "cell_type": "markdown",
   "metadata": {},
   "source": [
    "_____\n",
    "\n",
    "# b)\n",
    "\n",
    "# $h(z) = (0)z^{0} + (1/3)z^{1} + (2/3)z^{2} = \\frac{z + 2z^{2}}{3}$\n",
    "\n",
    "# $h_{2}(z) = (0)z^{0} + (0)z^{1} + (1/9)z^{2} + (4/9)z^{3} + (4/9)z^{4} = \\frac{z^{2} + 4z^{3} + 4z^{4}}{9}$"
   ]
  },
  {
   "cell_type": "markdown",
   "metadata": {},
   "source": [
    "# $\\left ( h(z) \\right )^{2} = \\left ( \\frac{z + 2z^{2}}{3} \\right )^{2} = \\frac{1}{9} \\left ( z^{2} + 4z^{3} + 4z^{4} \\right ) = h_{2}(z)$"
   ]
  },
  {
   "cell_type": "markdown",
   "metadata": {},
   "source": [
    "_____\n",
    "\n",
    "# c)\n",
    "\n",
    "# The binomial theorem says $(x+y)^{n} = \\sum_{k=0}^{n}\\binom{n}{x}x^{k}y^{n-k}$"
   ]
  },
  {
   "cell_type": "markdown",
   "metadata": {},
   "source": [
    "# For $h(z)$, $x=z$ and $y=2z^{2}$\n",
    "\n",
    "# $\\implies h_{n}(z) = \\sum_{k=0}^{n}\\binom{n}{k}z^{k}\\left (2z^{2} \\right )^{n-k}$"
   ]
  },
  {
   "cell_type": "markdown",
   "metadata": {},
   "source": [
    "_____\n",
    "\n",
    "# d)\n",
    "\n",
    "# $h_{n}(z) = \\left (h(z) \\right)^{n} = \\left ( \\frac{z+2z^{2}}{3} \\right )^{n}$"
   ]
  },
  {
   "cell_type": "markdown",
   "metadata": {},
   "source": [
    "# $\\implies h_{n}^{'}(z) = n\\left ( \\frac{z+2z^{2}}{3} \\right )^{n-1}\\left ( \\frac{1+4z}{3} \\right )$"
   ]
  },
  {
   "cell_type": "markdown",
   "metadata": {},
   "source": [
    "# $\\implies h_{n}^{'}(1) = n\\left ( \\frac{3}{3}\\right )^{n-1} (5/3) = \\frac{5n}{3} = \\mu_{1}$"
   ]
  },
  {
   "cell_type": "markdown",
   "metadata": {},
   "source": [
    "# Let $A = n\\left ( \\frac{z+2z^{2}}{3} \\right )^{n-1}$ and $B = \\left ( \\frac{1+4z}{3} \\right )$"
   ]
  },
  {
   "cell_type": "markdown",
   "metadata": {},
   "source": [
    "# Then $h^{''}(z) = A^{'}B + AB^{'}$\n",
    "\n",
    "# $A^{'} = n(n-1)\\left ( \\frac{z+2z^{2}}{3} \\right )^{n-2}\\left (\\frac{1+4z}{3} \\right )$\n",
    "\n",
    "# $B^{'} = \\frac{4}{3}$\n",
    "\n",
    "# $\\implies h^{''}(z) = n(n-1)\\left ( \\frac{z+2z^{2}}{3} \\right )^{n-2}\\left (\\frac{1+4z}{3} \\right )^{2}+ n\\left ( \\frac{z+2z^{2}}{3} \\right )^{n-1}\\frac{4}{3}$"
   ]
  },
  {
   "cell_type": "markdown",
   "metadata": {},
   "source": [
    "# $\\implies h^{''}(1) = n(n-1)(1)(5/3)^{2} + n(1)(4/3) =\\frac{25n(n-1)}{9} + \\frac{4n}{3} = \\frac{25n^{2}}{9} - \\frac{13n}{9}$"
   ]
  },
  {
   "cell_type": "markdown",
   "metadata": {},
   "source": [
    "# $h^{''}(1) = \\mu_{2} - \\mu_{1} \\implies \\mu_{2}=\\frac{25n^{2}}{9} - \\frac{13n}{9} + \\frac{5n}{3} = \\frac{25n^{2}}{9} + \\frac{2n}{9}$"
   ]
  },
  {
   "cell_type": "markdown",
   "metadata": {},
   "source": [
    "# $\\sigma^{2} = \\mu_{2} - \\mu_{1}^{2}  = \\frac{25n^{2}}{9} + \\frac{2n}{9} - \\left (\\frac{5n}{3} \\right )^{2} = \\frac{2n}{9}$"
   ]
  },
  {
   "cell_type": "markdown",
   "metadata": {},
   "source": [
    "# For $p$, $\\mu_{1} = (0)(0) + (1)(1/3) + (2)(2/3) = 5/3$\n",
    "\n",
    "# We just derived, for $p_{n}$, $\\mu_{1} = \\frac{5n}{3} \\implies$ mean of $p_{n}$ is $n$-times the mean of $p$"
   ]
  },
  {
   "cell_type": "markdown",
   "metadata": {},
   "source": [
    "____\n",
    "\n",
    "# d)\n",
    "\n",
    "# We saw that $h_{n}(z) = \\left (h(z) \\right )^{n} = \\left ( \\frac{z+2z^{2}}{3} \\right )^{n}$"
   ]
  },
  {
   "cell_type": "markdown",
   "metadata": {},
   "source": [
    "# If we expand this as $\\left ( \\frac{1}{3} \\right )^{n} \\left ( z^{n} + n(z)(2z^{2} +... \\right )$ we see right away that the lowest power of $z$ is $n$\n",
    "\n",
    "# Since for any distribution $p$, $h(z) = z^{0}p(0)+z^{1}p(1)+...$, this means that $p(i)=0$ for all $i<n$\n",
    "\n",
    "# Therefore the $j$ values that satisfy $p_{n}(j) > )$ are in $[n, 2n]$"
   ]
  }
 ],
 "metadata": {
  "kernelspec": {
   "display_name": "Python 2",
   "language": "python",
   "name": "python2"
  },
  "language_info": {
   "codemirror_mode": {
    "name": "ipython",
    "version": 2
   },
   "file_extension": ".py",
   "mimetype": "text/x-python",
   "name": "python",
   "nbconvert_exporter": "python",
   "pygments_lexer": "ipython2",
   "version": "2.7.11"
  }
 },
 "nbformat": 4,
 "nbformat_minor": 0
}
