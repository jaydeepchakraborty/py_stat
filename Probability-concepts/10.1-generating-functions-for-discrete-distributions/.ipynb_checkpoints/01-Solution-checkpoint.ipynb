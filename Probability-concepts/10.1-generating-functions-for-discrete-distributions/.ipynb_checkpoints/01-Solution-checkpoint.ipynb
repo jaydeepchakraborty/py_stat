{
 "cells": [
  {
   "cell_type": "markdown",
   "metadata": {},
   "source": [
    "# Find the generating functions, both ordinary $h(z)$ and moment $g(t)$, for the following discrete distributions:\n",
    "\n",
    "## a) The distribution describing a fair coin\n",
    "\n",
    "## b) The distribution describing a fair die\n",
    "\n",
    "## c) The distribution describing a die that always comes up 3\n",
    "\n",
    "## d) The uniform distribution on the set $\\{n, n+1, ..., n+k\\}$\n",
    "\n",
    "## e) The binomial distribution on the set $\\{n, n+1, ..., n+k\\}$\n",
    "\n",
    "## f) The geometric distribution on $\\{0,1,...\\}$ with $p(k) = \\left (\\frac{2}{3} \\right )^{k+1}$"
   ]
  },
  {
   "cell_type": "markdown",
   "metadata": {},
   "source": [
    "_______\n",
    "\n",
    "# A) $h(z)$\n",
    "\n",
    "\n",
    "## Recall:\n",
    "\n",
    "# $h(z) = \\sum z^{k}p(x)$"
   ]
  },
  {
   "cell_type": "markdown",
   "metadata": {},
   "source": [
    "___\n",
    "\n",
    "# a)\n",
    "\n",
    "# $p_{X} = \\bigl(\\begin{smallmatrix}0 & 1\\\\1/2 & 1/2\\end{smallmatrix}\\bigr)$\n",
    "\n",
    "# $\\implies h(z) = z^{0}(1/2) + z^{1}(1/2) = \\frac{z+1}{2}$"
   ]
  },
  {
   "cell_type": "markdown",
   "metadata": {},
   "source": [
    "_______\n",
    "\n",
    "# b)\n",
    "\n",
    "# $p_{X} = \\bigl(\\begin{smallmatrix}1 & 2 & 3 & 4 & 5 & 6\\\\ 1/6 & 1/6 & 1/6 & 1/6 & 1/6 & 1/6\\end{smallmatrix}\\bigr)$\n",
    "\n",
    "# $\\implies h(z) = \\frac{z + z^{2} + z^{3} + z^{4} + z^{5} + z^{6}}{6}$"
   ]
  },
  {
   "cell_type": "markdown",
   "metadata": {},
   "source": [
    "_____\n",
    "\n",
    "# c)\n",
    "\n",
    "# $p_{X} = \\bigl(\\begin{smallmatrix}1 & 2 & 3 & 4 & 5 & 6\\\\ 0 & 0 & 1 & 0 & 0 & 0\\end{smallmatrix}\\bigr)$\n",
    "\n",
    "# $\\implies h(z) = z^{3}$"
   ]
  },
  {
   "cell_type": "markdown",
   "metadata": {},
   "source": [
    "______\n",
    "\n",
    "# d)\n",
    "\n",
    "# $p_{X}(j) = \\frac{1}{k+1}$\n",
    "\n",
    "# $\\implies h(z) = \\frac{z^{n}\\sum{z^{j}}}{k+1}$"
   ]
  },
  {
   "cell_type": "markdown",
   "metadata": {},
   "source": [
    "______\n",
    "\n",
    "# e)\n",
    "\n",
    "# The set ${n, n+1, ..., n+k}$ has $k+1$ values\n",
    "\n",
    "# We can express each $j$ from the set as $j = n+i$ for some $i$ in $[0,1,2,...,k]$\n",
    "\n",
    "# Then $p_{X}(j) = p_{X}(n+i) = \\binom{k+1}{i}p^{i}(1-p)^{k+1-i}$\n",
    "\n",
    "# $\\implies h(z) = z^{n}\\sum z^{i}\\binom{k+1}{i}p^{i}(1-p)^{k+1-i} = z^{n}(pz+q)^{k}$"
   ]
  },
  {
   "cell_type": "markdown",
   "metadata": {},
   "source": [
    "_____\n",
    "\n",
    "# f)\n",
    "\n",
    "# $p_{X}(k) = \\left(\\frac{2}{3} \\right )^{k+1}$\n",
    "\n",
    "# $\\implies h(z) = z^{0}\\left(\\frac{2}{3} \\right ) + z^{1}\\left(\\frac{2}{3} \\right )^{2}+... = \\left(\\frac{2}{3} \\right )\\sum\\left(\\frac{2z}{3} \\right )^{i}$\n",
    "\n",
    "## Recall: the formula for the geometric series gives $\\sum_{0}^{n}ar^{k} = a\\left ( \\frac{1-r^{n+1}}{1-r} \\right )$\n",
    "\n",
    "# $\\implies h(z) = \\left(\\frac{2}{3} \\right )\\left ( \\frac{1 - 0}{1 - \\left(\\frac{2z}{3} \\right )} \\right ) = \\frac{2}{3} \\frac{3}{3-2z} = \\frac{2}{3-2z}$"
   ]
  },
  {
   "cell_type": "markdown",
   "metadata": {},
   "source": [
    "____\n",
    "\n",
    "_____\n",
    "\n",
    "# B)\n",
    "\n",
    "## Recall: $z = e^{t} \\implies$ we can just use $h(e^{t})$ to derive $g(t)$"
   ]
  },
  {
   "cell_type": "markdown",
   "metadata": {},
   "source": [
    "____\n",
    "\n",
    "# a)\n",
    "\n",
    "# $h(z) = z^{0}(1/2) + z^{1}(1/2) = \\frac{z+1}{2}$\n",
    "\n",
    "# $\\implies g(t) = \\frac{e^{t}+1}{2}$"
   ]
  },
  {
   "cell_type": "markdown",
   "metadata": {},
   "source": [
    "____\n",
    "\n",
    "# b)\n",
    "\n",
    "# $h(z) = \\frac{z + z^{2} + z^{3} + z^{4} + z^{5} + z^{6}}{6}$\n",
    "\n",
    "# $\\implies g(t) = \\frac{e^{t} + e^{2t} + e^{3t} + e^{4t} + e^{5t} + e^{6t}}{6}$"
   ]
  },
  {
   "cell_type": "markdown",
   "metadata": {},
   "source": [
    "____\n",
    "\n",
    "# c)\n",
    "\n",
    "# $h(z) = z^{3} \\implies g(t) = e^{3t}$"
   ]
  },
  {
   "cell_type": "markdown",
   "metadata": {},
   "source": [
    "____\n",
    "\n",
    "# d)\n",
    "\n",
    "# $h(z) = \\frac{z^{n}\\sum{z^{j}}}{k+1}$\n",
    "\n",
    "# $\\implies g(t) = e^{nt}\\frac{\\sum{e^{jt}}}{k+1}$"
   ]
  },
  {
   "cell_type": "markdown",
   "metadata": {},
   "source": [
    "_____\n",
    "\n",
    "# e)\n",
    "\n",
    "# $ h(z) = z^{n}(pz+q)^{k}$\n",
    "\n",
    "# $\\implies g(t) = e^{nt}(pe^{t}+q)^{k}$"
   ]
  },
  {
   "cell_type": "markdown",
   "metadata": {},
   "source": [
    "_____\n",
    "\n",
    "# f)\n",
    "\n",
    "# $h(z) = \\frac{2}{3-2z}$\n",
    "\n",
    "# $\\implies g(t) = \\frac{2}{3-2e^{t}}$"
   ]
  }
 ],
 "metadata": {
  "kernelspec": {
   "display_name": "Python 2",
   "language": "python",
   "name": "python2"
  },
  "language_info": {
   "codemirror_mode": {
    "name": "ipython",
    "version": 2
   },
   "file_extension": ".py",
   "mimetype": "text/x-python",
   "name": "python",
   "nbconvert_exporter": "python",
   "pygments_lexer": "ipython2",
   "version": "2.7.11"
  }
 },
 "nbformat": 4,
 "nbformat_minor": 0
}
