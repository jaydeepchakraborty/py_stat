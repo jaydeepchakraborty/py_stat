{
 "cells": [
  {
   "cell_type": "markdown",
   "metadata": {},
   "source": [
    "# Show that if\n",
    "\n",
    "# $h(z) = \\frac{1-\\sqrt{1-4pqz^{2}}}{2qz}$\n",
    "\n",
    "# then\n",
    "\n",
    "# $h(1) = \\left\\{\\begin{matrix}p/q & p\\leq q\\\\ 1 & p > q\\end{matrix}\\right.$\n",
    "\n",
    "# and\n",
    "\n",
    "# $h^{'}(1) = \\left\\{\\begin{matrix}1/(p-q) & p>q\\\\ \\infty & p = q\\end{matrix}\\right.$"
   ]
  },
  {
   "cell_type": "markdown",
   "metadata": {},
   "source": [
    "_____\n",
    "\n",
    "# $h(1) = \\frac{1 - \\sqrt{1-4pq}}{2q}$"
   ]
  },
  {
   "cell_type": "code",
   "execution_count": null,
   "metadata": {
    "collapsed": true
   },
   "outputs": [],
   "source": []
  }
 ],
 "metadata": {
  "kernelspec": {
   "display_name": "Python 2",
   "language": "python",
   "name": "python2"
  },
  "language_info": {
   "codemirror_mode": {
    "name": "ipython",
    "version": 2
   },
   "file_extension": ".py",
   "mimetype": "text/x-python",
   "name": "python",
   "nbconvert_exporter": "python",
   "pygments_lexer": "ipython2",
   "version": "2.7.11"
  }
 },
 "nbformat": 4,
 "nbformat_minor": 0
}
