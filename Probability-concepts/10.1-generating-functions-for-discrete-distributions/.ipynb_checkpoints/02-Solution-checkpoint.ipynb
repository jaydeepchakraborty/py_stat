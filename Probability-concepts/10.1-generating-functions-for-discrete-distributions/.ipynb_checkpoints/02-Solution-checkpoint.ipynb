{
 "cells": [
  {
   "cell_type": "markdown",
   "metadata": {},
   "source": [
    "# For each of the distributions from [Exercise 1](01-Solution.ipynb) calculate $\\mu_{1}$ and $\\mu_{2}$ and verify that $h(1) = 1$, $h^{'}(1) = \\mu_{1}$ and $h^{''}(1) = \\mu_{2} - \\mu_{1}$"
   ]
  },
  {
   "cell_type": "markdown",
   "metadata": {},
   "source": [
    "____\n",
    "\n",
    "# a)\n",
    "\n",
    "# $h(z) = \\frac{z+1}{2}$ and $ g(t) = \\frac{e^{t}+1}{2}$"
   ]
  },
  {
   "cell_type": "markdown",
   "metadata": {},
   "source": [
    "# $g^{'}(t) = \\frac{e^{t}}{2} \\implies \\mu_{1} = g^{'}(0) = \\frac{1}{2}$\n",
    "\n",
    "# $g^{''}(t) = \\frac{e^{t}}{2} \\implies \\mu_{2} = g^{''}(0) = \\frac{1}{2}$\n",
    "\n",
    "# $h(1) = \\frac{1+1}{2} = 1$\n",
    "\n",
    "# $h^{'}(z) = \\frac{1}{2} \\implies h^{'}(1) = \\frac{1}{2} = \\mu_{1}$\n",
    "\n",
    "# $h^{''}(z) = 0 = \\frac{1}{2} - \\frac{1}{2} = \\mu_{2} - \\mu_{1}$"
   ]
  },
  {
   "cell_type": "markdown",
   "metadata": {},
   "source": [
    "____\n",
    "\n",
    "# b)\n",
    "\n",
    "# $h(z) = \\frac{z + z^{2} + z^{3} + z^{4} + z^{5} + z^{6}}{6}$ and $g(t) = \\frac{e^{t} + e^{2t} + e^{3t} + e^{4t} + e^{5t} + e^{6t}}{6}$"
   ]
  },
  {
   "cell_type": "markdown",
   "metadata": {},
   "source": [
    "# $g^{'}(t) = \\frac{e^{t} + 2e^{2t} + 3e^{3t} + 4e^{4t} + 5e^{5t} + 6e^{6t}}{6}$\n",
    "\n",
    "# $\\implies \\mu_{1} = g^{'}(0) = \\frac{1+2+3+4+5+6}{6} = \\frac{21}{6}$\n",
    "\n",
    "# $g^{''}(t) = \\frac{e^{t} + 2^{2}e^{2t} + 3^{2}e^{3t} + 4^{2}e^{4t} + 5^{2}e^{5t} + 6^{2}e^{6t}}{6}$\n",
    "\n",
    "# $\\implies \\mu_{2} = g^{'}(0) = \\frac{1+4+9+16+25+36}{6} = \\frac{91}{3}$\n",
    "\n",
    "# $h(1) = \\frac{6}{6} = 1$\n",
    "\n",
    "# $h^{'}(z) = \\frac{1+2z+3z^{2}+4z^{3}+5z^{4}+6z^{5}}{6} \\implies h^{'}(1) = \\frac{1+2+3+4+5+6}{6} = \\frac{21}{6} = \\mu_{1}$\n",
    "\n",
    "# $h^{''}(z) = \\frac{2+6z+12z^{2}+20z^{3}+30z^{4}}{6} \\implies h^{''}(1) = \\frac{2+6+12+20+30}{6} = \\frac{70}{6}$\n",
    "\n",
    "# $\\implies h^{''}(1) =  \\frac{70}{6} = \\frac{91}{6} - \\frac{21}{6} = \\mu_{2} - \\mu_{1}$"
   ]
  },
  {
   "cell_type": "markdown",
   "metadata": {},
   "source": [
    "____\n",
    "\n",
    "# c)\n",
    "\n",
    "# $h(z) = z^{3}$ and $g(t) = e^{3t}$"
   ]
  },
  {
   "cell_type": "markdown",
   "metadata": {},
   "source": [
    "# $g^{'}(t) = 3e^{3t} \\implies g^{'}(0) = 3 = \\mu_{1}$\n",
    "\n",
    "# $g^{''}(t) = 9e^{3t} \\implies g^{'}(0) = 9 = \\mu_{2}$\n",
    "\n",
    "# $h(1) = 1$\n",
    "\n",
    "# $h^{'}(z) = 3z^{2} \\implies h^{'}(1) = 3 = \\mu_{1}$\n",
    "\n",
    "# $h^{''}(z) = 6z \\implies h^{''}(1) = 6 = 9 - 3 = \\mu_{2} - \\mu_{1}$"
   ]
  },
  {
   "cell_type": "markdown",
   "metadata": {},
   "source": [
    "____\n",
    "\n",
    "# d)\n",
    "\n",
    "# $h(z) = \\frac{z^{n}\\sum{z^{j}}}{k+1}$ and $g(t) = e^{nt}\\frac{\\sum{e^{jt}}}{k+1}$"
   ]
  },
  {
   "cell_type": "markdown",
   "metadata": {},
   "source": [
    "# LATER"
   ]
  },
  {
   "cell_type": "markdown",
   "metadata": {},
   "source": [
    "_____\n",
    "\n",
    "# e)\n",
    "\n",
    "# $ h(z) = z^{n}(pz+q)^{k}$ and $ g(t) = e^{nt}(pe^{t}+q)^{k}$"
   ]
  },
  {
   "cell_type": "markdown",
   "metadata": {},
   "source": [
    "# $g^{'}(t) = ne^{nt}(pe^{t}+q)^{k} + e^{nt}(k)(pe^{t}+q)^{k-1}(pe^{t})$\n",
    "\n",
    "# $\\implies g^{'}(0) = n(p+q)^{k} + kp(p+q)^{k-1}$"
   ]
  },
  {
   "cell_type": "markdown",
   "metadata": {},
   "source": [
    "# The rest of these are a pain in the ass..."
   ]
  },
  {
   "cell_type": "markdown",
   "metadata": {},
   "source": [
    "_____\n",
    "\n",
    "# f)\n",
    "\n",
    "# $h(z) = \\frac{2}{3-2z}$\n",
    "\n",
    "# $\\implies g(t) = \\frac{2}{3-2e^{t}}$"
   ]
  }
 ],
 "metadata": {
  "kernelspec": {
   "display_name": "Python 2",
   "language": "python",
   "name": "python2"
  },
  "language_info": {
   "codemirror_mode": {
    "name": "ipython",
    "version": 2
   },
   "file_extension": ".py",
   "mimetype": "text/x-python",
   "name": "python",
   "nbconvert_exporter": "python",
   "pygments_lexer": "ipython2",
   "version": "2.7.11"
  }
 },
 "nbformat": 4,
 "nbformat_minor": 0
}
