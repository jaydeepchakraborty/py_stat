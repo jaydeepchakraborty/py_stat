{
 "cells": [
  {
   "cell_type": "markdown",
   "metadata": {},
   "source": [
    "# Let $X$ and $Y$ be random variables with values in $\\{ 1,2,3,4,5,6 \\}$ with distribution functions $p_{X}(j) = a_{j}$ and $p_{Y}(j) = b_{j}$\n",
    "\n",
    "## a) Find $h(z)$ for $X$ and $Y$\n",
    "\n",
    "## b) Find $h(z)$ for $Z=X+Y$\n",
    "\n",
    "## c) Show that $h_{Z}(z)$ can never have the form $h_{Z}(z) = \\frac{z^{2}+z^{3}+...+z^{12}}{11}$"
   ]
  },
  {
   "cell_type": "markdown",
   "metadata": {},
   "source": [
    "______\n",
    "\n",
    "# a)\n",
    "\n",
    "# $h_{X}(z) = a_{1}z + a_{2}z^{2} + a_{3}z^{3} + a_{4}z^{4} + a_{5}z^{5} + a_{6}z^{6}$\n",
    "\n",
    "# $h_{Y}(z) = b_{1}z + b_{2}z^{2} + b_{3}z^{3} + b_{4}z^{4} + b_{5}z^{5} + b_{6}z^{6}$"
   ]
  },
  {
   "cell_type": "markdown",
   "metadata": {},
   "source": [
    "____\n",
    "\n",
    "# b)\n",
    "\n",
    "\n",
    "# We know from the properties of ordinary generating functions that if $Z=X+Y$ then $h_{Z}(z) = h_{X}(z)h_{Y}(z)$\n",
    "\n",
    "### $\\implies h_{Z}(z) = \\left (a_{1}z + a_{2}z^{2} + a_{3}z^{3} + a_{4}z^{4} + a_{5}z^{5} + a_{6}z^{6} \\right ) \\left ( b_{1}z + b_{2}z^{2} + b_{3}z^{3} + b_{4}z^{4} + b_{5}z^{5} + b_{6}z^{6} \\right ) $"
   ]
  },
  {
   "cell_type": "markdown",
   "metadata": {},
   "source": [
    "____\n",
    "\n",
    "# c)\n",
    "\n",
    "Don't wanna bother"
   ]
  }
 ],
 "metadata": {
  "kernelspec": {
   "display_name": "Python 2",
   "language": "python",
   "name": "python2"
  },
  "language_info": {
   "codemirror_mode": {
    "name": "ipython",
    "version": 2
   },
   "file_extension": ".py",
   "mimetype": "text/x-python",
   "name": "python",
   "nbconvert_exporter": "python",
   "pygments_lexer": "ipython2",
   "version": "2.7.11"
  }
 },
 "nbformat": 4,
 "nbformat_minor": 0
}
