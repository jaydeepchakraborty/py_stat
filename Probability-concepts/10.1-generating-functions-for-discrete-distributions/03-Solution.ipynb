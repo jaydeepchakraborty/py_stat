{
 "cells": [
  {
   "cell_type": "markdown",
   "metadata": {},
   "source": [
    "# Let $p_{X}$ be a probability distribution on $\\{0, 1, 2 \\}$ with moments $\\mu_{1} = 1$ and $\\mu_{2} = \\frac{3}{2}$\n",
    "\n",
    "## a) Find its ordinary generating function $h(z)$\n",
    "\n",
    "## b) Using a), find its moment generating function $g(t)$\n",
    "\n",
    "## c) Using b), find the first 6 moments\n",
    "\n",
    "## d) Using b), find $p_{x}(0)$, $p_{x}(1)$, and $p_{x}(2)$"
   ]
  },
  {
   "cell_type": "markdown",
   "metadata": {},
   "source": [
    "_____\n",
    "\n",
    "# a)\n",
    "\n",
    "# We know $h(1) = 1$, $h^{'}(1) = \\mu_{1}$ and $h^{''}(1) = \\mu_{2} - \\mu_{1}$"
   ]
  },
  {
   "cell_type": "markdown",
   "metadata": {},
   "source": [
    "# $\\implies h^{'}(1) = 1 \\implies h^{''}(1) = \\frac{3}{2} - 1 = \\frac{1}{2}$"
   ]
  },
  {
   "cell_type": "markdown",
   "metadata": {},
   "source": [
    "# We also know that since $X$ is on ${0,1,2}$, then \n",
    "\n",
    "# $h(z) = z^{0}p_{X}(0) + z^{1}p_{X}(1) + z^{2}p_{X}(2) = p_{X}(0) + zp_{X}(1) + z^{2}p_{X}(2)$"
   ]
  },
  {
   "cell_type": "markdown",
   "metadata": {},
   "source": [
    "# $\\implies h^{'}(z) = p_{X}(1) + 2zp(2)$ and $h^{''}(z) = 2p_{X}(2)$\n",
    "\n",
    "# Since $h^{''}(1) = \\frac{1}{2} \\implies \\frac{1}{2} = 2p_{X}(2) \\implies p_{X}(2) = \\frac{1}{4}$\n",
    "\n",
    "# $\\implies h^{'}(z) = p_{X}(1) + \\frac{z}{2}$\n",
    "\n",
    "# Since $h^{'}(1) = 1 \\implies 1 = p_{X}(1) + \\frac{1}{2} \\implies p_{X}(1) = \\frac{1}{2}$\n",
    "\n",
    "# $\\implies h(z) = p_{X}(0) + \\frac{z}{2} + \\frac{z^{2}}{4}$\n",
    "\n",
    "# Since $h(1) = 1 \\implies 1 = p_{X}(0) + \\frac{1}{2} + \\frac{1}{4} \\implies p_{X}(0) = \\frac{1}{4}$\n",
    "\n",
    "# Therefore $h(z) = \\frac{1}{4} + \\frac{z}{2} + \\frac{z^{2}}{4}$"
   ]
  },
  {
   "cell_type": "markdown",
   "metadata": {},
   "source": [
    "______\n",
    "\n",
    "# b)\n",
    "\n",
    "# We know that $g(t) = h(e^{t})$\n",
    "\n",
    "# $\\implies g(t) = \\frac{1}{4} + \\frac{e^{t}}{2} + \\frac{e^{2t}}{4}$"
   ]
  },
  {
   "cell_type": "markdown",
   "metadata": {},
   "source": [
    "____\n",
    "\n",
    "# c)\n",
    "\n",
    "# $g^{'}(t) = \\frac{e^{t}}{2} + 2\\frac{e^{2t}}{4} = \\frac{e^{t}+e^{2t}}{2} \\implies \\mu_{1} = g^{'}(0) = 1$"
   ]
  },
  {
   "cell_type": "markdown",
   "metadata": {},
   "source": [
    "# $g^{''}(t) = \\frac{e^{t}}{2} + e^{2t} \\implies \\mu_{2} = g^{''}(0) = \\frac{1}{2} + 1 = \\frac{3}{2}$"
   ]
  },
  {
   "cell_type": "markdown",
   "metadata": {},
   "source": [
    "# $g^{'''}(t) = \\frac{e^{t}}{2} + 2e^{2t} \\implies \\mu_{3} = g^{'''}(0) = \\frac{1}{2} + 2 = \\frac{5}{2}$"
   ]
  },
  {
   "cell_type": "markdown",
   "metadata": {},
   "source": [
    "# $g^{(4)}(t) = \\frac{e^{t}}{2} + 4e^{2t} \\implies \\mu_{4} = g^{(4)}(0) = \\frac{1}{2} + 4 = \\frac{9}{2}$"
   ]
  },
  {
   "cell_type": "markdown",
   "metadata": {},
   "source": [
    "# $g^{(5)}(t) = \\frac{e^{t}}{2} + 8e^{2t} \\implies \\mu_{5} = g^{(5)}(0) = \\frac{1}{2} + 8 = \\frac{17}{2}$"
   ]
  },
  {
   "cell_type": "markdown",
   "metadata": {},
   "source": [
    "# $g^{(6)}(t) = \\frac{e^{t}}{2} + 16e^{2t} \\implies \\mu_{6} = g^{(6)}(0) = \\frac{1}{2} + 16 = \\frac{33}{2}$"
   ]
  },
  {
   "cell_type": "markdown",
   "metadata": {},
   "source": [
    "____\n",
    "\n",
    "# d)\n",
    "\n",
    "# We used the values to derive $h(z)$ in part a)\n",
    "\n",
    "# $p_{X}(0) = \\frac{1}{4}$\n",
    "\n",
    "# $p_{X}(1) = \\frac{1}{2}$\n",
    "\n",
    "# $p_{X}(2) = \\frac{1}{4}$"
   ]
  }
 ],
 "metadata": {
  "kernelspec": {
   "display_name": "Python 2",
   "language": "python",
   "name": "python2"
  },
  "language_info": {
   "codemirror_mode": {
    "name": "ipython",
    "version": 2
   },
   "file_extension": ".py",
   "mimetype": "text/x-python",
   "name": "python",
   "nbconvert_exporter": "python",
   "pygments_lexer": "ipython2",
   "version": "2.7.11"
  }
 },
 "nbformat": 4,
 "nbformat_minor": 0
}
