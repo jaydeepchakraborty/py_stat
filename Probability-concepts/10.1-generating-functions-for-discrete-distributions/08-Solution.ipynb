{
 "cells": [
  {
   "cell_type": "markdown",
   "metadata": {},
   "source": [
    "# Let $X_{1}$, $X_{2}$, ..., $X_{n}$ be an independent trials process on ${0,1}$ and mean $\\mu = 1/3$\n",
    "\n",
    "# Find $h(z)$ and $g(t)$ for the random variables:\n",
    "\n",
    "## a) $S_{1} = X_{1}$\n",
    "\n",
    "## b) $S_{2} = X_{1} + X_{2}$\n",
    "\n",
    "## c) $S_{n} = X_{1} + X_{2} + ... + X_{n}$"
   ]
  },
  {
   "cell_type": "markdown",
   "metadata": {},
   "source": [
    "_____\n",
    "\n",
    "# Since $\\mu = \\frac{1}{3}$, we know $p_{X_{i}} = \\bigl(\\begin{smallmatrix}0 & 1\\\\ 2/3 & 1/3\\end{smallmatrix}\\bigr)$"
   ]
  },
  {
   "cell_type": "markdown",
   "metadata": {},
   "source": [
    "____\n",
    "\n",
    "# a)\n",
    "\n",
    "# $h_{S_{1}}(z) = h_{X_{1}}(z) = z^{0}p_{X_{1}}(0) + z^{1}p_{X_{1}}(1) = (2/3) + z(1/3) = \\frac{2+z}{3}$\n",
    "\n",
    "# $\\implies g_{S_{1}}(t) = g_{X_{1}}(t) = \\frac{2+e^{t}}{3}$"
   ]
  },
  {
   "cell_type": "markdown",
   "metadata": {},
   "source": [
    "____\n",
    "\n",
    "# b)\n",
    "\n",
    "# We know that $P(S_{2} = 0) = P(X_{1} = 0)\\cdot P(X_{2} = 0) = (2/3)^{2} = (4/9)$\n",
    "\n",
    "# $P(S_{2} = 2) = P(X_{1} = 1)\\cdot P(X_{2} = 1) = (1/3)^{2} = (1/9)$\n",
    "\n",
    "# $\\implies P(S_{2} = 1) = 1 - P(S_{2} = 0) - P(S_{2} = 2) = (4/9)$"
   ]
  },
  {
   "cell_type": "markdown",
   "metadata": {},
   "source": [
    "# So $p_{S_{2}} = \\bigl(\\begin{smallmatrix}0 & 1 & 2\\\\ 4/9 & 4/9 & 1/9\\end{smallmatrix}\\bigr)$"
   ]
  },
  {
   "cell_type": "markdown",
   "metadata": {},
   "source": [
    "# $\\implies h_{S_{2}} = (4/9) + z(4/9) + z^{2}(1/9) = \\frac{4 + 4z + z^{2}}{9} = \\left ( h_{S_{1}}(z) \\right )^{2}$"
   ]
  },
  {
   "cell_type": "markdown",
   "metadata": {},
   "source": [
    "# $g_{S_{2}}(t) = \\frac{4 + 4e^{t} + e^{2t}}{9} = \\left (g_{S_{1}}(t) \\right )^{2}$"
   ]
  },
  {
   "cell_type": "markdown",
   "metadata": {},
   "source": [
    "______\n",
    "\n",
    "# c)\n",
    "\n",
    "# $h_{S_{n}} = \\left (\\frac{2+z}{3} \\right )^{n}$ and $g_{S_{n}}(t) = \\left (\\frac{2+e^{t}}{3} \\right )^{n}$"
   ]
  }
 ],
 "metadata": {
  "kernelspec": {
   "display_name": "Python 2",
   "language": "python",
   "name": "python2"
  },
  "language_info": {
   "codemirror_mode": {
    "name": "ipython",
    "version": 2
   },
   "file_extension": ".py",
   "mimetype": "text/x-python",
   "name": "python",
   "nbconvert_exporter": "python",
   "pygments_lexer": "ipython2",
   "version": "2.7.11"
  }
 },
 "nbformat": 4,
 "nbformat_minor": 0
}
