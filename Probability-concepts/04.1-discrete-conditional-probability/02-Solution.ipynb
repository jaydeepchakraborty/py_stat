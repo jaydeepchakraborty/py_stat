{
 "cells": [
  {
   "cell_type": "markdown",
   "metadata": {
    "collapsed": true
   },
   "source": [
    "# A coin is tossed 3 times\n",
    "\n",
    "# What is the probability that exactly 2 heads occur, given that:\n",
    "\n",
    "## a) The first flip is a head\n",
    "\n",
    "## b) The first flip is a tail\n",
    "\n",
    "## c) The first two flips were heads\n",
    "\n",
    "## d) The first two flips were tails\n",
    "\n",
    "## e) The first flip was a head and the third was a tail"
   ]
  },
  {
   "cell_type": "markdown",
   "metadata": {},
   "source": [
    "___\n",
    "# a)\n",
    "\n",
    "# $P(\\text{Exactly 2 H }| \\text{ First was H}) = P(\\text{HHT or HTH }| \\text{ First was H}) = \\frac{2}{4} = \\frac{1}{2}$"
   ]
  },
  {
   "cell_type": "markdown",
   "metadata": {},
   "source": [
    "___\n",
    "# b)\n",
    "\n",
    "# $P(\\text{Exactly 2 H | First was T}) = P(\\text{THH | First was T}) = \\frac{1}{4}$"
   ]
  },
  {
   "cell_type": "markdown",
   "metadata": {},
   "source": [
    "___\n",
    "# c)\n",
    "\n",
    "# $P(\\text{Exactly 2 H | HH}) = P(\\text{HHT | HH}) = \\frac{1}{2}$"
   ]
  },
  {
   "cell_type": "markdown",
   "metadata": {},
   "source": [
    "___\n",
    "# d)\n",
    "\n",
    "# $P(\\text{Exactly 2H | TT}) = 0$"
   ]
  },
  {
   "cell_type": "markdown",
   "metadata": {},
   "source": [
    "___\n",
    "# e)\n",
    "\n",
    "# $P(\\text{Exactly 2H | First was T, third was T}) = P(\\text{HHT | H?T}) = \\frac{1}{2}$"
   ]
  }
 ],
 "metadata": {
  "kernelspec": {
   "display_name": "Python 2",
   "language": "python",
   "name": "python2"
  },
  "language_info": {
   "codemirror_mode": {
    "name": "ipython",
    "version": 2
   },
   "file_extension": ".py",
   "mimetype": "text/x-python",
   "name": "python",
   "nbconvert_exporter": "python",
   "pygments_lexer": "ipython2",
   "version": "2.7.11"
  }
 },
 "nbformat": 4,
 "nbformat_minor": 2
}
