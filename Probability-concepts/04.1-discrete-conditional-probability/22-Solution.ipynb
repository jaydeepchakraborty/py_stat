{
 "cells": [
  {
   "cell_type": "markdown",
   "metadata": {},
   "source": [
    "# One coin in a collection of 65 has two heads\n",
    "\n",
    "# The rest of the coins are fair\n",
    "\n",
    "# If a coin is chosen at random from the lot and when tossed, turns up heads 6 times in a row, what is the probability that it is the two-headed coin?"
   ]
  },
  {
   "cell_type": "markdown",
   "metadata": {},
   "source": [
    "___\n",
    "\n",
    "# $P(\\text{2-headed coin | 6H}) = \\frac{P(\\text{2-headed coin }\\cap 6H)}{P(6H)}$\n",
    "\n",
    "# First, we note: $P(6H|\\text{2-headed coin}) = \\frac{P(6H\\cap \\text{2-headed coin })}{P(\\text{2-headed coin})}$\n",
    "\n",
    "### But we know we can't get anything other than H if we have the 2-headed coin, so  $P(6H|\\text{2-headed coin})=1$\n",
    "\n",
    "### Also, we know that 1/65 of the coins is the two-headed coin, so $P(\\text{2-headed coin}) = \\frac{1}{65}$\n",
    "\n",
    "## Combining these, we get $P(6H\\cap \\text{2-headed coin }) = \\frac{1}{65}$"
   ]
  },
  {
   "cell_type": "markdown",
   "metadata": {},
   "source": [
    "# So now, we need to calculate $P(6H)$:\n",
    "\n",
    "### $P(6H) = P(6H|\\text{ 2-headed coin})P(\\text{2-headed coin})+P(6H|\\text{ Fair coin})P(\\text{Fair coin})$\n",
    "\n",
    "### $ = (1)(\\frac{1}{65}) + (\\frac{1}{2})^{6}(\\frac{64}{65}) = \\frac{1}{65} + \\frac{1}{64}\\frac{64}{65} = \\frac{2}{65}$"
   ]
  },
  {
   "cell_type": "markdown",
   "metadata": {},
   "source": [
    "# Putting it all together:\n",
    "\n",
    "### $P(\\text{2-headed coin | 6H}) = \\frac{P(\\text{2-headed coin }\\cap 6H)}{P(6H)} = \\frac{\\frac{1}{65}}{\\frac{2}{65}} = \\frac{1}{2}$"
   ]
  }
 ],
 "metadata": {
  "kernelspec": {
   "display_name": "Python 2",
   "language": "python",
   "name": "python2"
  },
  "language_info": {
   "codemirror_mode": {
    "name": "ipython",
    "version": 2
   },
   "file_extension": ".py",
   "mimetype": "text/x-python",
   "name": "python",
   "nbconvert_exporter": "python",
   "pygments_lexer": "ipython2",
   "version": "2.7.11"
  }
 },
 "nbformat": 4,
 "nbformat_minor": 0
}
