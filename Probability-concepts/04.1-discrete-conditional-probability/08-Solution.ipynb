{
 "cells": [
  {
   "cell_type": "markdown",
   "metadata": {},
   "source": [
    "# Let $\\Omega = \\left \\{a,b,c,d,e,f \\right \\}$\n",
    "\n",
    "# Assume that $m(a) = m(b) = \\frac{1}{8}$ and $m(c) = m(d) = m(e) = m(f) = \\frac{3}{16}$\n",
    "\n",
    "# Let A, B, and C be the events $A=\\left \\{ d, e, a\\right \\}$, $B=\\left \\{ c, e, a\\right \\}$, $C=\\left \\{ c, d, a\\right \\}$\n",
    "\n",
    "## Show that $P(A\\cap B \\cap C) = P(A)P(B)P(C)$, but no two of these events are independent"
   ]
  },
  {
   "cell_type": "markdown",
   "metadata": {},
   "source": [
    "___\n",
    "### First, we can show the easy part: $P(A\\cap B \\cap C) = P(A)P(B)P(C)$\n",
    "\n",
    "### $A\\cap B \\cap C \\implies \\left \\{ d, e, a\\right \\} \\cap \\left \\{ c, e, a\\right \\} \\cap \\left \\{ c, d, a\\right \\} = \\left \\{ a\\right \\} \\implies P(A\\cap B \\cap C) = P(a) = \\frac{1}{8}$ \n",
    "\n",
    "### $P(A) = m(d) + m(e) + m(a) = \\frac{3}{16} + \\frac{3}{16} + \\frac{1}{8} =  \\frac{1}{2}$\n",
    "\n",
    "### $P(B) = m(c) + m(e) + m(a) = \\frac{3}{16} + \\frac{3}{16} + \\frac{1}{8} =  \\frac{1}{2}$\n",
    "\n",
    "### $P(C) = m(c) + m(d) + m(a) = \\frac{3}{16} + \\frac{3}{16} + \\frac{1}{8} =  \\frac{1}{2}$\n",
    "\n",
    "## So $P(A)P(B)P(C) = \\frac{1}{2}\\frac{1}{2}\\frac{1}{2} = \\frac{1}{8} = P(A\\cap B \\cap C)$\n"
   ]
  },
  {
   "cell_type": "markdown",
   "metadata": {},
   "source": [
    "### Now, we need to show that $P(A\\cap B) \\neq P(A)P(B)$\n",
    "\n",
    "### $A\\cap B = \\left \\{ d, e, a\\right \\} \\cap \\left \\{ c, e, a\\right \\} = \\left \\{ e, a\\right \\} \\implies P(A \\cap B) = m(e) + m(a) = \\frac{3}{16} + \\frac{1}{8} = \\frac{5}{16}$\n",
    "\n",
    "### But $P(A)P(B) = \\frac{1}{2}\\frac{1}{2} = \\frac{1}{4} < \\frac{5}{16} \\implies P(A\\cap B) \\neq P(A)P(B)$"
   ]
  },
  {
   "cell_type": "markdown",
   "metadata": {},
   "source": [
    "# The rest is pretty clear"
   ]
  }
 ],
 "metadata": {
  "kernelspec": {
   "display_name": "Python 2",
   "language": "python",
   "name": "python2"
  },
  "language_info": {
   "codemirror_mode": {
    "name": "ipython",
    "version": 2
   },
   "file_extension": ".py",
   "mimetype": "text/x-python",
   "name": "python",
   "nbconvert_exporter": "python",
   "pygments_lexer": "ipython2",
   "version": "2.7.11"
  }
 },
 "nbformat": 4,
 "nbformat_minor": 0
}
