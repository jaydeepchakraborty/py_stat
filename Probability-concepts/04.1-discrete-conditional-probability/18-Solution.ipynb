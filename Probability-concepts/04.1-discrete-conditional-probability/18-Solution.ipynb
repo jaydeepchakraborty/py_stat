{
 "cells": [
  {
   "cell_type": "markdown",
   "metadata": {},
   "source": [
    "# A doctor assumes that a patient has one of three diseases: $d_{1}$, $d_{2}$, $d_{3}$\n",
    "\n",
    "# Before any test, he assumes an equal probability of each disease\n",
    "\n",
    "# He carries out a test that will be positive with probability 0.8 if the patient has $d_{1}$, 0.6 if he has $d_{2}$, and 0.4 if he has $d_{3}$\n",
    "\n",
    "# Given that the outcome of the test was positive, what probabilities should the doctor now assign to the three possible diseases?"
   ]
  },
  {
   "cell_type": "markdown",
   "metadata": {},
   "source": [
    "___\n",
    "\n",
    "# First, let's summarize all our information\n",
    "\n",
    "- $P(d_{1}) = p$\n",
    "- $P(d_{2}) = p$\n",
    "- $P(d_{3}) = p$\n",
    "- $P(+|d_{1}) = 0.8$\n",
    "- $P(+|d_{2}) = 0.6$\n",
    "- $P(+|d_{3}) = 0.4$\n",
    "\n",
    "# From these, we can calculate $P(+)$ as:\n",
    "\n",
    "### $P(+) = P(+|d_{1})P(d_{1}) + P(+|d_{2})P(d_{2}) + P(+|d_{3})P(d_{3}) = p \\left ( 0.8 + 0.6 + 0.4\\right ) = 1.8p$\n",
    "\n",
    "# Now, the three probabilities we need to calculate are:\n",
    "\n",
    "1. $P(d_{1}|+)$\n",
    "2. $P(d_{2}|+)$\n",
    "3. $P(d_{3}|+)$\n",
    "\n",
    "### 1. $P(d_{1}|+)$\n",
    "\n",
    "$P(d_{1}|+) = \\frac{P(d_{1}\\cap +)}{P(+)} = \\frac{0.8p}{1.8p} = 0.\\bar{4}$\n",
    "\n",
    "### 2. $P(d_{2}|+)$\n",
    "\n",
    "$P(d_{2}|+) = \\frac{P(d_{2}\\cap +)}{P(+)} = \\frac{0.6p}{1.8p} = 0.\\bar{3}$\n",
    "\n",
    "### 3. $P(d_{3}|+)$\n",
    "\n",
    "$P(d_{3}|+) = \\frac{P(d_{3}\\cap +)}{P(+)} = \\frac{0.4p}{1.8p} = 0.\\bar{2}$"
   ]
  }
 ],
 "metadata": {
  "kernelspec": {
   "display_name": "Python 3",
   "language": "python",
   "name": "python3"
  },
  "language_info": {
   "codemirror_mode": {
    "name": "ipython",
    "version": 3
   },
   "file_extension": ".py",
   "mimetype": "text/x-python",
   "name": "python",
   "nbconvert_exporter": "python",
   "pygments_lexer": "ipython3",
   "version": "3.6.4"
  }
 },
 "nbformat": 4,
 "nbformat_minor": 1
}
