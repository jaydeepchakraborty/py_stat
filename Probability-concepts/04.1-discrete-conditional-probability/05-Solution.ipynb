{
 "cells": [
  {
   "cell_type": "markdown",
   "metadata": {},
   "source": [
    "# A coin is tossed 3 times\n",
    "\n",
    "# Consider the following events:\n",
    "\n",
    "### A: Heads on the first flip\n",
    "\n",
    "### B: Tails on the second flip\n",
    "\n",
    "### C: Heads on the third toss\n",
    "\n",
    "### D: All three outcomes are the same\n",
    "\n",
    "### E: Exactly one head turns up\n",
    "\n",
    "___\n",
    "\n",
    "## a) Which of the following pairs of events are independent:\n",
    "\n",
    "### i) A and B\n",
    "\n",
    "### ii) A and D\n",
    "\n",
    "### iii) A and E\n",
    "\n",
    "### iv) D and E\n",
    "\n",
    "___\n",
    "\n",
    "## b) Which of the following triples of these events are independent:\n",
    "\n",
    "### i) A, B, C\n",
    "\n",
    "### ii) A, B, D\n",
    "\n",
    "### iii) C, D, E"
   ]
  },
  {
   "cell_type": "markdown",
   "metadata": {},
   "source": [
    "___\n",
    "# Recall: if events $E_{1}$ and $E_{2}$ are independent, then $P(E_{1}|E_{2}) = P(E_{1})$\n",
    "\n",
    "\n",
    "\n",
    "# a) i)\n",
    "\n",
    "### $P(\\text{A | B}) = P(\\text{H on flip 1 | T on flip 2})$\n",
    "\n",
    "- We know that it doesn't matter what happens before or after, the $P(H)$ for each flip is always $\\frac{1}{2}$\n",
    "\n",
    "### Therefore $P(\\text{H on flip 1 | T on flip 2}) = \\frac{1}{2} \\implies independent$"
   ]
  },
  {
   "cell_type": "markdown",
   "metadata": {},
   "source": [
    "___\n",
    "# a) ii)\n",
    "\n",
    "# $P(A|D) = P(\\text{H on flip 1 | All 3 are the same})$\n",
    "\n",
    "# Recall: $P(A|D) = \\frac{P(A \\cap D)}{P(D)}$\n",
    "\n",
    "### There are $2^{3} = 8$ possible ways a coin can be flipped, and $A \\cap D$ means HHH, therefore  $P(A \\cap D) = \\frac{1}{8}$\n",
    "\n",
    "### Next, we know of the $2^{3} = 8$ possible ways a coin can be flipped, only two of them have all three as the same (HHH or TTT)\n",
    "\n",
    "### Therefore $P(D) = \\frac{2}{8} = \\frac{1}{4}$\n",
    "\n",
    "### Combining these, we get $\\frac{P(A \\cap D)}{P(D)} = \\frac{\\frac{1}{8}}{\\frac{1}{4}} = \\frac{1}{2}$\n",
    "\n",
    "### But this is just $P(A) \\implies independent$"
   ]
  },
  {
   "cell_type": "markdown",
   "metadata": {},
   "source": [
    "___\n",
    "\n",
    "# a) iii)\n",
    "\n",
    "# $P(A|E) = P(\\text{H on flip 1 | Only one H in the 3 flips})$\n",
    "\n",
    "### If we consider $(A|E) = \\frac{P(A \\cap E)}{P(E)}$, we know $P(E)$ is just $b(3, 0.5, 1) = \\binom{3}{1}0.5^{3} = \\frac{3}{8}$\n",
    "\n",
    "### $A\\cap E$ occurs when the flips are HTT, which is just one of the 8 possible flip combinations\n",
    "\n",
    "### Therefore $\\frac{P(A \\cap E)}{P(E)} = \\frac{\\frac{1}{8}}{\\frac{3}{8}} = \\frac{1}{3} \\neq \\frac{1}{2} = P(A) \\implies \\text{not independent}$"
   ]
  },
  {
   "cell_type": "markdown",
   "metadata": {},
   "source": [
    "___\n",
    "\n",
    "# a) iv)\n",
    "\n",
    "# $P(D|E) = P(\\text{All three outcomes are the same | Only one H in the 3 flips})$\n",
    "\n",
    "# We know that $P(E)$ and $P(D)$ are both non-zero probabilities, but it's also impossible to have them both occur at the same time\n",
    "\n",
    "# We don't need to calculate any probabilities; we know they're not independent"
   ]
  },
  {
   "cell_type": "markdown",
   "metadata": {},
   "source": [
    "___\n",
    "# b) i)\n",
    "\n",
    "### $A\\cap B \\cap C$ occurs if we get the result $HTH$\n",
    "\n",
    "### We don't even need to calculate anything; we know that the outcomes for any of the flips has no impact on the others, therefore the three are independent"
   ]
  },
  {
   "cell_type": "markdown",
   "metadata": {},
   "source": [
    "___\n",
    "# b) ii)\n",
    "\n",
    "### The probability of D (all outcomes being the same) is non-zero, but given events A and B, the probability of event D becomes zero (because A and B both occurring implies event D cannot occur)\n",
    "\n",
    "### Therefore $P(D|A\\cap B) \\neq P(D) \\implies$ not independent"
   ]
  },
  {
   "cell_type": "markdown",
   "metadata": {},
   "source": [
    "___\n",
    "# b) iii)\n",
    "\n",
    "### Like b) iii), not all three events can occur with non-zero probability $\\implies$ not independent"
   ]
  }
 ],
 "metadata": {
  "kernelspec": {
   "display_name": "Python 2",
   "language": "python",
   "name": "python2"
  },
  "language_info": {
   "codemirror_mode": {
    "name": "ipython",
    "version": 2
   },
   "file_extension": ".py",
   "mimetype": "text/x-python",
   "name": "python",
   "nbconvert_exporter": "python",
   "pygments_lexer": "ipython2",
   "version": "2.7.11"
  }
 },
 "nbformat": 4,
 "nbformat_minor": 0
}
