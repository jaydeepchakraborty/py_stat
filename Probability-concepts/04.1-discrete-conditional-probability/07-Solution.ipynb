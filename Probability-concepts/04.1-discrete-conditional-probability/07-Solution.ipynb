{
 "cells": [
  {
   "cell_type": "markdown",
   "metadata": {},
   "source": [
    "# A coin is tossed twice\n",
    "\n",
    "# Consider the following events\n",
    "\n",
    "## A: Heads on the first toss\n",
    "## B: Heads on the second toss\n",
    "## C: The two tosses come out the same\n",
    "\n",
    "# a) Show that A, B, and C are pairwise independent, but not independent\n",
    "# b) Show that C is independent of A and B, but not $\\text{A}\\cap\\text{B}$"
   ]
  },
  {
   "cell_type": "markdown",
   "metadata": {},
   "source": [
    "___\n",
    "\n",
    "# a)\n",
    "\n",
    "### If A, B and C are pairwise independent, then $P(A|B) = P(A) = P(A|C)$, $P(B|A) = P(B) = (P(B|C)$, and $P(C|A) = P(C) = P(C|B)$\n",
    "\n",
    "- We already know A and B have no impact on eachother, so we only need to think about how C interacts with A and B\n",
    "\n",
    "### $P(A|C) = \\frac{P(HH)}{P(HH \\cup TT)} = \\frac{1}{2} = P(A) \\implies$ A and C are independent \n",
    "\n",
    "### $P(B|C) = \\frac{P(HH)}{P(HH \\cup TT)} = \\frac{1}{2} = P(B) \\implies$ B and C are independent \n",
    "\n",
    "## But now, we have to think about the three simultaneously\n",
    "\n",
    "### If A, B, and C are independent, then $P(C|A\\cap B) = P(C)$\n",
    "\n",
    "### $A \\cap B$ can only occur when we get HH as our two flips, and this implies C also occurred\n",
    "\n",
    "### Therefore $P(C|A\\cap B) = 1$, but $P(C) = \\frac{1}{2} \\neq \\implies$ A, B, and C are not independent"
   ]
  },
  {
   "cell_type": "markdown",
   "metadata": {},
   "source": [
    "___\n",
    "# b)\n",
    "\n",
    "- We already showed this"
   ]
  }
 ],
 "metadata": {
  "kernelspec": {
   "display_name": "Python 2",
   "language": "python",
   "name": "python2"
  },
  "language_info": {
   "codemirror_mode": {
    "name": "ipython",
    "version": 2
   },
   "file_extension": ".py",
   "mimetype": "text/x-python",
   "name": "python",
   "nbconvert_exporter": "python",
   "pygments_lexer": "ipython2",
   "version": "2.7.11"
  }
 },
 "nbformat": 4,
 "nbformat_minor": 0
}
