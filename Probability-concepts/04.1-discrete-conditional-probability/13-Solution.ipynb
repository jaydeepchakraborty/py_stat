{
 "cells": [
  {
   "cell_type": "markdown",
   "metadata": {},
   "source": [
    "# Two cards are drawn from a bridge deck\n",
    "\n",
    "# What is the probability that the second card drawn is a red?"
   ]
  },
  {
   "cell_type": "markdown",
   "metadata": {},
   "source": [
    "___\n",
    "# Note: a bridge deck has 52 cards and 26 of them are red (i.e. a regular deck)\n",
    "\n",
    "### This question isn't giving us any prior knowledge i.e. this isn't a conditional probability\n",
    "\n",
    "## This question is similar to [question 10 in section 3.1](../3.1-permutations/10-Solution.ipynb#A-deck-of-ordinary-cards-is-shuffled-and-13-cards-are-dealt.-What-is-the-probability-that-the-last-card-dealt-is-an-ace?) asking what is the probabilty that the thirteenth card is an ace"
   ]
  },
  {
   "cell_type": "markdown",
   "metadata": {},
   "source": [
    "# Since half the deck is red and half is black, this probability is simply 50/50"
   ]
  }
 ],
 "metadata": {
  "kernelspec": {
   "display_name": "Python 2",
   "language": "python",
   "name": "python2"
  },
  "language_info": {
   "codemirror_mode": {
    "name": "ipython",
    "version": 2
   },
   "file_extension": ".py",
   "mimetype": "text/x-python",
   "name": "python",
   "nbconvert_exporter": "python",
   "pygments_lexer": "ipython2",
   "version": "2.7.11"
  }
 },
 "nbformat": 4,
 "nbformat_minor": 0
}
