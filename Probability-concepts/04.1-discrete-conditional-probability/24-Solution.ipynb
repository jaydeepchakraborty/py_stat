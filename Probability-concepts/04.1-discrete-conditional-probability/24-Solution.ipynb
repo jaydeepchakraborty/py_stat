{
 "cells": [
  {
   "cell_type": "markdown",
   "metadata": {},
   "source": [
    "# A fair coin is tossed $n$ times\n",
    "\n",
    "# Show that the conditional probability of a head on a specified trial, given a total of $k$ heads over the $n$ trials is $\\frac{k}{n}$"
   ]
  },
  {
   "cell_type": "markdown",
   "metadata": {},
   "source": [
    "___\n",
    "## This is essentially the same as taking $k$ items and assigning them to $n$ boxes (with a maximum of 1 per box)\n",
    "\n",
    "### So the probabilty of choosing a box with a ball in it is equal to $\\frac{k}{n}$"
   ]
  }
 ],
 "metadata": {
  "kernelspec": {
   "display_name": "Python 2",
   "language": "python",
   "name": "python2"
  },
  "language_info": {
   "codemirror_mode": {
    "name": "ipython",
    "version": 2
   },
   "file_extension": ".py",
   "mimetype": "text/x-python",
   "name": "python",
   "nbconvert_exporter": "python",
   "pygments_lexer": "ipython2",
   "version": "2.7.11"
  }
 },
 "nbformat": 4,
 "nbformat_minor": 0
}
