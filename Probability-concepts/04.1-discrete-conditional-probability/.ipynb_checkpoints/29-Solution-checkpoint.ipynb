{
 "cells": [
  {
   "cell_type": "markdown",
   "metadata": {},
   "source": [
    "# A student is applying to Harvard and Dartmouth\n",
    "\n",
    "# He estimates that he has a probability of 0.5 of being accepted to Dartmouth, and a probability of 0.3 of being accepted to Harvard\n",
    "\n",
    "# He further estimates the probability of getting accepted to both is 0.2\n",
    "\n",
    "## a) What is the probability that he is accepted to Dartmouth if he has been accepted to Harvard?\n",
    "\n",
    "## b) Are the two events independent?"
   ]
  },
  {
   "cell_type": "markdown",
   "metadata": {},
   "source": [
    "___\n",
    "# a)\n",
    "\n",
    "# $P(D|H) = \\frac{P(D\\cap H)}{P(H)} = \\frac{0.2}{0.3} = \\frac{2}{3}$"
   ]
  },
  {
   "cell_type": "markdown",
   "metadata": {},
   "source": [
    "___\n",
    "# b) If events D and H are independent, the $P(D|H) = P(D)$\n",
    "\n",
    "## But $\\frac{2}{3}\\neq0.5 \\implies$ not independent"
   ]
  }
 ],
 "metadata": {
  "kernelspec": {
   "display_name": "Python 2",
   "language": "python",
   "name": "python2"
  },
  "language_info": {
   "codemirror_mode": {
    "name": "ipython",
    "version": 2
   },
   "file_extension": ".py",
   "mimetype": "text/x-python",
   "name": "python",
   "nbconvert_exporter": "python",
   "pygments_lexer": "ipython2",
   "version": "2.7.11"
  }
 },
 "nbformat": 4,
 "nbformat_minor": 0
}
