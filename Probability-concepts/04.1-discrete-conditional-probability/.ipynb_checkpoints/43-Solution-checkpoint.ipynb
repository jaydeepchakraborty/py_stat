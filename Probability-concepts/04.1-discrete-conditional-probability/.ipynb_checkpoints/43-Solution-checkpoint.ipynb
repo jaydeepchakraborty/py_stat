{
 "cells": [
  {
   "cell_type": "markdown",
   "metadata": {},
   "source": [
    "# The Yankees are playing the Dodgers in a world series\n",
    "\n",
    "# The Yankees win each game with a probability of 0.6\n",
    "\n",
    "# What is the probability that the Yankees win the series? (The series is won by the first team to win four games)"
   ]
  },
  {
   "cell_type": "markdown",
   "metadata": {},
   "source": [
    "___\n",
    "\n",
    "## There are 4 ways the Yankees can win the series:\n",
    "\n",
    "### 1. Win in 4 games\n",
    "\n",
    "### 2. Win in 5 games\n",
    "\n",
    "### 3. Win in 6 games\n",
    "\n",
    "### 4. Win in 7 games\n",
    "\n",
    "# We can calculate the probability of each of these events, then take the sum to solve for the total probability"
   ]
  },
  {
   "cell_type": "markdown",
   "metadata": {},
   "source": [
    "___\n",
    "## 1. Win in 4 games\n",
    "\n",
    "### This is easy to calculate the probability of (it's just like getting 4 H in a row when flipping a coin)\n",
    "\n",
    "# $P(\\text{Win in 4 games}) = (0.6)^{4} = 0.1296$"
   ]
  },
  {
   "cell_type": "markdown",
   "metadata": {},
   "source": [
    "___\n",
    "## 2. Win in 5 games\n",
    "\n",
    "### For this one, the Yankees win 3 of the first 4 games, then win the 5th game\n",
    "\n",
    "### So $P(\\text{Win in 5 games}) = P(\\text{Win 3 out of 4 games})\\cdot P(\\text{Win 5th game})$\n",
    "\n",
    "### $P(\\text{Win 3 out of 4 games})$ is simply a Binomial function with 3 successes so $P(\\text{Win 4 out of 5 games}) = b(4,0.6,3) = \\binom{4}{3}(0.6^{3})(0.4^{1}) = 0.3456$\n",
    "\n",
    "### $P(\\text{Win 5th game})$ is simply 0.6\n",
    "\n",
    "# So $P(\\text{Win in 5 games}) = (0.3456)(0.6) = 0.20736$"
   ]
  },
  {
   "cell_type": "markdown",
   "metadata": {},
   "source": [
    "___\n",
    "## 3. Win in 6 games\n",
    "\n",
    "### We use the same steps as above:\n",
    "\n",
    "### $P(\\text{Win in 6 games}) = P(\\text{Win 3 out of 5 games})\\cdot P(\\text{Win 6th game})$\n",
    "\n",
    "### $P(\\text{Win 3 out of 5 games}) = b(5,0.6,3) = 0.3456$\n",
    "\n",
    "# So $P(\\text{Win in 6 games}) = (0.3456)(0.6) = 0.20736$"
   ]
  },
  {
   "cell_type": "markdown",
   "metadata": {},
   "source": [
    "___\n",
    "## 4. Win in 7 games\n",
    "\n",
    "### $P(\\text{Win in 7 games}) = P(\\text{Win 3 out of 6 games})\\cdot P(\\text{Win 7th game})$\n",
    "\n",
    "### $P(\\text{Win 3 out of 6 games}) = b(6,0.6,3) = 0.27648$\n",
    "\n",
    "# So $P(\\text{Win in 6 games}) = (0.27648)(0.6) = 0.165888$"
   ]
  },
  {
   "cell_type": "markdown",
   "metadata": {},
   "source": [
    "___\n",
    "## Therefore $P(\\text{Yankees win}) = 0.1296+0.20736+0.20736+0.165888 = 0.710208$"
   ]
  },
  {
   "cell_type": "markdown",
   "metadata": {},
   "source": [
    "___\n",
    "\n",
    "###  Simulation"
   ]
  },
  {
   "cell_type": "code",
   "execution_count": 21,
   "metadata": {
    "collapsed": true
   },
   "outputs": [],
   "source": [
    "import numpy as np"
   ]
  },
  {
   "cell_type": "code",
   "execution_count": 46,
   "metadata": {
    "collapsed": true
   },
   "outputs": [],
   "source": [
    "def sim():\n",
    "    Y = 0\n",
    "    D = 0\n",
    "    \n",
    "    while max(Y,D)<4:\n",
    "        game = np.random.random()\n",
    "        Y += (game<0.6)\n",
    "        D += (game>=0.6)\n",
    "        \n",
    "    return Y==4"
   ]
  },
  {
   "cell_type": "code",
   "execution_count": 49,
   "metadata": {
    "collapsed": false
   },
   "outputs": [],
   "source": [
    "n_trials = 10000\n",
    "count = 0\n",
    "for n in range(n_trials):\n",
    "    count += sim()"
   ]
  },
  {
   "cell_type": "code",
   "execution_count": 50,
   "metadata": {
    "collapsed": false
   },
   "outputs": [
    {
     "data": {
      "text/plain": [
       "0.7158"
      ]
     },
     "execution_count": 50,
     "metadata": {},
     "output_type": "execute_result"
    }
   ],
   "source": [
    "count/float(n_trials)"
   ]
  },
  {
   "cell_type": "markdown",
   "metadata": {},
   "source": [
    "# Pretty close!"
   ]
  }
 ],
 "metadata": {
  "kernelspec": {
   "display_name": "Python 2",
   "language": "python",
   "name": "python2"
  },
  "language_info": {
   "codemirror_mode": {
    "name": "ipython",
    "version": 2
   },
   "file_extension": ".py",
   "mimetype": "text/x-python",
   "name": "python",
   "nbconvert_exporter": "python",
   "pygments_lexer": "ipython2",
   "version": "2.7.11"
  }
 },
 "nbformat": 4,
 "nbformat_minor": 0
}
