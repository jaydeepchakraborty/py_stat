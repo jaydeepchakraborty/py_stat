{
 "cells": [
  {
   "cell_type": "markdown",
   "metadata": {},
   "source": [
    "# If $P(\\tilde{B}) = \\frac{1}{4}$, and $P(A|B) = \\frac{1}{2}$, what is $P(A\\cap B)$?"
   ]
  },
  {
   "cell_type": "markdown",
   "metadata": {},
   "source": [
    "____\n",
    "# $P(\\tilde{B}) = \\frac{1}{4} \\implies P(B) = \\frac{3}{4}$\n",
    "\n",
    "# $P(A|B) = \\frac{P(A\\cap B)}{P(B)} \\implies P(A\\cap B) = P(A|B)P(B) = \\frac{1}{2}\\frac{3}{4} = \\frac{3}{8}$"
   ]
  }
 ],
 "metadata": {
  "kernelspec": {
   "display_name": "Python 2",
   "language": "python",
   "name": "python2"
  },
  "language_info": {
   "codemirror_mode": {
    "name": "ipython",
    "version": 2
   },
   "file_extension": ".py",
   "mimetype": "text/x-python",
   "name": "python",
   "nbconvert_exporter": "python",
   "pygments_lexer": "ipython2",
   "version": "2.7.11"
  }
 },
 "nbformat": 4,
 "nbformat_minor": 0
}
