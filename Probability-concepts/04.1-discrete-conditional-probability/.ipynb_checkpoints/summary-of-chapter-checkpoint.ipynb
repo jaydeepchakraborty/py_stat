{
 "cells": [
  {
   "cell_type": "markdown",
   "metadata": {},
   "source": [
    "### Motivating Question\n",
    "\n",
    "- Suppose we assign a distribution function to a sample space and then learn that some event $E$ has occurred\n",
    "    - **How should we change the probabilities of the remaining events?**\n",
    "    \n",
    "    \n",
    "- This is called a *conditional probability*\n",
    "    - For $P(F|E)$, the probability of event $F$ is the conditional probability given event $E$"
   ]
  },
  {
   "cell_type": "markdown",
   "metadata": {},
   "source": [
    "### Example\n",
    "\n",
    "- We have two urns, labeled I and II\n",
    "    - Urn I contains 2 black balls and 3 white balls\n",
    "    - Urn II contains 1 black ball and 1 white ball\n",
    "    \n",
    "- We pick one of the two urns at random, then draw a random ball\n",
    "\n",
    "- We can visualize the process of picking a ball with the following tree diagram:\n",
    "\n",
    "![](images/summary-1.png)"
   ]
  },
  {
   "cell_type": "markdown",
   "metadata": {
    "collapsed": true
   },
   "source": [
    "**Question 1**:\n",
    "\n",
    "a) $P(B|I)$\n",
    "\n",
    "b) $P(W|I)$\n",
    "\n",
    "c) $P(B|II)$\n",
    "\n",
    "d) $P(W|II)$"
   ]
  },
  {
   "cell_type": "markdown",
   "metadata": {},
   "source": [
    "a) $P(B|I) = \\frac{2}{5}$\n",
    "\n",
    "b) $P(W|I) = \\frac{3}{5}$\n",
    "\n",
    "c) $P(B|II) = \\frac{1}{2}$\n",
    "\n",
    "d) $P(W|II) = \\frac{1}{2}$"
   ]
  },
  {
   "cell_type": "markdown",
   "metadata": {},
   "source": [
    "- But what if we reverse this question, i.e.:\n",
    "\n",
    "**Question 2**:\n",
    "\n",
    "a) $P(I|B)$\n",
    "\n",
    "b) $P(I|W)$\n",
    "\n",
    "c) $P(II|B)$\n",
    "\n",
    "d) $P(II|W)$"
   ]
  },
  {
   "cell_type": "markdown",
   "metadata": {},
   "source": [
    "- This question is asking *\"given that we got a black/white ball, what is the probability that it was drawn from urn I/II?\"*"
   ]
  },
  {
   "cell_type": "markdown",
   "metadata": {},
   "source": [
    "a) $P(I|B) = \\frac{P(I\\cap B)}{P(B)}$\n",
    "\n",
    "- We can see from the tree above that $P(I\\cap B) = \\frac{1}{5}$\n",
    "\n",
    "- To solve for $P(B)$, we can simply take the sum of the two probabilities where the ball turned out black\n",
    "    - $P(B) = \\frac{1}{5} + \\frac{1}{4} = \\frac{9}{20}$\n",
    "    \n",
    "- Therefore $P(I|B) = \\frac{\\frac{1}{5}}{\\frac{9}{20}} = \\frac{4}{9}$\n",
    "\n",
    "b) $P(I|W) = \\frac{P(I\\cap W)}{P(W)} = \\frac{\\frac{3}{10}}{\\frac{3}{10}+\\frac{1}{4}} = \\frac{\\frac{3}{10}}{\\frac{11}{20}} = \\frac{6}{11}$\n",
    "\n",
    "c) $P(II|B) = \\frac{\\frac{1}{4}}{\\frac{9}{20}} = \\frac{5}{9}$\n",
    "\n",
    "d) $P(II|W) = \\frac{\\frac{1}{4}}{\\frac{11}{20}} = \\frac{5}{11}$"
   ]
  },
  {
   "cell_type": "markdown",
   "metadata": {},
   "source": [
    "## Bayes Probability\n",
    "\n",
    "- In **Question 1**, we asked given a specified urn being selected (Event 1), what is the probability that we'll draw a specified color ball (Event 2)\n",
    "    - In **Question 2**, we asked **given Event 2, what is the probability that Event 1 caused it?**\n",
    "        - This type of probability is called a **Bayes probability**"
   ]
  },
  {
   "cell_type": "markdown",
   "metadata": {},
   "source": [
    "___\n",
    "\n",
    "## Independent Events\n",
    "\n",
    "- If events $A$ and $B$ have no impact on eachother, then we know $P(A|B) = P(A)$\n",
    "    - We say that **events A and B are independent**\n",
    "    \n",
    "- From this, we can conclude $P(A \\cap B) = P(A)\\cdot P(B)$\n",
    "    - This is because $P(A|B) = \\frac{P(A \\cap B)}{P(B)} \\implies P(A|B)\\cdot P(B) = P(A \\cap B)$, but by definition $P(A|B) = P(A)$ therefore $P(A)\\cdot P(B) = P(A \\cap B)$\n",
    "    \n",
    "## Mutually Independent Events\n",
    "\n",
    "- If we have a set of events $\\left \\{ A_{1}, A_{2},...,A_{n} \\right \\}$, then the events in the set are called **Mutually Independent** if we can pick any of the events from the set, say $\\left \\{ A_{i}, A_{j},...,A_{m} \\right \\}$, and the following holds:\n",
    "    - $P(A_{i}\\cap A_{j} \\cap ... \\cap A_{m}) = P(A_{i})\\cdot P(A_{j})\\cdot ... \\cdot P(A_{m})$\n",
    "    \n",
    "- In other words, if any event $A_{i}$ occurs, it has no effect on the probability of any other event occurring\n",
    "\n",
    "**Examples**\n",
    "\n",
    "- If we flip a coin $n$ times, and assign events $A_{1}, A_{2},...,A_{n}$ as the probability of getting a heads on each flip, we know that event $A_{i}$ has no impact on the probability of $A_{j}$\n",
    "    - So this series of coin flips is a mutually independent set of events\n",
    "    \n",
    "- Furthermore, any series of Bernoulli trials is a set of mutually independent events"
   ]
  },
  {
   "cell_type": "markdown",
   "metadata": {},
   "source": [
    "___\n",
    "## Independent Trials\n",
    "\n",
    "- A sequence of random variables (i.e. variables whose values are assigned at random, based on their distribution) are called **independent trials** is\n",
    "    - Condition 1: The random variables are **mutually independent**\n",
    "    - Condition 2: The random variables all have **the same distribution**\n",
    "    \n",
    "- This usually means we have a single experiment repeated a number of times"
   ]
  },
  {
   "cell_type": "markdown",
   "metadata": {},
   "source": [
    "___\n",
    "## Bayes' Formula\n",
    "\n",
    "- Recall from above that a **Bayes Probability** is of the form: given the outcome of Stage 2 from a two stage experiment, **what is the probability of an outcome in Stage 1?**\n",
    "\n",
    "### Hypotheses\n",
    "\n",
    "- Each event in Stage 1 is called a **Hypothesis**\n",
    "    - The set of **Hypotheses** contains every possible outcome from Stage 1, i.e. every hypothesis\n",
    "    \n",
    "- From our example above, the set of hypotheses is {Urn I, Urn II}\n",
    "\n",
    "- The hypotheses each have a probability, called **Prior Probabilities**\n",
    "\n",
    "### Evidence\n",
    "\n",
    "- Each event in Stage 2 is called **Evidence**\n",
    "    - The set of evidence contains all possible outcomes from Stage 2\n",
    "    \n",
    "\n",
    "### Posterior Probabilities\n",
    "\n",
    "- For a given hypothesis $H_{i}$, we want to know the probability of it occuring given evidence $E$\n",
    "    - i.e. we want to know $P(H_{i}|E)$\n",
    "    \n",
    "- $P(H_{i}|E)$ is called the **Posterior Probability**"
   ]
  },
  {
   "cell_type": "markdown",
   "metadata": {},
   "source": [
    "### Example 4.17\n",
    "\n",
    "- A doctor gives a female patient a test for a particular cancer\n",
    "\n",
    "- The doctor knows that the rate of cancer in the general female population is about 1/1000\n",
    "\n",
    "- If the patient does indeed have cancer, the test correctly returns a positive result 99% of the time\n",
    "\n",
    "- If the patient doesn't have cancer, the test correctly returns a negative result 95% of the time\n",
    "\n",
    "**Question**: if the test result is positive, what is the probability that the patient actually has cancer?\n",
    "\n",
    "___\n",
    "\n",
    "- First, we summarize the probabilities we have:\n",
    "    - $P(C) = \\frac{1}{1000} \\implies P(NC) = \\frac{999}{1000}$\n",
    "    - $P(+|C) = 0.99$\n",
    "    - $P(-|NC) = 0.95 \\implies P(+|NC) = 0.05$\n",
    "    \n",
    "- The probabilitiy we're trying to solve for is $P(C|+)$\n",
    "\n",
    "- We know that $P(C|+) = \\frac{P(C \\cap +)}{P(+)}$\n",
    "\n",
    "- First, we calculate $P(+)$ as $P(+) = P(C)\\cdot P(+|C) + P(NC)\\cdot P(+|NC) = \\frac{1}{1000}\\cdot0.99 + \\frac{999}{1000}\\cdot0.05 = 0.05094$ \n",
    "\n",
    "- Next, we recall that $P(+|C) = \\frac{P(+ \\cap C)}{P(C)} \\implies P(+ \\cap C) = P(+|C)\\cdot P(C) = 0.99 \\cdot \\frac{1}{1000} = 0.00099$\n",
    "\n",
    "### Therefore $P(C|+) = \\frac{P(C \\cap +)}{P(+)} = \\frac{0.00099}{0.05094} = 0.01943462897$\n",
    "\n",
    "\n",
    "### So, our posterior probability (positive result being caused by cancer, and not an error) is only 1.94%"
   ]
  }
 ],
 "metadata": {
  "kernelspec": {
   "display_name": "Python 2",
   "language": "python",
   "name": "python2"
  },
  "language_info": {
   "codemirror_mode": {
    "name": "ipython",
    "version": 2
   },
   "file_extension": ".py",
   "mimetype": "text/x-python",
   "name": "python",
   "nbconvert_exporter": "python",
   "pygments_lexer": "ipython2",
   "version": "2.7.11"
  }
 },
 "nbformat": 4,
 "nbformat_minor": 0
}
