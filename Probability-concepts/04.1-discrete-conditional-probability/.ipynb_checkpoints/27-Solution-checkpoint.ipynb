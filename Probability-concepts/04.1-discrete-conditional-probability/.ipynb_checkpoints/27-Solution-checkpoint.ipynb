{
 "cells": [
  {
   "cell_type": "markdown",
   "metadata": {},
   "source": [
    "# In London, it rains 50% of the time\n",
    "\n",
    "# The weather forecaster is correct with her estimates 2/3 of the time (when she says it'll rain, it does 2/3 of the time; same for not raining)\n",
    "\n",
    "# When rain is in the forecast, Mr. Pickwick always takes his umbrella\n",
    "\n",
    "# When rain is not in the forecast, Mr. Pickwick takes his umbrella 1/3 of the time\n",
    "\n",
    "# Find:\n",
    "\n",
    "### a) the probability that Pickwich has no umbrella, given that it's a rainy day\n",
    "\n",
    "### b) the probability that it doesn't rain, given that he brought his umbrella"
   ]
  },
  {
   "cell_type": "markdown",
   "metadata": {},
   "source": [
    "___\n",
    "\n",
    "### Before we try to calculate anything, we can summarize the probabilities\n",
    "\n",
    "# Step 1: Rain or No Rain?\n",
    "\n",
    "### $P(\\text{No Rain}) = \\frac{1}{2}$, $P(\\text{Rain}) = \\frac{1}{2}$\n",
    "\n",
    "# Step 2: What was predicted?\n",
    "\n",
    "### $P(\\text{Predicted Rain | Rain}) = \\frac{2}{3}$, $P(\\text{Predicted No Rain | Rain}) = \\frac{1}{3}$\n",
    "\n",
    "### $P(\\text{Predicted Rain | No Rain}) = \\frac{1}{3}$, $P(\\text{Predicted No Rain | No Rain}) = \\frac{2}{3}$\n",
    "\n",
    "\n",
    "# Step 3: Did he bring an umbrella?\n",
    "\n",
    "### $P(\\text{Brought Umbrella | Predicted Rain}) = 1$\n",
    "\n",
    "### $P(\\text{Brought Umbrella | Predicted No Rain}) = \\frac{1}{3}$, $P(\\text{Didn't Bring Umbrella | Predicted No Rain}) = \\frac{2}{3}$"
   ]
  },
  {
   "cell_type": "markdown",
   "metadata": {},
   "source": [
    "### We can visualize these probabilities using a tree diagram:\n",
    "\n",
    "![](images/27-1.png)"
   ]
  },
  {
   "cell_type": "markdown",
   "metadata": {},
   "source": [
    "___\n",
    "\n",
    "# a) $P(\\text{Has no umbrella | Rainy day})$\n",
    "\n",
    "### Looking at the diagram above, we only need to look at the upper half for this question\n",
    "\n",
    "### We can calculate the probability as:\n",
    "\n",
    "$P(\\text{Has no umbrella | Rainy day}) = P(\\text{No umbrella | Rain predicted})P(\\text{Rain predicted}) + P(\\text{No umbrella | Rain not predicted})P(\\text{Rain not predicted})$\n",
    "\n",
    "$ = (0)(\\frac{2}{3}) + (\\frac{2}{3})(\\frac{1}{3}) = \\frac{2}{9}$\n",
    "\n",
    "## So if it's raining out, there's a $\\frac{2}{9}$ chance he doesn't have his umbrella"
   ]
  },
  {
   "cell_type": "markdown",
   "metadata": {},
   "source": [
    "___\n",
    "\n",
    "# b) $P(\\text{No rain | Has umbrella})$\n",
    "\n",
    "### We can invert this tree to try to solve, but instead we can plug and chug\n",
    "\n",
    "### $P(\\text{No rain | Has umbrella}) = \\frac{P(\\text{No rain }\\cap \\text{ Has umbrella})}{P(\\text{Has umbrella})}$\n",
    "\n",
    "### $P(\\text{No rain }\\cap \\text{ Has umbrella}) = P(\\text{Has Umbrella | No rain})P(\\text{No rain}) = [(\\frac{1}{3})(1) + (\\frac{2}{3})(\\frac{1}{3})](\\frac{1}{2}) = \\frac{5}{18}$\n",
    "\n",
    "### $P(\\text{Has umbrella}) = (\\frac{1}{2})[\\frac{2}{3} + \\frac{1}{3}\\frac{1}{3}] + \\frac{1}{2}[\\frac{1}{3} + \\frac{2}{3}\\frac{1}{3}] = \\frac{2}{3}$\n",
    "\n",
    "### Combining it all : $(\\text{No rain | Has umbrella}) = \\frac{P(\\text{No rain }\\cap \\text{ Has umbrella})}{P(\\text{Has umbrella})} = \\frac{\\frac{5}{18}}{\\frac{2}{3}} = \\frac{5}{12}$"
   ]
  }
 ],
 "metadata": {
  "kernelspec": {
   "display_name": "Python 2",
   "language": "python",
   "name": "python2"
  },
  "language_info": {
   "codemirror_mode": {
    "name": "ipython",
    "version": 2
   },
   "file_extension": ".py",
   "mimetype": "text/x-python",
   "name": "python",
   "nbconvert_exporter": "python",
   "pygments_lexer": "ipython2",
   "version": "2.7.11"
  }
 },
 "nbformat": 4,
 "nbformat_minor": 0
}
