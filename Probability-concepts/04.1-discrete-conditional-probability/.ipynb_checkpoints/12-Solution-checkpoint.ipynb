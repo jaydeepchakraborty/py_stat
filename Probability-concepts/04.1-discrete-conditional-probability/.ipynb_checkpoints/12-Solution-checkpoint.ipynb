{
 "cells": [
  {
   "cell_type": "markdown",
   "metadata": {},
   "source": [
    "# In Example 4.17, how large must the prior probability of cancer be to give a posterior probability of 0.5 for cancer given a positive test?"
   ]
  },
  {
   "cell_type": "markdown",
   "metadata": {},
   "source": [
    "___\n",
    "# Recall: [Example 4.17](summary-of-chapter.ipynb#Example-4.17)\n",
    "\n",
    "# $P(+|C) = 0.99$\n",
    "    \n",
    "# $P(-|NC) = 0.95 \\implies P(+|NC) = 0.05$"
   ]
  },
  {
   "cell_type": "markdown",
   "metadata": {},
   "source": [
    "## What the question is asking: how big does $P(C)$ need to be such that $P(C|+) = 0.5$\n",
    "\n",
    "\n",
    "### Recall: $P(C|+) = \\frac{P(C \\cap +)}{P(+)}$, and $P(C \\cap +) = P(+|C)P(C)$, $P(+) = P(C)P(+|C) + P(NC)P(+|NC)$"
   ]
  },
  {
   "cell_type": "markdown",
   "metadata": {},
   "source": [
    "## So, we need to solve for $P(C)$ in $0.5 = \\frac{P(+|C)P(C)}{P(C)P(+|C) + P(NC)P(+|NC)} = \\frac{0.99P(C)}{0.99P(C)+0.05(1-P(C))}$\n",
    "\n",
    "### $\\implies \\frac{0.99P(C)}{0.5} = 0.99P(C) + 0.05 - 0.05P(C) \\implies 1.98P(C) - 0.99P(C) + 0.05P(C) = 0.05$\n",
    "\n",
    "### $\\implies P(C) = \\frac{0.05}{1.04} = 0.0480769$\n",
    "\n",
    "## Therefore if $P(C) = 0.0481$, then $P(C|+) = 0.5$"
   ]
  }
 ],
 "metadata": {
  "kernelspec": {
   "display_name": "Python 2",
   "language": "python",
   "name": "python2"
  },
  "language_info": {
   "codemirror_mode": {
    "name": "ipython",
    "version": 2
   },
   "file_extension": ".py",
   "mimetype": "text/x-python",
   "name": "python",
   "nbconvert_exporter": "python",
   "pygments_lexer": "ipython2",
   "version": "2.7.11"
  }
 },
 "nbformat": 4,
 "nbformat_minor": 0
}
