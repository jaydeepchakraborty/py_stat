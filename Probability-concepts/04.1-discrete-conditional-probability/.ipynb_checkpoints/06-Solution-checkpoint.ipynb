{
 "cells": [
  {
   "cell_type": "markdown",
   "metadata": {
    "collapsed": true
   },
   "source": [
    "# From a deck of five cards numbered 2, 4, 6, 8, 10, a card is drawn at random and replaced\n",
    "\n",
    "\n",
    "# This is done three times\n",
    "\n",
    "# What is the probability that the card numbered 2 was drawn exactly two times, given that the sum of the numbers for the three draws is 12?"
   ]
  },
  {
   "cell_type": "markdown",
   "metadata": {},
   "source": [
    "___\n",
    "\n",
    "### First we consider: how can we make 12 from drawing three cards?\n",
    "\n",
    "**Possible Combinations (in descending order, not order of draw)**\n",
    "\n",
    "- 8, 2, 2\n",
    "- 6, 4, 2\n",
    "- 4, 4, 4\n",
    "\n",
    "### So there are only three ways get a sum of 12\n",
    "\n",
    "- There are 3 ways to draw an 8 and two 2s ([8,2,2], [2,8,2], [2,2,8], or $\\binom{3}{1}$ i.e. where to place the 8)\n",
    "- There are 6 ways to draw a 6, a 4, and a 2 (3!, since they're all distinct)\n",
    "- There's only one way to choose three 4s ([4,4,4])\n",
    "\n",
    "### So there are 3+6+1 = 10 distinct ways to get a sum of 12, and three of them satisfy our condition\n",
    "\n",
    "## Therefore $P(\\text{ Drawing two 2s | Sum = 12}) = \\frac{3}{10}$"
   ]
  },
  {
   "cell_type": "markdown",
   "metadata": {},
   "source": [
    "___\n",
    "\n",
    "### We can confirm this result by simulation"
   ]
  },
  {
   "cell_type": "code",
   "execution_count": 1,
   "metadata": {
    "collapsed": true
   },
   "outputs": [],
   "source": [
    "import numpy as np"
   ]
  },
  {
   "cell_type": "code",
   "execution_count": 23,
   "metadata": {
    "collapsed": false
   },
   "outputs": [],
   "source": [
    "def sim(n):\n",
    "    i = 0\n",
    "    count = 0\n",
    "    while i<=n:\n",
    "        array = np.random.choice([2,4,6,8,10], size = 3)\n",
    "        if np.sum(array)==12:\n",
    "            i+=1\n",
    "            if np.sum(array==2)==2:\n",
    "                count+=1\n",
    "    return float(count)/n"
   ]
  },
  {
   "cell_type": "code",
   "execution_count": 26,
   "metadata": {
    "collapsed": false
   },
   "outputs": [
    {
     "data": {
      "text/plain": [
       "0.308"
      ]
     },
     "execution_count": 26,
     "metadata": {},
     "output_type": "execute_result"
    }
   ],
   "source": [
    "sim(1000)"
   ]
  },
  {
   "cell_type": "markdown",
   "metadata": {},
   "source": [
    "**Close enough**\n",
    "\n",
    "- Furthermore, we can look at the combinations:"
   ]
  },
  {
   "cell_type": "code",
   "execution_count": 25,
   "metadata": {
    "collapsed": false
   },
   "outputs": [
    {
     "name": "stdout",
     "output_type": "stream",
     "text": [
      "(2, 2, 8)\n",
      "(2, 4, 6)\n",
      "(2, 6, 4)\n",
      "(2, 8, 2)\n",
      "(4, 2, 6)\n",
      "(4, 4, 4)\n",
      "(4, 6, 2)\n",
      "(6, 2, 4)\n",
      "(6, 4, 2)\n",
      "(8, 2, 2)\n"
     ]
    }
   ],
   "source": [
    "for i in [2,4,6,8,10]:\n",
    "    for j in [2,4,6,8,10]:\n",
    "        for k in [2,4,6,8,10]:\n",
    "            if i+j+k==12:\n",
    "                print(i,j,k)"
   ]
  }
 ],
 "metadata": {
  "kernelspec": {
   "display_name": "Python 2",
   "language": "python",
   "name": "python2"
  },
  "language_info": {
   "codemirror_mode": {
    "name": "ipython",
    "version": 2
   },
   "file_extension": ".py",
   "mimetype": "text/x-python",
   "name": "python",
   "nbconvert_exporter": "python",
   "pygments_lexer": "ipython2",
   "version": "2.7.11"
  }
 },
 "nbformat": 4,
 "nbformat_minor": 0
}
