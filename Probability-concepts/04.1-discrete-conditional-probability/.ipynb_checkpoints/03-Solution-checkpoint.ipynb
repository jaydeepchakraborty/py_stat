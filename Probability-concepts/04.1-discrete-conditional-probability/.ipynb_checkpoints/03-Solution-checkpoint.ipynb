{
 "cells": [
  {
   "cell_type": "markdown",
   "metadata": {},
   "source": [
    "# A die is rolled twice\n",
    "\n",
    "# What is the probability that the sum of the faces is greater than 7, given that:\n",
    "\n",
    "## a) The first roll was a 4\n",
    "\n",
    "## b) The first roll was greater than 3\n",
    "\n",
    "## c) The first roll was a 1\n",
    "\n",
    "## d) The first roll was less than 5"
   ]
  },
  {
   "cell_type": "markdown",
   "metadata": {},
   "source": [
    "___\n",
    "\n",
    "# a)\n",
    "\n",
    "# If the first roll was a 4, then the possible rolls that make a sum greater than 7 are 4, 5, and 6\n",
    "\n",
    "# There are 6 possible second rolls\n",
    "\n",
    "# So $P(\\text{Sum>7}) = \\frac{3}{6} = \\frac{1}{2}$"
   ]
  },
  {
   "cell_type": "markdown",
   "metadata": {},
   "source": [
    "___\n",
    "# b)\n",
    "\n",
    "# If the first roll was greater than 3, there are 3 possible first rolls\n",
    "\n",
    "### i) 4, ii) 5,  iii) 6\n",
    "\n",
    "### The probability of each is 1/3 (since we know the roll is greater than 3)\n",
    "\n",
    "### i) 4\n",
    "\n",
    "- If the first roll is 4, then the second roll must be a 4, 5, or 6 so $P(\\text{Sum>7 | 4 on first roll}) = \\frac{1}{2}$\n",
    "\n",
    "### ii) 5\n",
    "\n",
    "- If the first roll is a 5, then the second roll must be a 3, 4, 5, or 6: $P(\\text{Sum>7 | 4 on first roll}) = \\frac{2}{3}$\n",
    "\n",
    "### ii) 6\n",
    "\n",
    "- If the first roll is a 5, then the second roll must be a 2, 3, 4, 5, or 6: $P(\\text{Sum>7 | 4 on first roll}) = \\frac{5}{6}$\n",
    "\n",
    "So $P(\\text{Sum>7 | Roll 1 > 3}) = P(\\text{Roll 1 = 4})\\cdot P(\\text{Sum>7|Roll 1 = 4}) + P(\\text{Roll 1 = 5})\\cdot P(\\text{Sum>7|Roll 1 = 5}) + P(\\text{Roll 1 = 6})\\cdot P(\\text{Sum>7|Roll 1 = 6})$\n",
    "\n",
    "$= \\frac{1}{3} \\cdot \\left (\\frac{1}{2} +  \\frac{2}{3} +  \\frac{5}{6} \\right) = \\frac{2}{3}$"
   ]
  },
  {
   "cell_type": "markdown",
   "metadata": {},
   "source": [
    "___\n",
    "# c)\n",
    "\n",
    "# If the first roll was a 1, then even if you roll a 6 on the second roll, you won't satisfy the condition\n",
    "\n",
    "# So $P(\\text{Sum>7 | Roll 1 = 1}) = 0$"
   ]
  },
  {
   "cell_type": "markdown",
   "metadata": {},
   "source": [
    "___\n",
    "# d)\n",
    "\n",
    "### There are 4 ways the first roll can be less than 5: i) 4, ii) 3, iii) 2, iv) 1\n",
    "\n",
    "### From a), we know $P(\\text{Sum>7 | Roll 1 = 4}) = \\frac{1}{2}$\n",
    "\n",
    "### From c, we know that $P(\\text{Sum>7 | Roll 1 = 1}) = 0$\n",
    "\n",
    "### For Roll 1 = 3, we'd need a 5 or 6 to satisfy the condition so $P(\\text{Sum>7 | Roll 1 = 3}) = \\frac{1}{3}$\n",
    "\n",
    "### For Roll 1 = 2, we'd need a 6 to satisfy the condition so $P(\\text{Sum>7 | Roll 1 = 2}) = \\frac{1}{6}$\n",
    "\n",
    "### So $P(\\text{Sum>7 | Roll 1 <5}) = \\frac{1}{4} \\left (  \\frac{1}{2} + 0 + \\frac{1}{3} + \\frac{1}{6} \\right ) = \\frac{1}{4}$"
   ]
  }
 ],
 "metadata": {
  "kernelspec": {
   "display_name": "Python 2",
   "language": "python",
   "name": "python2"
  },
  "language_info": {
   "codemirror_mode": {
    "name": "ipython",
    "version": 2
   },
   "file_extension": ".py",
   "mimetype": "text/x-python",
   "name": "python",
   "nbconvert_exporter": "python",
   "pygments_lexer": "ipython2",
   "version": "2.7.11"
  }
 },
 "nbformat": 4,
 "nbformat_minor": 0
}
