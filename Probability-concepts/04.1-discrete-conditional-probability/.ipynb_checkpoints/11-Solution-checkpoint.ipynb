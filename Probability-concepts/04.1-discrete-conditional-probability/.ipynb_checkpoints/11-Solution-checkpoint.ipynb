{
 "cells": [
  {
   "cell_type": "markdown",
   "metadata": {},
   "source": [
    "# Simulate the Monty Hall problem\n",
    "\n",
    "# Carefully state any assumptions that you have made when writing the program\n",
    "\n",
    "# Which version of the problem do you think you are simulating?"
   ]
  },
  {
   "cell_type": "markdown",
   "metadata": {},
   "source": [
    "___\n",
    "\n",
    "# Step 1: Assign the car behind a random door\n",
    "\n",
    "# Step 2: Pick a random door\n",
    "\n",
    "# Step 3: Eliminate one of the doors that doesn't have the car behind it (chosen randomly)\n",
    "\n",
    "# Step 4: Change choices\n",
    "\n",
    "# Step 5: Tally passes/fails"
   ]
  },
  {
   "cell_type": "code",
   "execution_count": 1,
   "metadata": {
    "collapsed": true
   },
   "outputs": [],
   "source": [
    "import numpy as np"
   ]
  },
  {
   "cell_type": "code",
   "execution_count": 2,
   "metadata": {
    "collapsed": true
   },
   "outputs": [],
   "source": [
    "def sim(n):\n",
    "    count = 0\n",
    "    for i in range(n):\n",
    "        door_w_car = np.random.choice([1,2,3])\n",
    "        first_choice = np.random.choice([1,2,3])\n",
    "        \n",
    "        door_removed = np.random.choice([x for x in [1,2,3] if (x!=door_w_car)&(x!=first_choice)])\n",
    "        \n",
    "        new_choice = [x for x in [1,2,3] if (x!=door_removed)&(x!=first_choice)][0]\n",
    "        \n",
    "        if new_choice == door_w_car:\n",
    "            count+=1\n",
    "            \n",
    "    return float(count)/n"
   ]
  },
  {
   "cell_type": "code",
   "execution_count": 6,
   "metadata": {
    "collapsed": false
   },
   "outputs": [
    {
     "data": {
      "text/plain": [
       "0.6686"
      ]
     },
     "execution_count": 6,
     "metadata": {},
     "output_type": "execute_result"
    }
   ],
   "source": [
    "sim(10000)"
   ]
  },
  {
   "cell_type": "markdown",
   "metadata": {},
   "source": [
    "# Seems to agree"
   ]
  }
 ],
 "metadata": {
  "kernelspec": {
   "display_name": "Python 2",
   "language": "python",
   "name": "python2"
  },
  "language_info": {
   "codemirror_mode": {
    "name": "ipython",
    "version": 2
   },
   "file_extension": ".py",
   "mimetype": "text/x-python",
   "name": "python",
   "nbconvert_exporter": "python",
   "pygments_lexer": "ipython2",
   "version": "2.7.11"
  }
 },
 "nbformat": 4,
 "nbformat_minor": 0
}
