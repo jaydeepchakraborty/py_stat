{
 "cells": [
  {
   "cell_type": "markdown",
   "metadata": {},
   "source": [
    "# A card is drawn at random from a deck of cards\n",
    "\n",
    "# What is the probability that:\n",
    "\n",
    "### a) it is a heart, given that it is red?\n",
    "\n",
    "### b) it is higher than a 10, given that it's a heart (assuming J, Q, K, and A are 11, 12, 13, and 14)\n",
    "\n",
    "### c) it is a jack, given that it is red?"
   ]
  },
  {
   "cell_type": "markdown",
   "metadata": {},
   "source": [
    "___\n",
    "# a)\n",
    "\n",
    "# There are two red suits: heart and diamond\n",
    "\n",
    "# Therefore $P(\\text{Heart | Red}) = \\frac{1}{2}$"
   ]
  },
  {
   "cell_type": "markdown",
   "metadata": {},
   "source": [
    "___\n",
    "# b)\n",
    "\n",
    "# Of the 13 cards of the heart suit, 4 are higher than 10\n",
    "\n",
    "# Therefore $P(\\text{>10 | Heart}) = \\frac{4}{13}$"
   ]
  },
  {
   "cell_type": "markdown",
   "metadata": {},
   "source": [
    "___\n",
    "# c)\n",
    "\n",
    "# Of the 26 red cards in the deck, two are jacks\n",
    "\n",
    "# Therefore $P(\\text{Jack | Red} = \\frac{2}{26} =\\frac{1}{13}$"
   ]
  }
 ],
 "metadata": {
  "kernelspec": {
   "display_name": "Python 2",
   "language": "python",
   "name": "python2"
  },
  "language_info": {
   "codemirror_mode": {
    "name": "ipython",
    "version": 2
   },
   "file_extension": ".py",
   "mimetype": "text/x-python",
   "name": "python",
   "nbconvert_exporter": "python",
   "pygments_lexer": "ipython2",
   "version": "2.7.11"
  }
 },
 "nbformat": 4,
 "nbformat_minor": 0
}
