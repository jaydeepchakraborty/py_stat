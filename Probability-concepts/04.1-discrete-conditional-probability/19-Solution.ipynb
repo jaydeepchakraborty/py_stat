{
 "cells": [
  {
   "cell_type": "markdown",
   "metadata": {},
   "source": [
    "# In a poker had, John has a very strong hand and bets 5 dollars\n",
    "\n",
    "# The probability that Mary has a better hand is 0.4\n",
    "\n",
    "# If Mary had a better hand, the probability that she would raise is 0.9\n",
    "\n",
    "# If Mary had a worse hand, the probability that she would raise is 0.1\n",
    "\n",
    "# Given that Mary did raise, what's the probability that she has a better hand than John?"
   ]
  },
  {
   "cell_type": "markdown",
   "metadata": {},
   "source": [
    "___\n",
    "\n",
    "# First, we'll summarize our probabilities\n",
    "\n",
    "## $P(\\text{Mary has better hand}) = 0.04 \\implies P(\\text{Mary has worse hand}) = 1-0.4 = 0.96$\n",
    "\n",
    "## $P(\\text{Mary would raise | Mary has better hand}) = 0.9$\n",
    "\n",
    "## $P(\\text{Mary would raise | Mary has worse hand}) = 0.1$\n",
    "\n",
    "# We can use these to calculate $P(\\text{Mary would raise})$:\n",
    "\n",
    "$P(\\text{M would raise}) = P(\\text{M has better hand})P(\\text{M would raise | M has better hand}) + P(\\text{M would raise | M has worse hand})P(\\text{M has worse hand})$\n",
    "\n",
    "$ = (0.04)(0.9) + (0.96)(0.1) = 0.036 + 0.06 = 0.132$\n",
    "\n",
    "\n",
    "# Using this probability, we can calculate $P(\\text{M has better hand| M did raise})$:\n",
    "\n",
    " $P(\\text{M has better hand| M did raise}) = \\frac{\\text{P(M has better hand} \\cap\\text{ M raised})}{P(\\text{M raised})} = \\frac{(0.04)(0.9)}{0.132} = 0.\\bar{27}$"
   ]
  }
 ],
 "metadata": {
  "kernelspec": {
   "display_name": "Python 3",
   "language": "python",
   "name": "python3"
  },
  "language_info": {
   "codemirror_mode": {
    "name": "ipython",
    "version": 3
   },
   "file_extension": ".py",
   "mimetype": "text/x-python",
   "name": "python",
   "nbconvert_exporter": "python",
   "pygments_lexer": "ipython3",
   "version": "3.6.4"
  }
 },
 "nbformat": 4,
 "nbformat_minor": 2
}
