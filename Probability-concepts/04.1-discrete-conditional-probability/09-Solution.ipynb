{
 "cells": [
  {
   "cell_type": "markdown",
   "metadata": {},
   "source": [
    "# What is the probability that a family of two children has\n",
    "\n",
    "## a) two boys given that it has at least one boy?\n",
    "\n",
    "## b) two boys given that the first child is a boy?"
   ]
  },
  {
   "cell_type": "markdown",
   "metadata": {},
   "source": [
    "___\n",
    "# a)\n",
    "\n",
    "### There are 4 ways the family can have children:\n",
    "\n",
    "1. BB\n",
    "2. BG\n",
    "3. GB\n",
    "4. GG\n",
    "\n",
    "### So $\\left \\{ \\text{At least one is a boy} \\right \\} = \\left \\{ BB, BG, GB \\right \\} \\implies P(\\text{Two boys | At least one boy}) = \\frac{1}{3}$ "
   ]
  },
  {
   "cell_type": "markdown",
   "metadata": {},
   "source": [
    "___\n",
    "# b)\n",
    "\n",
    "### $\\left \\{ \\text{First child is a boy} \\right \\} = \\left \\{ BB, BG \\right \\} \\implies P(\\text{Two boys | 1st is a boy}) = \\frac{1}{2}$ "
   ]
  }
 ],
 "metadata": {
  "kernelspec": {
   "display_name": "Python 2",
   "language": "python",
   "name": "python2"
  },
  "language_info": {
   "codemirror_mode": {
    "name": "ipython",
    "version": 2
   },
   "file_extension": ".py",
   "mimetype": "text/x-python",
   "name": "python",
   "nbconvert_exporter": "python",
   "pygments_lexer": "ipython2",
   "version": "2.7.11"
  }
 },
 "nbformat": 4,
 "nbformat_minor": 0
}
