{
 "cells": [
  {
   "cell_type": "markdown",
   "metadata": {},
   "source": [
    "# Definition - *Random Walks*\n",
    "\n",
    "### Let $\\left \\{X_{1},X_{2},...\\right \\}$ be a sequence of independent, indentically distributed random variables\n",
    "\n",
    "### Let $S_{n} = X_{1}+X_{2}+...+X_{n}$\n",
    "\n",
    "###  $\\left \\{S_{1}, S_{2}, ...., S_{n} \\right \\}$ is called a random walk\n",
    "\n",
    "### If each $X_{i}$ is an element of $\\mathbb{R}^{n}$ then we say it's a random walk on $\\mathbb{R}^{n}$"
   ]
  },
  {
   "cell_type": "markdown",
   "metadata": {},
   "source": [
    "### We think of the $X_{i}$ values as the outcomes of independent experiments"
   ]
  },
  {
   "cell_type": "markdown",
   "metadata": {},
   "source": [
    "____\n",
    "\n",
    "# *Returns and First Returns*"
   ]
  },
  {
   "cell_type": "markdown",
   "metadata": {},
   "source": [
    "### If $S_{n} = 0$, it means that after $n$ steps, we've returned to where we started\n",
    "\n",
    "### This is called *equalization*, or a *return to origin*"
   ]
  },
  {
   "cell_type": "markdown",
   "metadata": {},
   "source": [
    "### Note: to return to origin, for each step away, we need a step back, therefore $S_{n} = 0 \\implies n$ is even"
   ]
  },
  {
   "cell_type": "markdown",
   "metadata": {},
   "source": [
    "### To calculate the probability that $S_{2m} = 0$, we need to first count the number of paths of length $2m$ that return to the origin"
   ]
  },
  {
   "cell_type": "markdown",
   "metadata": {},
   "source": [
    "### If a path of $2m$ steps returns to the origin, it takes $m$ steps in one direction, and $m$ steps in the other\n",
    "\n",
    "### The order in which the steps are taken is not important, therefore the number of ways we can take $2m$ steps with $m$ of them in a one direction (and hence the other $n$ in the other) is equal to $\\binom{2n}{n}$"
   ]
  },
  {
   "cell_type": "markdown",
   "metadata": {},
   "source": [
    "____\n",
    "\n",
    "## Example\n",
    "\n",
    "### If our random walk has 10 steps, then $10 = 2m \\implies m = 5$\n",
    "\n",
    "### So we want to count the number of different paths return us to the origin\n",
    "\n",
    "### We can think of this as having 10 slots, and assigning flags to 5 of them i.e. $\\binom{10}{5} = 252$"
   ]
  },
  {
   "cell_type": "markdown",
   "metadata": {},
   "source": [
    "_____\n",
    "\n",
    "### For each step in a path of length $2m$, we can either take a step forward, or backwards (i.e. 2 options)\n",
    "\n",
    "### Therefore, for a path of length $2m$, there are $2^{2m}$ distinct paths\n",
    "\n",
    "### This means that the probability of a random walk being a specific path is equal to $\\frac{1}{2^{2m}}$"
   ]
  },
  {
   "cell_type": "markdown",
   "metadata": {},
   "source": [
    "____\n",
    "\n",
    "# Theorem 12.1"
   ]
  },
  {
   "cell_type": "markdown",
   "metadata": {},
   "source": [
    "## $\\implies P(S_{2m}=0) = u_{2m} = \\binom{2m}{m}\\cdot\\frac{1}{2^{2m}}$"
   ]
  },
  {
   "cell_type": "markdown",
   "metadata": {},
   "source": [
    "_____\n",
    "\n",
    "### A random walk is said to have a *first return* if $S_{2m}=0$ and there is no $k<m$ such that $S_{2k} = 0$"
   ]
  },
  {
   "cell_type": "markdown",
   "metadata": {},
   "source": [
    "## We define $f_{2m}$ as the probability that the first return occurs at time $2m$"
   ]
  },
  {
   "cell_type": "markdown",
   "metadata": {},
   "source": [
    "### Since there are $2^{2m}$ possible paths of length $2m$, we know that the number of ways a first return can occur at $2m$ is equal to $2^{2m}\\cdot f_{2m}$"
   ]
  },
  {
   "cell_type": "markdown",
   "metadata": {},
   "source": [
    "### Now, we can think of each return to origin as linear combinations of first returns\n",
    "\n",
    "\n",
    "_____\n",
    "\n",
    "# Theorem 12.2\n",
    "\n",
    "# $u_{2m} = f_{0}u_{2m} + f_{2}u_{2m-2} + f_{4}u{2m-4} + ... + f_{2n}u_{0}$"
   ]
  },
  {
   "cell_type": "markdown",
   "metadata": {},
   "source": [
    "____\n",
    "\n",
    "### The expression above looks a lot like a convolution of two distributions"
   ]
  },
  {
   "cell_type": "markdown",
   "metadata": {},
   "source": [
    "____\n",
    "\n",
    "# Theorem 12.3\n",
    "\n",
    "### For $m\\geq 1$, the probability of a first return to the origin at time $2m$ is given by\n",
    "\n",
    "# $f_{2m} = \\frac{u_{2m}}{2m-1} = \\frac{\\binom{2m}{m}}{2^{2m}(2m-1)}$"
   ]
  },
  {
   "cell_type": "markdown",
   "metadata": {},
   "source": [
    "_____\n",
    "\n",
    "# *Probability of Eventual Return*"
   ]
  },
  {
   "cell_type": "markdown",
   "metadata": {},
   "source": [
    "## Example\n",
    "\n",
    "### Let $w_{n}$ be the probability that a first return occurred at some time $k \\leq n$"
   ]
  },
  {
   "cell_type": "markdown",
   "metadata": {},
   "source": [
    "# Let $w_{*} = \\lim_{n\\rightarrow \\infty}w_{n}$"
   ]
  },
  {
   "cell_type": "markdown",
   "metadata": {},
   "source": [
    "### This is the probability that a particle will eventually return to the origin once it leaves"
   ]
  },
  {
   "cell_type": "markdown",
   "metadata": {},
   "source": [
    "# $w_{2m} = \\sum_{i=1}^{n}f_{2i} \\implies w_{*} = \\sum_{i=1}^{\\infty}f_{2i} = \\sum_{i=1}^{\\infty}\\frac{\\binom{2i}{i}}{2^{2i}(2i-1)}$"
   ]
  },
  {
   "cell_type": "markdown",
   "metadata": {},
   "source": [
    "### We'll skip the proof that this converges i.e. $w_{*}=1$ in $\\mathbb{R}^{1}$"
   ]
  },
  {
   "cell_type": "markdown",
   "metadata": {},
   "source": [
    "### We'll also skip this for $\\mathbb{R}^{n}$\n",
    "\n",
    "### We just need to know that it converges when $n=2$ but not for greater values"
   ]
  }
 ],
 "metadata": {
  "kernelspec": {
   "display_name": "Python 2",
   "language": "python",
   "name": "python2"
  },
  "language_info": {
   "codemirror_mode": {
    "name": "ipython",
    "version": 2
   },
   "file_extension": ".py",
   "mimetype": "text/x-python",
   "name": "python",
   "nbconvert_exporter": "python",
   "pygments_lexer": "ipython2",
   "version": "2.7.11"
  }
 },
 "nbformat": 4,
 "nbformat_minor": 0
}
