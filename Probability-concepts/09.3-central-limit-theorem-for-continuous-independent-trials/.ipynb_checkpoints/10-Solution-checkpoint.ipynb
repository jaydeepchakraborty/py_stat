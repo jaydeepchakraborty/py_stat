{
 "cells": [
  {
   "cell_type": "markdown",
   "metadata": {},
   "source": [
    "# A surveyor is measuring the height of a cliff known to be about 1000 ft tall\n",
    "\n",
    "# He assumes his instruments are properly calibrate and that his measurement errors have $\\mu = 0$ and $\\sigma = \\sqrt{10}$\n",
    "\n",
    "# He plans to take $n$ measurements then calculate the average\n",
    "\n",
    "# Estimate using:\n",
    "\n",
    "## a) Chebyshev's inequality, and\n",
    "## b) the normal approximation\n",
    "\n",
    "# how large $n$ should be to be 95% sure that his average falls within 1 ft of the true value\n",
    "\n",
    "# Now, using a) and b), what value should $\\sigma^{2}$ have if he wants to make only 10 measurements with the same confidence?"
   ]
  },
  {
   "cell_type": "markdown",
   "metadata": {},
   "source": [
    "_______\n",
    "\n",
    "# a)\n",
    "\n",
    "# Recall: Chebyshev's inequality says that $P(|X-\\mu| \\geq k\\sigma) \\leq \\frac{1}{k^{2}}$\n",
    "\n",
    "# We want to be 95% sure our estimate is right, therefore we need to solve for $k$ such that\n",
    "\n",
    "# $\\frac{1}{k^{2}} = 0.05 \\implies k = \\sqrt{1/0.05} = \\sqrt{20} \\approx 4.47$"
   ]
  },
  {
   "cell_type": "markdown",
   "metadata": {},
   "source": [
    "# We know that for $A_{n}$, $\\sigma_{A_{n}} = \\frac{\\sigma}{\\sqrt{n}}$ therefore we need to solve for $n$ such that $1 = 4.47 \\cdot  \\frac{\\sigma}{\\sqrt{n}}$"
   ]
  },
  {
   "cell_type": "markdown",
   "metadata": {},
   "source": [
    "# $\\implies \\sqrt{n} = 4.47\\cdot \\sqrt{10} \\implies n = 200$"
   ]
  },
  {
   "cell_type": "markdown",
   "metadata": {},
   "source": [
    "# Therefore, using Chebyshev's inequality, we'd need to take 200 measurements"
   ]
  },
  {
   "cell_type": "markdown",
   "metadata": {},
   "source": [
    "_________\n",
    "\n",
    "# b)\n",
    "\n",
    "# Recall: using the normal approximation, 95% of values lie within 1.96 standard deviations from the mean\n",
    "\n",
    "# So we swap out the 4.47 with 1.96 in our calculations above"
   ]
  },
  {
   "cell_type": "markdown",
   "metadata": {},
   "source": [
    "# $\\implies \\sqrt{n} = 1.96\\cdot \\sqrt{10} \\implies n = 38.416 \\approx 39$"
   ]
  },
  {
   "cell_type": "markdown",
   "metadata": {},
   "source": [
    "# Therefore, using the normal approximation, we'd need to take 39 measurements"
   ]
  },
  {
   "cell_type": "markdown",
   "metadata": {},
   "source": [
    "______\n",
    "\n",
    "# Now, intead of solving for $n$, we solve for $\\sigma$ with $n=10$"
   ]
  },
  {
   "cell_type": "markdown",
   "metadata": {},
   "source": [
    "## a) Chebyshev\n",
    "\n",
    "## $ 1 = 4.47 \\cdot \\frac{\\sigma}{\\sqrt{10}} \\implies \\sigma = \\frac{\\sqrt{10}}{4.47} = 0.707445$\n",
    "\n",
    "## b) normal\n",
    "\n",
    "## $ 1 = 1.96 \\cdot \\frac{\\sigma}{\\sqrt{10}} \\implies \\sigma = \\frac{\\sqrt{10}}{1.96} = 1.6134$"
   ]
  }
 ],
 "metadata": {
  "kernelspec": {
   "display_name": "Python 2",
   "language": "python",
   "name": "python2"
  },
  "language_info": {
   "codemirror_mode": {
    "name": "ipython",
    "version": 2
   },
   "file_extension": ".py",
   "mimetype": "text/x-python",
   "name": "python",
   "nbconvert_exporter": "python",
   "pygments_lexer": "ipython2",
   "version": "2.7.11"
  }
 },
 "nbformat": 4,
 "nbformat_minor": 0
}
