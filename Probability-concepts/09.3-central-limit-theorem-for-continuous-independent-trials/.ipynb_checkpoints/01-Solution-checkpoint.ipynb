{
 "cells": [
  {
   "cell_type": "markdown",
   "metadata": {},
   "source": [
    "# Let $X$ be a continuous random variable with mean $\\mu$ and variance $\\sigma^{2}$\n",
    "\n",
    "# Let $X^{*} = \\frac{X-\\mu}{\\sigma}$\n",
    "\n",
    "# Verify directly that $E(X^{*}) = 0$ and $V(X^{*}) = 1$"
   ]
  },
  {
   "cell_type": "markdown",
   "metadata": {},
   "source": [
    "________\n",
    "\n",
    "\n",
    "# $E(X^{*}) = E(\\frac{X-\\mu}{\\sigma}) = \\frac{1}{\\sigma}E(X-\\mu) = \\frac{1}{\\sigma}\\left (E(X) - \\mu \\right ) = \\frac{1}{\\sigma}\\left (\\mu - \\mu \\right ) = 0$\n",
    "\n",
    "# $V(X^{*}) = V(\\frac{X-\\mu}{\\sigma}) = \\frac{1}{\\sigma^{2}}V(X-\\mu) = \\frac{1}{\\sigma^{2}}(V(X)) = \\frac{\\sigma^{2}}{\\sigma^{2}} = 1$"
   ]
  }
 ],
 "metadata": {
  "kernelspec": {
   "display_name": "Python 2",
   "language": "python",
   "name": "python2"
  },
  "language_info": {
   "codemirror_mode": {
    "name": "ipython",
    "version": 2
   },
   "file_extension": ".py",
   "mimetype": "text/x-python",
   "name": "python",
   "nbconvert_exporter": "python",
   "pygments_lexer": "ipython2",
   "version": "2.7.11"
  }
 },
 "nbformat": 4,
 "nbformat_minor": 0
}
