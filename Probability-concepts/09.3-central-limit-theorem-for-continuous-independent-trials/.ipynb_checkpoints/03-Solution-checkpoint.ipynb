{
 "cells": [
  {
   "cell_type": "markdown",
   "metadata": {},
   "source": [
    "# Let $X_{i}$ be random variables with mean $\\mu$ and variance $\\sigma^{2}$\n",
    "\n",
    "# Let $S_{n} = \\sum X_{i}$ and $T_{n} = \\sum X^{*}_{i}$ while $S^{*}_{n}$ and $T^{*}_{n}$ be their standardized versions\n",
    "\n",
    "# Show that $S^{*}_{n} = T^{*}_{n} = \\frac{T_{n}}{\\sqrt{n}}$"
   ]
  },
  {
   "cell_type": "markdown",
   "metadata": {},
   "source": [
    "_________\n",
    "\n",
    "# First off, $S_{n}^{*} = \\frac{S_{n} - n\\mu}{\\sqrt{n}\\sigma}$ and $T_{n}^{*} = \\frac{S_{n} - n\\bar{\\mu}}{\\sqrt{n}\\bar{\\sigma}}$\n",
    "\n",
    "\n",
    "# We know the mean and standard deviation of each $X_{i}^{*}$ are 0 and 1\n",
    "\n",
    "# So $E(T_{n}) = 0$ and $V(T_{n}) = n \\implies \\bar{\\mu} = 0$ and $\\bar{\\sigma} = \\sqrt{n}$\n",
    "\n",
    "# $T_{n} = X^{*}_{1}+...+X_{n}^{*} = \\frac{S_{n}-n\\mu}{\\sigma} \\implies T^{*}_{n} = \\frac{1}{\\sqrt{n}}T_{n}$ and $S^{*}_{n} = \\frac{1}{\\sqrt{n}}T_{n}$"
   ]
  }
 ],
 "metadata": {
  "kernelspec": {
   "display_name": "Python 2",
   "language": "python",
   "name": "python2"
  },
  "language_info": {
   "codemirror_mode": {
    "name": "ipython",
    "version": 2
   },
   "file_extension": ".py",
   "mimetype": "text/x-python",
   "name": "python",
   "nbconvert_exporter": "python",
   "pygments_lexer": "ipython2",
   "version": "2.7.11"
  }
 },
 "nbformat": 4,
 "nbformat_minor": 0
}
