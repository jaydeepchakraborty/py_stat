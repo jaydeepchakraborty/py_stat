{
 "cells": [
  {
   "cell_type": "markdown",
   "metadata": {},
   "source": [
    "# Suppose we choose independently 25 numbers at random (uniform density) from $[0,20]$\n",
    "\n",
    "# Write the normal densities that approximate the densities of:\n",
    "\n",
    "## a) $S_{25}$\n",
    "\n",
    "## b) $S_{25}^{*}$\n",
    "\n",
    "## c) $A_{25}$"
   ]
  },
  {
   "cell_type": "markdown",
   "metadata": {},
   "source": [
    "______\n",
    "\n",
    "# $E(X_{i}) = 10 = \\mu$\n",
    "\n",
    "# $V(X_{i}) = \\frac{400}{12} = \\frac{100}{3}\\implies \\sigma = \\frac{10}{\\sqrt{3}}$"
   ]
  },
  {
   "cell_type": "markdown",
   "metadata": {},
   "source": [
    "_____\n",
    "\n",
    "# a)\n",
    "\n",
    "# $E(S_{25}) = 25\\cdot10 = 250$\n",
    "\n",
    "# $V(S_{25}) = 25 \\cdot \\frac{100}{3} = \\frac{2500}{3}$\n",
    "\n",
    "# $\\implies S_{25} \\sim N \\left (250, \\frac{50}{\\sqrt{3}} \\right )$"
   ]
  },
  {
   "cell_type": "markdown",
   "metadata": {},
   "source": [
    "_______\n",
    "\n",
    "# b)\n",
    "\n",
    "# $E(S^{*}_{25}) = E \\left ( \\frac{S_{25} - 25\\mu}{\\sqrt{25}\\sigma}\\right ) = \\frac{1}{5\\sigma}(E(S_{25}) - 25\\mu) = 0$\n",
    "\n",
    "# $V(S^{*}_{25}) = V\\left ( \\frac{S_{25} - 25\\mu}{\\sqrt{25}\\sigma}\\right ) = \\frac{1}{(5\\sigma)^{2}}V(S_{25}) = 1$\n",
    "\n",
    "# $\\implies S_{25}^{*} \\sim N\\left ( 0, 1 \\right )$"
   ]
  },
  {
   "cell_type": "markdown",
   "metadata": {},
   "source": [
    "______\n",
    "\n",
    "# c)\n",
    "\n",
    "# $A_{25} = \\frac{S_{25}}{25} \\implies E(A_{25}) = \\frac{E(S_{25})}{25} = 10$\n",
    "\n",
    "# $V(A_{25}) = \\frac{1}{25^{2}}V(S_{25}) = \\frac{1}{25}\\frac{100}{3} = \\frac{4}{3}$\n",
    "\n",
    "# $\\implies A_{25} \\sim N\\left(10, \\frac{2}{\\sqrt{3}}\\right)$"
   ]
  }
 ],
 "metadata": {
  "kernelspec": {
   "display_name": "Python 2",
   "language": "python",
   "name": "python2"
  },
  "language_info": {
   "codemirror_mode": {
    "name": "ipython",
    "version": 2
   },
   "file_extension": ".py",
   "mimetype": "text/x-python",
   "name": "python",
   "nbconvert_exporter": "python",
   "pygments_lexer": "ipython2",
   "version": "2.7.11"
  }
 },
 "nbformat": 4,
 "nbformat_minor": 0
}
