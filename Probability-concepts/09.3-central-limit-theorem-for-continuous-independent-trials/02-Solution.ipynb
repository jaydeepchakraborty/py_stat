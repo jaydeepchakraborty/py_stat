{
 "cells": [
  {
   "cell_type": "markdown",
   "metadata": {},
   "source": [
    "# Let $X_{i}$ each be a random variable with mean 0 and variance 1\n",
    "\n",
    "# Show that $S^{*}_{n} = \\frac{S_{n}}{\\sqrt{n}} = \\sqrt{n}A_{n}$"
   ]
  },
  {
   "cell_type": "markdown",
   "metadata": {},
   "source": [
    "________\n",
    "\n",
    "# $S_{n}^{*} = \\frac{S_{n} - n\\mu}{\\sqrt{n}\\sigma} = \\frac{S_{n}}{\\sqrt{n}}$ \n",
    "\n",
    "# $A_{n} = \\frac{S_{n}}{n} = \\frac{\\sqrt{n}S^{*}_{n}}{n} = \\frac{S^{*}_{n}}{\\sqrt{n}} \\implies S^{*}_{n} = \\sqrt{n}A_{n}$"
   ]
  }
 ],
 "metadata": {
  "kernelspec": {
   "display_name": "Python 2",
   "language": "python",
   "name": "python2"
  },
  "language_info": {
   "codemirror_mode": {
    "name": "ipython",
    "version": 2
   },
   "file_extension": ".py",
   "mimetype": "text/x-python",
   "name": "python",
   "nbconvert_exporter": "python",
   "pygments_lexer": "ipython2",
   "version": "2.7.11"
  }
 },
 "nbformat": 4,
 "nbformat_minor": 0
}
