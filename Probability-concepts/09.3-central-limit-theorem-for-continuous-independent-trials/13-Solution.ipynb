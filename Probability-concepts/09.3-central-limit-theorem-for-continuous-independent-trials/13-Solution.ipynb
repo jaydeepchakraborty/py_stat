{
 "cells": [
  {
   "cell_type": "markdown",
   "metadata": {},
   "source": [
    "# Physicists say that particles in a long tube are constantly moving back and forth along the tube, each with velocity $V_{k} cm/s$ at any given moment with $V_{k} \\sim N(0, 1)$\n",
    "\n",
    "# Suppose there are $10^{20}$ particles in the tube\n",
    "\n",
    "## a) Find the mean and variance of the avg. velocity of particles\n",
    "\n",
    "## b) What is the probability that the average velocity is greater than $10^{-9}cm/s$?"
   ]
  },
  {
   "cell_type": "markdown",
   "metadata": {},
   "source": [
    "_____\n",
    "\n",
    "# a)\n",
    "\n",
    "# $E(A_{n}) = E(V_{k}) = 0$\n",
    "\n",
    "# $V(A_{n}) = \\frac{V(V_{k})}{n} = \\frac{1}{(10^{20})} = 10^{-20} \\implies S(V_{n}) = 10^{-10}$"
   ]
  },
  {
   "cell_type": "markdown",
   "metadata": {},
   "source": [
    "______\n",
    "\n",
    "# b)\n",
    "\n",
    "# $\\frac{10^{-9} - 0}{10^{-10}} = 10$\n",
    "\n",
    "# The probability that the average velocity is more than 10 standard deviations from the mean is negligible"
   ]
  }
 ],
 "metadata": {
  "kernelspec": {
   "display_name": "Python 2",
   "language": "python",
   "name": "python2"
  },
  "language_info": {
   "codemirror_mode": {
    "name": "ipython",
    "version": 2
   },
   "file_extension": ".py",
   "mimetype": "text/x-python",
   "name": "python",
   "nbconvert_exporter": "python",
   "pygments_lexer": "ipython2",
   "version": "2.7.11"
  }
 },
 "nbformat": 4,
 "nbformat_minor": 0
}
