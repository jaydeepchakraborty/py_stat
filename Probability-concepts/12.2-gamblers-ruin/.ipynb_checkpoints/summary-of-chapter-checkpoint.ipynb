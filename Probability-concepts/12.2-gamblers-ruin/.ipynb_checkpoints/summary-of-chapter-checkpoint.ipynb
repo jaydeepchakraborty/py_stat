{
 "cells": [
  {
   "cell_type": "markdown",
   "metadata": {},
   "source": [
    "### In this section, we don't assume that each $X_{i}$ is symmetrically distributed\n",
    "\n",
    "### Let $p$ and $q$ be positive numbers and $p+q=1$\n",
    "\n",
    "### Let $f_{X}(x) = \\left\\{\\begin{matrix}p & ;x=1\\\\ q & ;x=-1\\end{matrix}\\right.$"
   ]
  },
  {
   "cell_type": "markdown",
   "metadata": {},
   "source": [
    "### Then, our random walk essentially becomes a series of tosses of an unfair coin"
   ]
  },
  {
   "cell_type": "markdown",
   "metadata": {},
   "source": [
    "_____\n",
    "\n",
    "# *Gambler's Ruin Problem*\n",
    "\n",
    "### A gambler starts with a value of $s$\n",
    "\n",
    "### She bets $1$ on each game\n",
    "\n",
    "### She plays until she reaches a total of $M$ or 0\n",
    "\n",
    "### Note: in the language of Markov chains, $M$ and 0 are absorbing states"
   ]
  },
  {
   "cell_type": "markdown",
   "metadata": {},
   "source": [
    "### If she's playing the casino, we can assume they have unlimited money to lose and therefore $M$ has no limit\n",
    "\n",
    "### If we set $M=\\infty$, then the question becomes *how long can she play until she runs out of money?*"
   ]
  },
  {
   "cell_type": "markdown",
   "metadata": {},
   "source": [
    "_____\n",
    "\n",
    "### Let $M$ be some finite value\n",
    "\n",
    "### Let $q_{k}$ be the probability that the gambler reaches 0 before $M$ when the starting wager is $k$"
   ]
  },
  {
   "cell_type": "markdown",
   "metadata": {},
   "source": [
    "### Note: $q_{0}=1$, and $q_{M}=0$ (i.e. if the gambler starts with $M$ dollars, the probability that she'll get to 0 before $M$ is 0)"
   ]
  },
  {
   "cell_type": "markdown",
   "metadata": {},
   "source": [
    "### Now, we make the important observation that if she has $k$ dollars, after the next round, she'll either have $k+1$ dollars, or $k-1$ dollars\n",
    "\n",
    "### If she has $k+1$ dollars, the probability that her game will end in ruin is $q_{k+1}$. The same is true of $q_{k-1}$\n",
    "\n",
    "### Therefore $q_{k} = pq_{k+1} + (1-p)q_{k-1}$"
   ]
  },
  {
   "cell_type": "markdown",
   "metadata": {},
   "source": [
    "### $\\implies (1)q_{k} = pq_{k+1} + (1-p)q_{k-1} = (1+q)q_{k} = pq_{k+1} + (1-p)q_{k-1}$     \n",
    "\n",
    "### $\\implies p(q_{k+1}-q_{k}) = q(q_{k}-q_{k-1}) \\implies q_{k+1}-q_{k} = (\\frac{q}{p})(q_{k}-q_{k-1})$"
   ]
  },
  {
   "cell_type": "markdown",
   "metadata": {},
   "source": [
    "### We'll cut to the chase..."
   ]
  },
  {
   "cell_type": "markdown",
   "metadata": {},
   "source": [
    "# $q_{z} = \\frac{\\left ( \\frac{q}{p} \\right )^{M}-\\left ( \\frac{q}{p} \\right )^{z}}{\\left ( \\frac{q}{p} \\right )^{M}-1}$"
   ]
  }
 ],
 "metadata": {
  "kernelspec": {
   "display_name": "Python 3",
   "language": "python",
   "name": "python3"
  },
  "language_info": {
   "codemirror_mode": {
    "name": "ipython",
    "version": 3
   },
   "file_extension": ".py",
   "mimetype": "text/x-python",
   "name": "python",
   "nbconvert_exporter": "python",
   "pygments_lexer": "ipython3",
   "version": "3.6.5"
  }
 },
 "nbformat": 4,
 "nbformat_minor": 1
}
