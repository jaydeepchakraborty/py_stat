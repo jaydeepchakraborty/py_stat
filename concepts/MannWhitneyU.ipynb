{
 "cells": [
  {
   "cell_type": "raw",
   "id": "b38fc6cf-e33a-45c5-869a-eeab827ac7fa",
   "metadata": {},
   "source": [
    "1) non-parametric ~ do not know the distribution (normal/gaussian)\n",
    "2) un paired samples (can change the order of values)\n",
    "3) applicable for two samples"
   ]
  },
  {
   "cell_type": "code",
   "execution_count": 11,
   "id": "dfb043ce-b3e0-45bf-a7d3-21762702db6f",
   "metadata": {},
   "outputs": [],
   "source": [
    "from scipy import stats\n",
    "import numpy as np\n",
    "import pandas as pd"
   ]
  },
  {
   "cell_type": "raw",
   "id": "a4b25fb8-c248-4e93-9d06-26b7adaf46d4",
   "metadata": {},
   "source": [
    "### Data\n",
    "We collected heights of males and females."
   ]
  },
  {
   "cell_type": "code",
   "execution_count": 12,
   "id": "dc5f99ae-fbf1-4992-80f3-9252695b4cf4",
   "metadata": {},
   "outputs": [
    {
     "data": {
      "text/html": [
       "<div>\n",
       "<style scoped>\n",
       "    .dataframe tbody tr th:only-of-type {\n",
       "        vertical-align: middle;\n",
       "    }\n",
       "\n",
       "    .dataframe tbody tr th {\n",
       "        vertical-align: top;\n",
       "    }\n",
       "\n",
       "    .dataframe thead th {\n",
       "        text-align: right;\n",
       "    }\n",
       "</style>\n",
       "<table border=\"1\" class=\"dataframe\">\n",
       "  <thead>\n",
       "    <tr style=\"text-align: right;\">\n",
       "      <th></th>\n",
       "      <th>Male</th>\n",
       "      <th>Female</th>\n",
       "    </tr>\n",
       "  </thead>\n",
       "  <tbody>\n",
       "    <tr>\n",
       "      <th>0</th>\n",
       "      <td>85</td>\n",
       "      <td>75</td>\n",
       "    </tr>\n",
       "    <tr>\n",
       "      <th>1</th>\n",
       "      <td>70</td>\n",
       "      <td>50</td>\n",
       "    </tr>\n",
       "    <tr>\n",
       "      <th>2</th>\n",
       "      <td>40</td>\n",
       "      <td>45</td>\n",
       "    </tr>\n",
       "    <tr>\n",
       "      <th>3</th>\n",
       "      <td>65</td>\n",
       "      <td>40</td>\n",
       "    </tr>\n",
       "    <tr>\n",
       "      <th>4</th>\n",
       "      <td>80</td>\n",
       "      <td>20</td>\n",
       "    </tr>\n",
       "    <tr>\n",
       "      <th>5</th>\n",
       "      <td>75</td>\n",
       "      <td>65</td>\n",
       "    </tr>\n",
       "    <tr>\n",
       "      <th>6</th>\n",
       "      <td>55</td>\n",
       "      <td>40</td>\n",
       "    </tr>\n",
       "    <tr>\n",
       "      <th>7</th>\n",
       "      <td>20</td>\n",
       "      <td>25</td>\n",
       "    </tr>\n",
       "  </tbody>\n",
       "</table>\n",
       "</div>"
      ],
      "text/plain": [
       "   Male  Female\n",
       "0    85      75\n",
       "1    70      50\n",
       "2    40      45\n",
       "3    65      40\n",
       "4    80      20\n",
       "5    75      65\n",
       "6    55      40\n",
       "7    20      25"
      ]
     },
     "metadata": {},
     "output_type": "display_data"
    }
   ],
   "source": [
    "data = np.array([[85,75],[70,50],[40,45],\n",
    "                            [65,40],[80,20],[75,65],\n",
    "                            [55,40],[20,25]])\n",
    "\n",
    "df = pd.DataFrame(data, columns = ['Male','Female'])\n",
    "display(df)"
   ]
  },
  {
   "cell_type": "raw",
   "id": "81a8f564-a9d3-4f65-9ac6-e223a28e3d76",
   "metadata": {},
   "source": [
    "mannwhitneyu(x, y, alternative={“two-sided”, “greater”, “less”})\n",
    "\n",
    "F(u) = cumulative distribution functions of the distributions underlying x\n",
    "G(u) = cumulative distribution functions of the distributions underlying y\n",
    "\n",
    "\"alternative\" defines the alternative hypothesis.\n",
    "\"two-sided\":\n",
    "   the distributions are not equal, i.e. F(u) ≠ G(u) for at least one u. \n",
    "\"less\":\n",
    "   distribution x < distribution y,  i.e. F(u) > G(u) for all u.\n",
    "\"greater\":\n",
    "   distribution x > distribution y,  i.e. F(u) < G(u) for all u. "
   ]
  },
  {
   "cell_type": "code",
   "execution_count": 13,
   "id": "d2fd8710-fc12-4426-9890-ef4d1d853f95",
   "metadata": {},
   "outputs": [
    {
     "data": {
      "text/html": [
       "<div>\n",
       "<style scoped>\n",
       "    .dataframe tbody tr th:only-of-type {\n",
       "        vertical-align: middle;\n",
       "    }\n",
       "\n",
       "    .dataframe tbody tr th {\n",
       "        vertical-align: top;\n",
       "    }\n",
       "\n",
       "    .dataframe thead th {\n",
       "        text-align: right;\n",
       "    }\n",
       "</style>\n",
       "<table border=\"1\" class=\"dataframe\">\n",
       "  <thead>\n",
       "    <tr style=\"text-align: right;\">\n",
       "      <th></th>\n",
       "      <th>Male</th>\n",
       "      <th>Female</th>\n",
       "    </tr>\n",
       "  </thead>\n",
       "  <tbody>\n",
       "    <tr>\n",
       "      <th>count</th>\n",
       "      <td>8.000000</td>\n",
       "      <td>8.000000</td>\n",
       "    </tr>\n",
       "    <tr>\n",
       "      <th>mean</th>\n",
       "      <td>61.250000</td>\n",
       "      <td>45.000000</td>\n",
       "    </tr>\n",
       "    <tr>\n",
       "      <th>std</th>\n",
       "      <td>21.998377</td>\n",
       "      <td>18.516402</td>\n",
       "    </tr>\n",
       "    <tr>\n",
       "      <th>min</th>\n",
       "      <td>20.000000</td>\n",
       "      <td>20.000000</td>\n",
       "    </tr>\n",
       "    <tr>\n",
       "      <th>25%</th>\n",
       "      <td>51.250000</td>\n",
       "      <td>36.250000</td>\n",
       "    </tr>\n",
       "    <tr>\n",
       "      <th>50%</th>\n",
       "      <td>67.500000</td>\n",
       "      <td>42.500000</td>\n",
       "    </tr>\n",
       "    <tr>\n",
       "      <th>75%</th>\n",
       "      <td>76.250000</td>\n",
       "      <td>53.750000</td>\n",
       "    </tr>\n",
       "    <tr>\n",
       "      <th>max</th>\n",
       "      <td>85.000000</td>\n",
       "      <td>75.000000</td>\n",
       "    </tr>\n",
       "  </tbody>\n",
       "</table>\n",
       "</div>"
      ],
      "text/plain": [
       "            Male     Female\n",
       "count   8.000000   8.000000\n",
       "mean   61.250000  45.000000\n",
       "std    21.998377  18.516402\n",
       "min    20.000000  20.000000\n",
       "25%    51.250000  36.250000\n",
       "50%    67.500000  42.500000\n",
       "75%    76.250000  53.750000\n",
       "max    85.000000  75.000000"
      ]
     },
     "execution_count": 13,
     "metadata": {},
     "output_type": "execute_result"
    }
   ],
   "source": [
    "df.describe()"
   ]
  },
  {
   "cell_type": "raw",
   "id": "88cb71d2-2e62-4ad9-adb9-bbfdee53a1ed",
   "metadata": {},
   "source": [
    "### Business problem:\n",
    "Is there any significant difference in age of males and females?"
   ]
  },
  {
   "cell_type": "raw",
   "id": "7f8af848-1217-43d5-9cdc-4b3abf6db4ac",
   "metadata": {},
   "source": [
    "Two-tailed test:\n",
    "H_0: there is no difference between 'Male' and 'Female'\n",
    "H_a: there is significance difference between 'Male' and 'Female'"
   ]
  },
  {
   "cell_type": "code",
   "execution_count": 19,
   "id": "f1cd0eea-3d7a-464a-9451-bd9cfa1f9db7",
   "metadata": {},
   "outputs": [
    {
     "name": "stdout",
     "output_type": "stream",
     "text": [
      "Statistics=46.500, p=0.139\n"
     ]
    }
   ],
   "source": [
    "stat, p = stats.mannwhitneyu(df['Male'], df['Female'], alternative='two-sided', method='asymptotic')\n",
    "print('Statistics=%.3f, p=%.3f' % (stat, p))"
   ]
  },
  {
   "cell_type": "code",
   "execution_count": 20,
   "id": "df9b1d01-cf50-4c9b-9ebc-3a56ca54b860",
   "metadata": {},
   "outputs": [
    {
     "name": "stdout",
     "output_type": "stream",
     "text": [
      "Statistics=46.500, p=0.161\n"
     ]
    }
   ],
   "source": [
    "stat, p = stats.mannwhitneyu(df['Male'], df['Female'], alternative='two-sided', method='exact')\n",
    "print('Statistics=%.3f, p=%.3f' % (stat, p))"
   ]
  },
  {
   "cell_type": "raw",
   "id": "cdee07d0-f258-4ba0-ac27-e1f767ec8331",
   "metadata": {},
   "source": [
    "## It always reports the statistic associated with the first sample, which, in this case, is males.\n",
    "stat_Male := 46.5\n",
    "## below way we can get stat of second sample (stat_Female)"
   ]
  },
  {
   "cell_type": "code",
   "execution_count": 15,
   "id": "1ef13ab7-0890-493e-850a-cfdfef3549a4",
   "metadata": {},
   "outputs": [
    {
     "name": "stdout",
     "output_type": "stream",
     "text": [
      "Statistics=17.500\n"
     ]
    }
   ],
   "source": [
    "stat_Male = stat\n",
    "nx, ny = len(df['Male']), len(df['Female'])\n",
    "stat_Female = nx*ny - stat_Male\n",
    "print('Statistics=%.3f' % (stat_Female))"
   ]
  },
  {
   "cell_type": "raw",
   "id": "2d744cb2-6005-421e-a8d7-7f9650a56684",
   "metadata": {},
   "source": [
    "p_val < 0.05 ~ no, so failed to reject H_0\n",
    "there is not significant difference between (Male - Female) distribution"
   ]
  },
  {
   "cell_type": "raw",
   "id": "67d736c5-304a-436d-b359-cb382eaf5271",
   "metadata": {},
   "source": [
    "Now, we want to know the direction of the samples distribution\n",
    "Male(height) > Female(height)\n",
    "So,\n",
    "Right-tailed:\n",
    "    diff = Male - Female\n",
    "    so,\n",
    "    H_a: diff(height_distribution) > 0"
   ]
  },
  {
   "cell_type": "raw",
   "id": "8fece5fa-3293-46b7-a2f9-3a10ff64342d",
   "metadata": {},
   "source": [
    "Right Tailed:\n",
    "Male~x, Female~y: diff(height_distribution) = x-y\n",
    "H_0: Male(height) <= Female(height)\n",
    "H_a: Male(height) > Female(height)\n",
    "If p < 0.05 reject H_0"
   ]
  },
  {
   "cell_type": "code",
   "execution_count": 16,
   "id": "29a0bdf7-4a9e-4e34-8f70-1256039c6610",
   "metadata": {},
   "outputs": [
    {
     "name": "stdout",
     "output_type": "stream",
     "text": [
      "Statistics=46.500, p=0.070\n"
     ]
    }
   ],
   "source": [
    "stat, p = stats.mannwhitneyu(df['Male'], df['Female'], alternative='greater', method='asymptotic')\n",
    "print('Statistics=%.3f, p=%.3f' % (stat, p))"
   ]
  },
  {
   "cell_type": "code",
   "execution_count": 21,
   "id": "8c4afa33-658a-45e6-a5a7-be7097d1f855",
   "metadata": {},
   "outputs": [
    {
     "name": "stdout",
     "output_type": "stream",
     "text": [
      "Statistics=46.500, p=0.080\n"
     ]
    }
   ],
   "source": [
    "stat, p = stats.mannwhitneyu(df['Male'], df['Female'], alternative='greater', method='exact')\n",
    "print('Statistics=%.3f, p=%.3f' % (stat, p))"
   ]
  },
  {
   "cell_type": "raw",
   "id": "5301ec79-9368-4b12-a213-f9c31088ec79",
   "metadata": {},
   "source": [
    "p_val < 0.05 ~ no, failed to reject H_0\n",
    "So, Male(height) <= Female(height)"
   ]
  },
  {
   "cell_type": "raw",
   "id": "74e8f614-fbe2-4ac8-9d30-7e2549f60658",
   "metadata": {},
   "source": [
    "Now, let's take another angle to solve the problem ==>"
   ]
  },
  {
   "cell_type": "raw",
   "id": "b71d6e93-af53-49f4-9a2b-fc1b3ad8d9f0",
   "metadata": {},
   "source": [
    "Now, we want to know the direction of the samples distribution\n",
    "Male(height) < Female(height)\n",
    "So,\n",
    "Left-tailed:\n",
    "    diff = Male - Female\n",
    "    so,\n",
    "    H_a: diff(height_distribution) < 0"
   ]
  },
  {
   "cell_type": "raw",
   "id": "3153cf1d-eff3-4e12-b578-eb818b9c5c63",
   "metadata": {},
   "source": [
    "Left Tailed:\n",
    "Male~x, Female~y: diff(height_distribution) = x-y\n",
    "H_0: Male(height) >= Female(height)\n",
    "H_a: Male(height) < Female(height)\n",
    "If p < 0.05 reject H_0"
   ]
  },
  {
   "cell_type": "code",
   "execution_count": 17,
   "id": "5f1c5842-42a5-454d-a7b9-b81b8d2d22e1",
   "metadata": {},
   "outputs": [
    {
     "name": "stdout",
     "output_type": "stream",
     "text": [
      "Statistics=46.500, p=0.943\n"
     ]
    }
   ],
   "source": [
    "stat, p = stats.mannwhitneyu(df['Male'], df['Female'], alternative='less', method='asymptotic')\n",
    "print('Statistics=%.3f, p=%.3f' % (stat, p))"
   ]
  },
  {
   "cell_type": "code",
   "execution_count": 22,
   "id": "2d8c4c82-a166-4298-8861-433b8e914473",
   "metadata": {},
   "outputs": [
    {
     "name": "stdout",
     "output_type": "stream",
     "text": [
      "Statistics=46.500, p=0.948\n"
     ]
    }
   ],
   "source": [
    "stat, p = stats.mannwhitneyu(df['Male'], df['Female'], alternative='less', method='exact')\n",
    "print('Statistics=%.3f, p=%.3f' % (stat, p))"
   ]
  },
  {
   "cell_type": "raw",
   "id": "16533def-43cd-4d29-be17-b60c7847c6a6",
   "metadata": {},
   "source": [
    "p_val < 0.05 ~ no, failed to reject H_0\n",
    "So, Male(height) >= Female(height)"
   ]
  },
  {
   "cell_type": "raw",
   "id": "08aeace8-bf44-448c-8a47-31439a816879",
   "metadata": {},
   "source": [
    "'''\n",
    "That means Male(height) == Female(height)\n",
    "this is very strange, \n",
    "if I do paired test (Wilcoxon) then there are significant difference.\n",
    "BUT,\n",
    "if I do no-paired test (MannWhitneyU) then there are not significant difference.\n",
    "'''"
   ]
  },
  {
   "cell_type": "raw",
   "id": "428bea08-e144-4583-9bf0-7ac82fa4efbd",
   "metadata": {},
   "source": [
    "### let's take another example"
   ]
  },
  {
   "cell_type": "raw",
   "id": "af8d4aa4-f911-4508-baec-930bcc82a765",
   "metadata": {},
   "source": [
    "### Data\n",
    "We collected BMI of males and females."
   ]
  },
  {
   "cell_type": "code",
   "execution_count": 23,
   "id": "ef08becb-b429-4dd0-8a07-c2311d5792f3",
   "metadata": {},
   "outputs": [
    {
     "data": {
      "text/html": [
       "<div>\n",
       "<style scoped>\n",
       "    .dataframe tbody tr th:only-of-type {\n",
       "        vertical-align: middle;\n",
       "    }\n",
       "\n",
       "    .dataframe tbody tr th {\n",
       "        vertical-align: top;\n",
       "    }\n",
       "\n",
       "    .dataframe thead th {\n",
       "        text-align: right;\n",
       "    }\n",
       "</style>\n",
       "<table border=\"1\" class=\"dataframe\">\n",
       "  <thead>\n",
       "    <tr style=\"text-align: right;\">\n",
       "      <th></th>\n",
       "      <th>Male</th>\n",
       "      <th>Female</th>\n",
       "    </tr>\n",
       "  </thead>\n",
       "  <tbody>\n",
       "    <tr>\n",
       "      <th>0</th>\n",
       "      <td>3</td>\n",
       "      <td>9</td>\n",
       "    </tr>\n",
       "    <tr>\n",
       "      <th>1</th>\n",
       "      <td>4</td>\n",
       "      <td>7</td>\n",
       "    </tr>\n",
       "    <tr>\n",
       "      <th>2</th>\n",
       "      <td>2</td>\n",
       "      <td>5</td>\n",
       "    </tr>\n",
       "    <tr>\n",
       "      <th>3</th>\n",
       "      <td>6</td>\n",
       "      <td>10</td>\n",
       "    </tr>\n",
       "    <tr>\n",
       "      <th>4</th>\n",
       "      <td>2</td>\n",
       "      <td>6</td>\n",
       "    </tr>\n",
       "    <tr>\n",
       "      <th>5</th>\n",
       "      <td>5</td>\n",
       "      <td>8</td>\n",
       "    </tr>\n",
       "  </tbody>\n",
       "</table>\n",
       "</div>"
      ],
      "text/plain": [
       "   Male  Female\n",
       "0     3       9\n",
       "1     4       7\n",
       "2     2       5\n",
       "3     6      10\n",
       "4     2       6\n",
       "5     5       8"
      ]
     },
     "metadata": {},
     "output_type": "display_data"
    }
   ],
   "source": [
    "data = np.array([[3,9],[4,7],[2,5],\n",
    "                            [6,10],[2,6],[5,8]])\n",
    "\n",
    "df = pd.DataFrame(data, columns = ['Male','Female'])\n",
    "display(df)"
   ]
  },
  {
   "cell_type": "code",
   "execution_count": 24,
   "id": "40d0001b-ad05-4708-9a93-2537e6bcbb19",
   "metadata": {},
   "outputs": [
    {
     "data": {
      "text/html": [
       "<div>\n",
       "<style scoped>\n",
       "    .dataframe tbody tr th:only-of-type {\n",
       "        vertical-align: middle;\n",
       "    }\n",
       "\n",
       "    .dataframe tbody tr th {\n",
       "        vertical-align: top;\n",
       "    }\n",
       "\n",
       "    .dataframe thead th {\n",
       "        text-align: right;\n",
       "    }\n",
       "</style>\n",
       "<table border=\"1\" class=\"dataframe\">\n",
       "  <thead>\n",
       "    <tr style=\"text-align: right;\">\n",
       "      <th></th>\n",
       "      <th>Male</th>\n",
       "      <th>Female</th>\n",
       "    </tr>\n",
       "  </thead>\n",
       "  <tbody>\n",
       "    <tr>\n",
       "      <th>count</th>\n",
       "      <td>6.000000</td>\n",
       "      <td>6.000000</td>\n",
       "    </tr>\n",
       "    <tr>\n",
       "      <th>mean</th>\n",
       "      <td>3.666667</td>\n",
       "      <td>7.500000</td>\n",
       "    </tr>\n",
       "    <tr>\n",
       "      <th>std</th>\n",
       "      <td>1.632993</td>\n",
       "      <td>1.870829</td>\n",
       "    </tr>\n",
       "    <tr>\n",
       "      <th>min</th>\n",
       "      <td>2.000000</td>\n",
       "      <td>5.000000</td>\n",
       "    </tr>\n",
       "    <tr>\n",
       "      <th>25%</th>\n",
       "      <td>2.250000</td>\n",
       "      <td>6.250000</td>\n",
       "    </tr>\n",
       "    <tr>\n",
       "      <th>50%</th>\n",
       "      <td>3.500000</td>\n",
       "      <td>7.500000</td>\n",
       "    </tr>\n",
       "    <tr>\n",
       "      <th>75%</th>\n",
       "      <td>4.750000</td>\n",
       "      <td>8.750000</td>\n",
       "    </tr>\n",
       "    <tr>\n",
       "      <th>max</th>\n",
       "      <td>6.000000</td>\n",
       "      <td>10.000000</td>\n",
       "    </tr>\n",
       "  </tbody>\n",
       "</table>\n",
       "</div>"
      ],
      "text/plain": [
       "           Male     Female\n",
       "count  6.000000   6.000000\n",
       "mean   3.666667   7.500000\n",
       "std    1.632993   1.870829\n",
       "min    2.000000   5.000000\n",
       "25%    2.250000   6.250000\n",
       "50%    3.500000   7.500000\n",
       "75%    4.750000   8.750000\n",
       "max    6.000000  10.000000"
      ]
     },
     "execution_count": 24,
     "metadata": {},
     "output_type": "execute_result"
    }
   ],
   "source": [
    "df.describe()"
   ]
  },
  {
   "cell_type": "raw",
   "id": "a2881205-f99a-4617-a38f-68cb7d59b2ff",
   "metadata": {},
   "source": [
    "### Business problem:\n",
    "Is there any significant difference in BMI of males and females?"
   ]
  },
  {
   "cell_type": "raw",
   "id": "c1af5fc2-d4fe-4136-b878-e307cf66f3cc",
   "metadata": {},
   "source": [
    "Two-tailed test:\n",
    "H_0: there is no difference between 'Male' and 'Female'\n",
    "H_a: there is significance difference between 'Male' and 'Female'"
   ]
  },
  {
   "cell_type": "code",
   "execution_count": 25,
   "id": "ec6dfbb7-c81f-497f-8c80-b1541c49515d",
   "metadata": {},
   "outputs": [
    {
     "name": "stdout",
     "output_type": "stream",
     "text": [
      "Statistics=2.000, p=0.013\n"
     ]
    }
   ],
   "source": [
    "stat, p = stats.mannwhitneyu(df['Male'], df['Female'], alternative='two-sided', method='asymptotic')\n",
    "print('Statistics=%.3f, p=%.3f' % (stat, p))"
   ]
  },
  {
   "cell_type": "code",
   "execution_count": 26,
   "id": "f8001217-7fc6-4390-9221-cd06ee312d57",
   "metadata": {},
   "outputs": [
    {
     "name": "stdout",
     "output_type": "stream",
     "text": [
      "Statistics=2.000, p=0.009\n"
     ]
    }
   ],
   "source": [
    "stat, p = stats.mannwhitneyu(df['Male'], df['Female'], alternative='two-sided', method='exact')\n",
    "print('Statistics=%.3f, p=%.3f' % (stat, p))"
   ]
  },
  {
   "cell_type": "raw",
   "id": "24789845-cd39-49f2-9032-ab4ddc00cedc",
   "metadata": {},
   "source": [
    "## It always reports the statistic associated with the first sample, which, in this case, is males.\n",
    "stat_Male := 2.0\n",
    "## below way we can get stat of second sample (stat_Female)"
   ]
  },
  {
   "cell_type": "code",
   "execution_count": 27,
   "id": "f1ab57a3-8b19-4b11-a924-b4ed40640675",
   "metadata": {},
   "outputs": [
    {
     "name": "stdout",
     "output_type": "stream",
     "text": [
      "Statistics=34.000\n"
     ]
    }
   ],
   "source": [
    "stat_Male = stat\n",
    "nx, ny = len(df['Male']), len(df['Female'])\n",
    "stat_Female = nx*ny - stat_Male\n",
    "print('Statistics=%.3f' % (stat_Female))"
   ]
  },
  {
   "cell_type": "raw",
   "id": "1590f0c9-2627-49fa-a598-b16f1b982e53",
   "metadata": {},
   "source": [
    "p_val < 0.05 ~ yes, so reject H_0\n",
    "there is significant difference between (Male - Female) distribution"
   ]
  },
  {
   "cell_type": "raw",
   "id": "b709908f-8372-4829-adbf-e00dfe9af2d3",
   "metadata": {},
   "source": [
    "Now, we want to know the direction of the samples distribution\n",
    "Male(BMI) > Female(BMI)\n",
    "So,\n",
    "Right-tailed:\n",
    "    diff = Male - Female\n",
    "    so,\n",
    "    H_a: diff(BMI_distribution) > 0"
   ]
  },
  {
   "cell_type": "raw",
   "id": "373506ba-52d4-4e2d-a2e4-6980b751247f",
   "metadata": {},
   "source": [
    "Right Tailed:\n",
    "Male~x, Female~y: diff(BMI_distribution) = x-y\n",
    "H_0: Male(BMI) <= Female(BMI)\n",
    "H_a: Male(BMI) > Female(BMI)\n",
    "If p < 0.05 reject H_0"
   ]
  },
  {
   "cell_type": "code",
   "execution_count": 28,
   "id": "57c7ac31-77ac-4f91-9d4f-064f54b9397a",
   "metadata": {},
   "outputs": [
    {
     "name": "stdout",
     "output_type": "stream",
     "text": [
      "Statistics=2.000, p=0.996\n"
     ]
    }
   ],
   "source": [
    "stat, p = stats.mannwhitneyu(df['Male'], df['Female'], alternative='greater', method='asymptotic')\n",
    "print('Statistics=%.3f, p=%.3f' % (stat, p))"
   ]
  },
  {
   "cell_type": "code",
   "execution_count": 29,
   "id": "300a6aa8-f29e-46ca-8e2f-93f93736c371",
   "metadata": {},
   "outputs": [
    {
     "name": "stdout",
     "output_type": "stream",
     "text": [
      "Statistics=2.000, p=0.998\n"
     ]
    }
   ],
   "source": [
    "stat, p = stats.mannwhitneyu(df['Male'], df['Female'], alternative='greater', method='exact')\n",
    "print('Statistics=%.3f, p=%.3f' % (stat, p))"
   ]
  },
  {
   "cell_type": "raw",
   "id": "7a9c5952-83c6-48eb-8f9a-7eee9c879b43",
   "metadata": {},
   "source": [
    "p_val < 0.05 ~ no, failed to reject H_0\n",
    "So, Male(BMI) <= Female(BMI)"
   ]
  },
  {
   "cell_type": "raw",
   "id": "96f1a8af-d73e-47ef-8a8d-d514f21b4d3c",
   "metadata": {},
   "source": [
    "Now, let's take another angle to solve the problem ==>"
   ]
  },
  {
   "cell_type": "code",
   "execution_count": null,
   "id": "5d025829-a6f9-4818-83e4-500160893295",
   "metadata": {},
   "outputs": [],
   "source": [
    "Now, we want to know the direction of the samples distribution\n",
    "Male(BMI) < Female(BMI)\n",
    "So,\n",
    "Left-tailed:\n",
    "    diff = Male - Female\n",
    "    so,\n",
    "    H_a: diff(BMI_distribution) < 0"
   ]
  },
  {
   "cell_type": "raw",
   "id": "bc7d15ea-f9b7-4e1e-bc54-e07563333d61",
   "metadata": {},
   "source": [
    "Left Tailed:\n",
    "Male~x, Female~y: diff(BMI_distribution) = x-y\n",
    "H_0: Male(BMI) >= Female(BMI)\n",
    "H_a: Male(BMI) < Female(BMI)\n",
    "If p < 0.05 reject H_0"
   ]
  },
  {
   "cell_type": "code",
   "execution_count": 30,
   "id": "2b44dbb2-4cb1-42fb-8f13-76586aab554e",
   "metadata": {},
   "outputs": [
    {
     "name": "stdout",
     "output_type": "stream",
     "text": [
      "Statistics=2.000, p=0.006\n"
     ]
    }
   ],
   "source": [
    "stat, p = stats.mannwhitneyu(df['Male'], df['Female'], alternative='less', method='asymptotic')\n",
    "print('Statistics=%.3f, p=%.3f' % (stat, p))"
   ]
  },
  {
   "cell_type": "code",
   "execution_count": 31,
   "id": "529a308e-84ea-4b2e-bf18-cdc73a8466f1",
   "metadata": {},
   "outputs": [
    {
     "name": "stdout",
     "output_type": "stream",
     "text": [
      "Statistics=2.000, p=0.004\n"
     ]
    }
   ],
   "source": [
    "stat, p = stats.mannwhitneyu(df['Male'], df['Female'], alternative='less', method='exact')\n",
    "print('Statistics=%.3f, p=%.3f' % (stat, p))"
   ]
  },
  {
   "cell_type": "raw",
   "id": "f1a8a548-e588-484b-a2c4-6a0a19cd7c98",
   "metadata": {},
   "source": [
    "p_val < 0.05 ~ yes, reject H_0\n",
    "So, Male(BMI) < Female(BMI)"
   ]
  },
  {
   "cell_type": "markdown",
   "id": "c7365f84-836f-4f46-a234-cdf8bcaf853d",
   "metadata": {},
   "source": [
    "### Resources\n",
    "1) https://docs.scipy.org/doc/scipy/reference/generated/scipy.stats.mannwhitneyu.html <br>"
   ]
  }
 ],
 "metadata": {
  "kernelspec": {
   "display_name": "Python 3 (ipykernel)",
   "language": "python",
   "name": "python3"
  },
  "language_info": {
   "codemirror_mode": {
    "name": "ipython",
    "version": 3
   },
   "file_extension": ".py",
   "mimetype": "text/x-python",
   "name": "python",
   "nbconvert_exporter": "python",
   "pygments_lexer": "ipython3",
   "version": "3.7.4"
  }
 },
 "nbformat": 4,
 "nbformat_minor": 5
}
