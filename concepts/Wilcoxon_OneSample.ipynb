{
 "cells": [
  {
   "cell_type": "raw",
   "id": "355e180b-c272-4a30-8691-a0ea5b5175b9",
   "metadata": {},
   "source": [
    "1) non-parametric ~ unknown the distribution\n",
    "2) applicable for one samples"
   ]
  },
  {
   "cell_type": "raw",
   "id": "7741d66e-ef14-44f6-8a00-1abf2089b483",
   "metadata": {},
   "source": [
    "Tests whether the mean of a population is different from a specified value.\n",
    "\n",
    "Two Tailed test:\n",
    "H_0: population mean is equal to some value\n",
    "H_a: population mean is not equal (greater/less) to some value\n",
    "\n",
    "Left Tailed test:\n",
    "H_a: population mean is less than some value\n",
    "\n",
    "Right Tailed test:\n",
    "H_a: population mean is greater than some value"
   ]
  },
  {
   "cell_type": "code",
   "execution_count": 1,
   "id": "a4ff572f-a86f-4e89-8e57-fb7e24f51ef5",
   "metadata": {},
   "outputs": [],
   "source": [
    "from scipy import stats\n",
    "import numpy as np\n",
    "import pandas as pd"
   ]
  },
  {
   "cell_type": "code",
   "execution_count": 2,
   "id": "00baa041-ad40-454a-846f-71fcd7db3402",
   "metadata": {},
   "outputs": [],
   "source": [
    "'''\n",
    "Boston Housing Data\n",
    "rm = average number of rooms per dwelling\n",
    "'''\n",
    "fl_path = \"data/BostonHousing.csv\"\n",
    "df = pd.read_csv(fl_path)\n",
    "df = df[['rm']]"
   ]
  },
  {
   "cell_type": "code",
   "execution_count": 3,
   "id": "77b38b21-57e8-4814-a41a-31e54a60b30a",
   "metadata": {},
   "outputs": [
    {
     "data": {
      "text/html": [
       "<div>\n",
       "<style scoped>\n",
       "    .dataframe tbody tr th:only-of-type {\n",
       "        vertical-align: middle;\n",
       "    }\n",
       "\n",
       "    .dataframe tbody tr th {\n",
       "        vertical-align: top;\n",
       "    }\n",
       "\n",
       "    .dataframe thead th {\n",
       "        text-align: right;\n",
       "    }\n",
       "</style>\n",
       "<table border=\"1\" class=\"dataframe\">\n",
       "  <thead>\n",
       "    <tr style=\"text-align: right;\">\n",
       "      <th></th>\n",
       "      <th>rm</th>\n",
       "    </tr>\n",
       "  </thead>\n",
       "  <tbody>\n",
       "    <tr>\n",
       "      <th>count</th>\n",
       "      <td>506.000000</td>\n",
       "    </tr>\n",
       "    <tr>\n",
       "      <th>mean</th>\n",
       "      <td>6.284634</td>\n",
       "    </tr>\n",
       "    <tr>\n",
       "      <th>std</th>\n",
       "      <td>0.702617</td>\n",
       "    </tr>\n",
       "    <tr>\n",
       "      <th>min</th>\n",
       "      <td>3.561000</td>\n",
       "    </tr>\n",
       "    <tr>\n",
       "      <th>25%</th>\n",
       "      <td>5.885500</td>\n",
       "    </tr>\n",
       "    <tr>\n",
       "      <th>50%</th>\n",
       "      <td>6.208500</td>\n",
       "    </tr>\n",
       "    <tr>\n",
       "      <th>75%</th>\n",
       "      <td>6.623500</td>\n",
       "    </tr>\n",
       "    <tr>\n",
       "      <th>max</th>\n",
       "      <td>8.780000</td>\n",
       "    </tr>\n",
       "  </tbody>\n",
       "</table>\n",
       "</div>"
      ],
      "text/plain": [
       "               rm\n",
       "count  506.000000\n",
       "mean     6.284634\n",
       "std      0.702617\n",
       "min      3.561000\n",
       "25%      5.885500\n",
       "50%      6.208500\n",
       "75%      6.623500\n",
       "max      8.780000"
      ]
     },
     "execution_count": 3,
     "metadata": {},
     "output_type": "execute_result"
    }
   ],
   "source": [
    "df.describe()"
   ]
  },
  {
   "cell_type": "code",
   "execution_count": 4,
   "id": "b01f1d27-a420-4ecc-8953-f090abe780cc",
   "metadata": {},
   "outputs": [
    {
     "name": "stdout",
     "output_type": "stream",
     "text": [
      "2.4114604757485836e-10 ~ not normally distributed\n"
     ]
    }
   ],
   "source": [
    "# shapiro test for normality\n",
    "# H_0: normally distributed\n",
    "# H_a: not normally distributed\n",
    "stat, p_val = stats.shapiro(df['rm'])\n",
    "if p_val<0.05:\n",
    "    print(f'{p_val} ~ not normally distributed')\n",
    "else:\n",
    "    print(f'{p_val} ~ normally distributed')"
   ]
  },
  {
   "cell_type": "raw",
   "id": "fee4f8c4-1bea-49b2-8439-ee6f565447e3",
   "metadata": {},
   "source": [
    "wilcoxon(x, y=None, alternative={“two-sided”, “greater”, “less”})\n",
    "\n",
    "\"alternative\" defines the alternative hypothesis.\n",
    "\"two-sided\":\n",
    "    alternative hypothesis is x and y are not similar\n",
    "\"less\":\n",
    "    alternative hypothesis is x is less than y\n",
    "\"greater\":\n",
    "    alternative hypothesis is x is greater than y"
   ]
  },
  {
   "cell_type": "raw",
   "id": "102f48f5-0f50-4d9a-b906-4d813cfcd999",
   "metadata": {},
   "source": [
    "Here, as we have one sample, y=None\n",
    "next what should be x,\n",
    "x = diff(sample1-sample2)\n",
    "now, we have only sample1 and, sample2 is mu (expected mean)\n",
    "\n",
    "SO,\n",
    "Testing whether the average number of rm equals 3.5.\n",
    "x = df['rm'] - 3.5"
   ]
  },
  {
   "cell_type": "raw",
   "id": "25d3fcff-43be-45f2-8a7b-2a88b555dc60",
   "metadata": {},
   "source": [
    "Two-tailed test:\n",
    "H_0: the average number of rm equals 3.5\n",
    "H_a: the average number of rm not equal to 3.5"
   ]
  },
  {
   "cell_type": "code",
   "execution_count": 7,
   "id": "3853651a-c0f5-49dd-a18e-9d1f0cc0c984",
   "metadata": {},
   "outputs": [
    {
     "name": "stdout",
     "output_type": "stream",
     "text": [
      "1.3249136508317058e-84\n"
     ]
    }
   ],
   "source": [
    "mu_0 = 3.5 \n",
    "tatistic, p_val = stats.wilcoxon(df['rm']-mu_0, alternative='two-sided')\n",
    "print(p_val)"
   ]
  },
  {
   "cell_type": "raw",
   "id": "204c5f13-2820-4158-982c-b04f6783d353",
   "metadata": {},
   "source": [
    "p_val < 0.05 ~ yes, so reject H_0\n",
    "the average number of rm not equal to 3.5"
   ]
  },
  {
   "cell_type": "raw",
   "id": "1cbb418b-d8be-4973-a914-b6fc9e405ba9",
   "metadata": {},
   "source": [
    "Now, we want to know the direction of the effect/ change\n",
    "average number of rm > 3.5\n",
    "So,\n",
    "Right-tailed:\n",
    "    H_a: μ > 3.5"
   ]
  },
  {
   "cell_type": "code",
   "execution_count": 9,
   "id": "2f72933d-b5d5-4d00-b0d4-0d89a04ae71c",
   "metadata": {},
   "outputs": [
    {
     "name": "stdout",
     "output_type": "stream",
     "text": [
      "6.624568254158529e-85\n"
     ]
    }
   ],
   "source": [
    "mu_0 = 3.5 \n",
    "tatistic, p_val = stats.wilcoxon(df['rm']-mu_0, alternative='greater')\n",
    "print(p_val)"
   ]
  },
  {
   "cell_type": "raw",
   "id": "40c22e06-cf1c-4ca7-8d4d-c2c2b3060add",
   "metadata": {},
   "source": [
    "p_val < 0.05 ~ yes, so reject H_0\n",
    "so, H_a: μ > 3.5"
   ]
  },
  {
   "cell_type": "raw",
   "id": "6e48df4d-f34e-4364-bc98-af6192b27567",
   "metadata": {},
   "source": [
    "Now, let's take another angle to solve the problem ==>"
   ]
  },
  {
   "cell_type": "raw",
   "id": "095458f1-3af4-4e69-b1ce-a71d6787395e",
   "metadata": {},
   "source": [
    "Now, we want to know the direction of the effect\n",
    "average number of rm < 3.5\n",
    "So,\n",
    "Left-tailed:\n",
    "    H_a: μ < 3.5"
   ]
  },
  {
   "cell_type": "code",
   "execution_count": 10,
   "id": "1bbcf828-2254-4f27-9b52-5decd8953768",
   "metadata": {},
   "outputs": [
    {
     "name": "stdout",
     "output_type": "stream",
     "text": [
      "1.0\n"
     ]
    }
   ],
   "source": [
    "mu_0 = 3.5 \n",
    "tatistic, p_val = stats.wilcoxon(df['rm']-mu_0, alternative='less')\n",
    "print(p_val)"
   ]
  },
  {
   "cell_type": "raw",
   "id": "27aa7a99-faed-4d32-836c-2c4b4a49fd11",
   "metadata": {},
   "source": [
    "p_val < 0.05 ~ no, so failed to reject H_0\n",
    "so, H_0: μ >= 3.5"
   ]
  },
  {
   "cell_type": "markdown",
   "id": "3309ba8b-a51e-4a5e-91ad-c6cd3aa7f17a",
   "metadata": {},
   "source": [
    "### Resources\n",
    "1) https://stats.stackexchange.com/questions/570774/wilcoxon-signed-rank-test-for-just-one-sample-r-vs-python <br>"
   ]
  },
  {
   "cell_type": "code",
   "execution_count": null,
   "id": "b14aacdd-0beb-4e5c-80c4-1a826ef77309",
   "metadata": {},
   "outputs": [],
   "source": []
  }
 ],
 "metadata": {
  "kernelspec": {
   "display_name": "Python 3 (ipykernel)",
   "language": "python",
   "name": "python3"
  },
  "language_info": {
   "codemirror_mode": {
    "name": "ipython",
    "version": 3
   },
   "file_extension": ".py",
   "mimetype": "text/x-python",
   "name": "python",
   "nbconvert_exporter": "python",
   "pygments_lexer": "ipython3",
   "version": "3.7.4"
  }
 },
 "nbformat": 4,
 "nbformat_minor": 5
}
