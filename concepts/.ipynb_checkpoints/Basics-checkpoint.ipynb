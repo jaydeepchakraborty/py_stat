{
 "cells": [
  {
   "cell_type": "markdown",
   "id": "1013ed6c-52d5-4623-858e-4cfb2bcf318f",
   "metadata": {},
   "source": [
    "<b>Population:</b> <br>\n",
    "    The entire group\n",
    "    \n",
    "<b>Sample:</b> <br>\n",
    "    Subset of population. It should have same characteristics as population.\n",
    "    \n",
    "<b>Mean:</b> <br>\n",
    "   arithmatic mean/ average. <br>\n",
    "   $\\mu$ = population mean <br>\n",
    "   $\\overline{x}$ = sample mean <br>\n",
    "   \n",
    "<b>Median:</b> <br>\n",
    "    middle value. <br>\n",
    "    \n",
    "<b>Variance:</b>\n",
    "    Measures the dispersion around the mean. <br>\n",
    "    population variance := $ \\sigma^2 = \\frac{\\sum(x-\\mu)^2}{n}$ <br>\n",
    "    sample variance := $ s^2 = \\frac{\\sum(x-\\overline{x})^2}{n-1}$"
   ]
  },
  {
   "cell_type": "code",
   "execution_count": null,
   "id": "a4883a91-473c-49d5-a9df-cea364d3a518",
   "metadata": {},
   "outputs": [],
   "source": []
  }
 ],
 "metadata": {
  "kernelspec": {
   "display_name": "Python 3 (ipykernel)",
   "language": "python",
   "name": "python3"
  },
  "language_info": {
   "codemirror_mode": {
    "name": "ipython",
    "version": 3
   },
   "file_extension": ".py",
   "mimetype": "text/x-python",
   "name": "python",
   "nbconvert_exporter": "python",
   "pygments_lexer": "ipython3",
   "version": "3.7.4"
  }
 },
 "nbformat": 4,
 "nbformat_minor": 5
}
