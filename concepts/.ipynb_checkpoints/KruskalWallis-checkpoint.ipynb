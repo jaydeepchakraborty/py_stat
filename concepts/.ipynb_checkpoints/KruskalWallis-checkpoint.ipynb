{
 "cells": [
  {
   "cell_type": "raw",
   "id": "f0e4d95f-eb7a-41f2-8bad-e0468fc42ad9",
   "metadata": {},
   "source": [
    "1) non-parametric ~ do not know the distribution (normal/gaussian)\n",
    "2) un paired samples (can change the order of values)\n",
    "3) applicable for more than two samples"
   ]
  },
  {
   "cell_type": "raw",
   "id": "991c8a67-aa26-452a-a9ab-ed5890f45067",
   "metadata": {},
   "source": [
    "The main objective of this test is used to determine whether there is a statistical difference between the medians of at least three (>2) independent groups. "
   ]
  },
  {
   "cell_type": "code",
   "execution_count": 1,
   "id": "a0fb7551-6b93-4811-b359-ab37813873da",
   "metadata": {},
   "outputs": [],
   "source": [
    "from scipy import stats\n",
    "import numpy as np\n",
    "import pandas as pd"
   ]
  },
  {
   "cell_type": "raw",
   "id": "c7808e55-9e22-4108-933a-76e2b92b3510",
   "metadata": {},
   "source": [
    "### Data\n",
    "We collected reaction times of three groups (Gp-1,Gp-2,Gp-3)."
   ]
  },
  {
   "cell_type": "code",
   "execution_count": 2,
   "id": "86ec77f4-af11-455a-be55-6c841113361b",
   "metadata": {},
   "outputs": [
    {
     "data": {
      "text/html": [
       "<div>\n",
       "<style scoped>\n",
       "    .dataframe tbody tr th:only-of-type {\n",
       "        vertical-align: middle;\n",
       "    }\n",
       "\n",
       "    .dataframe tbody tr th {\n",
       "        vertical-align: top;\n",
       "    }\n",
       "\n",
       "    .dataframe thead th {\n",
       "        text-align: right;\n",
       "    }\n",
       "</style>\n",
       "<table border=\"1\" class=\"dataframe\">\n",
       "  <thead>\n",
       "    <tr style=\"text-align: right;\">\n",
       "      <th></th>\n",
       "      <th>Gp-1</th>\n",
       "      <th>Gp-2</th>\n",
       "      <th>Gp-3</th>\n",
       "    </tr>\n",
       "  </thead>\n",
       "  <tbody>\n",
       "    <tr>\n",
       "      <th>0</th>\n",
       "      <td>8.2</td>\n",
       "      <td>10.2</td>\n",
       "      <td>13.5</td>\n",
       "    </tr>\n",
       "    <tr>\n",
       "      <th>1</th>\n",
       "      <td>10.3</td>\n",
       "      <td>9.1</td>\n",
       "      <td>8.4</td>\n",
       "    </tr>\n",
       "    <tr>\n",
       "      <th>2</th>\n",
       "      <td>9.1</td>\n",
       "      <td>13.9</td>\n",
       "      <td>9.6</td>\n",
       "    </tr>\n",
       "    <tr>\n",
       "      <th>3</th>\n",
       "      <td>12.6</td>\n",
       "      <td>14.5</td>\n",
       "      <td>13.8</td>\n",
       "    </tr>\n",
       "    <tr>\n",
       "      <th>4</th>\n",
       "      <td>11.4</td>\n",
       "      <td>9.1</td>\n",
       "      <td>17.4</td>\n",
       "    </tr>\n",
       "    <tr>\n",
       "      <th>5</th>\n",
       "      <td>13.2</td>\n",
       "      <td>16.4</td>\n",
       "      <td>15.3</td>\n",
       "    </tr>\n",
       "  </tbody>\n",
       "</table>\n",
       "</div>"
      ],
      "text/plain": [
       "   Gp-1  Gp-2  Gp-3\n",
       "0   8.2  10.2  13.5\n",
       "1  10.3   9.1   8.4\n",
       "2   9.1  13.9   9.6\n",
       "3  12.6  14.5  13.8\n",
       "4  11.4   9.1  17.4\n",
       "5  13.2  16.4  15.3"
      ]
     },
     "metadata": {},
     "output_type": "display_data"
    }
   ],
   "source": [
    "data = np.array([[8.2,10.2,13.5],[10.3,9.1,8.4],[9.1,13.9,9.6],\n",
    "                            [12.6,14.5,13.8],[11.4,9.1,17.4],[13.2,16.4,15.3]])\n",
    "\n",
    "df = pd.DataFrame(data, columns = ['Gp-1','Gp-2','Gp-3'])\n",
    "display(df)"
   ]
  },
  {
   "cell_type": "code",
   "execution_count": 3,
   "id": "37a73030-04f4-412e-a5ff-9e64d19b926c",
   "metadata": {},
   "outputs": [
    {
     "data": {
      "text/html": [
       "<div>\n",
       "<style scoped>\n",
       "    .dataframe tbody tr th:only-of-type {\n",
       "        vertical-align: middle;\n",
       "    }\n",
       "\n",
       "    .dataframe tbody tr th {\n",
       "        vertical-align: top;\n",
       "    }\n",
       "\n",
       "    .dataframe thead th {\n",
       "        text-align: right;\n",
       "    }\n",
       "</style>\n",
       "<table border=\"1\" class=\"dataframe\">\n",
       "  <thead>\n",
       "    <tr style=\"text-align: right;\">\n",
       "      <th></th>\n",
       "      <th>Gp-1</th>\n",
       "      <th>Gp-2</th>\n",
       "      <th>Gp-3</th>\n",
       "    </tr>\n",
       "  </thead>\n",
       "  <tbody>\n",
       "    <tr>\n",
       "      <th>count</th>\n",
       "      <td>6.000000</td>\n",
       "      <td>6.000000</td>\n",
       "      <td>6.000000</td>\n",
       "    </tr>\n",
       "    <tr>\n",
       "      <th>mean</th>\n",
       "      <td>10.800000</td>\n",
       "      <td>12.200000</td>\n",
       "      <td>13.000000</td>\n",
       "    </tr>\n",
       "    <tr>\n",
       "      <th>std</th>\n",
       "      <td>1.962651</td>\n",
       "      <td>3.131773</td>\n",
       "      <td>3.413503</td>\n",
       "    </tr>\n",
       "    <tr>\n",
       "      <th>min</th>\n",
       "      <td>8.200000</td>\n",
       "      <td>9.100000</td>\n",
       "      <td>8.400000</td>\n",
       "    </tr>\n",
       "    <tr>\n",
       "      <th>25%</th>\n",
       "      <td>9.400000</td>\n",
       "      <td>9.375000</td>\n",
       "      <td>10.575000</td>\n",
       "    </tr>\n",
       "    <tr>\n",
       "      <th>50%</th>\n",
       "      <td>10.850000</td>\n",
       "      <td>12.050000</td>\n",
       "      <td>13.650000</td>\n",
       "    </tr>\n",
       "    <tr>\n",
       "      <th>75%</th>\n",
       "      <td>12.300000</td>\n",
       "      <td>14.350000</td>\n",
       "      <td>14.925000</td>\n",
       "    </tr>\n",
       "    <tr>\n",
       "      <th>max</th>\n",
       "      <td>13.200000</td>\n",
       "      <td>16.400000</td>\n",
       "      <td>17.400000</td>\n",
       "    </tr>\n",
       "  </tbody>\n",
       "</table>\n",
       "</div>"
      ],
      "text/plain": [
       "            Gp-1       Gp-2       Gp-3\n",
       "count   6.000000   6.000000   6.000000\n",
       "mean   10.800000  12.200000  13.000000\n",
       "std     1.962651   3.131773   3.413503\n",
       "min     8.200000   9.100000   8.400000\n",
       "25%     9.400000   9.375000  10.575000\n",
       "50%    10.850000  12.050000  13.650000\n",
       "75%    12.300000  14.350000  14.925000\n",
       "max    13.200000  16.400000  17.400000"
      ]
     },
     "execution_count": 3,
     "metadata": {},
     "output_type": "execute_result"
    }
   ],
   "source": [
    "df.describe()"
   ]
  },
  {
   "cell_type": "raw",
   "id": "a40165b0-54dd-4ee3-8366-5483d2e79931",
   "metadata": {},
   "source": [
    "### Business problem:\n",
    "Is there any significant difference in reaction times between the groups?"
   ]
  },
  {
   "cell_type": "raw",
   "id": "3f25e8c9-b347-4fa2-88c7-c29e9c294098",
   "metadata": {},
   "source": [
    "Two-tailed test:\n",
    "H_0: there is no difference between groups\n",
    "H_a: there is significance difference between groups\n",
    "If p < 0.05 reject H_0"
   ]
  },
  {
   "cell_type": "code",
   "execution_count": 4,
   "id": "9ef6bcbd-fdfe-4f8c-b9e7-d43a97b8cd76",
   "metadata": {},
   "outputs": [
    {
     "name": "stdout",
     "output_type": "stream",
     "text": [
      "Statistics=1.832, p=0.400\n"
     ]
    }
   ],
   "source": [
    "stat, p = stats.kruskal(df['Gp-1'], df['Gp-2'], df['Gp-3'])\n",
    "print('Statistics=%.3f, p=%.3f' % (stat, p))"
   ]
  },
  {
   "cell_type": "raw",
   "id": "9d77da29-9a42-441f-b66f-1fb3790efd8a",
   "metadata": {},
   "source": [
    "p < 0.05 ~ no, we can not reject H_0\n",
    "there is no difference between groups"
   ]
  },
  {
   "cell_type": "raw",
   "id": "2be854a9-0560-492f-9e09-fa7188bcddcc",
   "metadata": {},
   "source": [
    "### As we have more than 2 samples, we do not have two-sided, less or greater here"
   ]
  },
  {
   "cell_type": "raw",
   "id": "c1a62183-c8f7-432e-86f6-f2d8861a6f82",
   "metadata": {},
   "source": [
    "### now if you want to know which gp is different,\n",
    "# do two sample t test among all pairs of groups\n",
    "\n",
    "### In our example, there is no difference between groups\n",
    "so all the combination will give significance:- False"
   ]
  },
  {
   "cell_type": "code",
   "execution_count": 10,
   "id": "7fadfb52-d36b-4f34-9601-13684b7ab856",
   "metadata": {},
   "outputs": [
    {
     "name": "stdout",
     "output_type": "stream",
     "text": [
      "Gp-1 Gp-2\n",
      "stat:- -0.9278511517926075 p_val:- 0.37533718650920755 significance:- False\n",
      "Gp-1 Gp-3\n",
      "stat:- -1.3685996549319595 p_val:- 0.20108239118770738 significance:- False\n",
      "Gp-2 Gp-3\n",
      "stat:- -0.42301011601131266 p_val:- 0.6812405788415621 significance:- False\n"
     ]
    }
   ],
   "source": [
    "gp = ['Gp-1', 'Gp-2', 'Gp-3']\n",
    "gp_pairs = []\n",
    "for gp_1 in range(2):\n",
    "    for rgp_2 in range(gp_1+1, 3):\n",
    "        gp_pairs.append((gp[gp_1], gp[rgp_2]))\n",
    "\n",
    "for gp_1, gp_2 in gp_pairs:\n",
    "    print(gp_1, gp_2)\n",
    "    stat, p_val = stats.ttest_ind(df[gp_1],df[gp_2])\n",
    "    print(f\"stat:- {stat} p_val:- {p_val} significance:- {p_val<0.05}\")"
   ]
  },
  {
   "cell_type": "markdown",
   "id": "5f7be049-211f-40fd-9633-417509b724b1",
   "metadata": {},
   "source": [
    "### Resources\n",
    "1) https://docs.scipy.org/doc/scipy/reference/generated/scipy.stats.kruskal.html <br>\n",
    "2) https://www.youtube.com/watch?v=q1D4Di1KWLc <br>\n",
    "3) https://www.youtube.com/watch?v=l86wEhUzkY4 <br>"
   ]
  },
  {
   "cell_type": "code",
   "execution_count": null,
   "id": "5dfc2ef5-39b2-42e7-b3ed-de40de200412",
   "metadata": {},
   "outputs": [],
   "source": []
  }
 ],
 "metadata": {
  "kernelspec": {
   "display_name": "Python 3 (ipykernel)",
   "language": "python",
   "name": "python3"
  },
  "language_info": {
   "codemirror_mode": {
    "name": "ipython",
    "version": 3
   },
   "file_extension": ".py",
   "mimetype": "text/x-python",
   "name": "python",
   "nbconvert_exporter": "python",
   "pygments_lexer": "ipython3",
   "version": "3.7.4"
  }
 },
 "nbformat": 4,
 "nbformat_minor": 5
}
