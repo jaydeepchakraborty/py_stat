{
 "cells": [
  {
   "cell_type": "code",
   "execution_count": null,
   "id": "e29a48fb-01a2-42b0-af66-d93b965fe167",
   "metadata": {},
   "outputs": [],
   "source": []
  },
  {
   "cell_type": "code",
   "execution_count": 1,
   "id": "9e22170b-0c71-4bf3-beff-6ad57152a507",
   "metadata": {},
   "outputs": [],
   "source": [
    "import statsmodels.stats.weightstats as statsM\n",
    "from scipy import stats\n",
    "import numpy as np\n",
    "import pandas as pd"
   ]
  },
  {
   "cell_type": "markdown",
   "id": "9cd26af0-3753-417e-86bc-ac418da120cf",
   "metadata": {},
   "source": [
    "### Chi-Squared Goodness-Of-Fit Test"
   ]
  },
  {
   "cell_type": "raw",
   "id": "1416ef97-b5b6-497f-8c83-e8c4720b4631",
   "metadata": {},
   "source": [
    "## Test a sample mean differs from the an expected (population) mean"
   ]
  },
  {
   "cell_type": "raw",
   "id": "51129bf1-22a4-42cb-8731-517742ecbef4",
   "metadata": {},
   "source": [
    "# let's say,\n",
    "-- we are rolling a dice n times\n",
    "For fair dice,\n",
    "-- expected distribution should be [n/6, n/6, n/6, n/6, n/6, n/6]\n",
    "-- observed distribution is [n_1, n_2, n_3, n_4, n_5, n_6]\n",
    "\n",
    "We can do chisquare test to find whether the dice is fair or not"
   ]
  },
  {
   "cell_type": "code",
   "execution_count": 4,
   "id": "7380509d-e769-4fe9-8575-8449ee0e9582",
   "metadata": {},
   "outputs": [
    {
     "name": "stdout",
     "output_type": "stream",
     "text": [
      "0.003651257113910144\n"
     ]
    }
   ],
   "source": [
    "# Experiment 1:\n",
    "## n = 279\n",
    "rolls_expected = [46.5, 46.5, 46.5, 46.5, 46.5, 46.5]\n",
    "rolls_actual =  [59, 63, 37, 38, 32, 50]\n",
    "stat, p_val = stats.chisquare(rolls_actual, rolls_expected)\n",
    "print(p_val)"
   ]
  },
  {
   "cell_type": "raw",
   "id": "74b19c58-c230-45c9-b9e1-1f494f034bd2",
   "metadata": {},
   "source": [
    "H_0: the dice is fair, rolls_expected and rolls_actual have similar distribution.\n",
    "H_a: the dice is not fair, rolls_expected and rolls_actual have different distribution.\n",
    "p_val < 0.05:\n",
    "    yes, reject H_0, so the dice is not fair"
   ]
  },
  {
   "cell_type": "markdown",
   "id": "b16c2db0-3e5d-46b3-b4a4-c9ab00690254",
   "metadata": {},
   "source": [
    "### Chi-Squared Test of Independence"
   ]
  },
  {
   "cell_type": "raw",
   "id": "c2154624-2d45-4fdb-b8f3-c7d5b6e64f95",
   "metadata": {},
   "source": [
    "## It checks whether two categorical variables are independent"
   ]
  },
  {
   "cell_type": "code",
   "execution_count": null,
   "id": "687f7a63-67f4-423a-aa5d-c75137eb68b3",
   "metadata": {},
   "outputs": [],
   "source": [
    "First check the problem statement:\n",
    "    Data:\n",
    "        Democrat      Republican(not Democrat)\n",
    "Black\n",
    "White\n",
    "\n",
    "H_0: P(Black) = P(White)\n",
    "H_a: P(Black) != P(White)"
   ]
  },
  {
   "cell_type": "code",
   "execution_count": 14,
   "id": "a26a545c-c2dd-4f3a-a66c-9a9396e5feae",
   "metadata": {},
   "outputs": [
    {
     "data": {
      "text/html": [
       "<div>\n",
       "<style scoped>\n",
       "    .dataframe tbody tr th:only-of-type {\n",
       "        vertical-align: middle;\n",
       "    }\n",
       "\n",
       "    .dataframe tbody tr th {\n",
       "        vertical-align: top;\n",
       "    }\n",
       "\n",
       "    .dataframe thead th {\n",
       "        text-align: right;\n",
       "    }\n",
       "</style>\n",
       "<table border=\"1\" class=\"dataframe\">\n",
       "  <thead>\n",
       "    <tr style=\"text-align: right;\">\n",
       "      <th></th>\n",
       "      <th>democrat</th>\n",
       "      <th>republican</th>\n",
       "      <th>row_total</th>\n",
       "    </tr>\n",
       "  </thead>\n",
       "  <tbody>\n",
       "    <tr>\n",
       "      <th>black</th>\n",
       "      <td>192</td>\n",
       "      <td>233</td>\n",
       "      <td>425</td>\n",
       "    </tr>\n",
       "    <tr>\n",
       "      <th>white</th>\n",
       "      <td>264</td>\n",
       "      <td>311</td>\n",
       "      <td>575</td>\n",
       "    </tr>\n",
       "    <tr>\n",
       "      <th>col_total</th>\n",
       "      <td>456</td>\n",
       "      <td>544</td>\n",
       "      <td>1000</td>\n",
       "    </tr>\n",
       "  </tbody>\n",
       "</table>\n",
       "</div>"
      ],
      "text/plain": [
       "           democrat  republican  row_total\n",
       "black           192         233        425\n",
       "white           264         311        575\n",
       "col_total       456         544       1000"
      ]
     },
     "execution_count": 14,
     "metadata": {},
     "output_type": "execute_result"
    }
   ],
   "source": [
    "### Data\n",
    "voter_race = np.random.choice(a= ['black','white'],\n",
    "                             p = [0.4, 0.6],\n",
    "                             size = 1000)\n",
    "\n",
    "voter_party = np.random.choice(a= ['democrat', 'republican'],\n",
    "                             p = [0.45, 0.55],\n",
    "                             size = 1000)\n",
    "\n",
    "voter = pd.DataFrame({\"race\":voter_race, \"party\": voter_party})\n",
    "\n",
    "voter_tab = pd.crosstab(voter.race, voter.party, margins = True)\n",
    "voter_tab.index = ['black', 'white', \"col_total\"]\n",
    "voter_tab.columns = ['democrat', 'republican', \"row_total\"]\n",
    "voter_tab"
   ]
  },
  {
   "cell_type": "code",
   "execution_count": 15,
   "id": "61489f59-aefb-4a97-8763-675be7f6b678",
   "metadata": {},
   "outputs": [
    {
     "data": {
      "text/html": [
       "<div>\n",
       "<style scoped>\n",
       "    .dataframe tbody tr th:only-of-type {\n",
       "        vertical-align: middle;\n",
       "    }\n",
       "\n",
       "    .dataframe tbody tr th {\n",
       "        vertical-align: top;\n",
       "    }\n",
       "\n",
       "    .dataframe thead th {\n",
       "        text-align: right;\n",
       "    }\n",
       "</style>\n",
       "<table border=\"1\" class=\"dataframe\">\n",
       "  <thead>\n",
       "    <tr style=\"text-align: right;\">\n",
       "      <th></th>\n",
       "      <th>democrat</th>\n",
       "      <th>republican</th>\n",
       "    </tr>\n",
       "  </thead>\n",
       "  <tbody>\n",
       "    <tr>\n",
       "      <th>black</th>\n",
       "      <td>192</td>\n",
       "      <td>233</td>\n",
       "    </tr>\n",
       "    <tr>\n",
       "      <th>white</th>\n",
       "      <td>264</td>\n",
       "      <td>311</td>\n",
       "    </tr>\n",
       "  </tbody>\n",
       "</table>\n",
       "</div>"
      ],
      "text/plain": [
       "       democrat  republican\n",
       "black       192         233\n",
       "white       264         311"
      ]
     },
     "execution_count": 15,
     "metadata": {},
     "output_type": "execute_result"
    }
   ],
   "source": [
    "observed = voter_tab.iloc[0:2, 0:2]\n",
    "observed"
   ]
  },
  {
   "cell_type": "code",
   "execution_count": 16,
   "id": "79af26d7-72e3-47c9-abb7-467d3625968a",
   "metadata": {},
   "outputs": [
    {
     "name": "stdout",
     "output_type": "stream",
     "text": [
      "chi squared val:-  0.02787829359769263\n",
      "p value:-  0.8673952735070445\n",
      "degree of freedom:-  1\n",
      "expected:- \n",
      " [[193.8 231.2]\n",
      " [262.2 312.8]]\n"
     ]
    }
   ],
   "source": [
    "chi2, p, dof, expected = stats.chi2_contingency(observed = observed)\n",
    "print(\"chi squared val:- \", chi2)\n",
    "print(\"p value:- \", p)\n",
    "print(\"degree of freedom:- \", dof)\n",
    "print(\"expected:- \\n\", expected)"
   ]
  },
  {
   "cell_type": "raw",
   "id": "d4bf088f-2363-4161-bf91-0d29e7042c92",
   "metadata": {},
   "source": [
    "H_0: P(Black) == P(White)\n",
    "H_a: P(Black) != P(White)\n",
    "p_val < 0.05:\n",
    "    no, reject H_0, \n",
    "    so H_a: P(Black) != P(White)"
   ]
  },
  {
   "cell_type": "raw",
   "id": "9df389ef-c09c-4404-984a-a4c6d197ae9e",
   "metadata": {},
   "source": [
    "# let's say,\n",
    "Now consider more than two groups.\n",
    "We want to find is there any relation between voter race and voter party."
   ]
  },
  {
   "cell_type": "code",
   "execution_count": 9,
   "id": "0851ccec-424b-4969-92d6-cc36a520d15c",
   "metadata": {},
   "outputs": [
    {
     "data": {
      "text/html": [
       "<div>\n",
       "<style scoped>\n",
       "    .dataframe tbody tr th:only-of-type {\n",
       "        vertical-align: middle;\n",
       "    }\n",
       "\n",
       "    .dataframe tbody tr th {\n",
       "        vertical-align: top;\n",
       "    }\n",
       "\n",
       "    .dataframe thead th {\n",
       "        text-align: right;\n",
       "    }\n",
       "</style>\n",
       "<table border=\"1\" class=\"dataframe\">\n",
       "  <thead>\n",
       "    <tr style=\"text-align: right;\">\n",
       "      <th></th>\n",
       "      <th>democrat</th>\n",
       "      <th>republican</th>\n",
       "      <th>row_total</th>\n",
       "    </tr>\n",
       "  </thead>\n",
       "  <tbody>\n",
       "    <tr>\n",
       "      <th>asian</th>\n",
       "      <td>24</td>\n",
       "      <td>26</td>\n",
       "      <td>50</td>\n",
       "    </tr>\n",
       "    <tr>\n",
       "      <th>black</th>\n",
       "      <td>52</td>\n",
       "      <td>80</td>\n",
       "      <td>132</td>\n",
       "    </tr>\n",
       "    <tr>\n",
       "      <th>hispanic</th>\n",
       "      <td>125</td>\n",
       "      <td>144</td>\n",
       "      <td>269</td>\n",
       "    </tr>\n",
       "    <tr>\n",
       "      <th>white</th>\n",
       "      <td>221</td>\n",
       "      <td>294</td>\n",
       "      <td>515</td>\n",
       "    </tr>\n",
       "    <tr>\n",
       "      <th>other</th>\n",
       "      <td>12</td>\n",
       "      <td>22</td>\n",
       "      <td>34</td>\n",
       "    </tr>\n",
       "    <tr>\n",
       "      <th>col_total</th>\n",
       "      <td>434</td>\n",
       "      <td>566</td>\n",
       "      <td>1000</td>\n",
       "    </tr>\n",
       "  </tbody>\n",
       "</table>\n",
       "</div>"
      ],
      "text/plain": [
       "           democrat  republican  row_total\n",
       "asian            24          26         50\n",
       "black            52          80        132\n",
       "hispanic        125         144        269\n",
       "white           221         294        515\n",
       "other            12          22         34\n",
       "col_total       434         566       1000"
      ]
     },
     "execution_count": 9,
     "metadata": {},
     "output_type": "execute_result"
    }
   ],
   "source": [
    "### Data\n",
    "voter_race = np.random.choice(a= ['asian', 'black', 'hispanic', 'white', 'other'],\n",
    "                             p = [0.05, 0.15, 0.25, 0.05, 0.5],\n",
    "                             size = 1000)\n",
    "\n",
    "voter_party = np.random.choice(a= ['democrat', 'republican'],\n",
    "                             p = [0.45, 0.55],\n",
    "                             size = 1000)\n",
    "\n",
    "voter = pd.DataFrame({\"race\":voter_race, \"party\": voter_party})\n",
    "\n",
    "voter_tab = pd.crosstab(voter.race, voter.party, margins = True)\n",
    "voter_tab.index = ['asian', 'black', 'hispanic', 'white', 'other', \"col_total\"]\n",
    "voter_tab.columns = ['democrat', 'republican', \"row_total\"]\n",
    "voter_tab"
   ]
  },
  {
   "cell_type": "code",
   "execution_count": 11,
   "id": "21bd0ed8-f341-428c-8b0b-35634a77f532",
   "metadata": {},
   "outputs": [
    {
     "data": {
      "text/html": [
       "<div>\n",
       "<style scoped>\n",
       "    .dataframe tbody tr th:only-of-type {\n",
       "        vertical-align: middle;\n",
       "    }\n",
       "\n",
       "    .dataframe tbody tr th {\n",
       "        vertical-align: top;\n",
       "    }\n",
       "\n",
       "    .dataframe thead th {\n",
       "        text-align: right;\n",
       "    }\n",
       "</style>\n",
       "<table border=\"1\" class=\"dataframe\">\n",
       "  <thead>\n",
       "    <tr style=\"text-align: right;\">\n",
       "      <th></th>\n",
       "      <th>democrat</th>\n",
       "      <th>republican</th>\n",
       "    </tr>\n",
       "  </thead>\n",
       "  <tbody>\n",
       "    <tr>\n",
       "      <th>asian</th>\n",
       "      <td>24</td>\n",
       "      <td>26</td>\n",
       "    </tr>\n",
       "    <tr>\n",
       "      <th>black</th>\n",
       "      <td>52</td>\n",
       "      <td>80</td>\n",
       "    </tr>\n",
       "    <tr>\n",
       "      <th>hispanic</th>\n",
       "      <td>125</td>\n",
       "      <td>144</td>\n",
       "    </tr>\n",
       "    <tr>\n",
       "      <th>white</th>\n",
       "      <td>221</td>\n",
       "      <td>294</td>\n",
       "    </tr>\n",
       "    <tr>\n",
       "      <th>other</th>\n",
       "      <td>12</td>\n",
       "      <td>22</td>\n",
       "    </tr>\n",
       "  </tbody>\n",
       "</table>\n",
       "</div>"
      ],
      "text/plain": [
       "          democrat  republican\n",
       "asian           24          26\n",
       "black           52          80\n",
       "hispanic       125         144\n",
       "white          221         294\n",
       "other           12          22"
      ]
     },
     "execution_count": 11,
     "metadata": {},
     "output_type": "execute_result"
    }
   ],
   "source": [
    "observed = voter_tab.iloc[0:5, 0:2]\n",
    "observed"
   ]
  },
  {
   "cell_type": "code",
   "execution_count": 13,
   "id": "4ceccec8-703a-47ba-90b0-736ad3eb82fc",
   "metadata": {},
   "outputs": [
    {
     "name": "stdout",
     "output_type": "stream",
     "text": [
      "chi squared val:-  3.2833599237721987\n",
      "p value:-  0.5115730452042193\n",
      "degree of freedom:-  4\n",
      "expected:- \n",
      " [[ 21.7    28.3  ]\n",
      " [ 57.288  74.712]\n",
      " [116.746 152.254]\n",
      " [223.51  291.49 ]\n",
      " [ 14.756  19.244]]\n"
     ]
    }
   ],
   "source": [
    "chi2, p, dof, expected = stats.chi2_contingency(observed = observed)\n",
    "print(\"chi squared val:- \", chi2)\n",
    "print(\"p value:- \", p)\n",
    "print(\"degree of freedom:- \", dof)\n",
    "print(\"expected:- \\n\", expected)"
   ]
  },
  {
   "cell_type": "raw",
   "id": "38d0d1df-cb4f-45f2-b3d8-79d60ffcc67e",
   "metadata": {},
   "source": [
    "H_0: there is relation between race and party\n",
    "H_a: there is no relation between race and party\n",
    "p_val < 0.05:\n",
    "    no, reject H_0, no relation between race and party"
   ]
  },
  {
   "cell_type": "markdown",
   "id": "dd4f98c3-8854-4148-a5bc-29890773ad6b",
   "metadata": {},
   "source": [
    "### Resources\n",
    "1) https://www.youtube.com/watch?v=QE0v3HHcKbs <br>\n",
    "2) https://towardsdatascience.com/running-chi-square-tests-in-python-with-die-roll-data-b9903817c51b <br>\n",
    "3) https://docs.scipy.org/doc/scipy/reference/generated/scipy.stats.chisquare.html <br>"
   ]
  },
  {
   "cell_type": "code",
   "execution_count": null,
   "id": "12e4d0f5-d85c-4c57-9d80-fb25c538b17b",
   "metadata": {},
   "outputs": [],
   "source": []
  }
 ],
 "metadata": {
  "kernelspec": {
   "display_name": "Python 3 (ipykernel)",
   "language": "python",
   "name": "python3"
  },
  "language_info": {
   "codemirror_mode": {
    "name": "ipython",
    "version": 3
   },
   "file_extension": ".py",
   "mimetype": "text/x-python",
   "name": "python",
   "nbconvert_exporter": "python",
   "pygments_lexer": "ipython3",
   "version": "3.7.4"
  }
 },
 "nbformat": 4,
 "nbformat_minor": 5
}
