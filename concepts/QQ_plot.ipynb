{
 "cells": [
  {
   "cell_type": "raw",
   "id": "d7a1abdf-86fe-4d77-8f89-fc9d7cec8a27",
   "metadata": {},
   "source": [
    "## First see these two videos\n",
    "1) https://www.youtube.com/watch?v=IFKQLDmRK0Y&list=PLblh5JKOoLUK0FLuzwntyYI10UQFUhsY9&index=36\n",
    "2) https://www.youtube.com/watch?v=okjYjClSjOg&list=PLblh5JKOoLUK0FLuzwntyYI10UQFUhsY9&index=37"
   ]
  },
  {
   "cell_type": "raw",
   "id": "3ec6e9b3-db0b-465e-a22e-250b4c66385f",
   "metadata": {},
   "source": [
    "## Q-Q plot helps to identify data distribution."
   ]
  },
  {
   "cell_type": "code",
   "execution_count": 8,
   "id": "be26ec3b-a57a-45b6-a122-2cf11c9a949b",
   "metadata": {},
   "outputs": [],
   "source": [
    "import pandas as pd\n",
    "import traceback\n",
    "from scipy import stats\n",
    "import matplotlib.pyplot as plt"
   ]
  },
  {
   "cell_type": "markdown",
   "id": "6baf3dfb-c291-44d1-9fad-9cd188d79499",
   "metadata": {},
   "source": [
    "#### Basics of Q-Q plot"
   ]
  },
  {
   "cell_type": "markdown",
   "id": "9cc7d89b-41f8-4f79-9d82-abcd40838703",
   "metadata": {},
   "source": [
    "1) Q-Q plot helps to detect the normal distribution (68-95-99.7 rule)\n",
    "2) X axis - theoretical quantiles\n",
    "standard normal variate (normal distribution with mean=0, sd=1)\n",
    "3) Y axis - Ordered values\n",
    "the random values present in the data/column"
   ]
  },
  {
   "cell_type": "raw",
   "id": "6c5eaada-b5e7-485e-86e4-c9e14df19964",
   "metadata": {},
   "source": [
    "Below are some examples of data distribution (hostogram) and QQ plot"
   ]
  },
  {
   "cell_type": "markdown",
   "id": "cb9beae9-675a-477a-8a56-fcd7b18bfb37",
   "metadata": {},
   "source": [
    "<img src=\"img/QQ_1.png\" width=\"800\" height=\"400\">\n",
    "<img src=\"img/QQ_2.png\" width=\"800\" height=\"400\">\n",
    "<img src=\"img/QQ_3.png\" width=\"800\" height=\"400\">\n",
    "<img src=\"img/QQ_4.png\" width=\"800\" height=\"400\">\n",
    "<img src=\"img/QQ_5.png\" width=\"800\" height=\"400\">\n",
    "<img src=\"img/QQ_6.png\" width=\"800\" height=\"400\">"
   ]
  },
  {
   "cell_type": "markdown",
   "id": "9d43c00f-47bf-40b6-bbf8-ee397c60c4e2",
   "metadata": {
    "tags": []
   },
   "source": [
    "#### Using Q-Q plot to check whether data is normally distributed or not"
   ]
  },
  {
   "cell_type": "code",
   "execution_count": 9,
   "id": "4b7c947d-a8cc-4d93-aab7-0f250de8b2ee",
   "metadata": {},
   "outputs": [
    {
     "data": {
      "text/html": [
       "<div>\n",
       "<style scoped>\n",
       "    .dataframe tbody tr th:only-of-type {\n",
       "        vertical-align: middle;\n",
       "    }\n",
       "\n",
       "    .dataframe tbody tr th {\n",
       "        vertical-align: top;\n",
       "    }\n",
       "\n",
       "    .dataframe thead th {\n",
       "        text-align: right;\n",
       "    }\n",
       "</style>\n",
       "<table border=\"1\" class=\"dataframe\">\n",
       "  <thead>\n",
       "    <tr style=\"text-align: right;\">\n",
       "      <th></th>\n",
       "      <th>%Fat</th>\n",
       "    </tr>\n",
       "  </thead>\n",
       "  <tbody>\n",
       "    <tr>\n",
       "      <th>0</th>\n",
       "      <td>25.3</td>\n",
       "    </tr>\n",
       "    <tr>\n",
       "      <th>1</th>\n",
       "      <td>29.3</td>\n",
       "    </tr>\n",
       "    <tr>\n",
       "      <th>2</th>\n",
       "      <td>37.7</td>\n",
       "    </tr>\n",
       "  </tbody>\n",
       "</table>\n",
       "</div>"
      ],
      "text/plain": [
       "   %Fat\n",
       "0  25.3\n",
       "1  29.3\n",
       "2  37.7"
      ]
     },
     "metadata": {},
     "output_type": "display_data"
    }
   ],
   "source": [
    "def read_data():\n",
    "    try:\n",
    "        fl_path = \"data/body_fat.csv\"\n",
    "        df = pd.read_csv(fl_path)\n",
    "        return df\n",
    "    except Exception as e:\n",
    "        traceback.print_exec()\n",
    "        \n",
    "df = read_data()\n",
    "display(df.head(3))"
   ]
  },
  {
   "cell_type": "code",
   "execution_count": 11,
   "id": "eeb7240d-fa99-48af-b584-779ed4fcfe63",
   "metadata": {},
   "outputs": [
    {
     "data": {
      "text/html": [
       "<div>\n",
       "<style scoped>\n",
       "    .dataframe tbody tr th:only-of-type {\n",
       "        vertical-align: middle;\n",
       "    }\n",
       "\n",
       "    .dataframe tbody tr th {\n",
       "        vertical-align: top;\n",
       "    }\n",
       "\n",
       "    .dataframe thead th {\n",
       "        text-align: right;\n",
       "    }\n",
       "</style>\n",
       "<table border=\"1\" class=\"dataframe\">\n",
       "  <thead>\n",
       "    <tr style=\"text-align: right;\">\n",
       "      <th></th>\n",
       "      <th>%Fat</th>\n",
       "    </tr>\n",
       "  </thead>\n",
       "  <tbody>\n",
       "    <tr>\n",
       "      <th>count</th>\n",
       "      <td>92.000000</td>\n",
       "    </tr>\n",
       "    <tr>\n",
       "      <th>mean</th>\n",
       "      <td>28.565217</td>\n",
       "    </tr>\n",
       "    <tr>\n",
       "      <th>std</th>\n",
       "      <td>6.989229</td>\n",
       "    </tr>\n",
       "    <tr>\n",
       "      <th>min</th>\n",
       "      <td>16.800000</td>\n",
       "    </tr>\n",
       "    <tr>\n",
       "      <th>25%</th>\n",
       "      <td>23.150000</td>\n",
       "    </tr>\n",
       "    <tr>\n",
       "      <th>50%</th>\n",
       "      <td>27.350000</td>\n",
       "    </tr>\n",
       "    <tr>\n",
       "      <th>75%</th>\n",
       "      <td>33.075000</td>\n",
       "    </tr>\n",
       "    <tr>\n",
       "      <th>max</th>\n",
       "      <td>46.800000</td>\n",
       "    </tr>\n",
       "  </tbody>\n",
       "</table>\n",
       "</div>"
      ],
      "text/plain": [
       "            %Fat\n",
       "count  92.000000\n",
       "mean   28.565217\n",
       "std     6.989229\n",
       "min    16.800000\n",
       "25%    23.150000\n",
       "50%    27.350000\n",
       "75%    33.075000\n",
       "max    46.800000"
      ]
     },
     "metadata": {},
     "output_type": "display_data"
    }
   ],
   "source": [
    "def get_info(df):\n",
    "    try:\n",
    "        display(df[['%Fat']].describe())\n",
    "    except Exception as e:\n",
    "        traceback.print_exec()\n",
    "\n",
    "get_info(df)"
   ]
  },
  {
   "cell_type": "code",
   "execution_count": 19,
   "id": "19f67256-159f-46b3-86cb-a489b6bc83f0",
   "metadata": {},
   "outputs": [
    {
     "data": {
      "image/png": "[encoded data removed]",
      "text/plain": [
       "<Figure size 432x288 with 1 Axes>"
      ]
     },
     "metadata": {
      "needs_background": "light"
     },
     "output_type": "display_data"
    }
   ],
   "source": [
    "def plot_QQ(df):\n",
    "    try:\n",
    "        # stats.norm, stats.uniform\n",
    "        stats.probplot(df['%Fat'], dist=stats.norm, plot=plt)\n",
    "        plt.title(\"Q-Q plot %Fat\")\n",
    "        plt.show()\n",
    "    except Exception as e:\n",
    "        traceback.print_exc()\n",
    "    \n",
    "plot_QQ(df)\n",
    "# So most of the values do not fall on the line so , it is not normally distributed"
   ]
  },
  {
   "cell_type": "code",
   "execution_count": 20,
   "id": "3c0082c5-3b44-40b4-8993-a9c7d3c21352",
   "metadata": {},
   "outputs": [
    {
     "data": {
      "text/html": [
       "<div>\n",
       "<style scoped>\n",
       "    .dataframe tbody tr th:only-of-type {\n",
       "        vertical-align: middle;\n",
       "    }\n",
       "\n",
       "    .dataframe tbody tr th {\n",
       "        vertical-align: top;\n",
       "    }\n",
       "\n",
       "    .dataframe thead th {\n",
       "        text-align: right;\n",
       "    }\n",
       "</style>\n",
       "<table border=\"1\" class=\"dataframe\">\n",
       "  <thead>\n",
       "    <tr style=\"text-align: right;\">\n",
       "      <th></th>\n",
       "      <th>AGE</th>\n",
       "      <th>SEX</th>\n",
       "      <th>YEAR.MEASURED</th>\n",
       "      <th>GLASSES</th>\n",
       "      <th>HANDED</th>\n",
       "      <th>RANK</th>\n",
       "      <th>HEIGHT</th>\n",
       "      <th>WEIGHT</th>\n",
       "    </tr>\n",
       "  </thead>\n",
       "  <tbody>\n",
       "    <tr>\n",
       "      <th>0</th>\n",
       "      <td>20</td>\n",
       "      <td>M</td>\n",
       "      <td>87</td>\n",
       "      <td>GLASSES</td>\n",
       "      <td>2.0</td>\n",
       "      <td>1.0</td>\n",
       "      <td>1.841</td>\n",
       "      <td>76.9</td>\n",
       "    </tr>\n",
       "    <tr>\n",
       "      <th>1</th>\n",
       "      <td>20</td>\n",
       "      <td>M</td>\n",
       "      <td>87</td>\n",
       "      <td>GLASSES</td>\n",
       "      <td>1.0</td>\n",
       "      <td>1.0</td>\n",
       "      <td>1.748</td>\n",
       "      <td>84.4</td>\n",
       "    </tr>\n",
       "    <tr>\n",
       "      <th>2</th>\n",
       "      <td>20</td>\n",
       "      <td>M</td>\n",
       "      <td>87</td>\n",
       "      <td>NEITHER</td>\n",
       "      <td>2.0</td>\n",
       "      <td>1.0</td>\n",
       "      <td>1.647</td>\n",
       "      <td>72.0</td>\n",
       "    </tr>\n",
       "  </tbody>\n",
       "</table>\n",
       "</div>"
      ],
      "text/plain": [
       "   AGE SEX  YEAR.MEASURED  GLASSES  HANDED  RANK  HEIGHT  WEIGHT\n",
       "0   20   M             87  GLASSES     2.0   1.0   1.841    76.9\n",
       "1   20   M             87  GLASSES     1.0   1.0   1.748    84.4\n",
       "2   20   M             87  NEITHER     2.0   1.0   1.647    72.0"
      ]
     },
     "metadata": {},
     "output_type": "display_data"
    }
   ],
   "source": [
    "def read_data():\n",
    "    try:\n",
    "        fl_path = \"data/HEIGHT.csv\"\n",
    "        df = pd.read_csv(fl_path)\n",
    "        return df\n",
    "    except Exception as e:\n",
    "        traceback.print_exec()\n",
    "        \n",
    "df = read_data()\n",
    "display(df.head(3))"
   ]
  },
  {
   "cell_type": "code",
   "execution_count": 21,
   "id": "c03fcd58-98f9-493b-bfce-2f2f353a2af9",
   "metadata": {},
   "outputs": [
    {
     "data": {
      "text/html": [
       "<div>\n",
       "<style scoped>\n",
       "    .dataframe tbody tr th:only-of-type {\n",
       "        vertical-align: middle;\n",
       "    }\n",
       "\n",
       "    .dataframe tbody tr th {\n",
       "        vertical-align: top;\n",
       "    }\n",
       "\n",
       "    .dataframe thead th {\n",
       "        text-align: right;\n",
       "    }\n",
       "</style>\n",
       "<table border=\"1\" class=\"dataframe\">\n",
       "  <thead>\n",
       "    <tr style=\"text-align: right;\">\n",
       "      <th></th>\n",
       "      <th>HEIGHT</th>\n",
       "    </tr>\n",
       "  </thead>\n",
       "  <tbody>\n",
       "    <tr>\n",
       "      <th>count</th>\n",
       "      <td>2298.000000</td>\n",
       "    </tr>\n",
       "    <tr>\n",
       "      <th>mean</th>\n",
       "      <td>1.684793</td>\n",
       "    </tr>\n",
       "    <tr>\n",
       "      <th>std</th>\n",
       "      <td>0.090806</td>\n",
       "    </tr>\n",
       "    <tr>\n",
       "      <th>min</th>\n",
       "      <td>1.428000</td>\n",
       "    </tr>\n",
       "    <tr>\n",
       "      <th>25%</th>\n",
       "      <td>1.613000</td>\n",
       "    </tr>\n",
       "    <tr>\n",
       "      <th>50%</th>\n",
       "      <td>1.680000</td>\n",
       "    </tr>\n",
       "    <tr>\n",
       "      <th>75%</th>\n",
       "      <td>1.749000</td>\n",
       "    </tr>\n",
       "    <tr>\n",
       "      <th>max</th>\n",
       "      <td>2.042000</td>\n",
       "    </tr>\n",
       "  </tbody>\n",
       "</table>\n",
       "</div>"
      ],
      "text/plain": [
       "            HEIGHT\n",
       "count  2298.000000\n",
       "mean      1.684793\n",
       "std       0.090806\n",
       "min       1.428000\n",
       "25%       1.613000\n",
       "50%       1.680000\n",
       "75%       1.749000\n",
       "max       2.042000"
      ]
     },
     "metadata": {},
     "output_type": "display_data"
    }
   ],
   "source": [
    "def get_info(df):\n",
    "    try:\n",
    "        display(df[['HEIGHT']].describe())\n",
    "    except Exception as e:\n",
    "        traceback.print_exec()\n",
    "\n",
    "get_info(df)"
   ]
  },
  {
   "cell_type": "code",
   "execution_count": 22,
   "id": "ab6d36c8-7cb0-41eb-b79e-ab85dc2ca881",
   "metadata": {},
   "outputs": [
    {
     "data": {
      "image/png": "[encoded data removed]",
      "text/plain": [
       "<Figure size 432x288 with 1 Axes>"
      ]
     },
     "metadata": {
      "needs_background": "light"
     },
     "output_type": "display_data"
    }
   ],
   "source": [
    "def plot_QQ(df):\n",
    "    try:\n",
    "        # stats.norm, stats.uniform\n",
    "        stats.probplot(df['HEIGHT'], dist=stats.norm, plot=plt)\n",
    "        plt.title(\"Q-Q plot HEIGHT\")\n",
    "        plt.show()\n",
    "    except Exception as e:\n",
    "        traceback.print_exc()\n",
    "    \n",
    "plot_QQ(df)\n",
    "# So most of the values fall on the line so , it is normally distributed"
   ]
  },
  {
   "cell_type": "markdown",
   "id": "4edc1f9b-ba09-4831-9a9d-fda3650bfced",
   "metadata": {},
   "source": [
    "### Resources\n",
    "1) https://towardsdatascience.com/q-q-plots-explained-5aa8495426c0 <br>"
   ]
  },
  {
   "cell_type": "code",
   "execution_count": null,
   "id": "7a9b3b2b-5f88-4844-905c-3b03c64b49da",
   "metadata": {},
   "outputs": [],
   "source": []
  }
 ],
 "metadata": {
  "kernelspec": {
   "display_name": "Python 3 (ipykernel)",
   "language": "python",
   "name": "python3"
  },
  "language_info": {
   "codemirror_mode": {
    "name": "ipython",
    "version": 3
   },
   "file_extension": ".py",
   "mimetype": "text/x-python",
   "name": "python",
   "nbconvert_exporter": "python",
   "pygments_lexer": "ipython3",
   "version": "3.7.4"
  }
 },
 "nbformat": 4,
 "nbformat_minor": 5
}
