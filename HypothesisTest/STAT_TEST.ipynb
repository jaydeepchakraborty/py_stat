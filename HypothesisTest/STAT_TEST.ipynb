{
 "cells": [
  {
   "cell_type": "markdown",
   "id": "6dc1322d-d121-4d43-866d-c92a8db10f64",
   "metadata": {},
   "source": [
    "STAT TEST is used for different hypothesis test"
   ]
  },
  {
   "cell_type": "markdown",
   "id": "990144c0-c596-4c88-8e2a-abcd5d3ce28b",
   "metadata": {},
   "source": [
    "Neyman-Pearson Hypothesis Testing Procedure\n",
    "\n",
    "Hypothesis testing procedure (by Jerzy Neyman & Egon Pearson1):\n",
    "\n",
    "(a) Start with a null and alternative hypothesis (H0 and H1) about θ\n",
    "(b) Calculate some test statistic T from the observed data\n",
    "(c) Calculate p-value; i.e., probability of observing a test statistic as or\n",
    "more extreme than T under the assumption H0 is true\n",
    "(d) Reject H0 if the p-value is below some user-determined threshold\n",
    "\n",
    "Typically we assume observed data are from some known probability\n",
    "distribution (e.g., Normal, t, Poisson, binomial, etc.)."
   ]
  },
  {
   "cell_type": "markdown",
   "id": "6b0cc397-26b8-4432-9b70-7dd9df85d1f7",
   "metadata": {},
   "source": [
    "Confidence Intervals\n",
    "\n",
    "-- with α = .01, \n",
    "we can say the hypothesis is acceptable at confidance score (99% ~ 1-0.01)"
   ]
  },
  {
   "cell_type": "markdown",
   "id": "0f199a39-3d09-4feb-a54d-5dafcef4f6de",
   "metadata": {},
   "source": [
    "         H_0                 H_a\n",
    "H_0                          β (type-II err)\n",
    "H_a      α (type-I err)"
   ]
  },
  {
   "cell_type": "markdown",
   "id": "5cb4f123-0fee-4129-8263-b8f4051c0b46",
   "metadata": {},
   "source": [
    "<img src=\"img/STAT_FLOW.png\" width=\"800\" height=\"400\">"
   ]
  },
  {
   "cell_type": "markdown",
   "id": "f4169572-9355-4c9e-bd4b-d3c7f4ae1401",
   "metadata": {},
   "source": [
    "    Q) How many Samples (Nominal)?\n",
    "    \n",
    "    1) 1 sample\n",
    "        1.1) parametric\n",
    "            a) z-OneSmaple Test (known population μ, sd)\n",
    "            b) t-OneSample Test (unknown population μ, sd)\n",
    "            So when we should perform the Z test and when we should perform t-Test?\n",
    "                z: We know the population variance, our sample size is large n ≥ 30\n",
    "                t:  We do not know the population variance , our sample size is small, n < 30\n",
    "                --> If the sample size is large enough, the sample variance is better estimate \n",
    "                of population variance so Z test and t-Test will conclude with the same results.\n",
    "        1.2) non-parametric\n",
    "            a) WilcoxonSigned-Rank - OneSmaple Test Test\n",
    "    \n",
    "    2) 2 samples\n",
    "        2.1) parametric\n",
    "            a) z-TwoSample Test (known population μ, sd)\n",
    "            2.1.1) non paired/ independent\n",
    "                    a) Independent t-TwoSample test (unknown population μ, sd)\n",
    "                        a.1) Student's t-test (both population have same variance)\n",
    "                        a.2) Welch's t-test (both population have diff variance)\n",
    "            2.1.2) paired\n",
    "                    a) paired t-TwoSample test (unknown population μ, sd)\n",
    "        \n",
    "        2.2) non-parametric\n",
    "            2.2.1) non paired/ independent\n",
    "                    a) Mann-Whitney U Test\n",
    "            2.2.2) paired\n",
    "                    a) Wilcoxon Signed-Rank Test\n",
    "    \n",
    "    3) more than 2 samples\n",
    "        3.1) one factor/ variable\n",
    "            3.1.1) parametric\n",
    "                    a) One-way ANOVA\n",
    "            3.1.2) non parametric\n",
    "                    a) Kruskal-Wallis Test \n",
    "                    b) Friedman Test ~ (non parametric) repeated measure one way anova.\n",
    "                    [\"repeated measure\" means that you have (well) repeated measure on \n",
    "                    the same \"subject\".  ~ paired.\n",
    "                    example - comparing the grades of (3 different groups) students on \n",
    "                    3 different tests will be one way anova.But if we had for each student\n",
    "                    his score for each of the same test, then we could compare between \n",
    "                    the test using the repeated measures taken for each student.]\n",
    "        3.2) two factor/ variable\n",
    "            3.2.1) parametric\n",
    "                    a) Two-way ANOVA \n",
    "            3.2.2) non parametric\n",
    "                    \n",
    "                    \n",
    "    Q) (Categorical)\n",
    "        a) ChiSquare Test"
   ]
  },
  {
   "cell_type": "raw",
   "id": "beb18185-d17c-48fc-b444-d1a62a53a02b",
   "metadata": {},
   "source": [
    "** We hardly have the below situation.\n",
    "known population μ, sd\n",
    "\n",
    "We always know, the sample μ, sd (more realistic situation)\n",
    "but, if we have very large sample(>30), that would be good approximation of population μ, sd"
   ]
  },
  {
   "cell_type": "markdown",
   "id": "1f1f0f2c-4a0f-488a-ba35-e8fee834e49a",
   "metadata": {},
   "source": [
    "### Resources\n",
    "1) https://schemdraw.readthedocs.io/en/latest/gallery/flowcharting.html#galleryflow <br>\n",
    "2) https://towardsdatascience.com/non-parametric-tests-in-hypothesis-testing-138d585c3548 <br>\n",
    "3) https://github.com/selva86/datasets <br>\n",
    "4) https://www.analyticsvidhya.com/blog/2020/06/statistics-analytics-hypothesis-testing-z-test-t-test/ <br>"
   ]
  },
  {
   "cell_type": "code",
   "execution_count": null,
   "id": "d7045853-b106-4c42-9c14-c85ccb936475",
   "metadata": {},
   "outputs": [],
   "source": []
  }
 ],
 "metadata": {
  "kernelspec": {
   "display_name": "Python 3 (ipykernel)",
   "language": "python",
   "name": "python3"
  },
  "language_info": {
   "codemirror_mode": {
    "name": "ipython",
    "version": 3
   },
   "file_extension": ".py",
   "mimetype": "text/x-python",
   "name": "python",
   "nbconvert_exporter": "python",
   "pygments_lexer": "ipython3",
   "version": "3.7.4"
  }
 },
 "nbformat": 4,
 "nbformat_minor": 5
}
