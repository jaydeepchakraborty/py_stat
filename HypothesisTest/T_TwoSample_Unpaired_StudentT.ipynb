{
 "cells": [
  {
   "cell_type": "raw",
   "id": "3f9a70df-7901-4b18-b4d8-e8481f0bf3a9",
   "metadata": {},
   "source": [
    "1) parametric ~ knows the distribution (normal/gaussian)\n",
    "2) applicable for two samples\n",
    "3) The mean and standard deviation of the population is not known"
   ]
  },
  {
   "cell_type": "code",
   "execution_count": 2,
   "id": "6e9d37e1-79cb-4a5a-9972-50c5a23bac6f",
   "metadata": {},
   "outputs": [],
   "source": [
    "import statsmodels.stats.weightstats as statsM\n",
    "from scipy import stats\n",
    "import numpy as np\n",
    "import pandas as pd"
   ]
  },
  {
   "cell_type": "raw",
   "id": "04050d33-0a3e-4971-a161-7490207dfa7e",
   "metadata": {},
   "source": [
    "### Data\n",
    "-- Researchers want to know whether or not two different species of plants have the same mean height. "
   ]
  },
  {
   "cell_type": "code",
   "execution_count": 19,
   "id": "5392c15b-021a-42e8-8127-171756e55120",
   "metadata": {},
   "outputs": [
    {
     "data": {
      "text/html": [
       "<div>\n",
       "<style scoped>\n",
       "    .dataframe tbody tr th:only-of-type {\n",
       "        vertical-align: middle;\n",
       "    }\n",
       "\n",
       "    .dataframe tbody tr th {\n",
       "        vertical-align: top;\n",
       "    }\n",
       "\n",
       "    .dataframe thead th {\n",
       "        text-align: right;\n",
       "    }\n",
       "</style>\n",
       "<table border=\"1\" class=\"dataframe\">\n",
       "  <thead>\n",
       "    <tr style=\"text-align: right;\">\n",
       "      <th></th>\n",
       "      <th>Plant_GP_A</th>\n",
       "      <th>Plant_GP_B</th>\n",
       "    </tr>\n",
       "  </thead>\n",
       "  <tbody>\n",
       "    <tr>\n",
       "      <th>0</th>\n",
       "      <td>30</td>\n",
       "      <td>15</td>\n",
       "    </tr>\n",
       "    <tr>\n",
       "      <th>1</th>\n",
       "      <td>32</td>\n",
       "      <td>17</td>\n",
       "    </tr>\n",
       "    <tr>\n",
       "      <th>2</th>\n",
       "      <td>32</td>\n",
       "      <td>14</td>\n",
       "    </tr>\n",
       "    <tr>\n",
       "      <th>3</th>\n",
       "      <td>31</td>\n",
       "      <td>17</td>\n",
       "    </tr>\n",
       "    <tr>\n",
       "      <th>4</th>\n",
       "      <td>30</td>\n",
       "      <td>14</td>\n",
       "    </tr>\n",
       "  </tbody>\n",
       "</table>\n",
       "</div>"
      ],
      "text/plain": [
       "   Plant_GP_A  Plant_GP_B\n",
       "0          30          15\n",
       "1          32          17\n",
       "2          32          14\n",
       "3          31          17\n",
       "4          30          14"
      ]
     },
     "metadata": {},
     "output_type": "display_data"
    }
   ],
   "source": [
    "data = np.array([[30,15],[32,17],[32,14],[31, 17],[30,14],[30,8],[34,12],\n",
    "                 [28,19],[29,19],[37,14],[36,17],[38,22],\n",
    "                 [35,24],[32,16],[33,13],[37,16],\n",
    "                [35,13],[30,18],[31,15],[32,13]])\n",
    "\n",
    "df = pd.DataFrame(data, columns = ['Plant_GP_A','Plant_GP_B'])\n",
    "display(df.head(5))"
   ]
  },
  {
   "cell_type": "raw",
   "id": "2cf433be-b564-458a-ae4f-b8633b03fe12",
   "metadata": {},
   "source": [
    "Two-tailed test:\n",
    "H_0: Plant_GP_A_μ = Plant_GP_B_μ\n",
    "H_a: Plant_GP_A_μ != Plant_GP_B_μ"
   ]
  },
  {
   "cell_type": "raw",
   "id": "71df5589-a040-4e54-b3b9-f7ea8389c4c4",
   "metadata": {},
   "source": [
    "-- Before we perform the test, we need to decide if we’ll assume the two populations have equal variances or not. As a rule of thumb, we can assume the populations have equal variances if the ratio of the larger sample variance to the smaller sample variance is less than 4:1. "
   ]
  },
  {
   "cell_type": "code",
   "execution_count": 20,
   "id": "3ce848a9-8ba9-484d-b61c-8eae69a72f53",
   "metadata": {},
   "outputs": [
    {
     "name": "stdout",
     "output_type": "stream",
     "text": [
      "8.463157894736844 12.905263157894737\n"
     ]
    }
   ],
   "source": [
    "#find variance for each group\n",
    "print(df['Plant_GP_A'].var(), df['Plant_GP_B'].var())"
   ]
  },
  {
   "cell_type": "raw",
   "id": "f3df55ee-cb45-4452-be87-9e9e16df943e",
   "metadata": {},
   "source": [
    "# The ratio of the larger sample variance to the smaller sample variance is 12.9 / 8.13 = 1.53\n",
    "# which is less than 4. This means we can assume that the population variances are equal.\n",
    "~ Student's t-test"
   ]
  },
  {
   "cell_type": "code",
   "execution_count": 21,
   "id": "25daa0f8-1802-43e5-8401-934c8c0aec72",
   "metadata": {},
   "outputs": [
    {
     "name": "stdout",
     "output_type": "stream",
     "text": [
      "1.0667488742416785e-18\n"
     ]
    }
   ],
   "source": [
    "#perform two sample t-test with equal variances\n",
    "stat, p_val = stats.ttest_ind(a=df['Plant_GP_A'], b=df['Plant_GP_B'], equal_var=True, alternative='two-sided')\n",
    "print(p_val)"
   ]
  },
  {
   "cell_type": "raw",
   "id": "bcc5fc04-e188-482c-851f-d676ce188397",
   "metadata": {},
   "source": [
    "p_val < 0.05 ~ yes, so failed to reject H_0\n",
    "so, Plant_GP_A_μ != Plant_GP_B_μ"
   ]
  }
 ],
 "metadata": {
  "kernelspec": {
   "display_name": "Python 3 (ipykernel)",
   "language": "python",
   "name": "python3"
  },
  "language_info": {
   "codemirror_mode": {
    "name": "ipython",
    "version": 3
   },
   "file_extension": ".py",
   "mimetype": "text/x-python",
   "name": "python",
   "nbconvert_exporter": "python",
   "pygments_lexer": "ipython3",
   "version": "3.7.4"
  }
 },
 "nbformat": 4,
 "nbformat_minor": 5
}
