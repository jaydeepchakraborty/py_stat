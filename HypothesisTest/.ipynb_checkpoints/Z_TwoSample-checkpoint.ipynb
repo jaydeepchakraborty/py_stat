{
 "cells": [
  {
   "cell_type": "raw",
   "id": "be145bbd-9025-4576-8cd1-fccc5cf87ce7",
   "metadata": {},
   "source": [
    "1) parametric ~ knows the distribution (normal/gaussian)\n",
    "2) applicable for one samples\n",
    "3) The mean and standard deviation of the population is known"
   ]
  },
  {
   "cell_type": "code",
   "execution_count": 1,
   "id": "e3972b45-cacc-4d9a-8834-d999051d0f92",
   "metadata": {},
   "outputs": [],
   "source": [
    "import statsmodels.stats.weightstats as statsM\n",
    "from scipy import stats\n",
    "import numpy as np\n",
    "import pandas as pd"
   ]
  },
  {
   "cell_type": "raw",
   "id": "a4dbc3bd-accb-4236-9b3e-9c46bf55480d",
   "metadata": {},
   "source": [
    "### value in z-test\n",
    "-- In the one sample case, value is the mean of x1 under the Null hypothesis. \n",
    "-- In the two sample case, value is the difference between mean of x1 and mean of x2 under the Null hypothesis."
   ]
  },
  {
   "cell_type": "raw",
   "id": "405ff09a-20d1-412c-b685-4a596cbc0d4d",
   "metadata": {},
   "source": [
    "### Data\n",
    "-- Suppose the IQ levels among individuals in two different cities are known to be \n",
    "normally distributed with known standard deviations.\n",
    "\n",
    "-- A researcher wants to know if the mean IQ level between individuals in city A and \n",
    "city B are different."
   ]
  },
  {
   "cell_type": "code",
   "execution_count": 56,
   "id": "fe6537c3-c76d-4c73-9f42-3fecbb4c815b",
   "metadata": {},
   "outputs": [
    {
     "data": {
      "text/html": [
       "<div>\n",
       "<style scoped>\n",
       "    .dataframe tbody tr th:only-of-type {\n",
       "        vertical-align: middle;\n",
       "    }\n",
       "\n",
       "    .dataframe tbody tr th {\n",
       "        vertical-align: top;\n",
       "    }\n",
       "\n",
       "    .dataframe thead th {\n",
       "        text-align: right;\n",
       "    }\n",
       "</style>\n",
       "<table border=\"1\" class=\"dataframe\">\n",
       "  <thead>\n",
       "    <tr style=\"text-align: right;\">\n",
       "      <th></th>\n",
       "      <th>City_A</th>\n",
       "      <th>City_B</th>\n",
       "    </tr>\n",
       "  </thead>\n",
       "  <tbody>\n",
       "    <tr>\n",
       "      <th>0</th>\n",
       "      <td>78</td>\n",
       "      <td>90</td>\n",
       "    </tr>\n",
       "    <tr>\n",
       "      <th>1</th>\n",
       "      <td>80</td>\n",
       "      <td>91</td>\n",
       "    </tr>\n",
       "    <tr>\n",
       "      <th>2</th>\n",
       "      <td>85</td>\n",
       "      <td>91</td>\n",
       "    </tr>\n",
       "    <tr>\n",
       "      <th>3</th>\n",
       "      <td>89</td>\n",
       "      <td>91</td>\n",
       "    </tr>\n",
       "    <tr>\n",
       "      <th>4</th>\n",
       "      <td>91</td>\n",
       "      <td>95</td>\n",
       "    </tr>\n",
       "  </tbody>\n",
       "</table>\n",
       "</div>"
      ],
      "text/plain": [
       "   City_A  City_B\n",
       "0      78      90\n",
       "1      80      91\n",
       "2      85      91\n",
       "3      89      91\n",
       "4      91      95"
      ]
     },
     "metadata": {},
     "output_type": "display_data"
    }
   ],
   "source": [
    "data = np.array([[78,90],[80,91],[85,91],[89, 91],[91,95],[91,95],[92,99],\n",
    "                 [94,99],[99,108],[99,109],[105,109],[109,114],\n",
    "                 [109,115],[109,116],[115,117],[112,117],\n",
    "                [112,128],[111,129],[114,130],[117,137]])\n",
    "\n",
    "df = pd.DataFrame(data, columns = ['City_A','City_B'])\n",
    "display(df.head(5))"
   ]
  },
  {
   "cell_type": "code",
   "execution_count": 57,
   "id": "47594b46-89be-4afa-bdad-9db121f65832",
   "metadata": {},
   "outputs": [
    {
     "data": {
      "text/html": [
       "<div>\n",
       "<style scoped>\n",
       "    .dataframe tbody tr th:only-of-type {\n",
       "        vertical-align: middle;\n",
       "    }\n",
       "\n",
       "    .dataframe tbody tr th {\n",
       "        vertical-align: top;\n",
       "    }\n",
       "\n",
       "    .dataframe thead th {\n",
       "        text-align: right;\n",
       "    }\n",
       "</style>\n",
       "<table border=\"1\" class=\"dataframe\">\n",
       "  <thead>\n",
       "    <tr style=\"text-align: right;\">\n",
       "      <th></th>\n",
       "      <th>City_A</th>\n",
       "      <th>City_B</th>\n",
       "    </tr>\n",
       "  </thead>\n",
       "  <tbody>\n",
       "    <tr>\n",
       "      <th>count</th>\n",
       "      <td>20.000000</td>\n",
       "      <td>20.000000</td>\n",
       "    </tr>\n",
       "    <tr>\n",
       "      <th>mean</th>\n",
       "      <td>100.550000</td>\n",
       "      <td>109.000000</td>\n",
       "    </tr>\n",
       "    <tr>\n",
       "      <th>std</th>\n",
       "      <td>12.300941</td>\n",
       "      <td>14.779075</td>\n",
       "    </tr>\n",
       "    <tr>\n",
       "      <th>min</th>\n",
       "      <td>78.000000</td>\n",
       "      <td>90.000000</td>\n",
       "    </tr>\n",
       "    <tr>\n",
       "      <th>25%</th>\n",
       "      <td>91.000000</td>\n",
       "      <td>95.000000</td>\n",
       "    </tr>\n",
       "    <tr>\n",
       "      <th>50%</th>\n",
       "      <td>102.000000</td>\n",
       "      <td>109.000000</td>\n",
       "    </tr>\n",
       "    <tr>\n",
       "      <th>75%</th>\n",
       "      <td>111.250000</td>\n",
       "      <td>117.000000</td>\n",
       "    </tr>\n",
       "    <tr>\n",
       "      <th>max</th>\n",
       "      <td>117.000000</td>\n",
       "      <td>137.000000</td>\n",
       "    </tr>\n",
       "  </tbody>\n",
       "</table>\n",
       "</div>"
      ],
      "text/plain": [
       "           City_A      City_B\n",
       "count   20.000000   20.000000\n",
       "mean   100.550000  109.000000\n",
       "std     12.300941   14.779075\n",
       "min     78.000000   90.000000\n",
       "25%     91.000000   95.000000\n",
       "50%    102.000000  109.000000\n",
       "75%    111.250000  117.000000\n",
       "max    117.000000  137.000000"
      ]
     },
     "execution_count": 57,
     "metadata": {},
     "output_type": "execute_result"
    }
   ],
   "source": [
    "df.describe()"
   ]
  },
  {
   "cell_type": "code",
   "execution_count": 58,
   "id": "819cdaa7-d476-451f-92b8-eaca3d3db231",
   "metadata": {},
   "outputs": [
    {
     "name": "stdout",
     "output_type": "stream",
     "text": [
      "0.10119764506816864 ~ normally distributed\n",
      "0.12861467897891998 ~ normally distributed\n"
     ]
    }
   ],
   "source": [
    "# shapiro test for normality\n",
    "# H_0: normally distributed\n",
    "# H_a: not normally distributed\n",
    "stat, p_val = stats.shapiro(df['City_A'])\n",
    "if p_val<0.05:\n",
    "    print(f'{p_val} ~ not normally distributed')\n",
    "else:\n",
    "    print(f'{p_val} ~ normally distributed')\n",
    "    \n",
    "# shapiro test for normality\n",
    "# H_0: normally distributed\n",
    "# H_a: not normally distributed\n",
    "stat, p_val = stats.shapiro(df['City_B'])\n",
    "if p_val<0.05:\n",
    "    print(f'{p_val} ~ not normally distributed')\n",
    "else:\n",
    "    print(f'{p_val} ~ normally distributed')"
   ]
  },
  {
   "cell_type": "raw",
   "id": "76233061-0c2e-40ea-9975-7d56eacdf9cd",
   "metadata": {},
   "source": [
    "### Business problem:\n",
    "Is there any difference on IQ lvl between two cities?"
   ]
  },
  {
   "cell_type": "raw",
   "id": "1559bc73-200a-4c33-b40b-c56da81fd9de",
   "metadata": {},
   "source": [
    "Two-tailed test:\n",
    "H_0: City_A_μ = City_B_μ\n",
    "H_a: City_A_μ != City_B_μ"
   ]
  },
  {
   "cell_type": "code",
   "execution_count": 59,
   "id": "6ca0ea5c-4cb9-4e49-af75-178f11a860a2",
   "metadata": {},
   "outputs": [
    {
     "name": "stdout",
     "output_type": "stream",
     "text": [
      "0.04938055452073037\n"
     ]
    }
   ],
   "source": [
    "z_score, p_val = statsM.ztest(df['City_A'], df['City_B'], value=0, alternative=\"two-sided\")\n",
    "print(p_val)"
   ]
  },
  {
   "cell_type": "raw",
   "id": "edf5f86e-cacf-427c-93c6-5237150b6e20",
   "metadata": {},
   "source": [
    "p_val < 0.05 ~ yes, so reject H_0\n",
    "so, City_A_μ != City_B_μ"
   ]
  },
  {
   "cell_type": "raw",
   "id": "de9eb832-aa2c-42c3-90d9-73e4a6a1926a",
   "metadata": {},
   "source": [
    "Now, we want to know the direction of the effect/change (IQ)\n",
    "City_A_μ > City_B_μ\n",
    "So,\n",
    "Right-tailed:\n",
    "    diff = City_A_μ - City_B_μ ~ diff > 0\n",
    "    so,\n",
    "    H_a: City_A_μ > City_B_μ"
   ]
  },
  {
   "cell_type": "code",
   "execution_count": 60,
   "id": "4b516edc-a34b-41d5-8d96-c738c2899563",
   "metadata": {},
   "outputs": [
    {
     "name": "stdout",
     "output_type": "stream",
     "text": [
      "0.9753097227396348\n"
     ]
    }
   ],
   "source": [
    "z_score, p_val = statsM.ztest(df['City_A'], df['City_B'], value=0, alternative=\"larger\")\n",
    "print(p_val)"
   ]
  },
  {
   "cell_type": "raw",
   "id": "64f6d1ba-3f24-4cee-801c-755a660a1a2d",
   "metadata": {},
   "source": [
    "p_val < 0.05 ~ no, so failed to reject H_0\n",
    "City_A_μ <= City_B_μ"
   ]
  },
  {
   "cell_type": "raw",
   "id": "1f475a40-644d-4c5b-8fb1-3e8de79b6c73",
   "metadata": {},
   "source": [
    "Now, let's take another angle to solve the problem ==>"
   ]
  },
  {
   "cell_type": "raw",
   "id": "2bed2644-f3f3-47ec-b9fb-0acb0f14a4ac",
   "metadata": {},
   "source": [
    "Now, we want to know the direction of the effect/change (IQ)\n",
    "City_A_μ < City_B_μ\n",
    "So,\n",
    "Right-tailed:\n",
    "    diff = City_A_μ - City_B_μ ~ diff < 0\n",
    "    so,\n",
    "    H_a: City_A_μ < City_B_μ"
   ]
  },
  {
   "cell_type": "code",
   "execution_count": 61,
   "id": "824701dd-40ea-42ea-a7e7-77a88cac4c81",
   "metadata": {},
   "outputs": [
    {
     "name": "stdout",
     "output_type": "stream",
     "text": [
      "0.024690277260365184\n"
     ]
    }
   ],
   "source": [
    "z_score, p_val = statsM.ztest(df['City_A'], df['City_B'], value=0, alternative=\"smaller\")\n",
    "print(p_val)"
   ]
  },
  {
   "cell_type": "raw",
   "id": "4d2c5c30-f752-4ca5-a9ff-f01012eb4952",
   "metadata": {},
   "source": [
    "p_val < 0.05 ~ yes, so reject H_0\n",
    "City_A_μ < City_B_μ"
   ]
  },
  {
   "cell_type": "markdown",
   "id": "e0804225-6782-4c96-acfb-7cd92ce96232",
   "metadata": {},
   "source": [
    "### Resources\n",
    "1) https://www.statsmodels.org/stable/generated/statsmodels.stats.weightstats.ztest.html#statsmodels.stats.weightstats.ztest <br>"
   ]
  },
  {
   "cell_type": "code",
   "execution_count": null,
   "id": "407bb92e-4584-4cdb-b312-e6f9411ae3d8",
   "metadata": {},
   "outputs": [],
   "source": []
  }
 ],
 "metadata": {
  "kernelspec": {
   "display_name": "Python 3 (ipykernel)",
   "language": "python",
   "name": "python3"
  },
  "language_info": {
   "codemirror_mode": {
    "name": "ipython",
    "version": 3
   },
   "file_extension": ".py",
   "mimetype": "text/x-python",
   "name": "python",
   "nbconvert_exporter": "python",
   "pygments_lexer": "ipython3",
   "version": "3.7.4"
  }
 },
 "nbformat": 4,
 "nbformat_minor": 5
}
