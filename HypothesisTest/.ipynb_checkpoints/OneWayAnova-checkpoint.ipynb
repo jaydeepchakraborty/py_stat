{
 "cells": [
  {
   "cell_type": "raw",
   "id": "1b2cc306-c19d-4a1b-95b2-fcb02fd52400",
   "metadata": {},
   "source": [
    "It is used to determine whether there is statistically significant difference between the means of three or more independent groups."
   ]
  },
  {
   "cell_type": "code",
   "execution_count": 20,
   "id": "d6d3f06d-c50b-4680-9ed7-33d622bdcdcf",
   "metadata": {},
   "outputs": [],
   "source": [
    "import statsmodels.stats.weightstats as statsW\n",
    "import statsmodels.stats.multicomp as statsM\n",
    "from scipy import stats\n",
    "import numpy as np\n",
    "import pandas as pd"
   ]
  },
  {
   "cell_type": "raw",
   "id": "d8637ffc-16ec-4b6d-add2-addea88afff1",
   "metadata": {},
   "source": [
    "H_0: µ1 = µ2 = … = µk  (the means are equal for each group)\n",
    "H_a: at least one of the means is different from the others\n",
    "\n",
    "p_val < 0.05:\n",
    "    reject H_0"
   ]
  },
  {
   "cell_type": "code",
   "execution_count": 26,
   "id": "cf063ca7-ec2d-4def-9d49-cf62b64c7440",
   "metadata": {},
   "outputs": [],
   "source": [
    "# races = ['asians', 'black', 'hispanic', 'other', 'white']\n",
    "\n",
    "# voter_race = np.random.choice(a = races,\n",
    "#                              p = [0.05, 0.15, 0.25, 0.05, 0.5],\n",
    "#                              size = 1000)\n",
    "\n",
    "# voter_age = stats.poisson.rvs(loc=18, mu=30, size = 1000)\n",
    "\n",
    "# voter = pd.DataFrame({\"race\": voter_race, \"age\": voter_age})\n",
    "# voter.to_csv(\"data/Voter_SameDist.csv\", index=False)"
   ]
  },
  {
   "cell_type": "code",
   "execution_count": 27,
   "id": "11c3aa4a-88ec-4028-9c75-7b64f43a488c",
   "metadata": {},
   "outputs": [
    {
     "data": {
      "text/html": [
       "<div>\n",
       "<style scoped>\n",
       "    .dataframe tbody tr th:only-of-type {\n",
       "        vertical-align: middle;\n",
       "    }\n",
       "\n",
       "    .dataframe tbody tr th {\n",
       "        vertical-align: top;\n",
       "    }\n",
       "\n",
       "    .dataframe thead th {\n",
       "        text-align: right;\n",
       "    }\n",
       "</style>\n",
       "<table border=\"1\" class=\"dataframe\">\n",
       "  <thead>\n",
       "    <tr style=\"text-align: right;\">\n",
       "      <th></th>\n",
       "      <th>race</th>\n",
       "      <th>age</th>\n",
       "    </tr>\n",
       "  </thead>\n",
       "  <tbody>\n",
       "    <tr>\n",
       "      <th>0</th>\n",
       "      <td>white</td>\n",
       "      <td>58</td>\n",
       "    </tr>\n",
       "    <tr>\n",
       "      <th>1</th>\n",
       "      <td>hispanic</td>\n",
       "      <td>46</td>\n",
       "    </tr>\n",
       "    <tr>\n",
       "      <th>2</th>\n",
       "      <td>white</td>\n",
       "      <td>47</td>\n",
       "    </tr>\n",
       "    <tr>\n",
       "      <th>3</th>\n",
       "      <td>white</td>\n",
       "      <td>34</td>\n",
       "    </tr>\n",
       "    <tr>\n",
       "      <th>4</th>\n",
       "      <td>white</td>\n",
       "      <td>47</td>\n",
       "    </tr>\n",
       "  </tbody>\n",
       "</table>\n",
       "</div>"
      ],
      "text/plain": [
       "       race  age\n",
       "0     white   58\n",
       "1  hispanic   46\n",
       "2     white   47\n",
       "3     white   34\n",
       "4     white   47"
      ]
     },
     "execution_count": 27,
     "metadata": {},
     "output_type": "execute_result"
    }
   ],
   "source": [
    "fl_path = \"data/Voter_SameDist.csv\"\n",
    "voter = pd.read_csv(fl_path)\n",
    "voter.head(5)"
   ]
  },
  {
   "cell_type": "code",
   "execution_count": 28,
   "id": "048ea203-d6e5-46bc-aa46-f5bb114973c8",
   "metadata": {},
   "outputs": [
    {
     "data": {
      "text/html": [
       "<div>\n",
       "<style scoped>\n",
       "    .dataframe tbody tr th:only-of-type {\n",
       "        vertical-align: middle;\n",
       "    }\n",
       "\n",
       "    .dataframe tbody tr th {\n",
       "        vertical-align: top;\n",
       "    }\n",
       "\n",
       "    .dataframe thead th {\n",
       "        text-align: right;\n",
       "    }\n",
       "</style>\n",
       "<table border=\"1\" class=\"dataframe\">\n",
       "  <thead>\n",
       "    <tr style=\"text-align: right;\">\n",
       "      <th></th>\n",
       "      <th>age</th>\n",
       "    </tr>\n",
       "  </thead>\n",
       "  <tbody>\n",
       "    <tr>\n",
       "      <th>count</th>\n",
       "      <td>1000.000000</td>\n",
       "    </tr>\n",
       "    <tr>\n",
       "      <th>mean</th>\n",
       "      <td>47.824000</td>\n",
       "    </tr>\n",
       "    <tr>\n",
       "      <th>std</th>\n",
       "      <td>5.552644</td>\n",
       "    </tr>\n",
       "    <tr>\n",
       "      <th>min</th>\n",
       "      <td>32.000000</td>\n",
       "    </tr>\n",
       "    <tr>\n",
       "      <th>25%</th>\n",
       "      <td>44.000000</td>\n",
       "    </tr>\n",
       "    <tr>\n",
       "      <th>50%</th>\n",
       "      <td>48.000000</td>\n",
       "    </tr>\n",
       "    <tr>\n",
       "      <th>75%</th>\n",
       "      <td>51.000000</td>\n",
       "    </tr>\n",
       "    <tr>\n",
       "      <th>max</th>\n",
       "      <td>67.000000</td>\n",
       "    </tr>\n",
       "  </tbody>\n",
       "</table>\n",
       "</div>"
      ],
      "text/plain": [
       "               age\n",
       "count  1000.000000\n",
       "mean     47.824000\n",
       "std       5.552644\n",
       "min      32.000000\n",
       "25%      44.000000\n",
       "50%      48.000000\n",
       "75%      51.000000\n",
       "max      67.000000"
      ]
     },
     "execution_count": 28,
     "metadata": {},
     "output_type": "execute_result"
    }
   ],
   "source": [
    "voter.info()\n",
    "voter.describe()"
   ]
  },
  {
   "cell_type": "code",
   "execution_count": 38,
   "id": "900c51c5-1132-4682-b2e4-7014fe8f3c78",
   "metadata": {},
   "outputs": [
    {
     "name": "stdout",
     "output_type": "stream",
     "text": [
      "asians age:-  [55 48 47 39 46 34 51 44 38 42 52 48 52 46 44 43 42 37 57 36 54 55 48 39\n",
      " 48 41 50 38 51 46 47 48 51 53 43 44 44 55 47 47 42 38 51 55 44 51 46 44\n",
      " 44 48 52 40 35 46 48 57 41 35 49 47 48 52 52 46 76 57 36 40 38 45 46 51]\n",
      "black age:-  [42 52 57 51 50 47 35 46 45 46 47 44 62 44 46 43 53 45 51 39 51 38 37 40\n",
      " 43 49 61 59 51 45 40 56 51 44 43 45 41 63 55 43 51 44 42 48 54 43 42 45\n",
      " 49 48 50 51 51 46 46 55 47 50 48 48 63 60 50 56 49 49 51 51 50 46 44 55\n",
      " 40 49 47 42 47 49 50 53 39 52 45 48 45 47 48 51 53 56 44 53 40 53 50 46\n",
      " 39 44 49 51 56 54 44 40 45 47 45 50 45 45 50 43 53 41 51 47 41 41 49 51\n",
      " 52 55 53 51 48 41 52 56 48 58 41 45 45 39 53 47 47 43 47 38]\n",
      "hispanic age:-  [33 47 48 50 44 52 44 57 43 44 49 52 49 47 52 49 45 51 63 47 49 47 47 43\n",
      " 40 36 44 63 51 45 42 49 52 50 56 46 56 52 52 46 52 44 51 38 49 40 57 51\n",
      " 52 38 50 52 46 51 49 51 56 46 42 54 55 46 57 43 50 59 45 60 49 55 45 48\n",
      " 53 41 61 48 39 45 48 46 55 44 49 51 42 57 39 38 43 57 45 44 44 44 47 48\n",
      " 56 50 50 51 49 41 51 45 57 42 44 53 47 44 59 51 43 48 48 56 43 45 53 62\n",
      " 57 45 40 46 46 48 49 49 57 53 43 45 39 50 45 46 55 49 55 46 57 47 45 41\n",
      " 49 54 53 48 49 43 48 52 43 44 44 47 48 44 58 50 47 47 40 42 46 43 48 54\n",
      " 41 38 49 42 39 41 48 51 55 51 53 52 45 44 45 53 50 41 45 42 43 54 46 50\n",
      " 37 51 52 43 59 44 41 46 53 48 52 45 47 44 40 52 46 56 40 58 43 54 39 43\n",
      " 50 48 51 46 48 50 52 53 50 52 51 56 56 47 43 57 59]\n",
      "white age:-  [60 60 43 53 41 51 48 45 51 45 67 54 47 51 48 51 50 48 47 54 59 48 46 57\n",
      " 56 45 58 46 59 57 51 47 50 39 42 40 41 48 56 51 43 36 48 35 44 53 49 46\n",
      " 38 42 51 42 57 49 42 54 58 48 49 60 43 51 49 44 49 56 48 53 42 50 47 45\n",
      " 55 47 47 52 42 42 46 48 39 44 47 49 45 55 44 41 51 50 45 51 53 41 41 43\n",
      " 44 41 56 44 48 46 61 45 45 46 44 46 47 43 38 45 41 51 48 44 49 51 51 50\n",
      " 52 56 46 58 55 47 42 49 56 40 59 46 38 58 45 50 57 43 48 34 47 60 43 50\n",
      " 46 49 54 55 46 44 42 39 47 46 43 51 49 55 43 42 39 49 49 54 47 41 47 46\n",
      " 51 47 47 44 54 44 47 55 50 42 45 54 50 47 57 64 43 41 40 45 50 49 45 52\n",
      " 45 47 52 54 49 43 54 44 48 47 47 45 50 38 55 53 44 41 56 61 52 48 48 39\n",
      " 49 48 47 61 46 49 42 49 55 51 48 42 52 50 41 55 54 46 41 42 52 46 60 38\n",
      " 53 48 47 58 50 46 46 44 52 59 46 48 49 49 50 55 50 50 48 44 59 42 43 46\n",
      " 54 41 42 56 41 41 49 51 45 47 45 44 42 49 52 56 48 46 48 47 36 57 61 38\n",
      " 41 51 50 50 34 48 51 45 50 60 46 43 49 44 47 45 51 63 51 41 36 44 55 47\n",
      " 57 40 53 44 43 44 44 54 42 51 55 54 43 37 48 39 46 44 46 41 52 43 48 52\n",
      " 45 38 53 56 52 41 59 57 48 44 43 45 47 46 44 48 48 50 46 53 42 44 53 42\n",
      " 56 42 59 50 43 42 46 41 55 58 49 54 54 53 48 52 44 48 48 43 50 42 49 54\n",
      " 41 49 55 51 53 56 54 61 43 43 47 53 36 59 43 45 52 42 50 53 48 52 49 59\n",
      " 54 46 48 49 44 55 41 38 42 46 49 52 44 51 44 35 50 46 50 39 56 50 48 58\n",
      " 56 39 44 42 46 48 50 52 45 38 48 51 55 48 34 48 51 58 48 43 41 50 47 49\n",
      " 42 47 49 47 50 53 51 56 46 41 47 51 49 33 50 47 55 45 52 51 57 50 53 50\n",
      " 67 50 50 46 49 48 45 44 49 58 42 36 50 44 44 40 52 46 48 45 40 51 41 41]\n",
      "other age:-  [38 56 43 52 41 48 53 40 44 37 53 50 43 54 52 57 46 55 51 45 43 52 53 52\n",
      " 40 51 51 43 39 47 47 58 54 55 46 49 46 54 48 46 55 52 43 51 48 49 50 44\n",
      " 48 47 44]\n"
     ]
    }
   ],
   "source": [
    "voter_age = voter['age'].values\n",
    "voter_gp = voter.groupby(\"race\").groups\n",
    "\n",
    "# Extract individual gp\n",
    "asians = voter_age[voter_gp[\"asians\"]]\n",
    "black = voter_age[voter_gp[\"black\"]]\n",
    "hispanic = voter_age[voter_gp[\"hispanic\"]]\n",
    "white = voter_age[voter_gp[\"white\"]]\n",
    "other = voter_age[voter_gp[\"other\"]]\n",
    "\n",
    "print(\"asians age:- \",asians)\n",
    "print(\"black age:- \",black)\n",
    "print(\"hispanic age:- \",hispanic)\n",
    "print(\"white age:- \",white)\n",
    "print(\"other age:- \",other)"
   ]
  },
  {
   "cell_type": "code",
   "execution_count": 40,
   "id": "a4cae71b-37e8-4a80-908d-690fb4edb63d",
   "metadata": {},
   "outputs": [
    {
     "name": "stdout",
     "output_type": "stream",
     "text": [
      "1.3357214172632341 0.2547162546576599\n"
     ]
    }
   ],
   "source": [
    "f_stat, p_val = stats.f_oneway(asians, black, hispanic, white, other)\n",
    "print(f_stat, p_val)"
   ]
  },
  {
   "cell_type": "raw",
   "id": "5139b951-ee07-4136-8a8a-33fdcf5d44a9",
   "metadata": {},
   "source": [
    "p_val < 0.05:\n",
    "    no, failed to reject H_0\n",
    "there is no significant difference between the means of each group,\n",
    "means of all the groups are same"
   ]
  },
  {
   "cell_type": "raw",
   "id": "28dcd41b-eb5e-4625-aaed-9e7cf4fb2777",
   "metadata": {},
   "source": [
    "### let's change the data little bit,\n",
    "and make sure one group (white) the mean is different"
   ]
  },
  {
   "cell_type": "code",
   "execution_count": 41,
   "id": "11c506cd-2fea-442a-8306-9b8b782cecb3",
   "metadata": {},
   "outputs": [],
   "source": [
    "# races = ['asians', 'black', 'hispanic', 'other', 'white']\n",
    "\n",
    "# voter_race = np.random.choice(a = races,\n",
    "#                              p = [0.05, 0.15, 0.25, 0.05, 0.5],\n",
    "#                              size = 1000)\n",
    "\n",
    "# white_age = stats.poisson.rvs(loc=18, mu=32, size = 1000)\n",
    "# voter_age = stats.poisson.rvs(loc=18, mu=30, size = 1000)\n",
    "\n",
    "# voter_age = np.where(voter_race==\"white\", white_age, voter_age)\n",
    "\n",
    "# voter = pd.DataFrame({\"race\": voter_race, \"age\": voter_age})\n",
    "# voter.to_csv(\"data/Voter_DiffDist.csv\", index=False)"
   ]
  },
  {
   "cell_type": "code",
   "execution_count": 42,
   "id": "b52b40c2-af95-4c9b-af1c-d792e2c9c49c",
   "metadata": {},
   "outputs": [
    {
     "data": {
      "text/html": [
       "<div>\n",
       "<style scoped>\n",
       "    .dataframe tbody tr th:only-of-type {\n",
       "        vertical-align: middle;\n",
       "    }\n",
       "\n",
       "    .dataframe tbody tr th {\n",
       "        vertical-align: top;\n",
       "    }\n",
       "\n",
       "    .dataframe thead th {\n",
       "        text-align: right;\n",
       "    }\n",
       "</style>\n",
       "<table border=\"1\" class=\"dataframe\">\n",
       "  <thead>\n",
       "    <tr style=\"text-align: right;\">\n",
       "      <th></th>\n",
       "      <th>race</th>\n",
       "      <th>age</th>\n",
       "    </tr>\n",
       "  </thead>\n",
       "  <tbody>\n",
       "    <tr>\n",
       "      <th>0</th>\n",
       "      <td>black</td>\n",
       "      <td>44</td>\n",
       "    </tr>\n",
       "    <tr>\n",
       "      <th>1</th>\n",
       "      <td>white</td>\n",
       "      <td>50</td>\n",
       "    </tr>\n",
       "    <tr>\n",
       "      <th>2</th>\n",
       "      <td>hispanic</td>\n",
       "      <td>56</td>\n",
       "    </tr>\n",
       "    <tr>\n",
       "      <th>3</th>\n",
       "      <td>white</td>\n",
       "      <td>52</td>\n",
       "    </tr>\n",
       "    <tr>\n",
       "      <th>4</th>\n",
       "      <td>hispanic</td>\n",
       "      <td>41</td>\n",
       "    </tr>\n",
       "  </tbody>\n",
       "</table>\n",
       "</div>"
      ],
      "text/plain": [
       "       race  age\n",
       "0     black   44\n",
       "1     white   50\n",
       "2  hispanic   56\n",
       "3     white   52\n",
       "4  hispanic   41"
      ]
     },
     "execution_count": 42,
     "metadata": {},
     "output_type": "execute_result"
    }
   ],
   "source": [
    "fl_path = \"data/Voter_DiffDist.csv\"\n",
    "voter = pd.read_csv(fl_path)\n",
    "voter.head(5)"
   ]
  },
  {
   "cell_type": "code",
   "execution_count": 44,
   "id": "49478929-98d1-4fb4-805f-e672c6f473fe",
   "metadata": {},
   "outputs": [
    {
     "name": "stdout",
     "output_type": "stream",
     "text": [
      "<class 'pandas.core.frame.DataFrame'>\n",
      "RangeIndex: 1000 entries, 0 to 999\n",
      "Data columns (total 2 columns):\n",
      " #   Column  Non-Null Count  Dtype \n",
      "---  ------  --------------  ----- \n",
      " 0   race    1000 non-null   object\n",
      " 1   age     1000 non-null   int64 \n",
      "dtypes: int64(1), object(1)\n",
      "memory usage: 15.8+ KB\n"
     ]
    },
    {
     "data": {
      "text/html": [
       "<div>\n",
       "<style scoped>\n",
       "    .dataframe tbody tr th:only-of-type {\n",
       "        vertical-align: middle;\n",
       "    }\n",
       "\n",
       "    .dataframe tbody tr th {\n",
       "        vertical-align: top;\n",
       "    }\n",
       "\n",
       "    .dataframe thead th {\n",
       "        text-align: right;\n",
       "    }\n",
       "</style>\n",
       "<table border=\"1\" class=\"dataframe\">\n",
       "  <thead>\n",
       "    <tr style=\"text-align: right;\">\n",
       "      <th></th>\n",
       "      <th>age</th>\n",
       "    </tr>\n",
       "  </thead>\n",
       "  <tbody>\n",
       "    <tr>\n",
       "      <th>count</th>\n",
       "      <td>1000.000000</td>\n",
       "    </tr>\n",
       "    <tr>\n",
       "      <th>mean</th>\n",
       "      <td>49.311000</td>\n",
       "    </tr>\n",
       "    <tr>\n",
       "      <th>std</th>\n",
       "      <td>5.601934</td>\n",
       "    </tr>\n",
       "    <tr>\n",
       "      <th>min</th>\n",
       "      <td>35.000000</td>\n",
       "    </tr>\n",
       "    <tr>\n",
       "      <th>25%</th>\n",
       "      <td>45.000000</td>\n",
       "    </tr>\n",
       "    <tr>\n",
       "      <th>50%</th>\n",
       "      <td>49.000000</td>\n",
       "    </tr>\n",
       "    <tr>\n",
       "      <th>75%</th>\n",
       "      <td>53.000000</td>\n",
       "    </tr>\n",
       "    <tr>\n",
       "      <th>max</th>\n",
       "      <td>67.000000</td>\n",
       "    </tr>\n",
       "  </tbody>\n",
       "</table>\n",
       "</div>"
      ],
      "text/plain": [
       "               age\n",
       "count  1000.000000\n",
       "mean     49.311000\n",
       "std       5.601934\n",
       "min      35.000000\n",
       "25%      45.000000\n",
       "50%      49.000000\n",
       "75%      53.000000\n",
       "max      67.000000"
      ]
     },
     "execution_count": 44,
     "metadata": {},
     "output_type": "execute_result"
    }
   ],
   "source": [
    "voter.info()\n",
    "voter.describe()"
   ]
  },
  {
   "cell_type": "code",
   "execution_count": 45,
   "id": "37de90f4-faaf-4732-9a11-d411d71ebeeb",
   "metadata": {},
   "outputs": [
    {
     "name": "stdout",
     "output_type": "stream",
     "text": [
      "asians age:-  [39 53 54 45 49 50 44 49 44 47 38 48 59 51 51 41 53 54 45 54 47 59 46 50\n",
      " 46 52 47 42 57 50 50 44 48 51 55 55 42 43 47 53 44 49 46 43 42 39 45 42\n",
      " 47 45 43 49 50 44 52]\n",
      "black age:-  [44 43 47 50 57 55 47 61 46 43 51 59 57 43 52 38 48 44 51 42 57 57 54 44\n",
      " 59 56 51 52 54 47 52 49 55 50 44 45 53 46 38 45 41 52 48 38 41 48 47 44\n",
      " 52 39 52 46 54 48 46 39 63 52 50 40 52 48 50 49 55 40 42 48 52 42 50 43\n",
      " 46 51 46 55 51 46 55 49 47 49 42 58 53 47 51 46 59 49 49 55 45 47 44 40\n",
      " 60 51 52 47 37 47 51 44 53 41 36 41 52 48 45 42 47 43 49 52 41 54 51 54\n",
      " 45 49 43 56 59 41 43 50 49 46 41 48 51 46 44 39 53 44 48 47]\n",
      "hispanic age:-  [56 41 48 48 50 44 45 52 58 48 47 46 45 55 38 47 55 49 52 46 43 44 47 49\n",
      " 53 46 50 50 45 51 56 56 53 50 49 55 55 52 47 43 47 54 42 45 46 52 46 52\n",
      " 58 46 50 48 60 46 56 40 48 57 44 49 55 41 50 46 45 61 46 43 47 48 52 49\n",
      " 44 39 42 45 52 44 40 48 44 48 47 47 49 41 48 51 47 47 41 59 42 51 49 36\n",
      " 51 51 54 48 50 52 38 47 43 49 40 55 51 43 50 57 45 46 54 46 50 53 48 50\n",
      " 53 44 48 38 39 49 44 54 52 54 43 61 47 48 51 56 50 41 56 47 56 53 50 53\n",
      " 44 44 43 43 39 50 44 39 47 44 51 45 45 50 48 54 51 53 50 40 46 57 41 50\n",
      " 42 45 35 55 44 54 53 47 42 45 58 45 51 51 45 53 40 45 62 48 45 49 48 50\n",
      " 50 45 48 40 51 48 56 48 48 53 47 46 47 61 44 45 57 45 53 50 39 49 50 49\n",
      " 45 54 48 44 46 48 44 42 55 43 61 56 50 47 46 52 53 47 49 36 48 55 58 47\n",
      " 54 52 55 47 46 56 46 47 52 50 53 48 53 52 50 47 45 42 56 45 45]\n",
      "white age:-  [50 52 45 41 50 52 47 48 44 61 52 37 56 49 54 46 50 44 46 56 58 62 47 51\n",
      " 48 37 57 48 46 50 45 50 52 56 50 47 55 48 53 47 50 51 43 39 49 54 52 43\n",
      " 49 43 45 47 53 45 45 47 54 57 55 49 47 49 50 52 50 55 54 43 46 48 45 57\n",
      " 56 48 57 57 47 60 49 63 58 54 53 46 41 50 47 48 60 61 52 44 44 57 47 55\n",
      " 49 55 44 44 58 50 50 55 47 58 53 44 54 47 46 47 53 55 60 56 63 61 47 42\n",
      " 45 57 60 38 62 47 51 51 54 47 41 52 55 45 53 50 50 49 46 57 43 52 52 49\n",
      " 50 44 54 50 47 41 44 56 51 52 48 46 58 67 48 44 48 50 52 51 48 52 56 50\n",
      " 56 46 55 46 54 54 48 56 42 52 61 61 52 48 52 49 51 57 49 51 51 39 55 49\n",
      " 41 53 54 47 45 43 51 44 50 43 55 49 45 54 51 45 51 45 49 39 58 58 43 53\n",
      " 51 48 42 47 55 55 55 54 57 56 45 38 52 43 41 62 48 48 52 54 51 50 47 48\n",
      " 53 41 62 44 41 60 49 48 54 42 42 57 44 45 49 46 49 56 50 54 57 56 57 56\n",
      " 44 52 50 47 51 56 49 55 45 53 53 43 54 54 52 52 55 44 44 43 40 49 60 46\n",
      " 41 48 54 51 51 53 49 46 54 45 48 42 42 54 59 53 45 53 58 50 40 53 54 53\n",
      " 60 45 45 40 50 47 58 50 52 40 55 52 53 56 46 46 53 53 65 51 48 55 50 56\n",
      " 51 60 54 45 61 45 56 46 49 48 60 55 45 51 54 57 53 54 51 53 43 53 58 36\n",
      " 50 42 44 46 55 55 55 45 45 51 55 46 39 53 47 51 55 45 47 40 54 41 39 66\n",
      " 43 58 51 55 54 43 53 56 62 58 55 48 51 65 46 40 58 51 48 55 48 50 47 46\n",
      " 53 61 56 53 41 46 48 60 55 40 57 49 47 52 48 53 58 46 60 46 51 54 64 59\n",
      " 42 55 57 49 50 41 55 49 51 57 49 43 53 55 52 44 51 53 44 46 59 59 49 47\n",
      " 50 54 53 42 50 55 52 43 38 50 52 41 48 53 42 54 55 61 51 52 55 44 43 44\n",
      " 51 59 50 50 54 57 45 51 43 43 62 62 54 45 51]\n",
      "other age:-  [47 46 54 52 47 55 46 40 47 48 41 49 46 43 45 42 52 52 48 51 38 48 50 52\n",
      " 43 46 53 53 50 56 52 42 45 44 43 43 45 49 47 55 42 49 36 48 48 48 53 40\n",
      " 54]\n"
     ]
    }
   ],
   "source": [
    "voter_age = voter['age'].values\n",
    "voter_gp = voter.groupby(\"race\").groups\n",
    "\n",
    "# Extract individual gp\n",
    "asians = voter_age[voter_gp[\"asians\"]]\n",
    "black = voter_age[voter_gp[\"black\"]]\n",
    "hispanic = voter_age[voter_gp[\"hispanic\"]]\n",
    "white = voter_age[voter_gp[\"white\"]]\n",
    "other = voter_age[voter_gp[\"other\"]]\n",
    "\n",
    "print(\"asians age:- \",asians)\n",
    "print(\"black age:- \",black)\n",
    "print(\"hispanic age:- \",hispanic)\n",
    "print(\"white age:- \",white)\n",
    "print(\"other age:- \",other)"
   ]
  },
  {
   "cell_type": "code",
   "execution_count": 46,
   "id": "cfbce5a7-5950-4f22-98aa-d064eeb0fbbb",
   "metadata": {},
   "outputs": [
    {
     "name": "stdout",
     "output_type": "stream",
     "text": [
      "10.2266674137925 4.071911569616612e-08\n"
     ]
    }
   ],
   "source": [
    "f_stat, p_val = stats.f_oneway(asians, black, hispanic, white, other)\n",
    "print(f_stat, p_val)"
   ]
  },
  {
   "cell_type": "raw",
   "id": "7e89d56f-a263-41b7-bb8a-60e1ac491326",
   "metadata": {},
   "source": [
    "p_val < 0.05:\n",
    "    yes, reject H_0\n",
    "    \n",
    "there is significant difference between the means of each group.\n",
    "So that means one(or more) group is different"
   ]
  },
  {
   "cell_type": "raw",
   "id": "d02540ac-a46e-4262-a0d0-dd4141391a7d",
   "metadata": {},
   "source": [
    "## Now how we can know which gp is different?\n",
    "We can do t-test between each gp pairs"
   ]
  },
  {
   "cell_type": "code",
   "execution_count": 47,
   "id": "cc38f0bc-5fc5-4b54-9998-77a6c88a1b2b",
   "metadata": {},
   "outputs": [
    {
     "name": "stdout",
     "output_type": "stream",
     "text": [
      "asians black\n",
      "stat:- -0.4721252386019357 p_val:- 0.637370767826158 significance:- False\n",
      "asians hispanic\n",
      "stat:- -0.783016425831597 p_val:- 0.43420761839024424 significance:- False\n",
      "asians other\n",
      "stat:- 0.46529435380805645 p_val:- 0.6427125654312962 significance:- False\n",
      "asians white\n",
      "stat:- -3.1655883884609506 p_val:- 0.0016336936874503253 significance:- True\n",
      "black hispanic\n",
      "stat:- -0.33616190201924734 p_val:- 0.7369254921146103 significance:- False\n",
      "black other\n",
      "stat:- 0.9532207235460252 p_val:- 0.34170875768981224 significance:- False\n",
      "black white\n",
      "stat:- -3.9180402728812873 p_val:- 9.89883936801365e-05 significance:- True\n",
      "hispanic other\n",
      "stat:- 1.3121841897477988 p_val:- 0.19043506644280395 significance:- False\n",
      "hispanic white\n",
      "stat:- -4.605630488453824 p_val:- 4.826061087703691e-06 significance:- True\n",
      "other white\n",
      "stat:- -3.536375751020784 p_val:- 0.0004404017844100267 significance:- True\n"
     ]
    }
   ],
   "source": [
    "races = ['asians', 'black', 'hispanic', 'other', 'white']\n",
    "race_pairs = []\n",
    "for race_1 in range(4):\n",
    "    for race_2 in range(race_1+1, 5):\n",
    "        race_pairs.append((races[race_1], races[race_2]))\n",
    "        \n",
    "for race_1, race_2 in race_pairs:\n",
    "    print(race_1, race_2)\n",
    "    stat, p_val = stats.ttest_ind(voter_age[voter_gp[race_1]], \n",
    "                                 voter_age[voter_gp[race_2]])\n",
    "    print(f\"stat:- {stat} p_val:- {p_val} significance:- {p_val<0.05}\")"
   ]
  },
  {
   "cell_type": "raw",
   "id": "f40f3382-9f06-48d2-88ba-daf4b143a905",
   "metadata": {},
   "source": [
    "### If you check the above result, you can see \"white\" gp, the H_0 violates\n",
    "### another way to check is \"post hoc test - tukey's test\""
   ]
  },
  {
   "cell_type": "code",
   "execution_count": 48,
   "id": "7f2bfeac-5fb2-47df-aa3d-80520d980eff",
   "metadata": {},
   "outputs": [
    {
     "data": {
      "text/html": [
       "<table class=\"simpletable\">\n",
       "<caption>Multiple Comparison of Means - Tukey HSD, FWER=0.05</caption>\n",
       "<tr>\n",
       "   <th>group1</th>   <th>group2</th>  <th>meandiff</th>  <th>p-adj</th>  <th>lower</th>   <th>upper</th> <th>reject</th>\n",
       "</tr>\n",
       "<tr>\n",
       "   <td>asians</td>    <td>black</td>   <td>0.4097</td>  <td>0.9902</td> <td>-1.9827</td> <td>2.8022</td>  <td>False</td>\n",
       "</tr>\n",
       "<tr>\n",
       "   <td>asians</td>  <td>hispanic</td>  <td>0.5976</td>   <td>0.949</td> <td>-1.633</td>  <td>2.8281</td>  <td>False</td>\n",
       "</tr>\n",
       "<tr>\n",
       "   <td>asians</td>    <td>other</td>   <td>-0.4464</td> <td>0.9939</td> <td>-3.3997</td> <td>2.5069</td>  <td>False</td>\n",
       "</tr>\n",
       "<tr>\n",
       "   <td>asians</td>    <td>white</td>   <td>2.5556</td>  <td>0.0098</td> <td>0.4188</td>  <td>4.6924</td>  <td>True</td> \n",
       "</tr>\n",
       "<tr>\n",
       "    <td>black</td>  <td>hispanic</td>  <td>0.1878</td>  <td>0.9976</td> <td>-1.3871</td> <td>1.7627</td>  <td>False</td>\n",
       "</tr>\n",
       "<tr>\n",
       "    <td>black</td>    <td>other</td>   <td>-0.8561</td> <td>0.8822</td> <td>-3.3515</td> <td>1.6392</td>  <td>False</td>\n",
       "</tr>\n",
       "<tr>\n",
       "    <td>black</td>    <td>white</td>   <td>2.1458</td>  <td>0.0005</td> <td>0.7067</td>  <td>3.5849</td>  <td>True</td> \n",
       "</tr>\n",
       "<tr>\n",
       "  <td>hispanic</td>   <td>other</td>   <td>-1.0439</td> <td>0.7404</td> <td>-3.3846</td> <td>1.2967</td>  <td>False</td>\n",
       "</tr>\n",
       "<tr>\n",
       "  <td>hispanic</td>   <td>white</td>    <td>1.958</td>    <td>0.0</td>   <td>0.808</td>   <td>3.108</td>  <td>True</td> \n",
       "</tr>\n",
       "<tr>\n",
       "    <td>other</td>    <td>white</td>   <td>3.0019</td>  <td>0.0026</td> <td>0.7505</td>  <td>5.2534</td>  <td>True</td> \n",
       "</tr>\n",
       "</table>"
      ],
      "text/plain": [
       "<class 'statsmodels.iolib.table.SimpleTable'>"
      ]
     },
     "execution_count": 48,
     "metadata": {},
     "output_type": "execute_result"
    }
   ],
   "source": [
    "tukey = statsM.pairwise_tukeyhsd(endog = voter_age, #Data\n",
    "                                groups= voter_race, #Groups\n",
    "                                alpha = 0.05 #Significance lvl\n",
    "                                )\n",
    "tukey.summary()"
   ]
  },
  {
   "cell_type": "markdown",
   "id": "a4da2ae9-61f7-4f81-9f78-67d6ddf1e1d6",
   "metadata": {},
   "source": [
    "### Resources\n",
    "1) https://www.statology.org/anova-post-hoc-tests/ <br>\n",
    "2) https://www.statology.org/one-way-anova-python/ <br>"
   ]
  },
  {
   "cell_type": "code",
   "execution_count": null,
   "id": "64d2742e-6a41-4be2-b827-35d3a9bc8ff4",
   "metadata": {},
   "outputs": [],
   "source": []
  }
 ],
 "metadata": {
  "kernelspec": {
   "display_name": "Python 3 (ipykernel)",
   "language": "python",
   "name": "python3"
  },
  "language_info": {
   "codemirror_mode": {
    "name": "ipython",
    "version": 3
   },
   "file_extension": ".py",
   "mimetype": "text/x-python",
   "name": "python",
   "nbconvert_exporter": "python",
   "pygments_lexer": "ipython3",
   "version": "3.7.4"
  }
 },
 "nbformat": 4,
 "nbformat_minor": 5
}
