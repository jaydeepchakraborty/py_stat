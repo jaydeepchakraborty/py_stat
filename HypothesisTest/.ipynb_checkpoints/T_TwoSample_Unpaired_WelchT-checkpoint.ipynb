{
 "cells": [
  {
   "cell_type": "raw",
   "id": "3f9a70df-7901-4b18-b4d8-e8481f0bf3a9",
   "metadata": {},
   "source": [
    "1) parametric ~ knows the distribution (normal/gaussian)\n",
    "2) applicable for two samples\n",
    "3) The mean and standard deviation of the population is not known"
   ]
  },
  {
   "cell_type": "code",
   "execution_count": 2,
   "id": "6e9d37e1-79cb-4a5a-9972-50c5a23bac6f",
   "metadata": {},
   "outputs": [],
   "source": [
    "import statsmodels.stats.weightstats as statsM\n",
    "from scipy import stats\n",
    "import numpy as np\n",
    "import pandas as pd"
   ]
  },
  {
   "cell_type": "raw",
   "id": "04050d33-0a3e-4971-a161-7490207dfa7e",
   "metadata": {},
   "source": [
    "### Data\n",
    "-- Researchers want to know whether or not two different species of plants have the same mean height. "
   ]
  },
  {
   "cell_type": "code",
   "execution_count": 24,
   "id": "e98430ee-a967-463d-b120-e81af074979b",
   "metadata": {},
   "outputs": [
    {
     "data": {
      "text/html": [
       "<div>\n",
       "<style scoped>\n",
       "    .dataframe tbody tr th:only-of-type {\n",
       "        vertical-align: middle;\n",
       "    }\n",
       "\n",
       "    .dataframe tbody tr th {\n",
       "        vertical-align: top;\n",
       "    }\n",
       "\n",
       "    .dataframe thead th {\n",
       "        text-align: right;\n",
       "    }\n",
       "</style>\n",
       "<table border=\"1\" class=\"dataframe\">\n",
       "  <thead>\n",
       "    <tr style=\"text-align: right;\">\n",
       "      <th></th>\n",
       "      <th>Plant_GP_A</th>\n",
       "      <th>Plant_GP_B</th>\n",
       "    </tr>\n",
       "  </thead>\n",
       "  <tbody>\n",
       "    <tr>\n",
       "      <th>0</th>\n",
       "      <td>14</td>\n",
       "      <td>10</td>\n",
       "    </tr>\n",
       "    <tr>\n",
       "      <th>1</th>\n",
       "      <td>15</td>\n",
       "      <td>12</td>\n",
       "    </tr>\n",
       "    <tr>\n",
       "      <th>2</th>\n",
       "      <td>15</td>\n",
       "      <td>14</td>\n",
       "    </tr>\n",
       "    <tr>\n",
       "      <th>3</th>\n",
       "      <td>15</td>\n",
       "      <td>15</td>\n",
       "    </tr>\n",
       "    <tr>\n",
       "      <th>4</th>\n",
       "      <td>16</td>\n",
       "      <td>18</td>\n",
       "    </tr>\n",
       "  </tbody>\n",
       "</table>\n",
       "</div>"
      ],
      "text/plain": [
       "   Plant_GP_A  Plant_GP_B\n",
       "0          14          10\n",
       "1          15          12\n",
       "2          15          14\n",
       "3          15          15\n",
       "4          16          18"
      ]
     },
     "metadata": {},
     "output_type": "display_data"
    }
   ],
   "source": [
    "data = np.array([[14,10],[15,12],[15,14],[15, 15],[16,18],[18,22],[22,24],\n",
    "                 [23,27],[24,39],[25,37],[25,34]])\n",
    "\n",
    "df = pd.DataFrame(data, columns = ['Plant_GP_A','Plant_GP_B'])\n",
    "display(df.head(5))"
   ]
  },
  {
   "cell_type": "raw",
   "id": "eed3eb8f-80d4-4a85-bd75-4e6b2ecf1cb2",
   "metadata": {},
   "source": [
    "Two-tailed test:\n",
    "H_0: Plant_GP_A_μ = Plant_GP_B_μ\n",
    "H_a: Plant_GP_A_μ != Plant_GP_B_μ"
   ]
  },
  {
   "cell_type": "raw",
   "id": "e5947222-8d33-4936-bf22-5b13b29a716a",
   "metadata": {},
   "source": [
    "-- Before we perform the test, we need to decide if we’ll assume the two populations have equal variances or not. As a rule of thumb, we can assume the populations have equal variances if the ratio of the larger sample variance to the smaller sample variance is less than 4:1. "
   ]
  },
  {
   "cell_type": "code",
   "execution_count": 25,
   "id": "e99a5b86-60a3-4e63-96cd-946f79059803",
   "metadata": {},
   "outputs": [
    {
     "name": "stdout",
     "output_type": "stream",
     "text": [
      "20.418181818181818 105.0909090909091\n"
     ]
    }
   ],
   "source": [
    "#find variance for each group\n",
    "print(df['Plant_GP_A'].var(), df['Plant_GP_B'].var())"
   ]
  },
  {
   "cell_type": "raw",
   "id": "17549461-587d-4037-8f36-25881459fd9b",
   "metadata": {},
   "source": [
    "# The ratio of the larger sample variance to the smaller sample variance is 105.1 / 20.41 = 5.15\n",
    "# which is greater than 4. This means we can assume that the population variances are not equal.\n",
    "~ Welch's t-test"
   ]
  },
  {
   "cell_type": "code",
   "execution_count": 26,
   "id": "667dc8ab-7148-4b64-8b0d-d5044ae24090",
   "metadata": {},
   "outputs": [
    {
     "name": "stdout",
     "output_type": "stream",
     "text": [
      "0.3002240149340789\n"
     ]
    }
   ],
   "source": [
    "#perform two sample t-test with equal variances\n",
    "stat, p_val = stats.ttest_ind(a=df['Plant_GP_A'], b=df['Plant_GP_B'], equal_var=False, alternative='two-sided')\n",
    "print(p_val)"
   ]
  },
  {
   "cell_type": "raw",
   "id": "43b2c1e1-59d5-4244-bb03-b4179c43be02",
   "metadata": {},
   "source": [
    "p_val < 0.05 ~ no, so failed to reject H_0\n",
    "so, Plant_GP_A_μ = Plant_GP_B_μ"
   ]
  }
 ],
 "metadata": {
  "kernelspec": {
   "display_name": "Python 3 (ipykernel)",
   "language": "python",
   "name": "python3"
  },
  "language_info": {
   "codemirror_mode": {
    "name": "ipython",
    "version": 3
   },
   "file_extension": ".py",
   "mimetype": "text/x-python",
   "name": "python",
   "nbconvert_exporter": "python",
   "pygments_lexer": "ipython3",
   "version": "3.7.4"
  }
 },
 "nbformat": 4,
 "nbformat_minor": 5
}
