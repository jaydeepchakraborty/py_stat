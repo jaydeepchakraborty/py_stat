{
 "cells": [
  {
   "cell_type": "raw",
   "id": "19940f73-bb47-4355-a391-2660a6f5c40e",
   "metadata": {},
   "source": [
    "1) parametric ~ knows the distribution (normal/gaussian)\n",
    "2) applicable for one samples\n",
    "3) The mean and standard deviation of the population is not known"
   ]
  },
  {
   "cell_type": "raw",
   "id": "4b2833b5-742b-4bd6-85f0-8a9d2839e764",
   "metadata": {},
   "source": [
    "Tests whether the mean of a normally distributed population is different from a specified value.\n",
    "\n",
    "Two Tailed test:\n",
    "H_0: population mean is equal to some value\n",
    "H_a: population mean is not equal (greater/less) to some value\n",
    "\n",
    "Left Tailed test:\n",
    "H_a: population mean is less than some value\n",
    "\n",
    "Right Tailed test:\n",
    "H_a: population mean is greater than some value"
   ]
  },
  {
   "cell_type": "code",
   "execution_count": 1,
   "id": "54c7cd55-070e-436b-8bd1-605c4c9408c6",
   "metadata": {},
   "outputs": [],
   "source": [
    "import statsmodels.stats.weightstats as statsM\n",
    "from scipy import stats\n",
    "import numpy as np\n",
    "import pandas as pd"
   ]
  },
  {
   "cell_type": "raw",
   "id": "ecf84903-d649-4a99-b370-9144d79c579d",
   "metadata": {},
   "source": [
    "### Data\n",
    "-- Suppose a botanist wants to know if the mean height of a certain species of plant \n",
    "is equal to 15 inches. \n",
    "\n",
    "-- Researcher collects a random sample of 12 plants and records each of their heights in inches."
   ]
  },
  {
   "cell_type": "code",
   "execution_count": 2,
   "id": "e24eef94-3067-417b-a21d-5f41be604185",
   "metadata": {},
   "outputs": [
    {
     "data": {
      "text/html": [
       "<div>\n",
       "<style scoped>\n",
       "    .dataframe tbody tr th:only-of-type {\n",
       "        vertical-align: middle;\n",
       "    }\n",
       "\n",
       "    .dataframe tbody tr th {\n",
       "        vertical-align: top;\n",
       "    }\n",
       "\n",
       "    .dataframe thead th {\n",
       "        text-align: right;\n",
       "    }\n",
       "</style>\n",
       "<table border=\"1\" class=\"dataframe\">\n",
       "  <thead>\n",
       "    <tr style=\"text-align: right;\">\n",
       "      <th></th>\n",
       "      <th>Height</th>\n",
       "    </tr>\n",
       "  </thead>\n",
       "  <tbody>\n",
       "    <tr>\n",
       "      <th>0</th>\n",
       "      <td>14</td>\n",
       "    </tr>\n",
       "    <tr>\n",
       "      <th>1</th>\n",
       "      <td>14</td>\n",
       "    </tr>\n",
       "    <tr>\n",
       "      <th>2</th>\n",
       "      <td>16</td>\n",
       "    </tr>\n",
       "    <tr>\n",
       "      <th>3</th>\n",
       "      <td>13</td>\n",
       "    </tr>\n",
       "    <tr>\n",
       "      <th>4</th>\n",
       "      <td>12</td>\n",
       "    </tr>\n",
       "  </tbody>\n",
       "</table>\n",
       "</div>"
      ],
      "text/plain": [
       "   Height\n",
       "0      14\n",
       "1      14\n",
       "2      16\n",
       "3      13\n",
       "4      12"
      ]
     },
     "metadata": {},
     "output_type": "display_data"
    }
   ],
   "source": [
    "data = [14, 14, 16, 13, 12, 17, 15, 14, 15, 13, 15, 14]\n",
    "\n",
    "df = pd.DataFrame(data, columns = ['Height'])\n",
    "display(df.head(5))"
   ]
  },
  {
   "cell_type": "code",
   "execution_count": 3,
   "id": "c861fc2a-5752-4437-85ea-15f9a4fc8593",
   "metadata": {},
   "outputs": [
    {
     "data": {
      "text/html": [
       "<div>\n",
       "<style scoped>\n",
       "    .dataframe tbody tr th:only-of-type {\n",
       "        vertical-align: middle;\n",
       "    }\n",
       "\n",
       "    .dataframe tbody tr th {\n",
       "        vertical-align: top;\n",
       "    }\n",
       "\n",
       "    .dataframe thead th {\n",
       "        text-align: right;\n",
       "    }\n",
       "</style>\n",
       "<table border=\"1\" class=\"dataframe\">\n",
       "  <thead>\n",
       "    <tr style=\"text-align: right;\">\n",
       "      <th></th>\n",
       "      <th>Height</th>\n",
       "    </tr>\n",
       "  </thead>\n",
       "  <tbody>\n",
       "    <tr>\n",
       "      <th>count</th>\n",
       "      <td>12.000000</td>\n",
       "    </tr>\n",
       "    <tr>\n",
       "      <th>mean</th>\n",
       "      <td>14.333333</td>\n",
       "    </tr>\n",
       "    <tr>\n",
       "      <th>std</th>\n",
       "      <td>1.370689</td>\n",
       "    </tr>\n",
       "    <tr>\n",
       "      <th>min</th>\n",
       "      <td>12.000000</td>\n",
       "    </tr>\n",
       "    <tr>\n",
       "      <th>25%</th>\n",
       "      <td>13.750000</td>\n",
       "    </tr>\n",
       "    <tr>\n",
       "      <th>50%</th>\n",
       "      <td>14.000000</td>\n",
       "    </tr>\n",
       "    <tr>\n",
       "      <th>75%</th>\n",
       "      <td>15.000000</td>\n",
       "    </tr>\n",
       "    <tr>\n",
       "      <th>max</th>\n",
       "      <td>17.000000</td>\n",
       "    </tr>\n",
       "  </tbody>\n",
       "</table>\n",
       "</div>"
      ],
      "text/plain": [
       "          Height\n",
       "count  12.000000\n",
       "mean   14.333333\n",
       "std     1.370689\n",
       "min    12.000000\n",
       "25%    13.750000\n",
       "50%    14.000000\n",
       "75%    15.000000\n",
       "max    17.000000"
      ]
     },
     "execution_count": 3,
     "metadata": {},
     "output_type": "execute_result"
    }
   ],
   "source": [
    "df.describe()"
   ]
  },
  {
   "cell_type": "code",
   "execution_count": 4,
   "id": "1e3bfa65-4106-459c-b7e1-0272d9b75ec4",
   "metadata": {},
   "outputs": [
    {
     "name": "stdout",
     "output_type": "stream",
     "text": [
      "0.7902550101280212 ~ normally distributed\n"
     ]
    }
   ],
   "source": [
    "# shapiro test for normality\n",
    "# H_0: normally distributed\n",
    "# H_a: not normally distributed\n",
    "stat, p_val = stats.shapiro(df['Height'])\n",
    "if p_val<0.05:\n",
    "    print(f'{p_val} ~ not normally distributed')\n",
    "else:\n",
    "    print(f'{p_val} ~ normally distributed')"
   ]
  },
  {
   "cell_type": "raw",
   "id": "9fe4f57e-d09f-4281-b5b4-29f7d7e699e9",
   "metadata": {},
   "source": [
    "### Business problem:\n",
    "Is the mean height for this species of plant is actually equal to 15 inches?"
   ]
  },
  {
   "cell_type": "raw",
   "id": "30f66a29-582d-46f4-ae9b-38ce3a8d5db8",
   "metadata": {},
   "source": [
    "Two-tailed test:\n",
    "H_0: After drug, the μ = 15\n",
    "H_a: After drug, the μ != 15"
   ]
  },
  {
   "cell_type": "code",
   "execution_count": 6,
   "id": "8dcfc091-666f-4470-86d6-91129cf580cc",
   "metadata": {},
   "outputs": [
    {
     "name": "stdout",
     "output_type": "stream",
     "text": [
      "0.12014460742498101\n"
     ]
    }
   ],
   "source": [
    "z_score, p_val = stats.ttest_1samp(df['Height'], popmean=15, alternative=\"two-sided\")\n",
    "print(p_val)"
   ]
  },
  {
   "cell_type": "raw",
   "id": "3a3091ce-17e5-434c-8c78-a308d292f92b",
   "metadata": {},
   "source": [
    "p_val < 0.05 ~ no, so failed to reject H_0\n",
    "so, μ != 15"
   ]
  },
  {
   "cell_type": "code",
   "execution_count": null,
   "id": "935dc974-3312-47a9-a921-d5e9bd4e5a3e",
   "metadata": {},
   "outputs": [],
   "source": [
    "Now, we want to know the direction of the effect (height)\n",
    "plant height > 15\n",
    "So,\n",
    "Right-tailed:\n",
    "    H_a: μ > 15"
   ]
  },
  {
   "cell_type": "code",
   "execution_count": 7,
   "id": "5ee17a16-eee3-4cac-aecb-e3b102969994",
   "metadata": {},
   "outputs": [
    {
     "name": "stdout",
     "output_type": "stream",
     "text": [
      "0.9399276962875095\n"
     ]
    }
   ],
   "source": [
    "z_score, p_val = stats.ttest_1samp(df['Height'], popmean=15, alternative=\"greater\")\n",
    "print(p_val)"
   ]
  },
  {
   "cell_type": "raw",
   "id": "6fa8695c-af5f-4bcc-991e-fe595b0ed783",
   "metadata": {},
   "source": [
    "p_val < 0.05 ~ no, so failed to reject H_0\n",
    "so μ <= 15"
   ]
  },
  {
   "cell_type": "raw",
   "id": "8202f989-6c55-4dfe-b7f6-c7d7ff5e2508",
   "metadata": {},
   "source": [
    "Now, let's take another angle to solve the problem ==>"
   ]
  },
  {
   "cell_type": "raw",
   "id": "0bd98866-6f11-4f10-81dd-050c3c3904e5",
   "metadata": {},
   "source": [
    "Now, we want to know the direction of the effect (height)\n",
    "plant height < 15\n",
    "So,\n",
    "Left-tailed:\n",
    "    H_a: μ < 15"
   ]
  },
  {
   "cell_type": "code",
   "execution_count": 8,
   "id": "624a4f53-53a3-41d8-a708-028b15f8857f",
   "metadata": {},
   "outputs": [
    {
     "name": "stdout",
     "output_type": "stream",
     "text": [
      "0.060072303712490505\n"
     ]
    }
   ],
   "source": [
    "z_score, p_val = stats.ttest_1samp(df['Height'], popmean=15, alternative=\"less\")\n",
    "print(p_val)"
   ]
  },
  {
   "cell_type": "raw",
   "id": "b2578bba-9a28-4312-843a-1a0e41dcd890",
   "metadata": {},
   "source": [
    "p_val < 0.05 ~ no, so failed to reject H_0\n",
    "so μ < 15"
   ]
  },
  {
   "cell_type": "markdown",
   "id": "dd28a155-bf40-4673-81f9-c92c125541ef",
   "metadata": {},
   "source": [
    "### Resources\n",
    "1) https://www.statology.org/one-sample-t-test-python/ <br>\n",
    "2) https://docs.scipy.org/doc/scipy/reference/generated/scipy.stats.ttest_1samp.html <br>"
   ]
  },
  {
   "cell_type": "code",
   "execution_count": null,
   "id": "b50a77f6-b2f6-469d-b64f-c8845f31e184",
   "metadata": {},
   "outputs": [],
   "source": []
  }
 ],
 "metadata": {
  "kernelspec": {
   "display_name": "Python 3 (ipykernel)",
   "language": "python",
   "name": "python3"
  },
  "language_info": {
   "codemirror_mode": {
    "name": "ipython",
    "version": 3
   },
   "file_extension": ".py",
   "mimetype": "text/x-python",
   "name": "python",
   "nbconvert_exporter": "python",
   "pygments_lexer": "ipython3",
   "version": "3.7.4"
  }
 },
 "nbformat": 4,
 "nbformat_minor": 5
}
