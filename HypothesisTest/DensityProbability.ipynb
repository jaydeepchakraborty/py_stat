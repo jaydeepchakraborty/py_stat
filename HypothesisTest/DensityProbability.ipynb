{
 "cells": [
  {
   "cell_type": "code",
   "execution_count": 49,
   "id": "e46e7c97-8363-492f-bd2b-9aba717f8eb6",
   "metadata": {},
   "outputs": [],
   "source": [
    "import statsmodels.stats.weightstats as statsW\n",
    "import statsmodels.stats.multicomp as statsM\n",
    "from scipy import stats\n",
    "import numpy as np\n",
    "import pandas as pd\n",
    "import matplotlib.pyplot as plt\n",
    "import statistics"
   ]
  },
  {
   "cell_type": "code",
   "execution_count": 74,
   "id": "4524ff99-0724-475b-bcbb-f1b9f41297fc",
   "metadata": {},
   "outputs": [],
   "source": [
    "fl_path = \"data/HouseFly_Wing_Length.csv\"\n",
    "df = pd.read_csv(fl_path)"
   ]
  },
  {
   "cell_type": "code",
   "execution_count": 5,
   "id": "730d0519-c1ad-4bbf-b0c2-956f6ee6aae8",
   "metadata": {},
   "outputs": [
    {
     "data": {
      "text/html": [
       "<div>\n",
       "<style scoped>\n",
       "    .dataframe tbody tr th:only-of-type {\n",
       "        vertical-align: middle;\n",
       "    }\n",
       "\n",
       "    .dataframe tbody tr th {\n",
       "        vertical-align: top;\n",
       "    }\n",
       "\n",
       "    .dataframe thead th {\n",
       "        text-align: right;\n",
       "    }\n",
       "</style>\n",
       "<table border=\"1\" class=\"dataframe\">\n",
       "  <thead>\n",
       "    <tr style=\"text-align: right;\">\n",
       "      <th></th>\n",
       "      <th>LENGTH</th>\n",
       "    </tr>\n",
       "  </thead>\n",
       "  <tbody>\n",
       "    <tr>\n",
       "      <th>count</th>\n",
       "      <td>100.000000</td>\n",
       "    </tr>\n",
       "    <tr>\n",
       "      <th>mean</th>\n",
       "      <td>45.500000</td>\n",
       "    </tr>\n",
       "    <tr>\n",
       "      <th>std</th>\n",
       "      <td>3.919647</td>\n",
       "    </tr>\n",
       "    <tr>\n",
       "      <th>min</th>\n",
       "      <td>36.000000</td>\n",
       "    </tr>\n",
       "    <tr>\n",
       "      <th>25%</th>\n",
       "      <td>43.000000</td>\n",
       "    </tr>\n",
       "    <tr>\n",
       "      <th>50%</th>\n",
       "      <td>45.500000</td>\n",
       "    </tr>\n",
       "    <tr>\n",
       "      <th>75%</th>\n",
       "      <td>48.000000</td>\n",
       "    </tr>\n",
       "    <tr>\n",
       "      <th>max</th>\n",
       "      <td>55.000000</td>\n",
       "    </tr>\n",
       "  </tbody>\n",
       "</table>\n",
       "</div>"
      ],
      "text/plain": [
       "           LENGTH\n",
       "count  100.000000\n",
       "mean    45.500000\n",
       "std      3.919647\n",
       "min     36.000000\n",
       "25%     43.000000\n",
       "50%     45.500000\n",
       "75%     48.000000\n",
       "max     55.000000"
      ]
     },
     "execution_count": 5,
     "metadata": {},
     "output_type": "execute_result"
    }
   ],
   "source": [
    "df.describe()"
   ]
  },
  {
   "cell_type": "code",
   "execution_count": 19,
   "id": "0b87a357-934a-48ab-8435-3b17cddbbca1",
   "metadata": {},
   "outputs": [
    {
     "data": {
      "image/png": "[encoded data removed]",
      "text/plain": [
       "<Figure size 432x288 with 2 Axes>"
      ]
     },
     "metadata": {
      "needs_background": "light"
     },
     "output_type": "display_data"
    }
   ],
   "source": [
    "'''\n",
    "n :This returns the values of the histogram bins.\n",
    "bins :This returns the edges of the bins.\n",
    "'''\n",
    "fig, axs = plt.subplots(1, 2)\n",
    "n_1, bins_1, _ = axs[0].hist(df['LENGTH'], density=False, bins=20)  # density=False would make counts\n",
    "axs[0].set_ylabel('Count')\n",
    "axs[0].set_xlabel('Data-Length')\n",
    "\n",
    "n_2, bins_2, _ = axs[1].hist(df['LENGTH'], density=True, bins=20)  # density=True would make probability\n",
    "axs[1].set_ylabel('Probability')\n",
    "axs[1].set_xlabel('Data-Length')\n",
    "fig.tight_layout()"
   ]
  },
  {
   "cell_type": "code",
   "execution_count": 47,
   "id": "61de69cc-ce2a-4255-ba0e-5aeb17081a00",
   "metadata": {},
   "outputs": [
    {
     "data": {
      "text/html": [
       "<div>\n",
       "<style scoped>\n",
       "    .dataframe tbody tr th:only-of-type {\n",
       "        vertical-align: middle;\n",
       "    }\n",
       "\n",
       "    .dataframe tbody tr th {\n",
       "        vertical-align: top;\n",
       "    }\n",
       "\n",
       "    .dataframe thead th {\n",
       "        text-align: right;\n",
       "    }\n",
       "</style>\n",
       "<table border=\"1\" class=\"dataframe\">\n",
       "  <thead>\n",
       "    <tr style=\"text-align: right;\">\n",
       "      <th></th>\n",
       "      <th>len_cnt</th>\n",
       "      <th>len_prob</th>\n",
       "    </tr>\n",
       "  </thead>\n",
       "  <tbody>\n",
       "    <tr>\n",
       "      <th>(36.0, 36.95]</th>\n",
       "      <td>0</td>\n",
       "      <td>0.00</td>\n",
       "    </tr>\n",
       "    <tr>\n",
       "      <th>(36.95, 37.9]</th>\n",
       "      <td>1</td>\n",
       "      <td>0.01</td>\n",
       "    </tr>\n",
       "    <tr>\n",
       "      <th>(37.9, 38.85]</th>\n",
       "      <td>2</td>\n",
       "      <td>0.02</td>\n",
       "    </tr>\n",
       "    <tr>\n",
       "      <th>(38.85, 39.8]</th>\n",
       "      <td>2</td>\n",
       "      <td>0.02</td>\n",
       "    </tr>\n",
       "    <tr>\n",
       "      <th>(39.8, 40.75]</th>\n",
       "      <td>4</td>\n",
       "      <td>0.04</td>\n",
       "    </tr>\n",
       "    <tr>\n",
       "      <th>(40.75, 41.7]</th>\n",
       "      <td>6</td>\n",
       "      <td>0.06</td>\n",
       "    </tr>\n",
       "    <tr>\n",
       "      <th>(41.7, 42.65]</th>\n",
       "      <td>7</td>\n",
       "      <td>0.07</td>\n",
       "    </tr>\n",
       "    <tr>\n",
       "      <th>(42.65, 43.6]</th>\n",
       "      <td>8</td>\n",
       "      <td>0.08</td>\n",
       "    </tr>\n",
       "    <tr>\n",
       "      <th>(43.6, 44.55]</th>\n",
       "      <td>9</td>\n",
       "      <td>0.09</td>\n",
       "    </tr>\n",
       "    <tr>\n",
       "      <th>(44.55, 45.5]</th>\n",
       "      <td>10</td>\n",
       "      <td>0.10</td>\n",
       "    </tr>\n",
       "    <tr>\n",
       "      <th>(45.5, 46.45]</th>\n",
       "      <td>10</td>\n",
       "      <td>0.10</td>\n",
       "    </tr>\n",
       "    <tr>\n",
       "      <th>(46.45, 47.4]</th>\n",
       "      <td>9</td>\n",
       "      <td>0.09</td>\n",
       "    </tr>\n",
       "    <tr>\n",
       "      <th>(47.4, 48.35]</th>\n",
       "      <td>8</td>\n",
       "      <td>0.08</td>\n",
       "    </tr>\n",
       "    <tr>\n",
       "      <th>(48.35, 49.3]</th>\n",
       "      <td>7</td>\n",
       "      <td>0.07</td>\n",
       "    </tr>\n",
       "    <tr>\n",
       "      <th>(49.3, 50.25]</th>\n",
       "      <td>6</td>\n",
       "      <td>0.06</td>\n",
       "    </tr>\n",
       "    <tr>\n",
       "      <th>(50.25, 51.2]</th>\n",
       "      <td>4</td>\n",
       "      <td>0.04</td>\n",
       "    </tr>\n",
       "    <tr>\n",
       "      <th>(51.2, 52.15]</th>\n",
       "      <td>2</td>\n",
       "      <td>0.02</td>\n",
       "    </tr>\n",
       "    <tr>\n",
       "      <th>(52.15, 53.1]</th>\n",
       "      <td>2</td>\n",
       "      <td>0.02</td>\n",
       "    </tr>\n",
       "    <tr>\n",
       "      <th>(53.1, 54.05]</th>\n",
       "      <td>1</td>\n",
       "      <td>0.01</td>\n",
       "    </tr>\n",
       "    <tr>\n",
       "      <th>(54.05, 55.0]</th>\n",
       "      <td>1</td>\n",
       "      <td>0.01</td>\n",
       "    </tr>\n",
       "  </tbody>\n",
       "</table>\n",
       "</div>"
      ],
      "text/plain": [
       "               len_cnt  len_prob\n",
       "(36.0, 36.95]        0      0.00\n",
       "(36.95, 37.9]        1      0.01\n",
       "(37.9, 38.85]        2      0.02\n",
       "(38.85, 39.8]        2      0.02\n",
       "(39.8, 40.75]        4      0.04\n",
       "(40.75, 41.7]        6      0.06\n",
       "(41.7, 42.65]        7      0.07\n",
       "(42.65, 43.6]        8      0.08\n",
       "(43.6, 44.55]        9      0.09\n",
       "(44.55, 45.5]       10      0.10\n",
       "(45.5, 46.45]       10      0.10\n",
       "(46.45, 47.4]        9      0.09\n",
       "(47.4, 48.35]        8      0.08\n",
       "(48.35, 49.3]        7      0.07\n",
       "(49.3, 50.25]        6      0.06\n",
       "(50.25, 51.2]        4      0.04\n",
       "(51.2, 52.15]        2      0.02\n",
       "(52.15, 53.1]        2      0.02\n",
       "(53.1, 54.05]        1      0.01\n",
       "(54.05, 55.0]        1      0.01"
      ]
     },
     "execution_count": 47,
     "metadata": {},
     "output_type": "execute_result"
    }
   ],
   "source": [
    "df_cnt = pd.cut(df['LENGTH'], bins=bins_1).value_counts().to_frame('len_cnt')\n",
    "df_cnt.reset_index()\n",
    "df_cnt = df_cnt.sort_index(axis = 0)\n",
    "df_cnt['len_prob'] = df_cnt['len_cnt']/100 # total count 100\n",
    "df_cnt"
   ]
  },
  {
   "cell_type": "code",
   "execution_count": 50,
   "id": "a817fbe2-1336-4b3b-bab2-a25bac0edf12",
   "metadata": {},
   "outputs": [
    {
     "data": {
      "image/png": "[encoded data removed]",
      "text/plain": [
       "<Figure size 432x288 with 1 Axes>"
      ]
     },
     "metadata": {
      "needs_background": "light"
     },
     "output_type": "display_data"
    }
   ],
   "source": [
    "fig, ax0 = plt.subplots(ncols=1, nrows=1) #creating plot axes\n",
    "#Compute and plot histogram, return the computed values and bins\n",
    "(values, bins, _) = ax0.hist(df['LENGTH'], density=True, bins=20) \n",
    "ax0.set_ylabel('Probability')\n",
    "ax0.set_xlabel('Data-Length')\n",
    "\n",
    "bin_centers = bins[:-1] + 0.5*(bins[1] - bins[0])\n",
    "#Compute probability density function\n",
    "mu=statistics.mean(df['LENGTH']) # mean\n",
    "sigma=statistics.stdev(df['LENGTH']) # standard dev\n",
    "pdf = stats.norm.pdf(x = bin_centers, loc=mu, scale=sigma)\n",
    "ax0.plot(bin_centers, pdf, label=\"PDF\",color='black') #Plot PDF\n",
    "ax0.legend()#Legend entries\n",
    "ax0.set_title('PDF of samples from numpy.random.normal()');"
   ]
  },
  {
   "cell_type": "raw",
   "id": "5e878ffe-d79f-40cc-9596-2578ccb04b77",
   "metadata": {},
   "source": [
    "okay, let's think about the bins.\n",
    "(36.0, 36.95]\n",
    "(36.95, 37.9]\n",
    "(37.9, 38.85]\n",
    "(38.85, 39.8]\n",
    "(39.8, 40.75]\n",
    "(40.75, 41.7]\n",
    "(41.7, 42.65]\n",
    "(42.65, 43.6]\n",
    "(43.6, 44.55]\n",
    "(44.55, 45.5]\n",
    "(45.5, 46.45]\n",
    "(46.45, 47.4]\n",
    "(47.4, 48.35]\n",
    "(48.35, 49.3]\n",
    "(49.3, 50.25]\n",
    "(50.25, 51.2]\n",
    "(51.2, 52.15]\n",
    "(52.15, 53.1]\n",
    "(53.1, 54.05]\n",
    "(54.05, 55.0]\n",
    " \n",
    "====>\n",
    "[36.0, 36.95, 37.9, 38.85, 39.8, 40.75, 41.7, 42.65, 43.6, \n",
    " 44.55, 45.5, 46.45, 47.4, 48.35, 49.3, 50.25, 51.2, 52.15, 53.1, 54.05, 55]"
   ]
  },
  {
   "cell_type": "code",
   "execution_count": 54,
   "id": "49092037-5697-424e-b5b2-a990f437c9d8",
   "metadata": {},
   "outputs": [
    {
     "data": {
      "image/png": "[encoded data removed]",
      "text/plain": [
       "<Figure size 432x288 with 1 Axes>"
      ]
     },
     "metadata": {
      "needs_background": "light"
     },
     "output_type": "display_data"
    }
   ],
   "source": [
    "bins = [36.0, 36.95, 37.9, 38.85, 39.8, 40.75, 41.7, 42.65, 43.6, \n",
    " 44.55, 45.5, 46.45, 47.4, 48.35, 49.3, 50.25, 51.2, 52.15, 53.1, 54.05, 55]\n",
    "fig, ax0 = plt.subplots(ncols=1, nrows=1) #creating plot axes\n",
    "#Compute and plot histogram, return the computed values and bins\n",
    "(values, bins, _) = ax0.hist(df['LENGTH'], density=True, bins=bins) \n",
    "ax0.set_ylabel('Probability')\n",
    "ax0.set_xlabel('Data-Length')\n",
    "\n",
    "bin_centers = bins[:-1] + 0.5*(bins[1] - bins[0])\n",
    "#Compute probability density function\n",
    "mu=statistics.mean(df['LENGTH']) # mean\n",
    "sigma=statistics.stdev(df['LENGTH']) # standard dev\n",
    "pdf = stats.norm.pdf(x = bin_centers, loc=mu, scale=sigma)\n",
    "ax0.plot(bin_centers, pdf, label=\"PDF\",color='black') #Plot PDF\n",
    "ax0.legend()#Legend entries\n",
    "ax0.set_title('PDF of samples from numpy.random.normal()');"
   ]
  },
  {
   "cell_type": "code",
   "execution_count": 75,
   "id": "9a2210f4-23cb-46d8-aadb-67cc22a02eb6",
   "metadata": {},
   "outputs": [
    {
     "name": "stdout",
     "output_type": "stream",
     "text": [
      "[36.   40.75 41.7  42.65 43.6  44.55 47.4  48.35 49.3  53.1  54.05 55.  ]\n",
      "[38.375 43.125 44.075 45.025 45.975 46.925 49.775 50.725 51.675 55.475\n",
      " 56.425]\n"
     ]
    },
    {
     "data": {
      "image/png": "[encoded data removed]",
      "text/plain": [
       "<Figure size 432x288 with 1 Axes>"
      ]
     },
     "metadata": {
      "needs_background": "light"
     },
     "output_type": "display_data"
    }
   ],
   "source": [
    "# If we change the bin information , let's see how it changes\n",
    "\n",
    "bin_val = [36.0, 40.75, 41.7, 42.65, 43.6, 44.55, 47.4, 48.35, 49.3, 53.1, 54.05, 55]\n",
    "fig, ax0 = plt.subplots(ncols=1, nrows=1) #creating plot axes\n",
    "#Compute and plot histogram, return the computed values and bins\n",
    "(values, bins, _) = ax0.hist(df['LENGTH'], density=True, bins=bin_val) \n",
    "ax0.set_ylabel('Probability')\n",
    "ax0.set_xlabel('Data-Length')\n",
    "\n",
    "bin_centers = bins[:-1] + 0.5*(bins[1] - bins[0])\n",
    "#Compute probability density function\n",
    "mu=statistics.mean(df['LENGTH']) # mean\n",
    "sigma=statistics.stdev(df['LENGTH']) # standard dev\n",
    "pdf = stats.norm.pdf(x = bin_centers, loc=mu, scale=sigma)\n",
    "ax0.plot(bin_centers, pdf, label=\"PDF\",color='black') #Plot PDF\n",
    "ax0.legend()#Legend entries\n",
    "ax0.set_title('PDF of samples from numpy.random.normal()');"
   ]
  },
  {
   "cell_type": "code",
   "execution_count": null,
   "id": "543ba62a-90a7-4db6-afe5-518c78e18a27",
   "metadata": {},
   "outputs": [],
   "source": []
  },
  {
   "cell_type": "code",
   "execution_count": null,
   "id": "048301ba-06fc-491a-a46e-d7eaf515806a",
   "metadata": {},
   "outputs": [],
   "source": [
    "### Another example"
   ]
  },
  {
   "cell_type": "code",
   "execution_count": 80,
   "id": "eec758ca-3728-4644-93bd-57401e8f53c2",
   "metadata": {},
   "outputs": [],
   "source": [
    "fl_path = \"data/CylinderDiameter.csv\"\n",
    "df = pd.read_csv(fl_path)"
   ]
  },
  {
   "cell_type": "code",
   "execution_count": 77,
   "id": "99a5fb71-e05a-4c2c-be60-8c6e0d9615c1",
   "metadata": {},
   "outputs": [
    {
     "data": {
      "text/html": [
       "<div>\n",
       "<style scoped>\n",
       "    .dataframe tbody tr th:only-of-type {\n",
       "        vertical-align: middle;\n",
       "    }\n",
       "\n",
       "    .dataframe tbody tr th {\n",
       "        vertical-align: top;\n",
       "    }\n",
       "\n",
       "    .dataframe thead th {\n",
       "        text-align: right;\n",
       "    }\n",
       "</style>\n",
       "<table border=\"1\" class=\"dataframe\">\n",
       "  <thead>\n",
       "    <tr style=\"text-align: right;\">\n",
       "      <th></th>\n",
       "      <th>LENGTH</th>\n",
       "    </tr>\n",
       "  </thead>\n",
       "  <tbody>\n",
       "    <tr>\n",
       "      <th>count</th>\n",
       "      <td>30.000000</td>\n",
       "    </tr>\n",
       "    <tr>\n",
       "      <th>mean</th>\n",
       "      <td>1.101667</td>\n",
       "    </tr>\n",
       "    <tr>\n",
       "      <th>std</th>\n",
       "      <td>0.049625</td>\n",
       "    </tr>\n",
       "    <tr>\n",
       "      <th>min</th>\n",
       "      <td>1.000000</td>\n",
       "    </tr>\n",
       "    <tr>\n",
       "      <th>25%</th>\n",
       "      <td>1.070000</td>\n",
       "    </tr>\n",
       "    <tr>\n",
       "      <th>50%</th>\n",
       "      <td>1.105000</td>\n",
       "    </tr>\n",
       "    <tr>\n",
       "      <th>75%</th>\n",
       "      <td>1.140000</td>\n",
       "    </tr>\n",
       "    <tr>\n",
       "      <th>max</th>\n",
       "      <td>1.200000</td>\n",
       "    </tr>\n",
       "  </tbody>\n",
       "</table>\n",
       "</div>"
      ],
      "text/plain": [
       "          LENGTH\n",
       "count  30.000000\n",
       "mean    1.101667\n",
       "std     0.049625\n",
       "min     1.000000\n",
       "25%     1.070000\n",
       "50%     1.105000\n",
       "75%     1.140000\n",
       "max     1.200000"
      ]
     },
     "execution_count": 77,
     "metadata": {},
     "output_type": "execute_result"
    }
   ],
   "source": [
    "df.describe()"
   ]
  },
  {
   "cell_type": "code",
   "execution_count": 83,
   "id": "358cdefd-0325-4ca1-b07b-60b152aba9a8",
   "metadata": {},
   "outputs": [
    {
     "data": {
      "image/png": "[encoded data removed]",
      "text/plain": [
       "<Figure size 432x288 with 1 Axes>"
      ]
     },
     "metadata": {
      "needs_background": "light"
     },
     "output_type": "display_data"
    }
   ],
   "source": [
    "bin_val = [1.025, 1.05, 1.075, 1.1, 1.125, 1.15, 1.175, 1.2]\n",
    "fig, ax0 = plt.subplots(ncols=1, nrows=1) #creating plot axes\n",
    "#Compute and plot histogram, return the computed values and bins\n",
    "(values, bins, _) = ax0.hist(df['LENGTH'], density=True, bins=bin_val) \n",
    "ax0.set_ylabel('Probability')\n",
    "ax0.set_xlabel('Data-Length')\n",
    "\n",
    "bin_centers = bins[:-1] + 0.5*(bins[1] - bins[0])\n",
    "#Compute probability density function\n",
    "mu=statistics.mean(df['LENGTH']) # mean\n",
    "sigma=statistics.stdev(df['LENGTH']) # standard dev\n",
    "pdf = stats.norm.pdf(x = bin_centers, loc=mu, scale=sigma)\n",
    "ax0.plot(bin_centers, pdf, 'bo--', label=\"PDF\") #Plot PDF\n",
    "ax0.legend()#Legend entries\n",
    "ax0.set_title('PDF of samples from numpy.random.normal()');"
   ]
  },
  {
   "cell_type": "code",
   "execution_count": null,
   "id": "efcde935-6cb3-4455-ac49-612df1fd51ff",
   "metadata": {},
   "outputs": [],
   "source": []
  }
 ],
 "metadata": {
  "kernelspec": {
   "display_name": "Python 3 (ipykernel)",
   "language": "python",
   "name": "python3"
  },
  "language_info": {
   "codemirror_mode": {
    "name": "ipython",
    "version": 3
   },
   "file_extension": ".py",
   "mimetype": "text/x-python",
   "name": "python",
   "nbconvert_exporter": "python",
   "pygments_lexer": "ipython3",
   "version": "3.7.4"
  }
 },
 "nbformat": 4,
 "nbformat_minor": 5
}
