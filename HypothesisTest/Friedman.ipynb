{
 "cells": [
  {
   "cell_type": "raw",
   "id": "d6fb6dd0-d56f-4809-9399-ec83a3154877",
   "metadata": {},
   "source": [
    "1) non-parametric ~ do not know the distribution (normal/gaussian)\n",
    "2) un paired samples (can change the order of values)\n",
    "3) applicable for more than two samples"
   ]
  },
  {
   "cell_type": "raw",
   "id": "7c056a34-393f-47ec-a37f-02a4829e1bd8",
   "metadata": {},
   "source": [
    "The main objective of this test is used to determine whether there is a statistical difference \n",
    "between the medians of at least three (>2) ~ \n",
    "(non parametric) repeated measure one way anova."
   ]
  },
  {
   "cell_type": "code",
   "execution_count": 1,
   "id": "7082754f-681d-4e2c-bc47-6ddf797470f9",
   "metadata": {},
   "outputs": [],
   "source": [
    "from scipy import stats\n",
    "import numpy as np\n",
    "import pandas as pd"
   ]
  },
  {
   "cell_type": "raw",
   "id": "363952a9-0639-489c-838f-386f8726cfdd",
   "metadata": {},
   "source": [
    "### Data\n",
    "We collected reaction times of users at three different time of the day (Morning(Gp-1),Afternoon(Gp-2),Night(Gp-3)).\n",
    "        Gp-1 Gp-2 Gp-3\n",
    "user-1  \n",
    "user-2\n",
    "user-3"
   ]
  },
  {
   "cell_type": "code",
   "execution_count": 2,
   "id": "4764b651-6df1-43b8-ae81-d8029b40a6d7",
   "metadata": {},
   "outputs": [
    {
     "data": {
      "text/html": [
       "<div>\n",
       "<style scoped>\n",
       "    .dataframe tbody tr th:only-of-type {\n",
       "        vertical-align: middle;\n",
       "    }\n",
       "\n",
       "    .dataframe tbody tr th {\n",
       "        vertical-align: top;\n",
       "    }\n",
       "\n",
       "    .dataframe thead th {\n",
       "        text-align: right;\n",
       "    }\n",
       "</style>\n",
       "<table border=\"1\" class=\"dataframe\">\n",
       "  <thead>\n",
       "    <tr style=\"text-align: right;\">\n",
       "      <th></th>\n",
       "      <th>Gp-1</th>\n",
       "      <th>Gp-2</th>\n",
       "      <th>Gp-3</th>\n",
       "    </tr>\n",
       "  </thead>\n",
       "  <tbody>\n",
       "    <tr>\n",
       "      <th>0</th>\n",
       "      <td>8.2</td>\n",
       "      <td>10.2</td>\n",
       "      <td>13.5</td>\n",
       "    </tr>\n",
       "    <tr>\n",
       "      <th>1</th>\n",
       "      <td>10.3</td>\n",
       "      <td>9.1</td>\n",
       "      <td>8.4</td>\n",
       "    </tr>\n",
       "    <tr>\n",
       "      <th>2</th>\n",
       "      <td>9.1</td>\n",
       "      <td>13.9</td>\n",
       "      <td>9.6</td>\n",
       "    </tr>\n",
       "    <tr>\n",
       "      <th>3</th>\n",
       "      <td>12.6</td>\n",
       "      <td>14.5</td>\n",
       "      <td>13.8</td>\n",
       "    </tr>\n",
       "    <tr>\n",
       "      <th>4</th>\n",
       "      <td>11.4</td>\n",
       "      <td>9.1</td>\n",
       "      <td>17.4</td>\n",
       "    </tr>\n",
       "    <tr>\n",
       "      <th>5</th>\n",
       "      <td>13.2</td>\n",
       "      <td>16.4</td>\n",
       "      <td>15.3</td>\n",
       "    </tr>\n",
       "  </tbody>\n",
       "</table>\n",
       "</div>"
      ],
      "text/plain": [
       "   Gp-1  Gp-2  Gp-3\n",
       "0   8.2  10.2  13.5\n",
       "1  10.3   9.1   8.4\n",
       "2   9.1  13.9   9.6\n",
       "3  12.6  14.5  13.8\n",
       "4  11.4   9.1  17.4\n",
       "5  13.2  16.4  15.3"
      ]
     },
     "metadata": {},
     "output_type": "display_data"
    }
   ],
   "source": [
    "data = np.array([[8.2,10.2,13.5],[10.3,9.1,8.4],[9.1,13.9,9.6],\n",
    "                            [12.6,14.5,13.8],[11.4,9.1,17.4],[13.2,16.4,15.3]])\n",
    "\n",
    "df = pd.DataFrame(data, columns = ['Gp-1','Gp-2','Gp-3'])\n",
    "display(df)"
   ]
  },
  {
   "cell_type": "code",
   "execution_count": 3,
   "id": "fada3830-340c-4628-9a55-d80a39b712b9",
   "metadata": {},
   "outputs": [
    {
     "data": {
      "text/html": [
       "<div>\n",
       "<style scoped>\n",
       "    .dataframe tbody tr th:only-of-type {\n",
       "        vertical-align: middle;\n",
       "    }\n",
       "\n",
       "    .dataframe tbody tr th {\n",
       "        vertical-align: top;\n",
       "    }\n",
       "\n",
       "    .dataframe thead th {\n",
       "        text-align: right;\n",
       "    }\n",
       "</style>\n",
       "<table border=\"1\" class=\"dataframe\">\n",
       "  <thead>\n",
       "    <tr style=\"text-align: right;\">\n",
       "      <th></th>\n",
       "      <th>Gp-1</th>\n",
       "      <th>Gp-2</th>\n",
       "      <th>Gp-3</th>\n",
       "    </tr>\n",
       "  </thead>\n",
       "  <tbody>\n",
       "    <tr>\n",
       "      <th>count</th>\n",
       "      <td>6.000000</td>\n",
       "      <td>6.000000</td>\n",
       "      <td>6.000000</td>\n",
       "    </tr>\n",
       "    <tr>\n",
       "      <th>mean</th>\n",
       "      <td>10.800000</td>\n",
       "      <td>12.200000</td>\n",
       "      <td>13.000000</td>\n",
       "    </tr>\n",
       "    <tr>\n",
       "      <th>std</th>\n",
       "      <td>1.962651</td>\n",
       "      <td>3.131773</td>\n",
       "      <td>3.413503</td>\n",
       "    </tr>\n",
       "    <tr>\n",
       "      <th>min</th>\n",
       "      <td>8.200000</td>\n",
       "      <td>9.100000</td>\n",
       "      <td>8.400000</td>\n",
       "    </tr>\n",
       "    <tr>\n",
       "      <th>25%</th>\n",
       "      <td>9.400000</td>\n",
       "      <td>9.375000</td>\n",
       "      <td>10.575000</td>\n",
       "    </tr>\n",
       "    <tr>\n",
       "      <th>50%</th>\n",
       "      <td>10.850000</td>\n",
       "      <td>12.050000</td>\n",
       "      <td>13.650000</td>\n",
       "    </tr>\n",
       "    <tr>\n",
       "      <th>75%</th>\n",
       "      <td>12.300000</td>\n",
       "      <td>14.350000</td>\n",
       "      <td>14.925000</td>\n",
       "    </tr>\n",
       "    <tr>\n",
       "      <th>max</th>\n",
       "      <td>13.200000</td>\n",
       "      <td>16.400000</td>\n",
       "      <td>17.400000</td>\n",
       "    </tr>\n",
       "  </tbody>\n",
       "</table>\n",
       "</div>"
      ],
      "text/plain": [
       "            Gp-1       Gp-2       Gp-3\n",
       "count   6.000000   6.000000   6.000000\n",
       "mean   10.800000  12.200000  13.000000\n",
       "std     1.962651   3.131773   3.413503\n",
       "min     8.200000   9.100000   8.400000\n",
       "25%     9.400000   9.375000  10.575000\n",
       "50%    10.850000  12.050000  13.650000\n",
       "75%    12.300000  14.350000  14.925000\n",
       "max    13.200000  16.400000  17.400000"
      ]
     },
     "execution_count": 3,
     "metadata": {},
     "output_type": "execute_result"
    }
   ],
   "source": [
    "df.describe()"
   ]
  },
  {
   "cell_type": "raw",
   "id": "0b420e90-e40e-49e4-8408-b9d0d63f7e28",
   "metadata": {},
   "source": [
    "### Business problem:\n",
    "Is there any significant difference in reaction times between the groups?"
   ]
  },
  {
   "cell_type": "raw",
   "id": "ec425a57-77ef-4cbc-ad42-677b647f7d24",
   "metadata": {},
   "source": [
    "Two-tailed test:\n",
    "H_0: there is no difference between groups\n",
    "H_a: there is significance difference between groups\n",
    "If p < 0.05 reject H_0"
   ]
  },
  {
   "cell_type": "code",
   "execution_count": 4,
   "id": "dd7ef1be-cabf-4ec8-a4b7-e1959bb9ebaa",
   "metadata": {},
   "outputs": [
    {
     "name": "stdout",
     "output_type": "stream",
     "text": [
      "Statistics=2.333, p=0.311\n"
     ]
    }
   ],
   "source": [
    "stat, p = stats.friedmanchisquare(df['Gp-1'], df['Gp-2'], df['Gp-3'])\n",
    "print('Statistics=%.3f, p=%.3f' % (stat, p))"
   ]
  },
  {
   "cell_type": "raw",
   "id": "27fd1a64-27b9-4801-897e-ea3cb808708f",
   "metadata": {},
   "source": [
    "p < 0.05 ~ no, we can not reject H_0\n",
    "there is no difference between groups"
   ]
  },
  {
   "cell_type": "markdown",
   "id": "c461321e-b50d-4a68-aa8b-7490b6902dd8",
   "metadata": {},
   "source": [
    "### Resources\n",
    "1) https://machinelearningmastery.com/nonparametric-statistical-significance-tests-in-python/ <br>\n",
    "2) https://docs.scipy.org/doc/scipy/reference/generated/scipy.stats.friedmanchisquare.html <br>\n",
    "3) https://www.statology.org/friedman-test-python/ <br>"
   ]
  },
  {
   "cell_type": "code",
   "execution_count": null,
   "id": "c32cc29e-0267-4f39-93ee-95c2e878a1f5",
   "metadata": {},
   "outputs": [],
   "source": []
  }
 ],
 "metadata": {
  "kernelspec": {
   "display_name": "Python 3 (ipykernel)",
   "language": "python",
   "name": "python3"
  },
  "language_info": {
   "codemirror_mode": {
    "name": "ipython",
    "version": 3
   },
   "file_extension": ".py",
   "mimetype": "text/x-python",
   "name": "python",
   "nbconvert_exporter": "python",
   "pygments_lexer": "ipython3",
   "version": "3.7.4"
  }
 },
 "nbformat": 4,
 "nbformat_minor": 5
}
