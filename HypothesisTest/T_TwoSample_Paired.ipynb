{
 "cells": [
  {
   "cell_type": "raw",
   "id": "96ab4490-c0ce-4ae5-8b4d-6c5e56874187",
   "metadata": {},
   "source": [
    "1) parametric ~ knows the distribution (normal/gaussian)\n",
    "2) applicable for two samples\n",
    "3) The mean and standard deviation of the population is not known"
   ]
  },
  {
   "cell_type": "code",
   "execution_count": 1,
   "id": "f529f2f9-a731-4c4d-96b2-3f2a672a1fff",
   "metadata": {},
   "outputs": [],
   "source": [
    "import statsmodels.stats.weightstats as statsM\n",
    "from scipy import stats\n",
    "import numpy as np\n",
    "import pandas as pd"
   ]
  },
  {
   "cell_type": "raw",
   "id": "ca9ab799-131b-400f-9c92-92265ab60b08",
   "metadata": {},
   "source": [
    "### Data\n",
    "-- we want to know whether a certain study program significantly impacts student performance on a particular exam.\n",
    "-- To compare the difference between the mean scores on the first and second test."
   ]
  },
  {
   "cell_type": "code",
   "execution_count": 2,
   "id": "9230d014-17be-4da1-8ac0-55f289b191ed",
   "metadata": {},
   "outputs": [
    {
     "data": {
      "text/html": [
       "<div>\n",
       "<style scoped>\n",
       "    .dataframe tbody tr th:only-of-type {\n",
       "        vertical-align: middle;\n",
       "    }\n",
       "\n",
       "    .dataframe tbody tr th {\n",
       "        vertical-align: top;\n",
       "    }\n",
       "\n",
       "    .dataframe thead th {\n",
       "        text-align: right;\n",
       "    }\n",
       "</style>\n",
       "<table border=\"1\" class=\"dataframe\">\n",
       "  <thead>\n",
       "    <tr style=\"text-align: right;\">\n",
       "      <th></th>\n",
       "      <th>Before</th>\n",
       "      <th>After</th>\n",
       "    </tr>\n",
       "  </thead>\n",
       "  <tbody>\n",
       "    <tr>\n",
       "      <th>0</th>\n",
       "      <td>88</td>\n",
       "      <td>91</td>\n",
       "    </tr>\n",
       "    <tr>\n",
       "      <th>1</th>\n",
       "      <td>82</td>\n",
       "      <td>84</td>\n",
       "    </tr>\n",
       "    <tr>\n",
       "      <th>2</th>\n",
       "      <td>84</td>\n",
       "      <td>88</td>\n",
       "    </tr>\n",
       "    <tr>\n",
       "      <th>3</th>\n",
       "      <td>93</td>\n",
       "      <td>90</td>\n",
       "    </tr>\n",
       "    <tr>\n",
       "      <th>4</th>\n",
       "      <td>75</td>\n",
       "      <td>79</td>\n",
       "    </tr>\n",
       "  </tbody>\n",
       "</table>\n",
       "</div>"
      ],
      "text/plain": [
       "   Before  After\n",
       "0      88     91\n",
       "1      82     84\n",
       "2      84     88\n",
       "3      93     90\n",
       "4      75     79"
      ]
     },
     "metadata": {},
     "output_type": "display_data"
    }
   ],
   "source": [
    "data = np.array([[88,91],[82,84],[84,88],[93, 90],[75,79],[78,80],[84,88],\n",
    "                 [87,90],[95,90],[91,96],[83,88],[89,89],[77,81],[68,74],[91,92]])\n",
    "\n",
    "df = pd.DataFrame(data, columns = ['Before','After'])\n",
    "display(df.head(5))"
   ]
  },
  {
   "cell_type": "raw",
   "id": "48435400-9c23-4c84-88d4-d91937a1d270",
   "metadata": {},
   "source": [
    "Two-tailed test:\n",
    "H_0: Before_μ = After_μ\n",
    "H_a: Before_μ != After_μ"
   ]
  },
  {
   "cell_type": "code",
   "execution_count": 4,
   "id": "68a18c9c-1a81-4d2c-8540-f83a43201c68",
   "metadata": {},
   "outputs": [
    {
     "name": "stdout",
     "output_type": "stream",
     "text": [
      "0.01007144862643272\n"
     ]
    }
   ],
   "source": [
    "stat, p_val = stats.ttest_rel(a=df['Before'], b=df['After'], alternative='two-sided')\n",
    "print(p_val)"
   ]
  },
  {
   "cell_type": "raw",
   "id": "94a77193-8649-494f-a574-57f7af78a803",
   "metadata": {},
   "source": [
    "p_val < 0.05 ~ yes, so reject H_0\n",
    "so, Before_μ != After_μ"
   ]
  },
  {
   "cell_type": "raw",
   "id": "80bd1535-5f8e-472b-b876-7493f964e294",
   "metadata": {},
   "source": [
    "Now, we want to know the direction of the effect/change (test)\n",
    "Before_μ > After_μ\n",
    "So,\n",
    "Right-tailed:\n",
    "    diff = Before_μ - After_μ ~ diff > 0\n",
    "    so,\n",
    "    H_a: Before_μ > After_μ"
   ]
  },
  {
   "cell_type": "raw",
   "id": "82006f65-d70c-4fc4-9d31-93aaeb704b5b",
   "metadata": {},
   "source": [
    "Right-tailed test:\n",
    "H_0: Before_μ <= After_μ\n",
    "H_a: Before_μ > After_μ"
   ]
  },
  {
   "cell_type": "code",
   "execution_count": 5,
   "id": "e21487d3-e511-43f6-a32f-33e3e0fe5ffc",
   "metadata": {},
   "outputs": [
    {
     "name": "stdout",
     "output_type": "stream",
     "text": [
      "0.9949642756867836\n"
     ]
    }
   ],
   "source": [
    "stat, p_val = stats.ttest_rel(a=df['Before'], b=df['After'], alternative='greater')\n",
    "print(p_val)"
   ]
  },
  {
   "cell_type": "raw",
   "id": "edb40928-1b15-4822-890a-ef2bd796dfbf",
   "metadata": {},
   "source": [
    "p_val < 0.05 ~ no, so failed to reject H_0\n",
    "Before_μ <= After_μ"
   ]
  },
  {
   "cell_type": "raw",
   "id": "f1035bcc-fe00-4e2d-8342-c4416da29f69",
   "metadata": {},
   "source": [
    "Now, let's take another angle to solve the problem ==>"
   ]
  },
  {
   "cell_type": "raw",
   "id": "e3278d22-85b1-4fde-a616-7ce2c913d595",
   "metadata": {},
   "source": [
    "Now, we want to know the direction of the effect/change (test)\n",
    "Before_μ < After_μ\n",
    "So,\n",
    "Left-tailed:\n",
    "    diff = Before_μ - After_μ ~ diff < 0\n",
    "    so,\n",
    "    H_a: Before_μ < After_μ"
   ]
  },
  {
   "cell_type": "code",
   "execution_count": 6,
   "id": "86f20dfa-e923-4c72-be1d-e85cb0fb7a3d",
   "metadata": {},
   "outputs": [
    {
     "name": "stdout",
     "output_type": "stream",
     "text": [
      "0.00503572431321636\n"
     ]
    }
   ],
   "source": [
    "stat, p_val = stats.ttest_rel(a=df['Before'], b=df['After'], alternative='less')\n",
    "print(p_val)"
   ]
  },
  {
   "cell_type": "raw",
   "id": "e42a2d37-a6b3-4f54-9d84-0ee21d0db2c8",
   "metadata": {},
   "source": [
    "p_val < 0.05 ~ yes, so reject H_0\n",
    "Before_μ < After_μ"
   ]
  },
  {
   "cell_type": "markdown",
   "id": "83d49edc-2b48-456a-98fb-3fe1aebab2e8",
   "metadata": {},
   "source": [
    "### Resources\n",
    "1) https://docs.scipy.org/doc/scipy/reference/generated/scipy.stats.ttest_rel.html <br>\n",
    "2) https://www.statology.org/paired-samples-t-test-python/ <br>"
   ]
  },
  {
   "cell_type": "code",
   "execution_count": null,
   "id": "a608c20e-6ea8-4895-95fd-77fe16d2d946",
   "metadata": {},
   "outputs": [],
   "source": []
  }
 ],
 "metadata": {
  "kernelspec": {
   "display_name": "Python 3 (ipykernel)",
   "language": "python",
   "name": "python3"
  },
  "language_info": {
   "codemirror_mode": {
    "name": "ipython",
    "version": 3
   },
   "file_extension": ".py",
   "mimetype": "text/x-python",
   "name": "python",
   "nbconvert_exporter": "python",
   "pygments_lexer": "ipython3",
   "version": "3.7.4"
  }
 },
 "nbformat": 4,
 "nbformat_minor": 5
}
