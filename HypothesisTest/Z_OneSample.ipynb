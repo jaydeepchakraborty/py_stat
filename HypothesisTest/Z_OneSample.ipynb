{
 "cells": [
  {
   "cell_type": "raw",
   "id": "0e783ed1-096f-4c1c-a0bd-7e6fb9641c69",
   "metadata": {},
   "source": [
    "1) parametric ~ knows the distribution (normal/gaussian)\n",
    "2) applicable for one samples\n",
    "3) The mean and standard deviation of the population is known"
   ]
  },
  {
   "cell_type": "code",
   "execution_count": 25,
   "id": "3fda4aee-e8c6-4d3b-9a01-18d268f5d8f6",
   "metadata": {},
   "outputs": [],
   "source": [
    "import statsmodels.stats.weightstats as statsM\n",
    "from scipy import stats\n",
    "import numpy as np\n",
    "import pandas as pd"
   ]
  },
  {
   "cell_type": "raw",
   "id": "ac125ef2-4b42-4351-9684-829ae9e0a426",
   "metadata": {},
   "source": [
    "### Data\n",
    "-- Suppose the IQ in a certain population is normally distributed \n",
    "with a mean of μ = 100 and standard deviation of σ = 15.\n",
    "\n",
    "-- A researcher wants to know if a new drug affects IQ levels, so he \n",
    "recruits 20 patients to try it and records their IQ levels.\n",
    "\n",
    "-- A researcher wants to know if a new drug affects IQ levels, so he \n",
    "recruits 20 patients to try it and records their IQ levels."
   ]
  },
  {
   "cell_type": "code",
   "execution_count": 26,
   "id": "e7b164ee-4190-48c7-be7d-5612d473aaf4",
   "metadata": {},
   "outputs": [
    {
     "data": {
      "text/html": [
       "<div>\n",
       "<style scoped>\n",
       "    .dataframe tbody tr th:only-of-type {\n",
       "        vertical-align: middle;\n",
       "    }\n",
       "\n",
       "    .dataframe tbody tr th {\n",
       "        vertical-align: top;\n",
       "    }\n",
       "\n",
       "    .dataframe thead th {\n",
       "        text-align: right;\n",
       "    }\n",
       "</style>\n",
       "<table border=\"1\" class=\"dataframe\">\n",
       "  <thead>\n",
       "    <tr style=\"text-align: right;\">\n",
       "      <th></th>\n",
       "      <th>IQ</th>\n",
       "    </tr>\n",
       "  </thead>\n",
       "  <tbody>\n",
       "    <tr>\n",
       "      <th>0</th>\n",
       "      <td>139</td>\n",
       "    </tr>\n",
       "    <tr>\n",
       "      <th>1</th>\n",
       "      <td>158</td>\n",
       "    </tr>\n",
       "    <tr>\n",
       "      <th>2</th>\n",
       "      <td>153</td>\n",
       "    </tr>\n",
       "    <tr>\n",
       "      <th>3</th>\n",
       "      <td>146</td>\n",
       "    </tr>\n",
       "    <tr>\n",
       "      <th>4</th>\n",
       "      <td>140</td>\n",
       "    </tr>\n",
       "    <tr>\n",
       "      <th>5</th>\n",
       "      <td>147</td>\n",
       "    </tr>\n",
       "    <tr>\n",
       "      <th>6</th>\n",
       "      <td>155</td>\n",
       "    </tr>\n",
       "    <tr>\n",
       "      <th>7</th>\n",
       "      <td>151</td>\n",
       "    </tr>\n",
       "    <tr>\n",
       "      <th>8</th>\n",
       "      <td>147</td>\n",
       "    </tr>\n",
       "    <tr>\n",
       "      <th>9</th>\n",
       "      <td>157</td>\n",
       "    </tr>\n",
       "    <tr>\n",
       "      <th>10</th>\n",
       "      <td>161</td>\n",
       "    </tr>\n",
       "    <tr>\n",
       "      <th>11</th>\n",
       "      <td>161</td>\n",
       "    </tr>\n",
       "    <tr>\n",
       "      <th>12</th>\n",
       "      <td>136</td>\n",
       "    </tr>\n",
       "    <tr>\n",
       "      <th>13</th>\n",
       "      <td>161</td>\n",
       "    </tr>\n",
       "    <tr>\n",
       "      <th>14</th>\n",
       "      <td>146</td>\n",
       "    </tr>\n",
       "    <tr>\n",
       "      <th>15</th>\n",
       "      <td>158</td>\n",
       "    </tr>\n",
       "    <tr>\n",
       "      <th>16</th>\n",
       "      <td>140</td>\n",
       "    </tr>\n",
       "    <tr>\n",
       "      <th>17</th>\n",
       "      <td>135</td>\n",
       "    </tr>\n",
       "    <tr>\n",
       "      <th>18</th>\n",
       "      <td>151</td>\n",
       "    </tr>\n",
       "    <tr>\n",
       "      <th>19</th>\n",
       "      <td>161</td>\n",
       "    </tr>\n",
       "  </tbody>\n",
       "</table>\n",
       "</div>"
      ],
      "text/plain": [
       "     IQ\n",
       "0   139\n",
       "1   158\n",
       "2   153\n",
       "3   146\n",
       "4   140\n",
       "5   147\n",
       "6   155\n",
       "7   151\n",
       "8   147\n",
       "9   157\n",
       "10  161\n",
       "11  161\n",
       "12  136\n",
       "13  161\n",
       "14  146\n",
       "15  158\n",
       "16  140\n",
       "17  135\n",
       "18  151\n",
       "19  161"
      ]
     },
     "metadata": {},
     "output_type": "display_data"
    }
   ],
   "source": [
    "data = [139, 158, 153, 146, 140, 147, 155, 151, 147, 157,\n",
    "        161, 161, 136, 161, 146, 158, 140, 135, 151, 161]\n",
    "\n",
    "df = pd.DataFrame(data, columns = ['IQ'])\n",
    "display(df)"
   ]
  },
  {
   "cell_type": "code",
   "execution_count": 27,
   "id": "6f2ebbd7-a62e-4564-adbe-933e7f809b9d",
   "metadata": {},
   "outputs": [
    {
     "data": {
      "text/html": [
       "<div>\n",
       "<style scoped>\n",
       "    .dataframe tbody tr th:only-of-type {\n",
       "        vertical-align: middle;\n",
       "    }\n",
       "\n",
       "    .dataframe tbody tr th {\n",
       "        vertical-align: top;\n",
       "    }\n",
       "\n",
       "    .dataframe thead th {\n",
       "        text-align: right;\n",
       "    }\n",
       "</style>\n",
       "<table border=\"1\" class=\"dataframe\">\n",
       "  <thead>\n",
       "    <tr style=\"text-align: right;\">\n",
       "      <th></th>\n",
       "      <th>IQ</th>\n",
       "    </tr>\n",
       "  </thead>\n",
       "  <tbody>\n",
       "    <tr>\n",
       "      <th>count</th>\n",
       "      <td>20.000000</td>\n",
       "    </tr>\n",
       "    <tr>\n",
       "      <th>mean</th>\n",
       "      <td>150.150000</td>\n",
       "    </tr>\n",
       "    <tr>\n",
       "      <th>std</th>\n",
       "      <td>8.851256</td>\n",
       "    </tr>\n",
       "    <tr>\n",
       "      <th>min</th>\n",
       "      <td>135.000000</td>\n",
       "    </tr>\n",
       "    <tr>\n",
       "      <th>25%</th>\n",
       "      <td>144.500000</td>\n",
       "    </tr>\n",
       "    <tr>\n",
       "      <th>50%</th>\n",
       "      <td>151.000000</td>\n",
       "    </tr>\n",
       "    <tr>\n",
       "      <th>75%</th>\n",
       "      <td>158.000000</td>\n",
       "    </tr>\n",
       "    <tr>\n",
       "      <th>max</th>\n",
       "      <td>161.000000</td>\n",
       "    </tr>\n",
       "  </tbody>\n",
       "</table>\n",
       "</div>"
      ],
      "text/plain": [
       "               IQ\n",
       "count   20.000000\n",
       "mean   150.150000\n",
       "std      8.851256\n",
       "min    135.000000\n",
       "25%    144.500000\n",
       "50%    151.000000\n",
       "75%    158.000000\n",
       "max    161.000000"
      ]
     },
     "execution_count": 27,
     "metadata": {},
     "output_type": "execute_result"
    }
   ],
   "source": [
    "df.describe()"
   ]
  },
  {
   "cell_type": "code",
   "execution_count": 28,
   "id": "ab2a686c-9d7d-4a18-b2cd-df50fba5f7b7",
   "metadata": {},
   "outputs": [
    {
     "name": "stdout",
     "output_type": "stream",
     "text": [
      "0.08359934389591217 ~ normally distributed\n"
     ]
    }
   ],
   "source": [
    "# shapiro test for normality\n",
    "# H_0: normally distributed\n",
    "# H_a: not normally distributed\n",
    "stat, p_val = stats.shapiro(df['IQ'])\n",
    "if p_val<0.05:\n",
    "    print(f'{p_val} ~ not normally distributed')\n",
    "else:\n",
    "    print(f'{p_val} ~ normally distributed')"
   ]
  },
  {
   "cell_type": "raw",
   "id": "d7c31314-2853-4b7a-a59c-95f66e65beb1",
   "metadata": {},
   "source": [
    "### Business problem:\n",
    "Is there any effect of drug on IQ lvl?"
   ]
  },
  {
   "cell_type": "raw",
   "id": "84e14c34-d590-4627-8179-b51ab7fcee33",
   "metadata": {},
   "source": [
    "Two-tailed test:\n",
    "H_0: After drug, the μ = 100\n",
    "H_a: After drug, the μ != 100"
   ]
  },
  {
   "cell_type": "code",
   "execution_count": 29,
   "id": "69c9fd7b-b4a3-4b11-a951-db784d082858",
   "metadata": {},
   "outputs": [
    {
     "name": "stdout",
     "output_type": "stream",
     "text": [
      "1.2030510719058064e-141\n"
     ]
    }
   ],
   "source": [
    "z_score, p_val = statsM.ztest(df['IQ'], x2=None, value=100, alternative=\"two-sided\")\n",
    "print(p_val)"
   ]
  },
  {
   "cell_type": "raw",
   "id": "9c606275-2cb9-45a1-baef-c9af91f87988",
   "metadata": {},
   "source": [
    "p_val < 0.05 ~ yes, so reject H_0\n",
    "so, After drug, the μ != 100 In other words, the new drug does have significantly affect IQ level."
   ]
  },
  {
   "cell_type": "raw",
   "id": "652fc7c1-f97d-41d3-832e-72209800ee1f",
   "metadata": {},
   "source": [
    "Now, we want to know the direction of the effect (drug)\n",
    "μ > 100\n",
    "So,\n",
    "Right-tailed:\n",
    "    H_a: μ > 100"
   ]
  },
  {
   "cell_type": "code",
   "execution_count": 30,
   "id": "8d0188aa-86dd-4ec8-87fb-979ab8d985b2",
   "metadata": {},
   "outputs": [
    {
     "name": "stdout",
     "output_type": "stream",
     "text": [
      "6.015255359529032e-142\n"
     ]
    }
   ],
   "source": [
    "z_score, p_val = statsM.ztest(df['IQ'], x2=None, value=100, alternative=\"larger\")\n",
    "print(p_val)"
   ]
  },
  {
   "cell_type": "raw",
   "id": "9bab1e59-cf5e-488b-8e84-a3ee07a37b10",
   "metadata": {},
   "source": [
    "p_val < 0.05 ~ yes, so reject H_0\n",
    "so μ > 100"
   ]
  },
  {
   "cell_type": "raw",
   "id": "90958cbb-368e-4cd8-8174-ef053a741c51",
   "metadata": {},
   "source": [
    "Now, let's take another angle to solve the problem ==>"
   ]
  },
  {
   "cell_type": "raw",
   "id": "4039ed43-2c81-4add-8b2e-aec074e3552c",
   "metadata": {},
   "source": [
    "Now, we want to know the direction of the effect (drug)\n",
    "μ < 100\n",
    "So,\n",
    "Left-tailed:\n",
    "    H_a: μ < 100"
   ]
  },
  {
   "cell_type": "code",
   "execution_count": 31,
   "id": "c05c67e6-5aea-4357-92c0-f38f07baf69f",
   "metadata": {},
   "outputs": [
    {
     "name": "stdout",
     "output_type": "stream",
     "text": [
      "1.0\n"
     ]
    }
   ],
   "source": [
    "z_score, p_val = statsM.ztest(df['IQ'], x2=None, value=100, alternative=\"smaller\")\n",
    "print(p_val)"
   ]
  },
  {
   "cell_type": "raw",
   "id": "c2c3e5df-42f0-4fb2-b095-156197eb7106",
   "metadata": {},
   "source": [
    "p_val < 0.05 ~ no, so failed to reject H_0\n",
    "so μ >= 100"
   ]
  },
  {
   "cell_type": "markdown",
   "id": "c446bebe-3ca5-4c5a-843f-5e45c567bc31",
   "metadata": {},
   "source": [
    "### Resources\n",
    "1) https://sixsigmastudyguide.com/one-sample-z-hypothesis-test/ <br>\n",
    "2) https://www.educba.com/python-z-test/ <br>\n",
    "3) https://www.statology.org/one-sample-z-test/ <br>\n",
    "4) https://www.cuemath.com/data/z-test/ <br>"
   ]
  },
  {
   "cell_type": "code",
   "execution_count": null,
   "id": "7f15bcd9-ca39-4177-abbc-1f225b9a6a59",
   "metadata": {},
   "outputs": [],
   "source": []
  }
 ],
 "metadata": {
  "kernelspec": {
   "display_name": "Python 3 (ipykernel)",
   "language": "python",
   "name": "python3"
  },
  "language_info": {
   "codemirror_mode": {
    "name": "ipython",
    "version": 3
   },
   "file_extension": ".py",
   "mimetype": "text/x-python",
   "name": "python",
   "nbconvert_exporter": "python",
   "pygments_lexer": "ipython3",
   "version": "3.7.4"
  }
 },
 "nbformat": 4,
 "nbformat_minor": 5
}
