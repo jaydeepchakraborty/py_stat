{
 "cells": [
  {
   "cell_type": "raw",
   "id": "29f389e6-e18e-4738-9ae2-890ba3911842",
   "metadata": {},
   "source": [
    "1) non-parametric ~ do not know the distribution (normal/gaussian)\n",
    "2) paired samples (can not change the order of values)\n",
    "3) applicable for two samples"
   ]
  },
  {
   "cell_type": "code",
   "execution_count": 4,
   "id": "646d6438-e102-4131-9f38-52e90852d94b",
   "metadata": {},
   "outputs": [],
   "source": [
    "from scipy import stats\n",
    "import numpy as np\n",
    "import pandas as pd"
   ]
  },
  {
   "cell_type": "raw",
   "id": "de48bff6-0726-461c-bf70-f1b479f08a21",
   "metadata": {},
   "source": [
    "### Data\n",
    "We collected blood pressures before medication and after medication."
   ]
  },
  {
   "cell_type": "code",
   "execution_count": 12,
   "id": "1cd84549-a111-479c-966f-906888463f97",
   "metadata": {},
   "outputs": [
    {
     "data": {
      "text/html": [
       "<div>\n",
       "<style scoped>\n",
       "    .dataframe tbody tr th:only-of-type {\n",
       "        vertical-align: middle;\n",
       "    }\n",
       "\n",
       "    .dataframe tbody tr th {\n",
       "        vertical-align: top;\n",
       "    }\n",
       "\n",
       "    .dataframe thead th {\n",
       "        text-align: right;\n",
       "    }\n",
       "</style>\n",
       "<table border=\"1\" class=\"dataframe\">\n",
       "  <thead>\n",
       "    <tr style=\"text-align: right;\">\n",
       "      <th></th>\n",
       "      <th>Before</th>\n",
       "      <th>After</th>\n",
       "    </tr>\n",
       "  </thead>\n",
       "  <tbody>\n",
       "    <tr>\n",
       "      <th>0</th>\n",
       "      <td>85</td>\n",
       "      <td>75</td>\n",
       "    </tr>\n",
       "    <tr>\n",
       "      <th>1</th>\n",
       "      <td>70</td>\n",
       "      <td>50</td>\n",
       "    </tr>\n",
       "    <tr>\n",
       "      <th>2</th>\n",
       "      <td>40</td>\n",
       "      <td>45</td>\n",
       "    </tr>\n",
       "    <tr>\n",
       "      <th>3</th>\n",
       "      <td>65</td>\n",
       "      <td>40</td>\n",
       "    </tr>\n",
       "    <tr>\n",
       "      <th>4</th>\n",
       "      <td>80</td>\n",
       "      <td>20</td>\n",
       "    </tr>\n",
       "    <tr>\n",
       "      <th>5</th>\n",
       "      <td>75</td>\n",
       "      <td>65</td>\n",
       "    </tr>\n",
       "    <tr>\n",
       "      <th>6</th>\n",
       "      <td>55</td>\n",
       "      <td>40</td>\n",
       "    </tr>\n",
       "    <tr>\n",
       "      <th>7</th>\n",
       "      <td>20</td>\n",
       "      <td>25</td>\n",
       "    </tr>\n",
       "  </tbody>\n",
       "</table>\n",
       "</div>"
      ],
      "text/plain": [
       "   Before  After\n",
       "0      85     75\n",
       "1      70     50\n",
       "2      40     45\n",
       "3      65     40\n",
       "4      80     20\n",
       "5      75     65\n",
       "6      55     40\n",
       "7      20     25"
      ]
     },
     "metadata": {},
     "output_type": "display_data"
    }
   ],
   "source": [
    "data = np.array([[85,75],[70,50],[40,45],\n",
    "                            [65,40],[80,20],[75,65],\n",
    "                            [55,40],[20,25]])\n",
    "\n",
    "df = pd.DataFrame(data, columns = ['Before','After'])\n",
    "display(df)"
   ]
  },
  {
   "cell_type": "code",
   "execution_count": 13,
   "id": "b636cc8b-e09d-48dc-aeb8-c1c2e38db9fa",
   "metadata": {},
   "outputs": [
    {
     "data": {
      "text/html": [
       "<div>\n",
       "<style scoped>\n",
       "    .dataframe tbody tr th:only-of-type {\n",
       "        vertical-align: middle;\n",
       "    }\n",
       "\n",
       "    .dataframe tbody tr th {\n",
       "        vertical-align: top;\n",
       "    }\n",
       "\n",
       "    .dataframe thead th {\n",
       "        text-align: right;\n",
       "    }\n",
       "</style>\n",
       "<table border=\"1\" class=\"dataframe\">\n",
       "  <thead>\n",
       "    <tr style=\"text-align: right;\">\n",
       "      <th></th>\n",
       "      <th>Before</th>\n",
       "      <th>After</th>\n",
       "    </tr>\n",
       "  </thead>\n",
       "  <tbody>\n",
       "    <tr>\n",
       "      <th>count</th>\n",
       "      <td>8.000000</td>\n",
       "      <td>8.000000</td>\n",
       "    </tr>\n",
       "    <tr>\n",
       "      <th>mean</th>\n",
       "      <td>61.250000</td>\n",
       "      <td>45.000000</td>\n",
       "    </tr>\n",
       "    <tr>\n",
       "      <th>std</th>\n",
       "      <td>21.998377</td>\n",
       "      <td>18.516402</td>\n",
       "    </tr>\n",
       "    <tr>\n",
       "      <th>min</th>\n",
       "      <td>20.000000</td>\n",
       "      <td>20.000000</td>\n",
       "    </tr>\n",
       "    <tr>\n",
       "      <th>25%</th>\n",
       "      <td>51.250000</td>\n",
       "      <td>36.250000</td>\n",
       "    </tr>\n",
       "    <tr>\n",
       "      <th>50%</th>\n",
       "      <td>67.500000</td>\n",
       "      <td>42.500000</td>\n",
       "    </tr>\n",
       "    <tr>\n",
       "      <th>75%</th>\n",
       "      <td>76.250000</td>\n",
       "      <td>53.750000</td>\n",
       "    </tr>\n",
       "    <tr>\n",
       "      <th>max</th>\n",
       "      <td>85.000000</td>\n",
       "      <td>75.000000</td>\n",
       "    </tr>\n",
       "  </tbody>\n",
       "</table>\n",
       "</div>"
      ],
      "text/plain": [
       "          Before      After\n",
       "count   8.000000   8.000000\n",
       "mean   61.250000  45.000000\n",
       "std    21.998377  18.516402\n",
       "min    20.000000  20.000000\n",
       "25%    51.250000  36.250000\n",
       "50%    67.500000  42.500000\n",
       "75%    76.250000  53.750000\n",
       "max    85.000000  75.000000"
      ]
     },
     "execution_count": 13,
     "metadata": {},
     "output_type": "execute_result"
    }
   ],
   "source": [
    "df.describe()"
   ]
  },
  {
   "cell_type": "raw",
   "id": "b33a8d76-a1f3-47a8-9d3d-1c5bea76c033",
   "metadata": {},
   "source": [
    "wilcoxon(x, y, alternative={“two-sided”, “greater”, “less”})\n",
    "\n",
    "\"alternative\" defines the alternative hypothesis.\n",
    "\"two-sided\":\n",
    "    alternative hypothesis is x and y are not similar\n",
    "\"less\":\n",
    "    alternative hypothesis is x is less than y\n",
    "\"greater\":\n",
    "    alternative hypothesis is x is greater than y"
   ]
  },
  {
   "cell_type": "raw",
   "id": "807d7d14-4586-439c-bd53-b74264290b7e",
   "metadata": {},
   "source": [
    "let diff represent the difference between the paired samples: \n",
    "diff = x - y if both x and y are provided, \n",
    "or diff = x otherwise.\n",
    "‘two-sided’: the distribution underlying d is not symmetric about zero.\n",
    "‘less’: the distribution underlying d is stochastically less than a distribution symmetric about zero.\n",
    "‘greater’: the distribution underlying d is stochastically greater than a distribution symmetric about zero."
   ]
  },
  {
   "cell_type": "raw",
   "id": "c06c4297-6dc1-4610-80f1-880cf02c670b",
   "metadata": {},
   "source": [
    "### Business problem:\n",
    "Is there any effect of medication on blood pressure?"
   ]
  },
  {
   "cell_type": "raw",
   "id": "0111dd6b-bc80-404c-a4f1-28a5e734789b",
   "metadata": {},
   "source": [
    "Two-tailed test:\n",
    "H_0: there is no difference between 'Before' and 'After'\n",
    "H_a: there is significance difference between 'Before' and 'After'"
   ]
  },
  {
   "cell_type": "code",
   "execution_count": 14,
   "id": "4d063d84-2852-4eae-863f-6f906c400704",
   "metadata": {},
   "outputs": [
    {
     "name": "stdout",
     "output_type": "stream",
     "text": [
      "0.0390625\n"
     ]
    }
   ],
   "source": [
    "statistic, p_val = stats.wilcoxon(df['Before'], df['After'], alternative='two-sided')\n",
    "print(p_val)"
   ]
  },
  {
   "cell_type": "raw",
   "id": "7c84617c-b86b-4f8d-b4e1-0abae63365c5",
   "metadata": {},
   "source": [
    "p_val < 0.05 ~ yes, so reject H_0\n",
    "there is significant difference between (Before - After) distribution"
   ]
  },
  {
   "cell_type": "code",
   "execution_count": null,
   "id": "d214f80e-694b-4020-9146-e4648d6e63e6",
   "metadata": {},
   "outputs": [],
   "source": [
    "Now, we want to know the direction of the effect (medication)\n",
    "Before > After == medication reduced the blood pressure\n",
    "So,\n",
    "Right-tailed:\n",
    "    diff = Before - After ~ diff > 0\n",
    "    so,\n",
    "    H_a: diff > 0"
   ]
  },
  {
   "cell_type": "raw",
   "id": "d953d4a9-3408-4422-8c5e-64f71db0572c",
   "metadata": {},
   "source": [
    "Right Tailed:\n",
    "Before~x, After~y: diff = x-y\n",
    "H_0: Before <= After\n",
    "H_a: Before > After\n",
    "If p < 0.05 reject H_0"
   ]
  },
  {
   "cell_type": "code",
   "execution_count": 15,
   "id": "a9ac2be0-46ab-4ef1-85ef-91f5286c9be4",
   "metadata": {},
   "outputs": [
    {
     "name": "stdout",
     "output_type": "stream",
     "text": [
      "0.01953125\n"
     ]
    }
   ],
   "source": [
    "statistic, p_val = stats.wilcoxon(df['Before'], df['After'], alternative='greater')\n",
    "print(p_val)"
   ]
  },
  {
   "cell_type": "raw",
   "id": "2daca9fc-8e6c-4ccd-902f-442db3863a6f",
   "metadata": {},
   "source": [
    "p_val < 0.05 ~ yes, so reject H_0\n",
    "so Before (med) blood pressure is greater than After (med)"
   ]
  },
  {
   "cell_type": "raw",
   "id": "8ac39914-9988-42d7-96e3-654a86e40c76",
   "metadata": {},
   "source": [
    "Now, let's take another angle to solve the problem ==>"
   ]
  },
  {
   "cell_type": "raw",
   "id": "002d002f-8a1f-4178-9846-e8bbb17a10f2",
   "metadata": {},
   "source": [
    "Now, we want to know the direction of the effect (medication)\n",
    "Before < After == medication increased the blood pressure\n",
    "So,\n",
    "Left-tailed:\n",
    "    diff = Before - After ~ diff < 0\n",
    "    so,\n",
    "    H_a: diff < 0"
   ]
  },
  {
   "cell_type": "code",
   "execution_count": null,
   "id": "3928d7e5-f424-48ea-9523-e52e5a796536",
   "metadata": {},
   "outputs": [],
   "source": [
    "Left Tailed:\n",
    "Before~x, After~y: diff = x-y\n",
    "H_0: Before >= After\n",
    "H_a: Before < After\n",
    "If p < 0.05 reject H_0"
   ]
  },
  {
   "cell_type": "code",
   "execution_count": 16,
   "id": "d0c0a2ef-705f-465b-989e-cec63c37ad4d",
   "metadata": {},
   "outputs": [
    {
     "name": "stdout",
     "output_type": "stream",
     "text": [
      "0.98828125\n"
     ]
    }
   ],
   "source": [
    "statistic, p_val = stats.wilcoxon(df['Before'], df['After'], alternative='less')\n",
    "print(p_val)"
   ]
  },
  {
   "cell_type": "raw",
   "id": "80e8c4bf-b290-487a-b18c-a7eb530f4b7e",
   "metadata": {},
   "source": [
    "p_val < 0.05 ~ no, so failed to reject H_0\n",
    "so Before (med) blood pressure is greater than After (med)"
   ]
  },
  {
   "cell_type": "markdown",
   "id": "6f0bcea7-2da8-4946-a8d7-695275cf8b45",
   "metadata": {},
   "source": [
    "### Resources\n",
    "1) https://docs.scipy.org/doc/scipy/reference/generated/scipy.stats.wilcoxon.html <br>\n",
    "2) https://sphweb.bumc.bu.edu/otlt/mph-modules/bs/bs704_nonparametric/BS704_Nonparametric6.html <br>\n",
    "3) https://sixsigmastudyguide.com/1-sample-wilcoxon-non-parametric-hypothesis-test/ <br>\n",
    "4) https://www.youtube.com/watch?v=TqCg2tb4wJ0 <br>\n",
    "5) https://stats.oarc.ucla.edu/other/mult-pkg/faq/general/faq-what-are-the-differences-between-one-tailed-and-two-tailed-tests/ <br>\n",
    "6) https://sixsigmastudyguide.com/tailed-hypothesis-tests/ <br>\n",
    "7) https://machinelearningmastery.com/nonparametric-statistical-significance-tests-in-python/ <br>"
   ]
  }
 ],
 "metadata": {
  "kernelspec": {
   "display_name": "Python 3 (ipykernel)",
   "language": "python",
   "name": "python3"
  },
  "language_info": {
   "codemirror_mode": {
    "name": "ipython",
    "version": 3
   },
   "file_extension": ".py",
   "mimetype": "text/x-python",
   "name": "python",
   "nbconvert_exporter": "python",
   "pygments_lexer": "ipython3",
   "version": "3.7.4"
  }
 },
 "nbformat": 4,
 "nbformat_minor": 5
}
